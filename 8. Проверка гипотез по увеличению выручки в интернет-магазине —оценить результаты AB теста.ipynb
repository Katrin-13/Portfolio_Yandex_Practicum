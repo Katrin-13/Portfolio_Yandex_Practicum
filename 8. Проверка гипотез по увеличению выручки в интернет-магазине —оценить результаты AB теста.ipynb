{
 "cells": [
  {
   "cell_type": "markdown",
   "metadata": {},
   "source": [
    "## Анализ убытков приложения ProcrastinatePRO+"
   ]
  },
  {
   "cell_type": "markdown",
   "metadata": {},
   "source": [
    "**В крупном интернет магазине нам надо, на основании списка подготовленных гипотез для увеличения выручки, приоритизировать гипотезы, запустить A/B-тест и проанализировать результаты.** \n",
    "\n",
    "**Для этого мы сделали:**"
   ]
  },
  {
   "cell_type": "markdown",
   "metadata": {},
   "source": [
    "**Часть 1. Обработка данных и приоритизация гипотез.**"
   ]
  },
  {
   "cell_type": "markdown",
   "metadata": {},
   "source": [
    "1.1. Загрузим данные и подготовим их к приоритизация гипотез"
   ]
  },
  {
   "cell_type": "markdown",
   "metadata": {},
   "source": [
    "Импортиуем бибиотеки."
   ]
  },
  {
   "cell_type": "code",
   "execution_count": 1,
   "metadata": {},
   "outputs": [],
   "source": [
    "import numpy as np\n",
    "import pandas as pd\n",
    "import datetime as dt\n",
    "import matplotlib.pyplot as plt\n",
    "import scipy.stats as stats"
   ]
  },
  {
   "cell_type": "markdown",
   "metadata": {},
   "source": [
    "Изучим датасет /datasets/hypothesis.csv, назовем его hypothesis. "
   ]
  },
  {
   "cell_type": "code",
   "execution_count": 2,
   "metadata": {},
   "outputs": [
    {
     "data": {
      "text/html": [
       "<div>\n",
       "<style scoped>\n",
       "    .dataframe tbody tr th:only-of-type {\n",
       "        vertical-align: middle;\n",
       "    }\n",
       "\n",
       "    .dataframe tbody tr th {\n",
       "        vertical-align: top;\n",
       "    }\n",
       "\n",
       "    .dataframe thead th {\n",
       "        text-align: right;\n",
       "    }\n",
       "</style>\n",
       "<table border=\"1\" class=\"dataframe\">\n",
       "  <thead>\n",
       "    <tr style=\"text-align: right;\">\n",
       "      <th></th>\n",
       "      <th>Hypothesis</th>\n",
       "      <th>Reach</th>\n",
       "      <th>Impact</th>\n",
       "      <th>Confidence</th>\n",
       "      <th>Efforts</th>\n",
       "    </tr>\n",
       "  </thead>\n",
       "  <tbody>\n",
       "    <tr>\n",
       "      <th>0</th>\n",
       "      <td>Добавить два новых канала привлечения трафика,...</td>\n",
       "      <td>3</td>\n",
       "      <td>10</td>\n",
       "      <td>8</td>\n",
       "      <td>6</td>\n",
       "    </tr>\n",
       "    <tr>\n",
       "      <th>1</th>\n",
       "      <td>Запустить собственную службу доставки, что сок...</td>\n",
       "      <td>2</td>\n",
       "      <td>5</td>\n",
       "      <td>4</td>\n",
       "      <td>10</td>\n",
       "    </tr>\n",
       "    <tr>\n",
       "      <th>2</th>\n",
       "      <td>Добавить блоки рекомендаций товаров на сайт ин...</td>\n",
       "      <td>8</td>\n",
       "      <td>3</td>\n",
       "      <td>7</td>\n",
       "      <td>3</td>\n",
       "    </tr>\n",
       "    <tr>\n",
       "      <th>3</th>\n",
       "      <td>Изменить структура категорий, что увеличит кон...</td>\n",
       "      <td>8</td>\n",
       "      <td>3</td>\n",
       "      <td>3</td>\n",
       "      <td>8</td>\n",
       "    </tr>\n",
       "    <tr>\n",
       "      <th>4</th>\n",
       "      <td>Изменить цвет фона главной страницы, чтобы уве...</td>\n",
       "      <td>3</td>\n",
       "      <td>1</td>\n",
       "      <td>1</td>\n",
       "      <td>1</td>\n",
       "    </tr>\n",
       "    <tr>\n",
       "      <th>5</th>\n",
       "      <td>Добавить страницу отзывов клиентов о магазине,...</td>\n",
       "      <td>3</td>\n",
       "      <td>2</td>\n",
       "      <td>2</td>\n",
       "      <td>3</td>\n",
       "    </tr>\n",
       "    <tr>\n",
       "      <th>6</th>\n",
       "      <td>Показать на главной странице баннеры с актуаль...</td>\n",
       "      <td>5</td>\n",
       "      <td>3</td>\n",
       "      <td>8</td>\n",
       "      <td>3</td>\n",
       "    </tr>\n",
       "    <tr>\n",
       "      <th>7</th>\n",
       "      <td>Добавить форму подписки на все основные страни...</td>\n",
       "      <td>10</td>\n",
       "      <td>7</td>\n",
       "      <td>8</td>\n",
       "      <td>5</td>\n",
       "    </tr>\n",
       "    <tr>\n",
       "      <th>8</th>\n",
       "      <td>Запустить акцию, дающую скидку на товар в день...</td>\n",
       "      <td>1</td>\n",
       "      <td>9</td>\n",
       "      <td>9</td>\n",
       "      <td>5</td>\n",
       "    </tr>\n",
       "  </tbody>\n",
       "</table>\n",
       "</div>"
      ],
      "text/plain": [
       "                                          Hypothesis  Reach  Impact  \\\n",
       "0  Добавить два новых канала привлечения трафика,...      3      10   \n",
       "1  Запустить собственную службу доставки, что сок...      2       5   \n",
       "2  Добавить блоки рекомендаций товаров на сайт ин...      8       3   \n",
       "3  Изменить структура категорий, что увеличит кон...      8       3   \n",
       "4  Изменить цвет фона главной страницы, чтобы уве...      3       1   \n",
       "5  Добавить страницу отзывов клиентов о магазине,...      3       2   \n",
       "6  Показать на главной странице баннеры с актуаль...      5       3   \n",
       "7  Добавить форму подписки на все основные страни...     10       7   \n",
       "8  Запустить акцию, дающую скидку на товар в день...      1       9   \n",
       "\n",
       "   Confidence  Efforts  \n",
       "0           8        6  \n",
       "1           4       10  \n",
       "2           7        3  \n",
       "3           3        8  \n",
       "4           1        1  \n",
       "5           2        3  \n",
       "6           8        3  \n",
       "7           8        5  \n",
       "8           9        5  "
      ]
     },
     "execution_count": 2,
     "metadata": {},
     "output_type": "execute_result"
    }
   ],
   "source": [
    "hypothesis = pd.read_csv('/datasets/hypothesis.csv')\n",
    "hypothesis.head(10)"
   ]
  },
  {
   "cell_type": "markdown",
   "metadata": {},
   "source": [
    "Приведем к нижнему регистру столбцы"
   ]
  },
  {
   "cell_type": "code",
   "execution_count": 3,
   "metadata": {},
   "outputs": [
    {
     "data": {
      "text/html": [
       "<div>\n",
       "<style scoped>\n",
       "    .dataframe tbody tr th:only-of-type {\n",
       "        vertical-align: middle;\n",
       "    }\n",
       "\n",
       "    .dataframe tbody tr th {\n",
       "        vertical-align: top;\n",
       "    }\n",
       "\n",
       "    .dataframe thead th {\n",
       "        text-align: right;\n",
       "    }\n",
       "</style>\n",
       "<table border=\"1\" class=\"dataframe\">\n",
       "  <thead>\n",
       "    <tr style=\"text-align: right;\">\n",
       "      <th></th>\n",
       "      <th>hypothesis</th>\n",
       "      <th>reach</th>\n",
       "      <th>impact</th>\n",
       "      <th>confidence</th>\n",
       "      <th>efforts</th>\n",
       "    </tr>\n",
       "  </thead>\n",
       "  <tbody>\n",
       "    <tr>\n",
       "      <th>0</th>\n",
       "      <td>Добавить два новых канала привлечения трафика,...</td>\n",
       "      <td>3</td>\n",
       "      <td>10</td>\n",
       "      <td>8</td>\n",
       "      <td>6</td>\n",
       "    </tr>\n",
       "    <tr>\n",
       "      <th>1</th>\n",
       "      <td>Запустить собственную службу доставки, что сок...</td>\n",
       "      <td>2</td>\n",
       "      <td>5</td>\n",
       "      <td>4</td>\n",
       "      <td>10</td>\n",
       "    </tr>\n",
       "    <tr>\n",
       "      <th>2</th>\n",
       "      <td>Добавить блоки рекомендаций товаров на сайт ин...</td>\n",
       "      <td>8</td>\n",
       "      <td>3</td>\n",
       "      <td>7</td>\n",
       "      <td>3</td>\n",
       "    </tr>\n",
       "    <tr>\n",
       "      <th>3</th>\n",
       "      <td>Изменить структура категорий, что увеличит кон...</td>\n",
       "      <td>8</td>\n",
       "      <td>3</td>\n",
       "      <td>3</td>\n",
       "      <td>8</td>\n",
       "    </tr>\n",
       "    <tr>\n",
       "      <th>4</th>\n",
       "      <td>Изменить цвет фона главной страницы, чтобы уве...</td>\n",
       "      <td>3</td>\n",
       "      <td>1</td>\n",
       "      <td>1</td>\n",
       "      <td>1</td>\n",
       "    </tr>\n",
       "  </tbody>\n",
       "</table>\n",
       "</div>"
      ],
      "text/plain": [
       "                                          hypothesis  reach  impact  \\\n",
       "0  Добавить два новых канала привлечения трафика,...      3      10   \n",
       "1  Запустить собственную службу доставки, что сок...      2       5   \n",
       "2  Добавить блоки рекомендаций товаров на сайт ин...      8       3   \n",
       "3  Изменить структура категорий, что увеличит кон...      8       3   \n",
       "4  Изменить цвет фона главной страницы, чтобы уве...      3       1   \n",
       "\n",
       "   confidence  efforts  \n",
       "0           8        6  \n",
       "1           4       10  \n",
       "2           7        3  \n",
       "3           3        8  \n",
       "4           1        1  "
      ]
     },
     "execution_count": 3,
     "metadata": {},
     "output_type": "execute_result"
    }
   ],
   "source": [
    "hypothesis.columns = hypothesis.columns.str.lower()\n",
    "hypothesis.head()"
   ]
  },
  {
   "cell_type": "markdown",
   "metadata": {},
   "source": [
    "Поверим типы данных в столбцах"
   ]
  },
  {
   "cell_type": "code",
   "execution_count": 4,
   "metadata": {},
   "outputs": [
    {
     "name": "stdout",
     "output_type": "stream",
     "text": [
      "<class 'pandas.core.frame.DataFrame'>\n",
      "RangeIndex: 9 entries, 0 to 8\n",
      "Data columns (total 5 columns):\n",
      " #   Column      Non-Null Count  Dtype \n",
      "---  ------      --------------  ----- \n",
      " 0   hypothesis  9 non-null      object\n",
      " 1   reach       9 non-null      int64 \n",
      " 2   impact      9 non-null      int64 \n",
      " 3   confidence  9 non-null      int64 \n",
      " 4   efforts     9 non-null      int64 \n",
      "dtypes: int64(4), object(1)\n",
      "memory usage: 488.0+ bytes\n"
     ]
    }
   ],
   "source": [
    "hypothesis.info()"
   ]
  },
  {
   "cell_type": "markdown",
   "metadata": {},
   "source": [
    "Проверим пропушенные значения в столбцах"
   ]
  },
  {
   "cell_type": "code",
   "execution_count": 5,
   "metadata": {},
   "outputs": [
    {
     "data": {
      "text/plain": [
       "hypothesis    0\n",
       "reach         0\n",
       "impact        0\n",
       "confidence    0\n",
       "efforts       0\n",
       "dtype: int64"
      ]
     },
     "execution_count": 5,
     "metadata": {},
     "output_type": "execute_result"
    }
   ],
   "source": [
    "hypothesis.isna().sum()"
   ]
  },
  {
   "cell_type": "markdown",
   "metadata": {},
   "source": [
    "Посмотрим есть ли у нас дубликаты."
   ]
  },
  {
   "cell_type": "code",
   "execution_count": 6,
   "metadata": {},
   "outputs": [
    {
     "data": {
      "text/plain": [
       "0"
      ]
     },
     "execution_count": 6,
     "metadata": {},
     "output_type": "execute_result"
    }
   ],
   "source": [
    "hypothesis.duplicated().sum()"
   ]
  },
  {
   "cell_type": "markdown",
   "metadata": {},
   "source": [
    "*В данном датасете все хорошо, единственное что надо было, название столбцов привести к нижнему регистру.*  "
   ]
  },
  {
   "cell_type": "markdown",
   "metadata": {},
   "source": [
    "Изучим датасет /datasets/orders.csv, назовем его orders. "
   ]
  },
  {
   "cell_type": "code",
   "execution_count": 7,
   "metadata": {},
   "outputs": [
    {
     "data": {
      "text/html": [
       "<div>\n",
       "<style scoped>\n",
       "    .dataframe tbody tr th:only-of-type {\n",
       "        vertical-align: middle;\n",
       "    }\n",
       "\n",
       "    .dataframe tbody tr th {\n",
       "        vertical-align: top;\n",
       "    }\n",
       "\n",
       "    .dataframe thead th {\n",
       "        text-align: right;\n",
       "    }\n",
       "</style>\n",
       "<table border=\"1\" class=\"dataframe\">\n",
       "  <thead>\n",
       "    <tr style=\"text-align: right;\">\n",
       "      <th></th>\n",
       "      <th>transactionId</th>\n",
       "      <th>visitorId</th>\n",
       "      <th>date</th>\n",
       "      <th>revenue</th>\n",
       "      <th>group</th>\n",
       "    </tr>\n",
       "  </thead>\n",
       "  <tbody>\n",
       "    <tr>\n",
       "      <th>0</th>\n",
       "      <td>3667963787</td>\n",
       "      <td>3312258926</td>\n",
       "      <td>2019-08-15</td>\n",
       "      <td>1650</td>\n",
       "      <td>B</td>\n",
       "    </tr>\n",
       "    <tr>\n",
       "      <th>1</th>\n",
       "      <td>2804400009</td>\n",
       "      <td>3642806036</td>\n",
       "      <td>2019-08-15</td>\n",
       "      <td>730</td>\n",
       "      <td>B</td>\n",
       "    </tr>\n",
       "    <tr>\n",
       "      <th>2</th>\n",
       "      <td>2961555356</td>\n",
       "      <td>4069496402</td>\n",
       "      <td>2019-08-15</td>\n",
       "      <td>400</td>\n",
       "      <td>A</td>\n",
       "    </tr>\n",
       "    <tr>\n",
       "      <th>3</th>\n",
       "      <td>3797467345</td>\n",
       "      <td>1196621759</td>\n",
       "      <td>2019-08-15</td>\n",
       "      <td>9759</td>\n",
       "      <td>B</td>\n",
       "    </tr>\n",
       "    <tr>\n",
       "      <th>4</th>\n",
       "      <td>2282983706</td>\n",
       "      <td>2322279887</td>\n",
       "      <td>2019-08-15</td>\n",
       "      <td>2308</td>\n",
       "      <td>B</td>\n",
       "    </tr>\n",
       "  </tbody>\n",
       "</table>\n",
       "</div>"
      ],
      "text/plain": [
       "   transactionId   visitorId        date  revenue group\n",
       "0     3667963787  3312258926  2019-08-15     1650     B\n",
       "1     2804400009  3642806036  2019-08-15      730     B\n",
       "2     2961555356  4069496402  2019-08-15      400     A\n",
       "3     3797467345  1196621759  2019-08-15     9759     B\n",
       "4     2282983706  2322279887  2019-08-15     2308     B"
      ]
     },
     "execution_count": 7,
     "metadata": {},
     "output_type": "execute_result"
    }
   ],
   "source": [
    "orders = pd.read_csv('/datasets/orders.csv')\n",
    "orders.head(5)"
   ]
  },
  {
   "cell_type": "markdown",
   "metadata": {},
   "source": [
    "Поверим типы данных в столбцах"
   ]
  },
  {
   "cell_type": "code",
   "execution_count": 8,
   "metadata": {},
   "outputs": [
    {
     "name": "stdout",
     "output_type": "stream",
     "text": [
      "<class 'pandas.core.frame.DataFrame'>\n",
      "RangeIndex: 1197 entries, 0 to 1196\n",
      "Data columns (total 5 columns):\n",
      " #   Column         Non-Null Count  Dtype \n",
      "---  ------         --------------  ----- \n",
      " 0   transactionId  1197 non-null   int64 \n",
      " 1   visitorId      1197 non-null   int64 \n",
      " 2   date           1197 non-null   object\n",
      " 3   revenue        1197 non-null   int64 \n",
      " 4   group          1197 non-null   object\n",
      "dtypes: int64(3), object(2)\n",
      "memory usage: 46.9+ KB\n"
     ]
    }
   ],
   "source": [
    "orders.info()"
   ]
  },
  {
   "cell_type": "markdown",
   "metadata": {},
   "source": [
    "Поменяем тип столбца \"date\" на datetime"
   ]
  },
  {
   "cell_type": "code",
   "execution_count": 9,
   "metadata": {},
   "outputs": [
    {
     "name": "stdout",
     "output_type": "stream",
     "text": [
      "<class 'pandas.core.frame.DataFrame'>\n",
      "RangeIndex: 1197 entries, 0 to 1196\n",
      "Data columns (total 5 columns):\n",
      " #   Column         Non-Null Count  Dtype         \n",
      "---  ------         --------------  -----         \n",
      " 0   transactionId  1197 non-null   int64         \n",
      " 1   visitorId      1197 non-null   int64         \n",
      " 2   date           1197 non-null   datetime64[ns]\n",
      " 3   revenue        1197 non-null   int64         \n",
      " 4   group          1197 non-null   object        \n",
      "dtypes: datetime64[ns](1), int64(3), object(1)\n",
      "memory usage: 46.9+ KB\n"
     ]
    }
   ],
   "source": [
    "orders[\"date\"] = orders[\"date\"].map(lambda x: dt.datetime.strptime(x, '%Y-%m-%d'))\n",
    "orders.info()"
   ]
  },
  {
   "cell_type": "markdown",
   "metadata": {},
   "source": [
    "Проверим пропушенные значения в столбцах"
   ]
  },
  {
   "cell_type": "code",
   "execution_count": 10,
   "metadata": {},
   "outputs": [
    {
     "data": {
      "text/plain": [
       "transactionId    0\n",
       "visitorId        0\n",
       "date             0\n",
       "revenue          0\n",
       "group            0\n",
       "dtype: int64"
      ]
     },
     "execution_count": 10,
     "metadata": {},
     "output_type": "execute_result"
    }
   ],
   "source": [
    "orders.isna().sum()"
   ]
  },
  {
   "cell_type": "markdown",
   "metadata": {},
   "source": [
    "Посмотрим есть ли у нас дубликаты."
   ]
  },
  {
   "cell_type": "code",
   "execution_count": 11,
   "metadata": {},
   "outputs": [
    {
     "data": {
      "text/plain": [
       "0"
      ]
     },
     "execution_count": 11,
     "metadata": {},
     "output_type": "execute_result"
    }
   ],
   "source": [
    "orders.duplicated().sum()"
   ]
  },
  {
   "cell_type": "markdown",
   "metadata": {},
   "source": [
    "*В датасете orders мы поменяли тип столбца \"data\" на datetime*"
   ]
  },
  {
   "cell_type": "markdown",
   "metadata": {},
   "source": [
    "Изучим датасет /datasets/visitors.csv, назовем его visitors."
   ]
  },
  {
   "cell_type": "code",
   "execution_count": 12,
   "metadata": {},
   "outputs": [
    {
     "data": {
      "text/html": [
       "<div>\n",
       "<style scoped>\n",
       "    .dataframe tbody tr th:only-of-type {\n",
       "        vertical-align: middle;\n",
       "    }\n",
       "\n",
       "    .dataframe tbody tr th {\n",
       "        vertical-align: top;\n",
       "    }\n",
       "\n",
       "    .dataframe thead th {\n",
       "        text-align: right;\n",
       "    }\n",
       "</style>\n",
       "<table border=\"1\" class=\"dataframe\">\n",
       "  <thead>\n",
       "    <tr style=\"text-align: right;\">\n",
       "      <th></th>\n",
       "      <th>date</th>\n",
       "      <th>group</th>\n",
       "      <th>visitors</th>\n",
       "    </tr>\n",
       "  </thead>\n",
       "  <tbody>\n",
       "    <tr>\n",
       "      <th>0</th>\n",
       "      <td>2019-08-01</td>\n",
       "      <td>A</td>\n",
       "      <td>719</td>\n",
       "    </tr>\n",
       "    <tr>\n",
       "      <th>1</th>\n",
       "      <td>2019-08-02</td>\n",
       "      <td>A</td>\n",
       "      <td>619</td>\n",
       "    </tr>\n",
       "    <tr>\n",
       "      <th>2</th>\n",
       "      <td>2019-08-03</td>\n",
       "      <td>A</td>\n",
       "      <td>507</td>\n",
       "    </tr>\n",
       "    <tr>\n",
       "      <th>3</th>\n",
       "      <td>2019-08-04</td>\n",
       "      <td>A</td>\n",
       "      <td>717</td>\n",
       "    </tr>\n",
       "    <tr>\n",
       "      <th>4</th>\n",
       "      <td>2019-08-05</td>\n",
       "      <td>A</td>\n",
       "      <td>756</td>\n",
       "    </tr>\n",
       "  </tbody>\n",
       "</table>\n",
       "</div>"
      ],
      "text/plain": [
       "         date group  visitors\n",
       "0  2019-08-01     A       719\n",
       "1  2019-08-02     A       619\n",
       "2  2019-08-03     A       507\n",
       "3  2019-08-04     A       717\n",
       "4  2019-08-05     A       756"
      ]
     },
     "execution_count": 12,
     "metadata": {},
     "output_type": "execute_result"
    }
   ],
   "source": [
    "visitors = pd.read_csv('/datasets/visitors.csv')\n",
    "visitors.head(5)"
   ]
  },
  {
   "cell_type": "markdown",
   "metadata": {},
   "source": [
    "Поверим типы данных в столбцах"
   ]
  },
  {
   "cell_type": "code",
   "execution_count": 13,
   "metadata": {},
   "outputs": [
    {
     "name": "stdout",
     "output_type": "stream",
     "text": [
      "<class 'pandas.core.frame.DataFrame'>\n",
      "RangeIndex: 62 entries, 0 to 61\n",
      "Data columns (total 3 columns):\n",
      " #   Column    Non-Null Count  Dtype \n",
      "---  ------    --------------  ----- \n",
      " 0   date      62 non-null     object\n",
      " 1   group     62 non-null     object\n",
      " 2   visitors  62 non-null     int64 \n",
      "dtypes: int64(1), object(2)\n",
      "memory usage: 1.6+ KB\n"
     ]
    }
   ],
   "source": [
    "visitors.info()"
   ]
  },
  {
   "cell_type": "markdown",
   "metadata": {},
   "source": [
    "Поменяем тип столбца \"date\" на datetime"
   ]
  },
  {
   "cell_type": "code",
   "execution_count": 14,
   "metadata": {},
   "outputs": [
    {
     "name": "stdout",
     "output_type": "stream",
     "text": [
      "<class 'pandas.core.frame.DataFrame'>\n",
      "RangeIndex: 62 entries, 0 to 61\n",
      "Data columns (total 3 columns):\n",
      " #   Column    Non-Null Count  Dtype         \n",
      "---  ------    --------------  -----         \n",
      " 0   date      62 non-null     datetime64[ns]\n",
      " 1   group     62 non-null     object        \n",
      " 2   visitors  62 non-null     int64         \n",
      "dtypes: datetime64[ns](1), int64(1), object(1)\n",
      "memory usage: 1.6+ KB\n"
     ]
    }
   ],
   "source": [
    "visitors[\"date\"] = visitors[\"date\"].map(lambda x: dt.datetime.strptime(x, '%Y-%m-%d'))\n",
    "visitors.info()"
   ]
  },
  {
   "cell_type": "markdown",
   "metadata": {},
   "source": [
    "Проверим пропушенные значения в столбцах"
   ]
  },
  {
   "cell_type": "code",
   "execution_count": 15,
   "metadata": {},
   "outputs": [
    {
     "data": {
      "text/plain": [
       "date        0\n",
       "group       0\n",
       "visitors    0\n",
       "dtype: int64"
      ]
     },
     "execution_count": 15,
     "metadata": {},
     "output_type": "execute_result"
    }
   ],
   "source": [
    "visitors.isna().sum()"
   ]
  },
  {
   "cell_type": "code",
   "execution_count": 16,
   "metadata": {},
   "outputs": [
    {
     "data": {
      "text/plain": [
       "0"
      ]
     },
     "execution_count": 16,
     "metadata": {},
     "output_type": "execute_result"
    }
   ],
   "source": [
    "visitors.duplicated().sum()"
   ]
  },
  {
   "cell_type": "markdown",
   "metadata": {},
   "source": [
    "*В датасете visitors мы так же поменяли тип столбца \"data\" на datetime*"
   ]
  },
  {
   "cell_type": "markdown",
   "metadata": {},
   "source": [
    "1.2. Приоритизация гипотез "
   ]
  },
  {
   "cell_type": "code",
   "execution_count": 17,
   "metadata": {},
   "outputs": [],
   "source": [
    "hypothesis['ICE'] = ((hypothesis['impact'] * hypothesis['confidence']) / hypothesis['efforts']).round(1)\n",
    "hypothesis['RICE'] = (hypothesis['reach']  *hypothesis['impact'] * hypothesis['confidence']) / hypothesis['efforts']"
   ]
  },
  {
   "cell_type": "code",
   "execution_count": 18,
   "metadata": {},
   "outputs": [
    {
     "data": {
      "text/html": [
       "<div>\n",
       "<style scoped>\n",
       "    .dataframe tbody tr th:only-of-type {\n",
       "        vertical-align: middle;\n",
       "    }\n",
       "\n",
       "    .dataframe tbody tr th {\n",
       "        vertical-align: top;\n",
       "    }\n",
       "\n",
       "    .dataframe thead th {\n",
       "        text-align: right;\n",
       "    }\n",
       "</style>\n",
       "<table border=\"1\" class=\"dataframe\">\n",
       "  <thead>\n",
       "    <tr style=\"text-align: right;\">\n",
       "      <th></th>\n",
       "      <th>ICE</th>\n",
       "      <th>hypothesis</th>\n",
       "    </tr>\n",
       "  </thead>\n",
       "  <tbody>\n",
       "    <tr>\n",
       "      <th>8</th>\n",
       "      <td>16.2</td>\n",
       "      <td>Запустить акцию, дающую скидку на товар в день...</td>\n",
       "    </tr>\n",
       "    <tr>\n",
       "      <th>0</th>\n",
       "      <td>13.3</td>\n",
       "      <td>Добавить два новых канала привлечения трафика,...</td>\n",
       "    </tr>\n",
       "    <tr>\n",
       "      <th>7</th>\n",
       "      <td>11.2</td>\n",
       "      <td>Добавить форму подписки на все основные страни...</td>\n",
       "    </tr>\n",
       "    <tr>\n",
       "      <th>6</th>\n",
       "      <td>8.0</td>\n",
       "      <td>Показать на главной странице баннеры с актуаль...</td>\n",
       "    </tr>\n",
       "    <tr>\n",
       "      <th>2</th>\n",
       "      <td>7.0</td>\n",
       "      <td>Добавить блоки рекомендаций товаров на сайт ин...</td>\n",
       "    </tr>\n",
       "    <tr>\n",
       "      <th>1</th>\n",
       "      <td>2.0</td>\n",
       "      <td>Запустить собственную службу доставки, что сок...</td>\n",
       "    </tr>\n",
       "    <tr>\n",
       "      <th>5</th>\n",
       "      <td>1.3</td>\n",
       "      <td>Добавить страницу отзывов клиентов о магазине,...</td>\n",
       "    </tr>\n",
       "    <tr>\n",
       "      <th>3</th>\n",
       "      <td>1.1</td>\n",
       "      <td>Изменить структура категорий, что увеличит кон...</td>\n",
       "    </tr>\n",
       "    <tr>\n",
       "      <th>4</th>\n",
       "      <td>1.0</td>\n",
       "      <td>Изменить цвет фона главной страницы, чтобы уве...</td>\n",
       "    </tr>\n",
       "  </tbody>\n",
       "</table>\n",
       "</div>"
      ],
      "text/plain": [
       "    ICE                                         hypothesis\n",
       "8  16.2  Запустить акцию, дающую скидку на товар в день...\n",
       "0  13.3  Добавить два новых канала привлечения трафика,...\n",
       "7  11.2  Добавить форму подписки на все основные страни...\n",
       "6   8.0  Показать на главной странице баннеры с актуаль...\n",
       "2   7.0  Добавить блоки рекомендаций товаров на сайт ин...\n",
       "1   2.0  Запустить собственную службу доставки, что сок...\n",
       "5   1.3  Добавить страницу отзывов клиентов о магазине,...\n",
       "3   1.1  Изменить структура категорий, что увеличит кон...\n",
       "4   1.0  Изменить цвет фона главной страницы, чтобы уве..."
      ]
     },
     "metadata": {},
     "output_type": "display_data"
    }
   ],
   "source": [
    "display(hypothesis[['ICE', 'hypothesis']].sort_values(by='ICE', ascending=False))"
   ]
  },
  {
   "cell_type": "code",
   "execution_count": 19,
   "metadata": {},
   "outputs": [],
   "source": [
    "pd.options.display.max_colwidth = 500"
   ]
  },
  {
   "cell_type": "code",
   "execution_count": 20,
   "metadata": {},
   "outputs": [
    {
     "data": {
      "text/html": [
       "<div>\n",
       "<style scoped>\n",
       "    .dataframe tbody tr th:only-of-type {\n",
       "        vertical-align: middle;\n",
       "    }\n",
       "\n",
       "    .dataframe tbody tr th {\n",
       "        vertical-align: top;\n",
       "    }\n",
       "\n",
       "    .dataframe thead th {\n",
       "        text-align: right;\n",
       "    }\n",
       "</style>\n",
       "<table border=\"1\" class=\"dataframe\">\n",
       "  <thead>\n",
       "    <tr style=\"text-align: right;\">\n",
       "      <th></th>\n",
       "      <th>RICE</th>\n",
       "      <th>hypothesis</th>\n",
       "      <th>reach</th>\n",
       "    </tr>\n",
       "  </thead>\n",
       "  <tbody>\n",
       "    <tr>\n",
       "      <th>7</th>\n",
       "      <td>112.0</td>\n",
       "      <td>Добавить форму подписки на все основные страницы, чтобы собрать базу клиентов для email-рассылок</td>\n",
       "      <td>10</td>\n",
       "    </tr>\n",
       "    <tr>\n",
       "      <th>2</th>\n",
       "      <td>56.0</td>\n",
       "      <td>Добавить блоки рекомендаций товаров на сайт интернет магазина, чтобы повысить конверсию и средний чек заказа</td>\n",
       "      <td>8</td>\n",
       "    </tr>\n",
       "    <tr>\n",
       "      <th>0</th>\n",
       "      <td>40.0</td>\n",
       "      <td>Добавить два новых канала привлечения трафика, что позволит привлекать на 30% больше пользователей</td>\n",
       "      <td>3</td>\n",
       "    </tr>\n",
       "    <tr>\n",
       "      <th>6</th>\n",
       "      <td>40.0</td>\n",
       "      <td>Показать на главной странице баннеры с актуальными акциями и распродажами, чтобы увеличить конверсию</td>\n",
       "      <td>5</td>\n",
       "    </tr>\n",
       "    <tr>\n",
       "      <th>8</th>\n",
       "      <td>16.2</td>\n",
       "      <td>Запустить акцию, дающую скидку на товар в день рождения</td>\n",
       "      <td>1</td>\n",
       "    </tr>\n",
       "    <tr>\n",
       "      <th>3</th>\n",
       "      <td>9.0</td>\n",
       "      <td>Изменить структура категорий, что увеличит конверсию, т.к. пользователи быстрее найдут нужный товар</td>\n",
       "      <td>8</td>\n",
       "    </tr>\n",
       "    <tr>\n",
       "      <th>1</th>\n",
       "      <td>4.0</td>\n",
       "      <td>Запустить собственную службу доставки, что сократит срок доставки заказов</td>\n",
       "      <td>2</td>\n",
       "    </tr>\n",
       "    <tr>\n",
       "      <th>5</th>\n",
       "      <td>4.0</td>\n",
       "      <td>Добавить страницу отзывов клиентов о магазине, что позволит увеличить количество заказов</td>\n",
       "      <td>3</td>\n",
       "    </tr>\n",
       "    <tr>\n",
       "      <th>4</th>\n",
       "      <td>3.0</td>\n",
       "      <td>Изменить цвет фона главной страницы, чтобы увеличить вовлеченность пользователей</td>\n",
       "      <td>3</td>\n",
       "    </tr>\n",
       "  </tbody>\n",
       "</table>\n",
       "</div>"
      ],
      "text/plain": [
       "    RICE  \\\n",
       "7  112.0   \n",
       "2   56.0   \n",
       "0   40.0   \n",
       "6   40.0   \n",
       "8   16.2   \n",
       "3    9.0   \n",
       "1    4.0   \n",
       "5    4.0   \n",
       "4    3.0   \n",
       "\n",
       "                                                                                                     hypothesis  \\\n",
       "7              Добавить форму подписки на все основные страницы, чтобы собрать базу клиентов для email-рассылок   \n",
       "2  Добавить блоки рекомендаций товаров на сайт интернет магазина, чтобы повысить конверсию и средний чек заказа   \n",
       "0            Добавить два новых канала привлечения трафика, что позволит привлекать на 30% больше пользователей   \n",
       "6          Показать на главной странице баннеры с актуальными акциями и распродажами, чтобы увеличить конверсию   \n",
       "8                                                       Запустить акцию, дающую скидку на товар в день рождения   \n",
       "3           Изменить структура категорий, что увеличит конверсию, т.к. пользователи быстрее найдут нужный товар   \n",
       "1                                     Запустить собственную службу доставки, что сократит срок доставки заказов   \n",
       "5                      Добавить страницу отзывов клиентов о магазине, что позволит увеличить количество заказов   \n",
       "4                              Изменить цвет фона главной страницы, чтобы увеличить вовлеченность пользователей   \n",
       "\n",
       "   reach  \n",
       "7     10  \n",
       "2      8  \n",
       "0      3  \n",
       "6      5  \n",
       "8      1  \n",
       "3      8  \n",
       "1      2  \n",
       "5      3  \n",
       "4      3  "
      ]
     },
     "execution_count": 20,
     "metadata": {},
     "output_type": "execute_result"
    }
   ],
   "source": [
    "hypothesis[['RICE', 'hypothesis', 'reach']].sort_values(by='RICE', ascending=False)"
   ]
  },
  {
   "cell_type": "markdown",
   "metadata": {},
   "source": [
    "*На основании двух таблиц ICE и RICE, мы можем сделать вывод что первая тойка гипотез изменилась.В таблица ICE в первую тройку входят гипотезы с индексами 8, 0, 7, а в таблице RICE гипотеза с индексом 7 поднялся на первое место с третьего, гипотеза 2 поднялась на второе место, 0 спустилась на третье место. Нам следует ориентироваться на таблицу RICE, так как в ней есть важный показателя reach (скольких пользователей затронет изменение, которое вы хотите внести). Поэтому следует предложить гипотезу с индексом № 7 и №2 (reach в №7 = 10, а в №2 = 8).*"
   ]
  },
  {
   "cell_type": "markdown",
   "metadata": {},
   "source": [
    "**Часть 2. Анализ A/B-теста**"
   ]
  },
  {
   "cell_type": "markdown",
   "metadata": {},
   "source": [
    "2.1. Постройте график кумулятивной выручки по группам. Сделайте выводы и предположения"
   ]
  },
  {
   "cell_type": "code",
   "execution_count": 21,
   "metadata": {},
   "outputs": [
    {
     "name": "stdout",
     "output_type": "stream",
     "text": [
      "        date group  orders  buyers  revenue  visitors\n",
      "0 2019-08-01     A      24      20   148579       719\n",
      "1 2019-08-01     B      21      20   101217       713\n",
      "2 2019-08-02     A      44      38   242401      1338\n",
      "3 2019-08-02     B      45      43   266748      1294\n",
      "4 2019-08-03     A      68      62   354874      1845\n"
     ]
    }
   ],
   "source": [
    "datesGroups = orders[['date','group']].drop_duplicates() \n",
    "\n",
    "ordersAggregated = datesGroups.apply(lambda x: orders[np.logical_and(orders['date'] <= x['date'], orders['group'] == x['group'])].agg({'date' : 'max', 'group' : 'max', 'transactionId' : 'nunique', 'visitorId' : 'nunique', 'revenue' : 'sum'}), axis=1).sort_values(by=['date','group'])\n",
    "\n",
    "visitorsAggregated = datesGroups.apply(lambda x: visitors[np.logical_and(visitors['date'] <= x['date'], visitors['group'] == x['group'])].agg({'date' : 'max', 'group' : 'max', 'visitors' : 'sum'}), axis=1).sort_values(by=['date','group'])\n",
    "\n",
    "datesGroups = orders[['date','group']].drop_duplicates()\n",
    "\n",
    "ordersAggregated = datesGroups.apply(lambda x: orders[np.logical_and(orders['date'] <= x['date'], orders['group'] == x['group'])].agg({'date' : 'max', 'group' : 'max', 'transactionId' : 'nunique', 'visitorId' : 'nunique', 'revenue' : 'sum'}), axis=1).sort_values(by=['date','group'])\n",
    "\n",
    "# получаем агрегированные кумулятивные по дням данные о посетителях интернет-магазина \n",
    "visitorsAggregated = datesGroups.apply(lambda x: visitors[np.logical_and(visitors['date'] <= x['date'], visitors['group'] == x['group'])].agg({'date' : 'max', 'group' : 'max', 'visitors' : 'sum'}), axis=1).sort_values(by=['date','group'])\n",
    "\n",
    "# объединяем кумулятивные данные в одной таблице и присваиваем ее столбцам понятные названия\n",
    "cumulativeData = ordersAggregated.merge(visitorsAggregated, left_on=['date', 'group'], right_on=['date', 'group'])\n",
    "cumulativeData.columns = ['date', 'group', 'orders', 'buyers', 'revenue', 'visitors']\n",
    "print(cumulativeData.head(5)) "
   ]
  },
  {
   "cell_type": "code",
   "execution_count": 22,
   "metadata": {},
   "outputs": [
    {
     "data": {
      "image/png": "[encoded data removed]",
      "text/plain": [
       "<Figure size 1080x360 with 1 Axes>"
      ]
     },
     "metadata": {
      "needs_background": "light"
     },
     "output_type": "display_data"
    }
   ],
   "source": [
    "# датафрейм с кумулятивным количеством заказов и кумулятивной выручкой по дням в группе А\n",
    "cumulativeRevenueA = cumulativeData[cumulativeData['group']=='A'][['date','revenue', 'orders']]\n",
    "\n",
    "# датафрейм с кумулятивным количеством заказов и кумулятивной выручкой по дням в группе B\n",
    "cumulativeRevenueB = cumulativeData[cumulativeData['group']=='B'][['date','revenue', 'orders']]\n",
    "plt.figure(figsize=(15,5))\n",
    "# Строим график выручки группы А\n",
    "plt.plot(cumulativeRevenueA['date'], cumulativeRevenueA['revenue'], label='A')\n",
    "\n",
    "# Строим график выручки группы B\n",
    "plt.plot(cumulativeRevenueB['date'], cumulativeRevenueB['revenue'], label='B')\n",
    "plt.title(\"График кумулятивной выручки по группам.\")\n",
    "plt.grid()\n",
    "plt.legend() \n",
    "plt.show()"
   ]
  },
  {
   "cell_type": "markdown",
   "metadata": {},
   "source": [
    "*По графику видно что группа А и В с ничала шли почти одинаково. С 17 по 21 числа был скачек по выручке группы В, это могло быть много заказав либо один крупный заказ. После этого В ледирует по выручке.*"
   ]
  },
  {
   "cell_type": "markdown",
   "metadata": {},
   "source": [
    "Посмотрим что происходило в период с 17.08.2019 по 21.08.2019."
   ]
  },
  {
   "cell_type": "code",
   "execution_count": 23,
   "metadata": {},
   "outputs": [
    {
     "data": {
      "text/html": [
       "<div>\n",
       "<style scoped>\n",
       "    .dataframe tbody tr th:only-of-type {\n",
       "        vertical-align: middle;\n",
       "    }\n",
       "\n",
       "    .dataframe tbody tr th {\n",
       "        vertical-align: top;\n",
       "    }\n",
       "\n",
       "    .dataframe thead th {\n",
       "        text-align: right;\n",
       "    }\n",
       "</style>\n",
       "<table border=\"1\" class=\"dataframe\">\n",
       "  <thead>\n",
       "    <tr style=\"text-align: right;\">\n",
       "      <th></th>\n",
       "      <th>date</th>\n",
       "      <th>revenue</th>\n",
       "      <th>orders</th>\n",
       "    </tr>\n",
       "  </thead>\n",
       "  <tbody>\n",
       "    <tr>\n",
       "      <th>33</th>\n",
       "      <td>2019-08-17</td>\n",
       "      <td>2620790</td>\n",
       "      <td>373</td>\n",
       "    </tr>\n",
       "    <tr>\n",
       "      <th>35</th>\n",
       "      <td>2019-08-18</td>\n",
       "      <td>2686621</td>\n",
       "      <td>382</td>\n",
       "    </tr>\n",
       "    <tr>\n",
       "      <th>37</th>\n",
       "      <td>2019-08-19</td>\n",
       "      <td>4116541</td>\n",
       "      <td>403</td>\n",
       "    </tr>\n",
       "    <tr>\n",
       "      <th>39</th>\n",
       "      <td>2019-08-20</td>\n",
       "      <td>4263815</td>\n",
       "      <td>423</td>\n",
       "    </tr>\n",
       "    <tr>\n",
       "      <th>41</th>\n",
       "      <td>2019-08-21</td>\n",
       "      <td>4426892</td>\n",
       "      <td>437</td>\n",
       "    </tr>\n",
       "  </tbody>\n",
       "</table>\n",
       "</div>"
      ],
      "text/plain": [
       "         date  revenue  orders\n",
       "33 2019-08-17  2620790     373\n",
       "35 2019-08-18  2686621     382\n",
       "37 2019-08-19  4116541     403\n",
       "39 2019-08-20  4263815     423\n",
       "41 2019-08-21  4426892     437"
      ]
     },
     "execution_count": 23,
     "metadata": {},
     "output_type": "execute_result"
    }
   ],
   "source": [
    "cumulativeRevenueB.query(' \"2019-08-17\" <= date <= \"2019-08-21\" ')"
   ]
  },
  {
   "cell_type": "markdown",
   "metadata": {},
   "source": [
    "*Количество заказов с 17 по 21 число равномерно увеличивается*"
   ]
  },
  {
   "cell_type": "code",
   "execution_count": 24,
   "metadata": {},
   "outputs": [
    {
     "data": {
      "text/html": [
       "<div>\n",
       "<style scoped>\n",
       "    .dataframe tbody tr th:only-of-type {\n",
       "        vertical-align: middle;\n",
       "    }\n",
       "\n",
       "    .dataframe tbody tr th {\n",
       "        vertical-align: top;\n",
       "    }\n",
       "\n",
       "    .dataframe thead th {\n",
       "        text-align: right;\n",
       "    }\n",
       "</style>\n",
       "<table border=\"1\" class=\"dataframe\">\n",
       "  <thead>\n",
       "    <tr style=\"text-align: right;\">\n",
       "      <th></th>\n",
       "      <th>transactionId</th>\n",
       "      <th>visitorId</th>\n",
       "      <th>date</th>\n",
       "      <th>revenue</th>\n",
       "      <th>group</th>\n",
       "    </tr>\n",
       "  </thead>\n",
       "  <tbody>\n",
       "    <tr>\n",
       "      <th>425</th>\n",
       "      <td>590470918</td>\n",
       "      <td>1920142716</td>\n",
       "      <td>2019-08-19</td>\n",
       "      <td>1294500</td>\n",
       "      <td>B</td>\n",
       "    </tr>\n",
       "    <tr>\n",
       "      <th>530</th>\n",
       "      <td>3970235543</td>\n",
       "      <td>2912540959</td>\n",
       "      <td>2019-08-19</td>\n",
       "      <td>43990</td>\n",
       "      <td>A</td>\n",
       "    </tr>\n",
       "    <tr>\n",
       "      <th>527</th>\n",
       "      <td>1570513684</td>\n",
       "      <td>2837914161</td>\n",
       "      <td>2019-08-19</td>\n",
       "      <td>33405</td>\n",
       "      <td>B</td>\n",
       "    </tr>\n",
       "    <tr>\n",
       "      <th>421</th>\n",
       "      <td>3765974140</td>\n",
       "      <td>1357170471</td>\n",
       "      <td>2019-08-19</td>\n",
       "      <td>31680</td>\n",
       "      <td>A</td>\n",
       "    </tr>\n",
       "    <tr>\n",
       "      <th>461</th>\n",
       "      <td>2683113224</td>\n",
       "      <td>154576532</td>\n",
       "      <td>2019-08-19</td>\n",
       "      <td>26550</td>\n",
       "      <td>B</td>\n",
       "    </tr>\n",
       "    <tr>\n",
       "      <th>525</th>\n",
       "      <td>3031564664</td>\n",
       "      <td>393266494</td>\n",
       "      <td>2019-08-19</td>\n",
       "      <td>21550</td>\n",
       "      <td>A</td>\n",
       "    </tr>\n",
       "    <tr>\n",
       "      <th>368</th>\n",
       "      <td>3268879337</td>\n",
       "      <td>2536252163</td>\n",
       "      <td>2019-08-19</td>\n",
       "      <td>20026</td>\n",
       "      <td>B</td>\n",
       "    </tr>\n",
       "    <tr>\n",
       "      <th>366</th>\n",
       "      <td>2037051350</td>\n",
       "      <td>1957949546</td>\n",
       "      <td>2019-08-19</td>\n",
       "      <td>16770</td>\n",
       "      <td>A</td>\n",
       "    </tr>\n",
       "  </tbody>\n",
       "</table>\n",
       "</div>"
      ],
      "text/plain": [
       "     transactionId   visitorId       date  revenue group\n",
       "425      590470918  1920142716 2019-08-19  1294500     B\n",
       "530     3970235543  2912540959 2019-08-19    43990     A\n",
       "527     1570513684  2837914161 2019-08-19    33405     B\n",
       "421     3765974140  1357170471 2019-08-19    31680     A\n",
       "461     2683113224   154576532 2019-08-19    26550     B\n",
       "525     3031564664   393266494 2019-08-19    21550     A\n",
       "368     3268879337  2536252163 2019-08-19    20026     B\n",
       "366     2037051350  1957949546 2019-08-19    16770     A"
      ]
     },
     "execution_count": 24,
     "metadata": {},
     "output_type": "execute_result"
    }
   ],
   "source": [
    "orders.query(' date == \"2019-08-19\" ').sort_values(by='revenue', ascending=False).head(8)"
   ]
  },
  {
   "cell_type": "markdown",
   "metadata": {},
   "source": [
    "*По данной таблице видим выброс в заказе №425 от 19 числа был на сумму 1294500.*"
   ]
  },
  {
   "cell_type": "markdown",
   "metadata": {},
   "source": [
    "2.2. Постройте график кумулятивного среднего чека по группам. Сделайте выводы и предположения."
   ]
  },
  {
   "cell_type": "code",
   "execution_count": 25,
   "metadata": {},
   "outputs": [
    {
     "data": {
      "image/png": "[encoded data removed]",
      "text/plain": [
       "<Figure size 1080x360 with 1 Axes>"
      ]
     },
     "metadata": {
      "needs_background": "light"
     },
     "output_type": "display_data"
    }
   ],
   "source": [
    "plt.figure(figsize=(15,5))\n",
    "plt.plot(cumulativeRevenueA['date'], cumulativeRevenueA['revenue']/cumulativeRevenueA['orders'], label='A')\n",
    "plt.plot(cumulativeRevenueB['date'], cumulativeRevenueB['revenue']/cumulativeRevenueB['orders'], label='B')\n",
    "plt.title(\"График кумулятивного среднего чека по группам.\")\n",
    "plt.grid()\n",
    "plt.legend() \n",
    "plt.show()"
   ]
  },
  {
   "cell_type": "markdown",
   "metadata": {},
   "source": [
    "*На данном графику таже виден всплеск на 19 число, из за крупного заказа, но после этого средний чек группы В начинает снижаться, а группа А начинает медленно рости. Так же группа А в некоторые даты выше показательсреднего чека, по сравнению с группой В, это  1-го числа и 11-го по 15-е число.*"
   ]
  },
  {
   "cell_type": "markdown",
   "metadata": {},
   "source": [
    "2.3. Постройте график относительного изменения кумулятивного среднего чека группы B к группе A. Сделайте выводы и предположения."
   ]
  },
  {
   "cell_type": "code",
   "execution_count": 26,
   "metadata": {},
   "outputs": [
    {
     "data": {
      "image/png": "[encoded data removed]",
      "text/plain": [
       "<Figure size 1080x360 with 1 Axes>"
      ]
     },
     "metadata": {
      "needs_background": "light"
     },
     "output_type": "display_data"
    }
   ],
   "source": [
    "plt.figure(figsize=(15,5))\n",
    "# собираем данные в одном датафрейме\n",
    "mergedCumulativeRevenue = cumulativeRevenueA.merge(cumulativeRevenueB, left_on='date', right_on='date', how='left', suffixes=['A', 'B'])\n",
    "\n",
    "# cтроим отношение средних чеков\n",
    "plt.plot(mergedCumulativeRevenue['date'], (mergedCumulativeRevenue['revenueB']/mergedCumulativeRevenue['ordersB'])/(mergedCumulativeRevenue['revenueA']/mergedCumulativeRevenue['ordersA'])-1)\n",
    "\n",
    "# добавляем ось X\n",
    "plt.axhline(y=0, color='black', linestyle='--') \n",
    "plt.title(\"График относительного изменения кумулятивного среднего чека группы B к группе A.\")\n",
    "plt.grid()\n",
    "plt.show()"
   ]
  },
  {
   "cell_type": "markdown",
   "metadata": {},
   "source": [
    "*По аналогии с превидушими данными мы видим рост с 01-го по 02-е числа группы В относительно группы А. С 3-его числа группра В превысила группу А. Начиная с 11-го по 15-е число был спад. 19-го числа был выброс группы В, из за заказа №425, после пощел снижение по среднему чеку.*"
   ]
  },
  {
   "cell_type": "markdown",
   "metadata": {},
   "source": [
    "2.4. Постройте график кумулятивного среднего количества заказов по группам. Сделайте выводы и предположения."
   ]
  },
  {
   "cell_type": "code",
   "execution_count": 27,
   "metadata": {},
   "outputs": [
    {
     "data": {
      "image/png": "[encoded data removed]",
      "text/plain": [
       "<Figure size 1080x360 with 1 Axes>"
      ]
     },
     "metadata": {
      "needs_background": "light"
     },
     "output_type": "display_data"
    }
   ],
   "source": [
    "cumulativeData['conversion'] = cumulativeData['orders']/cumulativeData['visitors']\n",
    "\n",
    "cumulativeDataA = cumulativeData[cumulativeData['group']=='A']\n",
    "cumulativeDataB = cumulativeData[cumulativeData['group']=='B']\n",
    "\n",
    "plt.figure(figsize=(15,5))\n",
    "plt.grid()\n",
    "plt.plot(cumulativeDataA['date'], cumulativeDataA['conversion'], label='A')\n",
    "plt.plot(cumulativeDataB['date'], cumulativeDataB['conversion'], label='B')\n",
    "plt.title('График кумулятивного среднего количества заказов по группам')\n",
    "plt.legend()\n",
    "plt.show()"
   ]
  },
  {
   "cell_type": "markdown",
   "metadata": {},
   "source": [
    "*По графику видим что 3-его числа был всплеск конверсия группы А, потом реский спад до 9-го числа, после конверсия более менее стабилизировалась до конца месяца. Конверсия группа В по отношения к группе А росла до 10-го после начался спад.* "
   ]
  },
  {
   "cell_type": "markdown",
   "metadata": {},
   "source": [
    "2.5. Постройте график относительного изменения кумулятивного среднего количества заказов группы B к группе A. Сделайте выводы и предположения."
   ]
  },
  {
   "cell_type": "code",
   "execution_count": 28,
   "metadata": {},
   "outputs": [
    {
     "data": {
      "image/png": "[encoded data removed]",
      "text/plain": [
       "<Figure size 1080x360 with 1 Axes>"
      ]
     },
     "metadata": {
      "needs_background": "light"
     },
     "output_type": "display_data"
    }
   ],
   "source": [
    "mergedCumulativeConversions = cumulativeDataA[['date','conversion']] \\\n",
    "        .merge(cumulativeDataB[['date','conversion']], \\\n",
    "        left_on='date', right_on='date', how='left', suffixes=['A', 'B'])\n",
    "\n",
    "plt.figure(figsize=(15,5))\n",
    "\n",
    "plt.plot(mergedCumulativeConversions['date'], \\\n",
    "         mergedCumulativeConversions['conversionB']/mergedCumulativeConversions['conversionA']-1, \\\n",
    "         label=\"Относительный прирост конверсии группы B относительно группы A\")\n",
    "\n",
    "plt.axhline(y=0, color='black', linestyle='--')\n",
    "plt.axhline(y=0.2, color='grey', linestyle='--')\n",
    "plt.title('График относительного изменения кумулятивного среднего количества заказов группы B к группе A')\n",
    "plt.legend()\n",
    "plt.grid()\n",
    "plt.show()"
   ]
  },
  {
   "cell_type": "markdown",
   "metadata": {},
   "source": [
    "*Почти с самого начала месяца группа В лидирует по конверсии и до конца месяца.Сама высокая точк группы В 15-го числа, далее идет спад, но с 29-го числа пошел рост конверсии группы В.*"
   ]
  },
  {
   "cell_type": "markdown",
   "metadata": {},
   "source": [
    "2.6. Постройте точечный график количества заказов по пользователям. Сделайте выводы и предположения."
   ]
  },
  {
   "cell_type": "code",
   "execution_count": 29,
   "metadata": {},
   "outputs": [
    {
     "name": "stdout",
     "output_type": "stream",
     "text": [
      "          userId  orders\n",
      "1023  4256040402      11\n",
      "591   2458001652      11\n",
      "569   2378935119       9\n",
      "487   2038680547       8\n",
      "44     199603092       5\n",
      "744   3062433592       5\n",
      "55     237748145       5\n",
      "917   3803269165       5\n",
      "299   1230306981       5\n",
      "897   3717692402       5\n"
     ]
    },
    {
     "data": {
      "image/png": "[encoded data removed]",
      "text/plain": [
       "<Figure size 1080x360 with 1 Axes>"
      ]
     },
     "metadata": {
      "needs_background": "light"
     },
     "output_type": "display_data"
    }
   ],
   "source": [
    "ordersByUsers = (\n",
    "    orders.groupby('visitorId', as_index=False)\n",
    "    .agg({'transactionId': 'nunique'})\n",
    ")\n",
    "ordersByUsers.columns = ['userId', 'orders']\n",
    "\n",
    "print(ordersByUsers.sort_values(by='orders', ascending=False).head(10))\n",
    "\n",
    "# серия из чисел от 0 до количества наблюдений в ordersByUsers\n",
    "plt.figure(figsize=(15,5))\n",
    "x_values = pd.Series(range(0, len(ordersByUsers)))\n",
    "plt.scatter(x_values, ordersByUsers['orders']) \n",
    "plt.title('Точечный график количества заказов по пользователям')\n",
    "plt.grid()\n",
    "plt.show()"
   ]
  },
  {
   "cell_type": "markdown",
   "metadata": {},
   "source": [
    "*Больше всего пальзаватель совершил 1 заказ. Не так много пользователей совершили 2 заказа. А пользователи совершившие 3 заказа совсем мало, что бы посмотеть аномалия это или нет нам надо посчитать перцентили. Начиная с 4-х заказов уже точно можно считать  аномалиями.* "
   ]
  },
  {
   "cell_type": "markdown",
   "metadata": {},
   "source": [
    "2.7. Посчитайте 95-й и 99-й перцентили количества заказов на пользователя. Выберите границу для определения аномальных пользователей."
   ]
  },
  {
   "cell_type": "code",
   "execution_count": 30,
   "metadata": {},
   "outputs": [
    {
     "name": "stdout",
     "output_type": "stream",
     "text": [
      "[2. 4.]\n"
     ]
    }
   ],
   "source": [
    "print(np.percentile(ordersByUsers['orders'], [95, 99])) "
   ]
  },
  {
   "cell_type": "markdown",
   "metadata": {},
   "source": [
    "*По данным сложно понять какое количество заказов считать выбросом. Посмотрим более детально.*"
   ]
  },
  {
   "cell_type": "code",
   "execution_count": 31,
   "metadata": {},
   "outputs": [
    {
     "name": "stdout",
     "output_type": "stream",
     "text": [
      "[2. 2. 2. 3. 4.]\n"
     ]
    }
   ],
   "source": [
    "print(np.percentile(ordersByUsers['orders'], [95, 96, 97, 98, 99])) "
   ]
  },
  {
   "cell_type": "markdown",
   "metadata": {},
   "source": [
    "*Теперь можем определить что большее число заказов пользоватеь совершил 1 либо 2 заказа. Так как 98% пользовтелей сделали не более 2 заказов, а то что более 3 заказов можно считать аномалиями.*"
   ]
  },
  {
   "cell_type": "markdown",
   "metadata": {},
   "source": [
    "2.8. Постройте точечный график стоимостей заказов. Сделайте выводы и предположения."
   ]
  },
  {
   "cell_type": "code",
   "execution_count": 32,
   "metadata": {},
   "outputs": [
    {
     "data": {
      "image/png": "[encoded data removed]",
      "text/plain": [
       "<Figure size 1080x360 with 1 Axes>"
      ]
     },
     "metadata": {
      "needs_background": "light"
     },
     "output_type": "display_data"
    }
   ],
   "source": [
    "x_values = pd.Series(range(0,len(orders['revenue'])))\n",
    "plt.figure(figsize=(15,5))\n",
    "plt.grid()\n",
    "plt.title('Точечный график стоимостей заказов')\n",
    "plt.scatter(x_values, orders['revenue'])\n",
    "plt.show()"
   ]
  },
  {
   "cell_type": "markdown",
   "metadata": {},
   "source": [
    "*По данному графику мы видем выброс это заказ №425 на 1294500 и еще один заказ на ~200000, для более детального исследования посмотрим график без явных выбросов.*"
   ]
  },
  {
   "cell_type": "code",
   "execution_count": 33,
   "metadata": {},
   "outputs": [
    {
     "data": {
      "image/png": "[encoded data removed]",
      "text/plain": [
       "<Figure size 1080x360 with 1 Axes>"
      ]
     },
     "metadata": {
      "needs_background": "light"
     },
     "output_type": "display_data"
    }
   ],
   "source": [
    "norm_orders = orders[orders['revenue']<=200000]['revenue']\n",
    "xn_values = pd.Series(range(0,len(norm_orders)))\n",
    "plt.figure(figsize=(15,5))\n",
    "plt.grid()\n",
    "plt.title('Точечный график стоимостей заказов без выбросов')\n",
    "plt.scatter(xn_values, norm_orders)\n",
    "plt.show()"
   ]
  },
  {
   "cell_type": "markdown",
   "metadata": {},
   "source": [
    "*Теперь видно что больше всего заказов совершили на сумму не более 60000, что бы посмотреть более точные выбросы посчитаем перцентили.*"
   ]
  },
  {
   "cell_type": "markdown",
   "metadata": {},
   "source": [
    "2.9. Посчитайте 95-й и 99-й перцентили стоимости заказов. Выберите границу для определения аномальных заказов"
   ]
  },
  {
   "cell_type": "code",
   "execution_count": 34,
   "metadata": {},
   "outputs": [
    {
     "name": "stdout",
     "output_type": "stream",
     "text": [
      "[28000.  58233.2]\n"
     ]
    }
   ],
   "source": [
    "print(np.percentile(orders['revenue'], [95, 99])) "
   ]
  },
  {
   "cell_type": "markdown",
   "metadata": {},
   "source": [
    "*По получинным данным можно сказть что больше всего заказов сделано на сумму до 58233, то что выше можно считать аномалией.*"
   ]
  },
  {
   "cell_type": "markdown",
   "metadata": {},
   "source": [
    "2.10. Посчитайте статистическую значимость различий в среднем количестве заказов между группами по «сырым» данным. Сделайте выводы и предположения."
   ]
  },
  {
   "cell_type": "markdown",
   "metadata": {},
   "source": [
    "Посчитаем статистическую значимость различий в среднем числе заказов на пользователя и среднем чеке между группами по «сырым» данным — без удаления аномальных пользователей.\n",
    "Сформулируем гипотезы. Нулевая: различий в среднем количестве заказов между группами нет. Альтернативная: различия в среднем между группами есть.\n",
    "Начнём с подготовки данных\n"
   ]
  },
  {
   "cell_type": "code",
   "execution_count": 35,
   "metadata": {},
   "outputs": [],
   "source": [
    "visitorsADaily = visitors[visitors['group']=='A'][['date', 'visitors']]\n",
    "visitorsADaily.columns = ['date', 'visitorsPerDateA']\n",
    "\n",
    "visitorsACummulative = visitorsADaily.apply(lambda x: visitorsADaily[visitorsADaily['date'] <= x['date']]. \\\n",
    "                                            agg({'date' : 'max', 'visitorsPerDateA' : 'sum'}), axis=1)\n",
    "visitorsACummulative.columns = ['date', 'visitorsCummulativeA']\n",
    "\n",
    "visitorsBDaily = visitors[visitors['group']=='B'][['date', 'visitors']]\n",
    "visitorsBDaily.columns = ['date', 'visitorsPerDateB']\n",
    "\n",
    "visitorsBCummulative = visitorsBDaily.apply(lambda x: visitorsBDaily[visitorsBDaily['date'] <= x['date']]. \\\n",
    "                                            agg({'date' : 'max', 'visitorsPerDateB' : 'sum'}), axis=1)\n",
    "visitorsBCummulative.columns = ['date', 'visitorsCummulativeB']\n",
    "\n",
    "\n",
    "ordersADaily = orders[orders['group']=='A'][['date', 'transactionId', 'visitorId', 'revenue']]\\\n",
    "    .groupby('date', as_index=False)\\\n",
    "    .agg({'transactionId' : pd.Series.nunique, 'revenue' : 'sum'})\n",
    "ordersADaily.columns = ['date', 'ordersPerDateA', 'revenuePerDateA']\n",
    "\n",
    "ordersACummulative = ordersADaily.apply(\n",
    "    lambda x: \\\n",
    "        ordersADaily[ordersADaily['date'] <= x['date']]\\\n",
    "            .agg({\n",
    "                'date' : 'max',\n",
    "                'ordersPerDateA' : 'sum',\n",
    "                'revenuePerDateA' : 'sum'}), axis=1).sort_values(by=['date'])\n",
    "ordersACummulative.columns = ['date', 'ordersCummulativeA', 'revenueCummulativeA']\n",
    "\n",
    "ordersBDaily = orders[orders['group']=='B'][['date', 'transactionId', 'visitorId', 'revenue']]\\\n",
    "    .groupby('date', as_index=False)\\\n",
    "    .agg({'transactionId' : pd.Series.nunique, 'revenue' : 'sum'})\n",
    "ordersBDaily.columns = ['date', 'ordersPerDateB', 'revenuePerDateB']\n",
    "\n",
    "ordersBCummulative = ordersBDaily.apply(\n",
    "    lambda x: \\\n",
    "        ordersBDaily[ordersBDaily['date'] <= x['date']]\\\n",
    "            .agg({\n",
    "                'date' : 'max',\n",
    "                'ordersPerDateB' : 'sum',\n",
    "                'revenuePerDateB' : 'sum'}), axis=1).sort_values(by=['date'])\n",
    "ordersBCummulative.columns = ['date', 'ordersCummulativeB', 'revenueCummulativeB']"
   ]
  },
  {
   "cell_type": "code",
   "execution_count": 36,
   "metadata": {},
   "outputs": [
    {
     "data": {
      "text/html": [
       "<div>\n",
       "<style scoped>\n",
       "    .dataframe tbody tr th:only-of-type {\n",
       "        vertical-align: middle;\n",
       "    }\n",
       "\n",
       "    .dataframe tbody tr th {\n",
       "        vertical-align: top;\n",
       "    }\n",
       "\n",
       "    .dataframe thead th {\n",
       "        text-align: right;\n",
       "    }\n",
       "</style>\n",
       "<table border=\"1\" class=\"dataframe\">\n",
       "  <thead>\n",
       "    <tr style=\"text-align: right;\">\n",
       "      <th></th>\n",
       "      <th>date</th>\n",
       "      <th>ordersPerDateA</th>\n",
       "      <th>revenuePerDateA</th>\n",
       "      <th>ordersPerDateB</th>\n",
       "      <th>revenuePerDateB</th>\n",
       "      <th>ordersCummulativeA</th>\n",
       "      <th>revenueCummulativeA</th>\n",
       "      <th>ordersCummulativeB</th>\n",
       "      <th>revenueCummulativeB</th>\n",
       "      <th>visitorsPerDateA</th>\n",
       "      <th>visitorsPerDateB</th>\n",
       "      <th>visitorsCummulativeA</th>\n",
       "      <th>visitorsCummulativeB</th>\n",
       "    </tr>\n",
       "  </thead>\n",
       "  <tbody>\n",
       "    <tr>\n",
       "      <th>3</th>\n",
       "      <td>2019-08-04</td>\n",
       "      <td>16</td>\n",
       "      <td>70825</td>\n",
       "      <td>17</td>\n",
       "      <td>108571</td>\n",
       "      <td>84</td>\n",
       "      <td>425699</td>\n",
       "      <td>78</td>\n",
       "      <td>489567</td>\n",
       "      <td>717</td>\n",
       "      <td>770</td>\n",
       "      <td>2562</td>\n",
       "      <td>2573</td>\n",
       "    </tr>\n",
       "    <tr>\n",
       "      <th>14</th>\n",
       "      <td>2019-08-15</td>\n",
       "      <td>15</td>\n",
       "      <td>88205</td>\n",
       "      <td>31</td>\n",
       "      <td>342499</td>\n",
       "      <td>283</td>\n",
       "      <td>1979057</td>\n",
       "      <td>339</td>\n",
       "      <td>2367945</td>\n",
       "      <td>628</td>\n",
       "      <td>544</td>\n",
       "      <td>9686</td>\n",
       "      <td>9600</td>\n",
       "    </tr>\n",
       "    <tr>\n",
       "      <th>27</th>\n",
       "      <td>2019-08-28</td>\n",
       "      <td>17</td>\n",
       "      <td>101122</td>\n",
       "      <td>28</td>\n",
       "      <td>96008</td>\n",
       "      <td>512</td>\n",
       "      <td>3615820</td>\n",
       "      <td>576</td>\n",
       "      <td>5328268</td>\n",
       "      <td>594</td>\n",
       "      <td>654</td>\n",
       "      <td>16970</td>\n",
       "      <td>17177</td>\n",
       "    </tr>\n",
       "    <tr>\n",
       "      <th>16</th>\n",
       "      <td>2019-08-17</td>\n",
       "      <td>10</td>\n",
       "      <td>50861</td>\n",
       "      <td>14</td>\n",
       "      <td>81155</td>\n",
       "      <td>311</td>\n",
       "      <td>2129769</td>\n",
       "      <td>373</td>\n",
       "      <td>2620790</td>\n",
       "      <td>412</td>\n",
       "      <td>421</td>\n",
       "      <td>10459</td>\n",
       "      <td>10434</td>\n",
       "    </tr>\n",
       "    <tr>\n",
       "      <th>30</th>\n",
       "      <td>2019-08-31</td>\n",
       "      <td>12</td>\n",
       "      <td>61833</td>\n",
       "      <td>20</td>\n",
       "      <td>133129</td>\n",
       "      <td>557</td>\n",
       "      <td>4084803</td>\n",
       "      <td>640</td>\n",
       "      <td>5907760</td>\n",
       "      <td>699</td>\n",
       "      <td>718</td>\n",
       "      <td>18736</td>\n",
       "      <td>18916</td>\n",
       "    </tr>\n",
       "  </tbody>\n",
       "</table>\n",
       "</div>"
      ],
      "text/plain": [
       "         date  ordersPerDateA  revenuePerDateA  ordersPerDateB  \\\n",
       "3  2019-08-04              16            70825              17   \n",
       "14 2019-08-15              15            88205              31   \n",
       "27 2019-08-28              17           101122              28   \n",
       "16 2019-08-17              10            50861              14   \n",
       "30 2019-08-31              12            61833              20   \n",
       "\n",
       "    revenuePerDateB  ordersCummulativeA  revenueCummulativeA  \\\n",
       "3            108571                  84               425699   \n",
       "14           342499                 283              1979057   \n",
       "27            96008                 512              3615820   \n",
       "16            81155                 311              2129769   \n",
       "30           133129                 557              4084803   \n",
       "\n",
       "    ordersCummulativeB  revenueCummulativeB  visitorsPerDateA  \\\n",
       "3                   78               489567               717   \n",
       "14                 339              2367945               628   \n",
       "27                 576              5328268               594   \n",
       "16                 373              2620790               412   \n",
       "30                 640              5907760               699   \n",
       "\n",
       "    visitorsPerDateB  visitorsCummulativeA  visitorsCummulativeB  \n",
       "3                770                  2562                  2573  \n",
       "14               544                  9686                  9600  \n",
       "27               654                 16970                 17177  \n",
       "16               421                 10459                 10434  \n",
       "30               718                 18736                 18916  "
      ]
     },
     "execution_count": 36,
     "metadata": {},
     "output_type": "execute_result"
    }
   ],
   "source": [
    "data = ordersADaily.merge(ordersBDaily, left_on='date', right_on='date', how='left')\\\n",
    "    .merge(ordersACummulative, left_on='date', right_on='date', how='left')\\\n",
    "    .merge(ordersBCummulative, left_on='date', right_on='date', how='left')\\\n",
    "    .merge(visitorsADaily, left_on='date', right_on='date', how='left')\\\n",
    "    .merge(visitorsBDaily, left_on='date', right_on='date', how='left')\\\n",
    "    .merge(visitorsACummulative, left_on='date', right_on='date', how='left')\\\n",
    "    .merge(visitorsBCummulative, left_on='date', right_on='date', how='left')\n",
    "data.sample(5)"
   ]
  },
  {
   "cell_type": "markdown",
   "metadata": {},
   "source": [
    "Посчитаем статистическую значимость различия в среднем количестве заказов между группами.\n",
    "Создадим переменные ordersByUsersA и ordersByUsersB со столбцами ['userId', 'orders']. В них для пользователей, которые заказывали хотя бы 1 раз, укажем число совершённых заказов.\n"
   ]
  },
  {
   "cell_type": "code",
   "execution_count": 37,
   "metadata": {},
   "outputs": [
    {
     "name": "stdout",
     "output_type": "stream",
     "text": [
      "p-value = 0.01679\n",
      "Относительный выигрыш группы B над А = 0.138\n"
     ]
    }
   ],
   "source": [
    "ordersByUsersA = orders[orders['group']=='A'].groupby('visitorId', as_index=False).agg({'transactionId' : pd.Series.nunique})\n",
    "ordersByUsersA.columns = ['userId', 'orders']\n",
    "\n",
    "ordersByUsersB = orders[orders['group']=='B'].groupby('visitorId', as_index=False).agg({'transactionId' : pd.Series.nunique})\n",
    "ordersByUsersB.columns = ['userId', 'orders']\n",
    "\n",
    "sampleA = pd.concat([ordersByUsersA['orders'],pd.Series(0, index=np.arange(data['visitorsPerDateA'].sum() - len(ordersByUsersA['orders'])), name='orders')],axis=0)\n",
    "\n",
    "sampleB = pd.concat([ordersByUsersB['orders'],pd.Series(0, index=np.arange(data['visitorsPerDateB'].sum() - len(ordersByUsersB['orders'])), name='orders')],axis=0)\n",
    "\n",
    "print(\"p-value = {0:.5f}\".format(stats.mannwhitneyu(sampleA, sampleB)[1]))\n",
    "print(\"Относительный выигрыш группы B над А = {0:.3f}\".format(sampleB.mean()/sampleA.mean()-1)) "
   ]
  },
  {
   "cell_type": "markdown",
   "metadata": {},
   "source": [
    "*Первое число — p-value = 0.01679 меньше 0.05. Значит, нулевую гипотезу о том, что статистически значимых различий в среднем числе заказов между группами нет, отвергаем. Значит по сырым данным конвесии группы А и В есть. Однако относительный выигрыш группы B над А равен 13.8% .*\n",
    "\n"
   ]
  },
  {
   "cell_type": "markdown",
   "metadata": {},
   "source": [
    "2.11. Посчитайте статистическую значимость различий в среднем чеке заказа между группами по «сырым» данным. Сделайте выводы и предположения."
   ]
  },
  {
   "cell_type": "markdown",
   "metadata": {},
   "source": [
    "*Теперь проверим статистическую значимость различий в среднем чеке между сегментами. Нулевая гипотеза: различий в среднем чеке между группами нет. Альтернативная гипотеза: различия в среднем чеке между группами есть.*\n",
    "*Чтобы рассчитать статистическую значимость различий в среднем чеке, передадим критерию mannwhitneyu() данные о выручке с заказов.*\n",
    "*А ещё найдём относительные различия в среднем чеке между группами.*"
   ]
  },
  {
   "cell_type": "code",
   "execution_count": 38,
   "metadata": {},
   "outputs": [
    {
     "name": "stdout",
     "output_type": "stream",
     "text": [
      "0.729\n",
      "0.259\n"
     ]
    }
   ],
   "source": [
    "print('{0:.3f}'.format(stats.mannwhitneyu(orders[orders['group']=='A']['revenue'], orders[orders['group']=='B']['revenue'])[1]))\n",
    "print('{0:.3f}'.format(orders[orders['group']=='B']['revenue'].mean()/orders[orders['group']=='A']['revenue'].mean()-1))"
   ]
  },
  {
   "cell_type": "markdown",
   "metadata": {},
   "source": [
    "*P-value больше 0.05. Значит, причин отвергать нулевую гипотезу и считать, что в среднем чеке есть различия, нет. Впрочем, средний чек группы B значительно выше среднего чека группы A на 25,9%.*"
   ]
  },
  {
   "cell_type": "markdown",
   "metadata": {},
   "source": [
    "2.12. Посчитайте статистическую значимость различий в среднем количестве заказов между группами по «очищенным» данным. Сделайте выводы и предположения."
   ]
  },
  {
   "cell_type": "markdown",
   "metadata": {},
   "source": [
    "*Ранее мы выяснили что анамалии у нас те кто совершил покупки более 3-х раз и на сумму более 58233.2.*\n",
    "\n",
    "*На основании этих данных сделаем срез.*"
   ]
  },
  {
   "cell_type": "code",
   "execution_count": 39,
   "metadata": {},
   "outputs": [
    {
     "name": "stdout",
     "output_type": "stream",
     "text": [
      "1099    148427295\n",
      "18      199603092\n",
      "23      237748145\n",
      "37      249864742\n",
      "68      457167155\n",
      "dtype: int64\n",
      "31\n"
     ]
    }
   ],
   "source": [
    "usersWithManyOrders = pd.concat([ordersByUsersA[ordersByUsersA['orders'] > 2]['userId'], ordersByUsersB[ordersByUsersB['orders'] > 2]['userId']], axis = 0)\n",
    "usersWithExpensiveOrders = orders[orders['revenue'] > 58233.2]['visitorId']\n",
    "abnormalUsers = pd.concat([usersWithManyOrders, usersWithExpensiveOrders], axis = 0).drop_duplicates().sort_values()\n",
    "print(abnormalUsers.head(5))\n",
    "print(abnormalUsers.shape[0])"
   ]
  },
  {
   "cell_type": "markdown",
   "metadata": {},
   "source": [
    "*Всего анамальных пользоателей 31.*"
   ]
  },
  {
   "cell_type": "markdown",
   "metadata": {},
   "source": [
    "*Узнаем, как их действия повлияли на результаты теста.* "
   ]
  },
  {
   "cell_type": "code",
   "execution_count": 40,
   "metadata": {},
   "outputs": [],
   "source": [
    "sampleAFiltered = pd.concat([ordersByUsersA[np.logical_not(ordersByUsersA['userId'].isin(abnormalUsers))]['orders'], \\\n",
    "                             pd.Series(0, index=np.arange(data['visitorsPerDateA'].sum() - len(ordersByUsersA['orders'])), \\\n",
    "                                       name='orders')],axis=0)\n",
    "\n",
    "sampleBFiltered = pd.concat([ordersByUsersB[np.logical_not(ordersByUsersB['userId'].isin(abnormalUsers))]['orders'], \\\n",
    "                             pd.Series(0, index=np.arange(data['visitorsPerDateB'].sum() - len(ordersByUsersB['orders'])), \\\n",
    "                                       name='orders')],axis=0) "
   ]
  },
  {
   "cell_type": "code",
   "execution_count": 41,
   "metadata": {},
   "outputs": [
    {
     "name": "stdout",
     "output_type": "stream",
     "text": [
      "0.010\n",
      "0.174\n"
     ]
    }
   ],
   "source": [
    "print('{0:.3f}'.format(stats.mannwhitneyu(sampleAFiltered, sampleBFiltered)[1]))\n",
    "print('{0:.3f}'.format(sampleBFiltered.mean()/sampleAFiltered.mean()-1))"
   ]
  },
  {
   "cell_type": "markdown",
   "metadata": {},
   "source": [
    "*Первое число — p-value = 0.010 меньше 0.05. Значит, нулевую гипотезу о том, что статистически значимых различий в среднем числе заказов между группами нет, отвергаем. Однако относительный выигрыш группы B равен 17.4% — второе число в выводе*"
   ]
  },
  {
   "cell_type": "markdown",
   "metadata": {},
   "source": [
    "2.13. Посчитайте статистическую значимость различий в среднем чеке заказа между группами по «очищенным» данным. Сделайте выводы и предположения."
   ]
  },
  {
   "cell_type": "code",
   "execution_count": 42,
   "metadata": {},
   "outputs": [
    {
     "name": "stdout",
     "output_type": "stream",
     "text": [
      "0.798\n",
      "-0.020\n"
     ]
    }
   ],
   "source": [
    "print(\n",
    "    '{0:.3f}'.format(\n",
    "        stats.mannwhitneyu(\n",
    "            orders[\n",
    "                np.logical_and(\n",
    "                    orders['group'] == 'A',\n",
    "                    np.logical_not(orders['visitorId'].isin(abnormalUsers)),\n",
    "                )\n",
    "            ]['revenue'],\n",
    "            orders[\n",
    "                np.logical_and(\n",
    "                    orders['group'] == 'B',\n",
    "                    np.logical_not(orders['visitorId'].isin(abnormalUsers)),\n",
    "                )\n",
    "            ]['revenue'],\n",
    "        )[1]\n",
    "    )\n",
    ")\n",
    "\n",
    "print(\n",
    "    \"{0:.3f}\".format(\n",
    "        orders[\n",
    "            np.logical_and(\n",
    "                orders['group'] == 'B',\n",
    "                np.logical_not(orders['visitorId'].isin(abnormalUsers)),\n",
    "            )\n",
    "        ]['revenue'].mean()\n",
    "        / orders[\n",
    "            np.logical_and(\n",
    "                orders['group'] == 'A',\n",
    "                np.logical_not(orders['visitorId'].isin(abnormalUsers)),\n",
    "            )\n",
    "        ]['revenue'].mean()\n",
    "        - 1\n",
    "    )\n",
    ")\n"
   ]
  },
  {
   "cell_type": "markdown",
   "metadata": {},
   "source": [
    "*P-value больше 0.05. Значит, причин отвергать нулевую гипотезу и считать, что в среднем чеке есть различия,тоже нет. А вот средний чек группы B оказался незначительно (на 2%) ниже среднего чека группы A, в то время как по \"сырым\" данным, он был больше аж на ~26%, - и всё это из-за одного того самого аномального заказа №425 на 1,3 млн !*"
   ]
  },
  {
   "cell_type": "markdown",
   "metadata": {},
   "source": [
    "2.14. Примите решение по результатам теста и объясните его. Варианты решений: 1. Остановить тест, зафиксировать победу одной из групп. 2. Остановить тест, зафиксировать отсутствие различий между группами. 3. Продолжить тест."
   ]
  },
  {
   "cell_type": "markdown",
   "metadata": {},
   "source": [
    "*На основании проведенного тестирования,можно принять решение остановить тестирование и зафиксировать победу группы В.*"
   ]
  }
 ],
 "metadata": {
  "ExecuteTimeLog": [
   {
    "duration": 365,
    "start_time": "2022-10-14T21:05:04.883Z"
   },
   {
    "duration": 98,
    "start_time": "2022-10-14T21:05:06.026Z"
   },
   {
    "duration": 69,
    "start_time": "2022-10-14T21:10:11.885Z"
   },
   {
    "duration": 25,
    "start_time": "2022-10-14T21:10:24.878Z"
   },
   {
    "duration": 2,
    "start_time": "2022-10-14T21:11:06.711Z"
   },
   {
    "duration": 18,
    "start_time": "2022-10-14T21:11:08.013Z"
   },
   {
    "duration": 11,
    "start_time": "2022-10-14T21:13:56.521Z"
   },
   {
    "duration": 19,
    "start_time": "2022-10-14T21:14:08.269Z"
   },
   {
    "duration": 19,
    "start_time": "2022-10-14T21:14:15.234Z"
   },
   {
    "duration": 19,
    "start_time": "2022-10-14T21:14:22.367Z"
   },
   {
    "duration": 19,
    "start_time": "2022-10-14T21:14:25.683Z"
   },
   {
    "duration": 20,
    "start_time": "2022-10-14T21:14:31.215Z"
   },
   {
    "duration": 6,
    "start_time": "2022-10-14T21:15:20.764Z"
   },
   {
    "duration": 5,
    "start_time": "2022-10-14T21:15:51.942Z"
   },
   {
    "duration": 3,
    "start_time": "2022-10-14T21:17:06.482Z"
   },
   {
    "duration": 7,
    "start_time": "2022-10-14T21:17:32.569Z"
   },
   {
    "duration": 57,
    "start_time": "2022-10-14T21:17:47.882Z"
   },
   {
    "duration": 22,
    "start_time": "2022-10-14T21:20:54.903Z"
   },
   {
    "duration": 28,
    "start_time": "2022-10-14T21:21:14.077Z"
   },
   {
    "duration": 29,
    "start_time": "2022-10-14T21:21:26.476Z"
   },
   {
    "duration": 28,
    "start_time": "2022-10-14T21:21:36.238Z"
   },
   {
    "duration": 30,
    "start_time": "2022-10-14T21:24:52.113Z"
   },
   {
    "duration": 10,
    "start_time": "2022-10-14T21:25:59.800Z"
   },
   {
    "duration": 6,
    "start_time": "2022-10-14T21:27:00.045Z"
   },
   {
    "duration": 5,
    "start_time": "2022-10-14T21:27:47.924Z"
   },
   {
    "duration": 166,
    "start_time": "2022-10-14T21:29:16.087Z"
   },
   {
    "duration": 403,
    "start_time": "2022-10-14T21:29:22.893Z"
   },
   {
    "duration": 24,
    "start_time": "2022-10-14T21:29:23.297Z"
   },
   {
    "duration": 10,
    "start_time": "2022-10-14T21:29:23.323Z"
   },
   {
    "duration": 9,
    "start_time": "2022-10-14T21:29:23.334Z"
   },
   {
    "duration": 6,
    "start_time": "2022-10-14T21:29:23.344Z"
   },
   {
    "duration": 8,
    "start_time": "2022-10-14T21:29:23.352Z"
   },
   {
    "duration": 24,
    "start_time": "2022-10-14T21:29:23.361Z"
   },
   {
    "duration": 8,
    "start_time": "2022-10-14T21:29:23.387Z"
   },
   {
    "duration": 296,
    "start_time": "2022-10-14T21:29:23.397Z"
   },
   {
    "duration": 0,
    "start_time": "2022-10-14T21:29:23.695Z"
   },
   {
    "duration": 0,
    "start_time": "2022-10-14T21:29:23.696Z"
   },
   {
    "duration": 0,
    "start_time": "2022-10-14T21:29:23.697Z"
   },
   {
    "duration": 2,
    "start_time": "2022-10-14T21:29:57.348Z"
   },
   {
    "duration": 435,
    "start_time": "2022-10-14T21:30:03.019Z"
   },
   {
    "duration": 26,
    "start_time": "2022-10-14T21:30:03.455Z"
   },
   {
    "duration": 10,
    "start_time": "2022-10-14T21:30:03.483Z"
   },
   {
    "duration": 8,
    "start_time": "2022-10-14T21:30:03.495Z"
   },
   {
    "duration": 7,
    "start_time": "2022-10-14T21:30:03.505Z"
   },
   {
    "duration": 14,
    "start_time": "2022-10-14T21:30:03.514Z"
   },
   {
    "duration": 26,
    "start_time": "2022-10-14T21:30:03.530Z"
   },
   {
    "duration": 10,
    "start_time": "2022-10-14T21:30:03.557Z"
   },
   {
    "duration": 22,
    "start_time": "2022-10-14T21:30:03.568Z"
   },
   {
    "duration": 10,
    "start_time": "2022-10-14T21:30:03.592Z"
   },
   {
    "duration": 10,
    "start_time": "2022-10-14T21:30:03.603Z"
   },
   {
    "duration": 9,
    "start_time": "2022-10-14T21:30:03.622Z"
   },
   {
    "duration": 394,
    "start_time": "2022-10-14T21:31:32.314Z"
   },
   {
    "duration": 24,
    "start_time": "2022-10-14T21:31:32.709Z"
   },
   {
    "duration": 7,
    "start_time": "2022-10-14T21:31:32.736Z"
   },
   {
    "duration": 13,
    "start_time": "2022-10-14T21:31:32.744Z"
   },
   {
    "duration": 7,
    "start_time": "2022-10-14T21:31:32.758Z"
   },
   {
    "duration": 7,
    "start_time": "2022-10-14T21:31:32.766Z"
   },
   {
    "duration": 25,
    "start_time": "2022-10-14T21:31:32.774Z"
   },
   {
    "duration": 9,
    "start_time": "2022-10-14T21:31:32.800Z"
   },
   {
    "duration": 26,
    "start_time": "2022-10-14T21:31:32.810Z"
   },
   {
    "duration": 5,
    "start_time": "2022-10-14T21:31:32.838Z"
   },
   {
    "duration": 7,
    "start_time": "2022-10-14T21:31:32.845Z"
   },
   {
    "duration": 9,
    "start_time": "2022-10-14T21:31:32.853Z"
   },
   {
    "duration": 90,
    "start_time": "2022-10-14T21:34:17.178Z"
   },
   {
    "duration": 19,
    "start_time": "2022-10-14T21:34:45.297Z"
   },
   {
    "duration": 17,
    "start_time": "2022-10-14T21:34:53.320Z"
   },
   {
    "duration": 10,
    "start_time": "2022-10-14T21:35:16.850Z"
   },
   {
    "duration": 13,
    "start_time": "2022-10-14T21:37:57.554Z"
   },
   {
    "duration": 6,
    "start_time": "2022-10-14T21:38:37.890Z"
   },
   {
    "duration": 5,
    "start_time": "2022-10-14T21:38:56.236Z"
   },
   {
    "duration": 62,
    "start_time": "2022-10-14T21:40:45.382Z"
   },
   {
    "duration": 59,
    "start_time": "2022-10-14T21:46:05.908Z"
   },
   {
    "duration": 2,
    "start_time": "2022-10-14T21:46:14.874Z"
   },
   {
    "duration": 15,
    "start_time": "2022-10-14T21:46:38.991Z"
   },
   {
    "duration": 15,
    "start_time": "2022-10-14T21:48:31.455Z"
   },
   {
    "duration": 9,
    "start_time": "2022-10-14T21:48:42.631Z"
   },
   {
    "duration": 2,
    "start_time": "2022-10-14T21:49:00.943Z"
   },
   {
    "duration": 9,
    "start_time": "2022-10-14T21:49:20.205Z"
   },
   {
    "duration": 857,
    "start_time": "2022-10-15T21:11:03.378Z"
   },
   {
    "duration": 46,
    "start_time": "2022-10-15T21:11:04.238Z"
   },
   {
    "duration": 12,
    "start_time": "2022-10-15T21:11:04.286Z"
   },
   {
    "duration": 26,
    "start_time": "2022-10-15T21:11:04.301Z"
   },
   {
    "duration": 50,
    "start_time": "2022-10-15T21:11:04.329Z"
   },
   {
    "duration": 44,
    "start_time": "2022-10-15T21:11:04.381Z"
   },
   {
    "duration": 72,
    "start_time": "2022-10-15T21:11:04.428Z"
   },
   {
    "duration": 16,
    "start_time": "2022-10-15T21:11:04.503Z"
   },
   {
    "duration": 28,
    "start_time": "2022-10-15T21:11:04.522Z"
   },
   {
    "duration": 14,
    "start_time": "2022-10-15T21:11:04.553Z"
   },
   {
    "duration": 9,
    "start_time": "2022-10-15T21:11:04.569Z"
   },
   {
    "duration": 51,
    "start_time": "2022-10-15T21:11:04.580Z"
   },
   {
    "duration": 13,
    "start_time": "2022-10-15T21:11:04.633Z"
   },
   {
    "duration": 12,
    "start_time": "2022-10-15T21:11:04.648Z"
   },
   {
    "duration": 12,
    "start_time": "2022-10-15T21:11:04.662Z"
   },
   {
    "duration": 11,
    "start_time": "2022-10-15T21:11:04.676Z"
   },
   {
    "duration": 18,
    "start_time": "2022-10-15T21:11:04.688Z"
   },
   {
    "duration": 22,
    "start_time": "2022-10-15T21:11:04.708Z"
   },
   {
    "duration": 7,
    "start_time": "2022-10-15T21:11:04.732Z"
   },
   {
    "duration": 18,
    "start_time": "2022-10-15T21:11:04.741Z"
   },
   {
    "duration": 683,
    "start_time": "2022-10-15T21:34:38.028Z"
   },
   {
    "duration": 25,
    "start_time": "2022-10-15T21:34:38.713Z"
   },
   {
    "duration": 8,
    "start_time": "2022-10-15T21:34:38.739Z"
   },
   {
    "duration": 12,
    "start_time": "2022-10-15T21:34:38.754Z"
   },
   {
    "duration": 13,
    "start_time": "2022-10-15T21:34:38.769Z"
   },
   {
    "duration": 7,
    "start_time": "2022-10-15T21:34:38.783Z"
   },
   {
    "duration": 42,
    "start_time": "2022-10-15T21:34:38.791Z"
   },
   {
    "duration": 11,
    "start_time": "2022-10-15T21:34:38.835Z"
   },
   {
    "duration": 24,
    "start_time": "2022-10-15T21:34:38.848Z"
   },
   {
    "duration": 17,
    "start_time": "2022-10-15T21:34:38.873Z"
   },
   {
    "duration": 22,
    "start_time": "2022-10-15T21:34:38.892Z"
   },
   {
    "duration": 16,
    "start_time": "2022-10-15T21:34:38.916Z"
   },
   {
    "duration": 11,
    "start_time": "2022-10-15T21:34:38.933Z"
   },
   {
    "duration": 12,
    "start_time": "2022-10-15T21:34:38.953Z"
   },
   {
    "duration": 9,
    "start_time": "2022-10-15T21:34:38.967Z"
   },
   {
    "duration": 10,
    "start_time": "2022-10-15T21:34:38.978Z"
   },
   {
    "duration": 9,
    "start_time": "2022-10-15T21:34:38.989Z"
   },
   {
    "duration": 14,
    "start_time": "2022-10-15T21:34:39.000Z"
   },
   {
    "duration": 2,
    "start_time": "2022-10-15T21:34:39.016Z"
   },
   {
    "duration": 37,
    "start_time": "2022-10-15T21:34:39.020Z"
   },
   {
    "duration": 566,
    "start_time": "2022-10-15T21:34:39.059Z"
   },
   {
    "duration": 278,
    "start_time": "2022-10-15T21:37:37.334Z"
   },
   {
    "duration": 199,
    "start_time": "2022-10-15T21:38:36.101Z"
   },
   {
    "duration": 216,
    "start_time": "2022-10-15T21:38:57.995Z"
   },
   {
    "duration": 272,
    "start_time": "2022-10-15T21:43:03.914Z"
   },
   {
    "duration": 209,
    "start_time": "2022-10-15T21:45:19.291Z"
   },
   {
    "duration": 848,
    "start_time": "2022-10-16T04:08:35.155Z"
   },
   {
    "duration": 100,
    "start_time": "2022-10-16T04:08:36.005Z"
   },
   {
    "duration": 8,
    "start_time": "2022-10-16T04:08:36.106Z"
   },
   {
    "duration": 15,
    "start_time": "2022-10-16T04:08:36.116Z"
   },
   {
    "duration": 8,
    "start_time": "2022-10-16T04:08:36.133Z"
   },
   {
    "duration": 7,
    "start_time": "2022-10-16T04:08:36.142Z"
   },
   {
    "duration": 163,
    "start_time": "2022-10-16T04:08:36.150Z"
   },
   {
    "duration": 11,
    "start_time": "2022-10-16T04:08:36.315Z"
   },
   {
    "duration": 22,
    "start_time": "2022-10-16T04:08:36.328Z"
   },
   {
    "duration": 7,
    "start_time": "2022-10-16T04:08:36.353Z"
   },
   {
    "duration": 12,
    "start_time": "2022-10-16T04:08:36.362Z"
   },
   {
    "duration": 81,
    "start_time": "2022-10-16T04:08:36.375Z"
   },
   {
    "duration": 10,
    "start_time": "2022-10-16T04:08:36.457Z"
   },
   {
    "duration": 15,
    "start_time": "2022-10-16T04:08:36.469Z"
   },
   {
    "duration": 10,
    "start_time": "2022-10-16T04:08:36.486Z"
   },
   {
    "duration": 12,
    "start_time": "2022-10-16T04:08:36.498Z"
   },
   {
    "duration": 15,
    "start_time": "2022-10-16T04:08:36.511Z"
   },
   {
    "duration": 10,
    "start_time": "2022-10-16T04:08:36.528Z"
   },
   {
    "duration": 4,
    "start_time": "2022-10-16T04:08:36.539Z"
   },
   {
    "duration": 12,
    "start_time": "2022-10-16T04:08:36.545Z"
   },
   {
    "duration": 569,
    "start_time": "2022-10-16T04:08:36.558Z"
   },
   {
    "duration": 322,
    "start_time": "2022-10-16T04:08:37.129Z"
   },
   {
    "duration": 20,
    "start_time": "2022-10-16T04:17:13.602Z"
   },
   {
    "duration": 15,
    "start_time": "2022-10-16T04:24:22.828Z"
   },
   {
    "duration": 10,
    "start_time": "2022-10-16T04:25:21.672Z"
   },
   {
    "duration": 10,
    "start_time": "2022-10-16T04:26:03.320Z"
   },
   {
    "duration": 180,
    "start_time": "2022-10-16T04:37:04.713Z"
   },
   {
    "duration": 208,
    "start_time": "2022-10-16T04:37:48.794Z"
   },
   {
    "duration": 278,
    "start_time": "2022-10-16T04:38:10.012Z"
   },
   {
    "duration": 354,
    "start_time": "2022-10-16T04:47:09.145Z"
   },
   {
    "duration": 300,
    "start_time": "2022-10-16T04:47:31.306Z"
   },
   {
    "duration": 311,
    "start_time": "2022-10-16T04:47:49.028Z"
   },
   {
    "duration": 314,
    "start_time": "2022-10-16T04:48:04.202Z"
   },
   {
    "duration": 295,
    "start_time": "2022-10-16T04:48:29.136Z"
   },
   {
    "duration": 239,
    "start_time": "2022-10-16T05:04:07.041Z"
   },
   {
    "duration": 318,
    "start_time": "2022-10-16T05:04:28.481Z"
   },
   {
    "duration": 239,
    "start_time": "2022-10-16T05:04:59.140Z"
   },
   {
    "duration": 257,
    "start_time": "2022-10-16T05:11:30.886Z"
   },
   {
    "duration": 74,
    "start_time": "2022-10-16T05:19:31.113Z"
   },
   {
    "duration": 9,
    "start_time": "2022-10-16T05:19:47.146Z"
   },
   {
    "duration": 319,
    "start_time": "2022-10-16T05:20:17.219Z"
   },
   {
    "duration": 408,
    "start_time": "2022-10-16T05:22:38.041Z"
   },
   {
    "duration": 316,
    "start_time": "2022-10-16T05:22:44.999Z"
   },
   {
    "duration": 326,
    "start_time": "2022-10-16T05:23:03.503Z"
   },
   {
    "duration": 331,
    "start_time": "2022-10-16T05:23:21.630Z"
   },
   {
    "duration": 344,
    "start_time": "2022-10-16T05:23:32.248Z"
   },
   {
    "duration": 405,
    "start_time": "2022-10-16T05:26:01.956Z"
   },
   {
    "duration": 381,
    "start_time": "2022-10-16T05:26:14.359Z"
   },
   {
    "duration": 78,
    "start_time": "2022-10-16T05:26:58.131Z"
   },
   {
    "duration": 353,
    "start_time": "2022-10-16T05:27:13.795Z"
   },
   {
    "duration": 279,
    "start_time": "2022-10-16T05:28:11.608Z"
   },
   {
    "duration": 304,
    "start_time": "2022-10-16T05:28:47.633Z"
   },
   {
    "duration": 9,
    "start_time": "2022-10-16T05:40:37.632Z"
   },
   {
    "duration": 20,
    "start_time": "2022-10-16T05:41:37.359Z"
   },
   {
    "duration": 132,
    "start_time": "2022-10-16T05:42:41.606Z"
   },
   {
    "duration": 225,
    "start_time": "2022-10-16T05:43:06.693Z"
   },
   {
    "duration": 181,
    "start_time": "2022-10-16T05:43:30.794Z"
   },
   {
    "duration": 159,
    "start_time": "2022-10-16T05:43:37.980Z"
   },
   {
    "duration": 363,
    "start_time": "2022-10-16T05:44:14.467Z"
   },
   {
    "duration": 161,
    "start_time": "2022-10-16T05:44:20.646Z"
   },
   {
    "duration": 165,
    "start_time": "2022-10-16T05:55:02.566Z"
   },
   {
    "duration": 5,
    "start_time": "2022-10-16T05:57:21.165Z"
   },
   {
    "duration": 4,
    "start_time": "2022-10-16T05:57:30.158Z"
   },
   {
    "duration": 5,
    "start_time": "2022-10-16T06:00:04.838Z"
   },
   {
    "duration": 172,
    "start_time": "2022-10-16T06:02:33.153Z"
   },
   {
    "duration": 179,
    "start_time": "2022-10-16T06:03:10.782Z"
   },
   {
    "duration": 163,
    "start_time": "2022-10-16T06:03:37.166Z"
   },
   {
    "duration": 184,
    "start_time": "2022-10-16T06:06:32.574Z"
   },
   {
    "duration": 74,
    "start_time": "2022-10-16T06:10:44.081Z"
   },
   {
    "duration": 164,
    "start_time": "2022-10-16T06:10:54.653Z"
   },
   {
    "duration": 249,
    "start_time": "2022-10-16T06:11:13.916Z"
   },
   {
    "duration": 166,
    "start_time": "2022-10-16T06:11:27.622Z"
   },
   {
    "duration": 214,
    "start_time": "2022-10-16T06:11:55.287Z"
   },
   {
    "duration": 167,
    "start_time": "2022-10-16T06:12:03.394Z"
   },
   {
    "duration": 191,
    "start_time": "2022-10-16T06:12:44.430Z"
   },
   {
    "duration": 160,
    "start_time": "2022-10-16T06:12:50.234Z"
   },
   {
    "duration": 148,
    "start_time": "2022-10-16T06:13:23.437Z"
   },
   {
    "duration": 181,
    "start_time": "2022-10-16T06:13:42.932Z"
   },
   {
    "duration": 156,
    "start_time": "2022-10-16T06:16:39.644Z"
   },
   {
    "duration": 1111,
    "start_time": "2022-10-16T06:24:26.810Z"
   },
   {
    "duration": 5,
    "start_time": "2022-10-16T06:25:01.601Z"
   },
   {
    "duration": 1253,
    "start_time": "2022-10-16T06:31:16.409Z"
   },
   {
    "duration": 39,
    "start_time": "2022-10-16T06:31:17.664Z"
   },
   {
    "duration": 8,
    "start_time": "2022-10-16T06:31:17.705Z"
   },
   {
    "duration": 26,
    "start_time": "2022-10-16T06:31:17.715Z"
   },
   {
    "duration": 27,
    "start_time": "2022-10-16T06:31:17.743Z"
   },
   {
    "duration": 21,
    "start_time": "2022-10-16T06:31:17.772Z"
   },
   {
    "duration": 58,
    "start_time": "2022-10-16T06:31:17.794Z"
   },
   {
    "duration": 10,
    "start_time": "2022-10-16T06:31:17.854Z"
   },
   {
    "duration": 33,
    "start_time": "2022-10-16T06:31:17.866Z"
   },
   {
    "duration": 28,
    "start_time": "2022-10-16T06:31:17.901Z"
   },
   {
    "duration": 30,
    "start_time": "2022-10-16T06:31:17.931Z"
   },
   {
    "duration": 36,
    "start_time": "2022-10-16T06:31:17.962Z"
   },
   {
    "duration": 11,
    "start_time": "2022-10-16T06:31:18.000Z"
   },
   {
    "duration": 19,
    "start_time": "2022-10-16T06:31:18.013Z"
   },
   {
    "duration": 23,
    "start_time": "2022-10-16T06:31:18.034Z"
   },
   {
    "duration": 28,
    "start_time": "2022-10-16T06:31:18.058Z"
   },
   {
    "duration": 43,
    "start_time": "2022-10-16T06:31:18.088Z"
   },
   {
    "duration": 28,
    "start_time": "2022-10-16T06:31:18.133Z"
   },
   {
    "duration": 21,
    "start_time": "2022-10-16T06:31:18.163Z"
   },
   {
    "duration": 35,
    "start_time": "2022-10-16T06:31:18.186Z"
   },
   {
    "duration": 631,
    "start_time": "2022-10-16T06:31:18.223Z"
   },
   {
    "duration": 323,
    "start_time": "2022-10-16T06:31:18.856Z"
   },
   {
    "duration": 14,
    "start_time": "2022-10-16T06:31:19.181Z"
   },
   {
    "duration": 31,
    "start_time": "2022-10-16T06:31:19.197Z"
   },
   {
    "duration": 257,
    "start_time": "2022-10-16T06:31:19.230Z"
   },
   {
    "duration": 339,
    "start_time": "2022-10-16T06:31:19.489Z"
   },
   {
    "duration": 247,
    "start_time": "2022-10-16T06:31:19.830Z"
   },
   {
    "duration": 367,
    "start_time": "2022-10-16T06:31:20.089Z"
   },
   {
    "duration": 165,
    "start_time": "2022-10-16T06:31:20.458Z"
   },
   {
    "duration": 4,
    "start_time": "2022-10-16T06:31:20.624Z"
   },
   {
    "duration": 6,
    "start_time": "2022-10-16T06:31:20.630Z"
   },
   {
    "duration": 199,
    "start_time": "2022-10-16T06:31:20.638Z"
   },
   {
    "duration": 176,
    "start_time": "2022-10-16T06:31:20.840Z"
   },
   {
    "duration": 5,
    "start_time": "2022-10-16T06:31:21.017Z"
   },
   {
    "duration": 296,
    "start_time": "2022-10-16T06:34:47.515Z"
   },
   {
    "duration": 30,
    "start_time": "2022-10-16T06:35:00.234Z"
   },
   {
    "duration": 36,
    "start_time": "2022-10-16T06:35:08.074Z"
   },
   {
    "duration": 165,
    "start_time": "2022-10-16T06:40:44.397Z"
   },
   {
    "duration": 177,
    "start_time": "2022-10-16T06:40:52.457Z"
   },
   {
    "duration": 153,
    "start_time": "2022-10-16T06:41:36.122Z"
   },
   {
    "duration": 30,
    "start_time": "2022-10-16T06:41:53.734Z"
   },
   {
    "duration": 186,
    "start_time": "2022-10-16T06:50:49.418Z"
   },
   {
    "duration": 184,
    "start_time": "2022-10-16T06:55:06.222Z"
   },
   {
    "duration": 12,
    "start_time": "2022-10-16T07:01:45.682Z"
   },
   {
    "duration": 12,
    "start_time": "2022-10-16T07:11:18.221Z"
   },
   {
    "duration": 113,
    "start_time": "2022-10-16T07:36:50.131Z"
   },
   {
    "duration": 8,
    "start_time": "2022-10-16T07:39:40.922Z"
   },
   {
    "duration": 26,
    "start_time": "2022-10-16T07:40:01.365Z"
   },
   {
    "duration": 1472,
    "start_time": "2022-10-16T07:49:42.191Z"
   },
   {
    "duration": 16,
    "start_time": "2022-10-16T07:50:58.141Z"
   },
   {
    "duration": 1206,
    "start_time": "2022-10-16T07:58:31.753Z"
   },
   {
    "duration": 50,
    "start_time": "2022-10-16T07:58:32.962Z"
   },
   {
    "duration": 10,
    "start_time": "2022-10-16T07:58:33.015Z"
   },
   {
    "duration": 15,
    "start_time": "2022-10-16T07:58:33.027Z"
   },
   {
    "duration": 8,
    "start_time": "2022-10-16T07:58:33.045Z"
   },
   {
    "duration": 7,
    "start_time": "2022-10-16T07:58:33.054Z"
   },
   {
    "duration": 47,
    "start_time": "2022-10-16T07:58:33.063Z"
   },
   {
    "duration": 12,
    "start_time": "2022-10-16T07:58:33.113Z"
   },
   {
    "duration": 21,
    "start_time": "2022-10-16T07:58:33.128Z"
   },
   {
    "duration": 8,
    "start_time": "2022-10-16T07:58:33.153Z"
   },
   {
    "duration": 26,
    "start_time": "2022-10-16T07:58:33.163Z"
   },
   {
    "duration": 22,
    "start_time": "2022-10-16T07:58:33.192Z"
   },
   {
    "duration": 12,
    "start_time": "2022-10-16T07:58:33.216Z"
   },
   {
    "duration": 15,
    "start_time": "2022-10-16T07:58:33.230Z"
   },
   {
    "duration": 9,
    "start_time": "2022-10-16T07:58:33.247Z"
   },
   {
    "duration": 10,
    "start_time": "2022-10-16T07:58:33.257Z"
   },
   {
    "duration": 24,
    "start_time": "2022-10-16T07:58:33.269Z"
   },
   {
    "duration": 13,
    "start_time": "2022-10-16T07:58:33.295Z"
   },
   {
    "duration": 4,
    "start_time": "2022-10-16T07:58:33.309Z"
   },
   {
    "duration": 15,
    "start_time": "2022-10-16T07:58:33.315Z"
   },
   {
    "duration": 613,
    "start_time": "2022-10-16T07:58:33.332Z"
   },
   {
    "duration": 328,
    "start_time": "2022-10-16T07:58:33.947Z"
   },
   {
    "duration": 17,
    "start_time": "2022-10-16T07:58:34.277Z"
   },
   {
    "duration": 17,
    "start_time": "2022-10-16T07:58:34.296Z"
   },
   {
    "duration": 242,
    "start_time": "2022-10-16T07:58:34.315Z"
   },
   {
    "duration": 351,
    "start_time": "2022-10-16T07:58:34.559Z"
   },
   {
    "duration": 281,
    "start_time": "2022-10-16T07:58:34.912Z"
   },
   {
    "duration": 365,
    "start_time": "2022-10-16T07:58:35.197Z"
   },
   {
    "duration": 164,
    "start_time": "2022-10-16T07:58:35.564Z"
   },
   {
    "duration": 4,
    "start_time": "2022-10-16T07:58:35.730Z"
   },
   {
    "duration": 24,
    "start_time": "2022-10-16T07:58:35.737Z"
   },
   {
    "duration": 176,
    "start_time": "2022-10-16T07:58:35.763Z"
   },
   {
    "duration": 184,
    "start_time": "2022-10-16T07:58:35.941Z"
   },
   {
    "duration": 5,
    "start_time": "2022-10-16T07:58:36.127Z"
   },
   {
    "duration": 311,
    "start_time": "2022-10-16T07:58:36.134Z"
   },
   {
    "duration": 45,
    "start_time": "2022-10-16T07:58:36.448Z"
   },
   {
    "duration": 201,
    "start_time": "2022-10-16T07:58:36.495Z"
   },
   {
    "duration": 12,
    "start_time": "2022-10-16T07:58:36.698Z"
   },
   {
    "duration": 19,
    "start_time": "2022-10-16T07:58:36.712Z"
   },
   {
    "duration": 30,
    "start_time": "2022-10-16T07:58:36.733Z"
   },
   {
    "duration": 30,
    "start_time": "2022-10-16T07:58:36.765Z"
   },
   {
    "duration": 14,
    "start_time": "2022-10-16T07:58:36.797Z"
   },
   {
    "duration": 1173,
    "start_time": "2022-10-16T08:09:48.737Z"
   },
   {
    "duration": 39,
    "start_time": "2022-10-16T08:09:49.912Z"
   },
   {
    "duration": 13,
    "start_time": "2022-10-16T08:09:49.953Z"
   },
   {
    "duration": 14,
    "start_time": "2022-10-16T08:09:49.968Z"
   },
   {
    "duration": 7,
    "start_time": "2022-10-16T08:09:49.984Z"
   },
   {
    "duration": 8,
    "start_time": "2022-10-16T08:09:49.992Z"
   },
   {
    "duration": 51,
    "start_time": "2022-10-16T08:09:50.002Z"
   },
   {
    "duration": 12,
    "start_time": "2022-10-16T08:09:50.055Z"
   },
   {
    "duration": 24,
    "start_time": "2022-10-16T08:09:50.069Z"
   },
   {
    "duration": 11,
    "start_time": "2022-10-16T08:09:50.096Z"
   },
   {
    "duration": 7,
    "start_time": "2022-10-16T08:09:50.110Z"
   },
   {
    "duration": 22,
    "start_time": "2022-10-16T08:09:50.119Z"
   },
   {
    "duration": 12,
    "start_time": "2022-10-16T08:09:50.142Z"
   },
   {
    "duration": 34,
    "start_time": "2022-10-16T08:09:50.156Z"
   },
   {
    "duration": 10,
    "start_time": "2022-10-16T08:09:50.192Z"
   },
   {
    "duration": 8,
    "start_time": "2022-10-16T08:09:50.204Z"
   },
   {
    "duration": 11,
    "start_time": "2022-10-16T08:09:50.214Z"
   },
   {
    "duration": 15,
    "start_time": "2022-10-16T08:09:50.227Z"
   },
   {
    "duration": 6,
    "start_time": "2022-10-16T08:09:50.243Z"
   },
   {
    "duration": 13,
    "start_time": "2022-10-16T08:09:50.251Z"
   },
   {
    "duration": 651,
    "start_time": "2022-10-16T08:09:50.289Z"
   },
   {
    "duration": 325,
    "start_time": "2022-10-16T08:09:50.941Z"
   },
   {
    "duration": 12,
    "start_time": "2022-10-16T08:09:51.267Z"
   },
   {
    "duration": 13,
    "start_time": "2022-10-16T08:09:51.289Z"
   },
   {
    "duration": 258,
    "start_time": "2022-10-16T08:09:51.304Z"
   },
   {
    "duration": 406,
    "start_time": "2022-10-16T08:09:51.564Z"
   },
   {
    "duration": 326,
    "start_time": "2022-10-16T08:09:51.972Z"
   },
   {
    "duration": 356,
    "start_time": "2022-10-16T08:09:52.301Z"
   },
   {
    "duration": 176,
    "start_time": "2022-10-16T08:09:52.659Z"
   },
   {
    "duration": 5,
    "start_time": "2022-10-16T08:09:52.836Z"
   },
   {
    "duration": 16,
    "start_time": "2022-10-16T08:09:52.842Z"
   },
   {
    "duration": 181,
    "start_time": "2022-10-16T08:09:52.860Z"
   },
   {
    "duration": 179,
    "start_time": "2022-10-16T08:09:53.043Z"
   },
   {
    "duration": 5,
    "start_time": "2022-10-16T08:09:53.224Z"
   },
   {
    "duration": 321,
    "start_time": "2022-10-16T08:09:53.231Z"
   },
   {
    "duration": 46,
    "start_time": "2022-10-16T08:09:53.554Z"
   },
   {
    "duration": 190,
    "start_time": "2022-10-16T08:09:53.603Z"
   },
   {
    "duration": 11,
    "start_time": "2022-10-16T08:09:53.795Z"
   },
   {
    "duration": 14,
    "start_time": "2022-10-16T08:09:53.808Z"
   },
   {
    "duration": 11,
    "start_time": "2022-10-16T08:09:53.825Z"
   },
   {
    "duration": 51,
    "start_time": "2022-10-16T08:09:53.838Z"
   },
   {
    "duration": 15,
    "start_time": "2022-10-16T08:09:53.891Z"
   },
   {
    "duration": 47,
    "start_time": "2022-10-17T20:57:47.310Z"
   },
   {
    "duration": 1214,
    "start_time": "2022-10-17T20:57:58.991Z"
   },
   {
    "duration": 44,
    "start_time": "2022-10-17T20:58:00.207Z"
   },
   {
    "duration": 7,
    "start_time": "2022-10-17T20:58:00.253Z"
   },
   {
    "duration": 21,
    "start_time": "2022-10-17T20:58:00.262Z"
   },
   {
    "duration": 22,
    "start_time": "2022-10-17T20:58:00.284Z"
   },
   {
    "duration": 20,
    "start_time": "2022-10-17T20:58:00.308Z"
   },
   {
    "duration": 61,
    "start_time": "2022-10-17T20:58:00.329Z"
   },
   {
    "duration": 9,
    "start_time": "2022-10-17T20:58:00.391Z"
   },
   {
    "duration": 29,
    "start_time": "2022-10-17T20:58:00.401Z"
   },
   {
    "duration": 17,
    "start_time": "2022-10-17T20:58:00.433Z"
   },
   {
    "duration": 12,
    "start_time": "2022-10-17T20:58:00.451Z"
   },
   {
    "duration": 44,
    "start_time": "2022-10-17T20:58:00.464Z"
   },
   {
    "duration": 12,
    "start_time": "2022-10-17T20:58:00.509Z"
   },
   {
    "duration": 28,
    "start_time": "2022-10-17T20:58:00.522Z"
   },
   {
    "duration": 24,
    "start_time": "2022-10-17T20:58:00.551Z"
   },
   {
    "duration": 28,
    "start_time": "2022-10-17T20:58:00.577Z"
   },
   {
    "duration": 16,
    "start_time": "2022-10-17T20:58:00.607Z"
   },
   {
    "duration": 18,
    "start_time": "2022-10-17T20:58:00.624Z"
   },
   {
    "duration": 19,
    "start_time": "2022-10-17T20:58:00.644Z"
   },
   {
    "duration": 24,
    "start_time": "2022-10-17T20:58:00.664Z"
   },
   {
    "duration": 509,
    "start_time": "2022-10-17T20:58:00.689Z"
   },
   {
    "duration": 276,
    "start_time": "2022-10-17T20:58:01.200Z"
   },
   {
    "duration": 9,
    "start_time": "2022-10-17T20:58:01.478Z"
   },
   {
    "duration": 21,
    "start_time": "2022-10-17T20:58:01.489Z"
   },
   {
    "duration": 199,
    "start_time": "2022-10-17T20:58:01.512Z"
   },
   {
    "duration": 362,
    "start_time": "2022-10-17T20:58:01.712Z"
   },
   {
    "duration": 222,
    "start_time": "2022-10-17T20:58:02.076Z"
   },
   {
    "duration": 349,
    "start_time": "2022-10-17T20:58:02.301Z"
   },
   {
    "duration": 139,
    "start_time": "2022-10-17T20:58:02.651Z"
   },
   {
    "duration": 5,
    "start_time": "2022-10-17T20:58:02.792Z"
   },
   {
    "duration": 10,
    "start_time": "2022-10-17T20:58:02.799Z"
   },
   {
    "duration": 151,
    "start_time": "2022-10-17T20:58:02.822Z"
   },
   {
    "duration": 162,
    "start_time": "2022-10-17T20:58:02.974Z"
   },
   {
    "duration": 5,
    "start_time": "2022-10-17T20:58:03.137Z"
   },
   {
    "duration": 273,
    "start_time": "2022-10-17T20:58:03.143Z"
   },
   {
    "duration": 25,
    "start_time": "2022-10-17T20:58:03.421Z"
   },
   {
    "duration": 164,
    "start_time": "2022-10-17T20:58:03.447Z"
   },
   {
    "duration": 11,
    "start_time": "2022-10-17T20:58:03.622Z"
   },
   {
    "duration": 22,
    "start_time": "2022-10-17T20:58:03.634Z"
   },
   {
    "duration": 10,
    "start_time": "2022-10-17T20:58:03.658Z"
   },
   {
    "duration": 39,
    "start_time": "2022-10-17T20:58:03.670Z"
   },
   {
    "duration": 15,
    "start_time": "2022-10-17T20:58:03.710Z"
   },
   {
    "duration": 47,
    "start_time": "2022-10-19T17:03:56.659Z"
   },
   {
    "duration": 1243,
    "start_time": "2022-10-19T17:04:04.478Z"
   },
   {
    "duration": 88,
    "start_time": "2022-10-19T17:04:05.724Z"
   },
   {
    "duration": 8,
    "start_time": "2022-10-19T17:04:05.814Z"
   },
   {
    "duration": 11,
    "start_time": "2022-10-19T17:04:05.824Z"
   },
   {
    "duration": 8,
    "start_time": "2022-10-19T17:04:05.836Z"
   },
   {
    "duration": 7,
    "start_time": "2022-10-19T17:04:05.845Z"
   },
   {
    "duration": 95,
    "start_time": "2022-10-19T17:04:05.853Z"
   },
   {
    "duration": 9,
    "start_time": "2022-10-19T17:04:05.950Z"
   },
   {
    "duration": 19,
    "start_time": "2022-10-19T17:04:05.960Z"
   },
   {
    "duration": 8,
    "start_time": "2022-10-19T17:04:05.981Z"
   },
   {
    "duration": 9,
    "start_time": "2022-10-19T17:04:05.990Z"
   },
   {
    "duration": 68,
    "start_time": "2022-10-19T17:04:06.001Z"
   },
   {
    "duration": 9,
    "start_time": "2022-10-19T17:04:06.070Z"
   },
   {
    "duration": 16,
    "start_time": "2022-10-19T17:04:06.080Z"
   },
   {
    "duration": 7,
    "start_time": "2022-10-19T17:04:06.097Z"
   },
   {
    "duration": 7,
    "start_time": "2022-10-19T17:04:06.106Z"
   },
   {
    "duration": 7,
    "start_time": "2022-10-19T17:04:06.114Z"
   },
   {
    "duration": 10,
    "start_time": "2022-10-19T17:04:06.122Z"
   },
   {
    "duration": 8,
    "start_time": "2022-10-19T17:04:06.133Z"
   },
   {
    "duration": 16,
    "start_time": "2022-10-19T17:04:06.142Z"
   },
   {
    "duration": 527,
    "start_time": "2022-10-19T17:04:06.159Z"
   },
   {
    "duration": 275,
    "start_time": "2022-10-19T17:04:06.687Z"
   },
   {
    "duration": 20,
    "start_time": "2022-10-19T17:04:06.965Z"
   },
   {
    "duration": 13,
    "start_time": "2022-10-19T17:04:06.987Z"
   },
   {
    "duration": 241,
    "start_time": "2022-10-19T17:04:07.002Z"
   },
   {
    "duration": 365,
    "start_time": "2022-10-19T17:04:07.245Z"
   },
   {
    "duration": 213,
    "start_time": "2022-10-19T17:04:07.611Z"
   },
   {
    "duration": 297,
    "start_time": "2022-10-19T17:04:07.828Z"
   },
   {
    "duration": 144,
    "start_time": "2022-10-19T17:04:08.127Z"
   },
   {
    "duration": 11,
    "start_time": "2022-10-19T17:04:08.273Z"
   },
   {
    "duration": 8,
    "start_time": "2022-10-19T17:04:08.286Z"
   },
   {
    "duration": 149,
    "start_time": "2022-10-19T17:04:08.296Z"
   },
   {
    "duration": 147,
    "start_time": "2022-10-19T17:04:08.446Z"
   },
   {
    "duration": 4,
    "start_time": "2022-10-19T17:04:08.595Z"
   },
   {
    "duration": 253,
    "start_time": "2022-10-19T17:04:08.600Z"
   },
   {
    "duration": 31,
    "start_time": "2022-10-19T17:04:08.854Z"
   },
   {
    "duration": 151,
    "start_time": "2022-10-19T17:04:08.887Z"
   },
   {
    "duration": 10,
    "start_time": "2022-10-19T17:04:09.039Z"
   },
   {
    "duration": 10,
    "start_time": "2022-10-19T17:04:09.050Z"
   },
   {
    "duration": 26,
    "start_time": "2022-10-19T17:04:09.062Z"
   },
   {
    "duration": 26,
    "start_time": "2022-10-19T17:04:09.089Z"
   },
   {
    "duration": 14,
    "start_time": "2022-10-19T17:04:09.116Z"
   },
   {
    "duration": 144,
    "start_time": "2022-10-19T17:05:51.485Z"
   },
   {
    "duration": 1018,
    "start_time": "2022-10-19T19:53:52.401Z"
   },
   {
    "duration": 35,
    "start_time": "2022-10-19T19:53:53.421Z"
   },
   {
    "duration": 7,
    "start_time": "2022-10-19T19:53:53.457Z"
   },
   {
    "duration": 15,
    "start_time": "2022-10-19T19:53:53.466Z"
   },
   {
    "duration": 7,
    "start_time": "2022-10-19T19:53:53.482Z"
   },
   {
    "duration": 7,
    "start_time": "2022-10-19T19:53:53.490Z"
   },
   {
    "duration": 44,
    "start_time": "2022-10-19T19:53:53.498Z"
   },
   {
    "duration": 10,
    "start_time": "2022-10-19T19:53:53.543Z"
   },
   {
    "duration": 21,
    "start_time": "2022-10-19T19:53:53.555Z"
   },
   {
    "duration": 10,
    "start_time": "2022-10-19T19:53:53.578Z"
   },
   {
    "duration": 8,
    "start_time": "2022-10-19T19:53:53.589Z"
   },
   {
    "duration": 21,
    "start_time": "2022-10-19T19:53:53.598Z"
   },
   {
    "duration": 9,
    "start_time": "2022-10-19T19:53:53.620Z"
   },
   {
    "duration": 14,
    "start_time": "2022-10-19T19:53:53.631Z"
   },
   {
    "duration": 7,
    "start_time": "2022-10-19T19:53:53.646Z"
   },
   {
    "duration": 6,
    "start_time": "2022-10-19T19:53:53.655Z"
   },
   {
    "duration": 8,
    "start_time": "2022-10-19T19:53:53.663Z"
   },
   {
    "duration": 9,
    "start_time": "2022-10-19T19:53:53.684Z"
   },
   {
    "duration": 7,
    "start_time": "2022-10-19T19:53:53.694Z"
   },
   {
    "duration": 10,
    "start_time": "2022-10-19T19:53:53.703Z"
   },
   {
    "duration": 506,
    "start_time": "2022-10-19T19:53:53.714Z"
   },
   {
    "duration": 273,
    "start_time": "2022-10-19T19:53:54.221Z"
   },
   {
    "duration": 10,
    "start_time": "2022-10-19T19:53:54.495Z"
   },
   {
    "duration": 13,
    "start_time": "2022-10-19T19:53:54.506Z"
   },
   {
    "duration": 198,
    "start_time": "2022-10-19T19:53:54.520Z"
   },
   {
    "duration": 277,
    "start_time": "2022-10-19T19:53:54.719Z"
   },
   {
    "duration": 206,
    "start_time": "2022-10-19T19:53:54.997Z"
   },
   {
    "duration": 304,
    "start_time": "2022-10-19T19:53:55.206Z"
   },
   {
    "duration": 131,
    "start_time": "2022-10-19T19:53:55.511Z"
   },
   {
    "duration": 3,
    "start_time": "2022-10-19T19:53:55.644Z"
   },
   {
    "duration": 16,
    "start_time": "2022-10-19T19:53:55.648Z"
   },
   {
    "duration": 152,
    "start_time": "2022-10-19T19:53:55.665Z"
   },
   {
    "duration": 157,
    "start_time": "2022-10-19T19:53:55.818Z"
   },
   {
    "duration": 10,
    "start_time": "2022-10-19T19:53:55.977Z"
   },
   {
    "duration": 261,
    "start_time": "2022-10-19T19:53:55.989Z"
   },
   {
    "duration": 37,
    "start_time": "2022-10-19T19:53:56.251Z"
   },
   {
    "duration": 143,
    "start_time": "2022-10-19T19:53:56.290Z"
   },
   {
    "duration": 10,
    "start_time": "2022-10-19T19:53:56.435Z"
   },
   {
    "duration": 13,
    "start_time": "2022-10-19T19:53:56.447Z"
   },
   {
    "duration": 24,
    "start_time": "2022-10-19T19:53:56.462Z"
   },
   {
    "duration": 19,
    "start_time": "2022-10-19T19:53:56.487Z"
   },
   {
    "duration": 12,
    "start_time": "2022-10-19T19:53:56.507Z"
   },
   {
    "duration": 1025,
    "start_time": "2023-11-05T16:05:06.944Z"
   },
   {
    "duration": 68,
    "start_time": "2023-11-05T16:05:07.971Z"
   },
   {
    "duration": 7,
    "start_time": "2023-11-05T16:05:08.041Z"
   },
   {
    "duration": 11,
    "start_time": "2023-11-05T16:05:08.050Z"
   },
   {
    "duration": 6,
    "start_time": "2023-11-05T16:05:08.062Z"
   },
   {
    "duration": 6,
    "start_time": "2023-11-05T16:05:08.069Z"
   },
   {
    "duration": 88,
    "start_time": "2023-11-05T16:05:08.077Z"
   },
   {
    "duration": 8,
    "start_time": "2023-11-05T16:05:08.167Z"
   },
   {
    "duration": 24,
    "start_time": "2023-11-05T16:05:08.177Z"
   },
   {
    "duration": 11,
    "start_time": "2023-11-05T16:05:08.203Z"
   },
   {
    "duration": 6,
    "start_time": "2023-11-05T16:05:08.215Z"
   },
   {
    "duration": 59,
    "start_time": "2023-11-05T16:05:08.222Z"
   },
   {
    "duration": 8,
    "start_time": "2023-11-05T16:05:08.282Z"
   },
   {
    "duration": 24,
    "start_time": "2023-11-05T16:05:08.291Z"
   },
   {
    "duration": 14,
    "start_time": "2023-11-05T16:05:08.316Z"
   },
   {
    "duration": 17,
    "start_time": "2023-11-05T16:05:08.331Z"
   },
   {
    "duration": 17,
    "start_time": "2023-11-05T16:05:08.349Z"
   },
   {
    "duration": 13,
    "start_time": "2023-11-05T16:05:08.367Z"
   },
   {
    "duration": 5,
    "start_time": "2023-11-05T16:05:08.381Z"
   },
   {
    "duration": 13,
    "start_time": "2023-11-05T16:05:08.387Z"
   },
   {
    "duration": 496,
    "start_time": "2023-11-05T16:05:08.401Z"
   },
   {
    "duration": 274,
    "start_time": "2023-11-05T16:05:08.898Z"
   },
   {
    "duration": 9,
    "start_time": "2023-11-05T16:05:09.173Z"
   },
   {
    "duration": 13,
    "start_time": "2023-11-05T16:05:09.183Z"
   },
   {
    "duration": 210,
    "start_time": "2023-11-05T16:05:09.198Z"
   },
   {
    "duration": 310,
    "start_time": "2023-11-05T16:05:09.410Z"
   },
   {
    "duration": 211,
    "start_time": "2023-11-05T16:05:09.721Z"
   },
   {
    "duration": 324,
    "start_time": "2023-11-05T16:05:09.941Z"
   },
   {
    "duration": 140,
    "start_time": "2023-11-05T16:05:10.266Z"
   },
   {
    "duration": 4,
    "start_time": "2023-11-05T16:05:10.407Z"
   },
   {
    "duration": 13,
    "start_time": "2023-11-05T16:05:10.413Z"
   },
   {
    "duration": 161,
    "start_time": "2023-11-05T16:05:10.428Z"
   },
   {
    "duration": 155,
    "start_time": "2023-11-05T16:05:10.591Z"
   },
   {
    "duration": 4,
    "start_time": "2023-11-05T16:05:10.747Z"
   },
   {
    "duration": 245,
    "start_time": "2023-11-05T16:05:10.752Z"
   },
   {
    "duration": 27,
    "start_time": "2023-11-05T16:05:10.999Z"
   },
   {
    "duration": 165,
    "start_time": "2023-11-05T16:05:11.039Z"
   },
   {
    "duration": 11,
    "start_time": "2023-11-05T16:05:11.205Z"
   },
   {
    "duration": 24,
    "start_time": "2023-11-05T16:05:11.217Z"
   },
   {
    "duration": 8,
    "start_time": "2023-11-05T16:05:11.243Z"
   },
   {
    "duration": 21,
    "start_time": "2023-11-05T16:05:11.253Z"
   },
   {
    "duration": 13,
    "start_time": "2023-11-05T16:05:11.276Z"
   }
  ],
  "kernelspec": {
   "display_name": "Python 3 (ipykernel)",
   "language": "python",
   "name": "python3"
  },
  "language_info": {
   "codemirror_mode": {
    "name": "ipython",
    "version": 3
   },
   "file_extension": ".py",
   "mimetype": "text/x-python",
   "name": "python",
   "nbconvert_exporter": "python",
   "pygments_lexer": "ipython3",
   "version": "3.9.5"
  },
  "toc": {
   "base_numbering": 1,
   "nav_menu": {},
   "number_sections": true,
   "sideBar": true,
   "skip_h1_title": true,
   "title_cell": "Table of Contents",
   "title_sidebar": "Contents",
   "toc_cell": false,
   "toc_position": {},
   "toc_section_display": true,
   "toc_window_display": false
  }
 },
 "nbformat": 4,
 "nbformat_minor": 2
}
