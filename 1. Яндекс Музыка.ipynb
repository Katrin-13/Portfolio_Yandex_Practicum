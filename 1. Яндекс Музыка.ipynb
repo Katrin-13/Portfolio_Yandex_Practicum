{
 "cells": [
  {
   "cell_type": "markdown",
   "metadata": {
    "deletable": false,
    "editable": false,
    "id": "E0vqbgi9ay0H"
   },
   "source": [
    "# Яндекс Музыка"
   ]
  },
  {
   "cell_type": "markdown",
   "metadata": {
    "deletable": false,
    "editable": false,
    "id": "VUC88oWjTJw2"
   },
   "source": [
    "Сравнение Москвы и Петербурга окружено мифами. Например:\n",
    " * Москва — мегаполис, подчинённый жёсткому ритму рабочей недели;\n",
    " * Петербург — культурная столица, со своими вкусами.\n",
    "\n",
    "На данных Яндекс Музыки вы сравните поведение пользователей двух столиц.\n",
    "\n",
    "**Цель исследования** — проверьте три гипотезы:\n",
    "1. Активность пользователей зависит от дня недели. Причём в Москве и Петербурге это проявляется по-разному.\n",
    "2. В понедельник утром в Москве преобладают одни жанры, а в Петербурге — другие. Так же и вечером пятницы преобладают разные жанры — в зависимости от города. \n",
    "3. Москва и Петербург предпочитают разные жанры музыки. В Москве чаще слушают поп-музыку, в Петербурге — русский рэп.\n",
    "\n",
    "**Ход исследования**\n",
    "\n",
    "Данные о поведении пользователей вы получите из файла `yandex_music_project.csv`. О качестве данных ничего не известно. Поэтому перед проверкой гипотез понадобится обзор данных. \n",
    "\n",
    "Вы проверите данные на ошибки и оцените их влияние на исследование. Затем, на этапе предобработки вы поищете возможность исправить самые критичные ошибки данных.\n",
    " \n",
    "Таким образом, исследование пройдёт в три этапа:\n",
    " 1. Обзор данных.\n",
    " 2. Предобработка данных.\n",
    " 3. Проверка гипотез.\n",
    "\n"
   ]
  },
  {
   "cell_type": "markdown",
   "metadata": {
    "deletable": false,
    "editable": false,
    "id": "Ml1hmfXC_Zcs"
   },
   "source": [
    "## Обзор данных\n",
    "\n",
    "Составьте первое представление о данных Яндекс Музыки.\n",
    "\n",
    "\n"
   ]
  },
  {
   "cell_type": "markdown",
   "metadata": {
    "deletable": false,
    "editable": false,
    "id": "57eAOGIz_Zcs",
    "tags": [
     "start_task"
    ]
   },
   "source": [
    "**Задание 1**\n",
    "\n",
    "Основной инструмент аналитика — `pandas`. Импортируйте эту библиотеку."
   ]
  },
  {
   "cell_type": "code",
   "execution_count": 39,
   "metadata": {
    "deletable": false,
    "id": "AXN7PHPN_Zcs"
   },
   "outputs": [],
   "source": [
    "import pandas as pd"
   ]
  },
  {
   "cell_type": "markdown",
   "metadata": {
    "deletable": false,
    "editable": false,
    "id": "SG23P8tt_Zcs",
    "tags": [
     "start_task"
    ]
   },
   "source": [
    "**Задание 2**\n",
    "\n",
    "Прочитайте файл `yandex_music_project.csv` из папки `/datasets` и сохраните его в переменной `df`:"
   ]
  },
  {
   "cell_type": "code",
   "execution_count": 40,
   "metadata": {
    "deletable": false,
    "id": "fFVu7vqh_Zct"
   },
   "outputs": [],
   "source": [
    "\n",
    "df = pd.read_csv('/datasets/yandex_music_project.csv')# чтение файла с данными и сохранение в df"
   ]
  },
  {
   "cell_type": "markdown",
   "metadata": {
    "deletable": false,
    "editable": false,
    "id": "rDoOMd3uTqnZ",
    "tags": [
     "start_task"
    ]
   },
   "source": [
    "**Задание 3**\n",
    "\n",
    "\n",
    "Выведите на экран первые десять строк таблицы:"
   ]
  },
  {
   "cell_type": "code",
   "execution_count": 41,
   "metadata": {
    "deletable": false,
    "id": "oWTVX3gW_Zct"
   },
   "outputs": [
    {
     "data": {
      "text/html": [
       "<div>\n",
       "<style scoped>\n",
       "    .dataframe tbody tr th:only-of-type {\n",
       "        vertical-align: middle;\n",
       "    }\n",
       "\n",
       "    .dataframe tbody tr th {\n",
       "        vertical-align: top;\n",
       "    }\n",
       "\n",
       "    .dataframe thead th {\n",
       "        text-align: right;\n",
       "    }\n",
       "</style>\n",
       "<table border=\"1\" class=\"dataframe\">\n",
       "  <thead>\n",
       "    <tr style=\"text-align: right;\">\n",
       "      <th></th>\n",
       "      <th>userID</th>\n",
       "      <th>Track</th>\n",
       "      <th>artist</th>\n",
       "      <th>genre</th>\n",
       "      <th>City</th>\n",
       "      <th>time</th>\n",
       "      <th>Day</th>\n",
       "    </tr>\n",
       "  </thead>\n",
       "  <tbody>\n",
       "    <tr>\n",
       "      <th>0</th>\n",
       "      <td>FFB692EC</td>\n",
       "      <td>Kamigata To Boots</td>\n",
       "      <td>The Mass Missile</td>\n",
       "      <td>rock</td>\n",
       "      <td>Saint-Petersburg</td>\n",
       "      <td>20:28:33</td>\n",
       "      <td>Wednesday</td>\n",
       "    </tr>\n",
       "    <tr>\n",
       "      <th>1</th>\n",
       "      <td>55204538</td>\n",
       "      <td>Delayed Because of Accident</td>\n",
       "      <td>Andreas Rönnberg</td>\n",
       "      <td>rock</td>\n",
       "      <td>Moscow</td>\n",
       "      <td>14:07:09</td>\n",
       "      <td>Friday</td>\n",
       "    </tr>\n",
       "    <tr>\n",
       "      <th>2</th>\n",
       "      <td>20EC38</td>\n",
       "      <td>Funiculì funiculà</td>\n",
       "      <td>Mario Lanza</td>\n",
       "      <td>pop</td>\n",
       "      <td>Saint-Petersburg</td>\n",
       "      <td>20:58:07</td>\n",
       "      <td>Wednesday</td>\n",
       "    </tr>\n",
       "    <tr>\n",
       "      <th>3</th>\n",
       "      <td>A3DD03C9</td>\n",
       "      <td>Dragons in the Sunset</td>\n",
       "      <td>Fire + Ice</td>\n",
       "      <td>folk</td>\n",
       "      <td>Saint-Petersburg</td>\n",
       "      <td>08:37:09</td>\n",
       "      <td>Monday</td>\n",
       "    </tr>\n",
       "    <tr>\n",
       "      <th>4</th>\n",
       "      <td>E2DC1FAE</td>\n",
       "      <td>Soul People</td>\n",
       "      <td>Space Echo</td>\n",
       "      <td>dance</td>\n",
       "      <td>Moscow</td>\n",
       "      <td>08:34:34</td>\n",
       "      <td>Monday</td>\n",
       "    </tr>\n",
       "    <tr>\n",
       "      <th>5</th>\n",
       "      <td>842029A1</td>\n",
       "      <td>Преданная</td>\n",
       "      <td>IMPERVTOR</td>\n",
       "      <td>rusrap</td>\n",
       "      <td>Saint-Petersburg</td>\n",
       "      <td>13:09:41</td>\n",
       "      <td>Friday</td>\n",
       "    </tr>\n",
       "    <tr>\n",
       "      <th>6</th>\n",
       "      <td>4CB90AA5</td>\n",
       "      <td>True</td>\n",
       "      <td>Roman Messer</td>\n",
       "      <td>dance</td>\n",
       "      <td>Moscow</td>\n",
       "      <td>13:00:07</td>\n",
       "      <td>Wednesday</td>\n",
       "    </tr>\n",
       "    <tr>\n",
       "      <th>7</th>\n",
       "      <td>F03E1C1F</td>\n",
       "      <td>Feeling This Way</td>\n",
       "      <td>Polina Griffith</td>\n",
       "      <td>dance</td>\n",
       "      <td>Moscow</td>\n",
       "      <td>20:47:49</td>\n",
       "      <td>Wednesday</td>\n",
       "    </tr>\n",
       "    <tr>\n",
       "      <th>8</th>\n",
       "      <td>8FA1D3BE</td>\n",
       "      <td>И вновь продолжается бой</td>\n",
       "      <td>NaN</td>\n",
       "      <td>ruspop</td>\n",
       "      <td>Moscow</td>\n",
       "      <td>09:17:40</td>\n",
       "      <td>Friday</td>\n",
       "    </tr>\n",
       "    <tr>\n",
       "      <th>9</th>\n",
       "      <td>E772D5C0</td>\n",
       "      <td>Pessimist</td>\n",
       "      <td>NaN</td>\n",
       "      <td>dance</td>\n",
       "      <td>Saint-Petersburg</td>\n",
       "      <td>21:20:49</td>\n",
       "      <td>Wednesday</td>\n",
       "    </tr>\n",
       "  </tbody>\n",
       "</table>\n",
       "</div>"
      ],
      "text/plain": [
       "     userID                        Track            artist   genre  \\\n",
       "0  FFB692EC            Kamigata To Boots  The Mass Missile    rock   \n",
       "1  55204538  Delayed Because of Accident  Andreas Rönnberg    rock   \n",
       "2    20EC38            Funiculì funiculà       Mario Lanza     pop   \n",
       "3  A3DD03C9        Dragons in the Sunset        Fire + Ice    folk   \n",
       "4  E2DC1FAE                  Soul People        Space Echo   dance   \n",
       "5  842029A1                    Преданная         IMPERVTOR  rusrap   \n",
       "6  4CB90AA5                         True      Roman Messer   dance   \n",
       "7  F03E1C1F             Feeling This Way   Polina Griffith   dance   \n",
       "8  8FA1D3BE     И вновь продолжается бой               NaN  ruspop   \n",
       "9  E772D5C0                    Pessimist               NaN   dance   \n",
       "\n",
       "             City        time        Day  \n",
       "0  Saint-Petersburg  20:28:33  Wednesday  \n",
       "1            Moscow  14:07:09     Friday  \n",
       "2  Saint-Petersburg  20:58:07  Wednesday  \n",
       "3  Saint-Petersburg  08:37:09     Monday  \n",
       "4            Moscow  08:34:34     Monday  \n",
       "5  Saint-Petersburg  13:09:41     Friday  \n",
       "6            Moscow  13:00:07  Wednesday  \n",
       "7            Moscow  20:47:49  Wednesday  \n",
       "8            Moscow  09:17:40     Friday  \n",
       "9  Saint-Petersburg  21:20:49  Wednesday  "
      ]
     },
     "execution_count": 41,
     "metadata": {},
     "output_type": "execute_result"
    }
   ],
   "source": [
    "df.head(10) # получение первых 10 строк таблицы df"
   ]
  },
  {
   "cell_type": "markdown",
   "metadata": {
    "deletable": false,
    "editable": false,
    "id": "EO73Kwic_Zct",
    "tags": [
     "start_task"
    ]
   },
   "source": [
    "**Задание 4**\n",
    "\n",
    "\n",
    "Одной командой получить общую информацию о таблице c помощью метода `info()`:"
   ]
  },
  {
   "cell_type": "code",
   "execution_count": 42,
   "metadata": {
    "deletable": false,
    "id": "DSf2kIb-_Zct"
   },
   "outputs": [
    {
     "name": "stdout",
     "output_type": "stream",
     "text": [
      "<class 'pandas.core.frame.DataFrame'>\n",
      "RangeIndex: 65079 entries, 0 to 65078\n",
      "Data columns (total 7 columns):\n",
      " #   Column    Non-Null Count  Dtype \n",
      "---  ------    --------------  ----- \n",
      " 0     userID  65079 non-null  object\n",
      " 1   Track     63848 non-null  object\n",
      " 2   artist    57876 non-null  object\n",
      " 3   genre     63881 non-null  object\n",
      " 4     City    65079 non-null  object\n",
      " 5   time      65079 non-null  object\n",
      " 6   Day       65079 non-null  object\n",
      "dtypes: object(7)\n",
      "memory usage: 3.5+ MB\n"
     ]
    }
   ],
   "source": [
    "df.info() # получение общей информации о данных в таблице df"
   ]
  },
  {
   "cell_type": "markdown",
   "metadata": {
    "deletable": false,
    "editable": false,
    "id": "TaQ2Iwbr_Zct"
   },
   "source": [
    "Итак, в таблице семь столбцов. Тип данных во всех столбцах — `object`.\n",
    "\n",
    "Согласно документации к данным:\n",
    "* `userID` — идентификатор пользователя;\n",
    "* `Track` — название трека;  \n",
    "* `artist` — имя исполнителя;\n",
    "* `genre` — название жанра;\n",
    "* `City` — город пользователя;\n",
    "* `time` — время начала прослушивания;\n",
    "* `Day` — день недели.\n",
    "\n",
    "Количество значений в столбцах различается. Значит, в данных есть пропущенные значения."
   ]
  },
  {
   "cell_type": "markdown",
   "metadata": {
    "deletable": false,
    "editable": false,
    "id": "rAfziTBDmf2h",
    "tags": [
     "start_task"
    ]
   },
   "source": [
    "**Задание 5**\n",
    "\n",
    "**Вопрос со свободной формой ответа**\n",
    "\n",
    "В названиях колонок видны нарушения стиля:\n",
    "* Строчные буквы сочетаются с прописными.\n",
    "* Встречаются пробелы.\n",
    "\n",
    "Какое третье нарушение?"
   ]
  },
  {
   "cell_type": "code",
   "execution_count": 43,
   "metadata": {
    "id": "jD8EXEIvmf2h"
   },
   "outputs": [],
   "source": [
    "# Змеиный регистр. Напишите ваш ответ здесь комментарием. Не удаляйте символ #. Не меняйте тип этой ячейки на Markdown."
   ]
  },
  {
   "cell_type": "markdown",
   "metadata": {
    "deletable": false,
    "editable": false,
    "id": "MCB6-dXG_Zct"
   },
   "source": [
    "**Выводы**\n",
    "\n",
    "В каждой строке таблицы — данные о прослушанном треке. Часть колонок описывает саму композицию: название, исполнителя и жанр. Остальные данные рассказывают о пользователе: из какого он города, когда он слушал музыку. \n",
    "\n",
    "Предварительно можно утверждать, что данных достаточно для проверки гипотез. Но встречаются пропуски в данных, а в названиях колонок — расхождения с хорошим стилем.\n",
    "\n",
    "Чтобы двигаться дальше, нужно устранить проблемы в данных."
   ]
  },
  {
   "cell_type": "markdown",
   "metadata": {
    "deletable": false,
    "editable": false,
    "id": "SjYF6Ub9_Zct"
   },
   "source": [
    "## Предобработка данных\n",
    "Исправьте стиль в заголовках столбцов, исключите пропуски. Затем проверьте данные на дубликаты."
   ]
  },
  {
   "cell_type": "markdown",
   "metadata": {
    "deletable": false,
    "editable": false,
    "id": "dIaKXr29_Zct",
    "tags": [
     "start_task"
    ]
   },
   "source": [
    "### Стиль заголовков\n",
    "\n",
    "**Задание 6**\n",
    "\n",
    "Выведите на экран названия столбцов:"
   ]
  },
  {
   "cell_type": "code",
   "execution_count": 44,
   "metadata": {
    "deletable": false,
    "id": "oKOTdF_Q_Zct"
   },
   "outputs": [
    {
     "data": {
      "text/plain": [
       "Index(['  userID', 'Track', 'artist', 'genre', '  City  ', 'time', 'Day'], dtype='object')"
      ]
     },
     "execution_count": 44,
     "metadata": {},
     "output_type": "execute_result"
    }
   ],
   "source": [
    "df.columns  # перечень названий столбцов таблицы df"
   ]
  },
  {
   "cell_type": "markdown",
   "metadata": {
    "deletable": false,
    "editable": false,
    "id": "zj5534cv_Zct",
    "tags": [
     "start_task"
    ]
   },
   "source": [
    "**Задание 7**\n",
    "\n",
    "\n",
    "Приведите названия в соответствие с хорошим стилем:\n",
    "* несколько слов в названии запишите в «змеином_регистре»,\n",
    "* все символы сделайте строчными,\n",
    "* устраните пробелы.\n",
    "\n",
    "Для этого переименуйте колонки так:\n",
    "* `'  userID'` → `'user_id'`;\n",
    "* `'Track'` → `'track'`;\n",
    "* `'  City  '` → `'city'`;\n",
    "* `'Day'` → `'day'`."
   ]
  },
  {
   "cell_type": "code",
   "execution_count": 45,
   "metadata": {
    "deletable": false,
    "id": "ISlFqs5y_Zct"
   },
   "outputs": [],
   "source": [
    "df = df.rename(columns={'  userID': 'user_id', 'Track': 'track', '  City  ': 'city', 'Day': 'day'}) # переименование столбцов"
   ]
  },
  {
   "cell_type": "markdown",
   "metadata": {
    "deletable": false,
    "editable": false,
    "id": "1dqbh00J_Zct",
    "tags": [
     "start_task"
    ]
   },
   "source": [
    "**Задание 8**\n",
    "\n",
    "\n",
    "Проверьте результат. Для этого ещё раз выведите на экран названия столбцов:"
   ]
  },
  {
   "cell_type": "code",
   "execution_count": 46,
   "metadata": {
    "deletable": false,
    "id": "d4NOAmTW_Zct"
   },
   "outputs": [
    {
     "data": {
      "text/plain": [
       "Index(['user_id', 'track', 'artist', 'genre', 'city', 'time', 'day'], dtype='object')"
      ]
     },
     "execution_count": 46,
     "metadata": {},
     "output_type": "execute_result"
    }
   ],
   "source": [
    "df.columns# проверка результатов - перечень названий столбцов"
   ]
  },
  {
   "cell_type": "markdown",
   "metadata": {
    "deletable": false,
    "editable": false,
    "id": "5ISfbcfY_Zct",
    "tags": [
     "start_task"
    ]
   },
   "source": [
    "### Пропуски значений\n",
    "\n",
    "**Задание 9**\n",
    "\n",
    "Сначала посчитайте, сколько в таблице пропущенных значений. Для этого достаточно двух методов `pandas`:"
   ]
  },
  {
   "cell_type": "code",
   "execution_count": 47,
   "metadata": {
    "deletable": false,
    "id": "RskX29qr_Zct"
   },
   "outputs": [
    {
     "data": {
      "text/plain": [
       "user_id       0\n",
       "track      1231\n",
       "artist     7203\n",
       "genre      1198\n",
       "city          0\n",
       "time          0\n",
       "day           0\n",
       "dtype: int64"
      ]
     },
     "execution_count": 47,
     "metadata": {},
     "output_type": "execute_result"
    }
   ],
   "source": [
    "df.isna().sum()# подсчёт пропусков"
   ]
  },
  {
   "cell_type": "markdown",
   "metadata": {
    "deletable": false,
    "editable": false,
    "id": "qubhgnlO_Zct"
   },
   "source": [
    "Не все пропущенные значения влияют на исследование. Так в `track` и `artist` пропуски не важны для вашей работы. Достаточно заменить их явными обозначениями.\n",
    "\n",
    "Но пропуски в `genre` могут помешать сравнению музыкальных вкусов в Москве и Санкт-Петербурге. На практике было бы правильно установить причину пропусков и восстановить данные. Такой возможности нет в учебном проекте. Придётся:\n",
    "* заполнить и эти пропуски явными обозначениями;\n",
    "* оценить, насколько они повредят расчётам. "
   ]
  },
  {
   "cell_type": "markdown",
   "metadata": {
    "deletable": false,
    "editable": false,
    "id": "fSv2laPA_Zct",
    "tags": [
     "start_task"
    ]
   },
   "source": [
    "**Задание 10**\n",
    "\n",
    "Замените пропущенные значения в столбцах `track`, `artist` и `genre` на строку `'unknown'`. Для этого создайте список `columns_to_replace`, переберите его элементы циклом `for` и для каждого столбца выполните замену пропущенных значений:"
   ]
  },
  {
   "cell_type": "code",
   "execution_count": 48,
   "metadata": {
    "deletable": false,
    "id": "KplB5qWs_Zct"
   },
   "outputs": [],
   "source": [
    "columns_to_replace = ['track', 'artist', 'genre'] # перебор названий столбцов в цикле и замена пропущенных значений на 'unknown'\n",
    "for column in columns_to_replace:\n",
    "    df[column] = df[column].fillna('unknown')\n"
   ]
  },
  {
   "cell_type": "markdown",
   "metadata": {
    "deletable": false,
    "editable": false,
    "id": "Ilsm-MZo_Zct",
    "tags": [
     "start_task"
    ]
   },
   "source": [
    "**Задание 11**\n",
    "\n",
    "Убедитесь, что в таблице не осталось пропусков. Для этого ещё раз посчитайте пропущенные значения."
   ]
  },
  {
   "cell_type": "code",
   "execution_count": 49,
   "metadata": {
    "deletable": false,
    "id": "Tq4nYRX4_Zct"
   },
   "outputs": [
    {
     "data": {
      "text/plain": [
       "user_id    0\n",
       "track      0\n",
       "artist     0\n",
       "genre      0\n",
       "city       0\n",
       "time       0\n",
       "day        0\n",
       "dtype: int64"
      ]
     },
     "execution_count": 49,
     "metadata": {},
     "output_type": "execute_result"
    }
   ],
   "source": [
    "df.isna().sum()"
   ]
  },
  {
   "cell_type": "markdown",
   "metadata": {
    "deletable": false,
    "editable": false,
    "id": "BWKRtBJ3_Zct",
    "tags": [
     "start_task"
    ]
   },
   "source": [
    "### Дубликаты\n",
    "\n",
    "**Задание 12**\n",
    "\n",
    "Посчитайте явные дубликаты в таблице одной командой:"
   ]
  },
  {
   "cell_type": "code",
   "execution_count": 50,
   "metadata": {
    "deletable": false,
    "id": "36eES_S0_Zct"
   },
   "outputs": [
    {
     "data": {
      "text/plain": [
       "3826"
      ]
     },
     "execution_count": 50,
     "metadata": {},
     "output_type": "execute_result"
    }
   ],
   "source": [
    "df.duplicated().sum()\n"
   ]
  },
  {
   "cell_type": "markdown",
   "metadata": {
    "deletable": false,
    "editable": false,
    "id": "Ot25h6XR_Zct",
    "tags": [
     "start_task"
    ]
   },
   "source": [
    "**Задание 13**\n",
    "\n",
    "Вызовите специальный метод `pandas`, чтобы удалить явные дубликаты:"
   ]
  },
  {
   "cell_type": "code",
   "execution_count": 51,
   "metadata": {
    "deletable": false,
    "id": "exFHq6tt_Zct"
   },
   "outputs": [],
   "source": [
    "df.drop_duplicates(inplace=True)"
   ]
  },
  {
   "cell_type": "markdown",
   "metadata": {
    "deletable": false,
    "editable": false,
    "id": "Im2YwBEG_Zct",
    "tags": [
     "start_task"
    ]
   },
   "source": [
    "**Задание 14**\n",
    "\n",
    "Ещё раз посчитайте явные дубликаты в таблице — убедитесь, что полностью от них избавились:"
   ]
  },
  {
   "cell_type": "code",
   "execution_count": 52,
   "metadata": {
    "deletable": false,
    "id": "-8PuNWQ0_Zct"
   },
   "outputs": [
    {
     "data": {
      "text/plain": [
       "0"
      ]
     },
     "execution_count": 52,
     "metadata": {},
     "output_type": "execute_result"
    }
   ],
   "source": [
    "df.duplicated().sum()"
   ]
  },
  {
   "cell_type": "markdown",
   "metadata": {
    "deletable": false,
    "editable": false,
    "id": "QlFBsxAr_Zct"
   },
   "source": [
    "Теперь избавьтесь от неявных дубликатов в колонке `genre`. Например, название одного и того же жанра может быть записано немного по-разному. Такие ошибки тоже повлияют на результат исследования."
   ]
  },
  {
   "cell_type": "markdown",
   "metadata": {
    "deletable": false,
    "editable": false,
    "id": "eSjWwsOh_Zct",
    "tags": [
     "start_task"
    ]
   },
   "source": [
    "**Задание 15**\n",
    "\n",
    "Выведите на экран список уникальных названий жанров, отсортированный в алфавитном порядке. Для этого:\n",
    "1. извлеките нужный столбец датафрейма; \n",
    "2. примените к нему метод сортировки;\n",
    "3. для отсортированного столбца вызовите метод, который вернёт уникальные значения из столбца."
   ]
  },
  {
   "cell_type": "code",
   "execution_count": 53,
   "metadata": {
    "deletable": false,
    "id": "JIUcqzZN_Zct"
   },
   "outputs": [
    {
     "data": {
      "text/plain": [
       "array(['acid', 'acoustic', 'action', 'adult', 'africa', 'afrikaans',\n",
       "       'alternative', 'alternativepunk', 'ambient', 'americana',\n",
       "       'animated', 'anime', 'arabesk', 'arabic', 'arena',\n",
       "       'argentinetango', 'art', 'audiobook', 'author', 'avantgarde',\n",
       "       'axé', 'baile', 'balkan', 'beats', 'bigroom', 'black', 'bluegrass',\n",
       "       'blues', 'bollywood', 'bossa', 'brazilian', 'breakbeat', 'breaks',\n",
       "       'broadway', 'cantautori', 'cantopop', 'canzone', 'caribbean',\n",
       "       'caucasian', 'celtic', 'chamber', 'chanson', 'children', 'chill',\n",
       "       'chinese', 'choral', 'christian', 'christmas', 'classical',\n",
       "       'classicmetal', 'club', 'colombian', 'comedy', 'conjazz',\n",
       "       'contemporary', 'country', 'cuban', 'dance', 'dancehall',\n",
       "       'dancepop', 'dark', 'death', 'deep', 'deutschrock', 'deutschspr',\n",
       "       'dirty', 'disco', 'dnb', 'documentary', 'downbeat', 'downtempo',\n",
       "       'drum', 'dub', 'dubstep', 'eastern', 'easy', 'electronic',\n",
       "       'electropop', 'emo', 'entehno', 'epicmetal', 'estrada', 'ethnic',\n",
       "       'eurofolk', 'european', 'experimental', 'extrememetal', 'fado',\n",
       "       'fairytail', 'film', 'fitness', 'flamenco', 'folk', 'folklore',\n",
       "       'folkmetal', 'folkrock', 'folktronica', 'forró', 'frankreich',\n",
       "       'französisch', 'french', 'funk', 'future', 'gangsta', 'garage',\n",
       "       'german', 'ghazal', 'gitarre', 'glitch', 'gospel', 'gothic',\n",
       "       'grime', 'grunge', 'gypsy', 'handsup', \"hard'n'heavy\", 'hardcore',\n",
       "       'hardstyle', 'hardtechno', 'hip', 'hip-hop', 'hiphop',\n",
       "       'historisch', 'holiday', 'hop', 'horror', 'house', 'hymn', 'idm',\n",
       "       'independent', 'indian', 'indie', 'indipop', 'industrial',\n",
       "       'inspirational', 'instrumental', 'international', 'irish', 'jam',\n",
       "       'japanese', 'jazz', 'jewish', 'jpop', 'jungle', 'k-pop',\n",
       "       'karadeniz', 'karaoke', 'kayokyoku', 'korean', 'laiko', 'latin',\n",
       "       'latino', 'leftfield', 'local', 'lounge', 'loungeelectronic',\n",
       "       'lovers', 'malaysian', 'mandopop', 'marschmusik', 'meditative',\n",
       "       'mediterranean', 'melodic', 'metal', 'metalcore', 'mexican',\n",
       "       'middle', 'minimal', 'miscellaneous', 'modern', 'mood', 'mpb',\n",
       "       'muslim', 'native', 'neoklassik', 'neue', 'new', 'newage',\n",
       "       'newwave', 'nu', 'nujazz', 'numetal', 'oceania', 'old', 'opera',\n",
       "       'orchestral', 'other', 'piano', 'podcasts', 'pop', 'popdance',\n",
       "       'popelectronic', 'popeurodance', 'poprussian', 'post',\n",
       "       'posthardcore', 'postrock', 'power', 'progmetal', 'progressive',\n",
       "       'psychedelic', 'punjabi', 'punk', 'quebecois', 'ragga', 'ram',\n",
       "       'rancheras', 'rap', 'rave', 'reggae', 'reggaeton', 'regional',\n",
       "       'relax', 'religious', 'retro', 'rhythm', 'rnb', 'rnr', 'rock',\n",
       "       'rockabilly', 'rockalternative', 'rockindie', 'rockother',\n",
       "       'romance', 'roots', 'ruspop', 'rusrap', 'rusrock', 'russian',\n",
       "       'salsa', 'samba', 'scenic', 'schlager', 'self', 'sertanejo',\n",
       "       'shanson', 'shoegazing', 'showtunes', 'singer', 'ska', 'skarock',\n",
       "       'slow', 'smooth', 'soft', 'soul', 'soulful', 'sound', 'soundtrack',\n",
       "       'southern', 'specialty', 'speech', 'spiritual', 'sport',\n",
       "       'stonerrock', 'surf', 'swing', 'synthpop', 'synthrock',\n",
       "       'sängerportrait', 'tango', 'tanzorchester', 'taraftar', 'tatar',\n",
       "       'tech', 'techno', 'teen', 'thrash', 'top', 'traditional',\n",
       "       'tradjazz', 'trance', 'tribal', 'trip', 'triphop', 'tropical',\n",
       "       'türk', 'türkçe', 'ukrrock', 'unknown', 'urban', 'uzbek',\n",
       "       'variété', 'vi', 'videogame', 'vocal', 'western', 'world',\n",
       "       'worldbeat', 'ïîï', 'электроника'], dtype=object)"
      ]
     },
     "execution_count": 53,
     "metadata": {},
     "output_type": "execute_result"
    }
   ],
   "source": [
    "df['genre'].sort_values().unique()\n"
   ]
  },
  {
   "cell_type": "markdown",
   "metadata": {
    "deletable": false,
    "editable": false,
    "id": "qej-Qmuo_Zct",
    "tags": [
     "start_task"
    ]
   },
   "source": [
    "**Задание 16**\n",
    "\n",
    "Просмотрите список и найдите неявные дубликаты названия `hiphop`. Это могут быть названия с ошибками или альтернативные названия того же жанра.\n",
    "\n",
    "Вы увидите следующие неявные дубликаты:\n",
    "* *hip*,\n",
    "* *hop*,\n",
    "* *hip-hop*.\n",
    "\n",
    "Чтобы очистить от них таблицу используйте метод `replace()` с двумя аргументами: списком строк-дубликатов (включащий *hip*, *hop* и *hip-hop*) и строкой с правильным значением. Вам нужно исправить колонку `genre` в таблице `df`: заменить каждое значение из списка дубликатов на верное. Вместо `hip`, `hop` и `hip-hop` в таблице должно быть значение `hiphop`:"
   ]
  },
  {
   "cell_type": "code",
   "execution_count": 54,
   "metadata": {
    "deletable": false,
    "id": "ErNDkmns_Zct"
   },
   "outputs": [],
   "source": [
    "to_replace = ['hip' , 'hop' , 'hip-hop']\n",
    "df['genre'] = df['genre'].replace(to_replace, 'hiphop')"
   ]
  },
  {
   "cell_type": "markdown",
   "metadata": {
    "deletable": false,
    "editable": false,
    "id": "zQKF16_RG15m",
    "tags": [
     "start_task"
    ]
   },
   "source": [
    "**Задание 17**\n",
    "\n",
    "Проверьте, что заменили неправильные названия:\n",
    "\n",
    "*   hip,\n",
    "*   hop,\n",
    "*   hip-hop.\n",
    "\n",
    "Выведите отсортированный список уникальных значений столбца `genre`:"
   ]
  },
  {
   "cell_type": "code",
   "execution_count": 55,
   "metadata": {
    "deletable": false,
    "id": "wvixALnFG15m"
   },
   "outputs": [
    {
     "data": {
      "text/plain": [
       "array(['acid', 'acoustic', 'action', 'adult', 'africa', 'afrikaans',\n",
       "       'alternative', 'alternativepunk', 'ambient', 'americana',\n",
       "       'animated', 'anime', 'arabesk', 'arabic', 'arena',\n",
       "       'argentinetango', 'art', 'audiobook', 'author', 'avantgarde',\n",
       "       'axé', 'baile', 'balkan', 'beats', 'bigroom', 'black', 'bluegrass',\n",
       "       'blues', 'bollywood', 'bossa', 'brazilian', 'breakbeat', 'breaks',\n",
       "       'broadway', 'cantautori', 'cantopop', 'canzone', 'caribbean',\n",
       "       'caucasian', 'celtic', 'chamber', 'chanson', 'children', 'chill',\n",
       "       'chinese', 'choral', 'christian', 'christmas', 'classical',\n",
       "       'classicmetal', 'club', 'colombian', 'comedy', 'conjazz',\n",
       "       'contemporary', 'country', 'cuban', 'dance', 'dancehall',\n",
       "       'dancepop', 'dark', 'death', 'deep', 'deutschrock', 'deutschspr',\n",
       "       'dirty', 'disco', 'dnb', 'documentary', 'downbeat', 'downtempo',\n",
       "       'drum', 'dub', 'dubstep', 'eastern', 'easy', 'electronic',\n",
       "       'electropop', 'emo', 'entehno', 'epicmetal', 'estrada', 'ethnic',\n",
       "       'eurofolk', 'european', 'experimental', 'extrememetal', 'fado',\n",
       "       'fairytail', 'film', 'fitness', 'flamenco', 'folk', 'folklore',\n",
       "       'folkmetal', 'folkrock', 'folktronica', 'forró', 'frankreich',\n",
       "       'französisch', 'french', 'funk', 'future', 'gangsta', 'garage',\n",
       "       'german', 'ghazal', 'gitarre', 'glitch', 'gospel', 'gothic',\n",
       "       'grime', 'grunge', 'gypsy', 'handsup', \"hard'n'heavy\", 'hardcore',\n",
       "       'hardstyle', 'hardtechno', 'hiphop', 'historisch', 'holiday',\n",
       "       'horror', 'house', 'hymn', 'idm', 'independent', 'indian', 'indie',\n",
       "       'indipop', 'industrial', 'inspirational', 'instrumental',\n",
       "       'international', 'irish', 'jam', 'japanese', 'jazz', 'jewish',\n",
       "       'jpop', 'jungle', 'k-pop', 'karadeniz', 'karaoke', 'kayokyoku',\n",
       "       'korean', 'laiko', 'latin', 'latino', 'leftfield', 'local',\n",
       "       'lounge', 'loungeelectronic', 'lovers', 'malaysian', 'mandopop',\n",
       "       'marschmusik', 'meditative', 'mediterranean', 'melodic', 'metal',\n",
       "       'metalcore', 'mexican', 'middle', 'minimal', 'miscellaneous',\n",
       "       'modern', 'mood', 'mpb', 'muslim', 'native', 'neoklassik', 'neue',\n",
       "       'new', 'newage', 'newwave', 'nu', 'nujazz', 'numetal', 'oceania',\n",
       "       'old', 'opera', 'orchestral', 'other', 'piano', 'podcasts', 'pop',\n",
       "       'popdance', 'popelectronic', 'popeurodance', 'poprussian', 'post',\n",
       "       'posthardcore', 'postrock', 'power', 'progmetal', 'progressive',\n",
       "       'psychedelic', 'punjabi', 'punk', 'quebecois', 'ragga', 'ram',\n",
       "       'rancheras', 'rap', 'rave', 'reggae', 'reggaeton', 'regional',\n",
       "       'relax', 'religious', 'retro', 'rhythm', 'rnb', 'rnr', 'rock',\n",
       "       'rockabilly', 'rockalternative', 'rockindie', 'rockother',\n",
       "       'romance', 'roots', 'ruspop', 'rusrap', 'rusrock', 'russian',\n",
       "       'salsa', 'samba', 'scenic', 'schlager', 'self', 'sertanejo',\n",
       "       'shanson', 'shoegazing', 'showtunes', 'singer', 'ska', 'skarock',\n",
       "       'slow', 'smooth', 'soft', 'soul', 'soulful', 'sound', 'soundtrack',\n",
       "       'southern', 'specialty', 'speech', 'spiritual', 'sport',\n",
       "       'stonerrock', 'surf', 'swing', 'synthpop', 'synthrock',\n",
       "       'sängerportrait', 'tango', 'tanzorchester', 'taraftar', 'tatar',\n",
       "       'tech', 'techno', 'teen', 'thrash', 'top', 'traditional',\n",
       "       'tradjazz', 'trance', 'tribal', 'trip', 'triphop', 'tropical',\n",
       "       'türk', 'türkçe', 'ukrrock', 'unknown', 'urban', 'uzbek',\n",
       "       'variété', 'vi', 'videogame', 'vocal', 'western', 'world',\n",
       "       'worldbeat', 'ïîï', 'электроника'], dtype=object)"
      ]
     },
     "execution_count": 55,
     "metadata": {},
     "output_type": "execute_result"
    }
   ],
   "source": [
    "df['genre'].sort_values().unique()"
   ]
  },
  {
   "cell_type": "markdown",
   "metadata": {
    "deletable": false,
    "editable": false,
    "id": "jz6a9-7HQUDd"
   },
   "source": [
    "**Выводы**\n",
    "\n",
    "Предобработка обнаружила три проблемы в данных:\n",
    "\n",
    "- нарушения в стиле заголовков,\n",
    "- пропущенные значения,\n",
    "- дубликаты — явные и неявные.\n",
    "\n",
    "Вы исправили заголовки, чтобы упростить работу с таблицей. Без дубликатов исследование станет более точным.\n",
    "\n",
    "Пропущенные значения вы заменили на `'unknown'`. Ещё предстоит увидеть, не повредят ли исследованию пропуски в колонке `genre`.\n",
    "\n",
    "Теперь можно перейти к проверке гипотез. "
   ]
  },
  {
   "cell_type": "markdown",
   "metadata": {
    "deletable": false,
    "editable": false,
    "id": "WttZHXH0SqKk"
   },
   "source": [
    "## Проверка гипотез"
   ]
  },
  {
   "cell_type": "markdown",
   "metadata": {
    "deletable": false,
    "editable": false,
    "id": "Im936VVi_Zcu"
   },
   "source": [
    "### Сравнение поведения пользователей двух столиц"
   ]
  },
  {
   "cell_type": "markdown",
   "metadata": {
    "deletable": false,
    "editable": false,
    "id": "nwt_MuaL_Zcu"
   },
   "source": [
    "Первая гипотеза утверждает, что пользователи по-разному слушают музыку в Москве и Санкт-Петербурге. Проверьте это предположение по данным о трёх днях недели — понедельнике, среде и пятнице. Для этого:\n",
    "\n",
    "* Разделите пользователей Москвы и Санкт-Петербурга.\n",
    "* Сравните, сколько треков послушала каждая группа пользователей в понедельник, среду и пятницу.\n"
   ]
  },
  {
   "cell_type": "markdown",
   "metadata": {
    "deletable": false,
    "editable": false,
    "id": "8Dw_YMmT_Zcu",
    "tags": [
     "start_task"
    ]
   },
   "source": [
    "**Задание 18**\n",
    "\n",
    "Для тренировки сначала выполните каждый из расчётов по отдельности. \n",
    "\n",
    "Оцените активность пользователей в каждом городе. Сгруппируйте данные по городу и посчитайте прослушивания в каждой группе.\n",
    "\n"
   ]
  },
  {
   "cell_type": "code",
   "execution_count": 56,
   "metadata": {
    "deletable": false,
    "id": "0_Qs96oh_Zcu"
   },
   "outputs": [
    {
     "data": {
      "text/plain": [
       "city\n",
       "Moscow              42741\n",
       "Saint-Petersburg    18512\n",
       "Name: genre, dtype: int64"
      ]
     },
     "execution_count": 56,
     "metadata": {},
     "output_type": "execute_result"
    }
   ],
   "source": [
    "df.groupby('city')['genre'].count()"
   ]
  },
  {
   "cell_type": "markdown",
   "metadata": {
    "deletable": false,
    "editable": false,
    "id": "dzli3w8o_Zcu",
    "tags": [
     "start_task"
    ]
   },
   "source": [
    "В Москве прослушиваний больше, чем в Петербурге. Из этого не следует, что московские пользователи чаще слушают музыку. Просто самих пользователей в Москве больше.\n",
    "\n",
    "**Задание 19**\n",
    "\n",
    "Теперь сгруппируйте данные по дню недели и посчитайте прослушивания в понедельник, среду и пятницу. Учтите, что в данных есть информация о прослушиваниях только за эти дни.\n"
   ]
  },
  {
   "cell_type": "code",
   "execution_count": 57,
   "metadata": {
    "deletable": false,
    "id": "uZMKjiJz_Zcu"
   },
   "outputs": [
    {
     "data": {
      "text/plain": [
       "day\n",
       "Friday       21840\n",
       "Monday       21354\n",
       "Wednesday    18059\n",
       "Name: day, dtype: int64"
      ]
     },
     "execution_count": 57,
     "metadata": {},
     "output_type": "execute_result"
    }
   ],
   "source": [
    "df.groupby('day')['day'].count()"
   ]
  },
  {
   "cell_type": "markdown",
   "metadata": {
    "deletable": false,
    "editable": false,
    "id": "cC2tNrlL_Zcu"
   },
   "source": [
    "В среднем пользователи из двух городов менее активны по средам. Но картина может измениться, если рассмотреть каждый город в отдельности."
   ]
  },
  {
   "cell_type": "markdown",
   "metadata": {
    "deletable": false,
    "editable": false,
    "id": "POzs8bGa_Zcu",
    "tags": [
     "start_task"
    ]
   },
   "source": [
    "**Задание 20**\n",
    "\n",
    "\n",
    "Вы видели, как работает группировка по городу и по дням недели. Теперь напишите функцию, которая объединит два эти расчёта.\n",
    "\n",
    "Создайте функцию `number_tracks()`, которая посчитает прослушивания для заданного дня и города. Ей понадобятся два параметра:\n",
    "* день недели,\n",
    "* название города.\n",
    "\n",
    "В функции сохраните в переменную строки исходной таблицы, у которых значение:\n",
    "  * в колонке `day` равно параметру `day`,\n",
    "  * в колонке `city` равно параметру `city`.\n",
    "\n",
    "Для этого примените последовательную фильтрацию с логической индексацией (или сложные логические выражения в одну строку, если вы уже знакомы с ними).\n",
    "\n",
    "Затем посчитайте значения в столбце `user_id` получившейся таблицы. Результат сохраните в новую переменную. Верните эту переменную из функции."
   ]
  },
  {
   "cell_type": "code",
   "execution_count": 58,
   "metadata": {
    "deletable": false,
    "id": "Nz3GdQB1_Zcu"
   },
   "outputs": [],
   "source": [
    "def number_tracks(day, city):# <создание функции number_tracks()>\n",
    "# Объявляется функция с двумя параметрами: day, city.\n",
    "    track_list = df[df['day'] == day]\n",
    "    track_list = track_list[track_list['city'] == city]# В переменной track_list сохраняются те строки таблицы df, для которых \n",
    "# значение в столбце 'day' равно параметру day и одновременно значение\n",
    "# в столбце 'city' равно параметру city (используйте последовательную фильтрацию\n",
    "# с помощью логической индексации или сложные логические выражения в одну строку, если вы уже знакомы с ними).\n",
    "    track_list_count = track_list['user_id'].count()# В переменной track_list_count сохраняется число значений столбца 'user_id',\n",
    "# рассчитанное методом count() для таблицы track_list.\n",
    "    return track_list_count# Функция возвращает число - значение track_list_count.\n",
    " "
   ]
  },
  {
   "cell_type": "markdown",
   "metadata": {
    "deletable": false,
    "editable": false,
    "id": "ytf7xFrFJQ2r",
    "tags": [
     "start_task"
    ]
   },
   "source": [
    "**Задание 21**\n",
    "\n",
    "Вызовите `number_tracks()` шесть раз, меняя значение параметров — так, чтобы получить данные для каждого города в каждый из трёх дней."
   ]
  },
  {
   "cell_type": "code",
   "execution_count": 59,
   "metadata": {
    "deletable": false,
    "id": "rJcRATNQ_Zcu"
   },
   "outputs": [
    {
     "data": {
      "text/plain": [
       "15740"
      ]
     },
     "execution_count": 59,
     "metadata": {},
     "output_type": "execute_result"
    }
   ],
   "source": [
    "number_tracks('Monday', 'Moscow')"
   ]
  },
  {
   "cell_type": "code",
   "execution_count": 60,
   "metadata": {
    "deletable": false,
    "id": "hq_ncZ5T_Zcu"
   },
   "outputs": [
    {
     "data": {
      "text/plain": [
       "5614"
      ]
     },
     "execution_count": 60,
     "metadata": {},
     "output_type": "execute_result"
    }
   ],
   "source": [
    "number_tracks('Monday', 'Saint-Petersburg')"
   ]
  },
  {
   "cell_type": "code",
   "execution_count": 61,
   "metadata": {
    "deletable": false,
    "id": "_NTy2VPU_Zcu"
   },
   "outputs": [
    {
     "data": {
      "text/plain": [
       "11056"
      ]
     },
     "execution_count": 61,
     "metadata": {},
     "output_type": "execute_result"
    }
   ],
   "source": [
    "number_tracks('Wednesday', 'Moscow')"
   ]
  },
  {
   "cell_type": "code",
   "execution_count": 62,
   "metadata": {
    "deletable": false,
    "id": "j2y3TAwo_Zcu"
   },
   "outputs": [
    {
     "data": {
      "text/plain": [
       "7003"
      ]
     },
     "execution_count": 62,
     "metadata": {},
     "output_type": "execute_result"
    }
   ],
   "source": [
    "number_tracks('Wednesday', 'Saint-Petersburg')"
   ]
  },
  {
   "cell_type": "code",
   "execution_count": 63,
   "metadata": {
    "deletable": false,
    "id": "vYDw5u_K_Zcu"
   },
   "outputs": [
    {
     "data": {
      "text/plain": [
       "15945"
      ]
     },
     "execution_count": 63,
     "metadata": {},
     "output_type": "execute_result"
    }
   ],
   "source": [
    "number_tracks('Friday', 'Moscow')"
   ]
  },
  {
   "cell_type": "code",
   "execution_count": 64,
   "metadata": {
    "deletable": false,
    "id": "8_yzFtW3_Zcu"
   },
   "outputs": [
    {
     "data": {
      "text/plain": [
       "5895"
      ]
     },
     "execution_count": 64,
     "metadata": {},
     "output_type": "execute_result"
    }
   ],
   "source": [
    "number_tracks('Friday', 'Saint-Petersburg')#"
   ]
  },
  {
   "cell_type": "markdown",
   "metadata": {
    "deletable": false,
    "editable": false,
    "id": "7QXffbO-_Zcu",
    "tags": [
     "start_task"
    ]
   },
   "source": [
    "**Задание 22**\n",
    "\n",
    "Создайте c помощью конструктора `pd.DataFrame` таблицу, где\n",
    "* названия колонок — `['city', 'monday', 'wednesday', 'friday']`;\n",
    "* данные — результаты, которые вы получили с помощью `number_tracks`."
   ]
  },
  {
   "cell_type": "code",
   "execution_count": 65,
   "metadata": {
    "deletable": false,
    "id": "APAcLpOr_Zcu"
   },
   "outputs": [],
   "source": [
    "columns = ['city', 'monday', 'wednesday', 'friday'] \n",
    "data = [['Moscow', 15740, 11056, 5614],\n",
    "        ['Saint-Petersburg', 11056, 15945, 7003]] \n",
    "info = pd.DataFrame(data = data, columns = columns) \n"
   ]
  },
  {
   "cell_type": "markdown",
   "metadata": {
    "deletable": false,
    "editable": false,
    "id": "-EgPIHYu_Zcu"
   },
   "source": [
    "**Выводы**\n",
    "\n",
    "Данные показывают разницу поведения пользователей:\n",
    "\n",
    "- В Москве пик прослушиваний приходится на понедельник и пятницу, а в среду заметен спад.\n",
    "- В Петербурге, наоборот, больше слушают музыку по средам. Активность в понедельник и пятницу здесь почти в равной мере уступает среде.\n",
    "\n",
    "Значит, данные говорят в пользу первой гипотезы."
   ]
  },
  {
   "cell_type": "markdown",
   "metadata": {
    "deletable": false,
    "editable": false,
    "id": "atZAxtq4_Zcu"
   },
   "source": [
    "### Музыка в начале и в конце недели"
   ]
  },
  {
   "cell_type": "markdown",
   "metadata": {
    "deletable": false,
    "editable": false,
    "id": "eXrQqXFH_Zcu"
   },
   "source": [
    "Согласно второй гипотезе, утром в понедельник в Москве преобладают одни жанры, а в Петербурге — другие. Так же и вечером пятницы преобладают разные жанры — в зависимости от города."
   ]
  },
  {
   "cell_type": "markdown",
   "metadata": {
    "deletable": false,
    "editable": false,
    "id": "S8UcW6Hw_Zcu",
    "tags": [
     "start_task"
    ]
   },
   "source": [
    "**Задание 23**\n",
    "\n",
    "Сохраните таблицы с данными в две переменные:\n",
    "* по Москве — в `moscow_general`;\n",
    "* по Санкт-Петербургу — в `spb_general`."
   ]
  },
  {
   "cell_type": "code",
   "execution_count": 66,
   "metadata": {
    "deletable": false,
    "id": "qeaFfM_P_Zcu"
   },
   "outputs": [],
   "source": [
    "moscow_general = df[df['city'] == 'Moscow']\n",
    "# получение таблицы moscow_general из тех строк таблицы df, \n",
    "# для которых значение в столбце 'city' равно 'Moscow'\n"
   ]
  },
  {
   "cell_type": "code",
   "execution_count": 67,
   "metadata": {
    "deletable": false,
    "id": "ORaVRKto_Zcu"
   },
   "outputs": [],
   "source": [
    "# получение таблицы spb_general из тех строк таблицы df,\n",
    "# для которых значение в столбце 'city' равно 'Saint-Petersburg'\n",
    "spb_general = df[df['city'] == 'Saint-Petersburg']"
   ]
  },
  {
   "cell_type": "markdown",
   "metadata": {
    "deletable": false,
    "id": "MEJV-CX2_Zcu",
    "tags": [
     "start_task"
    ]
   },
   "source": [
    "**Задание 24**\n",
    "\n",
    "Создайте функцию `genre_weekday()` с четырьмя параметрами:\n",
    "* таблица (датафрейм) с данными,\n",
    "* день недели,\n",
    "* начальная временная метка в формате 'hh:mm', \n",
    "* последняя временная метка в формате 'hh:mm'.\n",
    "\n",
    "Функция должна вернуть информацию о топ-10 жанров тех треков, которые прослушивали в указанный день, в промежутке между двумя отметками времени."
   ]
  },
  {
   "cell_type": "code",
   "execution_count": 68,
   "metadata": {
    "deletable": false,
    "id": "laJT9BYl_Zcu"
   },
   "outputs": [],
   "source": [
    "# Объявление функции genre_weekday() с параметрами table, day, time1, time2,\n",
    "# которая возвращает информацию о самых популярных жанрах в указанный день в\n",
    "# заданное время:\n",
    "# 1) в переменную genre_df сохраняются те строки переданного датафрейма table, для\n",
    "#    которых одновременно:\n",
    "#    - значение в столбце day равно значению аргумента day\n",
    "#    - значение в столбце time больше значения аргумента time1\n",
    "#    - значение в столбце time меньше значения аргумента time2\n",
    "#    Используйте последовательную фильтрацию с помощью логической индексации.\n",
    "# 2) сгруппировать датафрейм genre_df по столбцу genre, взять один из его\n",
    "#    столбцов и посчитать методом count() количество записей для каждого из\n",
    "#    присутствующих жанров, получившийся Series записать в переменную\n",
    "#    genre_df_count\n",
    "# 3) отсортировать genre_df_count по убыванию встречаемости и сохранить\n",
    "#    в переменную genre_df_sorted\n",
    "# 4) вернуть Series из 10 первых значений genre_df_sorted, это будут топ-10\n",
    "#    популярных жанров (в указанный день, в заданное время)\n",
    "\n",
    "def genre_weekday(table, day, time1, time2):\n",
    "    genre_df = table[table['day'] == day]\n",
    "    genre_df = genre_df[genre_df['time'] > time1]\n",
    "    genre_df = genre_df[genre_df['time'] < time2]\n",
    "    genre_df_count = genre_df.groupby('genre')['genre'].count()\n",
    "    genre_df_sorted = genre_df_count.sort_values(ascending=False)\n",
    "    return genre_df_sorted.head(10)"
   ]
  },
  {
   "cell_type": "markdown",
   "metadata": {
    "deletable": false,
    "editable": false,
    "id": "la2s2_PF_Zcu",
    "tags": [
     "start_task"
    ]
   },
   "source": [
    "**Задание 25**\n",
    "\n",
    "\n",
    "Cравните результаты функции `genre_weekday()` для Москвы и Санкт-Петербурга в понедельник утром (с 7:00 до 11:00) и в пятницу вечером (с 17:00 до 23:00):"
   ]
  },
  {
   "cell_type": "code",
   "execution_count": 69,
   "metadata": {
    "deletable": false,
    "id": "yz7itPUQ_Zcu"
   },
   "outputs": [
    {
     "data": {
      "text/plain": [
       "genre\n",
       "pop            781\n",
       "dance          549\n",
       "electronic     480\n",
       "rock           474\n",
       "hiphop         286\n",
       "ruspop         186\n",
       "world          181\n",
       "rusrap         175\n",
       "alternative    164\n",
       "unknown        161\n",
       "Name: genre, dtype: int64"
      ]
     },
     "execution_count": 69,
     "metadata": {},
     "output_type": "execute_result"
    }
   ],
   "source": [
    "# вызов функции для утра понедельника в Москве (вместо df — таблица moscow_general)\n",
    "# объекты, хранящие время, являются строками и сравниваются как строки\n",
    "# пример вызова: genre_weekday(moscow_general, 'Monday', '07:00', '11:00')\n",
    "genre_weekday(moscow_general, 'Monday', '07:00', '11:00')\n"
   ]
  },
  {
   "cell_type": "code",
   "execution_count": 70,
   "metadata": {
    "deletable": false,
    "id": "kwUcHPdy_Zcu"
   },
   "outputs": [
    {
     "data": {
      "text/plain": [
       "genre\n",
       "pop            218\n",
       "dance          182\n",
       "rock           162\n",
       "electronic     147\n",
       "hiphop          80\n",
       "ruspop          64\n",
       "alternative     58\n",
       "rusrap          55\n",
       "jazz            44\n",
       "classical       40\n",
       "Name: genre, dtype: int64"
      ]
     },
     "execution_count": 70,
     "metadata": {},
     "output_type": "execute_result"
    }
   ],
   "source": [
    "# вызов функции для утра понедельника в Петербурге (вместо df — таблица spb_general)\n",
    "genre_weekday(spb_general, 'Monday', '07:00', '11:00')"
   ]
  },
  {
   "cell_type": "code",
   "execution_count": 71,
   "metadata": {
    "deletable": false,
    "id": "EzXVRE1o_Zcu"
   },
   "outputs": [
    {
     "data": {
      "text/plain": [
       "genre\n",
       "pop            713\n",
       "rock           517\n",
       "dance          495\n",
       "electronic     482\n",
       "hiphop         273\n",
       "world          208\n",
       "ruspop         170\n",
       "alternative    163\n",
       "classical      163\n",
       "rusrap         142\n",
       "Name: genre, dtype: int64"
      ]
     },
     "execution_count": 71,
     "metadata": {},
     "output_type": "execute_result"
    }
   ],
   "source": [
    "# вызов функции для вечера пятницы в Москве\n",
    "genre_weekday(moscow_general, 'Friday', '17:00', '23:00')"
   ]
  },
  {
   "cell_type": "code",
   "execution_count": 72,
   "metadata": {
    "deletable": false,
    "id": "JZaEKu5v_Zcu"
   },
   "outputs": [
    {
     "data": {
      "text/plain": [
       "genre\n",
       "pop            256\n",
       "electronic     216\n",
       "rock           216\n",
       "dance          210\n",
       "hiphop          97\n",
       "alternative     63\n",
       "jazz            61\n",
       "classical       60\n",
       "rusrap          59\n",
       "world           54\n",
       "Name: genre, dtype: int64"
      ]
     },
     "execution_count": 72,
     "metadata": {},
     "output_type": "execute_result"
    }
   ],
   "source": [
    "# вызов функции для вечера пятницы в Петербурге\n",
    "genre_weekday(spb_general, 'Friday', '17:00', '23:00')"
   ]
  },
  {
   "cell_type": "markdown",
   "metadata": {
    "deletable": false,
    "editable": false,
    "id": "wrCe4MNX_Zcu"
   },
   "source": [
    "**Выводы**\n",
    "\n",
    "Если сравнить топ-10 жанров в понедельник утром, можно сделать такие выводы:\n",
    "\n",
    "1. В Москве и Петербурге слушают похожую музыку. Единственное отличие — в московский рейтинг вошёл жанр “world”, а в петербургский — джаз и классика.\n",
    "\n",
    "2. В Москве пропущенных значений оказалось так много, что значение `'unknown'` заняло десятое место среди самых популярных жанров. Значит, пропущенные значения занимают существенную долю в данных и угрожают достоверности исследования.\n",
    "\n",
    "Вечер пятницы не меняет эту картину. Некоторые жанры поднимаются немного выше, другие спускаются, но в целом топ-10 остаётся тем же самым.\n",
    "\n",
    "Таким образом, вторая гипотеза подтвердилась лишь частично:\n",
    "* Пользователи слушают похожую музыку в начале недели и в конце.\n",
    "* Разница между Москвой и Петербургом не слишком выражена. В Москве чаще слушают русскую популярную музыку, в Петербурге — джаз.\n",
    "\n",
    "Однако пропуски в данных ставят под сомнение этот результат. В Москве их так много, что рейтинг топ-10 мог бы выглядеть иначе, если бы не утерянные  данные о жанрах."
   ]
  },
  {
   "cell_type": "markdown",
   "metadata": {
    "deletable": false,
    "editable": false,
    "id": "JolODAqr_Zcu"
   },
   "source": [
    "### Жанровые предпочтения в Москве и Петербурге\n",
    "\n",
    "Гипотеза: Петербург — столица рэпа, музыку этого жанра там слушают чаще, чем в Москве.  А Москва — город контрастов, в котором, тем не менее, преобладает поп-музыка."
   ]
  },
  {
   "cell_type": "markdown",
   "metadata": {
    "deletable": false,
    "editable": false,
    "id": "DlegSvaT_Zcu",
    "tags": [
     "start_task"
    ]
   },
   "source": [
    "**Задание 26**\n",
    "\n",
    "Сгруппируйте таблицу `moscow_general` по жанру и посчитайте прослушивания треков каждого жанра методом `count()`. Затем отсортируйте результат в порядке убывания и сохраните его в таблице `moscow_genres`."
   ]
  },
  {
   "cell_type": "code",
   "execution_count": 73,
   "metadata": {
    "deletable": false,
    "id": "r19lIPke_Zcu"
   },
   "outputs": [],
   "source": [
    "# одной строкой: группировка таблицы moscow_general по столбцу 'genre', \n",
    "# подсчёт числа значений 'genre' в этой группировке методом count(), \n",
    "# сортировка получившегося Series в порядке убывания и сохранение в moscow_genres\n",
    "moscow_genres = moscow_general.groupby('genre')['genre'].count().sort_values(ascending = False)\n"
   ]
  },
  {
   "cell_type": "markdown",
   "metadata": {
    "deletable": false,
    "editable": false,
    "id": "6kMuomxTiIr8",
    "tags": [
     "start_task"
    ]
   },
   "source": [
    "**Задание 27**\n",
    "\n",
    "Выведите на экран первые десять строк `moscow_genres`:"
   ]
  },
  {
   "cell_type": "code",
   "execution_count": 74,
   "metadata": {
    "deletable": false,
    "id": "WhCSooF8_Zcv"
   },
   "outputs": [
    {
     "data": {
      "text/plain": [
       "genre\n",
       "pop            5892\n",
       "dance          4435\n",
       "rock           3965\n",
       "electronic     3786\n",
       "hiphop         2096\n",
       "classical      1616\n",
       "world          1432\n",
       "alternative    1379\n",
       "ruspop         1372\n",
       "rusrap         1161\n",
       "Name: genre, dtype: int64"
      ]
     },
     "execution_count": 74,
     "metadata": {},
     "output_type": "execute_result"
    }
   ],
   "source": [
    "# просмотр первых 10 строк moscow_genres\n",
    "moscow_genres.head(10)"
   ]
  },
  {
   "cell_type": "markdown",
   "metadata": {
    "deletable": false,
    "editable": false,
    "id": "cnPG2vnN_Zcv",
    "tags": [
     "start_task"
    ]
   },
   "source": [
    "**Задание 28**\n",
    "\n",
    "\n",
    "Теперь повторите то же и для Петербурга.\n",
    "\n",
    "Сгруппируйте таблицу `spb_general` по жанру. Посчитайте прослушивания треков каждого жанра. Результат отсортируйте в порядке убывания и сохраните в таблице `spb_genres`:\n"
   ]
  },
  {
   "cell_type": "code",
   "execution_count": 75,
   "metadata": {
    "deletable": false,
    "id": "gluLIpE7_Zcv"
   },
   "outputs": [],
   "source": [
    "# одной строкой: группировка таблицы spb_general по столбцу 'genre', \n",
    "# подсчёт числа значений 'genre' в этой группировке методом count(), \n",
    "# сортировка получившегося Series в порядке убывания и сохранение в spb_genres\n",
    "spb_genres=spb_general.groupby('genre')['genre'].count().sort_values(ascending=False)"
   ]
  },
  {
   "cell_type": "markdown",
   "metadata": {
    "deletable": false,
    "editable": false,
    "id": "5Doha_ODgyQ8",
    "tags": [
     "start_task"
    ]
   },
   "source": [
    "**Задание 29**\n",
    "\n",
    "Выведите на экран первые десять строк `spb_genres`:"
   ]
  },
  {
   "cell_type": "code",
   "execution_count": 76,
   "metadata": {
    "deletable": false,
    "id": "uaGJHjVU_Zcv"
   },
   "outputs": [
    {
     "data": {
      "text/plain": [
       "genre\n",
       "pop            2431\n",
       "dance          1932\n",
       "rock           1879\n",
       "electronic     1736\n",
       "hiphop          960\n",
       "alternative     649\n",
       "classical       646\n",
       "rusrap          564\n",
       "ruspop          538\n",
       "world           515\n",
       "Name: genre, dtype: int64"
      ]
     },
     "execution_count": 76,
     "metadata": {},
     "output_type": "execute_result"
    }
   ],
   "source": [
    "# просмотр первых 10 строк spb_genres\n",
    "spb_genres.head(10)"
   ]
  },
  {
   "cell_type": "markdown",
   "metadata": {
    "deletable": false,
    "editable": false,
    "id": "RY51YJYu_Zcv"
   },
   "source": [
    "**Выводы**"
   ]
  },
  {
   "cell_type": "markdown",
   "metadata": {
    "deletable": false,
    "editable": false,
    "id": "nVhnJEm__Zcv"
   },
   "source": [
    "Гипотеза частично подтвердилась:\n",
    "* Поп-музыка — самый популярный жанр в Москве, как и предполагала гипотеза. Более того, в топ-10 жанров встречается близкий жанр — русская популярная музыка.\n",
    "* Вопреки ожиданиям, рэп одинаково популярен в Москве и Петербурге. \n"
   ]
  },
  {
   "cell_type": "markdown",
   "metadata": {
    "deletable": false,
    "editable": false,
    "id": "ykKQ0N65_Zcv"
   },
   "source": [
    "## Итоги исследования"
   ]
  },
  {
   "cell_type": "markdown",
   "metadata": {
    "deletable": false,
    "editable": false,
    "id": "tjUwbHb3_Zcv"
   },
   "source": [
    "Вы проверили три гипотезы и установили:\n",
    "\n",
    "1. День недели по-разному влияет на активность пользователей в Москве и Петербурге. \n",
    "\n",
    "Первая гипотеза полностью подтвердилась.\n",
    "\n",
    "2. Музыкальные предпочтения не сильно меняются в течение недели — будь то Москва или Петербург. Небольшие различия заметны в начале недели, по понедельникам:\n",
    "* в Москве слушают музыку жанра “world”,\n",
    "* в Петербурге — джаз и классику.\n",
    "\n",
    "Таким образом, вторая гипотеза подтвердилась лишь отчасти. Этот результат мог оказаться иным, если бы не пропуски в данных.\n",
    "\n",
    "3. Во вкусах пользователей Москвы и Петербурга больше общего чем различий. Вопреки ожиданиям, предпочтения жанров в Петербурге напоминают московские.\n",
    "\n",
    "Третья гипотеза не подтвердилась. Если различия в предпочтениях и существуют, на основной массе пользователей они незаметны.\n",
    "\n",
    "**На практике исследования содержат проверки статистических гипотез.**\n",
    "Из данных одного сервиса не всегда можно сделать вывод о всех жителях города.\n",
    "Проверки статистических гипотез покажут, насколько они достоверны, исходя из имеющихся данных. \n",
    "С методами проверок гипотез вы ещё познакомитесь в следующих темах."
   ]
  }
 ],
 "metadata": {
  "ExecuteTimeLog": [
   {
    "duration": 47,
    "start_time": "2022-06-23T17:36:47.299Z"
   },
   {
    "duration": 6,
    "start_time": "2022-06-23T17:39:01.868Z"
   },
   {
    "duration": 7,
    "start_time": "2022-06-23T17:41:27.913Z"
   },
   {
    "duration": 6,
    "start_time": "2022-06-23T18:54:00.603Z"
   },
   {
    "duration": 12,
    "start_time": "2022-06-23T18:58:05.167Z"
   },
   {
    "duration": 52,
    "start_time": "2022-06-23T20:52:51.600Z"
   },
   {
    "duration": 7,
    "start_time": "2022-06-23T21:06:44.352Z"
   },
   {
    "duration": 41,
    "start_time": "2022-06-24T12:23:42.197Z"
   },
   {
    "duration": 442,
    "start_time": "2022-06-24T14:05:33.878Z"
   },
   {
    "duration": 34,
    "start_time": "2022-06-24T14:06:06.684Z"
   },
   {
    "duration": 8,
    "start_time": "2022-06-24T14:07:37.246Z"
   },
   {
    "duration": 7,
    "start_time": "2022-06-24T14:07:50.957Z"
   },
   {
    "duration": 4,
    "start_time": "2022-06-24T14:09:03.731Z"
   },
   {
    "duration": 4,
    "start_time": "2022-06-24T14:29:20.886Z"
   },
   {
    "duration": 452,
    "start_time": "2022-06-24T14:29:30.788Z"
   },
   {
    "duration": 16,
    "start_time": "2022-06-24T14:29:37.578Z"
   },
   {
    "duration": 29,
    "start_time": "2022-06-24T14:29:44.697Z"
   },
   {
    "duration": 3,
    "start_time": "2022-06-24T14:29:55.082Z"
   },
   {
    "duration": 5,
    "start_time": "2022-06-24T14:29:58.234Z"
   },
   {
    "duration": 10,
    "start_time": "2022-06-24T14:30:01.456Z"
   },
   {
    "duration": 23,
    "start_time": "2022-06-24T14:30:11.332Z"
   },
   {
    "duration": 4,
    "start_time": "2022-06-24T14:30:14.275Z"
   },
   {
    "duration": 23,
    "start_time": "2022-06-24T14:30:17.157Z"
   },
   {
    "duration": 18,
    "start_time": "2022-06-24T14:30:19.888Z"
   },
   {
    "duration": 22,
    "start_time": "2022-06-24T14:34:06.363Z"
   },
   {
    "duration": 7,
    "start_time": "2022-06-24T15:29:30.242Z"
   },
   {
    "duration": 63,
    "start_time": "2022-06-24T15:31:19.941Z"
   },
   {
    "duration": 55,
    "start_time": "2022-06-24T15:34:45.363Z"
   },
   {
    "duration": 2,
    "start_time": "2022-06-24T15:35:04.074Z"
   },
   {
    "duration": 172,
    "start_time": "2022-06-24T15:35:07.271Z"
   },
   {
    "duration": 10,
    "start_time": "2022-06-24T15:35:12.143Z"
   },
   {
    "duration": 27,
    "start_time": "2022-06-24T15:35:17.052Z"
   },
   {
    "duration": 3,
    "start_time": "2022-06-24T15:35:22.316Z"
   },
   {
    "duration": 4,
    "start_time": "2022-06-24T15:35:25.294Z"
   },
   {
    "duration": 7,
    "start_time": "2022-06-24T15:35:28.788Z"
   },
   {
    "duration": 4,
    "start_time": "2022-06-24T15:35:31.390Z"
   },
   {
    "duration": 22,
    "start_time": "2022-06-24T15:35:36.903Z"
   },
   {
    "duration": 15,
    "start_time": "2022-06-24T15:35:41.266Z"
   },
   {
    "duration": 24,
    "start_time": "2022-06-24T15:35:46.238Z"
   },
   {
    "duration": 58,
    "start_time": "2022-06-24T15:35:49.853Z"
   },
   {
    "duration": 15,
    "start_time": "2022-06-24T15:38:27.613Z"
   },
   {
    "duration": 21,
    "start_time": "2022-06-24T15:38:32.492Z"
   },
   {
    "duration": 56,
    "start_time": "2022-06-24T15:38:43.238Z"
   },
   {
    "duration": 54,
    "start_time": "2022-06-24T15:40:43.385Z"
   },
   {
    "duration": 56,
    "start_time": "2022-06-24T15:45:00.689Z"
   },
   {
    "duration": 55,
    "start_time": "2022-06-24T15:45:28.848Z"
   },
   {
    "duration": 3,
    "start_time": "2022-06-24T15:50:48.251Z"
   },
   {
    "duration": 158,
    "start_time": "2022-06-24T15:50:51.507Z"
   },
   {
    "duration": 11,
    "start_time": "2022-06-24T15:50:56.008Z"
   },
   {
    "duration": 25,
    "start_time": "2022-06-24T15:51:02.363Z"
   },
   {
    "duration": 2,
    "start_time": "2022-06-24T15:51:17.166Z"
   },
   {
    "duration": 4,
    "start_time": "2022-06-24T15:51:27.636Z"
   },
   {
    "duration": 6,
    "start_time": "2022-06-24T15:51:32.547Z"
   },
   {
    "duration": 4,
    "start_time": "2022-06-24T15:51:35.720Z"
   },
   {
    "duration": 22,
    "start_time": "2022-06-24T15:51:39.475Z"
   },
   {
    "duration": 18,
    "start_time": "2022-06-24T15:51:44.607Z"
   },
   {
    "duration": 28,
    "start_time": "2022-06-24T15:51:49.015Z"
   },
   {
    "duration": 60,
    "start_time": "2022-06-24T15:51:51.890Z"
   },
   {
    "duration": 21,
    "start_time": "2022-06-24T15:53:32.976Z"
   },
   {
    "duration": 21,
    "start_time": "2022-06-24T15:54:25.936Z"
   },
   {
    "duration": 57,
    "start_time": "2022-06-24T15:56:25.759Z"
   },
   {
    "duration": 69,
    "start_time": "2022-06-24T15:58:34.403Z"
   },
   {
    "duration": 55,
    "start_time": "2022-06-24T15:59:45.892Z"
   },
   {
    "duration": 8,
    "start_time": "2022-06-24T16:05:08.777Z"
   },
   {
    "duration": 7,
    "start_time": "2022-06-24T16:06:00.649Z"
   },
   {
    "duration": 9,
    "start_time": "2022-06-24T16:09:39.867Z"
   },
   {
    "duration": 32,
    "start_time": "2022-06-24T16:10:01.746Z"
   },
   {
    "duration": 34,
    "start_time": "2022-06-24T16:10:47.048Z"
   },
   {
    "duration": 1108,
    "start_time": "2022-06-24T16:12:15.683Z"
   },
   {
    "duration": 1201,
    "start_time": "2022-06-24T16:15:37.118Z"
   },
   {
    "duration": 1796,
    "start_time": "2022-06-24T16:20:41.386Z"
   },
   {
    "duration": 1129,
    "start_time": "2022-06-24T16:21:48.048Z"
   },
   {
    "duration": 981,
    "start_time": "2022-06-24T16:24:15.159Z"
   },
   {
    "duration": 1076,
    "start_time": "2022-06-24T16:24:21.855Z"
   },
   {
    "duration": 7403,
    "start_time": "2022-06-24T16:40:15.970Z"
   },
   {
    "duration": 7002,
    "start_time": "2022-06-24T16:40:23.837Z"
   },
   {
    "duration": 5,
    "start_time": "2022-06-24T16:43:23.261Z"
   },
   {
    "duration": 1069,
    "start_time": "2022-06-24T16:43:28.217Z"
   },
   {
    "duration": 997,
    "start_time": "2022-06-24T16:53:32.932Z"
   },
   {
    "duration": 4,
    "start_time": "2022-06-24T16:56:58.617Z"
   },
   {
    "duration": 7,
    "start_time": "2022-06-24T16:57:36.441Z"
   },
   {
    "duration": 5,
    "start_time": "2022-06-24T16:58:39.777Z"
   },
   {
    "duration": 3,
    "start_time": "2022-06-24T16:59:10.384Z"
   },
   {
    "duration": 5,
    "start_time": "2022-06-24T17:05:53.101Z"
   },
   {
    "duration": 4,
    "start_time": "2022-06-24T17:06:02.690Z"
   },
   {
    "duration": 1052,
    "start_time": "2022-06-24T17:06:10.581Z"
   },
   {
    "duration": 975,
    "start_time": "2022-06-24T17:08:36.047Z"
   },
   {
    "duration": 52,
    "start_time": "2022-06-27T11:47:09.706Z"
   },
   {
    "duration": 394,
    "start_time": "2022-06-27T11:47:14.988Z"
   },
   {
    "duration": 475,
    "start_time": "2022-06-27T11:47:17.210Z"
   },
   {
    "duration": 25,
    "start_time": "2022-06-27T11:47:19.812Z"
   },
   {
    "duration": 44,
    "start_time": "2022-06-27T11:47:23.189Z"
   },
   {
    "duration": 2,
    "start_time": "2022-06-27T11:47:26.345Z"
   },
   {
    "duration": 6,
    "start_time": "2022-06-27T11:47:28.959Z"
   },
   {
    "duration": 14,
    "start_time": "2022-06-27T11:47:31.917Z"
   },
   {
    "duration": 4,
    "start_time": "2022-06-27T11:47:36.997Z"
   },
   {
    "duration": 40,
    "start_time": "2022-06-27T11:47:39.837Z"
   },
   {
    "duration": 33,
    "start_time": "2022-06-27T11:47:45.962Z"
   },
   {
    "duration": 28,
    "start_time": "2022-06-27T11:47:48.680Z"
   },
   {
    "duration": 77,
    "start_time": "2022-06-27T11:47:51.576Z"
   },
   {
    "duration": 8,
    "start_time": "2022-06-27T11:47:54.008Z"
   },
   {
    "duration": 67,
    "start_time": "2022-06-27T11:47:58.227Z"
   },
   {
    "duration": 92,
    "start_time": "2022-06-27T11:49:25.098Z"
   },
   {
    "duration": 9,
    "start_time": "2022-06-27T11:50:51.670Z"
   },
   {
    "duration": 84,
    "start_time": "2022-06-27T11:50:55.669Z"
   },
   {
    "duration": 85,
    "start_time": "2022-06-27T11:51:31.334Z"
   },
   {
    "duration": 79,
    "start_time": "2022-06-27T11:51:35.497Z"
   },
   {
    "duration": 66,
    "start_time": "2022-06-27T11:51:43.065Z"
   },
   {
    "duration": 39,
    "start_time": "2022-06-27T11:51:46.614Z"
   },
   {
    "duration": 12,
    "start_time": "2022-06-27T11:51:58.678Z"
   },
   {
    "duration": 948,
    "start_time": "2022-06-27T11:52:06.911Z"
   },
   {
    "duration": 989,
    "start_time": "2022-06-27T11:55:10.037Z"
   },
   {
    "duration": 923,
    "start_time": "2022-06-27T11:55:12.498Z"
   },
   {
    "duration": 880,
    "start_time": "2022-06-27T11:56:30.388Z"
   },
   {
    "duration": 1050,
    "start_time": "2022-06-27T11:58:18.437Z"
   },
   {
    "duration": 960,
    "start_time": "2022-06-27T12:01:32.213Z"
   },
   {
    "duration": 876,
    "start_time": "2022-06-27T12:02:12.592Z"
   },
   {
    "duration": 1004,
    "start_time": "2022-06-27T12:05:13.375Z"
   },
   {
    "duration": 2,
    "start_time": "2022-06-27T12:05:36.621Z"
   },
   {
    "duration": 167,
    "start_time": "2022-06-27T12:05:38.638Z"
   },
   {
    "duration": 13,
    "start_time": "2022-06-27T12:05:41.117Z"
   },
   {
    "duration": 28,
    "start_time": "2022-06-27T12:05:43.931Z"
   },
   {
    "duration": 2,
    "start_time": "2022-06-27T12:05:48.230Z"
   },
   {
    "duration": 4,
    "start_time": "2022-06-27T12:05:51.282Z"
   },
   {
    "duration": 11,
    "start_time": "2022-06-27T12:05:54.134Z"
   },
   {
    "duration": 4,
    "start_time": "2022-06-27T12:05:55.760Z"
   },
   {
    "duration": 24,
    "start_time": "2022-06-27T12:05:58.175Z"
   },
   {
    "duration": 23,
    "start_time": "2022-06-27T12:06:00.589Z"
   },
   {
    "duration": 24,
    "start_time": "2022-06-27T12:06:03.723Z"
   },
   {
    "duration": 86,
    "start_time": "2022-06-27T12:06:06.690Z"
   },
   {
    "duration": 69,
    "start_time": "2022-06-27T12:06:09.288Z"
   },
   {
    "duration": 60,
    "start_time": "2022-06-27T12:06:10.960Z"
   },
   {
    "duration": 36,
    "start_time": "2022-06-27T12:06:13.061Z"
   },
   {
    "duration": 13,
    "start_time": "2022-06-27T12:06:16.920Z"
   },
   {
    "duration": 35,
    "start_time": "2022-06-27T12:06:22.808Z"
   },
   {
    "duration": 36,
    "start_time": "2022-06-27T12:11:21.154Z"
   },
   {
    "duration": 35,
    "start_time": "2022-06-27T12:37:32.702Z"
   },
   {
    "duration": 33,
    "start_time": "2022-06-27T12:38:30.874Z"
   },
   {
    "duration": 12,
    "start_time": "2022-06-27T12:40:30.372Z"
   },
   {
    "duration": 16,
    "start_time": "2022-06-27T12:45:07.137Z"
   },
   {
    "duration": 15,
    "start_time": "2022-06-27T12:45:16.882Z"
   },
   {
    "duration": 14,
    "start_time": "2022-06-27T12:45:52.999Z"
   },
   {
    "duration": 12,
    "start_time": "2022-06-27T12:46:35.693Z"
   },
   {
    "duration": 17,
    "start_time": "2022-06-27T12:46:47.834Z"
   },
   {
    "duration": 15,
    "start_time": "2022-06-27T12:46:49.878Z"
   },
   {
    "duration": 18,
    "start_time": "2022-06-27T12:50:46.935Z"
   },
   {
    "duration": 12,
    "start_time": "2022-06-27T12:53:26.924Z"
   },
   {
    "duration": 10,
    "start_time": "2022-06-27T12:55:43.672Z"
   },
   {
    "duration": 3,
    "start_time": "2022-06-27T12:55:50.710Z"
   },
   {
    "duration": 199,
    "start_time": "2022-06-27T12:55:52.414Z"
   },
   {
    "duration": 13,
    "start_time": "2022-06-27T12:55:54.865Z"
   },
   {
    "duration": 54,
    "start_time": "2022-06-27T12:55:57.332Z"
   },
   {
    "duration": 3,
    "start_time": "2022-06-27T12:56:01.451Z"
   },
   {
    "duration": 4,
    "start_time": "2022-06-27T12:56:05.508Z"
   },
   {
    "duration": 11,
    "start_time": "2022-06-27T12:56:07.726Z"
   },
   {
    "duration": 5,
    "start_time": "2022-06-27T12:56:09.174Z"
   },
   {
    "duration": 31,
    "start_time": "2022-06-27T12:56:12.031Z"
   },
   {
    "duration": 24,
    "start_time": "2022-06-27T12:56:15.566Z"
   },
   {
    "duration": 41,
    "start_time": "2022-06-27T12:56:17.582Z"
   },
   {
    "duration": 70,
    "start_time": "2022-06-27T12:56:19.384Z"
   },
   {
    "duration": 76,
    "start_time": "2022-06-27T12:56:21.386Z"
   },
   {
    "duration": 75,
    "start_time": "2022-06-27T12:56:22.711Z"
   },
   {
    "duration": 41,
    "start_time": "2022-06-27T12:56:25.831Z"
   },
   {
    "duration": 16,
    "start_time": "2022-06-27T12:56:27.852Z"
   },
   {
    "duration": 54,
    "start_time": "2022-06-27T12:56:29.688Z"
   },
   {
    "duration": 11,
    "start_time": "2022-06-27T12:56:34.521Z"
   },
   {
    "duration": 14,
    "start_time": "2022-06-27T12:56:36.984Z"
   },
   {
    "duration": 15,
    "start_time": "2022-06-27T12:58:44.289Z"
   },
   {
    "duration": 12,
    "start_time": "2022-06-27T12:58:49.502Z"
   },
   {
    "duration": 16,
    "start_time": "2022-06-27T12:59:47.267Z"
   },
   {
    "duration": 17,
    "start_time": "2022-06-27T13:00:00.799Z"
   },
   {
    "duration": 19,
    "start_time": "2022-06-27T13:00:31.338Z"
   },
   {
    "duration": 77,
    "start_time": "2022-06-27T13:40:01.834Z"
   },
   {
    "duration": 3,
    "start_time": "2022-06-27T13:44:40.450Z"
   },
   {
    "duration": 7,
    "start_time": "2022-06-27T13:53:41.786Z"
   },
   {
    "duration": 12,
    "start_time": "2022-06-27T13:56:03.629Z"
   },
   {
    "duration": 23,
    "start_time": "2022-06-27T13:56:14.138Z"
   },
   {
    "duration": 22,
    "start_time": "2022-06-27T13:56:16.724Z"
   },
   {
    "duration": 22,
    "start_time": "2022-06-27T13:56:19.482Z"
   },
   {
    "duration": 20,
    "start_time": "2022-06-27T13:56:22.700Z"
   },
   {
    "duration": 19,
    "start_time": "2022-06-27T13:56:23.381Z"
   },
   {
    "duration": 13,
    "start_time": "2022-06-27T13:56:24.119Z"
   },
   {
    "duration": 67,
    "start_time": "2022-06-27T13:59:28.609Z"
   },
   {
    "duration": 9,
    "start_time": "2022-06-27T13:59:30.241Z"
   },
   {
    "duration": 9,
    "start_time": "2022-06-27T13:59:34.264Z"
   },
   {
    "duration": 11,
    "start_time": "2022-06-27T14:00:05.667Z"
   },
   {
    "duration": 9,
    "start_time": "2022-06-27T14:00:19.566Z"
   },
   {
    "duration": 6,
    "start_time": "2022-06-27T14:00:36.107Z"
   },
   {
    "duration": 3,
    "start_time": "2022-06-27T14:00:52.906Z"
   },
   {
    "duration": 188,
    "start_time": "2022-06-27T14:00:54.786Z"
   },
   {
    "duration": 11,
    "start_time": "2022-06-27T14:00:56.540Z"
   },
   {
    "duration": 32,
    "start_time": "2022-06-27T14:00:58.568Z"
   },
   {
    "duration": 3,
    "start_time": "2022-06-27T14:01:05.336Z"
   },
   {
    "duration": 5,
    "start_time": "2022-06-27T14:01:08.368Z"
   },
   {
    "duration": 9,
    "start_time": "2022-06-27T14:01:11.309Z"
   },
   {
    "duration": 4,
    "start_time": "2022-06-27T14:01:13.034Z"
   },
   {
    "duration": 26,
    "start_time": "2022-06-27T14:01:15.461Z"
   },
   {
    "duration": 24,
    "start_time": "2022-06-27T14:01:19.380Z"
   },
   {
    "duration": 31,
    "start_time": "2022-06-27T14:01:21.054Z"
   },
   {
    "duration": 76,
    "start_time": "2022-06-27T14:01:22.766Z"
   },
   {
    "duration": 79,
    "start_time": "2022-06-27T14:01:25.306Z"
   },
   {
    "duration": 6,
    "start_time": "2022-06-27T14:01:27.633Z"
   },
   {
    "duration": 7,
    "start_time": "2022-06-27T14:01:32.185Z"
   },
   {
    "duration": 6,
    "start_time": "2022-06-27T14:01:34.548Z"
   },
   {
    "duration": 7,
    "start_time": "2022-06-27T14:01:45.221Z"
   },
   {
    "duration": 7,
    "start_time": "2022-06-27T14:01:48.633Z"
   },
   {
    "duration": 3,
    "start_time": "2022-06-27T14:01:54.810Z"
   },
   {
    "duration": 193,
    "start_time": "2022-06-27T14:01:56.634Z"
   },
   {
    "duration": 14,
    "start_time": "2022-06-27T14:01:58.330Z"
   },
   {
    "duration": 29,
    "start_time": "2022-06-27T14:02:00.026Z"
   },
   {
    "duration": 3,
    "start_time": "2022-06-27T14:02:02.401Z"
   },
   {
    "duration": 4,
    "start_time": "2022-06-27T14:02:05.233Z"
   },
   {
    "duration": 6,
    "start_time": "2022-06-27T14:02:07.333Z"
   },
   {
    "duration": 4,
    "start_time": "2022-06-27T14:02:09.092Z"
   },
   {
    "duration": 25,
    "start_time": "2022-06-27T14:02:11.266Z"
   },
   {
    "duration": 23,
    "start_time": "2022-06-27T14:02:14.437Z"
   },
   {
    "duration": 23,
    "start_time": "2022-06-27T14:02:16.548Z"
   },
   {
    "duration": 67,
    "start_time": "2022-06-27T14:02:18.107Z"
   },
   {
    "duration": 68,
    "start_time": "2022-06-27T14:02:20.226Z"
   },
   {
    "duration": 63,
    "start_time": "2022-06-27T14:02:22.250Z"
   },
   {
    "duration": 60,
    "start_time": "2022-06-27T14:02:25.230Z"
   },
   {
    "duration": 10,
    "start_time": "2022-06-27T14:02:26.985Z"
   },
   {
    "duration": 36,
    "start_time": "2022-06-27T14:02:41.547Z"
   },
   {
    "duration": 12,
    "start_time": "2022-06-27T14:02:45.040Z"
   },
   {
    "duration": 5,
    "start_time": "2022-06-27T14:02:47.854Z"
   },
   {
    "duration": 16,
    "start_time": "2022-06-27T14:02:49.548Z"
   },
   {
    "duration": 15,
    "start_time": "2022-06-27T14:02:53.675Z"
   },
   {
    "duration": 20,
    "start_time": "2022-06-27T14:02:56.797Z"
   },
   {
    "duration": 15,
    "start_time": "2022-06-27T14:02:57.586Z"
   },
   {
    "duration": 17,
    "start_time": "2022-06-27T14:02:58.326Z"
   },
   {
    "duration": 15,
    "start_time": "2022-06-27T14:02:58.945Z"
   },
   {
    "duration": 78,
    "start_time": "2022-06-27T14:22:38.801Z"
   },
   {
    "duration": 77,
    "start_time": "2022-06-27T14:22:41.635Z"
   },
   {
    "duration": 5,
    "start_time": "2022-06-27T14:25:47.316Z"
   },
   {
    "duration": 6,
    "start_time": "2022-06-27T14:25:51.353Z"
   },
   {
    "duration": 2,
    "start_time": "2022-06-27T14:26:36.257Z"
   },
   {
    "duration": 169,
    "start_time": "2022-06-27T14:26:37.648Z"
   },
   {
    "duration": 11,
    "start_time": "2022-06-27T14:26:38.711Z"
   },
   {
    "duration": 29,
    "start_time": "2022-06-27T14:26:40.637Z"
   },
   {
    "duration": 3,
    "start_time": "2022-06-27T14:26:42.950Z"
   },
   {
    "duration": 5,
    "start_time": "2022-06-27T14:26:45.754Z"
   },
   {
    "duration": 7,
    "start_time": "2022-06-27T14:26:47.433Z"
   },
   {
    "duration": 5,
    "start_time": "2022-06-27T14:26:48.558Z"
   },
   {
    "duration": 27,
    "start_time": "2022-06-27T14:26:50.775Z"
   },
   {
    "duration": 24,
    "start_time": "2022-06-27T14:26:55.161Z"
   },
   {
    "duration": 44,
    "start_time": "2022-06-27T14:26:57.598Z"
   },
   {
    "duration": 104,
    "start_time": "2022-06-27T14:26:59.209Z"
   },
   {
    "duration": 71,
    "start_time": "2022-06-27T14:27:01.600Z"
   },
   {
    "duration": 9,
    "start_time": "2022-06-27T14:27:03.105Z"
   },
   {
    "duration": 7,
    "start_time": "2022-06-27T14:27:05.337Z"
   },
   {
    "duration": 10,
    "start_time": "2022-06-27T14:27:07.837Z"
   },
   {
    "duration": 9,
    "start_time": "2022-06-27T14:27:13.836Z"
   },
   {
    "duration": 9,
    "start_time": "2022-06-27T14:27:28.337Z"
   },
   {
    "duration": 3,
    "start_time": "2022-06-27T14:27:35.244Z"
   },
   {
    "duration": 177,
    "start_time": "2022-06-27T14:27:36.113Z"
   },
   {
    "duration": 12,
    "start_time": "2022-06-27T14:27:37.848Z"
   },
   {
    "duration": 31,
    "start_time": "2022-06-27T14:27:38.976Z"
   },
   {
    "duration": 3,
    "start_time": "2022-06-27T14:27:40.960Z"
   },
   {
    "duration": 6,
    "start_time": "2022-06-27T14:27:43.391Z"
   },
   {
    "duration": 11,
    "start_time": "2022-06-27T14:27:45.076Z"
   },
   {
    "duration": 5,
    "start_time": "2022-06-27T14:27:46.088Z"
   },
   {
    "duration": 47,
    "start_time": "2022-06-27T14:27:48.066Z"
   },
   {
    "duration": 26,
    "start_time": "2022-06-27T14:27:51.144Z"
   },
   {
    "duration": 28,
    "start_time": "2022-06-27T14:27:52.690Z"
   },
   {
    "duration": 74,
    "start_time": "2022-06-27T14:27:53.845Z"
   },
   {
    "duration": 78,
    "start_time": "2022-06-27T14:27:55.449Z"
   },
   {
    "duration": 64,
    "start_time": "2022-06-27T14:27:56.650Z"
   },
   {
    "duration": 4,
    "start_time": "2022-06-27T14:28:13.777Z"
   },
   {
    "duration": 204,
    "start_time": "2022-06-27T14:28:14.816Z"
   },
   {
    "duration": 12,
    "start_time": "2022-06-27T14:28:16.472Z"
   },
   {
    "duration": 30,
    "start_time": "2022-06-27T14:28:18.618Z"
   },
   {
    "duration": 3,
    "start_time": "2022-06-27T14:28:20.765Z"
   },
   {
    "duration": 4,
    "start_time": "2022-06-27T14:28:23.433Z"
   },
   {
    "duration": 7,
    "start_time": "2022-06-27T14:28:25.297Z"
   },
   {
    "duration": 4,
    "start_time": "2022-06-27T14:28:26.578Z"
   },
   {
    "duration": 28,
    "start_time": "2022-06-27T14:28:28.223Z"
   },
   {
    "duration": 25,
    "start_time": "2022-06-27T14:28:30.800Z"
   },
   {
    "duration": 23,
    "start_time": "2022-06-27T14:28:32.224Z"
   },
   {
    "duration": 67,
    "start_time": "2022-06-27T14:28:33.810Z"
   },
   {
    "duration": 76,
    "start_time": "2022-06-27T14:28:35.592Z"
   },
   {
    "duration": 19,
    "start_time": "2022-06-27T14:28:36.688Z"
   },
   {
    "duration": 8,
    "start_time": "2022-06-27T14:28:44.295Z"
   },
   {
    "duration": 12,
    "start_time": "2022-06-27T14:28:56.927Z"
   },
   {
    "duration": 8,
    "start_time": "2022-06-27T14:28:59.976Z"
   },
   {
    "duration": 3,
    "start_time": "2022-06-27T14:29:53.553Z"
   },
   {
    "duration": 185,
    "start_time": "2022-06-27T14:29:56.276Z"
   },
   {
    "duration": 13,
    "start_time": "2022-06-27T14:30:29.859Z"
   },
   {
    "duration": 32,
    "start_time": "2022-06-27T14:30:36.362Z"
   },
   {
    "duration": 3,
    "start_time": "2022-06-27T14:31:14.327Z"
   },
   {
    "duration": 5,
    "start_time": "2022-06-27T14:31:24.866Z"
   },
   {
    "duration": 12,
    "start_time": "2022-06-27T14:31:42.201Z"
   },
   {
    "duration": 5,
    "start_time": "2022-06-27T14:31:54.635Z"
   },
   {
    "duration": 37,
    "start_time": "2022-06-27T14:32:36.804Z"
   },
   {
    "duration": 29,
    "start_time": "2022-06-27T14:33:17.014Z"
   },
   {
    "duration": 19,
    "start_time": "2022-06-27T14:33:20.380Z"
   },
   {
    "duration": 42,
    "start_time": "2022-06-27T14:33:39.619Z"
   },
   {
    "duration": 79,
    "start_time": "2022-06-27T14:33:59.160Z"
   },
   {
    "duration": 73,
    "start_time": "2022-06-27T14:34:13.838Z"
   },
   {
    "duration": 8,
    "start_time": "2022-06-27T14:34:23.238Z"
   },
   {
    "duration": 8,
    "start_time": "2022-06-27T14:34:44.492Z"
   },
   {
    "duration": 8,
    "start_time": "2022-06-27T14:35:17.184Z"
   },
   {
    "duration": 3,
    "start_time": "2022-06-27T14:35:41.343Z"
   },
   {
    "duration": 8,
    "start_time": "2022-06-27T14:35:44.613Z"
   },
   {
    "duration": 2,
    "start_time": "2022-06-27T14:35:48.398Z"
   },
   {
    "duration": 173,
    "start_time": "2022-06-27T14:35:49.571Z"
   },
   {
    "duration": 12,
    "start_time": "2022-06-27T14:35:51.318Z"
   },
   {
    "duration": 28,
    "start_time": "2022-06-27T14:35:53.020Z"
   },
   {
    "duration": 3,
    "start_time": "2022-06-27T14:35:54.772Z"
   },
   {
    "duration": 5,
    "start_time": "2022-06-27T14:35:57.174Z"
   },
   {
    "duration": 7,
    "start_time": "2022-06-27T14:35:59.350Z"
   },
   {
    "duration": 4,
    "start_time": "2022-06-27T14:36:00.670Z"
   },
   {
    "duration": 25,
    "start_time": "2022-06-27T14:36:02.677Z"
   },
   {
    "duration": 19,
    "start_time": "2022-06-27T14:36:05.737Z"
   },
   {
    "duration": 28,
    "start_time": "2022-06-27T14:36:07.292Z"
   },
   {
    "duration": 70,
    "start_time": "2022-06-27T14:36:09.721Z"
   },
   {
    "duration": 76,
    "start_time": "2022-06-27T14:36:11.303Z"
   },
   {
    "duration": 7,
    "start_time": "2022-06-27T14:36:12.641Z"
   },
   {
    "duration": 52,
    "start_time": "2022-06-27T17:10:53.249Z"
   },
   {
    "duration": 440,
    "start_time": "2022-06-27T17:11:00.727Z"
   },
   {
    "duration": 455,
    "start_time": "2022-06-27T17:11:02.515Z"
   },
   {
    "duration": 19,
    "start_time": "2022-06-27T17:11:04.694Z"
   },
   {
    "duration": 33,
    "start_time": "2022-06-27T17:11:09.828Z"
   },
   {
    "duration": 3,
    "start_time": "2022-06-27T17:11:13.217Z"
   },
   {
    "duration": 4,
    "start_time": "2022-06-27T17:11:16.038Z"
   },
   {
    "duration": 12,
    "start_time": "2022-06-27T17:11:18.698Z"
   },
   {
    "duration": 5,
    "start_time": "2022-06-27T17:11:21.659Z"
   },
   {
    "duration": 24,
    "start_time": "2022-06-27T17:11:24.732Z"
   },
   {
    "duration": 27,
    "start_time": "2022-06-27T17:11:27.383Z"
   },
   {
    "duration": 26,
    "start_time": "2022-06-27T17:11:29.553Z"
   },
   {
    "duration": 72,
    "start_time": "2022-06-27T17:11:31.324Z"
   },
   {
    "duration": 79,
    "start_time": "2022-06-27T17:11:32.870Z"
   },
   {
    "duration": 30,
    "start_time": "2022-06-27T17:11:35.061Z"
   },
   {
    "duration": 8,
    "start_time": "2022-06-27T17:11:42.008Z"
   },
   {
    "duration": 2,
    "start_time": "2022-06-27T17:11:50.793Z"
   },
   {
    "duration": 171,
    "start_time": "2022-06-27T17:11:52.251Z"
   },
   {
    "duration": 11,
    "start_time": "2022-06-27T17:11:53.895Z"
   },
   {
    "duration": 29,
    "start_time": "2022-06-27T17:11:55.558Z"
   },
   {
    "duration": 3,
    "start_time": "2022-06-27T17:11:58.381Z"
   },
   {
    "duration": 4,
    "start_time": "2022-06-27T17:12:00.852Z"
   },
   {
    "duration": 11,
    "start_time": "2022-06-27T17:12:02.873Z"
   },
   {
    "duration": 5,
    "start_time": "2022-06-27T17:12:04.634Z"
   },
   {
    "duration": 26,
    "start_time": "2022-06-27T17:12:07.404Z"
   },
   {
    "duration": 18,
    "start_time": "2022-06-27T17:12:10.096Z"
   },
   {
    "duration": 23,
    "start_time": "2022-06-27T17:12:11.681Z"
   },
   {
    "duration": 71,
    "start_time": "2022-06-27T17:12:14.067Z"
   },
   {
    "duration": 71,
    "start_time": "2022-06-27T17:12:15.544Z"
   },
   {
    "duration": 61,
    "start_time": "2022-06-27T17:12:18.339Z"
   },
   {
    "duration": 47,
    "start_time": "2022-06-27T17:12:21.294Z"
   },
   {
    "duration": 11,
    "start_time": "2022-06-27T17:12:23.178Z"
   },
   {
    "duration": 35,
    "start_time": "2022-06-27T17:12:25.654Z"
   },
   {
    "duration": 11,
    "start_time": "2022-06-27T17:12:30.124Z"
   },
   {
    "duration": 10,
    "start_time": "2022-06-27T17:12:33.015Z"
   },
   {
    "duration": 4,
    "start_time": "2022-06-27T17:12:36.640Z"
   },
   {
    "duration": 18,
    "start_time": "2022-06-27T17:12:40.418Z"
   },
   {
    "duration": 14,
    "start_time": "2022-06-27T17:12:43.256Z"
   },
   {
    "duration": 16,
    "start_time": "2022-06-27T17:12:44.603Z"
   },
   {
    "duration": 15,
    "start_time": "2022-06-27T17:12:45.681Z"
   },
   {
    "duration": 18,
    "start_time": "2022-06-27T17:12:47.104Z"
   },
   {
    "duration": 15,
    "start_time": "2022-06-27T17:12:50.443Z"
   },
   {
    "duration": 78,
    "start_time": "2022-06-27T17:25:00.384Z"
   },
   {
    "duration": 8,
    "start_time": "2022-06-27T17:25:05.557Z"
   },
   {
    "duration": 7,
    "start_time": "2022-06-27T17:26:38.084Z"
   },
   {
    "duration": 7,
    "start_time": "2022-06-27T17:26:51.038Z"
   },
   {
    "duration": 3,
    "start_time": "2022-06-27T17:28:39.302Z"
   },
   {
    "duration": 209,
    "start_time": "2022-06-27T17:28:41.469Z"
   },
   {
    "duration": 13,
    "start_time": "2022-06-27T17:28:43.730Z"
   },
   {
    "duration": 28,
    "start_time": "2022-06-27T17:29:06.086Z"
   },
   {
    "duration": 3,
    "start_time": "2022-06-27T17:29:08.612Z"
   },
   {
    "duration": 4,
    "start_time": "2022-06-27T17:29:11.281Z"
   },
   {
    "duration": 14,
    "start_time": "2022-06-27T17:29:13.312Z"
   },
   {
    "duration": 5,
    "start_time": "2022-06-27T17:29:15.060Z"
   },
   {
    "duration": 41,
    "start_time": "2022-06-27T17:29:17.490Z"
   },
   {
    "duration": 19,
    "start_time": "2022-06-27T17:29:19.800Z"
   },
   {
    "duration": 27,
    "start_time": "2022-06-27T17:29:21.251Z"
   },
   {
    "duration": 76,
    "start_time": "2022-06-27T17:29:23.182Z"
   },
   {
    "duration": 3,
    "start_time": "2022-06-27T17:29:24.922Z"
   },
   {
    "duration": 10,
    "start_time": "2022-06-27T17:29:26.669Z"
   },
   {
    "duration": 9,
    "start_time": "2022-06-27T17:29:41.753Z"
   },
   {
    "duration": 8,
    "start_time": "2022-06-27T17:31:31.410Z"
   },
   {
    "duration": 8,
    "start_time": "2022-06-27T17:31:35.937Z"
   },
   {
    "duration": 9,
    "start_time": "2022-06-27T17:31:38.095Z"
   },
   {
    "duration": 2,
    "start_time": "2022-06-27T17:37:54.312Z"
   },
   {
    "duration": 182,
    "start_time": "2022-06-27T17:37:55.838Z"
   },
   {
    "duration": 12,
    "start_time": "2022-06-27T17:38:00.074Z"
   },
   {
    "duration": 29,
    "start_time": "2022-06-27T17:38:03.267Z"
   },
   {
    "duration": 2,
    "start_time": "2022-06-27T17:38:11.033Z"
   },
   {
    "duration": 4,
    "start_time": "2022-06-27T17:39:28.530Z"
   },
   {
    "duration": 7,
    "start_time": "2022-06-27T17:39:53.006Z"
   },
   {
    "duration": 3,
    "start_time": "2022-06-27T17:40:18.533Z"
   },
   {
    "duration": 25,
    "start_time": "2022-06-27T17:40:48.780Z"
   },
   {
    "duration": 30,
    "start_time": "2022-06-27T17:41:24.048Z"
   },
   {
    "duration": 79,
    "start_time": "2022-06-27T17:42:15.397Z"
   },
   {
    "duration": 11,
    "start_time": "2022-06-27T17:43:18.085Z"
   },
   {
    "duration": 72,
    "start_time": "2022-06-27T17:43:28.413Z"
   },
   {
    "duration": 9,
    "start_time": "2022-06-27T17:43:32.283Z"
   },
   {
    "duration": 9,
    "start_time": "2022-06-27T17:43:40.167Z"
   },
   {
    "duration": 75,
    "start_time": "2022-06-27T17:43:43.498Z"
   },
   {
    "duration": 11,
    "start_time": "2022-06-27T17:43:45.419Z"
   },
   {
    "duration": 139,
    "start_time": "2022-06-27T17:44:55.373Z"
   },
   {
    "duration": 8,
    "start_time": "2022-06-27T17:45:20.725Z"
   },
   {
    "duration": 69,
    "start_time": "2022-06-27T17:45:56.589Z"
   },
   {
    "duration": 59,
    "start_time": "2022-06-27T17:48:19.178Z"
   },
   {
    "duration": 69,
    "start_time": "2022-06-27T17:48:24.500Z"
   },
   {
    "duration": 67,
    "start_time": "2022-06-27T17:48:33.139Z"
   },
   {
    "duration": 8,
    "start_time": "2022-06-27T17:48:39.756Z"
   },
   {
    "duration": 59,
    "start_time": "2022-06-27T17:49:09.993Z"
   },
   {
    "duration": 11,
    "start_time": "2022-06-27T17:49:33.458Z"
   },
   {
    "duration": 8,
    "start_time": "2022-06-27T17:49:52.833Z"
   },
   {
    "duration": 43,
    "start_time": "2022-06-27T17:50:05.376Z"
   },
   {
    "duration": 34,
    "start_time": "2022-06-27T17:50:18.660Z"
   },
   {
    "duration": 6,
    "start_time": "2022-06-27T17:50:40.012Z"
   },
   {
    "duration": 78,
    "start_time": "2022-06-27T17:50:54.525Z"
   },
   {
    "duration": 18,
    "start_time": "2022-06-27T17:51:03.874Z"
   },
   {
    "duration": 82,
    "start_time": "2022-06-27T17:51:14.400Z"
   },
   {
    "duration": 15,
    "start_time": "2022-06-27T17:51:24.221Z"
   },
   {
    "duration": 24,
    "start_time": "2022-06-27T17:51:37.633Z"
   },
   {
    "duration": 17,
    "start_time": "2022-06-27T17:51:46.376Z"
   },
   {
    "duration": 16,
    "start_time": "2022-06-27T17:51:56.554Z"
   },
   {
    "duration": 27,
    "start_time": "2022-06-27T17:52:32.118Z"
   },
   {
    "duration": 4,
    "start_time": "2022-06-27T17:56:57.200Z"
   },
   {
    "duration": 173,
    "start_time": "2022-06-27T17:56:58.970Z"
   },
   {
    "duration": 13,
    "start_time": "2022-06-27T17:57:00.917Z"
   },
   {
    "duration": 27,
    "start_time": "2022-06-27T17:57:03.151Z"
   },
   {
    "duration": 3,
    "start_time": "2022-06-27T17:57:05.442Z"
   },
   {
    "duration": 5,
    "start_time": "2022-06-27T17:57:07.992Z"
   },
   {
    "duration": 7,
    "start_time": "2022-06-27T17:57:10.028Z"
   },
   {
    "duration": 4,
    "start_time": "2022-06-27T17:57:11.400Z"
   },
   {
    "duration": 31,
    "start_time": "2022-06-27T17:57:13.573Z"
   },
   {
    "duration": 21,
    "start_time": "2022-06-27T17:57:16.146Z"
   },
   {
    "duration": 107,
    "start_time": "2022-06-27T17:57:17.451Z"
   },
   {
    "duration": 115,
    "start_time": "2022-06-27T17:57:22.272Z"
   },
   {
    "duration": 62,
    "start_time": "2022-06-27T17:57:23.859Z"
   },
   {
    "duration": 8,
    "start_time": "2022-06-27T17:57:25.797Z"
   },
   {
    "duration": 52,
    "start_time": "2022-06-27T17:57:30.243Z"
   },
   {
    "duration": 12,
    "start_time": "2022-06-27T17:57:31.744Z"
   },
   {
    "duration": 9,
    "start_time": "2022-06-27T17:57:33.129Z"
   },
   {
    "duration": 42,
    "start_time": "2022-06-27T17:57:36.905Z"
   },
   {
    "duration": 36,
    "start_time": "2022-06-27T17:57:39.240Z"
   },
   {
    "duration": 5,
    "start_time": "2022-06-27T17:57:42.452Z"
   },
   {
    "duration": 18,
    "start_time": "2022-06-27T17:57:45.118Z"
   },
   {
    "duration": 16,
    "start_time": "2022-06-27T17:57:46.939Z"
   },
   {
    "duration": 16,
    "start_time": "2022-06-27T17:57:47.822Z"
   },
   {
    "duration": 18,
    "start_time": "2022-06-27T17:57:48.628Z"
   },
   {
    "duration": 15,
    "start_time": "2022-06-27T17:57:49.675Z"
   },
   {
    "duration": 16,
    "start_time": "2022-06-27T17:57:51.653Z"
   },
   {
    "duration": 13,
    "start_time": "2022-06-27T18:00:02.589Z"
   },
   {
    "duration": 33,
    "start_time": "2022-06-27T18:00:11.373Z"
   },
   {
    "duration": 2,
    "start_time": "2022-06-27T18:00:21.633Z"
   },
   {
    "duration": 4,
    "start_time": "2022-06-27T18:00:39.497Z"
   },
   {
    "duration": 9,
    "start_time": "2022-06-27T18:00:55.973Z"
   },
   {
    "duration": 4,
    "start_time": "2022-06-27T18:01:17.790Z"
   },
   {
    "duration": 26,
    "start_time": "2022-06-27T18:01:34.315Z"
   },
   {
    "duration": 26,
    "start_time": "2022-06-27T18:02:26.940Z"
   },
   {
    "duration": 23,
    "start_time": "2022-06-27T18:03:14.506Z"
   },
   {
    "duration": 68,
    "start_time": "2022-06-27T18:03:58.483Z"
   },
   {
    "duration": 65,
    "start_time": "2022-06-27T18:05:06.392Z"
   },
   {
    "duration": 64,
    "start_time": "2022-06-27T18:05:44.586Z"
   },
   {
    "duration": 37,
    "start_time": "2022-06-27T18:06:59.881Z"
   },
   {
    "duration": 9,
    "start_time": "2022-06-27T18:08:39.115Z"
   },
   {
    "duration": 10,
    "start_time": "2022-06-27T18:08:59.290Z"
   },
   {
    "duration": 53,
    "start_time": "2022-06-27T18:09:51.140Z"
   },
   {
    "duration": 11,
    "start_time": "2022-06-27T18:10:40.048Z"
   },
   {
    "duration": 19,
    "start_time": "2022-06-27T18:11:04.810Z"
   },
   {
    "duration": 7,
    "start_time": "2022-06-27T18:12:52.644Z"
   },
   {
    "duration": 5,
    "start_time": "2022-06-27T18:13:56.048Z"
   },
   {
    "duration": 25,
    "start_time": "2022-06-27T18:14:18.399Z"
   },
   {
    "duration": 26,
    "start_time": "2022-06-27T18:14:19.454Z"
   },
   {
    "duration": 19,
    "start_time": "2022-06-27T18:14:20.494Z"
   },
   {
    "duration": 20,
    "start_time": "2022-06-27T18:14:21.272Z"
   },
   {
    "duration": 15,
    "start_time": "2022-06-27T18:14:21.893Z"
   },
   {
    "duration": 17,
    "start_time": "2022-06-27T18:14:22.509Z"
   },
   {
    "duration": 18,
    "start_time": "2022-06-27T18:16:26.907Z"
   },
   {
    "duration": 17,
    "start_time": "2022-06-27T18:16:31.363Z"
   },
   {
    "duration": 20,
    "start_time": "2022-06-27T18:16:32.074Z"
   },
   {
    "duration": 18,
    "start_time": "2022-06-27T18:16:32.586Z"
   },
   {
    "duration": 77,
    "start_time": "2022-06-27T18:16:35.643Z"
   },
   {
    "duration": 10,
    "start_time": "2022-06-27T18:16:56.222Z"
   },
   {
    "duration": 22,
    "start_time": "2022-06-27T18:17:04.876Z"
   },
   {
    "duration": 14,
    "start_time": "2022-06-27T18:17:07.773Z"
   },
   {
    "duration": 17,
    "start_time": "2022-06-27T18:17:08.713Z"
   },
   {
    "duration": 4,
    "start_time": "2022-06-27T18:21:44.309Z"
   },
   {
    "duration": 6,
    "start_time": "2022-06-27T18:21:46.606Z"
   },
   {
    "duration": 24,
    "start_time": "2022-06-27T18:21:49.639Z"
   },
   {
    "duration": 34,
    "start_time": "2022-06-27T18:21:54.151Z"
   },
   {
    "duration": 20,
    "start_time": "2022-06-27T18:21:55.427Z"
   },
   {
    "duration": 5,
    "start_time": "2022-06-27T18:23:56.966Z"
   },
   {
    "duration": 27,
    "start_time": "2022-06-27T18:24:03.579Z"
   },
   {
    "duration": 21,
    "start_time": "2022-06-27T18:24:05.961Z"
   },
   {
    "duration": 29,
    "start_time": "2022-06-27T18:24:07.394Z"
   },
   {
    "duration": 37,
    "start_time": "2022-06-27T18:24:08.055Z"
   },
   {
    "duration": 22,
    "start_time": "2022-06-27T18:24:08.546Z"
   },
   {
    "duration": 21,
    "start_time": "2022-06-27T18:24:08.905Z"
   },
   {
    "duration": 2,
    "start_time": "2022-06-27T18:24:20.219Z"
   },
   {
    "duration": 186,
    "start_time": "2022-06-27T18:24:23.358Z"
   },
   {
    "duration": 13,
    "start_time": "2022-06-27T18:24:25.645Z"
   },
   {
    "duration": 34,
    "start_time": "2022-06-27T18:24:28.017Z"
   },
   {
    "duration": 6,
    "start_time": "2022-06-27T18:24:31.259Z"
   },
   {
    "duration": 5,
    "start_time": "2022-06-27T18:24:34.116Z"
   },
   {
    "duration": 6,
    "start_time": "2022-06-27T18:24:35.723Z"
   },
   {
    "duration": 5,
    "start_time": "2022-06-27T18:24:37.110Z"
   },
   {
    "duration": 3,
    "start_time": "2022-06-27T18:24:38.432Z"
   },
   {
    "duration": 37,
    "start_time": "2022-06-27T18:24:39.139Z"
   },
   {
    "duration": 29,
    "start_time": "2022-06-27T18:24:42.238Z"
   },
   {
    "duration": 31,
    "start_time": "2022-06-27T18:24:43.581Z"
   },
   {
    "duration": 86,
    "start_time": "2022-06-27T18:24:44.945Z"
   },
   {
    "duration": 87,
    "start_time": "2022-06-27T18:24:49.803Z"
   },
   {
    "duration": 117,
    "start_time": "2022-06-27T18:24:55.859Z"
   },
   {
    "duration": 114,
    "start_time": "2022-06-27T18:24:57.970Z"
   },
   {
    "duration": 80,
    "start_time": "2022-06-27T18:25:01.284Z"
   },
   {
    "duration": 17,
    "start_time": "2022-06-27T18:25:03.560Z"
   },
   {
    "duration": 68,
    "start_time": "2022-06-27T18:25:05.105Z"
   },
   {
    "duration": 12,
    "start_time": "2022-06-27T18:25:09.617Z"
   },
   {
    "duration": 11,
    "start_time": "2022-06-27T18:25:11.289Z"
   },
   {
    "duration": 4,
    "start_time": "2022-06-27T18:25:13.333Z"
   },
   {
    "duration": 24,
    "start_time": "2022-06-27T18:25:14.794Z"
   },
   {
    "duration": 31,
    "start_time": "2022-06-27T18:25:15.364Z"
   },
   {
    "duration": 38,
    "start_time": "2022-06-27T18:25:15.844Z"
   },
   {
    "duration": 31,
    "start_time": "2022-06-27T18:25:16.339Z"
   },
   {
    "duration": 29,
    "start_time": "2022-06-27T18:25:16.984Z"
   },
   {
    "duration": 20,
    "start_time": "2022-06-27T18:25:17.505Z"
   },
   {
    "duration": 4,
    "start_time": "2022-06-27T18:25:34.533Z"
   },
   {
    "duration": 18,
    "start_time": "2022-06-27T18:25:36.518Z"
   },
   {
    "duration": 24,
    "start_time": "2022-06-27T18:25:37.312Z"
   },
   {
    "duration": 27,
    "start_time": "2022-06-27T18:25:37.944Z"
   },
   {
    "duration": 24,
    "start_time": "2022-06-27T18:25:38.449Z"
   },
   {
    "duration": 17,
    "start_time": "2022-06-27T18:25:38.919Z"
   },
   {
    "duration": 18,
    "start_time": "2022-06-27T18:25:39.417Z"
   },
   {
    "duration": 538,
    "start_time": "2022-06-27T20:16:10.880Z"
   },
   {
    "duration": 879,
    "start_time": "2022-06-27T20:16:12.675Z"
   },
   {
    "duration": 58,
    "start_time": "2022-06-27T20:16:14.509Z"
   },
   {
    "duration": 58,
    "start_time": "2022-06-27T20:16:25.145Z"
   },
   {
    "duration": 6,
    "start_time": "2022-06-27T20:16:27.699Z"
   },
   {
    "duration": 31,
    "start_time": "2022-06-27T20:16:30.415Z"
   },
   {
    "duration": 41,
    "start_time": "2022-06-27T20:16:32.941Z"
   },
   {
    "duration": 10,
    "start_time": "2022-06-27T20:16:34.432Z"
   },
   {
    "duration": 3,
    "start_time": "2022-06-27T20:16:36.732Z"
   },
   {
    "duration": 78,
    "start_time": "2022-06-27T20:16:37.696Z"
   },
   {
    "duration": 43,
    "start_time": "2022-06-27T20:16:41.400Z"
   },
   {
    "duration": 123,
    "start_time": "2022-06-27T20:16:43.643Z"
   },
   {
    "duration": 143,
    "start_time": "2022-06-27T20:16:46.415Z"
   },
   {
    "duration": 218,
    "start_time": "2022-06-27T20:16:50.393Z"
   },
   {
    "duration": 204,
    "start_time": "2022-06-27T20:16:51.871Z"
   },
   {
    "duration": 148,
    "start_time": "2022-06-27T20:16:55.508Z"
   },
   {
    "duration": 47,
    "start_time": "2022-06-27T20:16:57.330Z"
   },
   {
    "duration": 143,
    "start_time": "2022-06-27T20:16:58.771Z"
   },
   {
    "duration": 34,
    "start_time": "2022-06-27T20:17:02.984Z"
   },
   {
    "duration": 30,
    "start_time": "2022-06-27T20:17:05.487Z"
   },
   {
    "duration": 18,
    "start_time": "2022-06-27T20:17:07.996Z"
   },
   {
    "duration": 41,
    "start_time": "2022-06-27T20:17:10.104Z"
   },
   {
    "duration": 33,
    "start_time": "2022-06-27T20:17:10.990Z"
   },
   {
    "duration": 50,
    "start_time": "2022-06-27T20:17:11.649Z"
   },
   {
    "duration": 39,
    "start_time": "2022-06-27T20:17:12.387Z"
   },
   {
    "duration": 30,
    "start_time": "2022-06-27T20:17:12.999Z"
   },
   {
    "duration": 44,
    "start_time": "2022-06-27T20:17:13.590Z"
   },
   {
    "duration": 23,
    "start_time": "2022-06-27T20:18:31.511Z"
   },
   {
    "duration": 32,
    "start_time": "2022-06-27T20:18:39.362Z"
   },
   {
    "duration": 21,
    "start_time": "2022-06-27T20:18:40.424Z"
   },
   {
    "duration": 24,
    "start_time": "2022-06-27T20:18:41.003Z"
   },
   {
    "duration": 27,
    "start_time": "2022-06-27T20:18:41.589Z"
   },
   {
    "duration": 32,
    "start_time": "2022-06-27T20:18:42.171Z"
   },
   {
    "duration": 37,
    "start_time": "2022-06-27T20:18:43.196Z"
   },
   {
    "duration": 5,
    "start_time": "2022-06-27T20:20:15.516Z"
   },
   {
    "duration": 28,
    "start_time": "2022-06-27T20:20:18.924Z"
   },
   {
    "duration": 35,
    "start_time": "2022-06-27T20:20:19.480Z"
   },
   {
    "duration": 33,
    "start_time": "2022-06-27T20:20:19.976Z"
   },
   {
    "duration": 41,
    "start_time": "2022-06-27T20:20:20.479Z"
   },
   {
    "duration": 25,
    "start_time": "2022-06-27T20:20:21.254Z"
   },
   {
    "duration": 31,
    "start_time": "2022-06-27T20:20:22.472Z"
   },
   {
    "duration": 35,
    "start_time": "2022-06-27T20:30:44.504Z"
   },
   {
    "duration": 45,
    "start_time": "2022-06-27T20:30:47.557Z"
   },
   {
    "duration": 63,
    "start_time": "2022-06-27T20:30:48.492Z"
   },
   {
    "duration": 87,
    "start_time": "2022-06-27T20:30:49.611Z"
   },
   {
    "duration": 91,
    "start_time": "2022-06-27T20:30:50.925Z"
   },
   {
    "duration": 105,
    "start_time": "2022-06-27T20:30:51.929Z"
   },
   {
    "duration": 86,
    "start_time": "2022-06-27T20:30:53.934Z"
   },
   {
    "duration": 32,
    "start_time": "2022-06-27T20:30:55.261Z"
   },
   {
    "duration": 96,
    "start_time": "2022-06-27T20:30:56.327Z"
   },
   {
    "duration": 30,
    "start_time": "2022-06-27T20:30:59.319Z"
   },
   {
    "duration": 39,
    "start_time": "2022-06-27T20:31:01.575Z"
   },
   {
    "duration": 10,
    "start_time": "2022-06-27T20:31:04.234Z"
   },
   {
    "duration": 37,
    "start_time": "2022-06-27T20:31:05.710Z"
   },
   {
    "duration": 39,
    "start_time": "2022-06-27T20:31:06.248Z"
   },
   {
    "duration": 63,
    "start_time": "2022-06-27T20:31:07.174Z"
   },
   {
    "duration": 49,
    "start_time": "2022-06-27T20:31:08.000Z"
   },
   {
    "duration": 33,
    "start_time": "2022-06-27T20:31:08.527Z"
   },
   {
    "duration": 39,
    "start_time": "2022-06-27T20:31:09.104Z"
   },
   {
    "duration": 10,
    "start_time": "2022-06-27T20:37:14.783Z"
   },
   {
    "duration": 250,
    "start_time": "2022-06-27T20:37:16.924Z"
   },
   {
    "duration": 25,
    "start_time": "2022-06-27T20:37:19.881Z"
   },
   {
    "duration": 61,
    "start_time": "2022-06-27T20:37:23.420Z"
   },
   {
    "duration": 3,
    "start_time": "2022-06-27T20:37:26.621Z"
   },
   {
    "duration": 10,
    "start_time": "2022-06-27T20:37:30.840Z"
   },
   {
    "duration": 13,
    "start_time": "2022-06-27T20:37:34.607Z"
   },
   {
    "duration": 5,
    "start_time": "2022-06-27T20:37:37.740Z"
   },
   {
    "duration": 46,
    "start_time": "2022-06-27T20:37:48.099Z"
   },
   {
    "duration": 47,
    "start_time": "2022-06-27T20:37:53.187Z"
   },
   {
    "duration": 45,
    "start_time": "2022-06-27T20:37:56.395Z"
   },
   {
    "duration": 68,
    "start_time": "2022-06-27T20:38:52.719Z"
   },
   {
    "duration": 84,
    "start_time": "2022-06-27T20:38:54.228Z"
   },
   {
    "duration": 134,
    "start_time": "2022-06-27T20:38:56.033Z"
   },
   {
    "duration": 127,
    "start_time": "2022-06-27T20:39:08.550Z"
   },
   {
    "duration": 137,
    "start_time": "2022-06-27T20:39:10.114Z"
   },
   {
    "duration": 89,
    "start_time": "2022-06-27T20:39:12.598Z"
   },
   {
    "duration": 44,
    "start_time": "2022-06-27T20:39:14.970Z"
   },
   {
    "duration": 88,
    "start_time": "2022-06-27T20:39:17.184Z"
   },
   {
    "duration": 28,
    "start_time": "2022-06-27T20:39:21.601Z"
   },
   {
    "duration": 47,
    "start_time": "2022-06-27T20:39:23.585Z"
   },
   {
    "duration": 15,
    "start_time": "2022-06-27T20:39:26.651Z"
   },
   {
    "duration": 55,
    "start_time": "2022-06-27T20:39:28.254Z"
   },
   {
    "duration": 43,
    "start_time": "2022-06-27T20:39:28.993Z"
   },
   {
    "duration": 77,
    "start_time": "2022-06-27T20:39:29.792Z"
   },
   {
    "duration": 79,
    "start_time": "2022-06-27T20:39:30.703Z"
   },
   {
    "duration": 79,
    "start_time": "2022-06-27T20:39:31.623Z"
   },
   {
    "duration": 126,
    "start_time": "2022-06-27T20:39:32.700Z"
   },
   {
    "duration": 56,
    "start_time": "2022-06-27T20:41:03.157Z"
   },
   {
    "duration": 46,
    "start_time": "2022-06-27T20:41:15.699Z"
   },
   {
    "duration": 47,
    "start_time": "2022-06-27T20:41:17.252Z"
   },
   {
    "duration": 75,
    "start_time": "2022-06-27T20:41:17.954Z"
   },
   {
    "duration": 123,
    "start_time": "2022-06-27T20:41:18.720Z"
   },
   {
    "duration": 122,
    "start_time": "2022-06-27T20:41:19.451Z"
   },
   {
    "duration": 92,
    "start_time": "2022-06-27T20:41:20.210Z"
   },
   {
    "duration": 83,
    "start_time": "2022-06-27T20:41:21.295Z"
   },
   {
    "duration": 18,
    "start_time": "2022-06-27T20:41:22.082Z"
   },
   {
    "duration": 78,
    "start_time": "2022-06-27T20:41:22.758Z"
   },
   {
    "duration": 34,
    "start_time": "2022-06-27T20:41:25.060Z"
   },
   {
    "duration": 12,
    "start_time": "2022-06-27T20:41:25.736Z"
   },
   {
    "duration": 7,
    "start_time": "2022-06-27T20:41:27.007Z"
   },
   {
    "duration": 70,
    "start_time": "2022-06-27T20:41:28.114Z"
   },
   {
    "duration": 60,
    "start_time": "2022-06-27T20:41:28.314Z"
   },
   {
    "duration": 57,
    "start_time": "2022-06-27T20:41:28.937Z"
   },
   {
    "duration": 92,
    "start_time": "2022-06-27T20:41:29.942Z"
   },
   {
    "duration": 76,
    "start_time": "2022-06-27T20:41:30.484Z"
   },
   {
    "duration": 55,
    "start_time": "2022-06-27T20:41:31.219Z"
   },
   {
    "duration": 7,
    "start_time": "2022-06-27T20:42:21.163Z"
   },
   {
    "duration": 385,
    "start_time": "2022-06-27T20:42:22.065Z"
   },
   {
    "duration": 73,
    "start_time": "2022-06-27T20:42:22.610Z"
   },
   {
    "duration": 120,
    "start_time": "2022-06-27T20:42:23.139Z"
   },
   {
    "duration": 8,
    "start_time": "2022-06-27T20:42:23.938Z"
   },
   {
    "duration": 15,
    "start_time": "2022-06-27T20:42:24.925Z"
   },
   {
    "duration": 27,
    "start_time": "2022-06-27T20:42:25.370Z"
   },
   {
    "duration": 15,
    "start_time": "2022-06-27T20:42:25.824Z"
   },
   {
    "duration": 100,
    "start_time": "2022-06-27T20:42:26.274Z"
   },
   {
    "duration": 39,
    "start_time": "2022-06-27T20:42:27.104Z"
   },
   {
    "duration": 105,
    "start_time": "2022-06-27T20:42:27.614Z"
   },
   {
    "duration": 161,
    "start_time": "2022-06-27T20:42:28.325Z"
   },
   {
    "duration": 258,
    "start_time": "2022-06-27T20:42:30.144Z"
   },
   {
    "duration": 100,
    "start_time": "2022-06-27T20:42:31.108Z"
   },
   {
    "duration": 118,
    "start_time": "2022-06-27T20:42:34.667Z"
   },
   {
    "duration": 38,
    "start_time": "2022-06-27T20:42:35.880Z"
   },
   {
    "duration": 123,
    "start_time": "2022-06-27T20:42:37.479Z"
   },
   {
    "duration": 32,
    "start_time": "2022-06-27T20:42:40.727Z"
   },
   {
    "duration": 39,
    "start_time": "2022-06-27T20:42:41.983Z"
   },
   {
    "duration": 18,
    "start_time": "2022-06-27T20:42:43.741Z"
   },
   {
    "duration": 46,
    "start_time": "2022-06-27T20:42:45.033Z"
   },
   {
    "duration": 47,
    "start_time": "2022-06-27T20:42:45.511Z"
   },
   {
    "duration": 45,
    "start_time": "2022-06-27T20:42:45.953Z"
   },
   {
    "duration": 43,
    "start_time": "2022-06-27T20:42:46.383Z"
   },
   {
    "duration": 47,
    "start_time": "2022-06-27T20:42:46.824Z"
   },
   {
    "duration": 50,
    "start_time": "2022-06-27T20:42:47.664Z"
   },
   {
    "duration": 72,
    "start_time": "2022-06-27T20:46:08.500Z"
   },
   {
    "duration": 86,
    "start_time": "2022-06-27T20:46:16.403Z"
   },
   {
    "duration": 72,
    "start_time": "2022-06-27T20:46:23.984Z"
   },
   {
    "duration": 64,
    "start_time": "2022-06-27T20:46:25.509Z"
   },
   {
    "duration": 66,
    "start_time": "2022-06-27T20:46:27.056Z"
   },
   {
    "duration": 20,
    "start_time": "2022-06-27T20:46:28.146Z"
   },
   {
    "duration": 71,
    "start_time": "2022-06-27T20:46:29.030Z"
   },
   {
    "duration": 14,
    "start_time": "2022-06-27T20:46:31.500Z"
   },
   {
    "duration": 11,
    "start_time": "2022-06-27T20:46:32.505Z"
   },
   {
    "duration": 4,
    "start_time": "2022-06-27T20:46:33.834Z"
   },
   {
    "duration": 28,
    "start_time": "2022-06-27T20:46:34.720Z"
   },
   {
    "duration": 19,
    "start_time": "2022-06-27T20:46:35.212Z"
   },
   {
    "duration": 20,
    "start_time": "2022-06-27T20:46:35.821Z"
   },
   {
    "duration": 27,
    "start_time": "2022-06-27T20:46:36.303Z"
   },
   {
    "duration": 17,
    "start_time": "2022-06-27T20:46:36.741Z"
   },
   {
    "duration": 37,
    "start_time": "2022-06-27T20:46:37.242Z"
   },
   {
    "duration": 25,
    "start_time": "2022-06-27T20:47:22.104Z"
   },
   {
    "duration": 55,
    "start_time": "2022-06-27T20:49:22.092Z"
   },
   {
    "duration": 98,
    "start_time": "2022-06-27T20:50:04.532Z"
   },
   {
    "duration": 109,
    "start_time": "2022-06-27T20:50:29.949Z"
   },
   {
    "duration": 91,
    "start_time": "2022-06-27T20:50:41.423Z"
   },
   {
    "duration": 7,
    "start_time": "2022-06-27T20:51:17.643Z"
   },
   {
    "duration": 321,
    "start_time": "2022-06-27T20:51:18.603Z"
   },
   {
    "duration": 28,
    "start_time": "2022-06-27T20:51:19.804Z"
   },
   {
    "duration": 56,
    "start_time": "2022-06-27T20:51:21.451Z"
   },
   {
    "duration": 20,
    "start_time": "2022-06-27T20:51:23.854Z"
   },
   {
    "duration": 9,
    "start_time": "2022-06-27T20:51:26.287Z"
   },
   {
    "duration": 17,
    "start_time": "2022-06-27T20:51:28.277Z"
   },
   {
    "duration": 5,
    "start_time": "2022-06-27T20:51:29.677Z"
   },
   {
    "duration": 34,
    "start_time": "2022-06-27T20:51:31.105Z"
   },
   {
    "duration": 27,
    "start_time": "2022-06-27T20:51:34.323Z"
   },
   {
    "duration": 43,
    "start_time": "2022-06-27T20:51:35.714Z"
   },
   {
    "duration": 120,
    "start_time": "2022-06-27T20:51:37.261Z"
   },
   {
    "duration": 113,
    "start_time": "2022-06-27T20:51:39.031Z"
   },
   {
    "duration": 105,
    "start_time": "2022-06-27T20:51:40.505Z"
   },
   {
    "duration": 103,
    "start_time": "2022-06-27T20:51:43.233Z"
   },
   {
    "duration": 21,
    "start_time": "2022-06-27T20:51:53.023Z"
   },
   {
    "duration": 163,
    "start_time": "2022-06-27T20:51:53.047Z"
   },
   {
    "duration": 25,
    "start_time": "2022-06-27T20:51:58.989Z"
   },
   {
    "duration": 28,
    "start_time": "2022-06-27T20:52:01.001Z"
   },
   {
    "duration": 11,
    "start_time": "2022-06-27T20:52:03.053Z"
   },
   {
    "duration": 63,
    "start_time": "2022-06-27T20:52:04.911Z"
   },
   {
    "duration": 32,
    "start_time": "2022-06-27T20:52:05.910Z"
   },
   {
    "duration": 42,
    "start_time": "2022-06-27T20:52:06.887Z"
   },
   {
    "duration": 43,
    "start_time": "2022-06-27T20:52:07.509Z"
   },
   {
    "duration": 58,
    "start_time": "2022-06-27T20:52:08.272Z"
   },
   {
    "duration": 46,
    "start_time": "2022-06-27T20:52:09.264Z"
   },
   {
    "duration": 355,
    "start_time": "2022-06-28T06:56:33.005Z"
   },
   {
    "duration": 260,
    "start_time": "2022-06-28T06:56:35.172Z"
   },
   {
    "duration": 17,
    "start_time": "2022-06-28T06:56:37.521Z"
   },
   {
    "duration": 28,
    "start_time": "2022-06-28T06:56:39.216Z"
   },
   {
    "duration": 3,
    "start_time": "2022-06-28T06:56:41.372Z"
   },
   {
    "duration": 4,
    "start_time": "2022-06-28T06:56:44.500Z"
   },
   {
    "duration": 12,
    "start_time": "2022-06-28T06:56:46.226Z"
   },
   {
    "duration": 4,
    "start_time": "2022-06-28T06:56:47.796Z"
   },
   {
    "duration": 23,
    "start_time": "2022-06-28T06:56:49.785Z"
   },
   {
    "duration": 18,
    "start_time": "2022-06-28T06:56:52.055Z"
   },
   {
    "duration": 22,
    "start_time": "2022-06-28T06:56:53.531Z"
   },
   {
    "duration": 80,
    "start_time": "2022-06-28T06:56:55.257Z"
   },
   {
    "duration": 68,
    "start_time": "2022-06-28T06:56:57.628Z"
   },
   {
    "duration": 59,
    "start_time": "2022-06-28T06:56:59.996Z"
   },
   {
    "duration": 34,
    "start_time": "2022-06-28T06:57:02.422Z"
   },
   {
    "duration": 11,
    "start_time": "2022-06-28T06:57:04.421Z"
   },
   {
    "duration": 36,
    "start_time": "2022-06-28T06:57:06.228Z"
   },
   {
    "duration": 11,
    "start_time": "2022-06-28T06:57:10.163Z"
   },
   {
    "duration": 9,
    "start_time": "2022-06-28T06:57:11.914Z"
   },
   {
    "duration": 3,
    "start_time": "2022-06-28T06:57:14.415Z"
   },
   {
    "duration": 17,
    "start_time": "2022-06-28T06:57:16.102Z"
   },
   {
    "duration": 15,
    "start_time": "2022-06-28T06:57:20.475Z"
   },
   {
    "duration": 15,
    "start_time": "2022-06-28T06:57:21.644Z"
   },
   {
    "duration": 15,
    "start_time": "2022-06-28T06:57:22.292Z"
   },
   {
    "duration": 17,
    "start_time": "2022-06-28T06:57:22.920Z"
   },
   {
    "duration": 15,
    "start_time": "2022-06-28T06:57:23.726Z"
   },
   {
    "duration": 6,
    "start_time": "2022-06-28T06:57:27.948Z"
   },
   {
    "duration": 6,
    "start_time": "2022-06-28T06:57:31.805Z"
   },
   {
    "duration": 4,
    "start_time": "2022-06-28T06:57:32.709Z"
   },
   {
    "duration": 55,
    "start_time": "2022-06-28T19:17:22.925Z"
   },
   {
    "duration": 431,
    "start_time": "2022-06-28T19:17:32.335Z"
   },
   {
    "duration": 223,
    "start_time": "2022-06-28T19:17:33.593Z"
   },
   {
    "duration": 17,
    "start_time": "2022-06-28T19:17:35.365Z"
   },
   {
    "duration": 28,
    "start_time": "2022-06-28T19:17:36.931Z"
   },
   {
    "duration": 2,
    "start_time": "2022-06-28T19:17:38.864Z"
   },
   {
    "duration": 4,
    "start_time": "2022-06-28T19:17:42.672Z"
   },
   {
    "duration": 10,
    "start_time": "2022-06-28T19:17:44.925Z"
   },
   {
    "duration": 5,
    "start_time": "2022-06-28T19:17:47.008Z"
   },
   {
    "duration": 33,
    "start_time": "2022-06-28T19:17:51.774Z"
   },
   {
    "duration": 18,
    "start_time": "2022-06-28T19:18:00.631Z"
   },
   {
    "duration": 32,
    "start_time": "2022-06-28T19:18:03.765Z"
   },
   {
    "duration": 60,
    "start_time": "2022-06-28T19:18:06.478Z"
   },
   {
    "duration": 66,
    "start_time": "2022-06-28T19:18:10.314Z"
   },
   {
    "duration": 58,
    "start_time": "2022-06-28T19:18:12.196Z"
   },
   {
    "duration": 45,
    "start_time": "2022-06-28T19:18:14.685Z"
   },
   {
    "duration": 11,
    "start_time": "2022-06-28T19:18:16.898Z"
   },
   {
    "duration": 40,
    "start_time": "2022-06-28T19:18:27.232Z"
   },
   {
    "duration": 10,
    "start_time": "2022-06-28T19:18:38.216Z"
   },
   {
    "duration": 42,
    "start_time": "2022-06-28T19:18:48.461Z"
   },
   {
    "duration": 15,
    "start_time": "2022-06-28T19:18:53.069Z"
   },
   {
    "duration": 17,
    "start_time": "2022-06-28T19:18:55.264Z"
   },
   {
    "duration": 5,
    "start_time": "2022-06-28T19:18:58.108Z"
   },
   {
    "duration": 17,
    "start_time": "2022-06-28T19:19:01.052Z"
   },
   {
    "duration": 17,
    "start_time": "2022-06-28T19:19:01.837Z"
   },
   {
    "duration": 16,
    "start_time": "2022-06-28T19:19:02.377Z"
   },
   {
    "duration": 18,
    "start_time": "2022-06-28T19:19:02.912Z"
   },
   {
    "duration": 22,
    "start_time": "2022-06-28T19:19:03.673Z"
   },
   {
    "duration": 15,
    "start_time": "2022-06-28T19:19:04.358Z"
   },
   {
    "duration": 7,
    "start_time": "2022-06-28T19:19:07.880Z"
   },
   {
    "duration": 4,
    "start_time": "2022-06-28T19:19:12.822Z"
   },
   {
    "duration": 4,
    "start_time": "2022-06-28T19:19:14.462Z"
   },
   {
    "duration": 2,
    "start_time": "2022-06-28T19:29:34.901Z"
   },
   {
    "duration": 152,
    "start_time": "2022-06-28T19:29:37.965Z"
   },
   {
    "duration": 12,
    "start_time": "2022-06-28T19:29:39.802Z"
   },
   {
    "duration": 48,
    "start_time": "2022-06-28T19:34:07.370Z"
   },
   {
    "duration": 3,
    "start_time": "2022-06-28T19:34:40.420Z"
   },
   {
    "duration": 5,
    "start_time": "2022-06-28T19:34:46.515Z"
   },
   {
    "duration": 12,
    "start_time": "2022-06-28T19:34:53.515Z"
   },
   {
    "duration": 5,
    "start_time": "2022-06-28T19:34:55.431Z"
   },
   {
    "duration": 37,
    "start_time": "2022-06-28T19:34:58.323Z"
   },
   {
    "duration": 19,
    "start_time": "2022-06-28T19:35:00.382Z"
   },
   {
    "duration": 37,
    "start_time": "2022-06-28T19:35:02.001Z"
   },
   {
    "duration": 58,
    "start_time": "2022-06-28T19:35:04.181Z"
   },
   {
    "duration": 62,
    "start_time": "2022-06-28T19:35:06.208Z"
   },
   {
    "duration": 52,
    "start_time": "2022-06-28T19:35:07.781Z"
   },
   {
    "duration": 37,
    "start_time": "2022-06-28T19:35:10.186Z"
   },
   {
    "duration": 11,
    "start_time": "2022-06-28T19:35:14.144Z"
   },
   {
    "duration": 38,
    "start_time": "2022-06-28T19:35:19.205Z"
   },
   {
    "duration": 11,
    "start_time": "2022-06-28T19:35:24.216Z"
   },
   {
    "duration": 11,
    "start_time": "2022-06-28T19:35:26.580Z"
   },
   {
    "duration": 3,
    "start_time": "2022-06-28T19:36:12.283Z"
   },
   {
    "duration": 16,
    "start_time": "2022-06-28T19:36:16.406Z"
   },
   {
    "duration": 20,
    "start_time": "2022-06-28T19:36:17.188Z"
   },
   {
    "duration": 15,
    "start_time": "2022-06-28T19:36:17.604Z"
   },
   {
    "duration": 19,
    "start_time": "2022-06-28T19:36:18.135Z"
   },
   {
    "duration": 17,
    "start_time": "2022-06-28T19:36:18.898Z"
   },
   {
    "duration": 15,
    "start_time": "2022-06-28T19:36:19.682Z"
   },
   {
    "duration": 6,
    "start_time": "2022-06-28T19:36:26.639Z"
   },
   {
    "duration": 4,
    "start_time": "2022-06-28T19:37:36.474Z"
   },
   {
    "duration": 4,
    "start_time": "2022-06-28T19:37:41.524Z"
   },
   {
    "duration": 3,
    "start_time": "2022-06-28T19:37:43.475Z"
   },
   {
    "duration": 5,
    "start_time": "2022-06-28T19:47:00.811Z"
   },
   {
    "duration": 3,
    "start_time": "2022-06-28T19:47:05.150Z"
   },
   {
    "duration": 5,
    "start_time": "2022-06-28T19:47:05.985Z"
   },
   {
    "duration": 5,
    "start_time": "2022-06-28T20:01:05.218Z"
   },
   {
    "duration": 4,
    "start_time": "2022-06-28T20:01:08.561Z"
   },
   {
    "duration": 4,
    "start_time": "2022-06-28T20:01:09.458Z"
   },
   {
    "duration": 3,
    "start_time": "2022-06-28T20:02:10.969Z"
   },
   {
    "duration": 152,
    "start_time": "2022-06-28T20:02:13.273Z"
   },
   {
    "duration": 11,
    "start_time": "2022-06-28T20:02:16.424Z"
   },
   {
    "duration": 28,
    "start_time": "2022-06-28T20:02:19.828Z"
   },
   {
    "duration": 2,
    "start_time": "2022-06-28T20:02:22.290Z"
   },
   {
    "duration": 4,
    "start_time": "2022-06-28T20:02:27.359Z"
   },
   {
    "duration": 10,
    "start_time": "2022-06-28T20:02:31.788Z"
   },
   {
    "duration": 5,
    "start_time": "2022-06-28T20:02:33.077Z"
   },
   {
    "duration": 28,
    "start_time": "2022-06-28T20:02:34.768Z"
   },
   {
    "duration": 18,
    "start_time": "2022-06-28T20:02:36.736Z"
   },
   {
    "duration": 24,
    "start_time": "2022-06-28T20:02:38.361Z"
   },
   {
    "duration": 58,
    "start_time": "2022-06-28T20:02:41.001Z"
   },
   {
    "duration": 58,
    "start_time": "2022-06-28T20:02:42.579Z"
   },
   {
    "duration": 54,
    "start_time": "2022-06-28T20:02:43.761Z"
   },
   {
    "duration": 37,
    "start_time": "2022-06-28T20:02:46.790Z"
   },
   {
    "duration": 10,
    "start_time": "2022-06-28T20:02:48.682Z"
   },
   {
    "duration": 36,
    "start_time": "2022-06-28T20:02:50.080Z"
   },
   {
    "duration": 11,
    "start_time": "2022-06-28T20:02:54.566Z"
   },
   {
    "duration": 12,
    "start_time": "2022-06-28T20:02:56.691Z"
   },
   {
    "duration": 3,
    "start_time": "2022-06-28T20:02:59.390Z"
   },
   {
    "duration": 16,
    "start_time": "2022-06-28T20:03:01.259Z"
   },
   {
    "duration": 14,
    "start_time": "2022-06-28T20:12:45.715Z"
   },
   {
    "duration": 15,
    "start_time": "2022-06-28T20:12:46.627Z"
   },
   {
    "duration": 14,
    "start_time": "2022-06-28T20:12:48.173Z"
   },
   {
    "duration": 16,
    "start_time": "2022-06-28T20:12:48.956Z"
   },
   {
    "duration": 15,
    "start_time": "2022-06-28T20:12:49.969Z"
   },
   {
    "duration": 5,
    "start_time": "2022-06-28T20:12:53.494Z"
   },
   {
    "duration": 14,
    "start_time": "2022-06-28T20:12:57.084Z"
   },
   {
    "duration": 9,
    "start_time": "2022-06-28T20:12:58.333Z"
   },
   {
    "duration": 4,
    "start_time": "2022-06-28T20:13:00.075Z"
   },
   {
    "duration": 5,
    "start_time": "2022-06-28T20:28:35.581Z"
   },
   {
    "duration": 5,
    "start_time": "2022-06-28T20:30:54.769Z"
   },
   {
    "duration": 18,
    "start_time": "2022-06-28T20:42:08.647Z"
   },
   {
    "duration": 12,
    "start_time": "2022-06-28T20:42:12.641Z"
   },
   {
    "duration": 17,
    "start_time": "2022-06-28T20:42:14.727Z"
   },
   {
    "duration": 11,
    "start_time": "2022-06-28T20:42:15.973Z"
   },
   {
    "duration": 26,
    "start_time": "2022-06-28T20:45:50.286Z"
   },
   {
    "duration": 11,
    "start_time": "2022-06-28T20:46:19.459Z"
   },
   {
    "duration": 7,
    "start_time": "2022-06-28T20:49:32.464Z"
   },
   {
    "duration": 9,
    "start_time": "2022-06-28T20:50:42.081Z"
   },
   {
    "duration": 13,
    "start_time": "2022-06-28T20:51:10.105Z"
   },
   {
    "duration": 2,
    "start_time": "2022-06-28T21:49:49.574Z"
   },
   {
    "duration": 171,
    "start_time": "2022-06-28T21:49:50.939Z"
   },
   {
    "duration": 11,
    "start_time": "2022-06-28T21:49:52.202Z"
   },
   {
    "duration": 28,
    "start_time": "2022-06-28T21:49:55.175Z"
   },
   {
    "duration": 2,
    "start_time": "2022-06-28T21:49:57.462Z"
   },
   {
    "duration": 5,
    "start_time": "2022-06-28T21:50:00.769Z"
   },
   {
    "duration": 7,
    "start_time": "2022-06-28T21:50:02.630Z"
   },
   {
    "duration": 4,
    "start_time": "2022-06-28T21:50:04.283Z"
   },
   {
    "duration": 26,
    "start_time": "2022-06-28T21:50:06.363Z"
   },
   {
    "duration": 19,
    "start_time": "2022-06-28T21:50:08.250Z"
   },
   {
    "duration": 43,
    "start_time": "2022-06-28T21:50:09.912Z"
   },
   {
    "duration": 89,
    "start_time": "2022-06-28T21:50:11.594Z"
   },
   {
    "duration": 65,
    "start_time": "2022-06-28T21:50:13.562Z"
   },
   {
    "duration": 62,
    "start_time": "2022-06-28T21:50:14.752Z"
   },
   {
    "duration": 38,
    "start_time": "2022-06-28T21:50:16.697Z"
   },
   {
    "duration": 12,
    "start_time": "2022-06-28T21:50:18.298Z"
   },
   {
    "duration": 45,
    "start_time": "2022-06-28T21:50:20.015Z"
   },
   {
    "duration": 11,
    "start_time": "2022-06-28T21:50:23.972Z"
   },
   {
    "duration": 11,
    "start_time": "2022-06-28T21:50:25.495Z"
   },
   {
    "duration": 4,
    "start_time": "2022-06-28T21:50:27.820Z"
   },
   {
    "duration": 18,
    "start_time": "2022-06-28T21:50:30.309Z"
   },
   {
    "duration": 16,
    "start_time": "2022-06-28T21:50:33.487Z"
   },
   {
    "duration": 14,
    "start_time": "2022-06-28T21:50:34.383Z"
   },
   {
    "duration": 15,
    "start_time": "2022-06-28T21:50:34.934Z"
   },
   {
    "duration": 17,
    "start_time": "2022-06-28T21:50:35.530Z"
   },
   {
    "duration": 16,
    "start_time": "2022-06-28T21:50:36.294Z"
   },
   {
    "duration": 5,
    "start_time": "2022-06-28T21:50:38.510Z"
   },
   {
    "duration": 10,
    "start_time": "2022-06-28T21:50:43.199Z"
   },
   {
    "duration": 11,
    "start_time": "2022-06-28T21:50:43.898Z"
   },
   {
    "duration": 5,
    "start_time": "2022-06-28T21:50:45.911Z"
   },
   {
    "duration": 19,
    "start_time": "2022-06-28T21:50:47.752Z"
   },
   {
    "duration": 13,
    "start_time": "2022-06-28T21:50:50.674Z"
   },
   {
    "duration": 18,
    "start_time": "2022-06-28T21:50:52.288Z"
   },
   {
    "duration": 13,
    "start_time": "2022-06-28T21:50:53.421Z"
   },
   {
    "duration": 11,
    "start_time": "2022-06-28T21:50:57.795Z"
   },
   {
    "duration": 8,
    "start_time": "2022-06-28T21:52:33.716Z"
   },
   {
    "duration": 7,
    "start_time": "2022-06-28T21:52:38.415Z"
   },
   {
    "duration": 7,
    "start_time": "2022-06-28T21:54:17.534Z"
   },
   {
    "duration": 5,
    "start_time": "2022-06-28T21:55:23.283Z"
   },
   {
    "duration": 81,
    "start_time": "2022-11-11T12:02:01.883Z"
   },
   {
    "duration": 553,
    "start_time": "2022-11-11T12:02:08.051Z"
   },
   {
    "duration": 413,
    "start_time": "2022-11-11T12:02:08.608Z"
   },
   {
    "duration": 31,
    "start_time": "2022-11-11T12:02:09.024Z"
   },
   {
    "duration": 59,
    "start_time": "2022-11-11T12:02:09.057Z"
   },
   {
    "duration": 50,
    "start_time": "2022-11-11T12:02:09.120Z"
   },
   {
    "duration": 44,
    "start_time": "2022-11-11T12:02:09.172Z"
   },
   {
    "duration": 47,
    "start_time": "2022-11-11T12:02:09.219Z"
   },
   {
    "duration": 50,
    "start_time": "2022-11-11T12:02:09.269Z"
   },
   {
    "duration": 81,
    "start_time": "2022-11-11T12:02:09.322Z"
   },
   {
    "duration": 72,
    "start_time": "2022-11-11T12:02:09.409Z"
   },
   {
    "duration": 53,
    "start_time": "2022-11-11T12:02:09.484Z"
   },
   {
    "duration": 175,
    "start_time": "2022-11-11T12:02:09.539Z"
   },
   {
    "duration": 140,
    "start_time": "2022-11-11T12:02:09.716Z"
   },
   {
    "duration": 155,
    "start_time": "2022-11-11T12:02:09.860Z"
   },
   {
    "duration": 84,
    "start_time": "2022-11-11T12:02:10.017Z"
   },
   {
    "duration": 43,
    "start_time": "2022-11-11T12:02:10.103Z"
   },
   {
    "duration": 90,
    "start_time": "2022-11-11T12:02:10.151Z"
   },
   {
    "duration": 33,
    "start_time": "2022-11-11T12:02:10.243Z"
   },
   {
    "duration": 39,
    "start_time": "2022-11-11T12:02:10.279Z"
   },
   {
    "duration": 14,
    "start_time": "2022-11-11T12:02:10.323Z"
   },
   {
    "duration": 76,
    "start_time": "2022-11-11T12:02:10.339Z"
   },
   {
    "duration": 26,
    "start_time": "2022-11-11T12:02:10.418Z"
   },
   {
    "duration": 49,
    "start_time": "2022-11-11T12:02:10.446Z"
   },
   {
    "duration": 75,
    "start_time": "2022-11-11T12:02:10.497Z"
   },
   {
    "duration": 40,
    "start_time": "2022-11-11T12:02:10.577Z"
   },
   {
    "duration": 59,
    "start_time": "2022-11-11T12:02:10.619Z"
   },
   {
    "duration": 5,
    "start_time": "2022-11-11T12:02:10.681Z"
   },
   {
    "duration": 40,
    "start_time": "2022-11-11T12:02:10.689Z"
   },
   {
    "duration": 24,
    "start_time": "2022-11-11T12:02:10.731Z"
   },
   {
    "duration": 14,
    "start_time": "2022-11-11T12:02:10.757Z"
   },
   {
    "duration": 32,
    "start_time": "2022-11-11T12:02:10.774Z"
   },
   {
    "duration": 25,
    "start_time": "2022-11-11T12:02:10.808Z"
   },
   {
    "duration": 32,
    "start_time": "2022-11-11T12:02:10.836Z"
   },
   {
    "duration": 18,
    "start_time": "2022-11-11T12:02:10.871Z"
   },
   {
    "duration": 17,
    "start_time": "2022-11-11T12:02:10.891Z"
   },
   {
    "duration": 34,
    "start_time": "2022-11-11T12:02:10.910Z"
   },
   {
    "duration": 23,
    "start_time": "2022-11-11T12:02:10.947Z"
   },
   {
    "duration": 20,
    "start_time": "2022-11-11T12:02:10.973Z"
   },
   {
    "duration": 880,
    "start_time": "2022-11-12T21:00:56.496Z"
   },
   {
    "duration": 518,
    "start_time": "2022-11-12T21:00:57.379Z"
   },
   {
    "duration": 69,
    "start_time": "2022-11-12T21:00:57.900Z"
   },
   {
    "duration": 111,
    "start_time": "2022-11-12T21:00:57.972Z"
   },
   {
    "duration": 66,
    "start_time": "2022-11-12T21:00:58.085Z"
   },
   {
    "duration": 15,
    "start_time": "2022-11-12T21:00:58.153Z"
   },
   {
    "duration": 29,
    "start_time": "2022-11-12T21:00:58.170Z"
   },
   {
    "duration": 8,
    "start_time": "2022-11-12T21:00:58.252Z"
   },
   {
    "duration": 95,
    "start_time": "2022-11-12T21:00:58.262Z"
   },
   {
    "duration": 26,
    "start_time": "2022-11-12T21:00:58.361Z"
   },
   {
    "duration": 90,
    "start_time": "2022-11-12T21:00:58.389Z"
   },
   {
    "duration": 270,
    "start_time": "2022-11-12T21:00:58.481Z"
   },
   {
    "duration": 200,
    "start_time": "2022-11-12T21:00:58.753Z"
   },
   {
    "duration": 196,
    "start_time": "2022-11-12T21:00:58.955Z"
   },
   {
    "duration": 130,
    "start_time": "2022-11-12T21:00:59.154Z"
   },
   {
    "duration": 76,
    "start_time": "2022-11-12T21:00:59.287Z"
   },
   {
    "duration": 89,
    "start_time": "2022-11-12T21:00:59.366Z"
   },
   {
    "duration": 13,
    "start_time": "2022-11-12T21:00:59.457Z"
   },
   {
    "duration": 84,
    "start_time": "2022-11-12T21:00:59.472Z"
   },
   {
    "duration": 19,
    "start_time": "2022-11-12T21:00:59.558Z"
   },
   {
    "duration": 87,
    "start_time": "2022-11-12T21:00:59.579Z"
   },
   {
    "duration": 49,
    "start_time": "2022-11-12T21:00:59.669Z"
   },
   {
    "duration": 66,
    "start_time": "2022-11-12T21:00:59.722Z"
   },
   {
    "duration": 123,
    "start_time": "2022-11-12T21:00:59.790Z"
   },
   {
    "duration": 47,
    "start_time": "2022-11-12T21:00:59.916Z"
   },
   {
    "duration": 18,
    "start_time": "2022-11-12T21:00:59.965Z"
   },
   {
    "duration": 68,
    "start_time": "2022-11-12T21:00:59.986Z"
   },
   {
    "duration": 39,
    "start_time": "2022-11-12T21:01:00.058Z"
   },
   {
    "duration": 62,
    "start_time": "2022-11-12T21:01:00.100Z"
   },
   {
    "duration": 126,
    "start_time": "2022-11-12T21:01:00.165Z"
   },
   {
    "duration": 103,
    "start_time": "2022-11-12T21:01:00.294Z"
   },
   {
    "duration": 64,
    "start_time": "2022-11-12T21:01:00.399Z"
   },
   {
    "duration": 32,
    "start_time": "2022-11-12T21:01:00.465Z"
   },
   {
    "duration": 15,
    "start_time": "2022-11-12T21:01:00.499Z"
   },
   {
    "duration": 43,
    "start_time": "2022-11-12T21:01:00.516Z"
   },
   {
    "duration": 129,
    "start_time": "2022-11-12T21:01:00.561Z"
   },
   {
    "duration": 16,
    "start_time": "2022-11-12T21:01:00.693Z"
   },
   {
    "duration": 42,
    "start_time": "2022-11-12T21:01:00.712Z"
   },
   {
    "duration": 427,
    "start_time": "2023-11-03T10:14:53.097Z"
   },
   {
    "duration": 249,
    "start_time": "2023-11-03T10:14:53.876Z"
   },
   {
    "duration": 17,
    "start_time": "2023-11-03T10:14:54.715Z"
   },
   {
    "duration": 33,
    "start_time": "2023-11-03T10:14:56.625Z"
   },
   {
    "duration": 2,
    "start_time": "2023-11-03T10:14:57.763Z"
   },
   {
    "duration": 4,
    "start_time": "2023-11-03T10:14:59.039Z"
   },
   {
    "duration": 11,
    "start_time": "2023-11-03T10:14:59.703Z"
   },
   {
    "duration": 5,
    "start_time": "2023-11-03T10:15:00.283Z"
   },
   {
    "duration": 34,
    "start_time": "2023-11-03T10:15:00.915Z"
   },
   {
    "duration": 22,
    "start_time": "2023-11-03T10:15:01.632Z"
   },
   {
    "duration": 28,
    "start_time": "2023-11-03T10:15:02.377Z"
   },
   {
    "duration": 64,
    "start_time": "2023-11-03T10:15:02.816Z"
   },
   {
    "duration": 71,
    "start_time": "2023-11-03T10:15:03.464Z"
   },
   {
    "duration": 65,
    "start_time": "2023-11-03T10:15:03.923Z"
   },
   {
    "duration": 48,
    "start_time": "2023-11-03T10:15:04.596Z"
   },
   {
    "duration": 11,
    "start_time": "2023-11-03T10:15:05.950Z"
   },
   {
    "duration": 58,
    "start_time": "2023-11-03T10:15:06.424Z"
   },
   {
    "duration": 13,
    "start_time": "2023-11-03T10:15:08.036Z"
   },
   {
    "duration": 12,
    "start_time": "2023-11-03T10:15:08.923Z"
   },
   {
    "duration": 4,
    "start_time": "2023-11-03T10:15:09.635Z"
   },
   {
    "duration": 20,
    "start_time": "2023-11-03T10:15:10.115Z"
   },
   {
    "duration": 21,
    "start_time": "2023-11-03T10:15:10.353Z"
   },
   {
    "duration": 15,
    "start_time": "2023-11-03T10:15:10.544Z"
   },
   {
    "duration": 199,
    "start_time": "2023-11-03T10:15:10.750Z"
   },
   {
    "duration": 251,
    "start_time": "2023-11-03T10:15:10.982Z"
   },
   {
    "duration": 66,
    "start_time": "2023-11-03T10:15:11.235Z"
   },
   {
    "duration": 4,
    "start_time": "2023-11-03T10:15:11.625Z"
   },
   {
    "duration": 11,
    "start_time": "2023-11-03T10:15:13.064Z"
   },
   {
    "duration": 30,
    "start_time": "2023-11-03T10:15:13.277Z"
   },
   {
    "duration": 4,
    "start_time": "2023-11-03T10:15:13.776Z"
   },
   {
    "duration": 19,
    "start_time": "2023-11-03T10:15:14.457Z"
   },
   {
    "duration": 12,
    "start_time": "2023-11-03T10:15:14.803Z"
   },
   {
    "duration": 16,
    "start_time": "2023-11-03T10:15:15.104Z"
   },
   {
    "duration": 11,
    "start_time": "2023-11-03T10:15:15.356Z"
   },
   {
    "duration": 8,
    "start_time": "2023-11-03T10:15:16.358Z"
   },
   {
    "duration": 4,
    "start_time": "2023-11-03T10:15:16.777Z"
   },
   {
    "duration": 7,
    "start_time": "2023-11-03T10:15:17.216Z"
   },
   {
    "duration": 6,
    "start_time": "2023-11-03T10:15:17.636Z"
   },
   {
    "duration": 355,
    "start_time": "2023-11-05T14:25:35.901Z"
   },
   {
    "duration": 218,
    "start_time": "2023-11-05T14:25:36.258Z"
   },
   {
    "duration": 16,
    "start_time": "2023-11-05T14:25:36.477Z"
   },
   {
    "duration": 22,
    "start_time": "2023-11-05T14:25:36.495Z"
   },
   {
    "duration": 2,
    "start_time": "2023-11-05T14:25:36.519Z"
   },
   {
    "duration": 7,
    "start_time": "2023-11-05T14:25:36.522Z"
   },
   {
    "duration": 14,
    "start_time": "2023-11-05T14:25:36.530Z"
   },
   {
    "duration": 6,
    "start_time": "2023-11-05T14:25:36.546Z"
   },
   {
    "duration": 22,
    "start_time": "2023-11-05T14:25:36.553Z"
   },
   {
    "duration": 16,
    "start_time": "2023-11-05T14:25:36.576Z"
   },
   {
    "duration": 20,
    "start_time": "2023-11-05T14:25:36.594Z"
   },
   {
    "duration": 84,
    "start_time": "2023-11-05T14:25:36.615Z"
   },
   {
    "duration": 75,
    "start_time": "2023-11-05T14:25:36.700Z"
   },
   {
    "duration": 64,
    "start_time": "2023-11-05T14:25:36.778Z"
   },
   {
    "duration": 38,
    "start_time": "2023-11-05T14:25:36.843Z"
   },
   {
    "duration": 11,
    "start_time": "2023-11-05T14:25:36.882Z"
   },
   {
    "duration": 52,
    "start_time": "2023-11-05T14:25:36.895Z"
   },
   {
    "duration": 11,
    "start_time": "2023-11-05T14:25:36.948Z"
   },
   {
    "duration": 10,
    "start_time": "2023-11-05T14:25:36.960Z"
   },
   {
    "duration": 3,
    "start_time": "2023-11-05T14:25:36.971Z"
   },
   {
    "duration": 17,
    "start_time": "2023-11-05T14:25:36.976Z"
   },
   {
    "duration": 12,
    "start_time": "2023-11-05T14:25:36.995Z"
   },
   {
    "duration": 40,
    "start_time": "2023-11-05T14:25:37.008Z"
   },
   {
    "duration": 12,
    "start_time": "2023-11-05T14:25:37.050Z"
   },
   {
    "duration": 14,
    "start_time": "2023-11-05T14:25:37.063Z"
   },
   {
    "duration": 12,
    "start_time": "2023-11-05T14:25:37.078Z"
   },
   {
    "duration": 8,
    "start_time": "2023-11-05T14:25:37.092Z"
   },
   {
    "duration": 16,
    "start_time": "2023-11-05T14:25:37.102Z"
   },
   {
    "duration": 23,
    "start_time": "2023-11-05T14:25:37.120Z"
   },
   {
    "duration": 4,
    "start_time": "2023-11-05T14:25:37.145Z"
   },
   {
    "duration": 22,
    "start_time": "2023-11-05T14:25:37.150Z"
   },
   {
    "duration": 10,
    "start_time": "2023-11-05T14:25:37.173Z"
   },
   {
    "duration": 15,
    "start_time": "2023-11-05T14:25:37.184Z"
   },
   {
    "duration": 19,
    "start_time": "2023-11-05T14:25:37.201Z"
   },
   {
    "duration": 8,
    "start_time": "2023-11-05T14:25:37.239Z"
   },
   {
    "duration": 4,
    "start_time": "2023-11-05T14:25:37.249Z"
   },
   {
    "duration": 8,
    "start_time": "2023-11-05T14:25:37.254Z"
   },
   {
    "duration": 7,
    "start_time": "2023-11-05T14:25:37.263Z"
   },
   {
    "duration": 2,
    "start_time": "2023-11-05T15:19:46.436Z"
   },
   {
    "duration": 159,
    "start_time": "2023-11-05T15:19:46.441Z"
   },
   {
    "duration": 10,
    "start_time": "2023-11-05T15:19:46.601Z"
   },
   {
    "duration": 37,
    "start_time": "2023-11-05T15:19:46.612Z"
   },
   {
    "duration": 2,
    "start_time": "2023-11-05T15:19:46.651Z"
   },
   {
    "duration": 4,
    "start_time": "2023-11-05T15:19:46.654Z"
   },
   {
    "duration": 7,
    "start_time": "2023-11-05T15:19:46.659Z"
   },
   {
    "duration": 11,
    "start_time": "2023-11-05T15:19:46.667Z"
   },
   {
    "duration": 36,
    "start_time": "2023-11-05T15:19:46.679Z"
   },
   {
    "duration": 30,
    "start_time": "2023-11-05T15:19:46.716Z"
   },
   {
    "duration": 19,
    "start_time": "2023-11-05T15:19:46.748Z"
   },
   {
    "duration": 72,
    "start_time": "2023-11-05T15:19:46.768Z"
   },
   {
    "duration": 60,
    "start_time": "2023-11-05T15:19:46.843Z"
   },
   {
    "duration": 64,
    "start_time": "2023-11-05T15:19:46.904Z"
   },
   {
    "duration": 38,
    "start_time": "2023-11-05T15:19:46.970Z"
   },
   {
    "duration": 10,
    "start_time": "2023-11-05T15:19:47.009Z"
   },
   {
    "duration": 53,
    "start_time": "2023-11-05T15:19:47.020Z"
   },
   {
    "duration": 10,
    "start_time": "2023-11-05T15:19:47.074Z"
   },
   {
    "duration": 10,
    "start_time": "2023-11-05T15:19:47.085Z"
   },
   {
    "duration": 3,
    "start_time": "2023-11-05T15:19:47.096Z"
   },
   {
    "duration": 15,
    "start_time": "2023-11-05T15:19:47.100Z"
   },
   {
    "duration": 32,
    "start_time": "2023-11-05T15:19:47.116Z"
   },
   {
    "duration": 14,
    "start_time": "2023-11-05T15:19:47.149Z"
   },
   {
    "duration": 22,
    "start_time": "2023-11-05T15:19:47.165Z"
   },
   {
    "duration": 33,
    "start_time": "2023-11-05T15:19:47.189Z"
   },
   {
    "duration": 12,
    "start_time": "2023-11-05T15:19:47.223Z"
   },
   {
    "duration": 3,
    "start_time": "2023-11-05T15:19:47.237Z"
   },
   {
    "duration": 11,
    "start_time": "2023-11-05T15:19:47.241Z"
   },
   {
    "duration": 8,
    "start_time": "2023-11-05T15:19:47.254Z"
   },
   {
    "duration": 4,
    "start_time": "2023-11-05T15:19:47.263Z"
   },
   {
    "duration": 19,
    "start_time": "2023-11-05T15:19:47.269Z"
   },
   {
    "duration": 10,
    "start_time": "2023-11-05T15:19:47.289Z"
   },
   {
    "duration": 12,
    "start_time": "2023-11-05T15:19:47.301Z"
   },
   {
    "duration": 10,
    "start_time": "2023-11-05T15:19:47.339Z"
   },
   {
    "duration": 7,
    "start_time": "2023-11-05T15:19:47.350Z"
   },
   {
    "duration": 3,
    "start_time": "2023-11-05T15:19:47.359Z"
   },
   {
    "duration": 6,
    "start_time": "2023-11-05T15:19:47.365Z"
   },
   {
    "duration": 4,
    "start_time": "2023-11-05T15:19:47.372Z"
   }
  ],
  "colab": {
   "collapsed_sections": [
    "E0vqbgi9ay0H",
    "VUC88oWjTJw2"
   ],
   "name": "automatization_template_upd4.ipynb",
   "provenance": []
  },
  "kernelspec": {
   "display_name": "Python 3 (ipykernel)",
   "language": "python",
   "name": "python3"
  },
  "language_info": {
   "codemirror_mode": {
    "name": "ipython",
    "version": 3
   },
   "file_extension": ".py",
   "mimetype": "text/x-python",
   "name": "python",
   "nbconvert_exporter": "python",
   "pygments_lexer": "ipython3",
   "version": "3.9.5"
  },
  "toc": {
   "base_numbering": 1,
   "nav_menu": {
    "height": "215px",
    "width": "403px"
   },
   "number_sections": true,
   "sideBar": true,
   "skip_h1_title": true,
   "title_cell": "Table of Contents",
   "title_sidebar": "Contents",
   "toc_cell": false,
   "toc_position": {
    "height": "calc(100% - 180px)",
    "left": "10px",
    "top": "150px",
    "width": "285.825px"
   },
   "toc_section_display": true,
   "toc_window_display": false
  }
 },
 "nbformat": 4,
 "nbformat_minor": 1
}
