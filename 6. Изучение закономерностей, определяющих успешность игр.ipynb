{
 "cells": [
  {
   "cell_type": "markdown",
   "metadata": {},
   "source": [
    "**Интернет магазин \"Стримчик\"**\n",
    "\n",
    "В данном проекте у нас дотупны данные по:\n",
    "- Name — название игры\n",
    "- Platform — платформа\n",
    "- Year_of_Release — год выпуска\n",
    "- Genre — жанр игры\n",
    "- NA_sales — продажи в Северной Америке (миллионы проданных копий)\n",
    "- EU_sales — продажи в Европе (миллионы проданных копий)\n",
    "- JP_sales — продажи в Японии (миллионы проданных копий)\n",
    "- Other_sales — продажи в других странах (миллионы проданных копий)\n",
    "- Critic_Score — оценка критиков (максимум 100)\n",
    "- User_Score — оценка пользователей (максимум 10)\n",
    "- Rating — рейтинг от организации ESRB (англ. Entertainment Software Rating Board). Эта ассоциация определяет рейтинг компьютерных игр и присваивает им подходящую возрастную категорию.\n",
    "\n",
    "Исходя и имеющихся данных мы:\n",
    "- Подготовим данные к анализу\n",
    "- Проведем исследовательский анализ данных\n",
    "- Составим портрет пользователя каждого региона\n",
    "- Проверим гипотезы.\n",
    "\n",
    "Цель проекта:\n",
    "Нужно выявить определяющие успешность игры закономерности. Это позволит сделать ставку на потенциально популярный продукт и спланировать рекламные кампании."
   ]
  },
  {
   "cell_type": "markdown",
   "metadata": {},
   "source": [
    "**1. Откроем файл с данными и изучим общую информацию**"
   ]
  },
  {
   "cell_type": "markdown",
   "metadata": {},
   "source": [
    "*Импортируем необходимые нам библиотеки.*"
   ]
  },
  {
   "cell_type": "code",
   "execution_count": 1,
   "metadata": {},
   "outputs": [],
   "source": [
    "import pandas as pd\n",
    "%matplotlib inline\n",
    "import matplotlib.pyplot as plt \n",
    "from scipy import stats as st\n",
    "import numpy as np\n",
    "import seaborn as sns"
   ]
  },
  {
   "cell_type": "markdown",
   "metadata": {},
   "source": [
    "*Откроем файл с данными.*"
   ]
  },
  {
   "cell_type": "code",
   "execution_count": 2,
   "metadata": {},
   "outputs": [],
   "source": [
    "data = pd.read_csv('/datasets/games.csv')"
   ]
  },
  {
   "cell_type": "markdown",
   "metadata": {},
   "source": [
    "*Изучим информацию полученного файла.*"
   ]
  },
  {
   "cell_type": "code",
   "execution_count": 3,
   "metadata": {},
   "outputs": [
    {
     "data": {
      "text/html": [
       "<div>\n",
       "<style scoped>\n",
       "    .dataframe tbody tr th:only-of-type {\n",
       "        vertical-align: middle;\n",
       "    }\n",
       "\n",
       "    .dataframe tbody tr th {\n",
       "        vertical-align: top;\n",
       "    }\n",
       "\n",
       "    .dataframe thead th {\n",
       "        text-align: right;\n",
       "    }\n",
       "</style>\n",
       "<table border=\"1\" class=\"dataframe\">\n",
       "  <thead>\n",
       "    <tr style=\"text-align: right;\">\n",
       "      <th></th>\n",
       "      <th>Name</th>\n",
       "      <th>Platform</th>\n",
       "      <th>Year_of_Release</th>\n",
       "      <th>Genre</th>\n",
       "      <th>NA_sales</th>\n",
       "      <th>EU_sales</th>\n",
       "      <th>JP_sales</th>\n",
       "      <th>Other_sales</th>\n",
       "      <th>Critic_Score</th>\n",
       "      <th>User_Score</th>\n",
       "      <th>Rating</th>\n",
       "    </tr>\n",
       "  </thead>\n",
       "  <tbody>\n",
       "    <tr>\n",
       "      <th>0</th>\n",
       "      <td>Wii Sports</td>\n",
       "      <td>Wii</td>\n",
       "      <td>2006.0</td>\n",
       "      <td>Sports</td>\n",
       "      <td>41.36</td>\n",
       "      <td>28.96</td>\n",
       "      <td>3.77</td>\n",
       "      <td>8.45</td>\n",
       "      <td>76.0</td>\n",
       "      <td>8</td>\n",
       "      <td>E</td>\n",
       "    </tr>\n",
       "    <tr>\n",
       "      <th>1</th>\n",
       "      <td>Super Mario Bros.</td>\n",
       "      <td>NES</td>\n",
       "      <td>1985.0</td>\n",
       "      <td>Platform</td>\n",
       "      <td>29.08</td>\n",
       "      <td>3.58</td>\n",
       "      <td>6.81</td>\n",
       "      <td>0.77</td>\n",
       "      <td>NaN</td>\n",
       "      <td>NaN</td>\n",
       "      <td>NaN</td>\n",
       "    </tr>\n",
       "    <tr>\n",
       "      <th>2</th>\n",
       "      <td>Mario Kart Wii</td>\n",
       "      <td>Wii</td>\n",
       "      <td>2008.0</td>\n",
       "      <td>Racing</td>\n",
       "      <td>15.68</td>\n",
       "      <td>12.76</td>\n",
       "      <td>3.79</td>\n",
       "      <td>3.29</td>\n",
       "      <td>82.0</td>\n",
       "      <td>8.3</td>\n",
       "      <td>E</td>\n",
       "    </tr>\n",
       "    <tr>\n",
       "      <th>3</th>\n",
       "      <td>Wii Sports Resort</td>\n",
       "      <td>Wii</td>\n",
       "      <td>2009.0</td>\n",
       "      <td>Sports</td>\n",
       "      <td>15.61</td>\n",
       "      <td>10.93</td>\n",
       "      <td>3.28</td>\n",
       "      <td>2.95</td>\n",
       "      <td>80.0</td>\n",
       "      <td>8</td>\n",
       "      <td>E</td>\n",
       "    </tr>\n",
       "    <tr>\n",
       "      <th>4</th>\n",
       "      <td>Pokemon Red/Pokemon Blue</td>\n",
       "      <td>GB</td>\n",
       "      <td>1996.0</td>\n",
       "      <td>Role-Playing</td>\n",
       "      <td>11.27</td>\n",
       "      <td>8.89</td>\n",
       "      <td>10.22</td>\n",
       "      <td>1.00</td>\n",
       "      <td>NaN</td>\n",
       "      <td>NaN</td>\n",
       "      <td>NaN</td>\n",
       "    </tr>\n",
       "    <tr>\n",
       "      <th>5</th>\n",
       "      <td>Tetris</td>\n",
       "      <td>GB</td>\n",
       "      <td>1989.0</td>\n",
       "      <td>Puzzle</td>\n",
       "      <td>23.20</td>\n",
       "      <td>2.26</td>\n",
       "      <td>4.22</td>\n",
       "      <td>0.58</td>\n",
       "      <td>NaN</td>\n",
       "      <td>NaN</td>\n",
       "      <td>NaN</td>\n",
       "    </tr>\n",
       "    <tr>\n",
       "      <th>6</th>\n",
       "      <td>New Super Mario Bros.</td>\n",
       "      <td>DS</td>\n",
       "      <td>2006.0</td>\n",
       "      <td>Platform</td>\n",
       "      <td>11.28</td>\n",
       "      <td>9.14</td>\n",
       "      <td>6.50</td>\n",
       "      <td>2.88</td>\n",
       "      <td>89.0</td>\n",
       "      <td>8.5</td>\n",
       "      <td>E</td>\n",
       "    </tr>\n",
       "    <tr>\n",
       "      <th>7</th>\n",
       "      <td>Wii Play</td>\n",
       "      <td>Wii</td>\n",
       "      <td>2006.0</td>\n",
       "      <td>Misc</td>\n",
       "      <td>13.96</td>\n",
       "      <td>9.18</td>\n",
       "      <td>2.93</td>\n",
       "      <td>2.84</td>\n",
       "      <td>58.0</td>\n",
       "      <td>6.6</td>\n",
       "      <td>E</td>\n",
       "    </tr>\n",
       "    <tr>\n",
       "      <th>8</th>\n",
       "      <td>New Super Mario Bros. Wii</td>\n",
       "      <td>Wii</td>\n",
       "      <td>2009.0</td>\n",
       "      <td>Platform</td>\n",
       "      <td>14.44</td>\n",
       "      <td>6.94</td>\n",
       "      <td>4.70</td>\n",
       "      <td>2.24</td>\n",
       "      <td>87.0</td>\n",
       "      <td>8.4</td>\n",
       "      <td>E</td>\n",
       "    </tr>\n",
       "    <tr>\n",
       "      <th>9</th>\n",
       "      <td>Duck Hunt</td>\n",
       "      <td>NES</td>\n",
       "      <td>1984.0</td>\n",
       "      <td>Shooter</td>\n",
       "      <td>26.93</td>\n",
       "      <td>0.63</td>\n",
       "      <td>0.28</td>\n",
       "      <td>0.47</td>\n",
       "      <td>NaN</td>\n",
       "      <td>NaN</td>\n",
       "      <td>NaN</td>\n",
       "    </tr>\n",
       "  </tbody>\n",
       "</table>\n",
       "</div>"
      ],
      "text/plain": [
       "                        Name Platform  Year_of_Release         Genre  \\\n",
       "0                 Wii Sports      Wii           2006.0        Sports   \n",
       "1          Super Mario Bros.      NES           1985.0      Platform   \n",
       "2             Mario Kart Wii      Wii           2008.0        Racing   \n",
       "3          Wii Sports Resort      Wii           2009.0        Sports   \n",
       "4   Pokemon Red/Pokemon Blue       GB           1996.0  Role-Playing   \n",
       "5                     Tetris       GB           1989.0        Puzzle   \n",
       "6      New Super Mario Bros.       DS           2006.0      Platform   \n",
       "7                   Wii Play      Wii           2006.0          Misc   \n",
       "8  New Super Mario Bros. Wii      Wii           2009.0      Platform   \n",
       "9                  Duck Hunt      NES           1984.0       Shooter   \n",
       "\n",
       "   NA_sales  EU_sales  JP_sales  Other_sales  Critic_Score User_Score Rating  \n",
       "0     41.36     28.96      3.77         8.45          76.0          8      E  \n",
       "1     29.08      3.58      6.81         0.77           NaN        NaN    NaN  \n",
       "2     15.68     12.76      3.79         3.29          82.0        8.3      E  \n",
       "3     15.61     10.93      3.28         2.95          80.0          8      E  \n",
       "4     11.27      8.89     10.22         1.00           NaN        NaN    NaN  \n",
       "5     23.20      2.26      4.22         0.58           NaN        NaN    NaN  \n",
       "6     11.28      9.14      6.50         2.88          89.0        8.5      E  \n",
       "7     13.96      9.18      2.93         2.84          58.0        6.6      E  \n",
       "8     14.44      6.94      4.70         2.24          87.0        8.4      E  \n",
       "9     26.93      0.63      0.28         0.47           NaN        NaN    NaN  "
      ]
     },
     "execution_count": 3,
     "metadata": {},
     "output_type": "execute_result"
    }
   ],
   "source": [
    "data.head(10)"
   ]
  },
  {
   "cell_type": "markdown",
   "metadata": {},
   "source": [
    "Вывела первые 10 строк"
   ]
  },
  {
   "cell_type": "markdown",
   "metadata": {},
   "source": [
    "*Приведем название столбцов к нижнему регистру.*\n"
   ]
  },
  {
   "cell_type": "markdown",
   "metadata": {},
   "source": [
    "*Посмотрим информацию о таблице*"
   ]
  },
  {
   "cell_type": "code",
   "execution_count": 4,
   "metadata": {},
   "outputs": [
    {
     "name": "stdout",
     "output_type": "stream",
     "text": [
      "<class 'pandas.core.frame.DataFrame'>\n",
      "RangeIndex: 16715 entries, 0 to 16714\n",
      "Data columns (total 11 columns):\n",
      " #   Column           Non-Null Count  Dtype  \n",
      "---  ------           --------------  -----  \n",
      " 0   Name             16713 non-null  object \n",
      " 1   Platform         16715 non-null  object \n",
      " 2   Year_of_Release  16446 non-null  float64\n",
      " 3   Genre            16713 non-null  object \n",
      " 4   NA_sales         16715 non-null  float64\n",
      " 5   EU_sales         16715 non-null  float64\n",
      " 6   JP_sales         16715 non-null  float64\n",
      " 7   Other_sales      16715 non-null  float64\n",
      " 8   Critic_Score     8137 non-null   float64\n",
      " 9   User_Score       10014 non-null  object \n",
      " 10  Rating           9949 non-null   object \n",
      "dtypes: float64(6), object(5)\n",
      "memory usage: 1.4+ MB\n"
     ]
    }
   ],
   "source": [
    "data.info()"
   ]
  },
  {
   "cell_type": "markdown",
   "metadata": {},
   "source": [
    "*Надо будет изменить тип данных в столбцах Year_of_Release и User_Score.*\n"
   ]
  },
  {
   "cell_type": "markdown",
   "metadata": {},
   "source": [
    "*Проверим пропущенные значения в столбцах*"
   ]
  },
  {
   "cell_type": "code",
   "execution_count": 5,
   "metadata": {},
   "outputs": [
    {
     "data": {
      "text/plain": [
       "Name                  2\n",
       "Platform              0\n",
       "Year_of_Release     269\n",
       "Genre                 2\n",
       "NA_sales              0\n",
       "EU_sales              0\n",
       "JP_sales              0\n",
       "Other_sales           0\n",
       "Critic_Score       8578\n",
       "User_Score         6701\n",
       "Rating             6766\n",
       "dtype: int64"
      ]
     },
     "execution_count": 5,
     "metadata": {},
     "output_type": "execute_result"
    }
   ],
   "source": [
    "data.isna().sum()"
   ]
  },
  {
   "cell_type": "markdown",
   "metadata": {},
   "source": [
    "*У нас в 6 столбцах есть пропущенные значения*"
   ]
  },
  {
   "cell_type": "markdown",
   "metadata": {},
   "source": [
    "**Теперь проверим столбецы по отдельности**"
   ]
  },
  {
   "cell_type": "markdown",
   "metadata": {},
   "source": [
    "*Проверим ко-во дубликатов*"
   ]
  },
  {
   "cell_type": "code",
   "execution_count": 6,
   "metadata": {},
   "outputs": [
    {
     "data": {
      "text/plain": [
       "0"
      ]
     },
     "execution_count": 6,
     "metadata": {},
     "output_type": "execute_result"
    }
   ],
   "source": [
    "data.duplicated().sum()"
   ]
  },
  {
   "cell_type": "markdown",
   "metadata": {},
   "source": [
    "*Дубликатов у нас нет*"
   ]
  },
  {
   "cell_type": "markdown",
   "metadata": {},
   "source": [
    "*Постмотрим какие платформы у нас есть в талице*"
   ]
  },
  {
   "cell_type": "code",
   "execution_count": 7,
   "metadata": {},
   "outputs": [
    {
     "data": {
      "text/plain": [
       "PS2     2161\n",
       "DS      2151\n",
       "PS3     1331\n",
       "Wii     1320\n",
       "X360    1262\n",
       "PSP     1209\n",
       "PS      1197\n",
       "PC       974\n",
       "XB       824\n",
       "GBA      822\n",
       "GC       556\n",
       "3DS      520\n",
       "PSV      430\n",
       "PS4      392\n",
       "N64      319\n",
       "XOne     247\n",
       "SNES     239\n",
       "SAT      173\n",
       "WiiU     147\n",
       "2600     133\n",
       "GB        98\n",
       "NES       98\n",
       "DC        52\n",
       "GEN       29\n",
       "NG        12\n",
       "SCD        6\n",
       "WS         6\n",
       "3DO        3\n",
       "TG16       2\n",
       "PCFX       1\n",
       "GG         1\n",
       "Name: Platform, dtype: int64"
      ]
     },
     "execution_count": 7,
     "metadata": {},
     "output_type": "execute_result"
    }
   ],
   "source": [
    "data['Platform'].value_counts()"
   ]
  },
  {
   "cell_type": "markdown",
   "metadata": {},
   "source": [
    "*Посмотрим столбец с годом выпуска*"
   ]
  },
  {
   "cell_type": "code",
   "execution_count": 8,
   "metadata": {},
   "outputs": [
    {
     "data": {
      "text/html": [
       "<div>\n",
       "<style scoped>\n",
       "    .dataframe tbody tr th:only-of-type {\n",
       "        vertical-align: middle;\n",
       "    }\n",
       "\n",
       "    .dataframe tbody tr th {\n",
       "        vertical-align: top;\n",
       "    }\n",
       "\n",
       "    .dataframe thead th {\n",
       "        text-align: right;\n",
       "    }\n",
       "</style>\n",
       "<table border=\"1\" class=\"dataframe\">\n",
       "  <thead>\n",
       "    <tr style=\"text-align: right;\">\n",
       "      <th></th>\n",
       "      <th>Name</th>\n",
       "      <th>Platform</th>\n",
       "      <th>Year_of_Release</th>\n",
       "      <th>Genre</th>\n",
       "      <th>NA_sales</th>\n",
       "      <th>EU_sales</th>\n",
       "      <th>JP_sales</th>\n",
       "      <th>Other_sales</th>\n",
       "      <th>Critic_Score</th>\n",
       "      <th>User_Score</th>\n",
       "      <th>Rating</th>\n",
       "    </tr>\n",
       "  </thead>\n",
       "  <tbody>\n",
       "    <tr>\n",
       "      <th>183</th>\n",
       "      <td>Madden NFL 2004</td>\n",
       "      <td>PS2</td>\n",
       "      <td>NaN</td>\n",
       "      <td>Sports</td>\n",
       "      <td>4.26</td>\n",
       "      <td>0.26</td>\n",
       "      <td>0.01</td>\n",
       "      <td>0.71</td>\n",
       "      <td>94.0</td>\n",
       "      <td>8.5</td>\n",
       "      <td>E</td>\n",
       "    </tr>\n",
       "    <tr>\n",
       "      <th>377</th>\n",
       "      <td>FIFA Soccer 2004</td>\n",
       "      <td>PS2</td>\n",
       "      <td>NaN</td>\n",
       "      <td>Sports</td>\n",
       "      <td>0.59</td>\n",
       "      <td>2.36</td>\n",
       "      <td>0.04</td>\n",
       "      <td>0.51</td>\n",
       "      <td>84.0</td>\n",
       "      <td>6.4</td>\n",
       "      <td>E</td>\n",
       "    </tr>\n",
       "    <tr>\n",
       "      <th>456</th>\n",
       "      <td>LEGO Batman: The Videogame</td>\n",
       "      <td>Wii</td>\n",
       "      <td>NaN</td>\n",
       "      <td>Action</td>\n",
       "      <td>1.80</td>\n",
       "      <td>0.97</td>\n",
       "      <td>0.00</td>\n",
       "      <td>0.29</td>\n",
       "      <td>74.0</td>\n",
       "      <td>7.9</td>\n",
       "      <td>E10+</td>\n",
       "    </tr>\n",
       "    <tr>\n",
       "      <th>475</th>\n",
       "      <td>wwe Smackdown vs. Raw 2006</td>\n",
       "      <td>PS2</td>\n",
       "      <td>NaN</td>\n",
       "      <td>Fighting</td>\n",
       "      <td>1.57</td>\n",
       "      <td>1.02</td>\n",
       "      <td>0.00</td>\n",
       "      <td>0.41</td>\n",
       "      <td>NaN</td>\n",
       "      <td>NaN</td>\n",
       "      <td>NaN</td>\n",
       "    </tr>\n",
       "    <tr>\n",
       "      <th>609</th>\n",
       "      <td>Space Invaders</td>\n",
       "      <td>2600</td>\n",
       "      <td>NaN</td>\n",
       "      <td>Shooter</td>\n",
       "      <td>2.36</td>\n",
       "      <td>0.14</td>\n",
       "      <td>0.00</td>\n",
       "      <td>0.03</td>\n",
       "      <td>NaN</td>\n",
       "      <td>NaN</td>\n",
       "      <td>NaN</td>\n",
       "    </tr>\n",
       "    <tr>\n",
       "      <th>...</th>\n",
       "      <td>...</td>\n",
       "      <td>...</td>\n",
       "      <td>...</td>\n",
       "      <td>...</td>\n",
       "      <td>...</td>\n",
       "      <td>...</td>\n",
       "      <td>...</td>\n",
       "      <td>...</td>\n",
       "      <td>...</td>\n",
       "      <td>...</td>\n",
       "      <td>...</td>\n",
       "    </tr>\n",
       "    <tr>\n",
       "      <th>16373</th>\n",
       "      <td>PDC World Championship Darts 2008</td>\n",
       "      <td>PSP</td>\n",
       "      <td>NaN</td>\n",
       "      <td>Sports</td>\n",
       "      <td>0.01</td>\n",
       "      <td>0.00</td>\n",
       "      <td>0.00</td>\n",
       "      <td>0.00</td>\n",
       "      <td>43.0</td>\n",
       "      <td>tbd</td>\n",
       "      <td>E10+</td>\n",
       "    </tr>\n",
       "    <tr>\n",
       "      <th>16405</th>\n",
       "      <td>Freaky Flyers</td>\n",
       "      <td>GC</td>\n",
       "      <td>NaN</td>\n",
       "      <td>Racing</td>\n",
       "      <td>0.01</td>\n",
       "      <td>0.00</td>\n",
       "      <td>0.00</td>\n",
       "      <td>0.00</td>\n",
       "      <td>69.0</td>\n",
       "      <td>6.5</td>\n",
       "      <td>T</td>\n",
       "    </tr>\n",
       "    <tr>\n",
       "      <th>16448</th>\n",
       "      <td>Inversion</td>\n",
       "      <td>PC</td>\n",
       "      <td>NaN</td>\n",
       "      <td>Shooter</td>\n",
       "      <td>0.01</td>\n",
       "      <td>0.00</td>\n",
       "      <td>0.00</td>\n",
       "      <td>0.00</td>\n",
       "      <td>59.0</td>\n",
       "      <td>6.7</td>\n",
       "      <td>M</td>\n",
       "    </tr>\n",
       "    <tr>\n",
       "      <th>16458</th>\n",
       "      <td>Hakuouki: Shinsengumi Kitan</td>\n",
       "      <td>PS3</td>\n",
       "      <td>NaN</td>\n",
       "      <td>Adventure</td>\n",
       "      <td>0.01</td>\n",
       "      <td>0.00</td>\n",
       "      <td>0.00</td>\n",
       "      <td>0.00</td>\n",
       "      <td>NaN</td>\n",
       "      <td>NaN</td>\n",
       "      <td>NaN</td>\n",
       "    </tr>\n",
       "    <tr>\n",
       "      <th>16522</th>\n",
       "      <td>Virtua Quest</td>\n",
       "      <td>GC</td>\n",
       "      <td>NaN</td>\n",
       "      <td>Role-Playing</td>\n",
       "      <td>0.01</td>\n",
       "      <td>0.00</td>\n",
       "      <td>0.00</td>\n",
       "      <td>0.00</td>\n",
       "      <td>55.0</td>\n",
       "      <td>5.5</td>\n",
       "      <td>T</td>\n",
       "    </tr>\n",
       "  </tbody>\n",
       "</table>\n",
       "<p>269 rows × 11 columns</p>\n",
       "</div>"
      ],
      "text/plain": [
       "                                    Name Platform  Year_of_Release  \\\n",
       "183                      Madden NFL 2004      PS2              NaN   \n",
       "377                     FIFA Soccer 2004      PS2              NaN   \n",
       "456           LEGO Batman: The Videogame      Wii              NaN   \n",
       "475           wwe Smackdown vs. Raw 2006      PS2              NaN   \n",
       "609                       Space Invaders     2600              NaN   \n",
       "...                                  ...      ...              ...   \n",
       "16373  PDC World Championship Darts 2008      PSP              NaN   \n",
       "16405                      Freaky Flyers       GC              NaN   \n",
       "16448                          Inversion       PC              NaN   \n",
       "16458        Hakuouki: Shinsengumi Kitan      PS3              NaN   \n",
       "16522                       Virtua Quest       GC              NaN   \n",
       "\n",
       "              Genre  NA_sales  EU_sales  JP_sales  Other_sales  Critic_Score  \\\n",
       "183          Sports      4.26      0.26      0.01         0.71          94.0   \n",
       "377          Sports      0.59      2.36      0.04         0.51          84.0   \n",
       "456          Action      1.80      0.97      0.00         0.29          74.0   \n",
       "475        Fighting      1.57      1.02      0.00         0.41           NaN   \n",
       "609         Shooter      2.36      0.14      0.00         0.03           NaN   \n",
       "...             ...       ...       ...       ...          ...           ...   \n",
       "16373        Sports      0.01      0.00      0.00         0.00          43.0   \n",
       "16405        Racing      0.01      0.00      0.00         0.00          69.0   \n",
       "16448       Shooter      0.01      0.00      0.00         0.00          59.0   \n",
       "16458     Adventure      0.01      0.00      0.00         0.00           NaN   \n",
       "16522  Role-Playing      0.01      0.00      0.00         0.00          55.0   \n",
       "\n",
       "      User_Score Rating  \n",
       "183          8.5      E  \n",
       "377          6.4      E  \n",
       "456          7.9   E10+  \n",
       "475          NaN    NaN  \n",
       "609          NaN    NaN  \n",
       "...          ...    ...  \n",
       "16373        tbd   E10+  \n",
       "16405        6.5      T  \n",
       "16448        6.7      M  \n",
       "16458        NaN    NaN  \n",
       "16522        5.5      T  \n",
       "\n",
       "[269 rows x 11 columns]"
      ]
     },
     "execution_count": 8,
     "metadata": {},
     "output_type": "execute_result"
    }
   ],
   "source": [
    "data[data['Year_of_Release'].isna()]"
   ]
  },
  {
   "cell_type": "markdown",
   "metadata": {},
   "source": [
    "*У нас 269 пропущенных значений, некоторые года указаны в названии игр, перенести год из назвния. В остальных случаях решим по ходу исседования.*"
   ]
  },
  {
   "cell_type": "markdown",
   "metadata": {},
   "source": [
    "*Посмотрим столбец с жанрами игры и нет ли повторяющих*   "
   ]
  },
  {
   "cell_type": "code",
   "execution_count": 9,
   "metadata": {},
   "outputs": [
    {
     "data": {
      "text/plain": [
       "Action          3369\n",
       "Sports          2348\n",
       "Misc            1750\n",
       "Role-Playing    1498\n",
       "Shooter         1323\n",
       "Adventure       1303\n",
       "Racing          1249\n",
       "Platform         888\n",
       "Simulation       873\n",
       "Fighting         849\n",
       "Strategy         683\n",
       "Puzzle           580\n",
       "Name: Genre, dtype: int64"
      ]
     },
     "execution_count": 9,
     "metadata": {},
     "output_type": "execute_result"
    }
   ],
   "source": [
    "data['Genre'].value_counts()"
   ]
  },
  {
   "cell_type": "markdown",
   "metadata": {},
   "source": [
    "*В столбце с жанрами все хорошо, но у нас есть 2 пропущенных значения.*"
   ]
  },
  {
   "cell_type": "markdown",
   "metadata": {},
   "source": [
    "*Поверим столбец с оценкой критиков*"
   ]
  },
  {
   "cell_type": "code",
   "execution_count": 10,
   "metadata": {},
   "outputs": [
    {
     "data": {
      "text/html": [
       "<div>\n",
       "<style scoped>\n",
       "    .dataframe tbody tr th:only-of-type {\n",
       "        vertical-align: middle;\n",
       "    }\n",
       "\n",
       "    .dataframe tbody tr th {\n",
       "        vertical-align: top;\n",
       "    }\n",
       "\n",
       "    .dataframe thead th {\n",
       "        text-align: right;\n",
       "    }\n",
       "</style>\n",
       "<table border=\"1\" class=\"dataframe\">\n",
       "  <thead>\n",
       "    <tr style=\"text-align: right;\">\n",
       "      <th></th>\n",
       "      <th>Name</th>\n",
       "      <th>Platform</th>\n",
       "      <th>Year_of_Release</th>\n",
       "      <th>Genre</th>\n",
       "      <th>NA_sales</th>\n",
       "      <th>EU_sales</th>\n",
       "      <th>JP_sales</th>\n",
       "      <th>Other_sales</th>\n",
       "      <th>Critic_Score</th>\n",
       "      <th>User_Score</th>\n",
       "      <th>Rating</th>\n",
       "    </tr>\n",
       "  </thead>\n",
       "  <tbody>\n",
       "    <tr>\n",
       "      <th>1</th>\n",
       "      <td>Super Mario Bros.</td>\n",
       "      <td>NES</td>\n",
       "      <td>1985.0</td>\n",
       "      <td>Platform</td>\n",
       "      <td>29.08</td>\n",
       "      <td>3.58</td>\n",
       "      <td>6.81</td>\n",
       "      <td>0.77</td>\n",
       "      <td>NaN</td>\n",
       "      <td>NaN</td>\n",
       "      <td>NaN</td>\n",
       "    </tr>\n",
       "    <tr>\n",
       "      <th>4</th>\n",
       "      <td>Pokemon Red/Pokemon Blue</td>\n",
       "      <td>GB</td>\n",
       "      <td>1996.0</td>\n",
       "      <td>Role-Playing</td>\n",
       "      <td>11.27</td>\n",
       "      <td>8.89</td>\n",
       "      <td>10.22</td>\n",
       "      <td>1.00</td>\n",
       "      <td>NaN</td>\n",
       "      <td>NaN</td>\n",
       "      <td>NaN</td>\n",
       "    </tr>\n",
       "    <tr>\n",
       "      <th>5</th>\n",
       "      <td>Tetris</td>\n",
       "      <td>GB</td>\n",
       "      <td>1989.0</td>\n",
       "      <td>Puzzle</td>\n",
       "      <td>23.20</td>\n",
       "      <td>2.26</td>\n",
       "      <td>4.22</td>\n",
       "      <td>0.58</td>\n",
       "      <td>NaN</td>\n",
       "      <td>NaN</td>\n",
       "      <td>NaN</td>\n",
       "    </tr>\n",
       "    <tr>\n",
       "      <th>9</th>\n",
       "      <td>Duck Hunt</td>\n",
       "      <td>NES</td>\n",
       "      <td>1984.0</td>\n",
       "      <td>Shooter</td>\n",
       "      <td>26.93</td>\n",
       "      <td>0.63</td>\n",
       "      <td>0.28</td>\n",
       "      <td>0.47</td>\n",
       "      <td>NaN</td>\n",
       "      <td>NaN</td>\n",
       "      <td>NaN</td>\n",
       "    </tr>\n",
       "    <tr>\n",
       "      <th>10</th>\n",
       "      <td>Nintendogs</td>\n",
       "      <td>DS</td>\n",
       "      <td>2005.0</td>\n",
       "      <td>Simulation</td>\n",
       "      <td>9.05</td>\n",
       "      <td>10.95</td>\n",
       "      <td>1.93</td>\n",
       "      <td>2.74</td>\n",
       "      <td>NaN</td>\n",
       "      <td>NaN</td>\n",
       "      <td>NaN</td>\n",
       "    </tr>\n",
       "    <tr>\n",
       "      <th>...</th>\n",
       "      <td>...</td>\n",
       "      <td>...</td>\n",
       "      <td>...</td>\n",
       "      <td>...</td>\n",
       "      <td>...</td>\n",
       "      <td>...</td>\n",
       "      <td>...</td>\n",
       "      <td>...</td>\n",
       "      <td>...</td>\n",
       "      <td>...</td>\n",
       "      <td>...</td>\n",
       "    </tr>\n",
       "    <tr>\n",
       "      <th>16710</th>\n",
       "      <td>Samurai Warriors: Sanada Maru</td>\n",
       "      <td>PS3</td>\n",
       "      <td>2016.0</td>\n",
       "      <td>Action</td>\n",
       "      <td>0.00</td>\n",
       "      <td>0.00</td>\n",
       "      <td>0.01</td>\n",
       "      <td>0.00</td>\n",
       "      <td>NaN</td>\n",
       "      <td>NaN</td>\n",
       "      <td>NaN</td>\n",
       "    </tr>\n",
       "    <tr>\n",
       "      <th>16711</th>\n",
       "      <td>LMA Manager 2007</td>\n",
       "      <td>X360</td>\n",
       "      <td>2006.0</td>\n",
       "      <td>Sports</td>\n",
       "      <td>0.00</td>\n",
       "      <td>0.01</td>\n",
       "      <td>0.00</td>\n",
       "      <td>0.00</td>\n",
       "      <td>NaN</td>\n",
       "      <td>NaN</td>\n",
       "      <td>NaN</td>\n",
       "    </tr>\n",
       "    <tr>\n",
       "      <th>16712</th>\n",
       "      <td>Haitaka no Psychedelica</td>\n",
       "      <td>PSV</td>\n",
       "      <td>2016.0</td>\n",
       "      <td>Adventure</td>\n",
       "      <td>0.00</td>\n",
       "      <td>0.00</td>\n",
       "      <td>0.01</td>\n",
       "      <td>0.00</td>\n",
       "      <td>NaN</td>\n",
       "      <td>NaN</td>\n",
       "      <td>NaN</td>\n",
       "    </tr>\n",
       "    <tr>\n",
       "      <th>16713</th>\n",
       "      <td>Spirits &amp; Spells</td>\n",
       "      <td>GBA</td>\n",
       "      <td>2003.0</td>\n",
       "      <td>Platform</td>\n",
       "      <td>0.01</td>\n",
       "      <td>0.00</td>\n",
       "      <td>0.00</td>\n",
       "      <td>0.00</td>\n",
       "      <td>NaN</td>\n",
       "      <td>NaN</td>\n",
       "      <td>NaN</td>\n",
       "    </tr>\n",
       "    <tr>\n",
       "      <th>16714</th>\n",
       "      <td>Winning Post 8 2016</td>\n",
       "      <td>PSV</td>\n",
       "      <td>2016.0</td>\n",
       "      <td>Simulation</td>\n",
       "      <td>0.00</td>\n",
       "      <td>0.00</td>\n",
       "      <td>0.01</td>\n",
       "      <td>0.00</td>\n",
       "      <td>NaN</td>\n",
       "      <td>NaN</td>\n",
       "      <td>NaN</td>\n",
       "    </tr>\n",
       "  </tbody>\n",
       "</table>\n",
       "<p>8578 rows × 11 columns</p>\n",
       "</div>"
      ],
      "text/plain": [
       "                                Name Platform  Year_of_Release         Genre  \\\n",
       "1                  Super Mario Bros.      NES           1985.0      Platform   \n",
       "4           Pokemon Red/Pokemon Blue       GB           1996.0  Role-Playing   \n",
       "5                             Tetris       GB           1989.0        Puzzle   \n",
       "9                          Duck Hunt      NES           1984.0       Shooter   \n",
       "10                        Nintendogs       DS           2005.0    Simulation   \n",
       "...                              ...      ...              ...           ...   \n",
       "16710  Samurai Warriors: Sanada Maru      PS3           2016.0        Action   \n",
       "16711               LMA Manager 2007     X360           2006.0        Sports   \n",
       "16712        Haitaka no Psychedelica      PSV           2016.0     Adventure   \n",
       "16713               Spirits & Spells      GBA           2003.0      Platform   \n",
       "16714            Winning Post 8 2016      PSV           2016.0    Simulation   \n",
       "\n",
       "       NA_sales  EU_sales  JP_sales  Other_sales  Critic_Score User_Score  \\\n",
       "1         29.08      3.58      6.81         0.77           NaN        NaN   \n",
       "4         11.27      8.89     10.22         1.00           NaN        NaN   \n",
       "5         23.20      2.26      4.22         0.58           NaN        NaN   \n",
       "9         26.93      0.63      0.28         0.47           NaN        NaN   \n",
       "10         9.05     10.95      1.93         2.74           NaN        NaN   \n",
       "...         ...       ...       ...          ...           ...        ...   \n",
       "16710      0.00      0.00      0.01         0.00           NaN        NaN   \n",
       "16711      0.00      0.01      0.00         0.00           NaN        NaN   \n",
       "16712      0.00      0.00      0.01         0.00           NaN        NaN   \n",
       "16713      0.01      0.00      0.00         0.00           NaN        NaN   \n",
       "16714      0.00      0.00      0.01         0.00           NaN        NaN   \n",
       "\n",
       "      Rating  \n",
       "1        NaN  \n",
       "4        NaN  \n",
       "5        NaN  \n",
       "9        NaN  \n",
       "10       NaN  \n",
       "...      ...  \n",
       "16710    NaN  \n",
       "16711    NaN  \n",
       "16712    NaN  \n",
       "16713    NaN  \n",
       "16714    NaN  \n",
       "\n",
       "[8578 rows x 11 columns]"
      ]
     },
     "execution_count": 10,
     "metadata": {},
     "output_type": "execute_result"
    }
   ],
   "source": [
    "data[data['Critic_Score'].isna()]"
   ]
  },
  {
   "cell_type": "markdown",
   "metadata": {},
   "source": [
    "*У нас получилсь,что половины инфомации отсутсвует.*"
   ]
  },
  {
   "cell_type": "markdown",
   "metadata": {},
   "source": [
    "*Теперь проверим столбец с оценкой пользователь. Максимальная оценка максимум 10.*"
   ]
  },
  {
   "cell_type": "code",
   "execution_count": 11,
   "metadata": {},
   "outputs": [
    {
     "data": {
      "text/html": [
       "<div>\n",
       "<style scoped>\n",
       "    .dataframe tbody tr th:only-of-type {\n",
       "        vertical-align: middle;\n",
       "    }\n",
       "\n",
       "    .dataframe tbody tr th {\n",
       "        vertical-align: top;\n",
       "    }\n",
       "\n",
       "    .dataframe thead th {\n",
       "        text-align: right;\n",
       "    }\n",
       "</style>\n",
       "<table border=\"1\" class=\"dataframe\">\n",
       "  <thead>\n",
       "    <tr style=\"text-align: right;\">\n",
       "      <th></th>\n",
       "      <th>Name</th>\n",
       "      <th>Platform</th>\n",
       "      <th>Year_of_Release</th>\n",
       "      <th>Genre</th>\n",
       "      <th>NA_sales</th>\n",
       "      <th>EU_sales</th>\n",
       "      <th>JP_sales</th>\n",
       "      <th>Other_sales</th>\n",
       "      <th>Critic_Score</th>\n",
       "      <th>User_Score</th>\n",
       "      <th>Rating</th>\n",
       "    </tr>\n",
       "  </thead>\n",
       "  <tbody>\n",
       "    <tr>\n",
       "      <th>1</th>\n",
       "      <td>Super Mario Bros.</td>\n",
       "      <td>NES</td>\n",
       "      <td>1985.0</td>\n",
       "      <td>Platform</td>\n",
       "      <td>29.08</td>\n",
       "      <td>3.58</td>\n",
       "      <td>6.81</td>\n",
       "      <td>0.77</td>\n",
       "      <td>NaN</td>\n",
       "      <td>NaN</td>\n",
       "      <td>NaN</td>\n",
       "    </tr>\n",
       "    <tr>\n",
       "      <th>4</th>\n",
       "      <td>Pokemon Red/Pokemon Blue</td>\n",
       "      <td>GB</td>\n",
       "      <td>1996.0</td>\n",
       "      <td>Role-Playing</td>\n",
       "      <td>11.27</td>\n",
       "      <td>8.89</td>\n",
       "      <td>10.22</td>\n",
       "      <td>1.00</td>\n",
       "      <td>NaN</td>\n",
       "      <td>NaN</td>\n",
       "      <td>NaN</td>\n",
       "    </tr>\n",
       "    <tr>\n",
       "      <th>5</th>\n",
       "      <td>Tetris</td>\n",
       "      <td>GB</td>\n",
       "      <td>1989.0</td>\n",
       "      <td>Puzzle</td>\n",
       "      <td>23.20</td>\n",
       "      <td>2.26</td>\n",
       "      <td>4.22</td>\n",
       "      <td>0.58</td>\n",
       "      <td>NaN</td>\n",
       "      <td>NaN</td>\n",
       "      <td>NaN</td>\n",
       "    </tr>\n",
       "    <tr>\n",
       "      <th>9</th>\n",
       "      <td>Duck Hunt</td>\n",
       "      <td>NES</td>\n",
       "      <td>1984.0</td>\n",
       "      <td>Shooter</td>\n",
       "      <td>26.93</td>\n",
       "      <td>0.63</td>\n",
       "      <td>0.28</td>\n",
       "      <td>0.47</td>\n",
       "      <td>NaN</td>\n",
       "      <td>NaN</td>\n",
       "      <td>NaN</td>\n",
       "    </tr>\n",
       "    <tr>\n",
       "      <th>10</th>\n",
       "      <td>Nintendogs</td>\n",
       "      <td>DS</td>\n",
       "      <td>2005.0</td>\n",
       "      <td>Simulation</td>\n",
       "      <td>9.05</td>\n",
       "      <td>10.95</td>\n",
       "      <td>1.93</td>\n",
       "      <td>2.74</td>\n",
       "      <td>NaN</td>\n",
       "      <td>NaN</td>\n",
       "      <td>NaN</td>\n",
       "    </tr>\n",
       "    <tr>\n",
       "      <th>...</th>\n",
       "      <td>...</td>\n",
       "      <td>...</td>\n",
       "      <td>...</td>\n",
       "      <td>...</td>\n",
       "      <td>...</td>\n",
       "      <td>...</td>\n",
       "      <td>...</td>\n",
       "      <td>...</td>\n",
       "      <td>...</td>\n",
       "      <td>...</td>\n",
       "      <td>...</td>\n",
       "    </tr>\n",
       "    <tr>\n",
       "      <th>16710</th>\n",
       "      <td>Samurai Warriors: Sanada Maru</td>\n",
       "      <td>PS3</td>\n",
       "      <td>2016.0</td>\n",
       "      <td>Action</td>\n",
       "      <td>0.00</td>\n",
       "      <td>0.00</td>\n",
       "      <td>0.01</td>\n",
       "      <td>0.00</td>\n",
       "      <td>NaN</td>\n",
       "      <td>NaN</td>\n",
       "      <td>NaN</td>\n",
       "    </tr>\n",
       "    <tr>\n",
       "      <th>16711</th>\n",
       "      <td>LMA Manager 2007</td>\n",
       "      <td>X360</td>\n",
       "      <td>2006.0</td>\n",
       "      <td>Sports</td>\n",
       "      <td>0.00</td>\n",
       "      <td>0.01</td>\n",
       "      <td>0.00</td>\n",
       "      <td>0.00</td>\n",
       "      <td>NaN</td>\n",
       "      <td>NaN</td>\n",
       "      <td>NaN</td>\n",
       "    </tr>\n",
       "    <tr>\n",
       "      <th>16712</th>\n",
       "      <td>Haitaka no Psychedelica</td>\n",
       "      <td>PSV</td>\n",
       "      <td>2016.0</td>\n",
       "      <td>Adventure</td>\n",
       "      <td>0.00</td>\n",
       "      <td>0.00</td>\n",
       "      <td>0.01</td>\n",
       "      <td>0.00</td>\n",
       "      <td>NaN</td>\n",
       "      <td>NaN</td>\n",
       "      <td>NaN</td>\n",
       "    </tr>\n",
       "    <tr>\n",
       "      <th>16713</th>\n",
       "      <td>Spirits &amp; Spells</td>\n",
       "      <td>GBA</td>\n",
       "      <td>2003.0</td>\n",
       "      <td>Platform</td>\n",
       "      <td>0.01</td>\n",
       "      <td>0.00</td>\n",
       "      <td>0.00</td>\n",
       "      <td>0.00</td>\n",
       "      <td>NaN</td>\n",
       "      <td>NaN</td>\n",
       "      <td>NaN</td>\n",
       "    </tr>\n",
       "    <tr>\n",
       "      <th>16714</th>\n",
       "      <td>Winning Post 8 2016</td>\n",
       "      <td>PSV</td>\n",
       "      <td>2016.0</td>\n",
       "      <td>Simulation</td>\n",
       "      <td>0.00</td>\n",
       "      <td>0.00</td>\n",
       "      <td>0.01</td>\n",
       "      <td>0.00</td>\n",
       "      <td>NaN</td>\n",
       "      <td>NaN</td>\n",
       "      <td>NaN</td>\n",
       "    </tr>\n",
       "  </tbody>\n",
       "</table>\n",
       "<p>6701 rows × 11 columns</p>\n",
       "</div>"
      ],
      "text/plain": [
       "                                Name Platform  Year_of_Release         Genre  \\\n",
       "1                  Super Mario Bros.      NES           1985.0      Platform   \n",
       "4           Pokemon Red/Pokemon Blue       GB           1996.0  Role-Playing   \n",
       "5                             Tetris       GB           1989.0        Puzzle   \n",
       "9                          Duck Hunt      NES           1984.0       Shooter   \n",
       "10                        Nintendogs       DS           2005.0    Simulation   \n",
       "...                              ...      ...              ...           ...   \n",
       "16710  Samurai Warriors: Sanada Maru      PS3           2016.0        Action   \n",
       "16711               LMA Manager 2007     X360           2006.0        Sports   \n",
       "16712        Haitaka no Psychedelica      PSV           2016.0     Adventure   \n",
       "16713               Spirits & Spells      GBA           2003.0      Platform   \n",
       "16714            Winning Post 8 2016      PSV           2016.0    Simulation   \n",
       "\n",
       "       NA_sales  EU_sales  JP_sales  Other_sales  Critic_Score User_Score  \\\n",
       "1         29.08      3.58      6.81         0.77           NaN        NaN   \n",
       "4         11.27      8.89     10.22         1.00           NaN        NaN   \n",
       "5         23.20      2.26      4.22         0.58           NaN        NaN   \n",
       "9         26.93      0.63      0.28         0.47           NaN        NaN   \n",
       "10         9.05     10.95      1.93         2.74           NaN        NaN   \n",
       "...         ...       ...       ...          ...           ...        ...   \n",
       "16710      0.00      0.00      0.01         0.00           NaN        NaN   \n",
       "16711      0.00      0.01      0.00         0.00           NaN        NaN   \n",
       "16712      0.00      0.00      0.01         0.00           NaN        NaN   \n",
       "16713      0.01      0.00      0.00         0.00           NaN        NaN   \n",
       "16714      0.00      0.00      0.01         0.00           NaN        NaN   \n",
       "\n",
       "      Rating  \n",
       "1        NaN  \n",
       "4        NaN  \n",
       "5        NaN  \n",
       "9        NaN  \n",
       "10       NaN  \n",
       "...      ...  \n",
       "16710    NaN  \n",
       "16711    NaN  \n",
       "16712    NaN  \n",
       "16713    NaN  \n",
       "16714    NaN  \n",
       "\n",
       "[6701 rows x 11 columns]"
      ]
     },
     "execution_count": 11,
     "metadata": {},
     "output_type": "execute_result"
    }
   ],
   "source": [
    "data[data['User_Score'].isna()]"
   ]
  },
  {
   "cell_type": "code",
   "execution_count": 12,
   "metadata": {},
   "outputs": [
    {
     "data": {
      "text/plain": [
       "count     10014\n",
       "unique       96\n",
       "top         tbd\n",
       "freq       2424\n",
       "Name: User_Score, dtype: object"
      ]
     },
     "execution_count": 12,
     "metadata": {},
     "output_type": "execute_result"
    }
   ],
   "source": [
    "data['User_Score'].describe()"
   ]
  },
  {
   "cell_type": "markdown",
   "metadata": {},
   "source": [
    "*В данном столбце у нас появилось аббревиатура 'tbd', мы ее преобразуем в NaN, после преобразуем в тип float.*"
   ]
  },
  {
   "cell_type": "markdown",
   "metadata": {},
   "source": [
    "*Проверим последний столбец с рейтингом*"
   ]
  },
  {
   "cell_type": "code",
   "execution_count": 13,
   "metadata": {},
   "outputs": [
    {
     "data": {
      "text/html": [
       "<div>\n",
       "<style scoped>\n",
       "    .dataframe tbody tr th:only-of-type {\n",
       "        vertical-align: middle;\n",
       "    }\n",
       "\n",
       "    .dataframe tbody tr th {\n",
       "        vertical-align: top;\n",
       "    }\n",
       "\n",
       "    .dataframe thead th {\n",
       "        text-align: right;\n",
       "    }\n",
       "</style>\n",
       "<table border=\"1\" class=\"dataframe\">\n",
       "  <thead>\n",
       "    <tr style=\"text-align: right;\">\n",
       "      <th></th>\n",
       "      <th>Name</th>\n",
       "      <th>Platform</th>\n",
       "      <th>Year_of_Release</th>\n",
       "      <th>Genre</th>\n",
       "      <th>NA_sales</th>\n",
       "      <th>EU_sales</th>\n",
       "      <th>JP_sales</th>\n",
       "      <th>Other_sales</th>\n",
       "      <th>Critic_Score</th>\n",
       "      <th>User_Score</th>\n",
       "      <th>Rating</th>\n",
       "    </tr>\n",
       "  </thead>\n",
       "  <tbody>\n",
       "    <tr>\n",
       "      <th>1</th>\n",
       "      <td>Super Mario Bros.</td>\n",
       "      <td>NES</td>\n",
       "      <td>1985.0</td>\n",
       "      <td>Platform</td>\n",
       "      <td>29.08</td>\n",
       "      <td>3.58</td>\n",
       "      <td>6.81</td>\n",
       "      <td>0.77</td>\n",
       "      <td>NaN</td>\n",
       "      <td>NaN</td>\n",
       "      <td>NaN</td>\n",
       "    </tr>\n",
       "    <tr>\n",
       "      <th>4</th>\n",
       "      <td>Pokemon Red/Pokemon Blue</td>\n",
       "      <td>GB</td>\n",
       "      <td>1996.0</td>\n",
       "      <td>Role-Playing</td>\n",
       "      <td>11.27</td>\n",
       "      <td>8.89</td>\n",
       "      <td>10.22</td>\n",
       "      <td>1.00</td>\n",
       "      <td>NaN</td>\n",
       "      <td>NaN</td>\n",
       "      <td>NaN</td>\n",
       "    </tr>\n",
       "    <tr>\n",
       "      <th>5</th>\n",
       "      <td>Tetris</td>\n",
       "      <td>GB</td>\n",
       "      <td>1989.0</td>\n",
       "      <td>Puzzle</td>\n",
       "      <td>23.20</td>\n",
       "      <td>2.26</td>\n",
       "      <td>4.22</td>\n",
       "      <td>0.58</td>\n",
       "      <td>NaN</td>\n",
       "      <td>NaN</td>\n",
       "      <td>NaN</td>\n",
       "    </tr>\n",
       "    <tr>\n",
       "      <th>9</th>\n",
       "      <td>Duck Hunt</td>\n",
       "      <td>NES</td>\n",
       "      <td>1984.0</td>\n",
       "      <td>Shooter</td>\n",
       "      <td>26.93</td>\n",
       "      <td>0.63</td>\n",
       "      <td>0.28</td>\n",
       "      <td>0.47</td>\n",
       "      <td>NaN</td>\n",
       "      <td>NaN</td>\n",
       "      <td>NaN</td>\n",
       "    </tr>\n",
       "    <tr>\n",
       "      <th>10</th>\n",
       "      <td>Nintendogs</td>\n",
       "      <td>DS</td>\n",
       "      <td>2005.0</td>\n",
       "      <td>Simulation</td>\n",
       "      <td>9.05</td>\n",
       "      <td>10.95</td>\n",
       "      <td>1.93</td>\n",
       "      <td>2.74</td>\n",
       "      <td>NaN</td>\n",
       "      <td>NaN</td>\n",
       "      <td>NaN</td>\n",
       "    </tr>\n",
       "    <tr>\n",
       "      <th>...</th>\n",
       "      <td>...</td>\n",
       "      <td>...</td>\n",
       "      <td>...</td>\n",
       "      <td>...</td>\n",
       "      <td>...</td>\n",
       "      <td>...</td>\n",
       "      <td>...</td>\n",
       "      <td>...</td>\n",
       "      <td>...</td>\n",
       "      <td>...</td>\n",
       "      <td>...</td>\n",
       "    </tr>\n",
       "    <tr>\n",
       "      <th>16710</th>\n",
       "      <td>Samurai Warriors: Sanada Maru</td>\n",
       "      <td>PS3</td>\n",
       "      <td>2016.0</td>\n",
       "      <td>Action</td>\n",
       "      <td>0.00</td>\n",
       "      <td>0.00</td>\n",
       "      <td>0.01</td>\n",
       "      <td>0.00</td>\n",
       "      <td>NaN</td>\n",
       "      <td>NaN</td>\n",
       "      <td>NaN</td>\n",
       "    </tr>\n",
       "    <tr>\n",
       "      <th>16711</th>\n",
       "      <td>LMA Manager 2007</td>\n",
       "      <td>X360</td>\n",
       "      <td>2006.0</td>\n",
       "      <td>Sports</td>\n",
       "      <td>0.00</td>\n",
       "      <td>0.01</td>\n",
       "      <td>0.00</td>\n",
       "      <td>0.00</td>\n",
       "      <td>NaN</td>\n",
       "      <td>NaN</td>\n",
       "      <td>NaN</td>\n",
       "    </tr>\n",
       "    <tr>\n",
       "      <th>16712</th>\n",
       "      <td>Haitaka no Psychedelica</td>\n",
       "      <td>PSV</td>\n",
       "      <td>2016.0</td>\n",
       "      <td>Adventure</td>\n",
       "      <td>0.00</td>\n",
       "      <td>0.00</td>\n",
       "      <td>0.01</td>\n",
       "      <td>0.00</td>\n",
       "      <td>NaN</td>\n",
       "      <td>NaN</td>\n",
       "      <td>NaN</td>\n",
       "    </tr>\n",
       "    <tr>\n",
       "      <th>16713</th>\n",
       "      <td>Spirits &amp; Spells</td>\n",
       "      <td>GBA</td>\n",
       "      <td>2003.0</td>\n",
       "      <td>Platform</td>\n",
       "      <td>0.01</td>\n",
       "      <td>0.00</td>\n",
       "      <td>0.00</td>\n",
       "      <td>0.00</td>\n",
       "      <td>NaN</td>\n",
       "      <td>NaN</td>\n",
       "      <td>NaN</td>\n",
       "    </tr>\n",
       "    <tr>\n",
       "      <th>16714</th>\n",
       "      <td>Winning Post 8 2016</td>\n",
       "      <td>PSV</td>\n",
       "      <td>2016.0</td>\n",
       "      <td>Simulation</td>\n",
       "      <td>0.00</td>\n",
       "      <td>0.00</td>\n",
       "      <td>0.01</td>\n",
       "      <td>0.00</td>\n",
       "      <td>NaN</td>\n",
       "      <td>NaN</td>\n",
       "      <td>NaN</td>\n",
       "    </tr>\n",
       "  </tbody>\n",
       "</table>\n",
       "<p>6766 rows × 11 columns</p>\n",
       "</div>"
      ],
      "text/plain": [
       "                                Name Platform  Year_of_Release         Genre  \\\n",
       "1                  Super Mario Bros.      NES           1985.0      Platform   \n",
       "4           Pokemon Red/Pokemon Blue       GB           1996.0  Role-Playing   \n",
       "5                             Tetris       GB           1989.0        Puzzle   \n",
       "9                          Duck Hunt      NES           1984.0       Shooter   \n",
       "10                        Nintendogs       DS           2005.0    Simulation   \n",
       "...                              ...      ...              ...           ...   \n",
       "16710  Samurai Warriors: Sanada Maru      PS3           2016.0        Action   \n",
       "16711               LMA Manager 2007     X360           2006.0        Sports   \n",
       "16712        Haitaka no Psychedelica      PSV           2016.0     Adventure   \n",
       "16713               Spirits & Spells      GBA           2003.0      Platform   \n",
       "16714            Winning Post 8 2016      PSV           2016.0    Simulation   \n",
       "\n",
       "       NA_sales  EU_sales  JP_sales  Other_sales  Critic_Score User_Score  \\\n",
       "1         29.08      3.58      6.81         0.77           NaN        NaN   \n",
       "4         11.27      8.89     10.22         1.00           NaN        NaN   \n",
       "5         23.20      2.26      4.22         0.58           NaN        NaN   \n",
       "9         26.93      0.63      0.28         0.47           NaN        NaN   \n",
       "10         9.05     10.95      1.93         2.74           NaN        NaN   \n",
       "...         ...       ...       ...          ...           ...        ...   \n",
       "16710      0.00      0.00      0.01         0.00           NaN        NaN   \n",
       "16711      0.00      0.01      0.00         0.00           NaN        NaN   \n",
       "16712      0.00      0.00      0.01         0.00           NaN        NaN   \n",
       "16713      0.01      0.00      0.00         0.00           NaN        NaN   \n",
       "16714      0.00      0.00      0.01         0.00           NaN        NaN   \n",
       "\n",
       "      Rating  \n",
       "1        NaN  \n",
       "4        NaN  \n",
       "5        NaN  \n",
       "9        NaN  \n",
       "10       NaN  \n",
       "...      ...  \n",
       "16710    NaN  \n",
       "16711    NaN  \n",
       "16712    NaN  \n",
       "16713    NaN  \n",
       "16714    NaN  \n",
       "\n",
       "[6766 rows x 11 columns]"
      ]
     },
     "execution_count": 13,
     "metadata": {},
     "output_type": "execute_result"
    }
   ],
   "source": [
    "data[data['Rating'].isna()]"
   ]
  },
  {
   "cell_type": "markdown",
   "metadata": {},
   "source": [
    "*В этом столбце так же есть пропущенные значения*"
   ]
  },
  {
   "cell_type": "markdown",
   "metadata": {},
   "source": [
    "**Вывод**\n",
    "\n",
    "Нам понадобится сделать:\n",
    "- Перевести название столбцов к нижнему регистру;\n",
    "- Изменить тип данных в столбце Year_of_Release;\n",
    "- В столбце Year_of_Release пропущенные значения взять из названия игр;\n",
    "- Обработать пропущенные значения в столбцах: Name, Platform, Year_of_Release, Critic_Score, User_Score, Rating;\n",
    "- В столбце Useer_Score аббревиатуру 'tbd' мы ее изменим в NaN, после преобразуем в тип float.\n"
   ]
  },
  {
   "cell_type": "markdown",
   "metadata": {},
   "source": [
    "**2. Подготовим файл**"
   ]
  },
  {
   "cell_type": "markdown",
   "metadata": {},
   "source": [
    "*2.1. Переведем название столбцов к нижнему регистру*"
   ]
  },
  {
   "cell_type": "code",
   "execution_count": 14,
   "metadata": {},
   "outputs": [],
   "source": [
    "data.columns = data.columns.str.lower()"
   ]
  },
  {
   "cell_type": "code",
   "execution_count": 15,
   "metadata": {},
   "outputs": [
    {
     "data": {
      "text/html": [
       "<div>\n",
       "<style scoped>\n",
       "    .dataframe tbody tr th:only-of-type {\n",
       "        vertical-align: middle;\n",
       "    }\n",
       "\n",
       "    .dataframe tbody tr th {\n",
       "        vertical-align: top;\n",
       "    }\n",
       "\n",
       "    .dataframe thead th {\n",
       "        text-align: right;\n",
       "    }\n",
       "</style>\n",
       "<table border=\"1\" class=\"dataframe\">\n",
       "  <thead>\n",
       "    <tr style=\"text-align: right;\">\n",
       "      <th></th>\n",
       "      <th>name</th>\n",
       "      <th>platform</th>\n",
       "      <th>year_of_release</th>\n",
       "      <th>genre</th>\n",
       "      <th>na_sales</th>\n",
       "      <th>eu_sales</th>\n",
       "      <th>jp_sales</th>\n",
       "      <th>other_sales</th>\n",
       "      <th>critic_score</th>\n",
       "      <th>user_score</th>\n",
       "      <th>rating</th>\n",
       "    </tr>\n",
       "  </thead>\n",
       "  <tbody>\n",
       "    <tr>\n",
       "      <th>0</th>\n",
       "      <td>Wii Sports</td>\n",
       "      <td>Wii</td>\n",
       "      <td>2006.0</td>\n",
       "      <td>Sports</td>\n",
       "      <td>41.36</td>\n",
       "      <td>28.96</td>\n",
       "      <td>3.77</td>\n",
       "      <td>8.45</td>\n",
       "      <td>76.0</td>\n",
       "      <td>8</td>\n",
       "      <td>E</td>\n",
       "    </tr>\n",
       "    <tr>\n",
       "      <th>1</th>\n",
       "      <td>Super Mario Bros.</td>\n",
       "      <td>NES</td>\n",
       "      <td>1985.0</td>\n",
       "      <td>Platform</td>\n",
       "      <td>29.08</td>\n",
       "      <td>3.58</td>\n",
       "      <td>6.81</td>\n",
       "      <td>0.77</td>\n",
       "      <td>NaN</td>\n",
       "      <td>NaN</td>\n",
       "      <td>NaN</td>\n",
       "    </tr>\n",
       "    <tr>\n",
       "      <th>2</th>\n",
       "      <td>Mario Kart Wii</td>\n",
       "      <td>Wii</td>\n",
       "      <td>2008.0</td>\n",
       "      <td>Racing</td>\n",
       "      <td>15.68</td>\n",
       "      <td>12.76</td>\n",
       "      <td>3.79</td>\n",
       "      <td>3.29</td>\n",
       "      <td>82.0</td>\n",
       "      <td>8.3</td>\n",
       "      <td>E</td>\n",
       "    </tr>\n",
       "    <tr>\n",
       "      <th>3</th>\n",
       "      <td>Wii Sports Resort</td>\n",
       "      <td>Wii</td>\n",
       "      <td>2009.0</td>\n",
       "      <td>Sports</td>\n",
       "      <td>15.61</td>\n",
       "      <td>10.93</td>\n",
       "      <td>3.28</td>\n",
       "      <td>2.95</td>\n",
       "      <td>80.0</td>\n",
       "      <td>8</td>\n",
       "      <td>E</td>\n",
       "    </tr>\n",
       "    <tr>\n",
       "      <th>4</th>\n",
       "      <td>Pokemon Red/Pokemon Blue</td>\n",
       "      <td>GB</td>\n",
       "      <td>1996.0</td>\n",
       "      <td>Role-Playing</td>\n",
       "      <td>11.27</td>\n",
       "      <td>8.89</td>\n",
       "      <td>10.22</td>\n",
       "      <td>1.00</td>\n",
       "      <td>NaN</td>\n",
       "      <td>NaN</td>\n",
       "      <td>NaN</td>\n",
       "    </tr>\n",
       "    <tr>\n",
       "      <th>...</th>\n",
       "      <td>...</td>\n",
       "      <td>...</td>\n",
       "      <td>...</td>\n",
       "      <td>...</td>\n",
       "      <td>...</td>\n",
       "      <td>...</td>\n",
       "      <td>...</td>\n",
       "      <td>...</td>\n",
       "      <td>...</td>\n",
       "      <td>...</td>\n",
       "      <td>...</td>\n",
       "    </tr>\n",
       "    <tr>\n",
       "      <th>16710</th>\n",
       "      <td>Samurai Warriors: Sanada Maru</td>\n",
       "      <td>PS3</td>\n",
       "      <td>2016.0</td>\n",
       "      <td>Action</td>\n",
       "      <td>0.00</td>\n",
       "      <td>0.00</td>\n",
       "      <td>0.01</td>\n",
       "      <td>0.00</td>\n",
       "      <td>NaN</td>\n",
       "      <td>NaN</td>\n",
       "      <td>NaN</td>\n",
       "    </tr>\n",
       "    <tr>\n",
       "      <th>16711</th>\n",
       "      <td>LMA Manager 2007</td>\n",
       "      <td>X360</td>\n",
       "      <td>2006.0</td>\n",
       "      <td>Sports</td>\n",
       "      <td>0.00</td>\n",
       "      <td>0.01</td>\n",
       "      <td>0.00</td>\n",
       "      <td>0.00</td>\n",
       "      <td>NaN</td>\n",
       "      <td>NaN</td>\n",
       "      <td>NaN</td>\n",
       "    </tr>\n",
       "    <tr>\n",
       "      <th>16712</th>\n",
       "      <td>Haitaka no Psychedelica</td>\n",
       "      <td>PSV</td>\n",
       "      <td>2016.0</td>\n",
       "      <td>Adventure</td>\n",
       "      <td>0.00</td>\n",
       "      <td>0.00</td>\n",
       "      <td>0.01</td>\n",
       "      <td>0.00</td>\n",
       "      <td>NaN</td>\n",
       "      <td>NaN</td>\n",
       "      <td>NaN</td>\n",
       "    </tr>\n",
       "    <tr>\n",
       "      <th>16713</th>\n",
       "      <td>Spirits &amp; Spells</td>\n",
       "      <td>GBA</td>\n",
       "      <td>2003.0</td>\n",
       "      <td>Platform</td>\n",
       "      <td>0.01</td>\n",
       "      <td>0.00</td>\n",
       "      <td>0.00</td>\n",
       "      <td>0.00</td>\n",
       "      <td>NaN</td>\n",
       "      <td>NaN</td>\n",
       "      <td>NaN</td>\n",
       "    </tr>\n",
       "    <tr>\n",
       "      <th>16714</th>\n",
       "      <td>Winning Post 8 2016</td>\n",
       "      <td>PSV</td>\n",
       "      <td>2016.0</td>\n",
       "      <td>Simulation</td>\n",
       "      <td>0.00</td>\n",
       "      <td>0.00</td>\n",
       "      <td>0.01</td>\n",
       "      <td>0.00</td>\n",
       "      <td>NaN</td>\n",
       "      <td>NaN</td>\n",
       "      <td>NaN</td>\n",
       "    </tr>\n",
       "  </tbody>\n",
       "</table>\n",
       "<p>16715 rows × 11 columns</p>\n",
       "</div>"
      ],
      "text/plain": [
       "                                name platform  year_of_release         genre  \\\n",
       "0                         Wii Sports      Wii           2006.0        Sports   \n",
       "1                  Super Mario Bros.      NES           1985.0      Platform   \n",
       "2                     Mario Kart Wii      Wii           2008.0        Racing   \n",
       "3                  Wii Sports Resort      Wii           2009.0        Sports   \n",
       "4           Pokemon Red/Pokemon Blue       GB           1996.0  Role-Playing   \n",
       "...                              ...      ...              ...           ...   \n",
       "16710  Samurai Warriors: Sanada Maru      PS3           2016.0        Action   \n",
       "16711               LMA Manager 2007     X360           2006.0        Sports   \n",
       "16712        Haitaka no Psychedelica      PSV           2016.0     Adventure   \n",
       "16713               Spirits & Spells      GBA           2003.0      Platform   \n",
       "16714            Winning Post 8 2016      PSV           2016.0    Simulation   \n",
       "\n",
       "       na_sales  eu_sales  jp_sales  other_sales  critic_score user_score  \\\n",
       "0         41.36     28.96      3.77         8.45          76.0          8   \n",
       "1         29.08      3.58      6.81         0.77           NaN        NaN   \n",
       "2         15.68     12.76      3.79         3.29          82.0        8.3   \n",
       "3         15.61     10.93      3.28         2.95          80.0          8   \n",
       "4         11.27      8.89     10.22         1.00           NaN        NaN   \n",
       "...         ...       ...       ...          ...           ...        ...   \n",
       "16710      0.00      0.00      0.01         0.00           NaN        NaN   \n",
       "16711      0.00      0.01      0.00         0.00           NaN        NaN   \n",
       "16712      0.00      0.00      0.01         0.00           NaN        NaN   \n",
       "16713      0.01      0.00      0.00         0.00           NaN        NaN   \n",
       "16714      0.00      0.00      0.01         0.00           NaN        NaN   \n",
       "\n",
       "      rating  \n",
       "0          E  \n",
       "1        NaN  \n",
       "2          E  \n",
       "3          E  \n",
       "4        NaN  \n",
       "...      ...  \n",
       "16710    NaN  \n",
       "16711    NaN  \n",
       "16712    NaN  \n",
       "16713    NaN  \n",
       "16714    NaN  \n",
       "\n",
       "[16715 rows x 11 columns]"
      ]
     },
     "execution_count": 15,
     "metadata": {},
     "output_type": "execute_result"
    }
   ],
   "source": [
    "data"
   ]
  },
  {
   "cell_type": "markdown",
   "metadata": {},
   "source": [
    "*2.2. Преобразуем в тип данных int столбец year_of_release, что бы годы преобразовались в цлые числа.*"
   ]
  },
  {
   "cell_type": "code",
   "execution_count": 16,
   "metadata": {},
   "outputs": [],
   "source": [
    "data['year_of_release'] = data['year_of_release'].astype('Int64')"
   ]
  },
  {
   "cell_type": "code",
   "execution_count": 17,
   "metadata": {},
   "outputs": [
    {
     "data": {
      "text/html": [
       "<div>\n",
       "<style scoped>\n",
       "    .dataframe tbody tr th:only-of-type {\n",
       "        vertical-align: middle;\n",
       "    }\n",
       "\n",
       "    .dataframe tbody tr th {\n",
       "        vertical-align: top;\n",
       "    }\n",
       "\n",
       "    .dataframe thead th {\n",
       "        text-align: right;\n",
       "    }\n",
       "</style>\n",
       "<table border=\"1\" class=\"dataframe\">\n",
       "  <thead>\n",
       "    <tr style=\"text-align: right;\">\n",
       "      <th></th>\n",
       "      <th>name</th>\n",
       "      <th>platform</th>\n",
       "      <th>year_of_release</th>\n",
       "      <th>genre</th>\n",
       "      <th>na_sales</th>\n",
       "      <th>eu_sales</th>\n",
       "      <th>jp_sales</th>\n",
       "      <th>other_sales</th>\n",
       "      <th>critic_score</th>\n",
       "      <th>user_score</th>\n",
       "      <th>rating</th>\n",
       "    </tr>\n",
       "  </thead>\n",
       "  <tbody>\n",
       "    <tr>\n",
       "      <th>0</th>\n",
       "      <td>Wii Sports</td>\n",
       "      <td>Wii</td>\n",
       "      <td>2006</td>\n",
       "      <td>Sports</td>\n",
       "      <td>41.36</td>\n",
       "      <td>28.96</td>\n",
       "      <td>3.77</td>\n",
       "      <td>8.45</td>\n",
       "      <td>76.0</td>\n",
       "      <td>8</td>\n",
       "      <td>E</td>\n",
       "    </tr>\n",
       "    <tr>\n",
       "      <th>1</th>\n",
       "      <td>Super Mario Bros.</td>\n",
       "      <td>NES</td>\n",
       "      <td>1985</td>\n",
       "      <td>Platform</td>\n",
       "      <td>29.08</td>\n",
       "      <td>3.58</td>\n",
       "      <td>6.81</td>\n",
       "      <td>0.77</td>\n",
       "      <td>NaN</td>\n",
       "      <td>NaN</td>\n",
       "      <td>NaN</td>\n",
       "    </tr>\n",
       "    <tr>\n",
       "      <th>2</th>\n",
       "      <td>Mario Kart Wii</td>\n",
       "      <td>Wii</td>\n",
       "      <td>2008</td>\n",
       "      <td>Racing</td>\n",
       "      <td>15.68</td>\n",
       "      <td>12.76</td>\n",
       "      <td>3.79</td>\n",
       "      <td>3.29</td>\n",
       "      <td>82.0</td>\n",
       "      <td>8.3</td>\n",
       "      <td>E</td>\n",
       "    </tr>\n",
       "    <tr>\n",
       "      <th>3</th>\n",
       "      <td>Wii Sports Resort</td>\n",
       "      <td>Wii</td>\n",
       "      <td>2009</td>\n",
       "      <td>Sports</td>\n",
       "      <td>15.61</td>\n",
       "      <td>10.93</td>\n",
       "      <td>3.28</td>\n",
       "      <td>2.95</td>\n",
       "      <td>80.0</td>\n",
       "      <td>8</td>\n",
       "      <td>E</td>\n",
       "    </tr>\n",
       "    <tr>\n",
       "      <th>4</th>\n",
       "      <td>Pokemon Red/Pokemon Blue</td>\n",
       "      <td>GB</td>\n",
       "      <td>1996</td>\n",
       "      <td>Role-Playing</td>\n",
       "      <td>11.27</td>\n",
       "      <td>8.89</td>\n",
       "      <td>10.22</td>\n",
       "      <td>1.00</td>\n",
       "      <td>NaN</td>\n",
       "      <td>NaN</td>\n",
       "      <td>NaN</td>\n",
       "    </tr>\n",
       "    <tr>\n",
       "      <th>...</th>\n",
       "      <td>...</td>\n",
       "      <td>...</td>\n",
       "      <td>...</td>\n",
       "      <td>...</td>\n",
       "      <td>...</td>\n",
       "      <td>...</td>\n",
       "      <td>...</td>\n",
       "      <td>...</td>\n",
       "      <td>...</td>\n",
       "      <td>...</td>\n",
       "      <td>...</td>\n",
       "    </tr>\n",
       "    <tr>\n",
       "      <th>16710</th>\n",
       "      <td>Samurai Warriors: Sanada Maru</td>\n",
       "      <td>PS3</td>\n",
       "      <td>2016</td>\n",
       "      <td>Action</td>\n",
       "      <td>0.00</td>\n",
       "      <td>0.00</td>\n",
       "      <td>0.01</td>\n",
       "      <td>0.00</td>\n",
       "      <td>NaN</td>\n",
       "      <td>NaN</td>\n",
       "      <td>NaN</td>\n",
       "    </tr>\n",
       "    <tr>\n",
       "      <th>16711</th>\n",
       "      <td>LMA Manager 2007</td>\n",
       "      <td>X360</td>\n",
       "      <td>2006</td>\n",
       "      <td>Sports</td>\n",
       "      <td>0.00</td>\n",
       "      <td>0.01</td>\n",
       "      <td>0.00</td>\n",
       "      <td>0.00</td>\n",
       "      <td>NaN</td>\n",
       "      <td>NaN</td>\n",
       "      <td>NaN</td>\n",
       "    </tr>\n",
       "    <tr>\n",
       "      <th>16712</th>\n",
       "      <td>Haitaka no Psychedelica</td>\n",
       "      <td>PSV</td>\n",
       "      <td>2016</td>\n",
       "      <td>Adventure</td>\n",
       "      <td>0.00</td>\n",
       "      <td>0.00</td>\n",
       "      <td>0.01</td>\n",
       "      <td>0.00</td>\n",
       "      <td>NaN</td>\n",
       "      <td>NaN</td>\n",
       "      <td>NaN</td>\n",
       "    </tr>\n",
       "    <tr>\n",
       "      <th>16713</th>\n",
       "      <td>Spirits &amp; Spells</td>\n",
       "      <td>GBA</td>\n",
       "      <td>2003</td>\n",
       "      <td>Platform</td>\n",
       "      <td>0.01</td>\n",
       "      <td>0.00</td>\n",
       "      <td>0.00</td>\n",
       "      <td>0.00</td>\n",
       "      <td>NaN</td>\n",
       "      <td>NaN</td>\n",
       "      <td>NaN</td>\n",
       "    </tr>\n",
       "    <tr>\n",
       "      <th>16714</th>\n",
       "      <td>Winning Post 8 2016</td>\n",
       "      <td>PSV</td>\n",
       "      <td>2016</td>\n",
       "      <td>Simulation</td>\n",
       "      <td>0.00</td>\n",
       "      <td>0.00</td>\n",
       "      <td>0.01</td>\n",
       "      <td>0.00</td>\n",
       "      <td>NaN</td>\n",
       "      <td>NaN</td>\n",
       "      <td>NaN</td>\n",
       "    </tr>\n",
       "  </tbody>\n",
       "</table>\n",
       "<p>16715 rows × 11 columns</p>\n",
       "</div>"
      ],
      "text/plain": [
       "                                name platform  year_of_release         genre  \\\n",
       "0                         Wii Sports      Wii             2006        Sports   \n",
       "1                  Super Mario Bros.      NES             1985      Platform   \n",
       "2                     Mario Kart Wii      Wii             2008        Racing   \n",
       "3                  Wii Sports Resort      Wii             2009        Sports   \n",
       "4           Pokemon Red/Pokemon Blue       GB             1996  Role-Playing   \n",
       "...                              ...      ...              ...           ...   \n",
       "16710  Samurai Warriors: Sanada Maru      PS3             2016        Action   \n",
       "16711               LMA Manager 2007     X360             2006        Sports   \n",
       "16712        Haitaka no Psychedelica      PSV             2016     Adventure   \n",
       "16713               Spirits & Spells      GBA             2003      Platform   \n",
       "16714            Winning Post 8 2016      PSV             2016    Simulation   \n",
       "\n",
       "       na_sales  eu_sales  jp_sales  other_sales  critic_score user_score  \\\n",
       "0         41.36     28.96      3.77         8.45          76.0          8   \n",
       "1         29.08      3.58      6.81         0.77           NaN        NaN   \n",
       "2         15.68     12.76      3.79         3.29          82.0        8.3   \n",
       "3         15.61     10.93      3.28         2.95          80.0          8   \n",
       "4         11.27      8.89     10.22         1.00           NaN        NaN   \n",
       "...         ...       ...       ...          ...           ...        ...   \n",
       "16710      0.00      0.00      0.01         0.00           NaN        NaN   \n",
       "16711      0.00      0.01      0.00         0.00           NaN        NaN   \n",
       "16712      0.00      0.00      0.01         0.00           NaN        NaN   \n",
       "16713      0.01      0.00      0.00         0.00           NaN        NaN   \n",
       "16714      0.00      0.00      0.01         0.00           NaN        NaN   \n",
       "\n",
       "      rating  \n",
       "0          E  \n",
       "1        NaN  \n",
       "2          E  \n",
       "3          E  \n",
       "4        NaN  \n",
       "...      ...  \n",
       "16710    NaN  \n",
       "16711    NaN  \n",
       "16712    NaN  \n",
       "16713    NaN  \n",
       "16714    NaN  \n",
       "\n",
       "[16715 rows x 11 columns]"
      ]
     },
     "execution_count": 17,
     "metadata": {},
     "output_type": "execute_result"
    }
   ],
   "source": [
    "data"
   ]
  },
  {
   "cell_type": "markdown",
   "metadata": {},
   "source": [
    "*2.3.В столбце year_of_release пропущенные значения возьмем из названия игр.*"
   ]
  },
  {
   "cell_type": "code",
   "execution_count": 18,
   "metadata": {},
   "outputs": [],
   "source": [
    "for i in data[data['year_of_release'].isnull() == True].index:  \n",
    "    data['year_of_release'][i] = data.loc[data['name'] == data['name'][i], 'year_of_release'].max()"
   ]
  },
  {
   "cell_type": "code",
   "execution_count": 19,
   "metadata": {},
   "outputs": [
    {
     "data": {
      "text/html": [
       "<div>\n",
       "<style scoped>\n",
       "    .dataframe tbody tr th:only-of-type {\n",
       "        vertical-align: middle;\n",
       "    }\n",
       "\n",
       "    .dataframe tbody tr th {\n",
       "        vertical-align: top;\n",
       "    }\n",
       "\n",
       "    .dataframe thead th {\n",
       "        text-align: right;\n",
       "    }\n",
       "</style>\n",
       "<table border=\"1\" class=\"dataframe\">\n",
       "  <thead>\n",
       "    <tr style=\"text-align: right;\">\n",
       "      <th></th>\n",
       "      <th>name</th>\n",
       "      <th>platform</th>\n",
       "      <th>year_of_release</th>\n",
       "      <th>genre</th>\n",
       "      <th>na_sales</th>\n",
       "      <th>eu_sales</th>\n",
       "      <th>jp_sales</th>\n",
       "      <th>other_sales</th>\n",
       "      <th>critic_score</th>\n",
       "      <th>user_score</th>\n",
       "      <th>rating</th>\n",
       "    </tr>\n",
       "  </thead>\n",
       "  <tbody>\n",
       "    <tr>\n",
       "      <th>14158</th>\n",
       "      <td>Marines: Modern Urban Combat</td>\n",
       "      <td>Wii</td>\n",
       "      <td>2010</td>\n",
       "      <td>Shooter</td>\n",
       "      <td>0.03</td>\n",
       "      <td>0.00</td>\n",
       "      <td>0.00</td>\n",
       "      <td>0.00</td>\n",
       "      <td>NaN</td>\n",
       "      <td>tbd</td>\n",
       "      <td>T</td>\n",
       "    </tr>\n",
       "    <tr>\n",
       "      <th>3793</th>\n",
       "      <td>ModNation Racers</td>\n",
       "      <td>PSP</td>\n",
       "      <td>2010</td>\n",
       "      <td>Racing</td>\n",
       "      <td>0.11</td>\n",
       "      <td>0.26</td>\n",
       "      <td>0.02</td>\n",
       "      <td>0.14</td>\n",
       "      <td>73.0</td>\n",
       "      <td>7.7</td>\n",
       "      <td>E</td>\n",
       "    </tr>\n",
       "    <tr>\n",
       "      <th>5403</th>\n",
       "      <td>Disney Infinity 3.0</td>\n",
       "      <td>XOne</td>\n",
       "      <td>2015</td>\n",
       "      <td>Action</td>\n",
       "      <td>0.20</td>\n",
       "      <td>0.11</td>\n",
       "      <td>0.00</td>\n",
       "      <td>0.03</td>\n",
       "      <td>NaN</td>\n",
       "      <td>NaN</td>\n",
       "      <td>NaN</td>\n",
       "    </tr>\n",
       "    <tr>\n",
       "      <th>16302</th>\n",
       "      <td>Duel Love: Koisuru Otome wa Shouri no Megami</td>\n",
       "      <td>DS</td>\n",
       "      <td>2008</td>\n",
       "      <td>Adventure</td>\n",
       "      <td>0.00</td>\n",
       "      <td>0.00</td>\n",
       "      <td>0.01</td>\n",
       "      <td>0.00</td>\n",
       "      <td>NaN</td>\n",
       "      <td>NaN</td>\n",
       "      <td>NaN</td>\n",
       "    </tr>\n",
       "    <tr>\n",
       "      <th>14641</th>\n",
       "      <td>Hissatsu Pachinko Collection 3</td>\n",
       "      <td>SNES</td>\n",
       "      <td>1995</td>\n",
       "      <td>Misc</td>\n",
       "      <td>0.00</td>\n",
       "      <td>0.00</td>\n",
       "      <td>0.03</td>\n",
       "      <td>0.00</td>\n",
       "      <td>NaN</td>\n",
       "      <td>NaN</td>\n",
       "      <td>NaN</td>\n",
       "    </tr>\n",
       "    <tr>\n",
       "      <th>14672</th>\n",
       "      <td>Triple Pack: Xbox Live Arcade Compilation</td>\n",
       "      <td>X360</td>\n",
       "      <td>2011</td>\n",
       "      <td>Misc</td>\n",
       "      <td>0.03</td>\n",
       "      <td>0.00</td>\n",
       "      <td>0.00</td>\n",
       "      <td>0.00</td>\n",
       "      <td>NaN</td>\n",
       "      <td>tbd</td>\n",
       "      <td>T</td>\n",
       "    </tr>\n",
       "    <tr>\n",
       "      <th>16682</th>\n",
       "      <td>Grisaia no Kajitsu: La Fruit de la Grisaia</td>\n",
       "      <td>PSP</td>\n",
       "      <td>2013</td>\n",
       "      <td>Adventure</td>\n",
       "      <td>0.00</td>\n",
       "      <td>0.00</td>\n",
       "      <td>0.01</td>\n",
       "      <td>0.00</td>\n",
       "      <td>NaN</td>\n",
       "      <td>NaN</td>\n",
       "      <td>NaN</td>\n",
       "    </tr>\n",
       "    <tr>\n",
       "      <th>3574</th>\n",
       "      <td>Petz Dogz 2</td>\n",
       "      <td>PS2</td>\n",
       "      <td>2007</td>\n",
       "      <td>Simulation</td>\n",
       "      <td>0.28</td>\n",
       "      <td>0.21</td>\n",
       "      <td>0.00</td>\n",
       "      <td>0.07</td>\n",
       "      <td>NaN</td>\n",
       "      <td>tbd</td>\n",
       "      <td>E</td>\n",
       "    </tr>\n",
       "    <tr>\n",
       "      <th>16662</th>\n",
       "      <td>Hakuoki: Reimeiroku - Omouhase Kara</td>\n",
       "      <td>PSV</td>\n",
       "      <td>2015</td>\n",
       "      <td>Action</td>\n",
       "      <td>0.00</td>\n",
       "      <td>0.00</td>\n",
       "      <td>0.01</td>\n",
       "      <td>0.00</td>\n",
       "      <td>NaN</td>\n",
       "      <td>NaN</td>\n",
       "      <td>NaN</td>\n",
       "    </tr>\n",
       "    <tr>\n",
       "      <th>11514</th>\n",
       "      <td>Captain Tsubasa: New Kick Off</td>\n",
       "      <td>DS</td>\n",
       "      <td>2010</td>\n",
       "      <td>Sports</td>\n",
       "      <td>0.00</td>\n",
       "      <td>0.02</td>\n",
       "      <td>0.06</td>\n",
       "      <td>0.00</td>\n",
       "      <td>NaN</td>\n",
       "      <td>NaN</td>\n",
       "      <td>NaN</td>\n",
       "    </tr>\n",
       "    <tr>\n",
       "      <th>13625</th>\n",
       "      <td>Kids Learn Music A+ Edition</td>\n",
       "      <td>DS</td>\n",
       "      <td>2011</td>\n",
       "      <td>Misc</td>\n",
       "      <td>0.04</td>\n",
       "      <td>0.00</td>\n",
       "      <td>0.00</td>\n",
       "      <td>0.00</td>\n",
       "      <td>NaN</td>\n",
       "      <td>NaN</td>\n",
       "      <td>NaN</td>\n",
       "    </tr>\n",
       "    <tr>\n",
       "      <th>185</th>\n",
       "      <td>New Super Mario Bros. U</td>\n",
       "      <td>WiiU</td>\n",
       "      <td>2012</td>\n",
       "      <td>Platform</td>\n",
       "      <td>2.30</td>\n",
       "      <td>1.34</td>\n",
       "      <td>1.27</td>\n",
       "      <td>0.32</td>\n",
       "      <td>84.0</td>\n",
       "      <td>8.1</td>\n",
       "      <td>E</td>\n",
       "    </tr>\n",
       "    <tr>\n",
       "      <th>11105</th>\n",
       "      <td>Clockwork Knight</td>\n",
       "      <td>SAT</td>\n",
       "      <td>1994</td>\n",
       "      <td>Platform</td>\n",
       "      <td>0.00</td>\n",
       "      <td>0.00</td>\n",
       "      <td>0.09</td>\n",
       "      <td>0.00</td>\n",
       "      <td>NaN</td>\n",
       "      <td>NaN</td>\n",
       "      <td>NaN</td>\n",
       "    </tr>\n",
       "    <tr>\n",
       "      <th>14910</th>\n",
       "      <td>Harvest Moon: Skytree Village</td>\n",
       "      <td>3DS</td>\n",
       "      <td>2016</td>\n",
       "      <td>Simulation</td>\n",
       "      <td>0.02</td>\n",
       "      <td>0.00</td>\n",
       "      <td>0.00</td>\n",
       "      <td>0.00</td>\n",
       "      <td>NaN</td>\n",
       "      <td>7.4</td>\n",
       "      <td>E</td>\n",
       "    </tr>\n",
       "    <tr>\n",
       "      <th>4181</th>\n",
       "      <td>Emergency Heroes</td>\n",
       "      <td>Wii</td>\n",
       "      <td>2008</td>\n",
       "      <td>Racing</td>\n",
       "      <td>0.14</td>\n",
       "      <td>0.27</td>\n",
       "      <td>0.00</td>\n",
       "      <td>0.05</td>\n",
       "      <td>41.0</td>\n",
       "      <td>4.2</td>\n",
       "      <td>E10+</td>\n",
       "    </tr>\n",
       "  </tbody>\n",
       "</table>\n",
       "</div>"
      ],
      "text/plain": [
       "                                               name platform  year_of_release  \\\n",
       "14158                  Marines: Modern Urban Combat      Wii             2010   \n",
       "3793                               ModNation Racers      PSP             2010   \n",
       "5403                            Disney Infinity 3.0     XOne             2015   \n",
       "16302  Duel Love: Koisuru Otome wa Shouri no Megami       DS             2008   \n",
       "14641                Hissatsu Pachinko Collection 3     SNES             1995   \n",
       "14672     Triple Pack: Xbox Live Arcade Compilation     X360             2011   \n",
       "16682    Grisaia no Kajitsu: La Fruit de la Grisaia      PSP             2013   \n",
       "3574                                    Petz Dogz 2      PS2             2007   \n",
       "16662           Hakuoki: Reimeiroku - Omouhase Kara      PSV             2015   \n",
       "11514                 Captain Tsubasa: New Kick Off       DS             2010   \n",
       "13625                   Kids Learn Music A+ Edition       DS             2011   \n",
       "185                         New Super Mario Bros. U     WiiU             2012   \n",
       "11105                              Clockwork Knight      SAT             1994   \n",
       "14910                 Harvest Moon: Skytree Village      3DS             2016   \n",
       "4181                               Emergency Heroes      Wii             2008   \n",
       "\n",
       "            genre  na_sales  eu_sales  jp_sales  other_sales  critic_score  \\\n",
       "14158     Shooter      0.03      0.00      0.00         0.00           NaN   \n",
       "3793       Racing      0.11      0.26      0.02         0.14          73.0   \n",
       "5403       Action      0.20      0.11      0.00         0.03           NaN   \n",
       "16302   Adventure      0.00      0.00      0.01         0.00           NaN   \n",
       "14641        Misc      0.00      0.00      0.03         0.00           NaN   \n",
       "14672        Misc      0.03      0.00      0.00         0.00           NaN   \n",
       "16682   Adventure      0.00      0.00      0.01         0.00           NaN   \n",
       "3574   Simulation      0.28      0.21      0.00         0.07           NaN   \n",
       "16662      Action      0.00      0.00      0.01         0.00           NaN   \n",
       "11514      Sports      0.00      0.02      0.06         0.00           NaN   \n",
       "13625        Misc      0.04      0.00      0.00         0.00           NaN   \n",
       "185      Platform      2.30      1.34      1.27         0.32          84.0   \n",
       "11105    Platform      0.00      0.00      0.09         0.00           NaN   \n",
       "14910  Simulation      0.02      0.00      0.00         0.00           NaN   \n",
       "4181       Racing      0.14      0.27      0.00         0.05          41.0   \n",
       "\n",
       "      user_score rating  \n",
       "14158        tbd      T  \n",
       "3793         7.7      E  \n",
       "5403         NaN    NaN  \n",
       "16302        NaN    NaN  \n",
       "14641        NaN    NaN  \n",
       "14672        tbd      T  \n",
       "16682        NaN    NaN  \n",
       "3574         tbd      E  \n",
       "16662        NaN    NaN  \n",
       "11514        NaN    NaN  \n",
       "13625        NaN    NaN  \n",
       "185          8.1      E  \n",
       "11105        NaN    NaN  \n",
       "14910        7.4      E  \n",
       "4181         4.2   E10+  "
      ]
     },
     "execution_count": 19,
     "metadata": {},
     "output_type": "execute_result"
    }
   ],
   "source": [
    "data.sample(15)"
   ]
  },
  {
   "cell_type": "markdown",
   "metadata": {},
   "source": [
    "*Посмотрим сколько у нас осталось пропущенных значний в столбце year_of_release.*"
   ]
  },
  {
   "cell_type": "code",
   "execution_count": 20,
   "metadata": {},
   "outputs": [
    {
     "data": {
      "text/html": [
       "<div>\n",
       "<style scoped>\n",
       "    .dataframe tbody tr th:only-of-type {\n",
       "        vertical-align: middle;\n",
       "    }\n",
       "\n",
       "    .dataframe tbody tr th {\n",
       "        vertical-align: top;\n",
       "    }\n",
       "\n",
       "    .dataframe thead th {\n",
       "        text-align: right;\n",
       "    }\n",
       "</style>\n",
       "<table border=\"1\" class=\"dataframe\">\n",
       "  <thead>\n",
       "    <tr style=\"text-align: right;\">\n",
       "      <th></th>\n",
       "      <th>name</th>\n",
       "      <th>platform</th>\n",
       "      <th>year_of_release</th>\n",
       "      <th>genre</th>\n",
       "      <th>na_sales</th>\n",
       "      <th>eu_sales</th>\n",
       "      <th>jp_sales</th>\n",
       "      <th>other_sales</th>\n",
       "      <th>critic_score</th>\n",
       "      <th>user_score</th>\n",
       "      <th>rating</th>\n",
       "    </tr>\n",
       "  </thead>\n",
       "  <tbody>\n",
       "    <tr>\n",
       "      <th>475</th>\n",
       "      <td>wwe Smackdown vs. Raw 2006</td>\n",
       "      <td>PS2</td>\n",
       "      <td>&lt;NA&gt;</td>\n",
       "      <td>Fighting</td>\n",
       "      <td>1.57</td>\n",
       "      <td>1.02</td>\n",
       "      <td>0.00</td>\n",
       "      <td>0.41</td>\n",
       "      <td>NaN</td>\n",
       "      <td>NaN</td>\n",
       "      <td>NaN</td>\n",
       "    </tr>\n",
       "    <tr>\n",
       "      <th>627</th>\n",
       "      <td>Rock Band</td>\n",
       "      <td>X360</td>\n",
       "      <td>&lt;NA&gt;</td>\n",
       "      <td>Misc</td>\n",
       "      <td>1.93</td>\n",
       "      <td>0.33</td>\n",
       "      <td>0.00</td>\n",
       "      <td>0.21</td>\n",
       "      <td>92.0</td>\n",
       "      <td>8.2</td>\n",
       "      <td>T</td>\n",
       "    </tr>\n",
       "    <tr>\n",
       "      <th>657</th>\n",
       "      <td>Frogger's Adventures: Temple of the Frog</td>\n",
       "      <td>GBA</td>\n",
       "      <td>&lt;NA&gt;</td>\n",
       "      <td>Adventure</td>\n",
       "      <td>2.15</td>\n",
       "      <td>0.18</td>\n",
       "      <td>0.00</td>\n",
       "      <td>0.07</td>\n",
       "      <td>73.0</td>\n",
       "      <td>tbd</td>\n",
       "      <td>E</td>\n",
       "    </tr>\n",
       "    <tr>\n",
       "      <th>805</th>\n",
       "      <td>Rock Band</td>\n",
       "      <td>Wii</td>\n",
       "      <td>&lt;NA&gt;</td>\n",
       "      <td>Misc</td>\n",
       "      <td>1.33</td>\n",
       "      <td>0.56</td>\n",
       "      <td>0.00</td>\n",
       "      <td>0.20</td>\n",
       "      <td>80.0</td>\n",
       "      <td>6.3</td>\n",
       "      <td>T</td>\n",
       "    </tr>\n",
       "    <tr>\n",
       "      <th>1142</th>\n",
       "      <td>Rock Band</td>\n",
       "      <td>PS3</td>\n",
       "      <td>&lt;NA&gt;</td>\n",
       "      <td>Misc</td>\n",
       "      <td>0.99</td>\n",
       "      <td>0.41</td>\n",
       "      <td>0.00</td>\n",
       "      <td>0.22</td>\n",
       "      <td>92.0</td>\n",
       "      <td>8.4</td>\n",
       "      <td>T</td>\n",
       "    </tr>\n",
       "    <tr>\n",
       "      <th>...</th>\n",
       "      <td>...</td>\n",
       "      <td>...</td>\n",
       "      <td>...</td>\n",
       "      <td>...</td>\n",
       "      <td>...</td>\n",
       "      <td>...</td>\n",
       "      <td>...</td>\n",
       "      <td>...</td>\n",
       "      <td>...</td>\n",
       "      <td>...</td>\n",
       "      <td>...</td>\n",
       "    </tr>\n",
       "    <tr>\n",
       "      <th>16277</th>\n",
       "      <td>Homeworld Remastered Collection</td>\n",
       "      <td>PC</td>\n",
       "      <td>&lt;NA&gt;</td>\n",
       "      <td>Strategy</td>\n",
       "      <td>0.00</td>\n",
       "      <td>0.01</td>\n",
       "      <td>0.00</td>\n",
       "      <td>0.00</td>\n",
       "      <td>86.0</td>\n",
       "      <td>8.2</td>\n",
       "      <td>E10+</td>\n",
       "    </tr>\n",
       "    <tr>\n",
       "      <th>16288</th>\n",
       "      <td>Shorts</td>\n",
       "      <td>DS</td>\n",
       "      <td>&lt;NA&gt;</td>\n",
       "      <td>Platform</td>\n",
       "      <td>0.01</td>\n",
       "      <td>0.00</td>\n",
       "      <td>0.00</td>\n",
       "      <td>0.00</td>\n",
       "      <td>NaN</td>\n",
       "      <td>tbd</td>\n",
       "      <td>E10+</td>\n",
       "    </tr>\n",
       "    <tr>\n",
       "      <th>16348</th>\n",
       "      <td>Agarest Senki: Re-appearance</td>\n",
       "      <td>PS3</td>\n",
       "      <td>&lt;NA&gt;</td>\n",
       "      <td>Role-Playing</td>\n",
       "      <td>0.00</td>\n",
       "      <td>0.00</td>\n",
       "      <td>0.01</td>\n",
       "      <td>0.00</td>\n",
       "      <td>NaN</td>\n",
       "      <td>NaN</td>\n",
       "      <td>NaN</td>\n",
       "    </tr>\n",
       "    <tr>\n",
       "      <th>16458</th>\n",
       "      <td>Hakuouki: Shinsengumi Kitan</td>\n",
       "      <td>PS3</td>\n",
       "      <td>&lt;NA&gt;</td>\n",
       "      <td>Adventure</td>\n",
       "      <td>0.01</td>\n",
       "      <td>0.00</td>\n",
       "      <td>0.00</td>\n",
       "      <td>0.00</td>\n",
       "      <td>NaN</td>\n",
       "      <td>NaN</td>\n",
       "      <td>NaN</td>\n",
       "    </tr>\n",
       "    <tr>\n",
       "      <th>16522</th>\n",
       "      <td>Virtua Quest</td>\n",
       "      <td>GC</td>\n",
       "      <td>&lt;NA&gt;</td>\n",
       "      <td>Role-Playing</td>\n",
       "      <td>0.01</td>\n",
       "      <td>0.00</td>\n",
       "      <td>0.00</td>\n",
       "      <td>0.00</td>\n",
       "      <td>55.0</td>\n",
       "      <td>5.5</td>\n",
       "      <td>T</td>\n",
       "    </tr>\n",
       "  </tbody>\n",
       "</table>\n",
       "<p>146 rows × 11 columns</p>\n",
       "</div>"
      ],
      "text/plain": [
       "                                           name platform  year_of_release  \\\n",
       "475                  wwe Smackdown vs. Raw 2006      PS2             <NA>   \n",
       "627                                   Rock Band     X360             <NA>   \n",
       "657    Frogger's Adventures: Temple of the Frog      GBA             <NA>   \n",
       "805                                   Rock Band      Wii             <NA>   \n",
       "1142                                  Rock Band      PS3             <NA>   \n",
       "...                                         ...      ...              ...   \n",
       "16277           Homeworld Remastered Collection       PC             <NA>   \n",
       "16288                                    Shorts       DS             <NA>   \n",
       "16348              Agarest Senki: Re-appearance      PS3             <NA>   \n",
       "16458               Hakuouki: Shinsengumi Kitan      PS3             <NA>   \n",
       "16522                              Virtua Quest       GC             <NA>   \n",
       "\n",
       "              genre  na_sales  eu_sales  jp_sales  other_sales  critic_score  \\\n",
       "475        Fighting      1.57      1.02      0.00         0.41           NaN   \n",
       "627            Misc      1.93      0.33      0.00         0.21          92.0   \n",
       "657       Adventure      2.15      0.18      0.00         0.07          73.0   \n",
       "805            Misc      1.33      0.56      0.00         0.20          80.0   \n",
       "1142           Misc      0.99      0.41      0.00         0.22          92.0   \n",
       "...             ...       ...       ...       ...          ...           ...   \n",
       "16277      Strategy      0.00      0.01      0.00         0.00          86.0   \n",
       "16288      Platform      0.01      0.00      0.00         0.00           NaN   \n",
       "16348  Role-Playing      0.00      0.00      0.01         0.00           NaN   \n",
       "16458     Adventure      0.01      0.00      0.00         0.00           NaN   \n",
       "16522  Role-Playing      0.01      0.00      0.00         0.00          55.0   \n",
       "\n",
       "      user_score rating  \n",
       "475          NaN    NaN  \n",
       "627          8.2      T  \n",
       "657          tbd      E  \n",
       "805          6.3      T  \n",
       "1142         8.4      T  \n",
       "...          ...    ...  \n",
       "16277        8.2   E10+  \n",
       "16288        tbd   E10+  \n",
       "16348        NaN    NaN  \n",
       "16458        NaN    NaN  \n",
       "16522        5.5      T  \n",
       "\n",
       "[146 rows x 11 columns]"
      ]
     },
     "execution_count": 20,
     "metadata": {},
     "output_type": "execute_result"
    }
   ],
   "source": [
    "data[data['year_of_release'].isna()]"
   ]
  },
  {
   "cell_type": "markdown",
   "metadata": {},
   "source": [
    "*2.4. Удалим пропущенные значения.* "
   ]
  },
  {
   "cell_type": "code",
   "execution_count": 21,
   "metadata": {},
   "outputs": [],
   "source": [
    "data.dropna(subset=['name'],inplace=True)"
   ]
  },
  {
   "cell_type": "code",
   "execution_count": 22,
   "metadata": {},
   "outputs": [
    {
     "data": {
      "text/plain": [
       "name                  0\n",
       "platform              0\n",
       "year_of_release     146\n",
       "genre                 0\n",
       "na_sales              0\n",
       "eu_sales              0\n",
       "jp_sales              0\n",
       "other_sales           0\n",
       "critic_score       8576\n",
       "user_score         6699\n",
       "rating             6764\n",
       "dtype: int64"
      ]
     },
     "execution_count": 22,
     "metadata": {},
     "output_type": "execute_result"
    }
   ],
   "source": [
    "data.isna().sum()"
   ]
  },
  {
   "cell_type": "markdown",
   "metadata": {},
   "source": [
    "*В целом мы удалили только пропуски из названия игры и у нас вместе с ним удалился и жанра игры так как они взаимосвязаны были.* "
   ]
  },
  {
   "cell_type": "markdown",
   "metadata": {},
   "source": [
    "*Остался у нас столбец user_score с аббревиатурой tbd, который мы должны изменить в NaN, а потом преобразовать в тип float. Пропущенны значения заменим медианой*"
   ]
  },
  {
   "cell_type": "code",
   "execution_count": 23,
   "metadata": {},
   "outputs": [],
   "source": [
    "data.loc[data['user_score'] == 'tbd', 'user_score'] = float('nan')"
   ]
  },
  {
   "cell_type": "code",
   "execution_count": 24,
   "metadata": {},
   "outputs": [],
   "source": [
    "data['user_score'] = data['user_score'].fillna(data['user_score'].median())"
   ]
  },
  {
   "cell_type": "code",
   "execution_count": 25,
   "metadata": {},
   "outputs": [],
   "source": [
    "data['user_score'] = data['user_score'].astype(float)"
   ]
  },
  {
   "cell_type": "markdown",
   "metadata": {},
   "source": [
    "*В столбце critic_score ток же заменим медианой.*"
   ]
  },
  {
   "cell_type": "code",
   "execution_count": 26,
   "metadata": {},
   "outputs": [],
   "source": [
    "data['critic_score'] = data['critic_score'].fillna(data['user_score'].median())"
   ]
  },
  {
   "cell_type": "code",
   "execution_count": 27,
   "metadata": {},
   "outputs": [
    {
     "data": {
      "text/plain": [
       "name                  0\n",
       "platform              0\n",
       "year_of_release     146\n",
       "genre                 0\n",
       "na_sales              0\n",
       "eu_sales              0\n",
       "jp_sales              0\n",
       "other_sales           0\n",
       "critic_score          0\n",
       "user_score            0\n",
       "rating             6764\n",
       "dtype: int64"
      ]
     },
     "execution_count": 27,
     "metadata": {},
     "output_type": "execute_result"
    }
   ],
   "source": [
    "data.isna().sum()"
   ]
  },
  {
   "cell_type": "markdown",
   "metadata": {},
   "source": [
    "*У нас остолись толбци rating и year_of_release с пропущенными значениями, но по ходу если понадобится будем решать с ними*           "
   ]
  },
  {
   "cell_type": "code",
   "execution_count": 28,
   "metadata": {},
   "outputs": [
    {
     "data": {
      "text/html": [
       "<div>\n",
       "<style scoped>\n",
       "    .dataframe tbody tr th:only-of-type {\n",
       "        vertical-align: middle;\n",
       "    }\n",
       "\n",
       "    .dataframe tbody tr th {\n",
       "        vertical-align: top;\n",
       "    }\n",
       "\n",
       "    .dataframe thead th {\n",
       "        text-align: right;\n",
       "    }\n",
       "</style>\n",
       "<table border=\"1\" class=\"dataframe\">\n",
       "  <thead>\n",
       "    <tr style=\"text-align: right;\">\n",
       "      <th></th>\n",
       "      <th>name</th>\n",
       "      <th>platform</th>\n",
       "      <th>year_of_release</th>\n",
       "      <th>genre</th>\n",
       "      <th>na_sales</th>\n",
       "      <th>eu_sales</th>\n",
       "      <th>jp_sales</th>\n",
       "      <th>other_sales</th>\n",
       "      <th>critic_score</th>\n",
       "      <th>user_score</th>\n",
       "      <th>rating</th>\n",
       "    </tr>\n",
       "  </thead>\n",
       "  <tbody>\n",
       "    <tr>\n",
       "      <th>11659</th>\n",
       "      <td>Dragon Shadow Spell</td>\n",
       "      <td>PS2</td>\n",
       "      <td>2007</td>\n",
       "      <td>Role-Playing</td>\n",
       "      <td>0.00</td>\n",
       "      <td>0.00</td>\n",
       "      <td>0.08</td>\n",
       "      <td>0.00</td>\n",
       "      <td>7.5</td>\n",
       "      <td>7.5</td>\n",
       "      <td>0</td>\n",
       "    </tr>\n",
       "    <tr>\n",
       "      <th>4970</th>\n",
       "      <td>SD Gundam G Generation Spirits</td>\n",
       "      <td>PS2</td>\n",
       "      <td>2007</td>\n",
       "      <td>Strategy</td>\n",
       "      <td>0.00</td>\n",
       "      <td>0.00</td>\n",
       "      <td>0.38</td>\n",
       "      <td>0.00</td>\n",
       "      <td>7.5</td>\n",
       "      <td>7.5</td>\n",
       "      <td>0</td>\n",
       "    </tr>\n",
       "    <tr>\n",
       "      <th>4234</th>\n",
       "      <td>The Evil Within</td>\n",
       "      <td>X360</td>\n",
       "      <td>2014</td>\n",
       "      <td>Action</td>\n",
       "      <td>0.25</td>\n",
       "      <td>0.16</td>\n",
       "      <td>0.01</td>\n",
       "      <td>0.04</td>\n",
       "      <td>7.5</td>\n",
       "      <td>7.6</td>\n",
       "      <td>M</td>\n",
       "    </tr>\n",
       "    <tr>\n",
       "      <th>11626</th>\n",
       "      <td>Resident Evil Zero</td>\n",
       "      <td>XOne</td>\n",
       "      <td>2016</td>\n",
       "      <td>Action</td>\n",
       "      <td>0.05</td>\n",
       "      <td>0.02</td>\n",
       "      <td>0.00</td>\n",
       "      <td>0.01</td>\n",
       "      <td>7.5</td>\n",
       "      <td>7.5</td>\n",
       "      <td>0</td>\n",
       "    </tr>\n",
       "    <tr>\n",
       "      <th>15395</th>\n",
       "      <td>The King of Fighters NeoWave</td>\n",
       "      <td>XB</td>\n",
       "      <td>2006</td>\n",
       "      <td>Fighting</td>\n",
       "      <td>0.02</td>\n",
       "      <td>0.00</td>\n",
       "      <td>0.00</td>\n",
       "      <td>0.00</td>\n",
       "      <td>62.0</td>\n",
       "      <td>7.5</td>\n",
       "      <td>T</td>\n",
       "    </tr>\n",
       "    <tr>\n",
       "      <th>6764</th>\n",
       "      <td>Dora the Explorer: Journey to the Purple Planet</td>\n",
       "      <td>PS2</td>\n",
       "      <td>2005</td>\n",
       "      <td>Adventure</td>\n",
       "      <td>0.12</td>\n",
       "      <td>0.09</td>\n",
       "      <td>0.00</td>\n",
       "      <td>0.03</td>\n",
       "      <td>7.5</td>\n",
       "      <td>7.0</td>\n",
       "      <td>EC</td>\n",
       "    </tr>\n",
       "    <tr>\n",
       "      <th>1968</th>\n",
       "      <td>Defender</td>\n",
       "      <td>2600</td>\n",
       "      <td>1980</td>\n",
       "      <td>Misc</td>\n",
       "      <td>0.99</td>\n",
       "      <td>0.05</td>\n",
       "      <td>0.00</td>\n",
       "      <td>0.01</td>\n",
       "      <td>7.5</td>\n",
       "      <td>7.5</td>\n",
       "      <td>0</td>\n",
       "    </tr>\n",
       "    <tr>\n",
       "      <th>8968</th>\n",
       "      <td>Rayman Origins</td>\n",
       "      <td>3DS</td>\n",
       "      <td>2012</td>\n",
       "      <td>Platform</td>\n",
       "      <td>0.06</td>\n",
       "      <td>0.08</td>\n",
       "      <td>0.00</td>\n",
       "      <td>0.01</td>\n",
       "      <td>71.0</td>\n",
       "      <td>6.3</td>\n",
       "      <td>E10+</td>\n",
       "    </tr>\n",
       "    <tr>\n",
       "      <th>14175</th>\n",
       "      <td>Challenge Me: Word Puzzles</td>\n",
       "      <td>DS</td>\n",
       "      <td>2011</td>\n",
       "      <td>Puzzle</td>\n",
       "      <td>0.03</td>\n",
       "      <td>0.00</td>\n",
       "      <td>0.00</td>\n",
       "      <td>0.00</td>\n",
       "      <td>7.5</td>\n",
       "      <td>7.5</td>\n",
       "      <td>E10+</td>\n",
       "    </tr>\n",
       "    <tr>\n",
       "      <th>10517</th>\n",
       "      <td>NASCAR The Game: Inside Line</td>\n",
       "      <td>X360</td>\n",
       "      <td>2012</td>\n",
       "      <td>Racing</td>\n",
       "      <td>0.09</td>\n",
       "      <td>0.00</td>\n",
       "      <td>0.00</td>\n",
       "      <td>0.01</td>\n",
       "      <td>72.0</td>\n",
       "      <td>3.4</td>\n",
       "      <td>E</td>\n",
       "    </tr>\n",
       "    <tr>\n",
       "      <th>11970</th>\n",
       "      <td>Magi: The Labyrinth of Beginning</td>\n",
       "      <td>3DS</td>\n",
       "      <td>2013</td>\n",
       "      <td>Role-Playing</td>\n",
       "      <td>0.00</td>\n",
       "      <td>0.00</td>\n",
       "      <td>0.07</td>\n",
       "      <td>0.00</td>\n",
       "      <td>7.5</td>\n",
       "      <td>7.5</td>\n",
       "      <td>0</td>\n",
       "    </tr>\n",
       "    <tr>\n",
       "      <th>10131</th>\n",
       "      <td>AirForce Delta Strike</td>\n",
       "      <td>PS2</td>\n",
       "      <td>2004</td>\n",
       "      <td>Simulation</td>\n",
       "      <td>0.05</td>\n",
       "      <td>0.04</td>\n",
       "      <td>0.00</td>\n",
       "      <td>0.01</td>\n",
       "      <td>66.0</td>\n",
       "      <td>7.0</td>\n",
       "      <td>T</td>\n",
       "    </tr>\n",
       "    <tr>\n",
       "      <th>717</th>\n",
       "      <td>Super Monkey Ball: Banana Blitz</td>\n",
       "      <td>Wii</td>\n",
       "      <td>2006</td>\n",
       "      <td>Misc</td>\n",
       "      <td>1.05</td>\n",
       "      <td>0.91</td>\n",
       "      <td>0.04</td>\n",
       "      <td>0.24</td>\n",
       "      <td>74.0</td>\n",
       "      <td>5.7</td>\n",
       "      <td>E</td>\n",
       "    </tr>\n",
       "    <tr>\n",
       "      <th>279</th>\n",
       "      <td>Teenage Mutant Ninja Turtles</td>\n",
       "      <td>NES</td>\n",
       "      <td>1989</td>\n",
       "      <td>Action</td>\n",
       "      <td>3.38</td>\n",
       "      <td>0.44</td>\n",
       "      <td>0.31</td>\n",
       "      <td>0.04</td>\n",
       "      <td>7.5</td>\n",
       "      <td>7.5</td>\n",
       "      <td>0</td>\n",
       "    </tr>\n",
       "    <tr>\n",
       "      <th>6783</th>\n",
       "      <td>Cabela's Outdoor Adventures (2009)</td>\n",
       "      <td>X360</td>\n",
       "      <td>2009</td>\n",
       "      <td>Sports</td>\n",
       "      <td>0.23</td>\n",
       "      <td>0.00</td>\n",
       "      <td>0.00</td>\n",
       "      <td>0.02</td>\n",
       "      <td>7.5</td>\n",
       "      <td>7.8</td>\n",
       "      <td>T</td>\n",
       "    </tr>\n",
       "  </tbody>\n",
       "</table>\n",
       "</div>"
      ],
      "text/plain": [
       "                                                  name platform  \\\n",
       "11659                              Dragon Shadow Spell      PS2   \n",
       "4970                    SD Gundam G Generation Spirits      PS2   \n",
       "4234                                   The Evil Within     X360   \n",
       "11626                               Resident Evil Zero     XOne   \n",
       "15395                     The King of Fighters NeoWave       XB   \n",
       "6764   Dora the Explorer: Journey to the Purple Planet      PS2   \n",
       "1968                                          Defender     2600   \n",
       "8968                                    Rayman Origins      3DS   \n",
       "14175                       Challenge Me: Word Puzzles       DS   \n",
       "10517                     NASCAR The Game: Inside Line     X360   \n",
       "11970                 Magi: The Labyrinth of Beginning      3DS   \n",
       "10131                            AirForce Delta Strike      PS2   \n",
       "717                    Super Monkey Ball: Banana Blitz      Wii   \n",
       "279                       Teenage Mutant Ninja Turtles      NES   \n",
       "6783                Cabela's Outdoor Adventures (2009)     X360   \n",
       "\n",
       "       year_of_release         genre  na_sales  eu_sales  jp_sales  \\\n",
       "11659             2007  Role-Playing      0.00      0.00      0.08   \n",
       "4970              2007      Strategy      0.00      0.00      0.38   \n",
       "4234              2014        Action      0.25      0.16      0.01   \n",
       "11626             2016        Action      0.05      0.02      0.00   \n",
       "15395             2006      Fighting      0.02      0.00      0.00   \n",
       "6764              2005     Adventure      0.12      0.09      0.00   \n",
       "1968              1980          Misc      0.99      0.05      0.00   \n",
       "8968              2012      Platform      0.06      0.08      0.00   \n",
       "14175             2011        Puzzle      0.03      0.00      0.00   \n",
       "10517             2012        Racing      0.09      0.00      0.00   \n",
       "11970             2013  Role-Playing      0.00      0.00      0.07   \n",
       "10131             2004    Simulation      0.05      0.04      0.00   \n",
       "717               2006          Misc      1.05      0.91      0.04   \n",
       "279               1989        Action      3.38      0.44      0.31   \n",
       "6783              2009        Sports      0.23      0.00      0.00   \n",
       "\n",
       "       other_sales  critic_score  user_score rating  \n",
       "11659         0.00           7.5         7.5      0  \n",
       "4970          0.00           7.5         7.5      0  \n",
       "4234          0.04           7.5         7.6      M  \n",
       "11626         0.01           7.5         7.5      0  \n",
       "15395         0.00          62.0         7.5      T  \n",
       "6764          0.03           7.5         7.0     EC  \n",
       "1968          0.01           7.5         7.5      0  \n",
       "8968          0.01          71.0         6.3   E10+  \n",
       "14175         0.00           7.5         7.5   E10+  \n",
       "10517         0.01          72.0         3.4      E  \n",
       "11970         0.00           7.5         7.5      0  \n",
       "10131         0.01          66.0         7.0      T  \n",
       "717           0.24          74.0         5.7      E  \n",
       "279           0.04           7.5         7.5      0  \n",
       "6783          0.02           7.5         7.8      T  "
      ]
     },
     "execution_count": 28,
     "metadata": {},
     "output_type": "execute_result"
    }
   ],
   "source": [
    "data['rating'].fillna(0, inplace=True)\n",
    "data.sample(15)"
   ]
  },
  {
   "cell_type": "code",
   "execution_count": 29,
   "metadata": {},
   "outputs": [
    {
     "name": "stdout",
     "output_type": "stream",
     "text": [
      "<class 'pandas.core.frame.DataFrame'>\n",
      "Int64Index: 16713 entries, 0 to 16714\n",
      "Data columns (total 11 columns):\n",
      " #   Column           Non-Null Count  Dtype  \n",
      "---  ------           --------------  -----  \n",
      " 0   name             16713 non-null  object \n",
      " 1   platform         16713 non-null  object \n",
      " 2   year_of_release  16567 non-null  Int64  \n",
      " 3   genre            16713 non-null  object \n",
      " 4   na_sales         16713 non-null  float64\n",
      " 5   eu_sales         16713 non-null  float64\n",
      " 6   jp_sales         16713 non-null  float64\n",
      " 7   other_sales      16713 non-null  float64\n",
      " 8   critic_score     16713 non-null  float64\n",
      " 9   user_score       16713 non-null  float64\n",
      " 10  rating           16713 non-null  object \n",
      "dtypes: Int64(1), float64(6), object(4)\n",
      "memory usage: 1.5+ MB\n"
     ]
    }
   ],
   "source": [
    "data.info()"
   ]
  },
  {
   "cell_type": "markdown",
   "metadata": {},
   "source": [
    "*Посчитайте суммарные продажи во всех регионах и запишите их в отдельный столбец*"
   ]
  },
  {
   "cell_type": "code",
   "execution_count": 30,
   "metadata": {},
   "outputs": [],
   "source": [
    "data['sales_all_regions'] = data['na_sales'] + data['eu_sales'] + data['jp_sales'] + data['other_sales']"
   ]
  },
  {
   "cell_type": "code",
   "execution_count": 31,
   "metadata": {},
   "outputs": [
    {
     "data": {
      "text/html": [
       "<div>\n",
       "<style scoped>\n",
       "    .dataframe tbody tr th:only-of-type {\n",
       "        vertical-align: middle;\n",
       "    }\n",
       "\n",
       "    .dataframe tbody tr th {\n",
       "        vertical-align: top;\n",
       "    }\n",
       "\n",
       "    .dataframe thead th {\n",
       "        text-align: right;\n",
       "    }\n",
       "</style>\n",
       "<table border=\"1\" class=\"dataframe\">\n",
       "  <thead>\n",
       "    <tr style=\"text-align: right;\">\n",
       "      <th></th>\n",
       "      <th>name</th>\n",
       "      <th>platform</th>\n",
       "      <th>year_of_release</th>\n",
       "      <th>genre</th>\n",
       "      <th>na_sales</th>\n",
       "      <th>eu_sales</th>\n",
       "      <th>jp_sales</th>\n",
       "      <th>other_sales</th>\n",
       "      <th>critic_score</th>\n",
       "      <th>user_score</th>\n",
       "      <th>rating</th>\n",
       "      <th>sales_all_regions</th>\n",
       "    </tr>\n",
       "  </thead>\n",
       "  <tbody>\n",
       "    <tr>\n",
       "      <th>0</th>\n",
       "      <td>Wii Sports</td>\n",
       "      <td>Wii</td>\n",
       "      <td>2006</td>\n",
       "      <td>Sports</td>\n",
       "      <td>41.36</td>\n",
       "      <td>28.96</td>\n",
       "      <td>3.77</td>\n",
       "      <td>8.45</td>\n",
       "      <td>76.0</td>\n",
       "      <td>8.0</td>\n",
       "      <td>E</td>\n",
       "      <td>82.54</td>\n",
       "    </tr>\n",
       "    <tr>\n",
       "      <th>1</th>\n",
       "      <td>Super Mario Bros.</td>\n",
       "      <td>NES</td>\n",
       "      <td>1985</td>\n",
       "      <td>Platform</td>\n",
       "      <td>29.08</td>\n",
       "      <td>3.58</td>\n",
       "      <td>6.81</td>\n",
       "      <td>0.77</td>\n",
       "      <td>7.5</td>\n",
       "      <td>7.5</td>\n",
       "      <td>0</td>\n",
       "      <td>40.24</td>\n",
       "    </tr>\n",
       "    <tr>\n",
       "      <th>2</th>\n",
       "      <td>Mario Kart Wii</td>\n",
       "      <td>Wii</td>\n",
       "      <td>2008</td>\n",
       "      <td>Racing</td>\n",
       "      <td>15.68</td>\n",
       "      <td>12.76</td>\n",
       "      <td>3.79</td>\n",
       "      <td>3.29</td>\n",
       "      <td>82.0</td>\n",
       "      <td>8.3</td>\n",
       "      <td>E</td>\n",
       "      <td>35.52</td>\n",
       "    </tr>\n",
       "    <tr>\n",
       "      <th>3</th>\n",
       "      <td>Wii Sports Resort</td>\n",
       "      <td>Wii</td>\n",
       "      <td>2009</td>\n",
       "      <td>Sports</td>\n",
       "      <td>15.61</td>\n",
       "      <td>10.93</td>\n",
       "      <td>3.28</td>\n",
       "      <td>2.95</td>\n",
       "      <td>80.0</td>\n",
       "      <td>8.0</td>\n",
       "      <td>E</td>\n",
       "      <td>32.77</td>\n",
       "    </tr>\n",
       "    <tr>\n",
       "      <th>4</th>\n",
       "      <td>Pokemon Red/Pokemon Blue</td>\n",
       "      <td>GB</td>\n",
       "      <td>1996</td>\n",
       "      <td>Role-Playing</td>\n",
       "      <td>11.27</td>\n",
       "      <td>8.89</td>\n",
       "      <td>10.22</td>\n",
       "      <td>1.00</td>\n",
       "      <td>7.5</td>\n",
       "      <td>7.5</td>\n",
       "      <td>0</td>\n",
       "      <td>31.38</td>\n",
       "    </tr>\n",
       "    <tr>\n",
       "      <th>...</th>\n",
       "      <td>...</td>\n",
       "      <td>...</td>\n",
       "      <td>...</td>\n",
       "      <td>...</td>\n",
       "      <td>...</td>\n",
       "      <td>...</td>\n",
       "      <td>...</td>\n",
       "      <td>...</td>\n",
       "      <td>...</td>\n",
       "      <td>...</td>\n",
       "      <td>...</td>\n",
       "      <td>...</td>\n",
       "    </tr>\n",
       "    <tr>\n",
       "      <th>16710</th>\n",
       "      <td>Samurai Warriors: Sanada Maru</td>\n",
       "      <td>PS3</td>\n",
       "      <td>2016</td>\n",
       "      <td>Action</td>\n",
       "      <td>0.00</td>\n",
       "      <td>0.00</td>\n",
       "      <td>0.01</td>\n",
       "      <td>0.00</td>\n",
       "      <td>7.5</td>\n",
       "      <td>7.5</td>\n",
       "      <td>0</td>\n",
       "      <td>0.01</td>\n",
       "    </tr>\n",
       "    <tr>\n",
       "      <th>16711</th>\n",
       "      <td>LMA Manager 2007</td>\n",
       "      <td>X360</td>\n",
       "      <td>2006</td>\n",
       "      <td>Sports</td>\n",
       "      <td>0.00</td>\n",
       "      <td>0.01</td>\n",
       "      <td>0.00</td>\n",
       "      <td>0.00</td>\n",
       "      <td>7.5</td>\n",
       "      <td>7.5</td>\n",
       "      <td>0</td>\n",
       "      <td>0.01</td>\n",
       "    </tr>\n",
       "    <tr>\n",
       "      <th>16712</th>\n",
       "      <td>Haitaka no Psychedelica</td>\n",
       "      <td>PSV</td>\n",
       "      <td>2016</td>\n",
       "      <td>Adventure</td>\n",
       "      <td>0.00</td>\n",
       "      <td>0.00</td>\n",
       "      <td>0.01</td>\n",
       "      <td>0.00</td>\n",
       "      <td>7.5</td>\n",
       "      <td>7.5</td>\n",
       "      <td>0</td>\n",
       "      <td>0.01</td>\n",
       "    </tr>\n",
       "    <tr>\n",
       "      <th>16713</th>\n",
       "      <td>Spirits &amp; Spells</td>\n",
       "      <td>GBA</td>\n",
       "      <td>2003</td>\n",
       "      <td>Platform</td>\n",
       "      <td>0.01</td>\n",
       "      <td>0.00</td>\n",
       "      <td>0.00</td>\n",
       "      <td>0.00</td>\n",
       "      <td>7.5</td>\n",
       "      <td>7.5</td>\n",
       "      <td>0</td>\n",
       "      <td>0.01</td>\n",
       "    </tr>\n",
       "    <tr>\n",
       "      <th>16714</th>\n",
       "      <td>Winning Post 8 2016</td>\n",
       "      <td>PSV</td>\n",
       "      <td>2016</td>\n",
       "      <td>Simulation</td>\n",
       "      <td>0.00</td>\n",
       "      <td>0.00</td>\n",
       "      <td>0.01</td>\n",
       "      <td>0.00</td>\n",
       "      <td>7.5</td>\n",
       "      <td>7.5</td>\n",
       "      <td>0</td>\n",
       "      <td>0.01</td>\n",
       "    </tr>\n",
       "  </tbody>\n",
       "</table>\n",
       "<p>16713 rows × 12 columns</p>\n",
       "</div>"
      ],
      "text/plain": [
       "                                name platform  year_of_release         genre  \\\n",
       "0                         Wii Sports      Wii             2006        Sports   \n",
       "1                  Super Mario Bros.      NES             1985      Platform   \n",
       "2                     Mario Kart Wii      Wii             2008        Racing   \n",
       "3                  Wii Sports Resort      Wii             2009        Sports   \n",
       "4           Pokemon Red/Pokemon Blue       GB             1996  Role-Playing   \n",
       "...                              ...      ...              ...           ...   \n",
       "16710  Samurai Warriors: Sanada Maru      PS3             2016        Action   \n",
       "16711               LMA Manager 2007     X360             2006        Sports   \n",
       "16712        Haitaka no Psychedelica      PSV             2016     Adventure   \n",
       "16713               Spirits & Spells      GBA             2003      Platform   \n",
       "16714            Winning Post 8 2016      PSV             2016    Simulation   \n",
       "\n",
       "       na_sales  eu_sales  jp_sales  other_sales  critic_score  user_score  \\\n",
       "0         41.36     28.96      3.77         8.45          76.0         8.0   \n",
       "1         29.08      3.58      6.81         0.77           7.5         7.5   \n",
       "2         15.68     12.76      3.79         3.29          82.0         8.3   \n",
       "3         15.61     10.93      3.28         2.95          80.0         8.0   \n",
       "4         11.27      8.89     10.22         1.00           7.5         7.5   \n",
       "...         ...       ...       ...          ...           ...         ...   \n",
       "16710      0.00      0.00      0.01         0.00           7.5         7.5   \n",
       "16711      0.00      0.01      0.00         0.00           7.5         7.5   \n",
       "16712      0.00      0.00      0.01         0.00           7.5         7.5   \n",
       "16713      0.01      0.00      0.00         0.00           7.5         7.5   \n",
       "16714      0.00      0.00      0.01         0.00           7.5         7.5   \n",
       "\n",
       "      rating  sales_all_regions  \n",
       "0          E              82.54  \n",
       "1          0              40.24  \n",
       "2          E              35.52  \n",
       "3          E              32.77  \n",
       "4          0              31.38  \n",
       "...      ...                ...  \n",
       "16710      0               0.01  \n",
       "16711      0               0.01  \n",
       "16712      0               0.01  \n",
       "16713      0               0.01  \n",
       "16714      0               0.01  \n",
       "\n",
       "[16713 rows x 12 columns]"
      ]
     },
     "execution_count": 31,
     "metadata": {},
     "output_type": "execute_result"
    }
   ],
   "source": [
    "data"
   ]
  },
  {
   "cell_type": "markdown",
   "metadata": {},
   "source": [
    "*Мы вывели новый столбец sales_all_regions и посчитали в нем сумму продаж всех регионов.*"
   ]
  },
  {
   "cell_type": "markdown",
   "metadata": {},
   "source": [
    "**3. Проведите исследовательский анализ данных**"
   ]
  },
  {
   "cell_type": "markdown",
   "metadata": {},
   "source": [
    "*3.1. Проверим сколко игр выпускалось в разные годы*"
   ]
  },
  {
   "cell_type": "code",
   "execution_count": 32,
   "metadata": {},
   "outputs": [
    {
     "data": {
      "text/plain": [
       "2008    1440\n",
       "2009    1431\n",
       "2010    1271\n",
       "2007    1202\n",
       "2011    1153\n",
       "2006    1020\n",
       "2005     947\n",
       "2002     845\n",
       "2003     785\n",
       "2004     765\n",
       "2012     662\n",
       "2015     606\n",
       "2014     582\n",
       "2013     547\n",
       "2016     502\n",
       "2001     484\n",
       "1998     379\n",
       "2000     350\n",
       "1999     339\n",
       "1997     289\n",
       "1996     263\n",
       "1995     219\n",
       "1994     121\n",
       "1993      60\n",
       "1981      46\n",
       "1992      43\n",
       "1991      41\n",
       "1982      36\n",
       "1986      21\n",
       "1983      17\n",
       "1989      17\n",
       "1990      16\n",
       "1987      16\n",
       "1988      15\n",
       "1985      14\n",
       "1984      14\n",
       "1980       9\n",
       "Name: year_of_release, dtype: Int64"
      ]
     },
     "execution_count": 32,
     "metadata": {},
     "output_type": "execute_result"
    }
   ],
   "source": [
    "data.year_of_release.value_counts()"
   ]
  },
  {
   "cell_type": "markdown",
   "metadata": {},
   "source": [
    "*Мы видим что начиная с 2000-х годов начали активно выпускать новые игры.*"
   ]
  },
  {
   "cell_type": "markdown",
   "metadata": {},
   "source": [
    "*Теперь посмотрим как это выглядит на графике*"
   ]
  },
  {
   "cell_type": "code",
   "execution_count": 33,
   "metadata": {},
   "outputs": [
    {
     "data": {
      "image/png": "[encoded data removed]",
      "text/plain": [
       "<Figure size 1080x504 with 1 Axes>"
      ]
     },
     "metadata": {
      "needs_background": "light"
     },
     "output_type": "display_data"
    }
   ],
   "source": [
    "games_on_year = data.pivot_table(index='year_of_release', values='name', aggfunc='count')\n",
    "plt.figure(figsize=(15,7))\n",
    "sns.lineplot(data=games_on_year)\n",
    "plt.title(\"Количество игр выпускаемые по годам\")\n",
    "plt.xlabel(\"Год выпуска\")\n",
    "plt.ylabel(\"Количество игр\")\n",
    "plt.show()"
   ]
  },
  {
   "cell_type": "markdown",
   "metadata": {},
   "source": [
    "*По графику видно, что активный рост начался с 2000-х и 2010 начался спад.*"
   ]
  },
  {
   "cell_type": "markdown",
   "metadata": {},
   "source": [
    "*3.2.Посмотрите, как менялись продажи по платформам. Выберите платформы с наибольшими суммарными продажами и постройте распределение по годам. За какой характерный срок появляются новые и исчезают старые платформы?*"
   ]
  },
  {
   "cell_type": "markdown",
   "metadata": {},
   "source": [
    "*Посмотрим на каких платормах больше всего продадаж*"
   ]
  },
  {
   "cell_type": "code",
   "execution_count": 34,
   "metadata": {},
   "outputs": [
    {
     "data": {
      "text/plain": [
       "platform\n",
       "2600      96.98\n",
       "3DO        0.10\n",
       "3DS      259.00\n",
       "DC        15.95\n",
       "DS       806.12\n",
       "GB       255.46\n",
       "GBA      317.85\n",
       "GC       198.93\n",
       "GEN       28.35\n",
       "GG         0.04\n",
       "N64      218.68\n",
       "NES      251.05\n",
       "NG         1.44\n",
       "PC       259.52\n",
       "PCFX       0.03\n",
       "PS       730.86\n",
       "PS2     1255.77\n",
       "PS3      939.65\n",
       "PS4      314.14\n",
       "PSP      294.05\n",
       "PSV       54.07\n",
       "SAT       33.59\n",
       "SCD        1.86\n",
       "SNES     200.04\n",
       "TG16       0.16\n",
       "WS         1.42\n",
       "Wii      907.51\n",
       "WiiU      82.19\n",
       "X360     971.42\n",
       "XB       257.74\n",
       "XOne     159.32\n",
       "Name: sales_all_regions, dtype: float64"
      ]
     },
     "execution_count": 34,
     "metadata": {},
     "output_type": "execute_result"
    }
   ],
   "source": [
    "data.groupby('platform').sum()['sales_all_regions']"
   ]
  },
  {
   "cell_type": "markdown",
   "metadata": {},
   "source": [
    "*По данным мы можем видеть что максимальное коичесто на PS2, а минимальное на PCFX.*"
   ]
  },
  {
   "cell_type": "markdown",
   "metadata": {},
   "source": [
    "*Посмотрим по графику, более информатино будет.*"
   ]
  },
  {
   "cell_type": "code",
   "execution_count": 35,
   "metadata": {},
   "outputs": [
    {
     "data": {
      "image/png": "[encoded data removed]",
      "text/plain": [
       "<Figure size 1080x504 with 1 Axes>"
      ]
     },
     "metadata": {
      "needs_background": "light"
     },
     "output_type": "display_data"
    }
   ],
   "source": [
    "platform_on_sales = data.pivot_table(\n",
    "    index='platform', values='sales_all_regions', aggfunc='sum').sort_values(by='sales_all_regions', ascending=False)\n",
    "\n",
    "plt.figure(figsize=(15,7))\n",
    "sns.barplot(x=platform_on_sales.index,y=platform_on_sales['sales_all_regions'])\n",
    "plt.title(\"Количество продаж для каждой платформы\")\n",
    "plt.xlabel(\"Название платформы\")\n",
    "plt.ylabel(\"Количество продаж\")\n",
    "plt.show()"
   ]
  },
  {
   "cell_type": "markdown",
   "metadata": {},
   "source": [
    "*На графике мы видим платформы с наибольшим сумаными продажами,это: PS2, X360, PS3, Wii, DS и PS.*"
   ]
  },
  {
   "cell_type": "markdown",
   "metadata": {},
   "source": [
    "*Посмотрим на графике как долго были популярны платформы*"
   ]
  },
  {
   "cell_type": "code",
   "execution_count": 36,
   "metadata": {},
   "outputs": [
    {
     "data": {
      "image/png": "[encoded data removed]",
      "text/plain": [
       "<Figure size 1080x504 with 1 Axes>"
      ]
     },
     "metadata": {
      "needs_background": "light"
     },
     "output_type": "display_data"
    }
   ],
   "source": [
    "popularity_year = data.groupby('platform').sum()['sales_all_regions'].sort_values(ascending=False).index.values[:6]\n",
    "\n",
    "popular_data = data[data.platform.isin(popularity_year)]\n",
    "\n",
    "popular_data = popular_data.pivot_table(index='year_of_release', columns='platform', values='sales_all_regions', aggfunc='sum')\n",
    "\n",
    "popular_data.plot(figsize=(15,7))\n",
    "\n",
    "plt.title('Количество продаж популярных платформ')\n",
    "plt.xlabel('Год')\n",
    "plt.ylabel('Продажи')\n",
    "plt.show()"
   ]
  },
  {
   "cell_type": "markdown",
   "metadata": {},
   "source": [
    "*Мы можем заметить что из 6 популярных платформ. В среднем у них у всех популярность составляет 10 лет.*"
   ]
  },
  {
   "cell_type": "markdown",
   "metadata": {},
   "source": [
    "*3.3. Возьмите данные за соответствующий актуальный период. Актуальный период определите самостоятельно в результате исследования предыдущих вопросов. Основной фактор — эти данные помогут построить прогноз на 2017 год.*"
   ]
  },
  {
   "cell_type": "code",
   "execution_count": 37,
   "metadata": {},
   "outputs": [
    {
     "data": {
      "image/png": "[encoded data removed]",
      "text/plain": [
       "<Figure size 1080x504 with 1 Axes>"
      ]
     },
     "metadata": {
      "needs_background": "light"
     },
     "output_type": "display_data"
    }
   ],
   "source": [
    "data = data.query(\"2010 <= year_of_release <= 2016\")\n",
    "data.pivot_table(index='year_of_release', columns = 'platform', values='sales_all_regions', aggfunc='sum').plot(grid=True, figsize=(15, 7))\n",
    "plt.title('Количество продаж за с 2010 по 2016 год')\n",
    "plt.xlabel('Год')\n",
    "plt.ylabel('Продажи')\n",
    "plt.show()"
   ]
  },
  {
   "cell_type": "markdown",
   "metadata": {},
   "source": [
    "*Исходя из периода с 2010 по 2016, можем сказать что более актуальный период надо взять с 2015 года, так как большая часть платформ на нуле.*"
   ]
  },
  {
   "cell_type": "code",
   "execution_count": 38,
   "metadata": {},
   "outputs": [
    {
     "data": {
      "image/png": "[encoded data removed]",
      "text/plain": [
       "<Figure size 1080x504 with 1 Axes>"
      ]
     },
     "metadata": {
      "needs_background": "light"
     },
     "output_type": "display_data"
    }
   ],
   "source": [
    "data = data.query(\"2015 <= year_of_release <= 2016\")\n",
    "data.pivot_table(index='year_of_release', columns = 'platform', values='sales_all_regions', aggfunc='sum').plot(grid=True, figsize=(15, 7))\n",
    "plt.title('Количество продаж за с 2015 по 2016')\n",
    "plt.xlabel('Год')\n",
    "plt.ylabel('Продажи')\n",
    "plt.show()"
   ]
  },
  {
   "cell_type": "markdown",
   "metadata": {},
   "source": [
    "*3.4. Какие платформы лидируют по продажам, растут или падают? Выберите несколько потенциально прибыльных платформ.*"
   ]
  },
  {
   "cell_type": "markdown",
   "metadata": {},
   "source": [
    "*По данному исследованиям мы видим что все платформы существующие с 2015 по 2016 стремятся к 0, некоторые на грани. Но PS4  самая продоваемая, после идет XONE и 3DS. Точный анализ мы не можем сделать, так как за 2016 год могут быть неполные данные.*"
   ]
  },
  {
   "cell_type": "markdown",
   "metadata": {},
   "source": [
    "*3.5. Постройте график «ящик с усами» по глобальным продажам игр в разбивке по платформам.*"
   ]
  },
  {
   "cell_type": "code",
   "execution_count": 39,
   "metadata": {},
   "outputs": [
    {
     "data": {
      "image/png": "[encoded data removed]",
      "text/plain": [
       "<Figure size 1080x576 with 1 Axes>"
      ]
     },
     "metadata": {
      "needs_background": "light"
     },
     "output_type": "display_data"
    }
   ],
   "source": [
    "data.boxplot(column='sales_all_regions', by='platform', figsize=(15,8), grid=False).set(title='Ящик с усами',xlabel='Платформа', ylabel='Общие продажи')\n",
    "plt.show()"
   ]
  },
  {
   "cell_type": "markdown",
   "metadata": {},
   "source": [
    "*3.6. Посмотрим, как влияют на продажи внутри одной популярной платформы отзывы пользователей и критиков. Постройте диаграмму рассеяния и посчитайте корреляцию между отзывами и продажами. Сформулируйте выводы.*"
   ]
  },
  {
   "cell_type": "markdown",
   "metadata": {},
   "source": [
    "*Построим диаграмму рассеивания между оценкой пользователями и продажам.*"
   ]
  },
  {
   "cell_type": "code",
   "execution_count": 40,
   "metadata": {},
   "outputs": [
    {
     "data": {
      "image/png": "[encoded data removed]",
      "text/plain": [
       "<Figure size 1080x504 with 1 Axes>"
      ]
     },
     "metadata": {
      "needs_background": "light"
     },
     "output_type": "display_data"
    }
   ],
   "source": [
    "data[data['platform']=='PS4'].plot(x='user_score', y='sales_all_regions', kind='scatter', alpha=0.5, figsize=(15,7), grid=True)\n",
    "plt.title('Влияние оценки пользавателей на продажи платформы PS4')\n",
    "plt.xlabel('Оценка пользователей')\n",
    "plt.ylabel('Суммы продаж всех регионов')\n",
    "plt.show()"
   ]
  },
  {
   "cell_type": "markdown",
   "metadata": {},
   "source": [
    "*По данной гистограмме видим что чем выше оценка тем больше продаж.* "
   ]
  },
  {
   "cell_type": "markdown",
   "metadata": {},
   "source": [
    "*Посчитаем корриляцию между оценкой пользователями и продажам.*"
   ]
  },
  {
   "cell_type": "code",
   "execution_count": 41,
   "metadata": {},
   "outputs": [
    {
     "data": {
      "text/plain": [
       "'Корреляция между оценкой пользователями и продажам: -0.0675641400978089'"
      ]
     },
     "metadata": {},
     "output_type": "display_data"
    }
   ],
   "source": [
    "data_ps4 = data[data['platform']=='PS4']\n",
    "data_ps4_cor = data_ps4['user_score'].corr(data_ps4['sales_all_regions'])\n",
    "display('Корреляция между оценкой пользователями и продажам: {}'.format(data_ps4_cor))"
   ]
  },
  {
   "cell_type": "markdown",
   "metadata": {},
   "source": [
    "*Построим диограмму рассеивания между оценкой критиков и продажам.*"
   ]
  },
  {
   "cell_type": "code",
   "execution_count": 42,
   "metadata": {},
   "outputs": [
    {
     "data": {
      "image/png": "[encoded data removed]",
      "text/plain": [
       "<Figure size 1080x504 with 1 Axes>"
      ]
     },
     "metadata": {
      "needs_background": "light"
     },
     "output_type": "display_data"
    }
   ],
   "source": [
    "data[data['platform']=='PS4'].plot(x='critic_score', y='sales_all_regions', kind='scatter', alpha=0.5, figsize=(15,7), grid=True)\n",
    "plt.title('Влияние оченки критиков на продажи платформы PS4')\n",
    "plt.xlabel('Оценка пользователей')\n",
    "plt.ylabel('Суммы продаж всех регионов')\n",
    "plt.show()\n"
   ]
  },
  {
   "cell_type": "markdown",
   "metadata": {},
   "source": [
    "*Так же и по данной гистограмме видим что чем выше оценка тем больше продаж.* "
   ]
  },
  {
   "cell_type": "markdown",
   "metadata": {},
   "source": [
    "*Посчитаем корриляцию между оценкой критиками и продажам.*"
   ]
  },
  {
   "cell_type": "code",
   "execution_count": 43,
   "metadata": {},
   "outputs": [
    {
     "data": {
      "text/plain": [
       "'Корреляция между оценкой критиков и продажам: 0.18934650253284005'"
      ]
     },
     "metadata": {},
     "output_type": "display_data"
    }
   ],
   "source": [
    "data_ps4 = data[data['platform']=='PS4']\n",
    "data_ps4_cor = data_ps4['critic_score'].corr(data_ps4['sales_all_regions'])\n",
    "display('Корреляция между оценкой критиков и продажам: {}'.format(data_ps4_cor))"
   ]
  },
  {
   "cell_type": "markdown",
   "metadata": {},
   "source": [
    "*Сравнив  диаграммы можно сказать что оценка критиков влияет на продажи больше, чем оценка пользователей.*"
   ]
  },
  {
   "cell_type": "markdown",
   "metadata": {},
   "source": [
    "*3.7. Соотнесите выводы с продажами игр на других платформах.*"
   ]
  },
  {
   "cell_type": "code",
   "execution_count": 44,
   "metadata": {},
   "outputs": [
    {
     "data": {
      "text/html": [
       "<div>\n",
       "<style scoped>\n",
       "    .dataframe tbody tr th:only-of-type {\n",
       "        vertical-align: middle;\n",
       "    }\n",
       "\n",
       "    .dataframe tbody tr th {\n",
       "        vertical-align: top;\n",
       "    }\n",
       "\n",
       "    .dataframe thead th {\n",
       "        text-align: right;\n",
       "    }\n",
       "</style>\n",
       "<table border=\"1\" class=\"dataframe\">\n",
       "  <thead>\n",
       "    <tr style=\"text-align: right;\">\n",
       "      <th></th>\n",
       "      <th>year_of_release</th>\n",
       "      <th>na_sales</th>\n",
       "      <th>eu_sales</th>\n",
       "      <th>jp_sales</th>\n",
       "      <th>other_sales</th>\n",
       "      <th>critic_score</th>\n",
       "      <th>user_score</th>\n",
       "      <th>sales_all_regions</th>\n",
       "    </tr>\n",
       "    <tr>\n",
       "      <th>platform</th>\n",
       "      <th></th>\n",
       "      <th></th>\n",
       "      <th></th>\n",
       "      <th></th>\n",
       "      <th></th>\n",
       "      <th></th>\n",
       "      <th></th>\n",
       "      <th></th>\n",
       "    </tr>\n",
       "  </thead>\n",
       "  <tbody>\n",
       "    <tr>\n",
       "      <th>3DS</th>\n",
       "      <td>266026</td>\n",
       "      <td>10.31</td>\n",
       "      <td>7.39</td>\n",
       "      <td>23.55</td>\n",
       "      <td>1.67</td>\n",
       "      <td>2842.5</td>\n",
       "      <td>990.1</td>\n",
       "      <td>42.92</td>\n",
       "    </tr>\n",
       "    <tr>\n",
       "      <th>PC</th>\n",
       "      <td>209614</td>\n",
       "      <td>3.72</td>\n",
       "      <td>9.10</td>\n",
       "      <td>0.00</td>\n",
       "      <td>0.95</td>\n",
       "      <td>6140.0</td>\n",
       "      <td>678.9</td>\n",
       "      <td>13.77</td>\n",
       "    </tr>\n",
       "    <tr>\n",
       "      <th>PS3</th>\n",
       "      <td>223703</td>\n",
       "      <td>5.66</td>\n",
       "      <td>7.30</td>\n",
       "      <td>4.97</td>\n",
       "      <td>2.49</td>\n",
       "      <td>888.0</td>\n",
       "      <td>764.3</td>\n",
       "      <td>20.42</td>\n",
       "    </tr>\n",
       "    <tr>\n",
       "      <th>PS4</th>\n",
       "      <td>606679</td>\n",
       "      <td>63.86</td>\n",
       "      <td>83.54</td>\n",
       "      <td>12.05</td>\n",
       "      <td>28.70</td>\n",
       "      <td>14170.0</td>\n",
       "      <td>2134.4</td>\n",
       "      <td>188.15</td>\n",
       "    </tr>\n",
       "    <tr>\n",
       "      <th>PSP</th>\n",
       "      <td>6045</td>\n",
       "      <td>0.00</td>\n",
       "      <td>0.00</td>\n",
       "      <td>0.12</td>\n",
       "      <td>0.00</td>\n",
       "      <td>22.5</td>\n",
       "      <td>22.5</td>\n",
       "      <td>0.12</td>\n",
       "    </tr>\n",
       "    <tr>\n",
       "      <th>PSV</th>\n",
       "      <td>393010</td>\n",
       "      <td>0.54</td>\n",
       "      <td>1.08</td>\n",
       "      <td>8.41</td>\n",
       "      <td>0.47</td>\n",
       "      <td>3028.5</td>\n",
       "      <td>1473.6</td>\n",
       "      <td>10.50</td>\n",
       "    </tr>\n",
       "    <tr>\n",
       "      <th>Wii</th>\n",
       "      <td>10076</td>\n",
       "      <td>0.49</td>\n",
       "      <td>0.73</td>\n",
       "      <td>0.00</td>\n",
       "      <td>0.10</td>\n",
       "      <td>37.5</td>\n",
       "      <td>37.5</td>\n",
       "      <td>1.32</td>\n",
       "    </tr>\n",
       "    <tr>\n",
       "      <th>WiiU</th>\n",
       "      <td>84644</td>\n",
       "      <td>8.86</td>\n",
       "      <td>6.49</td>\n",
       "      <td>4.12</td>\n",
       "      <td>1.48</td>\n",
       "      <td>2105.0</td>\n",
       "      <td>301.8</td>\n",
       "      <td>20.95</td>\n",
       "    </tr>\n",
       "    <tr>\n",
       "      <th>X360</th>\n",
       "      <td>96733</td>\n",
       "      <td>8.05</td>\n",
       "      <td>4.21</td>\n",
       "      <td>0.00</td>\n",
       "      <td>1.22</td>\n",
       "      <td>360.0</td>\n",
       "      <td>294.6</td>\n",
       "      <td>13.48</td>\n",
       "    </tr>\n",
       "    <tr>\n",
       "      <th>XOne</th>\n",
       "      <td>336592</td>\n",
       "      <td>50.30</td>\n",
       "      <td>28.10</td>\n",
       "      <td>0.18</td>\n",
       "      <td>7.71</td>\n",
       "      <td>8656.5</td>\n",
       "      <td>1136.6</td>\n",
       "      <td>86.29</td>\n",
       "    </tr>\n",
       "  </tbody>\n",
       "</table>\n",
       "</div>"
      ],
      "text/plain": [
       "          year_of_release  na_sales  eu_sales  jp_sales  other_sales  \\\n",
       "platform                                                               \n",
       "3DS                266026     10.31      7.39     23.55         1.67   \n",
       "PC                 209614      3.72      9.10      0.00         0.95   \n",
       "PS3                223703      5.66      7.30      4.97         2.49   \n",
       "PS4                606679     63.86     83.54     12.05        28.70   \n",
       "PSP                  6045      0.00      0.00      0.12         0.00   \n",
       "PSV                393010      0.54      1.08      8.41         0.47   \n",
       "Wii                 10076      0.49      0.73      0.00         0.10   \n",
       "WiiU                84644      8.86      6.49      4.12         1.48   \n",
       "X360                96733      8.05      4.21      0.00         1.22   \n",
       "XOne               336592     50.30     28.10      0.18         7.71   \n",
       "\n",
       "          critic_score  user_score  sales_all_regions  \n",
       "platform                                               \n",
       "3DS             2842.5       990.1              42.92  \n",
       "PC              6140.0       678.9              13.77  \n",
       "PS3              888.0       764.3              20.42  \n",
       "PS4            14170.0      2134.4             188.15  \n",
       "PSP               22.5        22.5               0.12  \n",
       "PSV             3028.5      1473.6              10.50  \n",
       "Wii               37.5        37.5               1.32  \n",
       "WiiU            2105.0       301.8              20.95  \n",
       "X360             360.0       294.6              13.48  \n",
       "XOne            8656.5      1136.6              86.29  "
      ]
     },
     "execution_count": 44,
     "metadata": {},
     "output_type": "execute_result"
    }
   ],
   "source": [
    "data_popular_grouped = data.groupby('platform').sum()\n",
    "data_popular_grouped"
   ]
  },
  {
   "cell_type": "code",
   "execution_count": 45,
   "metadata": {},
   "outputs": [
    {
     "data": {
      "text/plain": [
       "array(['3DS', 'PC', 'PS3', 'PS4', 'PSP', 'PSV', 'Wii', 'WiiU', 'X360',\n",
       "       'XOne'], dtype=object)"
      ]
     },
     "execution_count": 45,
     "metadata": {},
     "output_type": "execute_result"
    }
   ],
   "source": [
    "popular_platforms_list = data_popular_grouped.index.values\n",
    "popular_platforms_list"
   ]
  },
  {
   "cell_type": "code",
   "execution_count": 46,
   "metadata": {},
   "outputs": [],
   "source": [
    "def cor (data):\n",
    "    for i in popular_platforms_list:\n",
    "        fx = data.query('platform == @i')\n",
    "        print('Коэффициент корреляции оценок пользователей', i, ':', fx.user_score.corr(fx.sales_all_regions))\n",
    "        print('Коэффициент корреляции оценок критиков', i, ':', fx.critic_score.corr(fx.sales_all_regions))"
   ]
  },
  {
   "cell_type": "code",
   "execution_count": 47,
   "metadata": {},
   "outputs": [
    {
     "name": "stdout",
     "output_type": "stream",
     "text": [
      "Коэффициент корреляции оценок пользователей 3DS : 0.08241824416874355\n",
      "Коэффициент корреляции оценок критиков 3DS : 0.08764395007294366\n",
      "Коэффициент корреляции оценок пользователей PC : 0.09820265906732177\n",
      "Коэффициент корреляции оценок критиков PC : 0.2791863012864648\n",
      "Коэффициент корреляции оценок пользователей PS3 : -0.32566346080776887\n",
      "Коэффициент корреляции оценок критиков PS3 : -0.04582560984687534\n",
      "Коэффициент корреляции оценок пользователей PS4 : -0.0675641400978089\n",
      "Коэффициент корреляции оценок критиков PS4 : 0.18934650253284005\n",
      "Коэффициент корреляции оценок пользователей PSP : nan\n",
      "Коэффициент корреляции оценок критиков PSP : nan\n",
      "Коэффициент корреляции оценок пользователей PSV : 0.1896556971873331\n",
      "Коэффициент корреляции оценок критиков PSV : 0.35785527698821723\n",
      "Коэффициент корреляции оценок пользователей Wii : nan\n",
      "Коэффициент корреляции оценок критиков Wii : nan\n",
      "Коэффициент корреляции оценок пользователей WiiU : 0.2984449206104014\n",
      "Коэффициент корреляции оценок критиков WiiU : 0.37404200459510084\n",
      "Коэффициент корреляции оценок пользователей X360 : -0.22333739588393053\n",
      "Коэффициент корреляции оценок критиков X360 : nan\n",
      "Коэффициент корреляции оценок пользователей XOne : -0.05774560427964858\n",
      "Коэффициент корреляции оценок критиков XOne : 0.23606394282843263\n",
      "None\n"
     ]
    }
   ],
   "source": [
    "print(cor(data))"
   ]
  },
  {
   "cell_type": "markdown",
   "metadata": {},
   "source": [
    "*Просмотрев корреляцию оценок пользователей и критиков, можно сказать что оценки критиков  больше влияют на продажи, чем оценка пользователей.*"
   ]
  },
  {
   "cell_type": "markdown",
   "metadata": {},
   "source": [
    "*3.8. Посмотрим на общее распределение игр по жанрам. Что можно сказать о самых прибыльных жанрах? Выделяются ли жанры с высокими и низкими продажами?*"
   ]
  },
  {
   "cell_type": "code",
   "execution_count": 48,
   "metadata": {},
   "outputs": [
    {
     "data": {
      "text/html": [
       "<div>\n",
       "<style scoped>\n",
       "    .dataframe tbody tr th:only-of-type {\n",
       "        vertical-align: middle;\n",
       "    }\n",
       "\n",
       "    .dataframe tbody tr th {\n",
       "        vertical-align: top;\n",
       "    }\n",
       "\n",
       "    .dataframe thead th {\n",
       "        text-align: right;\n",
       "    }\n",
       "</style>\n",
       "<table border=\"1\" class=\"dataframe\">\n",
       "  <thead>\n",
       "    <tr style=\"text-align: right;\">\n",
       "      <th></th>\n",
       "      <th>genre</th>\n",
       "      <th>sales_all_regions</th>\n",
       "    </tr>\n",
       "  </thead>\n",
       "  <tbody>\n",
       "    <tr>\n",
       "      <th>0</th>\n",
       "      <td>Shooter</td>\n",
       "      <td>105.73</td>\n",
       "    </tr>\n",
       "    <tr>\n",
       "      <th>1</th>\n",
       "      <td>Action</td>\n",
       "      <td>102.13</td>\n",
       "    </tr>\n",
       "    <tr>\n",
       "      <th>2</th>\n",
       "      <td>Sports</td>\n",
       "      <td>64.33</td>\n",
       "    </tr>\n",
       "    <tr>\n",
       "      <th>3</th>\n",
       "      <td>Role-Playing</td>\n",
       "      <td>55.82</td>\n",
       "    </tr>\n",
       "    <tr>\n",
       "      <th>4</th>\n",
       "      <td>Misc</td>\n",
       "      <td>14.17</td>\n",
       "    </tr>\n",
       "    <tr>\n",
       "      <th>5</th>\n",
       "      <td>Fighting</td>\n",
       "      <td>12.37</td>\n",
       "    </tr>\n",
       "    <tr>\n",
       "      <th>6</th>\n",
       "      <td>Adventure</td>\n",
       "      <td>11.98</td>\n",
       "    </tr>\n",
       "    <tr>\n",
       "      <th>7</th>\n",
       "      <td>Racing</td>\n",
       "      <td>10.86</td>\n",
       "    </tr>\n",
       "    <tr>\n",
       "      <th>8</th>\n",
       "      <td>Platform</td>\n",
       "      <td>9.28</td>\n",
       "    </tr>\n",
       "    <tr>\n",
       "      <th>9</th>\n",
       "      <td>Simulation</td>\n",
       "      <td>7.55</td>\n",
       "    </tr>\n",
       "    <tr>\n",
       "      <th>10</th>\n",
       "      <td>Strategy</td>\n",
       "      <td>2.98</td>\n",
       "    </tr>\n",
       "    <tr>\n",
       "      <th>11</th>\n",
       "      <td>Puzzle</td>\n",
       "      <td>0.72</td>\n",
       "    </tr>\n",
       "  </tbody>\n",
       "</table>\n",
       "</div>"
      ],
      "text/plain": [
       "           genre  sales_all_regions\n",
       "0        Shooter             105.73\n",
       "1         Action             102.13\n",
       "2         Sports              64.33\n",
       "3   Role-Playing              55.82\n",
       "4           Misc              14.17\n",
       "5       Fighting              12.37\n",
       "6      Adventure              11.98\n",
       "7         Racing              10.86\n",
       "8       Platform               9.28\n",
       "9     Simulation               7.55\n",
       "10      Strategy               2.98\n",
       "11        Puzzle               0.72"
      ]
     },
     "execution_count": 48,
     "metadata": {},
     "output_type": "execute_result"
    }
   ],
   "source": [
    "data_genre = data.pivot_table(\n",
    "    index='genre', values='sales_all_regions', aggfunc='sum').sort_values(by='sales_all_regions', ascending=False)\n",
    "data_genre = data_genre.reset_index().rename_axis(None, axis=1)\n",
    "data_genre"
   ]
  },
  {
   "cell_type": "code",
   "execution_count": 49,
   "metadata": {},
   "outputs": [
    {
     "data": {
      "image/png": "[encoded data removed]",
      "text/plain": [
       "<Figure size 1080x504 with 1 Axes>"
      ]
     },
     "metadata": {
      "needs_background": "light"
     },
     "output_type": "display_data"
    }
   ],
   "source": [
    "data.pivot_table(index='genre', values='sales_all_regions', aggfunc='median') \\\n",
    ".plot(grid=True, style='o-', figsize=(15, 7), fontsize=11)\n",
    "plt.title('Жанры по продажам')\n",
    "plt.xlabel('Жанр игры')\n",
    "plt.ylabel('Стоимость')\n",
    "plt.show()"
   ]
  },
  {
   "cell_type": "markdown",
   "metadata": {},
   "source": [
    "*Можем выделить Самый высокий показатель у жанра это Shooter, а самый низкий у Puzzle.*"
   ]
  },
  {
   "cell_type": "markdown",
   "metadata": {},
   "source": [
    "**4. Составьте портрет пользователя каждого региона.**"
   ]
  },
  {
   "cell_type": "markdown",
   "metadata": {},
   "source": [
    "*Определите для пользователя каждого региона (NA, EU, JP):*"
   ]
  },
  {
   "cell_type": "markdown",
   "metadata": {},
   "source": [
    "*- Определим самые популяные платформы в NA, EU, JP.*"
   ]
  },
  {
   "cell_type": "code",
   "execution_count": 50,
   "metadata": {},
   "outputs": [
    {
     "data": {
      "text/plain": [
       "platform\n",
       "XOne    0.301198\n",
       "PS4     0.212159\n",
       "WiiU    0.210952\n",
       "X360    0.167708\n",
       "Wii     0.098000\n",
       "Name: na_sales, dtype: float64"
      ]
     },
     "execution_count": 50,
     "metadata": {},
     "output_type": "execute_result"
    }
   ],
   "source": [
    "popular_platform_na = data.groupby('platform').na_sales.mean().sort_values(ascending=False)[:5]\n",
    "popular_platform_na"
   ]
  },
  {
   "cell_type": "code",
   "execution_count": 51,
   "metadata": {},
   "outputs": [
    {
     "data": {
      "text/plain": [
       "platform\n",
       "PS4     0.277542\n",
       "XOne    0.168263\n",
       "WiiU    0.154524\n",
       "Wii     0.146000\n",
       "X360    0.087708\n",
       "Name: eu_sales, dtype: float64"
      ]
     },
     "execution_count": 51,
     "metadata": {},
     "output_type": "execute_result"
    }
   ],
   "source": [
    "popular_platform_eu = data.groupby('platform').eu_sales.mean().sort_values(ascending=False)[:5]\n",
    "popular_platform_eu"
   ]
  },
  {
   "cell_type": "code",
   "execution_count": 52,
   "metadata": {},
   "outputs": [
    {
     "data": {
      "text/plain": [
       "platform\n",
       "3DS     0.178409\n",
       "WiiU    0.098095\n",
       "PS3     0.044775\n",
       "PSV     0.043128\n",
       "PS4     0.040033\n",
       "Name: jp_sales, dtype: float64"
      ]
     },
     "execution_count": 52,
     "metadata": {},
     "output_type": "execute_result"
    }
   ],
   "source": [
    "popular_platform_jp = data.groupby('platform').jp_sales.mean().sort_values(ascending=False)[:5]\n",
    "popular_platform_jp"
   ]
  },
  {
   "cell_type": "code",
   "execution_count": 53,
   "metadata": {},
   "outputs": [
    {
     "data": {
      "text/html": [
       "<div>\n",
       "<style scoped>\n",
       "    .dataframe tbody tr th:only-of-type {\n",
       "        vertical-align: middle;\n",
       "    }\n",
       "\n",
       "    .dataframe tbody tr th {\n",
       "        vertical-align: top;\n",
       "    }\n",
       "\n",
       "    .dataframe thead th {\n",
       "        text-align: right;\n",
       "    }\n",
       "</style>\n",
       "<table border=\"1\" class=\"dataframe\">\n",
       "  <thead>\n",
       "    <tr style=\"text-align: right;\">\n",
       "      <th></th>\n",
       "      <th>na_sales</th>\n",
       "      <th>eu_sales</th>\n",
       "      <th>jp_sales</th>\n",
       "    </tr>\n",
       "    <tr>\n",
       "      <th>platform</th>\n",
       "      <th></th>\n",
       "      <th></th>\n",
       "      <th></th>\n",
       "    </tr>\n",
       "  </thead>\n",
       "  <tbody>\n",
       "    <tr>\n",
       "      <th>XOne</th>\n",
       "      <td>0.301198</td>\n",
       "      <td>0.168263</td>\n",
       "      <td>NaN</td>\n",
       "    </tr>\n",
       "    <tr>\n",
       "      <th>PS4</th>\n",
       "      <td>0.212159</td>\n",
       "      <td>0.277542</td>\n",
       "      <td>0.040033</td>\n",
       "    </tr>\n",
       "    <tr>\n",
       "      <th>WiiU</th>\n",
       "      <td>0.210952</td>\n",
       "      <td>0.154524</td>\n",
       "      <td>0.098095</td>\n",
       "    </tr>\n",
       "    <tr>\n",
       "      <th>X360</th>\n",
       "      <td>0.167708</td>\n",
       "      <td>0.087708</td>\n",
       "      <td>NaN</td>\n",
       "    </tr>\n",
       "    <tr>\n",
       "      <th>Wii</th>\n",
       "      <td>0.098000</td>\n",
       "      <td>0.146000</td>\n",
       "      <td>NaN</td>\n",
       "    </tr>\n",
       "    <tr>\n",
       "      <th>3DS</th>\n",
       "      <td>NaN</td>\n",
       "      <td>NaN</td>\n",
       "      <td>0.178409</td>\n",
       "    </tr>\n",
       "    <tr>\n",
       "      <th>PS3</th>\n",
       "      <td>NaN</td>\n",
       "      <td>NaN</td>\n",
       "      <td>0.044775</td>\n",
       "    </tr>\n",
       "    <tr>\n",
       "      <th>PSV</th>\n",
       "      <td>NaN</td>\n",
       "      <td>NaN</td>\n",
       "      <td>0.043128</td>\n",
       "    </tr>\n",
       "  </tbody>\n",
       "</table>\n",
       "</div>"
      ],
      "text/plain": [
       "          na_sales  eu_sales  jp_sales\n",
       "platform                              \n",
       "XOne      0.301198  0.168263       NaN\n",
       "PS4       0.212159  0.277542  0.040033\n",
       "WiiU      0.210952  0.154524  0.098095\n",
       "X360      0.167708  0.087708       NaN\n",
       "Wii       0.098000  0.146000       NaN\n",
       "3DS            NaN       NaN  0.178409\n",
       "PS3            NaN       NaN  0.044775\n",
       "PSV            NaN       NaN  0.043128"
      ]
     },
     "execution_count": 53,
     "metadata": {},
     "output_type": "execute_result"
    }
   ],
   "source": [
    "data_portrait_platform = pd.DataFrame(data=[popular_platform_na,popular_platform_eu, popular_platform_jp]).T\n",
    "data_portrait_platform"
   ]
  },
  {
   "cell_type": "code",
   "execution_count": 54,
   "metadata": {},
   "outputs": [
    {
     "data": {
      "image/png": "[encoded data removed]",
      "text/plain": [
       "<Figure size 1080x504 with 1 Axes>"
      ]
     },
     "metadata": {
      "needs_background": "light"
     },
     "output_type": "display_data"
    }
   ],
   "source": [
    "data_portrait_platform.plot(kind='bar',figsize=(15,7))\n",
    "plt.title('Популярные платформы')\n",
    "plt.xlabel('Платформа')\n",
    "plt.ylabel('Доля продаж')\n",
    "plt.show()"
   ]
  },
  {
   "cell_type": "markdown",
   "metadata": {},
   "source": []
  },
  {
   "cell_type": "markdown",
   "metadata": {},
   "source": [
    "*- определим самые популярные жанры в NA, EU, JP.*"
   ]
  },
  {
   "cell_type": "code",
   "execution_count": 55,
   "metadata": {},
   "outputs": [
    {
     "data": {
      "text/plain": [
       "genre\n",
       "Shooter         0.594815\n",
       "Sports          0.245888\n",
       "Role-Playing    0.150152\n",
       "Fighting        0.149730\n",
       "Platform        0.135000\n",
       "Name: na_sales, dtype: float64"
      ]
     },
     "execution_count": 55,
     "metadata": {},
     "output_type": "execute_result"
    }
   ],
   "source": [
    "popular_genre_na = data.groupby('genre').na_sales.mean().sort_values(ascending=False)[:5]\n",
    "popular_genre_na"
   ]
  },
  {
   "cell_type": "markdown",
   "metadata": {},
   "source": [
    "*В Северной Америке самый популярный жанр это Shooter*"
   ]
  },
  {
   "cell_type": "code",
   "execution_count": 56,
   "metadata": {},
   "outputs": [
    {
     "data": {
      "text/plain": [
       "genre\n",
       "Shooter         0.497284\n",
       "Sports          0.260000\n",
       "Racing          0.155238\n",
       "Role-Playing    0.130379\n",
       "Platform        0.114286\n",
       "Name: eu_sales, dtype: float64"
      ]
     },
     "execution_count": 56,
     "metadata": {},
     "output_type": "execute_result"
    }
   ],
   "source": [
    "popular_genre_eu = data.groupby('genre').eu_sales.mean().sort_values(ascending=False)[:5]\n",
    "popular_genre_eu"
   ]
  },
  {
   "cell_type": "markdown",
   "metadata": {},
   "source": [
    "*В Европе так же популярен Shooter*"
   ]
  },
  {
   "cell_type": "code",
   "execution_count": 57,
   "metadata": {},
   "outputs": [
    {
     "data": {
      "text/plain": [
       "genre\n",
       "Role-Playing    0.101591\n",
       "Puzzle          0.074286\n",
       "Simulation      0.058485\n",
       "Action          0.053480\n",
       "Platform        0.050714\n",
       "Name: jp_sales, dtype: float64"
      ]
     },
     "execution_count": 57,
     "metadata": {},
     "output_type": "execute_result"
    }
   ],
   "source": [
    "popular_genre_jp = data.groupby('genre').jp_sales.mean().sort_values(ascending=False)[:5]\n",
    "popular_genre_jp"
   ]
  },
  {
   "cell_type": "markdown",
   "metadata": {},
   "source": [
    "*В Японии популярный жанр Role-Playing*"
   ]
  },
  {
   "cell_type": "markdown",
   "metadata": {},
   "source": [
    "*Теперь полученные даные соберем в единую таблицу для сравнения*"
   ]
  },
  {
   "cell_type": "code",
   "execution_count": 58,
   "metadata": {},
   "outputs": [
    {
     "data": {
      "text/html": [
       "<div>\n",
       "<style scoped>\n",
       "    .dataframe tbody tr th:only-of-type {\n",
       "        vertical-align: middle;\n",
       "    }\n",
       "\n",
       "    .dataframe tbody tr th {\n",
       "        vertical-align: top;\n",
       "    }\n",
       "\n",
       "    .dataframe thead th {\n",
       "        text-align: right;\n",
       "    }\n",
       "</style>\n",
       "<table border=\"1\" class=\"dataframe\">\n",
       "  <thead>\n",
       "    <tr style=\"text-align: right;\">\n",
       "      <th></th>\n",
       "      <th>na_sales</th>\n",
       "      <th>eu_sales</th>\n",
       "      <th>jp_sales</th>\n",
       "    </tr>\n",
       "    <tr>\n",
       "      <th>genre</th>\n",
       "      <th></th>\n",
       "      <th></th>\n",
       "      <th></th>\n",
       "    </tr>\n",
       "  </thead>\n",
       "  <tbody>\n",
       "    <tr>\n",
       "      <th>Shooter</th>\n",
       "      <td>0.594815</td>\n",
       "      <td>0.497284</td>\n",
       "      <td>NaN</td>\n",
       "    </tr>\n",
       "    <tr>\n",
       "      <th>Sports</th>\n",
       "      <td>0.245888</td>\n",
       "      <td>0.260000</td>\n",
       "      <td>NaN</td>\n",
       "    </tr>\n",
       "    <tr>\n",
       "      <th>Role-Playing</th>\n",
       "      <td>0.150152</td>\n",
       "      <td>0.130379</td>\n",
       "      <td>0.101591</td>\n",
       "    </tr>\n",
       "    <tr>\n",
       "      <th>Fighting</th>\n",
       "      <td>0.149730</td>\n",
       "      <td>NaN</td>\n",
       "      <td>NaN</td>\n",
       "    </tr>\n",
       "    <tr>\n",
       "      <th>Platform</th>\n",
       "      <td>0.135000</td>\n",
       "      <td>0.114286</td>\n",
       "      <td>0.050714</td>\n",
       "    </tr>\n",
       "    <tr>\n",
       "      <th>Racing</th>\n",
       "      <td>NaN</td>\n",
       "      <td>0.155238</td>\n",
       "      <td>NaN</td>\n",
       "    </tr>\n",
       "    <tr>\n",
       "      <th>Puzzle</th>\n",
       "      <td>NaN</td>\n",
       "      <td>NaN</td>\n",
       "      <td>0.074286</td>\n",
       "    </tr>\n",
       "    <tr>\n",
       "      <th>Simulation</th>\n",
       "      <td>NaN</td>\n",
       "      <td>NaN</td>\n",
       "      <td>0.058485</td>\n",
       "    </tr>\n",
       "    <tr>\n",
       "      <th>Action</th>\n",
       "      <td>NaN</td>\n",
       "      <td>NaN</td>\n",
       "      <td>0.053480</td>\n",
       "    </tr>\n",
       "  </tbody>\n",
       "</table>\n",
       "</div>"
      ],
      "text/plain": [
       "              na_sales  eu_sales  jp_sales\n",
       "genre                                     \n",
       "Shooter       0.594815  0.497284       NaN\n",
       "Sports        0.245888  0.260000       NaN\n",
       "Role-Playing  0.150152  0.130379  0.101591\n",
       "Fighting      0.149730       NaN       NaN\n",
       "Platform      0.135000  0.114286  0.050714\n",
       "Racing             NaN  0.155238       NaN\n",
       "Puzzle             NaN       NaN  0.074286\n",
       "Simulation         NaN       NaN  0.058485\n",
       "Action             NaN       NaN  0.053480"
      ]
     },
     "execution_count": 58,
     "metadata": {},
     "output_type": "execute_result"
    }
   ],
   "source": [
    "data_portrait_genre = pd.DataFrame(data=[popular_genre_na, popular_genre_eu, popular_genre_jp]).T\n",
    "data_portrait_genre"
   ]
  },
  {
   "cell_type": "markdown",
   "metadata": {},
   "source": [
    "*По таблице мы можем понять, что пользователей 3-х стран интересуют игры с жанром Role-Playing (почти с одинаковыми показателями) и Platform.*"
   ]
  },
  {
   "cell_type": "markdown",
   "metadata": {},
   "source": [
    "*Посмотрим как это будет выглядеть на графике.*"
   ]
  },
  {
   "cell_type": "code",
   "execution_count": 59,
   "metadata": {},
   "outputs": [
    {
     "data": {
      "image/png": "[encoded data removed]",
      "text/plain": [
       "<Figure size 1080x504 with 1 Axes>"
      ]
     },
     "metadata": {
      "needs_background": "light"
     },
     "output_type": "display_data"
    }
   ],
   "source": [
    "data_portrait_genre.plot(kind='bar',figsize=(15,7))\n",
    "plt.title('Популярные платформы')\n",
    "plt.xlabel('Жанр')\n",
    "plt.ylabel('Доля продаж')\n",
    "plt.show()"
   ]
  },
  {
   "cell_type": "markdown",
   "metadata": {},
   "source": [
    "*По графику мы можем определить что самый продаваемый жанр игр в Северной Америке и Европе это Shooter.\n",
    "В Японии доля продаж игр по жанрам очень низкая (почти не отличается друг от друга), но ТОП5 жанров самые высокие продажи это Role-Playing*\n",
    "\n",
    "*По общей картине мы можем сказать что, лидеры продаж по ТОП5 жанрам игр, это Северая Америка и Европа, по сравнения с Японией.* "
   ]
  },
  {
   "cell_type": "markdown",
   "metadata": {},
   "source": [
    "*Теперь посмотрим влияет ли рейтинг ESRB на продажи в отдельном регионе.*"
   ]
  },
  {
   "cell_type": "code",
   "execution_count": 60,
   "metadata": {},
   "outputs": [
    {
     "data": {
      "text/plain": [
       "rating\n",
       "0       37.44\n",
       "E       26.59\n",
       "E10+    17.87\n",
       "M       47.03\n",
       "T       22.86\n",
       "Name: na_sales, dtype: float64"
      ]
     },
     "execution_count": 60,
     "metadata": {},
     "output_type": "execute_result"
    }
   ],
   "source": [
    "na_ratings = data.groupby('rating').sum().na_sales\n",
    "na_ratings "
   ]
  },
  {
   "cell_type": "markdown",
   "metadata": {},
   "source": [
    "*В Северной Америке рейтинг ESRB выше всего влияет на продажи со знаком \"М\" (взрослые, но не младше 17 лет). 0 у нас на втором месте, но мы учитывать его не будем, так как у нас это пропущенные значения*"
   ]
  },
  {
   "cell_type": "code",
   "execution_count": 61,
   "metadata": {},
   "outputs": [
    {
     "data": {
      "text/plain": [
       "rating\n",
       "0       35.71\n",
       "E       34.83\n",
       "E10+    11.54\n",
       "M       45.54\n",
       "T       20.32\n",
       "Name: eu_sales, dtype: float64"
      ]
     },
     "execution_count": 61,
     "metadata": {},
     "output_type": "execute_result"
    }
   ],
   "source": [
    "eu_ratings = data.groupby('rating').sum().eu_sales\n",
    "eu_ratings "
   ]
  },
  {
   "cell_type": "markdown",
   "metadata": {},
   "source": [
    "В Европе рейтинг ESRB выше всего влияет на продажи со знаком \"М\" (взрослые, но не младше 17 лет). 0 у нас на втором месте, но мы учитывать его не будем, так как у нас это пропущенные значения*"
   ]
  },
  {
   "cell_type": "code",
   "execution_count": 62,
   "metadata": {},
   "outputs": [
    {
     "data": {
      "text/plain": [
       "rating\n",
       "0       32.89\n",
       "E        5.25\n",
       "E10+     3.27\n",
       "M        4.29\n",
       "T        7.70\n",
       "Name: jp_sales, dtype: float64"
      ]
     },
     "execution_count": 62,
     "metadata": {},
     "output_type": "execute_result"
    }
   ],
   "source": [
    "jp_ratings = data.groupby('rating').sum().jp_sales\n",
    "jp_ratings "
   ]
  },
  {
   "cell_type": "markdown",
   "metadata": {},
   "source": [
    "0 так же как не будем учитывать. В Японии рейтинг ESRB выше всего влияет на продажи со знаком \"Т\" (подростки, от 13 лет)."
   ]
  },
  {
   "cell_type": "markdown",
   "metadata": {},
   "source": [
    "*Посмотрим как рейтинг ESRB влияет на продажи на графике*"
   ]
  },
  {
   "cell_type": "code",
   "execution_count": 63,
   "metadata": {},
   "outputs": [
    {
     "data": {
      "image/png": "[encoded data removed]",
      "text/plain": [
       "<Figure size 1080x504 with 1 Axes>"
      ]
     },
     "metadata": {
      "needs_background": "light"
     },
     "output_type": "display_data"
    }
   ],
   "source": [
    "data_rating = pd.DataFrame([na_ratings, eu_ratings, jp_ratings])\n",
    "data_rating.plot(kind='bar', figsize=(15,7))\n",
    "plt.title('Влияние рейтинга по странам')\n",
    "plt.xlabel('страна')\n",
    "plt.ylabel('Продаж')\n",
    "plt.show()"
   ]
  },
  {
   "cell_type": "markdown",
   "metadata": {},
   "source": [
    "*По графику можем сказать что рейтинг ESRB в Северной Америке и в Европе влияет на продажи \"М\" (взрослые, но не младше 17 лет). Пропущенные занчения примерно на одном уровне во всех 3-х странах, если бы пропушенные значения были заполнены, то показатели могут значительно поменятся.*  "
   ]
  },
  {
   "cell_type": "markdown",
   "metadata": {},
   "source": [
    "**5. Проверьте гипотезы**"
   ]
  },
  {
   "cell_type": "markdown",
   "metadata": {},
   "source": [
    "*- Средние пользовательские рейтинги платформ Xbox One и PC одинаковые*"
   ]
  },
  {
   "cell_type": "markdown",
   "metadata": {},
   "source": [
    "Нулевая гипотеза: средний пользовательский рейтинг платформы Xbox One == средний пользовательский рейтинг платформы PC\n",
    "\n",
    "Альтернативная гипотеза: средний пользовательский рейтинг платформы Xbox One != средний пользовательский рейтинг платформы PC"
   ]
  },
  {
   "cell_type": "code",
   "execution_count": 64,
   "metadata": {},
   "outputs": [
    {
     "name": "stdout",
     "output_type": "stream",
     "text": [
      "p-значение: 1.0\n",
      "Не получилось отвергнуть нулевую гипотезу\n"
     ]
    }
   ],
   "source": [
    "data_xbox = data.query('platform == \"Xbox One\"')['user_score']\n",
    "data_pc = data.query('platform == \"PC\"')['user_score']\n",
    " \n",
    "alpha = .05 \n",
    "\n",
    "results = st.ttest_ind(\n",
    "    data_pc,\n",
    "    data_pc,\n",
    "    equal_var=False)\n",
    "\n",
    "print('p-значение:', results.pvalue)\n",
    "\n",
    "if (results.pvalue < alpha):\n",
    "    print(\"Отвергаем нулевую гипотезу\")\n",
    "else:\n",
    "    print(\"Не получилось отвергнуть нулевую гипотезу\")"
   ]
  },
  {
   "cell_type": "markdown",
   "metadata": {},
   "source": [
    "*- Средние пользовательские рейтинги жанров Action (англ. «действие», экшен-игры) и Sports (англ. «спортивные соревнования») разные.*"
   ]
  },
  {
   "cell_type": "markdown",
   "metadata": {},
   "source": [
    "Нулевая гипотеза: средний пользовательский рейтинг жанра Action == средний пользовательский рейтинг жанра Sports\n",
    "\n",
    "Альтернативная гипотеза: средний пользовательский рейтинг жанра Action != средний пользовательский рейтинг жанра Sports"
   ]
  },
  {
   "cell_type": "code",
   "execution_count": 65,
   "metadata": {},
   "outputs": [
    {
     "name": "stdout",
     "output_type": "stream",
     "text": [
      "p-значение: 2.3015128616973647e-11\n",
      "Отвергаем нулевую гипотезу\n"
     ]
    }
   ],
   "source": [
    "data_action = data.query('genre == \"Action\"')['user_score']\n",
    "data_sports = data.query('genre == \"Sports\"')['user_score']\n",
    "\n",
    "alpha = .05 \n",
    "\n",
    "results = st.ttest_ind(\n",
    "    data_action,\n",
    "    data_sports,\n",
    "    equal_var=False)\n",
    "\n",
    "print('p-значение:', results.pvalue)\n",
    "\n",
    "if (results.pvalue < alpha):\n",
    "    print(\"Отвергаем нулевую гипотезу\")\n",
    "else:\n",
    "    print(\"Не получилось отвергнуть нулевую гипотезу\")"
   ]
  },
  {
   "cell_type": "markdown",
   "metadata": {},
   "source": [
    "В первой гипотезе:\n",
    "\"Средние пользовательские рейтинги платформ Xbox one и PC одинаковые\". Нулевую гипотезу не удалось опровергнуть.\n",
    "p-значение: 1.0\n",
    "\n",
    "\n",
    "Во второй гипотезе:\n",
    "\"Средние пользовательские рейтинги жанров Action и Sports разные\". Отвергаем нулевую гипотезу.\n",
    "p-значение: 2.3015128616973563e-11\n",
    "\n"
   ]
  },
  {
   "cell_type": "markdown",
   "metadata": {},
   "source": [
    "Для проверки гипотез мы вабрали критерий t-тест, потому что Т-тест позволит нам узнать средние значения двух выборок путем сравнения, а также вероятность того, что эти результаты возникли случайно."
   ]
  },
  {
   "cell_type": "markdown",
   "metadata": {},
   "source": [
    "**6. Общий вывод.**\n",
    "\n",
    "*И так, у нас файл с данными котором мы изучили и подготовили к дальнейшему анализу:\n",
    "- привели название столбцов к нижнему регистру\n",
    "- нашли пропущенные значения в столбцах: Critic_Score, User_Score, Rating, Genre, Name, Year_of_Release.\n",
    "- преобразовали в тип данных int столбец year_of_release, что бы годы преобразовались в цлые числа. И столец user_score преобразовали на тип float/\n",
    "- в столбце year_of_release пропущенные значения возяли из названия игр.\n",
    "- столбец user_score с аббревиатурой tbd, который мы изменили в NaN, а потом преобразовали в тип float. Пропущенны значения заменим медианой И столбце critic_score ток же заменим медианой.\n",
    "- посчитали суммарные продажи во всех регионах и записали их в отдельный столбец\n",
    "\n",
    "После анализа мы провели исследовательский анализ данных, выявили:\n",
    "- активный рост выпука новых игр начался с 2000-х и с 2010 начался спад.\n",
    "- платформы с наибольшим сумаными продажами,это: PS2, X360, PS3, Wii, DS и PS\n",
    "- выявили что средний срок жизни платфоры примерно 10 лет;\n",
    "- выяснили что все платформы существующие с 2015 по 2016 стремятся к 0, некоторые на грани. Но PS4 самая продоваемая, после идет XONE и 3DS\n",
    "- выяснили что на продажи по одной из популярных платформ PS4 больше влияют оценки критиков чем пользователей. И такое же влияние на продажи и по остольным платформам;\n",
    "- выделили самый высокий показатель у жанра Shooter, а самый низкий у Puzzle.\n",
    "\n",
    "\n",
    "**В итоге для прогноза будущего мы выяснили.**\n",
    "\n",
    "Для стран Европы и Северной Америки самые подходящие платформы PS4 и XOne, с жанрами игор Shooter и Sports и с рейтингом \"М\" (взролым от 17 лет).\n",
    "\n",
    "Для Японии самая продаваемая платформа 3DS с жанром Role-Playing и рейтингом \"Т\" (подростки, от 13 лет), но если вспомнить что продолжительность жизни платформ ~10 лет, а 3DS начали выпускать в 2010 году, то можно предположить что продажи будут падать. Поэтому для Японии  в будующем лучшеакцентировать на WiiU (начало жизни платформы в 2012г. Эта же платформа на 3 месте по продажам в Европе и Северной Америке) и PS4 (она в Японии на 3-ем месте по продаам.).\n",
    "  "
   ]
  }
 ],
 "metadata": {
  "ExecuteTimeLog": [
   {
    "duration": 43,
    "start_time": "2022-08-13T11:21:24.638Z"
   },
   {
    "duration": 387,
    "start_time": "2022-08-13T11:21:53.109Z"
   },
   {
    "duration": 65,
    "start_time": "2022-08-13T11:24:26.941Z"
   },
   {
    "duration": 94,
    "start_time": "2022-08-13T11:25:06.636Z"
   },
   {
    "duration": 24,
    "start_time": "2022-08-13T11:25:27.979Z"
   },
   {
    "duration": 899,
    "start_time": "2022-08-13T11:27:59.055Z"
   },
   {
    "duration": 15,
    "start_time": "2022-08-13T11:29:46.072Z"
   },
   {
    "duration": 727,
    "start_time": "2022-08-13T11:33:12.384Z"
   },
   {
    "duration": 424,
    "start_time": "2022-08-13T11:33:56.183Z"
   },
   {
    "duration": 243,
    "start_time": "2022-08-13T11:33:56.609Z"
   },
   {
    "duration": 3,
    "start_time": "2022-08-13T11:33:56.854Z"
   },
   {
    "duration": 58,
    "start_time": "2022-08-13T11:33:56.859Z"
   },
   {
    "duration": 18,
    "start_time": "2022-08-13T11:33:56.919Z"
   },
   {
    "duration": 13,
    "start_time": "2022-08-13T11:33:56.939Z"
   },
   {
    "duration": 793,
    "start_time": "2022-08-13T11:33:56.954Z"
   },
   {
    "duration": 480,
    "start_time": "2022-08-15T16:16:47.589Z"
   },
   {
    "duration": 482,
    "start_time": "2022-08-15T16:16:48.073Z"
   },
   {
    "duration": 3,
    "start_time": "2022-08-15T16:16:48.557Z"
   },
   {
    "duration": 253,
    "start_time": "2022-08-15T16:16:48.562Z"
   },
   {
    "duration": 30,
    "start_time": "2022-08-15T16:16:48.817Z"
   },
   {
    "duration": 31,
    "start_time": "2022-08-15T16:16:48.849Z"
   },
   {
    "duration": 956,
    "start_time": "2022-08-15T16:16:48.882Z"
   },
   {
    "duration": 23,
    "start_time": "2022-08-15T16:38:32.567Z"
   },
   {
    "duration": 34,
    "start_time": "2022-08-15T16:40:49.378Z"
   },
   {
    "duration": 13,
    "start_time": "2022-08-15T16:51:56.457Z"
   },
   {
    "duration": 10,
    "start_time": "2022-08-15T16:57:19.112Z"
   },
   {
    "duration": 14,
    "start_time": "2022-08-15T17:05:14.241Z"
   },
   {
    "duration": 27,
    "start_time": "2022-08-15T17:05:21.798Z"
   },
   {
    "duration": 37,
    "start_time": "2022-08-15T17:09:21.803Z"
   },
   {
    "duration": 79,
    "start_time": "2022-08-15T17:27:21.435Z"
   },
   {
    "duration": 17,
    "start_time": "2022-08-15T17:31:51.309Z"
   },
   {
    "duration": 22,
    "start_time": "2022-08-15T17:43:46.213Z"
   },
   {
    "duration": 23,
    "start_time": "2022-08-15T17:53:20.567Z"
   },
   {
    "duration": 109,
    "start_time": "2022-08-15T17:55:24.619Z"
   },
   {
    "duration": 13,
    "start_time": "2022-08-15T17:55:35.529Z"
   },
   {
    "duration": 2573,
    "start_time": "2022-08-15T17:55:40.553Z"
   },
   {
    "duration": 24,
    "start_time": "2022-08-15T17:55:57.735Z"
   },
   {
    "duration": 87,
    "start_time": "2022-08-15T17:56:38.846Z"
   },
   {
    "duration": 460,
    "start_time": "2022-08-15T17:57:00.922Z"
   },
   {
    "duration": 323,
    "start_time": "2022-08-15T17:57:01.384Z"
   },
   {
    "duration": 3,
    "start_time": "2022-08-15T17:57:01.715Z"
   },
   {
    "duration": 84,
    "start_time": "2022-08-15T17:57:01.721Z"
   },
   {
    "duration": 37,
    "start_time": "2022-08-15T17:57:01.809Z"
   },
   {
    "duration": 36,
    "start_time": "2022-08-15T17:57:01.848Z"
   },
   {
    "duration": 66,
    "start_time": "2022-08-15T17:57:01.887Z"
   },
   {
    "duration": 56,
    "start_time": "2022-08-15T17:57:01.956Z"
   },
   {
    "duration": 56,
    "start_time": "2022-08-15T17:57:02.014Z"
   },
   {
    "duration": 9,
    "start_time": "2022-08-15T17:59:04.438Z"
   },
   {
    "duration": 23,
    "start_time": "2022-08-15T18:11:15.033Z"
   },
   {
    "duration": 6,
    "start_time": "2022-08-15T18:20:20.873Z"
   },
   {
    "duration": 377,
    "start_time": "2022-08-15T19:51:00.629Z"
   },
   {
    "duration": 367,
    "start_time": "2022-08-15T19:51:01.008Z"
   },
   {
    "duration": 2,
    "start_time": "2022-08-15T19:51:01.377Z"
   },
   {
    "duration": 173,
    "start_time": "2022-08-15T19:51:01.381Z"
   },
   {
    "duration": 21,
    "start_time": "2022-08-15T19:51:01.556Z"
   },
   {
    "duration": 13,
    "start_time": "2022-08-15T19:51:01.579Z"
   },
   {
    "duration": 9,
    "start_time": "2022-08-15T19:51:01.594Z"
   },
   {
    "duration": 23,
    "start_time": "2022-08-15T19:51:01.605Z"
   },
   {
    "duration": 9,
    "start_time": "2022-08-15T19:51:01.630Z"
   },
   {
    "duration": 32,
    "start_time": "2022-08-15T19:51:01.641Z"
   },
   {
    "duration": 6,
    "start_time": "2022-08-15T19:51:01.674Z"
   },
   {
    "duration": 20,
    "start_time": "2022-08-15T19:51:01.681Z"
   },
   {
    "duration": 72,
    "start_time": "2022-08-15T19:58:07.839Z"
   },
   {
    "duration": 9,
    "start_time": "2022-08-15T19:58:16.715Z"
   },
   {
    "duration": 8,
    "start_time": "2022-08-15T20:00:14.521Z"
   },
   {
    "duration": 374,
    "start_time": "2022-08-15T20:01:41.410Z"
   },
   {
    "duration": 210,
    "start_time": "2022-08-15T20:01:41.786Z"
   },
   {
    "duration": 3,
    "start_time": "2022-08-15T20:01:41.997Z"
   },
   {
    "duration": 56,
    "start_time": "2022-08-15T20:01:42.002Z"
   },
   {
    "duration": 21,
    "start_time": "2022-08-15T20:01:42.060Z"
   },
   {
    "duration": 12,
    "start_time": "2022-08-15T20:01:42.082Z"
   },
   {
    "duration": 7,
    "start_time": "2022-08-15T20:01:42.095Z"
   },
   {
    "duration": 15,
    "start_time": "2022-08-15T20:01:42.104Z"
   },
   {
    "duration": 6,
    "start_time": "2022-08-15T20:01:42.121Z"
   },
   {
    "duration": 17,
    "start_time": "2022-08-15T20:01:42.129Z"
   },
   {
    "duration": 6,
    "start_time": "2022-08-15T20:01:42.147Z"
   },
   {
    "duration": 11,
    "start_time": "2022-08-15T20:01:42.154Z"
   },
   {
    "duration": 37,
    "start_time": "2022-08-15T20:01:42.167Z"
   },
   {
    "duration": 8,
    "start_time": "2022-08-15T20:04:33.870Z"
   },
   {
    "duration": 210,
    "start_time": "2022-08-15T20:10:42.363Z"
   },
   {
    "duration": 133,
    "start_time": "2022-08-15T20:10:51.169Z"
   },
   {
    "duration": 1073,
    "start_time": "2022-08-15T20:15:07.171Z"
   },
   {
    "duration": 9,
    "start_time": "2022-08-15T20:15:29.601Z"
   },
   {
    "duration": 8,
    "start_time": "2022-08-15T20:15:45.788Z"
   },
   {
    "duration": 4,
    "start_time": "2022-08-15T20:20:31.582Z"
   },
   {
    "duration": 4,
    "start_time": "2022-08-15T20:20:38.909Z"
   },
   {
    "duration": 7,
    "start_time": "2022-08-15T20:21:02.147Z"
   },
   {
    "duration": 8,
    "start_time": "2022-08-15T20:22:05.977Z"
   },
   {
    "duration": 349,
    "start_time": "2022-08-15T20:22:41.661Z"
   },
   {
    "duration": 194,
    "start_time": "2022-08-15T20:22:42.012Z"
   },
   {
    "duration": 2,
    "start_time": "2022-08-15T20:22:42.208Z"
   },
   {
    "duration": 60,
    "start_time": "2022-08-15T20:22:42.211Z"
   },
   {
    "duration": 20,
    "start_time": "2022-08-15T20:22:42.272Z"
   },
   {
    "duration": 11,
    "start_time": "2022-08-15T20:22:42.294Z"
   },
   {
    "duration": 14,
    "start_time": "2022-08-15T20:22:42.307Z"
   },
   {
    "duration": 8,
    "start_time": "2022-08-15T20:22:42.323Z"
   },
   {
    "duration": 15,
    "start_time": "2022-08-15T20:22:42.332Z"
   },
   {
    "duration": 5,
    "start_time": "2022-08-15T20:22:42.349Z"
   },
   {
    "duration": 26,
    "start_time": "2022-08-15T20:22:42.355Z"
   },
   {
    "duration": 20,
    "start_time": "2022-08-15T20:22:42.382Z"
   },
   {
    "duration": 20,
    "start_time": "2022-08-15T20:22:42.404Z"
   },
   {
    "duration": 7,
    "start_time": "2022-08-15T20:22:42.425Z"
   },
   {
    "duration": 67,
    "start_time": "2022-08-15T20:22:42.434Z"
   },
   {
    "duration": 17,
    "start_time": "2022-08-15T20:32:08.052Z"
   },
   {
    "duration": 1010,
    "start_time": "2022-08-15T20:35:21.071Z"
   },
   {
    "duration": 681,
    "start_time": "2022-08-15T20:35:30.984Z"
   },
   {
    "duration": 14,
    "start_time": "2022-08-15T20:35:41.186Z"
   },
   {
    "duration": 9,
    "start_time": "2022-08-15T20:36:28.870Z"
   },
   {
    "duration": 18,
    "start_time": "2022-08-15T20:48:48.839Z"
   },
   {
    "duration": 3,
    "start_time": "2022-08-16T19:18:13.436Z"
   },
   {
    "duration": 18,
    "start_time": "2022-08-16T19:18:24.637Z"
   },
   {
    "duration": 4,
    "start_time": "2022-08-16T19:26:05.325Z"
   },
   {
    "duration": 28,
    "start_time": "2022-08-16T19:26:31.722Z"
   },
   {
    "duration": 22,
    "start_time": "2022-08-16T19:26:42.131Z"
   },
   {
    "duration": 23,
    "start_time": "2022-08-16T19:26:56.699Z"
   },
   {
    "duration": 387,
    "start_time": "2022-08-16T19:40:38.529Z"
   },
   {
    "duration": 233,
    "start_time": "2022-08-16T19:40:38.918Z"
   },
   {
    "duration": 2,
    "start_time": "2022-08-16T19:40:39.153Z"
   },
   {
    "duration": 7,
    "start_time": "2022-08-16T19:40:39.158Z"
   },
   {
    "duration": 56,
    "start_time": "2022-08-16T19:40:39.167Z"
   },
   {
    "duration": 24,
    "start_time": "2022-08-16T19:40:39.224Z"
   },
   {
    "duration": 12,
    "start_time": "2022-08-16T19:40:39.250Z"
   },
   {
    "duration": 8,
    "start_time": "2022-08-16T19:40:39.263Z"
   },
   {
    "duration": 37,
    "start_time": "2022-08-16T19:40:39.273Z"
   },
   {
    "duration": 7,
    "start_time": "2022-08-16T19:40:39.312Z"
   },
   {
    "duration": 21,
    "start_time": "2022-08-16T19:40:39.320Z"
   },
   {
    "duration": 7,
    "start_time": "2022-08-16T19:40:39.343Z"
   },
   {
    "duration": 48,
    "start_time": "2022-08-16T19:40:39.351Z"
   },
   {
    "duration": 20,
    "start_time": "2022-08-16T19:40:39.401Z"
   },
   {
    "duration": 9,
    "start_time": "2022-08-16T19:40:39.422Z"
   },
   {
    "duration": 21,
    "start_time": "2022-08-16T19:40:39.433Z"
   },
   {
    "duration": 4,
    "start_time": "2022-08-16T19:40:39.456Z"
   },
   {
    "duration": 51,
    "start_time": "2022-08-16T19:40:39.462Z"
   },
   {
    "duration": 4,
    "start_time": "2022-08-16T19:40:39.515Z"
   },
   {
    "duration": 25,
    "start_time": "2022-08-16T19:40:39.521Z"
   },
   {
    "duration": 47,
    "start_time": "2022-08-16T19:40:39.548Z"
   },
   {
    "duration": 3,
    "start_time": "2022-08-16T19:42:54.913Z"
   },
   {
    "duration": 17,
    "start_time": "2022-08-16T19:45:02.938Z"
   },
   {
    "duration": 16,
    "start_time": "2022-08-16T19:45:11.195Z"
   },
   {
    "duration": 17,
    "start_time": "2022-08-16T19:46:56.275Z"
   },
   {
    "duration": 254,
    "start_time": "2022-08-16T19:51:49.932Z"
   },
   {
    "duration": 5,
    "start_time": "2022-08-16T19:52:10.347Z"
   },
   {
    "duration": 4,
    "start_time": "2022-08-16T19:52:28.221Z"
   },
   {
    "duration": 30,
    "start_time": "2022-08-16T19:52:51.935Z"
   },
   {
    "duration": 27,
    "start_time": "2022-08-16T19:53:14.024Z"
   },
   {
    "duration": 21,
    "start_time": "2022-08-16T19:53:29.624Z"
   },
   {
    "duration": 18,
    "start_time": "2022-08-16T19:53:39.389Z"
   },
   {
    "duration": 140,
    "start_time": "2022-08-16T19:54:34.701Z"
   },
   {
    "duration": 5,
    "start_time": "2022-08-16T19:54:36.934Z"
   },
   {
    "duration": 4,
    "start_time": "2022-08-16T19:54:46.605Z"
   },
   {
    "duration": 17,
    "start_time": "2022-08-16T19:54:58.880Z"
   },
   {
    "duration": 16,
    "start_time": "2022-08-16T19:55:55.415Z"
   },
   {
    "duration": 4,
    "start_time": "2022-08-16T20:09:50.502Z"
   },
   {
    "duration": 17,
    "start_time": "2022-08-16T20:09:51.931Z"
   },
   {
    "duration": 16,
    "start_time": "2022-08-16T20:10:12.425Z"
   },
   {
    "duration": 411,
    "start_time": "2022-08-16T20:10:35.771Z"
   },
   {
    "duration": 202,
    "start_time": "2022-08-16T20:10:36.184Z"
   },
   {
    "duration": 2,
    "start_time": "2022-08-16T20:10:36.388Z"
   },
   {
    "duration": 6,
    "start_time": "2022-08-16T20:10:36.392Z"
   },
   {
    "duration": 68,
    "start_time": "2022-08-16T20:10:36.400Z"
   },
   {
    "duration": 21,
    "start_time": "2022-08-16T20:10:36.469Z"
   },
   {
    "duration": 11,
    "start_time": "2022-08-16T20:10:36.491Z"
   },
   {
    "duration": 8,
    "start_time": "2022-08-16T20:10:36.503Z"
   },
   {
    "duration": 13,
    "start_time": "2022-08-16T20:10:36.512Z"
   },
   {
    "duration": 6,
    "start_time": "2022-08-16T20:10:36.527Z"
   },
   {
    "duration": 17,
    "start_time": "2022-08-16T20:10:36.534Z"
   },
   {
    "duration": 5,
    "start_time": "2022-08-16T20:10:36.553Z"
   },
   {
    "duration": 46,
    "start_time": "2022-08-16T20:10:36.560Z"
   },
   {
    "duration": 17,
    "start_time": "2022-08-16T20:10:36.607Z"
   },
   {
    "duration": 8,
    "start_time": "2022-08-16T20:10:36.626Z"
   },
   {
    "duration": 16,
    "start_time": "2022-08-16T20:10:36.636Z"
   },
   {
    "duration": 3,
    "start_time": "2022-08-16T20:10:36.653Z"
   },
   {
    "duration": 46,
    "start_time": "2022-08-16T20:10:36.658Z"
   },
   {
    "duration": 4,
    "start_time": "2022-08-16T20:10:36.705Z"
   },
   {
    "duration": 21,
    "start_time": "2022-08-16T20:10:36.710Z"
   },
   {
    "duration": 303,
    "start_time": "2022-08-16T20:10:36.732Z"
   },
   {
    "duration": 20,
    "start_time": "2022-08-16T20:10:37.036Z"
   },
   {
    "duration": 15,
    "start_time": "2022-08-16T20:10:37.057Z"
   },
   {
    "duration": 5,
    "start_time": "2022-08-16T20:10:37.074Z"
   },
   {
    "duration": 16,
    "start_time": "2022-08-16T20:10:37.098Z"
   },
   {
    "duration": 16,
    "start_time": "2022-08-16T20:10:37.116Z"
   },
   {
    "duration": 12,
    "start_time": "2022-08-16T20:10:58.791Z"
   },
   {
    "duration": 18,
    "start_time": "2022-08-16T20:11:27.531Z"
   },
   {
    "duration": 16,
    "start_time": "2022-08-16T20:11:28.831Z"
   },
   {
    "duration": 389,
    "start_time": "2022-08-16T20:12:13.693Z"
   },
   {
    "duration": 200,
    "start_time": "2022-08-16T20:12:14.084Z"
   },
   {
    "duration": 2,
    "start_time": "2022-08-16T20:12:14.285Z"
   },
   {
    "duration": 9,
    "start_time": "2022-08-16T20:12:14.289Z"
   },
   {
    "duration": 54,
    "start_time": "2022-08-16T20:12:14.299Z"
   },
   {
    "duration": 22,
    "start_time": "2022-08-16T20:12:14.354Z"
   },
   {
    "duration": 17,
    "start_time": "2022-08-16T20:12:14.378Z"
   },
   {
    "duration": 9,
    "start_time": "2022-08-16T20:12:14.397Z"
   },
   {
    "duration": 19,
    "start_time": "2022-08-16T20:12:14.407Z"
   },
   {
    "duration": 7,
    "start_time": "2022-08-16T20:12:14.429Z"
   },
   {
    "duration": 28,
    "start_time": "2022-08-16T20:12:14.438Z"
   },
   {
    "duration": 7,
    "start_time": "2022-08-16T20:12:14.467Z"
   },
   {
    "duration": 36,
    "start_time": "2022-08-16T20:12:14.476Z"
   },
   {
    "duration": 20,
    "start_time": "2022-08-16T20:12:14.513Z"
   },
   {
    "duration": 7,
    "start_time": "2022-08-16T20:12:14.535Z"
   },
   {
    "duration": 19,
    "start_time": "2022-08-16T20:12:14.543Z"
   },
   {
    "duration": 3,
    "start_time": "2022-08-16T20:12:14.564Z"
   },
   {
    "duration": 35,
    "start_time": "2022-08-16T20:12:14.568Z"
   },
   {
    "duration": 4,
    "start_time": "2022-08-16T20:12:14.604Z"
   },
   {
    "duration": 13,
    "start_time": "2022-08-16T20:12:14.609Z"
   },
   {
    "duration": 9,
    "start_time": "2022-08-16T20:12:14.623Z"
   },
   {
    "duration": 20,
    "start_time": "2022-08-16T20:12:14.633Z"
   },
   {
    "duration": 16,
    "start_time": "2022-08-16T20:12:14.654Z"
   },
   {
    "duration": 2,
    "start_time": "2022-08-16T20:13:13.825Z"
   },
   {
    "duration": 18,
    "start_time": "2022-08-16T20:13:14.333Z"
   },
   {
    "duration": 20,
    "start_time": "2022-08-16T20:13:14.923Z"
   },
   {
    "duration": 405,
    "start_time": "2022-08-16T20:15:08.262Z"
   },
   {
    "duration": 200,
    "start_time": "2022-08-16T20:15:08.669Z"
   },
   {
    "duration": 2,
    "start_time": "2022-08-16T20:15:08.872Z"
   },
   {
    "duration": 7,
    "start_time": "2022-08-16T20:15:08.875Z"
   },
   {
    "duration": 57,
    "start_time": "2022-08-16T20:15:08.884Z"
   },
   {
    "duration": 21,
    "start_time": "2022-08-16T20:15:08.942Z"
   },
   {
    "duration": 14,
    "start_time": "2022-08-16T20:15:08.964Z"
   },
   {
    "duration": 7,
    "start_time": "2022-08-16T20:15:08.980Z"
   },
   {
    "duration": 19,
    "start_time": "2022-08-16T20:15:08.989Z"
   },
   {
    "duration": 5,
    "start_time": "2022-08-16T20:15:09.009Z"
   },
   {
    "duration": 19,
    "start_time": "2022-08-16T20:15:09.016Z"
   },
   {
    "duration": 7,
    "start_time": "2022-08-16T20:15:09.037Z"
   },
   {
    "duration": 19,
    "start_time": "2022-08-16T20:15:09.045Z"
   },
   {
    "duration": 39,
    "start_time": "2022-08-16T20:15:09.066Z"
   },
   {
    "duration": 8,
    "start_time": "2022-08-16T20:15:09.107Z"
   },
   {
    "duration": 17,
    "start_time": "2022-08-16T20:15:09.117Z"
   },
   {
    "duration": 2,
    "start_time": "2022-08-16T20:15:09.136Z"
   },
   {
    "duration": 17,
    "start_time": "2022-08-16T20:15:09.140Z"
   },
   {
    "duration": 3,
    "start_time": "2022-08-16T20:15:09.158Z"
   },
   {
    "duration": 48,
    "start_time": "2022-08-16T20:15:09.163Z"
   },
   {
    "duration": 12,
    "start_time": "2022-08-16T20:15:13.976Z"
   },
   {
    "duration": 13,
    "start_time": "2022-08-16T20:15:20.711Z"
   },
   {
    "duration": 12,
    "start_time": "2022-08-16T20:15:24.642Z"
   },
   {
    "duration": 3,
    "start_time": "2022-08-16T20:15:40.570Z"
   },
   {
    "duration": 13,
    "start_time": "2022-08-16T20:15:41.235Z"
   },
   {
    "duration": 13,
    "start_time": "2022-08-16T20:15:47.580Z"
   },
   {
    "duration": 71,
    "start_time": "2022-08-16T20:15:53.620Z"
   },
   {
    "duration": 4,
    "start_time": "2022-08-16T20:16:07.979Z"
   },
   {
    "duration": 13,
    "start_time": "2022-08-16T20:16:11.344Z"
   },
   {
    "duration": 14,
    "start_time": "2022-08-16T20:16:17.726Z"
   },
   {
    "duration": 44,
    "start_time": "2022-08-17T15:17:21.119Z"
   },
   {
    "duration": 409,
    "start_time": "2022-08-17T15:17:27.818Z"
   },
   {
    "duration": 356,
    "start_time": "2022-08-17T15:17:28.229Z"
   },
   {
    "duration": 3,
    "start_time": "2022-08-17T15:17:28.587Z"
   },
   {
    "duration": 5,
    "start_time": "2022-08-17T15:17:28.592Z"
   },
   {
    "duration": 103,
    "start_time": "2022-08-17T15:17:28.598Z"
   },
   {
    "duration": 23,
    "start_time": "2022-08-17T15:17:28.702Z"
   },
   {
    "duration": 14,
    "start_time": "2022-08-17T15:17:28.726Z"
   },
   {
    "duration": 9,
    "start_time": "2022-08-17T15:17:28.741Z"
   },
   {
    "duration": 16,
    "start_time": "2022-08-17T15:17:28.752Z"
   },
   {
    "duration": 6,
    "start_time": "2022-08-17T15:17:28.771Z"
   },
   {
    "duration": 39,
    "start_time": "2022-08-17T15:17:28.779Z"
   },
   {
    "duration": 7,
    "start_time": "2022-08-17T15:17:28.820Z"
   },
   {
    "duration": 20,
    "start_time": "2022-08-17T15:17:28.829Z"
   },
   {
    "duration": 18,
    "start_time": "2022-08-17T15:17:28.850Z"
   },
   {
    "duration": 8,
    "start_time": "2022-08-17T15:17:28.870Z"
   },
   {
    "duration": 43,
    "start_time": "2022-08-17T15:17:28.879Z"
   },
   {
    "duration": 8,
    "start_time": "2022-08-17T15:17:28.924Z"
   },
   {
    "duration": 19,
    "start_time": "2022-08-17T15:17:28.934Z"
   },
   {
    "duration": 6,
    "start_time": "2022-08-17T15:17:28.955Z"
   },
   {
    "duration": 17,
    "start_time": "2022-08-17T15:17:28.962Z"
   },
   {
    "duration": 16,
    "start_time": "2022-08-17T15:17:39.247Z"
   },
   {
    "duration": 19,
    "start_time": "2022-08-17T15:19:42.911Z"
   },
   {
    "duration": 20,
    "start_time": "2022-08-17T15:21:35.386Z"
   },
   {
    "duration": 314,
    "start_time": "2022-08-17T16:47:18.886Z"
   },
   {
    "duration": 16,
    "start_time": "2022-08-17T16:48:42.048Z"
   },
   {
    "duration": 16,
    "start_time": "2022-08-17T16:48:46.212Z"
   },
   {
    "duration": 191,
    "start_time": "2022-08-17T16:48:55.559Z"
   },
   {
    "duration": 17,
    "start_time": "2022-08-17T16:48:56.287Z"
   },
   {
    "duration": 20,
    "start_time": "2022-08-17T16:49:03.827Z"
   },
   {
    "duration": 434,
    "start_time": "2022-08-17T19:16:46.789Z"
   },
   {
    "duration": 455,
    "start_time": "2022-08-17T19:16:47.226Z"
   },
   {
    "duration": 12,
    "start_time": "2022-08-17T19:16:47.685Z"
   },
   {
    "duration": 13,
    "start_time": "2022-08-17T19:16:47.698Z"
   },
   {
    "duration": 212,
    "start_time": "2022-08-17T19:16:47.712Z"
   },
   {
    "duration": 28,
    "start_time": "2022-08-17T19:16:47.926Z"
   },
   {
    "duration": 19,
    "start_time": "2022-08-17T19:16:47.956Z"
   },
   {
    "duration": 25,
    "start_time": "2022-08-17T19:16:47.977Z"
   },
   {
    "duration": 27,
    "start_time": "2022-08-17T19:16:48.011Z"
   },
   {
    "duration": 12,
    "start_time": "2022-08-17T19:16:48.040Z"
   },
   {
    "duration": 39,
    "start_time": "2022-08-17T19:16:48.054Z"
   },
   {
    "duration": 10,
    "start_time": "2022-08-17T19:16:48.100Z"
   },
   {
    "duration": 31,
    "start_time": "2022-08-17T19:16:48.113Z"
   },
   {
    "duration": 22,
    "start_time": "2022-08-17T19:16:48.146Z"
   },
   {
    "duration": 34,
    "start_time": "2022-08-17T19:16:48.170Z"
   },
   {
    "duration": 31,
    "start_time": "2022-08-17T19:16:48.205Z"
   },
   {
    "duration": 3,
    "start_time": "2022-08-17T19:16:48.238Z"
   },
   {
    "duration": 24,
    "start_time": "2022-08-17T19:16:48.244Z"
   },
   {
    "duration": 25,
    "start_time": "2022-08-17T19:16:48.270Z"
   },
   {
    "duration": 37,
    "start_time": "2022-08-17T19:16:48.297Z"
   },
   {
    "duration": 401,
    "start_time": "2022-08-17T19:16:48.335Z"
   },
   {
    "duration": 19,
    "start_time": "2022-08-17T19:16:48.737Z"
   },
   {
    "duration": 44,
    "start_time": "2022-08-17T19:16:48.758Z"
   },
   {
    "duration": 95,
    "start_time": "2022-08-17T19:25:39.923Z"
   },
   {
    "duration": 10,
    "start_time": "2022-08-17T19:26:13.661Z"
   },
   {
    "duration": 11,
    "start_time": "2022-08-17T19:26:40.116Z"
   },
   {
    "duration": 20,
    "start_time": "2022-08-17T19:42:27.246Z"
   },
   {
    "duration": 6,
    "start_time": "2022-08-17T19:59:47.681Z"
   },
   {
    "duration": 11,
    "start_time": "2022-08-17T20:02:22.625Z"
   },
   {
    "duration": 10,
    "start_time": "2022-08-17T20:02:28.466Z"
   },
   {
    "duration": 6,
    "start_time": "2022-08-17T20:11:53.038Z"
   },
   {
    "duration": 29,
    "start_time": "2022-08-17T20:11:59.423Z"
   },
   {
    "duration": 10,
    "start_time": "2022-08-17T20:32:09.333Z"
   },
   {
    "duration": 12,
    "start_time": "2022-08-17T20:32:19.963Z"
   },
   {
    "duration": 486,
    "start_time": "2022-08-17T20:36:31.758Z"
   },
   {
    "duration": 262,
    "start_time": "2022-08-17T20:36:32.246Z"
   },
   {
    "duration": 3,
    "start_time": "2022-08-17T20:36:32.510Z"
   },
   {
    "duration": 10,
    "start_time": "2022-08-17T20:36:32.515Z"
   },
   {
    "duration": 597,
    "start_time": "2022-08-17T20:36:32.527Z"
   },
   {
    "duration": 60,
    "start_time": "2022-08-17T20:36:33.126Z"
   },
   {
    "duration": 28,
    "start_time": "2022-08-17T20:36:33.188Z"
   },
   {
    "duration": 24,
    "start_time": "2022-08-17T20:36:33.219Z"
   },
   {
    "duration": 15,
    "start_time": "2022-08-17T20:36:33.245Z"
   },
   {
    "duration": 44,
    "start_time": "2022-08-17T20:36:33.263Z"
   },
   {
    "duration": 8,
    "start_time": "2022-08-17T20:36:33.308Z"
   },
   {
    "duration": 26,
    "start_time": "2022-08-17T20:36:33.317Z"
   },
   {
    "duration": 8,
    "start_time": "2022-08-17T20:36:33.345Z"
   },
   {
    "duration": 26,
    "start_time": "2022-08-17T20:36:33.391Z"
   },
   {
    "duration": 33,
    "start_time": "2022-08-17T20:36:33.419Z"
   },
   {
    "duration": 10,
    "start_time": "2022-08-17T20:36:33.454Z"
   },
   {
    "duration": 50,
    "start_time": "2022-08-17T20:36:33.466Z"
   },
   {
    "duration": 3,
    "start_time": "2022-08-17T20:36:33.518Z"
   },
   {
    "duration": 26,
    "start_time": "2022-08-17T20:36:33.523Z"
   },
   {
    "duration": 6,
    "start_time": "2022-08-17T20:36:33.551Z"
   },
   {
    "duration": 48,
    "start_time": "2022-08-17T20:36:33.560Z"
   },
   {
    "duration": 412,
    "start_time": "2022-08-17T20:36:33.610Z"
   },
   {
    "duration": 20,
    "start_time": "2022-08-17T20:36:34.024Z"
   },
   {
    "duration": 30,
    "start_time": "2022-08-17T20:36:34.046Z"
   },
   {
    "duration": 22,
    "start_time": "2022-08-17T20:36:34.078Z"
   },
   {
    "duration": 16,
    "start_time": "2022-08-17T20:36:34.103Z"
   },
   {
    "duration": 6,
    "start_time": "2022-08-17T20:36:34.121Z"
   },
   {
    "duration": 12,
    "start_time": "2022-08-17T20:36:34.130Z"
   },
   {
    "duration": 7,
    "start_time": "2022-08-17T20:36:34.144Z"
   },
   {
    "duration": 63,
    "start_time": "2022-08-17T20:36:34.153Z"
   },
   {
    "duration": 123,
    "start_time": "2022-08-17T20:36:34.218Z"
   },
   {
    "duration": 15,
    "start_time": "2022-08-17T20:40:37.692Z"
   },
   {
    "duration": 12,
    "start_time": "2022-08-17T20:40:45.320Z"
   },
   {
    "duration": 470,
    "start_time": "2022-08-17T20:41:07.864Z"
   },
   {
    "duration": 377,
    "start_time": "2022-08-17T20:41:08.336Z"
   },
   {
    "duration": 4,
    "start_time": "2022-08-17T20:41:08.715Z"
   },
   {
    "duration": 9,
    "start_time": "2022-08-17T20:41:08.721Z"
   },
   {
    "duration": 595,
    "start_time": "2022-08-17T20:41:08.732Z"
   },
   {
    "duration": 61,
    "start_time": "2022-08-17T20:41:09.329Z"
   },
   {
    "duration": 33,
    "start_time": "2022-08-17T20:41:09.391Z"
   },
   {
    "duration": 22,
    "start_time": "2022-08-17T20:41:09.427Z"
   },
   {
    "duration": 13,
    "start_time": "2022-08-17T20:41:09.451Z"
   },
   {
    "duration": 26,
    "start_time": "2022-08-17T20:41:09.491Z"
   },
   {
    "duration": 9,
    "start_time": "2022-08-17T20:41:09.519Z"
   },
   {
    "duration": 31,
    "start_time": "2022-08-17T20:41:09.530Z"
   },
   {
    "duration": 32,
    "start_time": "2022-08-17T20:41:09.564Z"
   },
   {
    "duration": 32,
    "start_time": "2022-08-17T20:41:09.597Z"
   },
   {
    "duration": 37,
    "start_time": "2022-08-17T20:41:09.631Z"
   },
   {
    "duration": 27,
    "start_time": "2022-08-17T20:41:09.671Z"
   },
   {
    "duration": 35,
    "start_time": "2022-08-17T20:41:09.700Z"
   },
   {
    "duration": 7,
    "start_time": "2022-08-17T20:41:09.737Z"
   },
   {
    "duration": 48,
    "start_time": "2022-08-17T20:41:09.746Z"
   },
   {
    "duration": 9,
    "start_time": "2022-08-17T20:41:09.796Z"
   },
   {
    "duration": 22,
    "start_time": "2022-08-17T20:41:09.806Z"
   },
   {
    "duration": 414,
    "start_time": "2022-08-17T20:41:09.830Z"
   },
   {
    "duration": 22,
    "start_time": "2022-08-17T20:41:10.246Z"
   },
   {
    "duration": 49,
    "start_time": "2022-08-17T20:41:10.271Z"
   },
   {
    "duration": 14,
    "start_time": "2022-08-17T20:41:10.322Z"
   },
   {
    "duration": 13,
    "start_time": "2022-08-17T20:41:10.339Z"
   },
   {
    "duration": 10,
    "start_time": "2022-08-17T20:41:10.355Z"
   },
   {
    "duration": 12,
    "start_time": "2022-08-17T20:41:10.391Z"
   },
   {
    "duration": 7,
    "start_time": "2022-08-17T20:41:10.406Z"
   },
   {
    "duration": 57,
    "start_time": "2022-08-17T20:41:10.416Z"
   },
   {
    "duration": 153,
    "start_time": "2022-08-17T20:41:10.475Z"
   },
   {
    "duration": 11,
    "start_time": "2022-08-17T20:52:19.295Z"
   },
   {
    "duration": 12,
    "start_time": "2022-08-17T20:52:43.309Z"
   },
   {
    "duration": 110,
    "start_time": "2022-08-17T20:53:06.743Z"
   },
   {
    "duration": 10,
    "start_time": "2022-08-17T20:54:34.082Z"
   },
   {
    "duration": 10,
    "start_time": "2022-08-17T20:54:54.900Z"
   },
   {
    "duration": 25,
    "start_time": "2022-08-17T20:55:03.864Z"
   },
   {
    "duration": 380,
    "start_time": "2022-08-18T16:21:30.956Z"
   },
   {
    "duration": 427,
    "start_time": "2022-08-18T16:21:31.338Z"
   },
   {
    "duration": 3,
    "start_time": "2022-08-18T16:21:31.766Z"
   },
   {
    "duration": 5,
    "start_time": "2022-08-18T16:21:31.771Z"
   },
   {
    "duration": 498,
    "start_time": "2022-08-18T16:21:31.778Z"
   },
   {
    "duration": 92,
    "start_time": "2022-08-18T16:21:32.278Z"
   },
   {
    "duration": 22,
    "start_time": "2022-08-18T16:21:32.371Z"
   },
   {
    "duration": 12,
    "start_time": "2022-08-18T16:21:32.395Z"
   },
   {
    "duration": 8,
    "start_time": "2022-08-18T16:21:32.408Z"
   },
   {
    "duration": 18,
    "start_time": "2022-08-18T16:21:32.418Z"
   },
   {
    "duration": 5,
    "start_time": "2022-08-18T16:21:32.437Z"
   },
   {
    "duration": 21,
    "start_time": "2022-08-18T16:21:32.444Z"
   },
   {
    "duration": 6,
    "start_time": "2022-08-18T16:21:32.467Z"
   },
   {
    "duration": 44,
    "start_time": "2022-08-18T16:21:32.474Z"
   },
   {
    "duration": 19,
    "start_time": "2022-08-18T16:21:32.519Z"
   },
   {
    "duration": 10,
    "start_time": "2022-08-18T16:21:32.540Z"
   },
   {
    "duration": 22,
    "start_time": "2022-08-18T16:21:32.552Z"
   },
   {
    "duration": 25,
    "start_time": "2022-08-18T16:21:32.575Z"
   },
   {
    "duration": 20,
    "start_time": "2022-08-18T16:21:32.602Z"
   },
   {
    "duration": 9,
    "start_time": "2022-08-18T16:21:32.624Z"
   },
   {
    "duration": 17,
    "start_time": "2022-08-18T16:21:32.635Z"
   },
   {
    "duration": 304,
    "start_time": "2022-08-18T16:21:32.654Z"
   },
   {
    "duration": 17,
    "start_time": "2022-08-18T16:21:32.960Z"
   },
   {
    "duration": 32,
    "start_time": "2022-08-18T16:21:32.979Z"
   },
   {
    "duration": 10,
    "start_time": "2022-08-18T16:21:33.013Z"
   },
   {
    "duration": 8,
    "start_time": "2022-08-18T16:21:33.025Z"
   },
   {
    "duration": 5,
    "start_time": "2022-08-18T16:21:33.034Z"
   },
   {
    "duration": 10,
    "start_time": "2022-08-18T16:21:33.041Z"
   },
   {
    "duration": 5,
    "start_time": "2022-08-18T16:21:33.052Z"
   },
   {
    "duration": 45,
    "start_time": "2022-08-18T16:21:33.058Z"
   },
   {
    "duration": 102,
    "start_time": "2022-08-18T16:21:33.105Z"
   },
   {
    "duration": 9,
    "start_time": "2022-08-18T16:27:35.286Z"
   },
   {
    "duration": 7,
    "start_time": "2022-08-18T16:27:42.990Z"
   },
   {
    "duration": 208,
    "start_time": "2022-08-18T16:34:12.632Z"
   },
   {
    "duration": 12,
    "start_time": "2022-08-18T16:35:08.769Z"
   },
   {
    "duration": 11,
    "start_time": "2022-08-18T16:35:42.199Z"
   },
   {
    "duration": 199,
    "start_time": "2022-08-18T16:39:52.173Z"
   },
   {
    "duration": 205,
    "start_time": "2022-08-18T16:40:18.510Z"
   },
   {
    "duration": 233,
    "start_time": "2022-08-18T16:40:30.091Z"
   },
   {
    "duration": 221,
    "start_time": "2022-08-18T16:40:40.425Z"
   },
   {
    "duration": 206,
    "start_time": "2022-08-18T16:40:59.294Z"
   },
   {
    "duration": 275,
    "start_time": "2022-08-18T16:41:43.330Z"
   },
   {
    "duration": 188,
    "start_time": "2022-08-18T16:42:13.614Z"
   },
   {
    "duration": 203,
    "start_time": "2022-08-18T16:47:10.661Z"
   },
   {
    "duration": 14,
    "start_time": "2022-08-18T16:57:10.272Z"
   },
   {
    "duration": 11,
    "start_time": "2022-08-18T16:57:42.245Z"
   },
   {
    "duration": 13,
    "start_time": "2022-08-18T16:57:51.553Z"
   },
   {
    "duration": 12,
    "start_time": "2022-08-18T16:58:11.795Z"
   },
   {
    "duration": 14,
    "start_time": "2022-08-18T16:58:19.665Z"
   },
   {
    "duration": 14,
    "start_time": "2022-08-18T16:59:34.098Z"
   },
   {
    "duration": 20,
    "start_time": "2022-08-18T17:26:31.370Z"
   },
   {
    "duration": 16,
    "start_time": "2022-08-18T17:26:41.693Z"
   },
   {
    "duration": 350,
    "start_time": "2022-08-18T17:27:31.924Z"
   },
   {
    "duration": 363,
    "start_time": "2022-08-18T17:30:47.044Z"
   },
   {
    "duration": 371,
    "start_time": "2022-08-18T18:21:35.391Z"
   },
   {
    "duration": 386,
    "start_time": "2022-08-18T18:22:11.301Z"
   },
   {
    "duration": 25,
    "start_time": "2022-08-18T19:54:08.676Z"
   },
   {
    "duration": 378,
    "start_time": "2022-08-18T19:54:17.125Z"
   },
   {
    "duration": 52,
    "start_time": "2022-08-18T19:54:41.523Z"
   },
   {
    "duration": 243,
    "start_time": "2022-08-18T19:54:49.476Z"
   },
   {
    "duration": 28,
    "start_time": "2022-08-18T19:54:55.995Z"
   },
   {
    "duration": 559,
    "start_time": "2022-08-18T19:55:03.863Z"
   },
   {
    "duration": 205,
    "start_time": "2022-08-18T20:12:16.842Z"
   },
   {
    "duration": 507,
    "start_time": "2022-08-18T20:13:09.641Z"
   },
   {
    "duration": 489,
    "start_time": "2022-08-18T20:14:32.498Z"
   },
   {
    "duration": 393,
    "start_time": "2022-08-19T08:31:13.053Z"
   },
   {
    "duration": 385,
    "start_time": "2022-08-19T08:31:13.448Z"
   },
   {
    "duration": 3,
    "start_time": "2022-08-19T08:31:13.835Z"
   },
   {
    "duration": 10,
    "start_time": "2022-08-19T08:31:13.841Z"
   },
   {
    "duration": 506,
    "start_time": "2022-08-19T08:31:13.852Z"
   },
   {
    "duration": 120,
    "start_time": "2022-08-19T08:31:14.360Z"
   },
   {
    "duration": 29,
    "start_time": "2022-08-19T08:31:14.483Z"
   },
   {
    "duration": 17,
    "start_time": "2022-08-19T08:31:14.514Z"
   },
   {
    "duration": 13,
    "start_time": "2022-08-19T08:31:14.533Z"
   },
   {
    "duration": 45,
    "start_time": "2022-08-19T08:31:14.549Z"
   },
   {
    "duration": 9,
    "start_time": "2022-08-19T08:31:14.596Z"
   },
   {
    "duration": 31,
    "start_time": "2022-08-19T08:31:14.607Z"
   },
   {
    "duration": 6,
    "start_time": "2022-08-19T08:31:14.642Z"
   },
   {
    "duration": 36,
    "start_time": "2022-08-19T08:31:14.650Z"
   },
   {
    "duration": 19,
    "start_time": "2022-08-19T08:31:14.687Z"
   },
   {
    "duration": 9,
    "start_time": "2022-08-19T08:31:14.707Z"
   },
   {
    "duration": 20,
    "start_time": "2022-08-19T08:31:14.717Z"
   },
   {
    "duration": 3,
    "start_time": "2022-08-19T08:31:14.738Z"
   },
   {
    "duration": 47,
    "start_time": "2022-08-19T08:31:14.742Z"
   },
   {
    "duration": 7,
    "start_time": "2022-08-19T08:31:14.791Z"
   },
   {
    "duration": 21,
    "start_time": "2022-08-19T08:31:14.799Z"
   },
   {
    "duration": 314,
    "start_time": "2022-08-19T08:31:14.822Z"
   },
   {
    "duration": 17,
    "start_time": "2022-08-19T08:31:15.138Z"
   },
   {
    "duration": 30,
    "start_time": "2022-08-19T08:31:15.157Z"
   },
   {
    "duration": 8,
    "start_time": "2022-08-19T08:31:15.189Z"
   },
   {
    "duration": 9,
    "start_time": "2022-08-19T08:31:15.199Z"
   },
   {
    "duration": 6,
    "start_time": "2022-08-19T08:31:15.210Z"
   },
   {
    "duration": 9,
    "start_time": "2022-08-19T08:31:15.220Z"
   },
   {
    "duration": 5,
    "start_time": "2022-08-19T08:31:15.231Z"
   },
   {
    "duration": 64,
    "start_time": "2022-08-19T08:31:15.238Z"
   },
   {
    "duration": 7,
    "start_time": "2022-08-19T08:31:15.304Z"
   },
   {
    "duration": 210,
    "start_time": "2022-08-19T08:31:15.312Z"
   },
   {
    "duration": 10,
    "start_time": "2022-08-19T08:31:15.524Z"
   },
   {
    "duration": 324,
    "start_time": "2022-08-19T08:31:15.536Z"
   },
   {
    "duration": 540,
    "start_time": "2022-08-19T08:31:15.863Z"
   },
   {
    "duration": 622,
    "start_time": "2022-08-19T08:31:16.405Z"
   },
   {
    "duration": 253,
    "start_time": "2022-08-19T08:31:30.664Z"
   },
   {
    "duration": 469,
    "start_time": "2022-08-19T08:45:26.504Z"
   },
   {
    "duration": 99,
    "start_time": "2022-08-19T08:53:32.302Z"
   },
   {
    "duration": 157,
    "start_time": "2022-08-19T08:54:04.219Z"
   },
   {
    "duration": 90,
    "start_time": "2022-08-19T08:54:20.070Z"
   },
   {
    "duration": 175,
    "start_time": "2022-08-19T08:54:33.671Z"
   },
   {
    "duration": 67,
    "start_time": "2022-08-19T08:54:42.094Z"
   },
   {
    "duration": 10,
    "start_time": "2022-08-19T08:56:01.869Z"
   },
   {
    "duration": 508,
    "start_time": "2022-08-19T08:56:10.993Z"
   },
   {
    "duration": 206,
    "start_time": "2022-08-19T08:57:20.815Z"
   },
   {
    "duration": 219,
    "start_time": "2022-08-19T08:57:50.996Z"
   },
   {
    "duration": 214,
    "start_time": "2022-08-19T08:59:45.531Z"
   },
   {
    "duration": 17,
    "start_time": "2022-08-19T09:22:32.198Z"
   },
   {
    "duration": 70,
    "start_time": "2022-08-19T09:23:24.285Z"
   },
   {
    "duration": 80,
    "start_time": "2022-08-19T09:23:30.125Z"
   },
   {
    "duration": 112,
    "start_time": "2022-08-19T09:23:38.774Z"
   },
   {
    "duration": 24,
    "start_time": "2022-08-19T09:23:53.629Z"
   },
   {
    "duration": 14,
    "start_time": "2022-08-19T09:29:57.867Z"
   },
   {
    "duration": 15,
    "start_time": "2022-08-19T09:30:49.823Z"
   },
   {
    "duration": 399,
    "start_time": "2022-08-19T09:30:58.378Z"
   },
   {
    "duration": 228,
    "start_time": "2022-08-19T09:30:58.779Z"
   },
   {
    "duration": 3,
    "start_time": "2022-08-19T09:30:59.008Z"
   },
   {
    "duration": 4,
    "start_time": "2022-08-19T09:30:59.013Z"
   },
   {
    "duration": 439,
    "start_time": "2022-08-19T09:30:59.019Z"
   },
   {
    "duration": 50,
    "start_time": "2022-08-19T09:30:59.459Z"
   },
   {
    "duration": 22,
    "start_time": "2022-08-19T09:30:59.510Z"
   },
   {
    "duration": 12,
    "start_time": "2022-08-19T09:30:59.534Z"
   },
   {
    "duration": 7,
    "start_time": "2022-08-19T09:30:59.548Z"
   },
   {
    "duration": 33,
    "start_time": "2022-08-19T09:30:59.557Z"
   },
   {
    "duration": 6,
    "start_time": "2022-08-19T09:30:59.591Z"
   },
   {
    "duration": 20,
    "start_time": "2022-08-19T09:30:59.598Z"
   },
   {
    "duration": 5,
    "start_time": "2022-08-19T09:30:59.620Z"
   },
   {
    "duration": 17,
    "start_time": "2022-08-19T09:30:59.627Z"
   },
   {
    "duration": 46,
    "start_time": "2022-08-19T09:30:59.646Z"
   },
   {
    "duration": 9,
    "start_time": "2022-08-19T09:30:59.694Z"
   },
   {
    "duration": 19,
    "start_time": "2022-08-19T09:30:59.704Z"
   },
   {
    "duration": 3,
    "start_time": "2022-08-19T09:30:59.725Z"
   },
   {
    "duration": 23,
    "start_time": "2022-08-19T09:30:59.729Z"
   },
   {
    "duration": 12,
    "start_time": "2022-08-19T09:30:59.753Z"
   },
   {
    "duration": 17,
    "start_time": "2022-08-19T09:30:59.784Z"
   },
   {
    "duration": 310,
    "start_time": "2022-08-19T09:30:59.802Z"
   },
   {
    "duration": 19,
    "start_time": "2022-08-19T09:31:00.114Z"
   },
   {
    "duration": 33,
    "start_time": "2022-08-19T09:31:00.135Z"
   },
   {
    "duration": 19,
    "start_time": "2022-08-19T09:31:00.170Z"
   },
   {
    "duration": 9,
    "start_time": "2022-08-19T09:31:00.191Z"
   },
   {
    "duration": 5,
    "start_time": "2022-08-19T09:31:00.202Z"
   },
   {
    "duration": 9,
    "start_time": "2022-08-19T09:31:00.211Z"
   },
   {
    "duration": 5,
    "start_time": "2022-08-19T09:31:00.222Z"
   },
   {
    "duration": 38,
    "start_time": "2022-08-19T09:31:00.228Z"
   },
   {
    "duration": 17,
    "start_time": "2022-08-19T09:31:00.269Z"
   },
   {
    "duration": 234,
    "start_time": "2022-08-19T09:31:00.288Z"
   },
   {
    "duration": 11,
    "start_time": "2022-08-19T09:31:00.524Z"
   },
   {
    "duration": 327,
    "start_time": "2022-08-19T09:31:00.537Z"
   },
   {
    "duration": 265,
    "start_time": "2022-08-19T09:31:00.867Z"
   },
   {
    "duration": 620,
    "start_time": "2022-08-19T09:31:01.134Z"
   },
   {
    "duration": 25,
    "start_time": "2022-08-19T09:33:29.366Z"
   },
   {
    "duration": 196,
    "start_time": "2022-08-19T09:43:33.656Z"
   },
   {
    "duration": 187,
    "start_time": "2022-08-19T10:17:22.928Z"
   },
   {
    "duration": 23,
    "start_time": "2022-08-19T10:18:08.495Z"
   },
   {
    "duration": 421,
    "start_time": "2022-08-19T10:18:21.137Z"
   },
   {
    "duration": 237,
    "start_time": "2022-08-19T10:18:21.560Z"
   },
   {
    "duration": 3,
    "start_time": "2022-08-19T10:18:21.799Z"
   },
   {
    "duration": 5,
    "start_time": "2022-08-19T10:18:21.804Z"
   },
   {
    "duration": 470,
    "start_time": "2022-08-19T10:18:21.811Z"
   },
   {
    "duration": 49,
    "start_time": "2022-08-19T10:18:22.283Z"
   },
   {
    "duration": 21,
    "start_time": "2022-08-19T10:18:22.334Z"
   },
   {
    "duration": 13,
    "start_time": "2022-08-19T10:18:22.356Z"
   },
   {
    "duration": 8,
    "start_time": "2022-08-19T10:18:22.371Z"
   },
   {
    "duration": 14,
    "start_time": "2022-08-19T10:18:22.384Z"
   },
   {
    "duration": 6,
    "start_time": "2022-08-19T10:18:22.399Z"
   },
   {
    "duration": 20,
    "start_time": "2022-08-19T10:18:22.406Z"
   },
   {
    "duration": 6,
    "start_time": "2022-08-19T10:18:22.428Z"
   },
   {
    "duration": 19,
    "start_time": "2022-08-19T10:18:22.435Z"
   },
   {
    "duration": 45,
    "start_time": "2022-08-19T10:18:22.456Z"
   },
   {
    "duration": 8,
    "start_time": "2022-08-19T10:18:22.502Z"
   },
   {
    "duration": 22,
    "start_time": "2022-08-19T10:18:22.511Z"
   },
   {
    "duration": 3,
    "start_time": "2022-08-19T10:18:22.535Z"
   },
   {
    "duration": 47,
    "start_time": "2022-08-19T10:18:22.539Z"
   },
   {
    "duration": 4,
    "start_time": "2022-08-19T10:18:22.587Z"
   },
   {
    "duration": 18,
    "start_time": "2022-08-19T10:18:22.593Z"
   },
   {
    "duration": 337,
    "start_time": "2022-08-19T10:18:22.612Z"
   },
   {
    "duration": 20,
    "start_time": "2022-08-19T10:18:22.951Z"
   },
   {
    "duration": 30,
    "start_time": "2022-08-19T10:18:22.972Z"
   },
   {
    "duration": 9,
    "start_time": "2022-08-19T10:18:23.004Z"
   },
   {
    "duration": 9,
    "start_time": "2022-08-19T10:18:23.015Z"
   },
   {
    "duration": 7,
    "start_time": "2022-08-19T10:18:23.025Z"
   },
   {
    "duration": 13,
    "start_time": "2022-08-19T10:18:23.037Z"
   },
   {
    "duration": 36,
    "start_time": "2022-08-19T10:18:23.052Z"
   },
   {
    "duration": 26,
    "start_time": "2022-08-19T10:18:23.090Z"
   },
   {
    "duration": 8,
    "start_time": "2022-08-19T10:18:23.118Z"
   },
   {
    "duration": 215,
    "start_time": "2022-08-19T10:18:23.127Z"
   },
   {
    "duration": 11,
    "start_time": "2022-08-19T10:18:23.343Z"
   },
   {
    "duration": 310,
    "start_time": "2022-08-19T10:18:23.355Z"
   },
   {
    "duration": 268,
    "start_time": "2022-08-19T10:18:23.666Z"
   },
   {
    "duration": 247,
    "start_time": "2022-08-19T10:18:23.935Z"
   },
   {
    "duration": 39,
    "start_time": "2022-08-19T10:19:04.584Z"
   },
   {
    "duration": 169,
    "start_time": "2022-08-19T10:20:40.530Z"
   },
   {
    "duration": 170,
    "start_time": "2022-08-19T10:21:09.887Z"
   },
   {
    "duration": 24,
    "start_time": "2022-08-19T10:24:42.334Z"
   },
   {
    "duration": 98,
    "start_time": "2022-08-19T10:24:45.848Z"
   },
   {
    "duration": 93,
    "start_time": "2022-08-19T10:25:01.510Z"
   },
   {
    "duration": 166,
    "start_time": "2022-08-19T10:25:08.732Z"
   },
   {
    "duration": 112,
    "start_time": "2022-08-19T10:25:23.597Z"
   },
   {
    "duration": 124,
    "start_time": "2022-08-19T10:25:37.887Z"
   },
   {
    "duration": 13,
    "start_time": "2022-08-19T10:25:56.672Z"
   },
   {
    "duration": 13,
    "start_time": "2022-08-19T10:26:33.035Z"
   },
   {
    "duration": 13,
    "start_time": "2022-08-19T10:26:46.143Z"
   },
   {
    "duration": 12,
    "start_time": "2022-08-19T10:26:58.928Z"
   },
   {
    "duration": 397,
    "start_time": "2022-08-19T14:35:38.562Z"
   },
   {
    "duration": 416,
    "start_time": "2022-08-19T14:35:38.961Z"
   },
   {
    "duration": 4,
    "start_time": "2022-08-19T14:35:39.379Z"
   },
   {
    "duration": 12,
    "start_time": "2022-08-19T14:35:39.386Z"
   },
   {
    "duration": 537,
    "start_time": "2022-08-19T14:35:39.401Z"
   },
   {
    "duration": 97,
    "start_time": "2022-08-19T14:35:39.940Z"
   },
   {
    "duration": 27,
    "start_time": "2022-08-19T14:35:40.038Z"
   },
   {
    "duration": 15,
    "start_time": "2022-08-19T14:35:40.066Z"
   },
   {
    "duration": 9,
    "start_time": "2022-08-19T14:35:40.083Z"
   },
   {
    "duration": 16,
    "start_time": "2022-08-19T14:35:40.095Z"
   },
   {
    "duration": 7,
    "start_time": "2022-08-19T14:35:40.112Z"
   },
   {
    "duration": 60,
    "start_time": "2022-08-19T14:35:40.121Z"
   },
   {
    "duration": 9,
    "start_time": "2022-08-19T14:35:40.183Z"
   },
   {
    "duration": 27,
    "start_time": "2022-08-19T14:35:40.194Z"
   },
   {
    "duration": 55,
    "start_time": "2022-08-19T14:35:40.223Z"
   },
   {
    "duration": 9,
    "start_time": "2022-08-19T14:35:40.281Z"
   },
   {
    "duration": 21,
    "start_time": "2022-08-19T14:35:40.292Z"
   },
   {
    "duration": 4,
    "start_time": "2022-08-19T14:35:40.314Z"
   },
   {
    "duration": 47,
    "start_time": "2022-08-19T14:35:40.319Z"
   },
   {
    "duration": 8,
    "start_time": "2022-08-19T14:35:40.368Z"
   },
   {
    "duration": 32,
    "start_time": "2022-08-19T14:35:40.378Z"
   },
   {
    "duration": 374,
    "start_time": "2022-08-19T14:35:40.412Z"
   },
   {
    "duration": 18,
    "start_time": "2022-08-19T14:35:40.788Z"
   },
   {
    "duration": 28,
    "start_time": "2022-08-19T14:35:40.808Z"
   },
   {
    "duration": 19,
    "start_time": "2022-08-19T14:35:40.838Z"
   },
   {
    "duration": 12,
    "start_time": "2022-08-19T14:35:40.859Z"
   },
   {
    "duration": 5,
    "start_time": "2022-08-19T14:35:40.873Z"
   },
   {
    "duration": 14,
    "start_time": "2022-08-19T14:35:40.881Z"
   },
   {
    "duration": 6,
    "start_time": "2022-08-19T14:35:40.896Z"
   },
   {
    "duration": 38,
    "start_time": "2022-08-19T14:35:40.903Z"
   },
   {
    "duration": 7,
    "start_time": "2022-08-19T14:35:40.942Z"
   },
   {
    "duration": 230,
    "start_time": "2022-08-19T14:35:40.957Z"
   },
   {
    "duration": 11,
    "start_time": "2022-08-19T14:35:41.188Z"
   },
   {
    "duration": 346,
    "start_time": "2022-08-19T14:35:41.201Z"
   },
   {
    "duration": 280,
    "start_time": "2022-08-19T14:35:41.549Z"
   },
   {
    "duration": 113,
    "start_time": "2022-08-19T14:35:41.831Z"
   },
   {
    "duration": 100,
    "start_time": "2022-08-19T15:08:21.495Z"
   },
   {
    "duration": 28,
    "start_time": "2022-08-19T15:13:50.437Z"
   },
   {
    "duration": 56,
    "start_time": "2022-08-19T15:39:07.156Z"
   },
   {
    "duration": 16,
    "start_time": "2022-08-19T15:39:40.834Z"
   },
   {
    "duration": 196,
    "start_time": "2022-08-19T15:39:57.068Z"
   },
   {
    "duration": 398,
    "start_time": "2022-08-19T15:40:12.464Z"
   },
   {
    "duration": 222,
    "start_time": "2022-08-19T15:40:12.864Z"
   },
   {
    "duration": 2,
    "start_time": "2022-08-19T15:40:13.088Z"
   },
   {
    "duration": 4,
    "start_time": "2022-08-19T15:40:13.093Z"
   },
   {
    "duration": 521,
    "start_time": "2022-08-19T15:40:13.099Z"
   },
   {
    "duration": 51,
    "start_time": "2022-08-19T15:40:13.621Z"
   },
   {
    "duration": 25,
    "start_time": "2022-08-19T15:40:13.674Z"
   },
   {
    "duration": 14,
    "start_time": "2022-08-19T15:40:13.700Z"
   },
   {
    "duration": 9,
    "start_time": "2022-08-19T15:40:13.715Z"
   },
   {
    "duration": 34,
    "start_time": "2022-08-19T15:40:13.726Z"
   },
   {
    "duration": 7,
    "start_time": "2022-08-19T15:40:13.761Z"
   },
   {
    "duration": 25,
    "start_time": "2022-08-19T15:40:13.770Z"
   },
   {
    "duration": 11,
    "start_time": "2022-08-19T15:40:13.796Z"
   },
   {
    "duration": 32,
    "start_time": "2022-08-19T15:40:13.809Z"
   },
   {
    "duration": 30,
    "start_time": "2022-08-19T15:40:13.842Z"
   },
   {
    "duration": 10,
    "start_time": "2022-08-19T15:40:13.874Z"
   },
   {
    "duration": 26,
    "start_time": "2022-08-19T15:40:13.885Z"
   },
   {
    "duration": 3,
    "start_time": "2022-08-19T15:40:13.913Z"
   },
   {
    "duration": 46,
    "start_time": "2022-08-19T15:40:13.918Z"
   },
   {
    "duration": 6,
    "start_time": "2022-08-19T15:40:13.966Z"
   },
   {
    "duration": 21,
    "start_time": "2022-08-19T15:40:13.973Z"
   },
   {
    "duration": 342,
    "start_time": "2022-08-19T15:40:13.995Z"
   },
   {
    "duration": 19,
    "start_time": "2022-08-19T15:40:14.339Z"
   },
   {
    "duration": 45,
    "start_time": "2022-08-19T15:40:14.360Z"
   },
   {
    "duration": 17,
    "start_time": "2022-08-19T15:40:14.407Z"
   },
   {
    "duration": 9,
    "start_time": "2022-08-19T15:40:14.425Z"
   },
   {
    "duration": 11,
    "start_time": "2022-08-19T15:40:14.435Z"
   },
   {
    "duration": 10,
    "start_time": "2022-08-19T15:40:14.449Z"
   },
   {
    "duration": 11,
    "start_time": "2022-08-19T15:40:14.461Z"
   },
   {
    "duration": 55,
    "start_time": "2022-08-19T15:40:14.473Z"
   },
   {
    "duration": 7,
    "start_time": "2022-08-19T15:40:14.530Z"
   },
   {
    "duration": 224,
    "start_time": "2022-08-19T15:40:14.538Z"
   },
   {
    "duration": 12,
    "start_time": "2022-08-19T15:40:14.763Z"
   },
   {
    "duration": 340,
    "start_time": "2022-08-19T15:40:14.776Z"
   },
   {
    "duration": 443,
    "start_time": "2022-08-19T15:40:15.118Z"
   },
   {
    "duration": 275,
    "start_time": "2022-08-19T15:40:15.564Z"
   },
   {
    "duration": 282,
    "start_time": "2022-08-19T15:40:15.841Z"
   },
   {
    "duration": 132,
    "start_time": "2022-08-19T15:40:16.125Z"
   },
   {
    "duration": 148,
    "start_time": "2022-08-19T15:42:28.013Z"
   },
   {
    "duration": 26,
    "start_time": "2022-08-19T15:42:43.926Z"
   },
   {
    "duration": 102,
    "start_time": "2022-08-19T15:42:51.826Z"
   },
   {
    "duration": 25,
    "start_time": "2022-08-19T15:43:09.101Z"
   },
   {
    "duration": 432,
    "start_time": "2022-08-19T15:43:17.765Z"
   },
   {
    "duration": 458,
    "start_time": "2022-08-19T15:43:18.198Z"
   },
   {
    "duration": 3,
    "start_time": "2022-08-19T15:43:18.658Z"
   },
   {
    "duration": 5,
    "start_time": "2022-08-19T15:43:18.663Z"
   },
   {
    "duration": 480,
    "start_time": "2022-08-19T15:43:18.670Z"
   },
   {
    "duration": 50,
    "start_time": "2022-08-19T15:43:19.152Z"
   },
   {
    "duration": 27,
    "start_time": "2022-08-19T15:43:19.204Z"
   },
   {
    "duration": 17,
    "start_time": "2022-08-19T15:43:19.233Z"
   },
   {
    "duration": 11,
    "start_time": "2022-08-19T15:43:19.253Z"
   },
   {
    "duration": 16,
    "start_time": "2022-08-19T15:43:19.267Z"
   },
   {
    "duration": 6,
    "start_time": "2022-08-19T15:43:19.285Z"
   },
   {
    "duration": 26,
    "start_time": "2022-08-19T15:43:19.292Z"
   },
   {
    "duration": 12,
    "start_time": "2022-08-19T15:43:19.320Z"
   },
   {
    "duration": 44,
    "start_time": "2022-08-19T15:43:19.334Z"
   },
   {
    "duration": 22,
    "start_time": "2022-08-19T15:43:19.379Z"
   },
   {
    "duration": 10,
    "start_time": "2022-08-19T15:43:19.403Z"
   },
   {
    "duration": 47,
    "start_time": "2022-08-19T15:43:19.414Z"
   },
   {
    "duration": 3,
    "start_time": "2022-08-19T15:43:19.463Z"
   },
   {
    "duration": 23,
    "start_time": "2022-08-19T15:43:19.467Z"
   },
   {
    "duration": 10,
    "start_time": "2022-08-19T15:43:19.492Z"
   },
   {
    "duration": 22,
    "start_time": "2022-08-19T15:43:19.504Z"
   },
   {
    "duration": 346,
    "start_time": "2022-08-19T15:43:19.527Z"
   },
   {
    "duration": 19,
    "start_time": "2022-08-19T15:43:19.874Z"
   },
   {
    "duration": 36,
    "start_time": "2022-08-19T15:43:19.895Z"
   },
   {
    "duration": 15,
    "start_time": "2022-08-19T15:43:19.932Z"
   },
   {
    "duration": 13,
    "start_time": "2022-08-19T15:43:19.957Z"
   },
   {
    "duration": 7,
    "start_time": "2022-08-19T15:43:19.972Z"
   },
   {
    "duration": 13,
    "start_time": "2022-08-19T15:43:19.982Z"
   },
   {
    "duration": 19,
    "start_time": "2022-08-19T15:43:19.996Z"
   },
   {
    "duration": 29,
    "start_time": "2022-08-19T15:43:20.017Z"
   },
   {
    "duration": 19,
    "start_time": "2022-08-19T15:43:20.048Z"
   },
   {
    "duration": 231,
    "start_time": "2022-08-19T15:43:20.070Z"
   },
   {
    "duration": 11,
    "start_time": "2022-08-19T15:43:20.302Z"
   },
   {
    "duration": 327,
    "start_time": "2022-08-19T15:43:20.315Z"
   },
   {
    "duration": 270,
    "start_time": "2022-08-19T15:43:20.643Z"
   },
   {
    "duration": 330,
    "start_time": "2022-08-19T15:43:20.915Z"
   },
   {
    "duration": 293,
    "start_time": "2022-08-19T15:46:31.729Z"
   },
   {
    "duration": 269,
    "start_time": "2022-08-19T15:46:51.741Z"
   },
   {
    "duration": 348,
    "start_time": "2022-08-19T15:46:58.797Z"
   },
   {
    "duration": 281,
    "start_time": "2022-08-19T16:06:15.244Z"
   },
   {
    "duration": 221,
    "start_time": "2022-08-19T16:06:54.465Z"
   },
   {
    "duration": 500,
    "start_time": "2022-08-19T16:07:24.398Z"
   },
   {
    "duration": 246,
    "start_time": "2022-08-19T16:07:41.223Z"
   },
   {
    "duration": 239,
    "start_time": "2022-08-19T16:11:40.445Z"
   },
   {
    "duration": 336,
    "start_time": "2022-08-19T16:13:28.629Z"
   },
   {
    "duration": 62,
    "start_time": "2022-08-19T16:19:17.653Z"
   },
   {
    "duration": 61,
    "start_time": "2022-08-19T16:19:27.331Z"
   },
   {
    "duration": 67,
    "start_time": "2022-08-19T16:19:40.441Z"
   },
   {
    "duration": 402,
    "start_time": "2022-08-19T16:19:55.278Z"
   },
   {
    "duration": 242,
    "start_time": "2022-08-19T16:19:55.682Z"
   },
   {
    "duration": 3,
    "start_time": "2022-08-19T16:19:55.925Z"
   },
   {
    "duration": 35,
    "start_time": "2022-08-19T16:19:55.930Z"
   },
   {
    "duration": 485,
    "start_time": "2022-08-19T16:19:55.966Z"
   },
   {
    "duration": 60,
    "start_time": "2022-08-19T16:19:56.453Z"
   },
   {
    "duration": 23,
    "start_time": "2022-08-19T16:19:56.515Z"
   },
   {
    "duration": 15,
    "start_time": "2022-08-19T16:19:56.540Z"
   },
   {
    "duration": 13,
    "start_time": "2022-08-19T16:19:56.556Z"
   },
   {
    "duration": 21,
    "start_time": "2022-08-19T16:19:56.571Z"
   },
   {
    "duration": 13,
    "start_time": "2022-08-19T16:19:56.594Z"
   },
   {
    "duration": 29,
    "start_time": "2022-08-19T16:19:56.609Z"
   },
   {
    "duration": 12,
    "start_time": "2022-08-19T16:19:56.639Z"
   },
   {
    "duration": 23,
    "start_time": "2022-08-19T16:19:56.652Z"
   },
   {
    "duration": 19,
    "start_time": "2022-08-19T16:19:56.677Z"
   },
   {
    "duration": 8,
    "start_time": "2022-08-19T16:19:56.698Z"
   },
   {
    "duration": 26,
    "start_time": "2022-08-19T16:19:56.708Z"
   },
   {
    "duration": 3,
    "start_time": "2022-08-19T16:19:56.736Z"
   },
   {
    "duration": 24,
    "start_time": "2022-08-19T16:19:56.756Z"
   },
   {
    "duration": 12,
    "start_time": "2022-08-19T16:19:56.782Z"
   },
   {
    "duration": 27,
    "start_time": "2022-08-19T16:19:56.796Z"
   },
   {
    "duration": 315,
    "start_time": "2022-08-19T16:19:56.825Z"
   },
   {
    "duration": 18,
    "start_time": "2022-08-19T16:19:57.142Z"
   },
   {
    "duration": 25,
    "start_time": "2022-08-19T16:19:57.162Z"
   },
   {
    "duration": 8,
    "start_time": "2022-08-19T16:19:57.189Z"
   },
   {
    "duration": 15,
    "start_time": "2022-08-19T16:19:57.198Z"
   },
   {
    "duration": 12,
    "start_time": "2022-08-19T16:19:57.215Z"
   },
   {
    "duration": 29,
    "start_time": "2022-08-19T16:19:57.231Z"
   },
   {
    "duration": 6,
    "start_time": "2022-08-19T16:19:57.262Z"
   },
   {
    "duration": 26,
    "start_time": "2022-08-19T16:19:57.269Z"
   },
   {
    "duration": 25,
    "start_time": "2022-08-19T16:19:57.297Z"
   },
   {
    "duration": 240,
    "start_time": "2022-08-19T16:19:57.324Z"
   },
   {
    "duration": 12,
    "start_time": "2022-08-19T16:19:57.566Z"
   },
   {
    "duration": 325,
    "start_time": "2022-08-19T16:19:57.580Z"
   },
   {
    "duration": 254,
    "start_time": "2022-08-19T16:19:57.907Z"
   },
   {
    "duration": 302,
    "start_time": "2022-08-19T16:19:58.163Z"
   },
   {
    "duration": 285,
    "start_time": "2022-08-19T16:19:58.467Z"
   },
   {
    "duration": 58,
    "start_time": "2022-08-19T16:19:58.757Z"
   },
   {
    "duration": 0,
    "start_time": "2022-08-19T16:19:58.817Z"
   },
   {
    "duration": 397,
    "start_time": "2022-08-19T16:20:46.935Z"
   },
   {
    "duration": 284,
    "start_time": "2022-08-19T16:21:33.127Z"
   },
   {
    "duration": 301,
    "start_time": "2022-08-19T16:21:39.985Z"
   },
   {
    "duration": 245,
    "start_time": "2022-08-19T16:21:47.229Z"
   },
   {
    "duration": 242,
    "start_time": "2022-08-19T16:22:17.676Z"
   },
   {
    "duration": 394,
    "start_time": "2022-08-20T11:58:29.328Z"
   },
   {
    "duration": 397,
    "start_time": "2022-08-20T11:58:29.724Z"
   },
   {
    "duration": 2,
    "start_time": "2022-08-20T11:58:30.124Z"
   },
   {
    "duration": 13,
    "start_time": "2022-08-20T11:58:30.128Z"
   },
   {
    "duration": 504,
    "start_time": "2022-08-20T11:58:30.143Z"
   },
   {
    "duration": 103,
    "start_time": "2022-08-20T11:58:30.648Z"
   },
   {
    "duration": 24,
    "start_time": "2022-08-20T11:58:30.752Z"
   },
   {
    "duration": 14,
    "start_time": "2022-08-20T11:58:30.778Z"
   },
   {
    "duration": 27,
    "start_time": "2022-08-20T11:58:30.793Z"
   },
   {
    "duration": 17,
    "start_time": "2022-08-20T11:58:30.822Z"
   },
   {
    "duration": 22,
    "start_time": "2022-08-20T11:58:30.841Z"
   },
   {
    "duration": 54,
    "start_time": "2022-08-20T11:58:30.865Z"
   },
   {
    "duration": 8,
    "start_time": "2022-08-20T11:58:30.921Z"
   },
   {
    "duration": 35,
    "start_time": "2022-08-20T11:58:30.932Z"
   },
   {
    "duration": 31,
    "start_time": "2022-08-20T11:58:30.969Z"
   },
   {
    "duration": 17,
    "start_time": "2022-08-20T11:58:31.002Z"
   },
   {
    "duration": 33,
    "start_time": "2022-08-20T11:58:31.021Z"
   },
   {
    "duration": 3,
    "start_time": "2022-08-20T11:58:31.057Z"
   },
   {
    "duration": 29,
    "start_time": "2022-08-20T11:58:31.062Z"
   },
   {
    "duration": 34,
    "start_time": "2022-08-20T11:58:31.093Z"
   },
   {
    "duration": 38,
    "start_time": "2022-08-20T11:58:31.129Z"
   },
   {
    "duration": 328,
    "start_time": "2022-08-20T11:58:31.168Z"
   },
   {
    "duration": 17,
    "start_time": "2022-08-20T11:58:31.498Z"
   },
   {
    "duration": 30,
    "start_time": "2022-08-20T11:58:31.517Z"
   },
   {
    "duration": 22,
    "start_time": "2022-08-20T11:58:31.549Z"
   },
   {
    "duration": 9,
    "start_time": "2022-08-20T11:58:31.572Z"
   },
   {
    "duration": 16,
    "start_time": "2022-08-20T11:58:31.583Z"
   },
   {
    "duration": 19,
    "start_time": "2022-08-20T11:58:31.600Z"
   },
   {
    "duration": 12,
    "start_time": "2022-08-20T11:58:31.620Z"
   },
   {
    "duration": 24,
    "start_time": "2022-08-20T11:58:31.634Z"
   },
   {
    "duration": 138,
    "start_time": "2022-08-20T11:58:31.659Z"
   },
   {
    "duration": 220,
    "start_time": "2022-08-20T11:58:31.798Z"
   },
   {
    "duration": 10,
    "start_time": "2022-08-20T11:58:32.019Z"
   },
   {
    "duration": 329,
    "start_time": "2022-08-20T11:58:32.031Z"
   },
   {
    "duration": 297,
    "start_time": "2022-08-20T11:58:32.362Z"
   },
   {
    "duration": 339,
    "start_time": "2022-08-20T11:58:32.661Z"
   },
   {
    "duration": 264,
    "start_time": "2022-08-20T11:58:33.001Z"
   },
   {
    "duration": 297,
    "start_time": "2022-08-20T11:58:33.266Z"
   },
   {
    "duration": 140,
    "start_time": "2022-08-20T12:15:20.529Z"
   },
   {
    "duration": 168,
    "start_time": "2022-08-20T12:15:28.948Z"
   },
   {
    "duration": 156,
    "start_time": "2022-08-20T12:15:35.054Z"
   },
   {
    "duration": 274,
    "start_time": "2022-08-20T12:16:17.536Z"
   },
   {
    "duration": 258,
    "start_time": "2022-08-20T12:17:17.230Z"
   },
   {
    "duration": 346,
    "start_time": "2022-08-20T12:17:36.366Z"
   },
   {
    "duration": 223,
    "start_time": "2022-08-20T12:17:36.715Z"
   },
   {
    "duration": 3,
    "start_time": "2022-08-20T12:17:36.939Z"
   },
   {
    "duration": 6,
    "start_time": "2022-08-20T12:17:36.944Z"
   },
   {
    "duration": 502,
    "start_time": "2022-08-20T12:17:36.951Z"
   },
   {
    "duration": 53,
    "start_time": "2022-08-20T12:17:37.455Z"
   },
   {
    "duration": 21,
    "start_time": "2022-08-20T12:17:37.510Z"
   },
   {
    "duration": 13,
    "start_time": "2022-08-20T12:17:37.532Z"
   },
   {
    "duration": 8,
    "start_time": "2022-08-20T12:17:37.547Z"
   },
   {
    "duration": 14,
    "start_time": "2022-08-20T12:17:37.557Z"
   },
   {
    "duration": 6,
    "start_time": "2022-08-20T12:17:37.573Z"
   },
   {
    "duration": 48,
    "start_time": "2022-08-20T12:17:37.580Z"
   },
   {
    "duration": 6,
    "start_time": "2022-08-20T12:17:37.629Z"
   },
   {
    "duration": 19,
    "start_time": "2022-08-20T12:17:37.636Z"
   },
   {
    "duration": 17,
    "start_time": "2022-08-20T12:17:37.656Z"
   },
   {
    "duration": 37,
    "start_time": "2022-08-20T12:17:37.675Z"
   },
   {
    "duration": 20,
    "start_time": "2022-08-20T12:17:37.714Z"
   },
   {
    "duration": 4,
    "start_time": "2022-08-20T12:17:37.735Z"
   },
   {
    "duration": 27,
    "start_time": "2022-08-20T12:17:37.740Z"
   },
   {
    "duration": 5,
    "start_time": "2022-08-20T12:17:37.769Z"
   },
   {
    "duration": 48,
    "start_time": "2022-08-20T12:17:37.776Z"
   },
   {
    "duration": 291,
    "start_time": "2022-08-20T12:17:37.825Z"
   },
   {
    "duration": 18,
    "start_time": "2022-08-20T12:17:38.117Z"
   },
   {
    "duration": 18,
    "start_time": "2022-08-20T12:17:38.137Z"
   },
   {
    "duration": 7,
    "start_time": "2022-08-20T12:17:38.157Z"
   },
   {
    "duration": 8,
    "start_time": "2022-08-20T12:17:38.165Z"
   },
   {
    "duration": 4,
    "start_time": "2022-08-20T12:17:38.174Z"
   },
   {
    "duration": 8,
    "start_time": "2022-08-20T12:17:38.212Z"
   },
   {
    "duration": 4,
    "start_time": "2022-08-20T12:17:38.222Z"
   },
   {
    "duration": 20,
    "start_time": "2022-08-20T12:17:38.227Z"
   },
   {
    "duration": 6,
    "start_time": "2022-08-20T12:17:38.248Z"
   },
   {
    "duration": 231,
    "start_time": "2022-08-20T12:17:38.255Z"
   },
   {
    "duration": 11,
    "start_time": "2022-08-20T12:17:38.488Z"
   },
   {
    "duration": 318,
    "start_time": "2022-08-20T12:17:38.511Z"
   },
   {
    "duration": 256,
    "start_time": "2022-08-20T12:17:38.831Z"
   },
   {
    "duration": 294,
    "start_time": "2022-08-20T12:17:39.088Z"
   },
   {
    "duration": 270,
    "start_time": "2022-08-20T12:17:39.383Z"
   },
   {
    "duration": 301,
    "start_time": "2022-08-20T12:17:39.654Z"
   },
   {
    "duration": 163,
    "start_time": "2022-08-20T12:17:39.957Z"
   },
   {
    "duration": 267,
    "start_time": "2022-08-20T12:17:48.460Z"
   },
   {
    "duration": 257,
    "start_time": "2022-08-20T12:18:04.411Z"
   },
   {
    "duration": 258,
    "start_time": "2022-08-20T12:18:38.761Z"
   },
   {
    "duration": 254,
    "start_time": "2022-08-20T12:19:53.265Z"
   },
   {
    "duration": 163,
    "start_time": "2022-08-20T12:22:25.858Z"
   },
   {
    "duration": 191,
    "start_time": "2022-08-20T12:22:57.721Z"
   },
   {
    "duration": 165,
    "start_time": "2022-08-20T12:23:57.252Z"
   },
   {
    "duration": 186,
    "start_time": "2022-08-20T12:24:12.728Z"
   },
   {
    "duration": 263,
    "start_time": "2022-08-20T12:24:19.513Z"
   },
   {
    "duration": 166,
    "start_time": "2022-08-20T12:24:36.337Z"
   },
   {
    "duration": 169,
    "start_time": "2022-08-20T12:24:54.473Z"
   },
   {
    "duration": 166,
    "start_time": "2022-08-20T12:25:13.879Z"
   },
   {
    "duration": 169,
    "start_time": "2022-08-20T12:25:23.291Z"
   },
   {
    "duration": 181,
    "start_time": "2022-08-20T12:42:36.149Z"
   },
   {
    "duration": 246,
    "start_time": "2022-08-20T12:44:28.430Z"
   },
   {
    "duration": 153,
    "start_time": "2022-08-20T12:44:49.342Z"
   },
   {
    "duration": 174,
    "start_time": "2022-08-20T12:47:12.327Z"
   },
   {
    "duration": 1026,
    "start_time": "2022-08-20T12:48:03.769Z"
   },
   {
    "duration": 177,
    "start_time": "2022-08-20T12:48:20.389Z"
   },
   {
    "duration": 5,
    "start_time": "2022-08-20T12:49:09.055Z"
   },
   {
    "duration": 6,
    "start_time": "2022-08-20T12:49:26.752Z"
   },
   {
    "duration": 399,
    "start_time": "2022-08-20T12:49:49.411Z"
   },
   {
    "duration": 206,
    "start_time": "2022-08-20T12:49:49.812Z"
   },
   {
    "duration": 2,
    "start_time": "2022-08-20T12:49:50.020Z"
   },
   {
    "duration": 6,
    "start_time": "2022-08-20T12:49:50.024Z"
   },
   {
    "duration": 427,
    "start_time": "2022-08-20T12:49:50.032Z"
   },
   {
    "duration": 53,
    "start_time": "2022-08-20T12:49:50.460Z"
   },
   {
    "duration": 22,
    "start_time": "2022-08-20T12:49:50.514Z"
   },
   {
    "duration": 13,
    "start_time": "2022-08-20T12:49:50.537Z"
   },
   {
    "duration": 9,
    "start_time": "2022-08-20T12:49:50.551Z"
   },
   {
    "duration": 15,
    "start_time": "2022-08-20T12:49:50.564Z"
   },
   {
    "duration": 35,
    "start_time": "2022-08-20T12:49:50.580Z"
   },
   {
    "duration": 23,
    "start_time": "2022-08-20T12:49:50.617Z"
   },
   {
    "duration": 8,
    "start_time": "2022-08-20T12:49:50.642Z"
   },
   {
    "duration": 20,
    "start_time": "2022-08-20T12:49:50.652Z"
   },
   {
    "duration": 39,
    "start_time": "2022-08-20T12:49:50.674Z"
   },
   {
    "duration": 9,
    "start_time": "2022-08-20T12:49:50.715Z"
   },
   {
    "duration": 22,
    "start_time": "2022-08-20T12:49:50.726Z"
   },
   {
    "duration": 3,
    "start_time": "2022-08-20T12:49:50.760Z"
   },
   {
    "duration": 28,
    "start_time": "2022-08-20T12:49:50.765Z"
   },
   {
    "duration": 9,
    "start_time": "2022-08-20T12:49:50.794Z"
   },
   {
    "duration": 20,
    "start_time": "2022-08-20T12:49:50.810Z"
   },
   {
    "duration": 290,
    "start_time": "2022-08-20T12:49:50.832Z"
   },
   {
    "duration": 17,
    "start_time": "2022-08-20T12:49:51.123Z"
   },
   {
    "duration": 29,
    "start_time": "2022-08-20T12:49:51.141Z"
   },
   {
    "duration": 8,
    "start_time": "2022-08-20T12:49:51.171Z"
   },
   {
    "duration": 8,
    "start_time": "2022-08-20T12:49:51.181Z"
   },
   {
    "duration": 21,
    "start_time": "2022-08-20T12:49:51.191Z"
   },
   {
    "duration": 8,
    "start_time": "2022-08-20T12:49:51.215Z"
   },
   {
    "duration": 9,
    "start_time": "2022-08-20T12:49:51.224Z"
   },
   {
    "duration": 23,
    "start_time": "2022-08-20T12:49:51.234Z"
   },
   {
    "duration": 9,
    "start_time": "2022-08-20T12:49:51.258Z"
   },
   {
    "duration": 223,
    "start_time": "2022-08-20T12:49:51.268Z"
   },
   {
    "duration": 20,
    "start_time": "2022-08-20T12:49:51.493Z"
   },
   {
    "duration": 298,
    "start_time": "2022-08-20T12:49:51.515Z"
   },
   {
    "duration": 268,
    "start_time": "2022-08-20T12:49:51.815Z"
   },
   {
    "duration": 296,
    "start_time": "2022-08-20T12:49:52.085Z"
   },
   {
    "duration": 325,
    "start_time": "2022-08-20T12:49:52.383Z"
   },
   {
    "duration": 329,
    "start_time": "2022-08-20T12:49:52.710Z"
   },
   {
    "duration": 173,
    "start_time": "2022-08-20T12:49:53.041Z"
   },
   {
    "duration": 4,
    "start_time": "2022-08-20T12:49:53.216Z"
   },
   {
    "duration": 168,
    "start_time": "2022-08-20T12:49:53.222Z"
   },
   {
    "duration": 1235,
    "start_time": "2022-08-20T12:49:53.391Z"
   },
   {
    "duration": 175,
    "start_time": "2022-08-20T12:55:30.246Z"
   },
   {
    "duration": 187,
    "start_time": "2022-08-20T12:55:46.109Z"
   },
   {
    "duration": 157,
    "start_time": "2022-08-20T12:55:46.802Z"
   },
   {
    "duration": 9,
    "start_time": "2022-08-20T12:58:34.272Z"
   },
   {
    "duration": 7,
    "start_time": "2022-08-20T12:59:34.792Z"
   },
   {
    "duration": 28,
    "start_time": "2022-08-20T13:05:31.022Z"
   },
   {
    "duration": 6,
    "start_time": "2022-08-20T13:06:25.270Z"
   },
   {
    "duration": 7,
    "start_time": "2022-08-20T13:07:22.950Z"
   },
   {
    "duration": 10,
    "start_time": "2022-08-20T13:07:36.581Z"
   },
   {
    "duration": 5,
    "start_time": "2022-08-20T13:11:29.389Z"
   },
   {
    "duration": 6,
    "start_time": "2022-08-20T13:11:32.047Z"
   },
   {
    "duration": 380,
    "start_time": "2022-08-20T13:11:43.233Z"
   },
   {
    "duration": 208,
    "start_time": "2022-08-20T13:11:43.615Z"
   },
   {
    "duration": 2,
    "start_time": "2022-08-20T13:11:43.827Z"
   },
   {
    "duration": 6,
    "start_time": "2022-08-20T13:11:43.830Z"
   },
   {
    "duration": 481,
    "start_time": "2022-08-20T13:11:43.837Z"
   },
   {
    "duration": 54,
    "start_time": "2022-08-20T13:11:44.320Z"
   },
   {
    "duration": 21,
    "start_time": "2022-08-20T13:11:44.375Z"
   },
   {
    "duration": 21,
    "start_time": "2022-08-20T13:11:44.398Z"
   },
   {
    "duration": 7,
    "start_time": "2022-08-20T13:11:44.422Z"
   },
   {
    "duration": 14,
    "start_time": "2022-08-20T13:11:44.431Z"
   },
   {
    "duration": 6,
    "start_time": "2022-08-20T13:11:44.446Z"
   },
   {
    "duration": 21,
    "start_time": "2022-08-20T13:11:44.453Z"
   },
   {
    "duration": 40,
    "start_time": "2022-08-20T13:11:44.475Z"
   },
   {
    "duration": 21,
    "start_time": "2022-08-20T13:11:44.516Z"
   },
   {
    "duration": 19,
    "start_time": "2022-08-20T13:11:44.538Z"
   },
   {
    "duration": 57,
    "start_time": "2022-08-20T13:11:44.558Z"
   },
   {
    "duration": 18,
    "start_time": "2022-08-20T13:11:44.617Z"
   },
   {
    "duration": 5,
    "start_time": "2022-08-20T13:11:44.637Z"
   },
   {
    "duration": 21,
    "start_time": "2022-08-20T13:11:44.643Z"
   },
   {
    "duration": 7,
    "start_time": "2022-08-20T13:11:44.665Z"
   },
   {
    "duration": 37,
    "start_time": "2022-08-20T13:11:44.674Z"
   },
   {
    "duration": 293,
    "start_time": "2022-08-20T13:11:44.713Z"
   },
   {
    "duration": 18,
    "start_time": "2022-08-20T13:11:45.008Z"
   },
   {
    "duration": 24,
    "start_time": "2022-08-20T13:11:45.027Z"
   },
   {
    "duration": 17,
    "start_time": "2022-08-20T13:11:45.053Z"
   },
   {
    "duration": 8,
    "start_time": "2022-08-20T13:11:45.071Z"
   },
   {
    "duration": 6,
    "start_time": "2022-08-20T13:11:45.082Z"
   },
   {
    "duration": 22,
    "start_time": "2022-08-20T13:11:45.089Z"
   },
   {
    "duration": 5,
    "start_time": "2022-08-20T13:11:45.113Z"
   },
   {
    "duration": 23,
    "start_time": "2022-08-20T13:11:45.120Z"
   },
   {
    "duration": 19,
    "start_time": "2022-08-20T13:11:45.146Z"
   },
   {
    "duration": 255,
    "start_time": "2022-08-20T13:11:45.167Z"
   },
   {
    "duration": 14,
    "start_time": "2022-08-20T13:11:45.424Z"
   },
   {
    "duration": 311,
    "start_time": "2022-08-20T13:11:45.440Z"
   },
   {
    "duration": 250,
    "start_time": "2022-08-20T13:11:45.753Z"
   },
   {
    "duration": 294,
    "start_time": "2022-08-20T13:11:46.005Z"
   },
   {
    "duration": 268,
    "start_time": "2022-08-20T13:11:46.301Z"
   },
   {
    "duration": 300,
    "start_time": "2022-08-20T13:11:46.570Z"
   },
   {
    "duration": 5,
    "start_time": "2022-08-20T13:11:46.871Z"
   },
   {
    "duration": 11,
    "start_time": "2022-08-20T13:11:46.878Z"
   },
   {
    "duration": 175,
    "start_time": "2022-08-20T13:11:46.891Z"
   },
   {
    "duration": 11,
    "start_time": "2022-08-20T13:11:47.067Z"
   },
   {
    "duration": 27,
    "start_time": "2022-08-20T13:11:47.079Z"
   },
   {
    "duration": 165,
    "start_time": "2022-08-20T13:11:47.107Z"
   },
   {
    "duration": 1263,
    "start_time": "2022-08-20T13:11:47.274Z"
   },
   {
    "duration": 8,
    "start_time": "2022-08-20T13:13:14.934Z"
   },
   {
    "duration": 23,
    "start_time": "2022-08-20T13:13:25.558Z"
   },
   {
    "duration": 16,
    "start_time": "2022-08-20T13:14:27.016Z"
   },
   {
    "duration": 406,
    "start_time": "2022-08-20T13:14:33.006Z"
   },
   {
    "duration": 215,
    "start_time": "2022-08-20T13:14:33.414Z"
   },
   {
    "duration": 2,
    "start_time": "2022-08-20T13:14:33.631Z"
   },
   {
    "duration": 8,
    "start_time": "2022-08-20T13:14:33.636Z"
   },
   {
    "duration": 488,
    "start_time": "2022-08-20T13:14:33.646Z"
   },
   {
    "duration": 55,
    "start_time": "2022-08-20T13:14:34.136Z"
   },
   {
    "duration": 25,
    "start_time": "2022-08-20T13:14:34.193Z"
   },
   {
    "duration": 12,
    "start_time": "2022-08-20T13:14:34.219Z"
   },
   {
    "duration": 7,
    "start_time": "2022-08-20T13:14:34.232Z"
   },
   {
    "duration": 13,
    "start_time": "2022-08-20T13:14:34.242Z"
   },
   {
    "duration": 6,
    "start_time": "2022-08-20T13:14:34.256Z"
   },
   {
    "duration": 19,
    "start_time": "2022-08-20T13:14:34.263Z"
   },
   {
    "duration": 30,
    "start_time": "2022-08-20T13:14:34.283Z"
   },
   {
    "duration": 19,
    "start_time": "2022-08-20T13:14:34.315Z"
   },
   {
    "duration": 16,
    "start_time": "2022-08-20T13:14:34.336Z"
   },
   {
    "duration": 7,
    "start_time": "2022-08-20T13:14:34.354Z"
   },
   {
    "duration": 51,
    "start_time": "2022-08-20T13:14:34.362Z"
   },
   {
    "duration": 3,
    "start_time": "2022-08-20T13:14:34.415Z"
   },
   {
    "duration": 23,
    "start_time": "2022-08-20T13:14:34.419Z"
   },
   {
    "duration": 15,
    "start_time": "2022-08-20T13:14:34.443Z"
   },
   {
    "duration": 20,
    "start_time": "2022-08-20T13:14:34.459Z"
   },
   {
    "duration": 295,
    "start_time": "2022-08-20T13:14:34.480Z"
   },
   {
    "duration": 17,
    "start_time": "2022-08-20T13:14:34.776Z"
   },
   {
    "duration": 21,
    "start_time": "2022-08-20T13:14:34.811Z"
   },
   {
    "duration": 8,
    "start_time": "2022-08-20T13:14:34.834Z"
   },
   {
    "duration": 9,
    "start_time": "2022-08-20T13:14:34.843Z"
   },
   {
    "duration": 4,
    "start_time": "2022-08-20T13:14:34.854Z"
   },
   {
    "duration": 8,
    "start_time": "2022-08-20T13:14:34.861Z"
   },
   {
    "duration": 5,
    "start_time": "2022-08-20T13:14:34.871Z"
   },
   {
    "duration": 62,
    "start_time": "2022-08-20T13:14:34.878Z"
   },
   {
    "duration": 18,
    "start_time": "2022-08-20T13:14:34.941Z"
   },
   {
    "duration": 206,
    "start_time": "2022-08-20T13:14:34.960Z"
   },
   {
    "duration": 10,
    "start_time": "2022-08-20T13:14:35.167Z"
   },
   {
    "duration": 298,
    "start_time": "2022-08-20T13:14:35.178Z"
   },
   {
    "duration": 266,
    "start_time": "2022-08-20T13:14:35.477Z"
   },
   {
    "duration": 293,
    "start_time": "2022-08-20T13:14:35.744Z"
   },
   {
    "duration": 267,
    "start_time": "2022-08-20T13:14:36.038Z"
   },
   {
    "duration": 290,
    "start_time": "2022-08-20T13:14:36.310Z"
   },
   {
    "duration": 110,
    "start_time": "2022-08-20T13:14:36.607Z"
   },
   {
    "duration": 0,
    "start_time": "2022-08-20T13:14:36.718Z"
   },
   {
    "duration": 0,
    "start_time": "2022-08-20T13:14:36.720Z"
   },
   {
    "duration": 0,
    "start_time": "2022-08-20T13:14:36.721Z"
   },
   {
    "duration": 0,
    "start_time": "2022-08-20T13:14:36.723Z"
   },
   {
    "duration": 0,
    "start_time": "2022-08-20T13:14:36.724Z"
   },
   {
    "duration": 0,
    "start_time": "2022-08-20T13:14:36.725Z"
   },
   {
    "duration": 6,
    "start_time": "2022-08-20T13:14:59.620Z"
   },
   {
    "duration": 177,
    "start_time": "2022-08-20T13:15:46.633Z"
   },
   {
    "duration": 11,
    "start_time": "2022-08-20T13:15:50.101Z"
   },
   {
    "duration": 10,
    "start_time": "2022-08-20T13:25:57.251Z"
   },
   {
    "duration": 4,
    "start_time": "2022-08-20T13:31:26.066Z"
   },
   {
    "duration": 8,
    "start_time": "2022-08-20T13:31:26.952Z"
   },
   {
    "duration": 10,
    "start_time": "2022-08-20T13:31:37.741Z"
   },
   {
    "duration": 13,
    "start_time": "2022-08-20T13:32:37.652Z"
   },
   {
    "duration": 12,
    "start_time": "2022-08-20T13:32:54.393Z"
   },
   {
    "duration": 384,
    "start_time": "2022-08-20T13:33:19.928Z"
   },
   {
    "duration": 209,
    "start_time": "2022-08-20T13:33:20.314Z"
   },
   {
    "duration": 2,
    "start_time": "2022-08-20T13:33:20.525Z"
   },
   {
    "duration": 6,
    "start_time": "2022-08-20T13:33:20.529Z"
   },
   {
    "duration": 488,
    "start_time": "2022-08-20T13:33:20.536Z"
   },
   {
    "duration": 54,
    "start_time": "2022-08-20T13:33:21.025Z"
   },
   {
    "duration": 22,
    "start_time": "2022-08-20T13:33:21.081Z"
   },
   {
    "duration": 12,
    "start_time": "2022-08-20T13:33:21.105Z"
   },
   {
    "duration": 8,
    "start_time": "2022-08-20T13:33:21.119Z"
   },
   {
    "duration": 15,
    "start_time": "2022-08-20T13:33:21.131Z"
   },
   {
    "duration": 6,
    "start_time": "2022-08-20T13:33:21.147Z"
   },
   {
    "duration": 20,
    "start_time": "2022-08-20T13:33:21.155Z"
   },
   {
    "duration": 6,
    "start_time": "2022-08-20T13:33:21.176Z"
   },
   {
    "duration": 17,
    "start_time": "2022-08-20T13:33:21.211Z"
   },
   {
    "duration": 18,
    "start_time": "2022-08-20T13:33:21.230Z"
   },
   {
    "duration": 8,
    "start_time": "2022-08-20T13:33:21.249Z"
   },
   {
    "duration": 19,
    "start_time": "2022-08-20T13:33:21.258Z"
   },
   {
    "duration": 2,
    "start_time": "2022-08-20T13:33:21.279Z"
   },
   {
    "duration": 49,
    "start_time": "2022-08-20T13:33:21.282Z"
   },
   {
    "duration": 5,
    "start_time": "2022-08-20T13:33:21.332Z"
   },
   {
    "duration": 17,
    "start_time": "2022-08-20T13:33:21.339Z"
   },
   {
    "duration": 303,
    "start_time": "2022-08-20T13:33:21.357Z"
   },
   {
    "duration": 16,
    "start_time": "2022-08-20T13:33:21.661Z"
   },
   {
    "duration": 23,
    "start_time": "2022-08-20T13:33:21.679Z"
   },
   {
    "duration": 6,
    "start_time": "2022-08-20T13:33:21.711Z"
   },
   {
    "duration": 7,
    "start_time": "2022-08-20T13:33:21.719Z"
   },
   {
    "duration": 5,
    "start_time": "2022-08-20T13:33:21.727Z"
   },
   {
    "duration": 4,
    "start_time": "2022-08-20T13:33:21.735Z"
   },
   {
    "duration": 10,
    "start_time": "2022-08-20T13:33:21.740Z"
   },
   {
    "duration": 11,
    "start_time": "2022-08-20T13:33:21.751Z"
   },
   {
    "duration": 4,
    "start_time": "2022-08-20T13:33:21.763Z"
   },
   {
    "duration": 59,
    "start_time": "2022-08-20T13:33:21.768Z"
   },
   {
    "duration": 6,
    "start_time": "2022-08-20T13:33:21.828Z"
   },
   {
    "duration": 217,
    "start_time": "2022-08-20T13:33:21.836Z"
   },
   {
    "duration": 11,
    "start_time": "2022-08-20T13:33:22.055Z"
   },
   {
    "duration": 304,
    "start_time": "2022-08-20T13:33:22.067Z"
   },
   {
    "duration": 290,
    "start_time": "2022-08-20T13:33:22.373Z"
   },
   {
    "duration": 320,
    "start_time": "2022-08-20T13:33:22.665Z"
   },
   {
    "duration": 263,
    "start_time": "2022-08-20T13:33:22.987Z"
   },
   {
    "duration": 308,
    "start_time": "2022-08-20T13:33:23.252Z"
   },
   {
    "duration": 180,
    "start_time": "2022-08-20T13:33:23.563Z"
   },
   {
    "duration": 9,
    "start_time": "2022-08-20T13:33:23.745Z"
   },
   {
    "duration": 8,
    "start_time": "2022-08-20T13:33:23.756Z"
   },
   {
    "duration": 170,
    "start_time": "2022-08-20T13:33:23.765Z"
   },
   {
    "duration": 1030,
    "start_time": "2022-08-20T13:33:23.936Z"
   },
   {
    "duration": 1199,
    "start_time": "2022-08-20T13:38:47.091Z"
   },
   {
    "duration": 12,
    "start_time": "2022-08-20T13:38:57.036Z"
   },
   {
    "duration": 19,
    "start_time": "2022-08-20T13:39:13.040Z"
   },
   {
    "duration": 5,
    "start_time": "2022-08-20T13:49:17.347Z"
   },
   {
    "duration": 20,
    "start_time": "2022-08-20T13:49:43.487Z"
   },
   {
    "duration": 9,
    "start_time": "2022-08-20T13:50:05.882Z"
   },
   {
    "duration": 3,
    "start_time": "2022-08-20T13:51:01.124Z"
   },
   {
    "duration": 4,
    "start_time": "2022-08-20T13:51:02.045Z"
   },
   {
    "duration": 6,
    "start_time": "2022-08-20T13:51:02.863Z"
   },
   {
    "duration": 11,
    "start_time": "2022-08-20T13:51:09.682Z"
   },
   {
    "duration": 409,
    "start_time": "2022-08-20T13:51:37.588Z"
   },
   {
    "duration": 255,
    "start_time": "2022-08-20T13:51:37.999Z"
   },
   {
    "duration": 2,
    "start_time": "2022-08-20T13:51:38.255Z"
   },
   {
    "duration": 4,
    "start_time": "2022-08-20T13:51:38.259Z"
   },
   {
    "duration": 511,
    "start_time": "2022-08-20T13:51:38.264Z"
   },
   {
    "duration": 54,
    "start_time": "2022-08-20T13:51:38.776Z"
   },
   {
    "duration": 22,
    "start_time": "2022-08-20T13:51:38.831Z"
   },
   {
    "duration": 12,
    "start_time": "2022-08-20T13:51:38.854Z"
   },
   {
    "duration": 10,
    "start_time": "2022-08-20T13:51:38.867Z"
   },
   {
    "duration": 33,
    "start_time": "2022-08-20T13:51:38.879Z"
   },
   {
    "duration": 6,
    "start_time": "2022-08-20T13:51:38.913Z"
   },
   {
    "duration": 18,
    "start_time": "2022-08-20T13:51:38.921Z"
   },
   {
    "duration": 8,
    "start_time": "2022-08-20T13:51:38.940Z"
   },
   {
    "duration": 19,
    "start_time": "2022-08-20T13:51:38.949Z"
   },
   {
    "duration": 49,
    "start_time": "2022-08-20T13:51:38.970Z"
   },
   {
    "duration": 10,
    "start_time": "2022-08-20T13:51:39.020Z"
   },
   {
    "duration": 1016,
    "start_time": "2022-08-20T13:51:39.032Z"
   },
   {
    "duration": 0,
    "start_time": "2022-08-20T13:51:40.051Z"
   },
   {
    "duration": 0,
    "start_time": "2022-08-20T13:51:40.052Z"
   },
   {
    "duration": 0,
    "start_time": "2022-08-20T13:51:40.053Z"
   },
   {
    "duration": 0,
    "start_time": "2022-08-20T13:51:40.054Z"
   },
   {
    "duration": 0,
    "start_time": "2022-08-20T13:51:40.055Z"
   },
   {
    "duration": 0,
    "start_time": "2022-08-20T13:51:40.055Z"
   },
   {
    "duration": 0,
    "start_time": "2022-08-20T13:51:40.057Z"
   },
   {
    "duration": 0,
    "start_time": "2022-08-20T13:51:40.058Z"
   },
   {
    "duration": 0,
    "start_time": "2022-08-20T13:51:40.059Z"
   },
   {
    "duration": 0,
    "start_time": "2022-08-20T13:51:40.060Z"
   },
   {
    "duration": 0,
    "start_time": "2022-08-20T13:51:40.061Z"
   },
   {
    "duration": 0,
    "start_time": "2022-08-20T13:51:40.062Z"
   },
   {
    "duration": 0,
    "start_time": "2022-08-20T13:51:40.063Z"
   },
   {
    "duration": 0,
    "start_time": "2022-08-20T13:51:40.064Z"
   },
   {
    "duration": 0,
    "start_time": "2022-08-20T13:51:40.065Z"
   },
   {
    "duration": 0,
    "start_time": "2022-08-20T13:51:40.065Z"
   },
   {
    "duration": 0,
    "start_time": "2022-08-20T13:51:40.066Z"
   },
   {
    "duration": 0,
    "start_time": "2022-08-20T13:51:40.067Z"
   },
   {
    "duration": 0,
    "start_time": "2022-08-20T13:51:40.068Z"
   },
   {
    "duration": 0,
    "start_time": "2022-08-20T13:51:40.069Z"
   },
   {
    "duration": 0,
    "start_time": "2022-08-20T13:51:40.070Z"
   },
   {
    "duration": 0,
    "start_time": "2022-08-20T13:51:40.071Z"
   },
   {
    "duration": 0,
    "start_time": "2022-08-20T13:51:40.073Z"
   },
   {
    "duration": 0,
    "start_time": "2022-08-20T13:51:40.074Z"
   },
   {
    "duration": 0,
    "start_time": "2022-08-20T13:51:40.075Z"
   },
   {
    "duration": 0,
    "start_time": "2022-08-20T13:51:40.077Z"
   },
   {
    "duration": 0,
    "start_time": "2022-08-20T13:51:40.078Z"
   },
   {
    "duration": 0,
    "start_time": "2022-08-20T13:51:40.079Z"
   },
   {
    "duration": 0,
    "start_time": "2022-08-20T13:51:40.080Z"
   },
   {
    "duration": 18,
    "start_time": "2022-08-20T13:53:24.066Z"
   },
   {
    "duration": 436,
    "start_time": "2022-08-20T13:53:30.700Z"
   },
   {
    "duration": 215,
    "start_time": "2022-08-20T13:53:31.138Z"
   },
   {
    "duration": 3,
    "start_time": "2022-08-20T13:53:31.354Z"
   },
   {
    "duration": 9,
    "start_time": "2022-08-20T13:53:31.358Z"
   },
   {
    "duration": 508,
    "start_time": "2022-08-20T13:53:31.369Z"
   },
   {
    "duration": 55,
    "start_time": "2022-08-20T13:53:31.879Z"
   },
   {
    "duration": 21,
    "start_time": "2022-08-20T13:53:31.935Z"
   },
   {
    "duration": 12,
    "start_time": "2022-08-20T13:53:31.958Z"
   },
   {
    "duration": 8,
    "start_time": "2022-08-20T13:53:31.971Z"
   },
   {
    "duration": 34,
    "start_time": "2022-08-20T13:53:31.980Z"
   },
   {
    "duration": 5,
    "start_time": "2022-08-20T13:53:32.016Z"
   },
   {
    "duration": 23,
    "start_time": "2022-08-20T13:53:32.022Z"
   },
   {
    "duration": 6,
    "start_time": "2022-08-20T13:53:32.046Z"
   },
   {
    "duration": 30,
    "start_time": "2022-08-20T13:53:32.055Z"
   },
   {
    "duration": 19,
    "start_time": "2022-08-20T13:53:32.111Z"
   },
   {
    "duration": 9,
    "start_time": "2022-08-20T13:53:32.132Z"
   },
   {
    "duration": 18,
    "start_time": "2022-08-20T13:53:32.143Z"
   },
   {
    "duration": 3,
    "start_time": "2022-08-20T13:53:32.162Z"
   },
   {
    "duration": 48,
    "start_time": "2022-08-20T13:53:32.167Z"
   },
   {
    "duration": 7,
    "start_time": "2022-08-20T13:53:32.217Z"
   },
   {
    "duration": 18,
    "start_time": "2022-08-20T13:53:32.225Z"
   },
   {
    "duration": 322,
    "start_time": "2022-08-20T13:53:32.244Z"
   },
   {
    "duration": 22,
    "start_time": "2022-08-20T13:53:32.568Z"
   },
   {
    "duration": 36,
    "start_time": "2022-08-20T13:53:32.592Z"
   },
   {
    "duration": 11,
    "start_time": "2022-08-20T13:53:32.630Z"
   },
   {
    "duration": 10,
    "start_time": "2022-08-20T13:53:32.644Z"
   },
   {
    "duration": 10,
    "start_time": "2022-08-20T13:53:32.656Z"
   },
   {
    "duration": 27,
    "start_time": "2022-08-20T13:53:32.667Z"
   },
   {
    "duration": 17,
    "start_time": "2022-08-20T13:53:32.696Z"
   },
   {
    "duration": 25,
    "start_time": "2022-08-20T13:53:32.715Z"
   },
   {
    "duration": 13,
    "start_time": "2022-08-20T13:53:32.742Z"
   },
   {
    "duration": 5,
    "start_time": "2022-08-20T13:53:32.757Z"
   },
   {
    "duration": 33,
    "start_time": "2022-08-20T13:53:32.764Z"
   },
   {
    "duration": 16,
    "start_time": "2022-08-20T13:53:32.799Z"
   },
   {
    "duration": 212,
    "start_time": "2022-08-20T13:53:32.817Z"
   },
   {
    "duration": 11,
    "start_time": "2022-08-20T13:53:33.030Z"
   },
   {
    "duration": 302,
    "start_time": "2022-08-20T13:53:33.043Z"
   },
   {
    "duration": 261,
    "start_time": "2022-08-20T13:53:33.346Z"
   },
   {
    "duration": 287,
    "start_time": "2022-08-20T13:53:33.608Z"
   },
   {
    "duration": 270,
    "start_time": "2022-08-20T13:53:33.897Z"
   },
   {
    "duration": 301,
    "start_time": "2022-08-20T13:53:34.170Z"
   },
   {
    "duration": 185,
    "start_time": "2022-08-20T13:53:34.473Z"
   },
   {
    "duration": 10,
    "start_time": "2022-08-20T13:53:34.660Z"
   },
   {
    "duration": 9,
    "start_time": "2022-08-20T13:53:34.672Z"
   },
   {
    "duration": 187,
    "start_time": "2022-08-20T13:53:34.683Z"
   },
   {
    "duration": 1078,
    "start_time": "2022-08-20T13:53:34.872Z"
   },
   {
    "duration": 4,
    "start_time": "2022-08-20T14:14:50.452Z"
   },
   {
    "duration": 5,
    "start_time": "2022-08-20T14:16:08.743Z"
   },
   {
    "duration": 8,
    "start_time": "2022-08-20T14:16:09.563Z"
   },
   {
    "duration": 463,
    "start_time": "2022-08-20T14:16:45.517Z"
   },
   {
    "duration": 292,
    "start_time": "2022-08-20T14:16:45.983Z"
   },
   {
    "duration": 3,
    "start_time": "2022-08-20T14:16:46.276Z"
   },
   {
    "duration": 8,
    "start_time": "2022-08-20T14:16:46.281Z"
   },
   {
    "duration": 512,
    "start_time": "2022-08-20T14:16:46.290Z"
   },
   {
    "duration": 54,
    "start_time": "2022-08-20T14:16:46.804Z"
   },
   {
    "duration": 24,
    "start_time": "2022-08-20T14:16:46.859Z"
   },
   {
    "duration": 17,
    "start_time": "2022-08-20T14:16:46.884Z"
   },
   {
    "duration": 11,
    "start_time": "2022-08-20T14:16:46.903Z"
   },
   {
    "duration": 20,
    "start_time": "2022-08-20T14:16:46.917Z"
   },
   {
    "duration": 7,
    "start_time": "2022-08-20T14:16:46.938Z"
   },
   {
    "duration": 29,
    "start_time": "2022-08-20T14:16:46.947Z"
   },
   {
    "duration": 8,
    "start_time": "2022-08-20T14:16:46.978Z"
   },
   {
    "duration": 40,
    "start_time": "2022-08-20T14:16:46.988Z"
   },
   {
    "duration": 20,
    "start_time": "2022-08-20T14:16:47.030Z"
   },
   {
    "duration": 17,
    "start_time": "2022-08-20T14:16:47.051Z"
   },
   {
    "duration": 21,
    "start_time": "2022-08-20T14:16:47.069Z"
   },
   {
    "duration": 23,
    "start_time": "2022-08-20T14:16:47.092Z"
   },
   {
    "duration": 27,
    "start_time": "2022-08-20T14:16:47.117Z"
   },
   {
    "duration": 6,
    "start_time": "2022-08-20T14:16:47.146Z"
   },
   {
    "duration": 21,
    "start_time": "2022-08-20T14:16:47.153Z"
   },
   {
    "duration": 331,
    "start_time": "2022-08-20T14:16:47.176Z"
   },
   {
    "duration": 17,
    "start_time": "2022-08-20T14:16:47.508Z"
   },
   {
    "duration": 34,
    "start_time": "2022-08-20T14:16:47.526Z"
   },
   {
    "duration": 6,
    "start_time": "2022-08-20T14:16:47.562Z"
   },
   {
    "duration": 21,
    "start_time": "2022-08-20T14:16:47.570Z"
   },
   {
    "duration": 19,
    "start_time": "2022-08-20T14:16:47.593Z"
   },
   {
    "duration": 10,
    "start_time": "2022-08-20T14:16:47.616Z"
   },
   {
    "duration": 25,
    "start_time": "2022-08-20T14:16:47.628Z"
   },
   {
    "duration": 17,
    "start_time": "2022-08-20T14:16:47.655Z"
   },
   {
    "duration": 8,
    "start_time": "2022-08-20T14:16:47.673Z"
   },
   {
    "duration": 36,
    "start_time": "2022-08-20T14:16:47.683Z"
   },
   {
    "duration": 6,
    "start_time": "2022-08-20T14:16:47.720Z"
   },
   {
    "duration": 23,
    "start_time": "2022-08-20T14:16:47.728Z"
   },
   {
    "duration": 30,
    "start_time": "2022-08-20T14:16:47.753Z"
   },
   {
    "duration": 218,
    "start_time": "2022-08-20T14:16:47.785Z"
   },
   {
    "duration": 11,
    "start_time": "2022-08-20T14:16:48.005Z"
   },
   {
    "duration": 304,
    "start_time": "2022-08-20T14:16:48.017Z"
   },
   {
    "duration": 297,
    "start_time": "2022-08-20T14:16:48.322Z"
   },
   {
    "duration": 312,
    "start_time": "2022-08-20T14:16:48.621Z"
   },
   {
    "duration": 278,
    "start_time": "2022-08-20T14:16:48.935Z"
   },
   {
    "duration": 301,
    "start_time": "2022-08-20T14:16:49.214Z"
   },
   {
    "duration": 191,
    "start_time": "2022-08-20T14:16:49.516Z"
   },
   {
    "duration": 11,
    "start_time": "2022-08-20T14:16:49.708Z"
   },
   {
    "duration": 36,
    "start_time": "2022-08-20T14:16:49.721Z"
   },
   {
    "duration": 180,
    "start_time": "2022-08-20T14:16:49.759Z"
   },
   {
    "duration": 5,
    "start_time": "2022-08-20T14:16:49.941Z"
   },
   {
    "duration": 5,
    "start_time": "2022-08-20T14:35:37.297Z"
   },
   {
    "duration": 100,
    "start_time": "2022-08-20T14:36:02.186Z"
   },
   {
    "duration": 13,
    "start_time": "2022-08-20T14:36:45.021Z"
   },
   {
    "duration": 4,
    "start_time": "2022-08-20T14:36:45.686Z"
   },
   {
    "duration": 3,
    "start_time": "2022-08-20T14:37:05.582Z"
   },
   {
    "duration": 4,
    "start_time": "2022-08-20T14:37:07.715Z"
   },
   {
    "duration": 5,
    "start_time": "2022-08-20T14:37:08.215Z"
   },
   {
    "duration": 10,
    "start_time": "2022-08-20T14:37:31.874Z"
   },
   {
    "duration": 56,
    "start_time": "2022-08-20T14:38:17.569Z"
   },
   {
    "duration": 19,
    "start_time": "2022-08-20T14:40:19.920Z"
   },
   {
    "duration": 180,
    "start_time": "2022-08-20T14:44:45.115Z"
   },
   {
    "duration": 7,
    "start_time": "2022-08-20T14:49:16.370Z"
   },
   {
    "duration": 12,
    "start_time": "2022-08-20T14:49:22.658Z"
   },
   {
    "duration": 407,
    "start_time": "2022-08-20T15:11:18.396Z"
   },
   {
    "duration": 210,
    "start_time": "2022-08-20T15:11:18.804Z"
   },
   {
    "duration": 2,
    "start_time": "2022-08-20T15:11:19.016Z"
   },
   {
    "duration": 6,
    "start_time": "2022-08-20T15:11:19.020Z"
   },
   {
    "duration": 453,
    "start_time": "2022-08-20T15:11:19.028Z"
   },
   {
    "duration": 55,
    "start_time": "2022-08-20T15:11:19.483Z"
   },
   {
    "duration": 21,
    "start_time": "2022-08-20T15:11:19.540Z"
   },
   {
    "duration": 14,
    "start_time": "2022-08-20T15:11:19.564Z"
   },
   {
    "duration": 31,
    "start_time": "2022-08-20T15:11:19.580Z"
   },
   {
    "duration": 15,
    "start_time": "2022-08-20T15:11:19.614Z"
   },
   {
    "duration": 7,
    "start_time": "2022-08-20T15:11:19.630Z"
   },
   {
    "duration": 20,
    "start_time": "2022-08-20T15:11:19.639Z"
   },
   {
    "duration": 13,
    "start_time": "2022-08-20T15:11:19.661Z"
   },
   {
    "duration": 42,
    "start_time": "2022-08-20T15:11:19.675Z"
   },
   {
    "duration": 17,
    "start_time": "2022-08-20T15:11:19.719Z"
   },
   {
    "duration": 8,
    "start_time": "2022-08-20T15:11:19.738Z"
   },
   {
    "duration": 21,
    "start_time": "2022-08-20T15:11:19.747Z"
   },
   {
    "duration": 3,
    "start_time": "2022-08-20T15:11:19.769Z"
   },
   {
    "duration": 51,
    "start_time": "2022-08-20T15:11:19.773Z"
   },
   {
    "duration": 9,
    "start_time": "2022-08-20T15:11:19.825Z"
   },
   {
    "duration": 23,
    "start_time": "2022-08-20T15:11:19.836Z"
   },
   {
    "duration": 317,
    "start_time": "2022-08-20T15:11:19.861Z"
   },
   {
    "duration": 16,
    "start_time": "2022-08-20T15:11:20.180Z"
   },
   {
    "duration": 27,
    "start_time": "2022-08-20T15:11:20.197Z"
   },
   {
    "duration": 7,
    "start_time": "2022-08-20T15:11:20.225Z"
   },
   {
    "duration": 8,
    "start_time": "2022-08-20T15:11:20.233Z"
   },
   {
    "duration": 5,
    "start_time": "2022-08-20T15:11:20.243Z"
   },
   {
    "duration": 9,
    "start_time": "2022-08-20T15:11:20.252Z"
   },
   {
    "duration": 4,
    "start_time": "2022-08-20T15:11:20.263Z"
   },
   {
    "duration": 8,
    "start_time": "2022-08-20T15:11:20.268Z"
   },
   {
    "duration": 10,
    "start_time": "2022-08-20T15:11:20.277Z"
   },
   {
    "duration": 11,
    "start_time": "2022-08-20T15:11:20.311Z"
   },
   {
    "duration": 5,
    "start_time": "2022-08-20T15:11:20.323Z"
   },
   {
    "duration": 22,
    "start_time": "2022-08-20T15:11:20.329Z"
   },
   {
    "duration": 6,
    "start_time": "2022-08-20T15:11:20.352Z"
   },
   {
    "duration": 232,
    "start_time": "2022-08-20T15:11:20.359Z"
   },
   {
    "duration": 19,
    "start_time": "2022-08-20T15:11:20.592Z"
   },
   {
    "duration": 299,
    "start_time": "2022-08-20T15:11:20.613Z"
   },
   {
    "duration": 245,
    "start_time": "2022-08-20T15:11:20.914Z"
   },
   {
    "duration": 294,
    "start_time": "2022-08-20T15:11:21.161Z"
   },
   {
    "duration": 288,
    "start_time": "2022-08-20T15:11:21.456Z"
   },
   {
    "duration": 306,
    "start_time": "2022-08-20T15:11:21.745Z"
   },
   {
    "duration": 186,
    "start_time": "2022-08-20T15:11:22.053Z"
   },
   {
    "duration": 10,
    "start_time": "2022-08-20T15:11:22.241Z"
   },
   {
    "duration": 9,
    "start_time": "2022-08-20T15:11:22.252Z"
   },
   {
    "duration": 173,
    "start_time": "2022-08-20T15:11:22.263Z"
   },
   {
    "duration": 5,
    "start_time": "2022-08-20T15:11:22.438Z"
   },
   {
    "duration": 964,
    "start_time": "2022-08-20T15:20:24.283Z"
   },
   {
    "duration": 6,
    "start_time": "2022-08-20T15:20:38.013Z"
   },
   {
    "duration": 6,
    "start_time": "2022-08-20T15:23:34.829Z"
   },
   {
    "duration": 6,
    "start_time": "2022-08-20T15:27:54.128Z"
   },
   {
    "duration": 5,
    "start_time": "2022-08-20T15:33:28.018Z"
   },
   {
    "duration": 157,
    "start_time": "2022-08-20T15:35:33.912Z"
   },
   {
    "duration": 7,
    "start_time": "2022-08-20T15:36:45.215Z"
   },
   {
    "duration": 62,
    "start_time": "2022-08-20T15:36:59.988Z"
   },
   {
    "duration": 6,
    "start_time": "2022-08-20T15:37:07.386Z"
   },
   {
    "duration": 9,
    "start_time": "2022-08-20T16:15:50.524Z"
   },
   {
    "duration": 14,
    "start_time": "2022-08-20T16:16:13.604Z"
   },
   {
    "duration": 10,
    "start_time": "2022-08-20T16:16:24.177Z"
   },
   {
    "duration": 14,
    "start_time": "2022-08-20T16:18:25.924Z"
   },
   {
    "duration": 12,
    "start_time": "2022-08-20T16:19:38.957Z"
   },
   {
    "duration": 16,
    "start_time": "2022-08-20T16:40:18.284Z"
   },
   {
    "duration": 17,
    "start_time": "2022-08-20T16:41:21.508Z"
   },
   {
    "duration": 372,
    "start_time": "2022-08-20T16:41:21.752Z"
   },
   {
    "duration": 219,
    "start_time": "2022-08-20T16:41:22.126Z"
   },
   {
    "duration": 3,
    "start_time": "2022-08-20T16:41:22.346Z"
   },
   {
    "duration": 10,
    "start_time": "2022-08-20T16:41:22.351Z"
   },
   {
    "duration": 506,
    "start_time": "2022-08-20T16:41:22.362Z"
   },
   {
    "duration": 58,
    "start_time": "2022-08-20T16:41:22.869Z"
   },
   {
    "duration": 23,
    "start_time": "2022-08-20T16:41:22.928Z"
   },
   {
    "duration": 12,
    "start_time": "2022-08-20T16:41:22.952Z"
   },
   {
    "duration": 7,
    "start_time": "2022-08-20T16:41:22.965Z"
   },
   {
    "duration": 13,
    "start_time": "2022-08-20T16:41:22.975Z"
   },
   {
    "duration": 37,
    "start_time": "2022-08-20T16:41:22.990Z"
   },
   {
    "duration": 31,
    "start_time": "2022-08-20T16:41:23.028Z"
   },
   {
    "duration": 6,
    "start_time": "2022-08-20T16:41:23.060Z"
   },
   {
    "duration": 19,
    "start_time": "2022-08-20T16:41:23.067Z"
   },
   {
    "duration": 18,
    "start_time": "2022-08-20T16:41:23.087Z"
   },
   {
    "duration": 15,
    "start_time": "2022-08-20T16:41:23.114Z"
   },
   {
    "duration": 20,
    "start_time": "2022-08-20T16:41:23.131Z"
   },
   {
    "duration": 2,
    "start_time": "2022-08-20T16:41:23.153Z"
   },
   {
    "duration": 20,
    "start_time": "2022-08-20T16:41:23.157Z"
   },
   {
    "duration": 4,
    "start_time": "2022-08-20T16:41:23.178Z"
   },
   {
    "duration": 48,
    "start_time": "2022-08-20T16:41:23.183Z"
   },
   {
    "duration": 332,
    "start_time": "2022-08-20T16:41:23.232Z"
   },
   {
    "duration": 16,
    "start_time": "2022-08-20T16:41:23.566Z"
   },
   {
    "duration": 41,
    "start_time": "2022-08-20T16:41:23.583Z"
   },
   {
    "duration": 8,
    "start_time": "2022-08-20T16:41:23.626Z"
   },
   {
    "duration": 9,
    "start_time": "2022-08-20T16:41:23.635Z"
   },
   {
    "duration": 4,
    "start_time": "2022-08-20T16:41:23.646Z"
   },
   {
    "duration": 6,
    "start_time": "2022-08-20T16:41:23.653Z"
   },
   {
    "duration": 5,
    "start_time": "2022-08-20T16:41:23.661Z"
   },
   {
    "duration": 4,
    "start_time": "2022-08-20T16:41:23.668Z"
   },
   {
    "duration": 8,
    "start_time": "2022-08-20T16:41:23.673Z"
   },
   {
    "duration": 42,
    "start_time": "2022-08-20T16:41:23.683Z"
   },
   {
    "duration": 4,
    "start_time": "2022-08-20T16:41:23.727Z"
   },
   {
    "duration": 21,
    "start_time": "2022-08-20T16:41:23.732Z"
   },
   {
    "duration": 5,
    "start_time": "2022-08-20T16:41:23.755Z"
   },
   {
    "duration": 223,
    "start_time": "2022-08-20T16:41:23.762Z"
   },
   {
    "duration": 11,
    "start_time": "2022-08-20T16:41:23.986Z"
   },
   {
    "duration": 310,
    "start_time": "2022-08-20T16:41:24.010Z"
   },
   {
    "duration": 265,
    "start_time": "2022-08-20T16:41:24.322Z"
   },
   {
    "duration": 304,
    "start_time": "2022-08-20T16:41:24.589Z"
   },
   {
    "duration": 288,
    "start_time": "2022-08-20T16:41:24.895Z"
   },
   {
    "duration": 316,
    "start_time": "2022-08-20T16:41:25.184Z"
   },
   {
    "duration": 188,
    "start_time": "2022-08-20T16:41:25.501Z"
   },
   {
    "duration": 7,
    "start_time": "2022-08-20T16:41:25.691Z"
   },
   {
    "duration": 173,
    "start_time": "2022-08-20T16:41:25.699Z"
   },
   {
    "duration": 6,
    "start_time": "2022-08-20T16:41:25.874Z"
   },
   {
    "duration": 6,
    "start_time": "2022-08-20T16:41:25.882Z"
   },
   {
    "duration": 3,
    "start_time": "2022-08-20T16:42:19.327Z"
   },
   {
    "duration": 27,
    "start_time": "2022-08-20T16:42:49.750Z"
   },
   {
    "duration": 103,
    "start_time": "2022-08-20T16:43:35.296Z"
   },
   {
    "duration": 45,
    "start_time": "2022-08-20T16:43:42.556Z"
   },
   {
    "duration": 4,
    "start_time": "2022-08-20T16:44:01.659Z"
   },
   {
    "duration": 34,
    "start_time": "2022-08-20T16:44:04.038Z"
   },
   {
    "duration": 3,
    "start_time": "2022-08-20T16:44:16.569Z"
   },
   {
    "duration": 38,
    "start_time": "2022-08-20T16:44:17.627Z"
   },
   {
    "duration": 5,
    "start_time": "2022-08-20T16:45:30.936Z"
   },
   {
    "duration": 35,
    "start_time": "2022-08-20T16:45:33.806Z"
   },
   {
    "duration": 10,
    "start_time": "2022-08-20T16:50:57.384Z"
   },
   {
    "duration": 28,
    "start_time": "2022-08-20T16:51:10.072Z"
   },
   {
    "duration": 382,
    "start_time": "2022-08-20T16:53:14.227Z"
   },
   {
    "duration": 221,
    "start_time": "2022-08-20T16:53:14.621Z"
   },
   {
    "duration": 2,
    "start_time": "2022-08-20T16:53:14.844Z"
   },
   {
    "duration": 6,
    "start_time": "2022-08-20T16:53:14.848Z"
   },
   {
    "duration": 455,
    "start_time": "2022-08-20T16:53:14.855Z"
   },
   {
    "duration": 62,
    "start_time": "2022-08-20T16:53:15.311Z"
   },
   {
    "duration": 21,
    "start_time": "2022-08-20T16:53:15.374Z"
   },
   {
    "duration": 12,
    "start_time": "2022-08-20T16:53:15.397Z"
   },
   {
    "duration": 27,
    "start_time": "2022-08-20T16:53:15.410Z"
   },
   {
    "duration": 17,
    "start_time": "2022-08-20T16:53:15.440Z"
   },
   {
    "duration": 6,
    "start_time": "2022-08-20T16:53:15.459Z"
   },
   {
    "duration": 21,
    "start_time": "2022-08-20T16:53:15.466Z"
   },
   {
    "duration": 5,
    "start_time": "2022-08-20T16:53:15.489Z"
   },
   {
    "duration": 30,
    "start_time": "2022-08-20T16:53:15.496Z"
   },
   {
    "duration": 19,
    "start_time": "2022-08-20T16:53:15.527Z"
   },
   {
    "duration": 10,
    "start_time": "2022-08-20T16:53:15.548Z"
   },
   {
    "duration": 19,
    "start_time": "2022-08-20T16:53:15.559Z"
   },
   {
    "duration": 3,
    "start_time": "2022-08-20T16:53:15.579Z"
   },
   {
    "duration": 50,
    "start_time": "2022-08-20T16:53:15.583Z"
   },
   {
    "duration": 7,
    "start_time": "2022-08-20T16:53:15.634Z"
   },
   {
    "duration": 20,
    "start_time": "2022-08-20T16:53:15.642Z"
   },
   {
    "duration": 318,
    "start_time": "2022-08-20T16:53:15.663Z"
   },
   {
    "duration": 17,
    "start_time": "2022-08-20T16:53:15.982Z"
   },
   {
    "duration": 34,
    "start_time": "2022-08-20T16:53:16.016Z"
   },
   {
    "duration": 8,
    "start_time": "2022-08-20T16:53:16.052Z"
   },
   {
    "duration": 12,
    "start_time": "2022-08-20T16:53:16.062Z"
   },
   {
    "duration": 6,
    "start_time": "2022-08-20T16:53:16.075Z"
   },
   {
    "duration": 6,
    "start_time": "2022-08-20T16:53:16.085Z"
   },
   {
    "duration": 5,
    "start_time": "2022-08-20T16:53:16.092Z"
   },
   {
    "duration": 19,
    "start_time": "2022-08-20T16:53:16.098Z"
   },
   {
    "duration": 9,
    "start_time": "2022-08-20T16:53:16.123Z"
   },
   {
    "duration": 12,
    "start_time": "2022-08-20T16:53:16.134Z"
   },
   {
    "duration": 4,
    "start_time": "2022-08-20T16:53:16.148Z"
   },
   {
    "duration": 21,
    "start_time": "2022-08-20T16:53:16.153Z"
   },
   {
    "duration": 6,
    "start_time": "2022-08-20T16:53:16.175Z"
   },
   {
    "duration": 243,
    "start_time": "2022-08-20T16:53:16.182Z"
   },
   {
    "duration": 11,
    "start_time": "2022-08-20T16:53:16.426Z"
   },
   {
    "duration": 319,
    "start_time": "2022-08-20T16:53:16.438Z"
   },
   {
    "duration": 257,
    "start_time": "2022-08-20T16:53:16.759Z"
   },
   {
    "duration": 303,
    "start_time": "2022-08-20T16:53:17.024Z"
   },
   {
    "duration": 284,
    "start_time": "2022-08-20T16:53:17.329Z"
   },
   {
    "duration": 311,
    "start_time": "2022-08-20T16:53:17.615Z"
   },
   {
    "duration": 199,
    "start_time": "2022-08-20T16:53:17.928Z"
   },
   {
    "duration": 7,
    "start_time": "2022-08-20T16:53:18.128Z"
   },
   {
    "duration": 159,
    "start_time": "2022-08-20T16:53:18.137Z"
   },
   {
    "duration": 6,
    "start_time": "2022-08-20T16:53:18.298Z"
   },
   {
    "duration": 34,
    "start_time": "2022-08-20T16:53:18.310Z"
   },
   {
    "duration": 3,
    "start_time": "2022-08-20T16:53:18.346Z"
   },
   {
    "duration": 8,
    "start_time": "2022-08-20T16:53:18.351Z"
   },
   {
    "duration": 68,
    "start_time": "2022-08-20T16:53:18.361Z"
   },
   {
    "duration": 17,
    "start_time": "2022-08-20T17:07:03.890Z"
   },
   {
    "duration": 365,
    "start_time": "2022-08-20T17:07:25.766Z"
   },
   {
    "duration": 206,
    "start_time": "2022-08-20T17:07:26.133Z"
   },
   {
    "duration": 2,
    "start_time": "2022-08-20T17:07:26.341Z"
   },
   {
    "duration": 3,
    "start_time": "2022-08-20T17:07:26.346Z"
   },
   {
    "duration": 467,
    "start_time": "2022-08-20T17:07:26.350Z"
   },
   {
    "duration": 52,
    "start_time": "2022-08-20T17:07:26.819Z"
   },
   {
    "duration": 23,
    "start_time": "2022-08-20T17:07:26.872Z"
   },
   {
    "duration": 13,
    "start_time": "2022-08-20T17:07:26.897Z"
   },
   {
    "duration": 9,
    "start_time": "2022-08-20T17:07:26.911Z"
   },
   {
    "duration": 15,
    "start_time": "2022-08-20T17:07:26.923Z"
   },
   {
    "duration": 7,
    "start_time": "2022-08-20T17:07:26.939Z"
   },
   {
    "duration": 18,
    "start_time": "2022-08-20T17:07:26.947Z"
   },
   {
    "duration": 6,
    "start_time": "2022-08-20T17:07:26.967Z"
   },
   {
    "duration": 50,
    "start_time": "2022-08-20T17:07:26.974Z"
   },
   {
    "duration": 18,
    "start_time": "2022-08-20T17:07:27.026Z"
   },
   {
    "duration": 15,
    "start_time": "2022-08-20T17:07:27.046Z"
   },
   {
    "duration": 19,
    "start_time": "2022-08-20T17:07:27.062Z"
   },
   {
    "duration": 3,
    "start_time": "2022-08-20T17:07:27.083Z"
   },
   {
    "duration": 37,
    "start_time": "2022-08-20T17:07:27.087Z"
   },
   {
    "duration": 5,
    "start_time": "2022-08-20T17:07:27.125Z"
   },
   {
    "duration": 19,
    "start_time": "2022-08-20T17:07:27.132Z"
   },
   {
    "duration": 299,
    "start_time": "2022-08-20T17:07:27.153Z"
   },
   {
    "duration": 17,
    "start_time": "2022-08-20T17:07:27.454Z"
   },
   {
    "duration": 21,
    "start_time": "2022-08-20T17:07:27.472Z"
   },
   {
    "duration": 17,
    "start_time": "2022-08-20T17:07:27.494Z"
   },
   {
    "duration": 8,
    "start_time": "2022-08-20T17:07:27.512Z"
   },
   {
    "duration": 6,
    "start_time": "2022-08-20T17:07:27.521Z"
   },
   {
    "duration": 9,
    "start_time": "2022-08-20T17:07:27.530Z"
   },
   {
    "duration": 4,
    "start_time": "2022-08-20T17:07:27.540Z"
   },
   {
    "duration": 6,
    "start_time": "2022-08-20T17:07:27.546Z"
   },
   {
    "duration": 13,
    "start_time": "2022-08-20T17:07:27.554Z"
   },
   {
    "duration": 13,
    "start_time": "2022-08-20T17:07:27.569Z"
   },
   {
    "duration": 28,
    "start_time": "2022-08-20T17:07:27.584Z"
   },
   {
    "duration": 23,
    "start_time": "2022-08-20T17:07:27.614Z"
   },
   {
    "duration": 5,
    "start_time": "2022-08-20T17:07:27.639Z"
   },
   {
    "duration": 221,
    "start_time": "2022-08-20T17:07:27.645Z"
   },
   {
    "duration": 9,
    "start_time": "2022-08-20T17:07:27.868Z"
   },
   {
    "duration": 297,
    "start_time": "2022-08-20T17:07:27.879Z"
   },
   {
    "duration": 269,
    "start_time": "2022-08-20T17:07:28.178Z"
   },
   {
    "duration": 298,
    "start_time": "2022-08-20T17:07:28.449Z"
   },
   {
    "duration": 268,
    "start_time": "2022-08-20T17:07:28.750Z"
   },
   {
    "duration": 306,
    "start_time": "2022-08-20T17:07:29.020Z"
   },
   {
    "duration": 194,
    "start_time": "2022-08-20T17:07:29.328Z"
   },
   {
    "duration": 6,
    "start_time": "2022-08-20T17:07:29.524Z"
   },
   {
    "duration": 167,
    "start_time": "2022-08-20T17:07:29.532Z"
   },
   {
    "duration": 13,
    "start_time": "2022-08-20T17:07:29.701Z"
   },
   {
    "duration": 25,
    "start_time": "2022-08-20T17:07:29.715Z"
   },
   {
    "duration": 29,
    "start_time": "2022-08-20T17:07:29.742Z"
   },
   {
    "duration": 3,
    "start_time": "2022-08-20T17:07:29.772Z"
   },
   {
    "duration": 13,
    "start_time": "2022-08-20T17:07:29.777Z"
   },
   {
    "duration": 47,
    "start_time": "2022-08-20T17:07:29.792Z"
   },
   {
    "duration": 1536,
    "start_time": "2022-08-20T17:10:30.507Z"
   },
   {
    "duration": 5,
    "start_time": "2022-08-20T17:16:06.709Z"
   },
   {
    "duration": 15,
    "start_time": "2022-08-20T17:16:14.910Z"
   },
   {
    "duration": 3,
    "start_time": "2022-08-20T17:16:49.849Z"
   },
   {
    "duration": 16,
    "start_time": "2022-08-20T17:17:41.495Z"
   },
   {
    "duration": 391,
    "start_time": "2022-08-20T17:18:25.323Z"
   },
   {
    "duration": 230,
    "start_time": "2022-08-20T17:18:25.716Z"
   },
   {
    "duration": 2,
    "start_time": "2022-08-20T17:18:25.948Z"
   },
   {
    "duration": 4,
    "start_time": "2022-08-20T17:18:25.952Z"
   },
   {
    "duration": 492,
    "start_time": "2022-08-20T17:18:25.959Z"
   },
   {
    "duration": 56,
    "start_time": "2022-08-20T17:18:26.452Z"
   },
   {
    "duration": 23,
    "start_time": "2022-08-20T17:18:26.509Z"
   },
   {
    "duration": 13,
    "start_time": "2022-08-20T17:18:26.534Z"
   },
   {
    "duration": 8,
    "start_time": "2022-08-20T17:18:26.549Z"
   },
   {
    "duration": 14,
    "start_time": "2022-08-20T17:18:26.559Z"
   },
   {
    "duration": 40,
    "start_time": "2022-08-20T17:18:26.575Z"
   },
   {
    "duration": 29,
    "start_time": "2022-08-20T17:18:26.617Z"
   },
   {
    "duration": 6,
    "start_time": "2022-08-20T17:18:26.648Z"
   },
   {
    "duration": 17,
    "start_time": "2022-08-20T17:18:26.658Z"
   },
   {
    "duration": 35,
    "start_time": "2022-08-20T17:18:26.676Z"
   },
   {
    "duration": 9,
    "start_time": "2022-08-20T17:18:26.713Z"
   },
   {
    "duration": 20,
    "start_time": "2022-08-20T17:18:26.724Z"
   },
   {
    "duration": 3,
    "start_time": "2022-08-20T17:18:26.745Z"
   },
   {
    "duration": 18,
    "start_time": "2022-08-20T17:18:26.749Z"
   },
   {
    "duration": 5,
    "start_time": "2022-08-20T17:18:26.769Z"
   },
   {
    "duration": 48,
    "start_time": "2022-08-20T17:18:26.776Z"
   },
   {
    "duration": 312,
    "start_time": "2022-08-20T17:18:26.826Z"
   },
   {
    "duration": 15,
    "start_time": "2022-08-20T17:18:27.140Z"
   },
   {
    "duration": 18,
    "start_time": "2022-08-20T17:18:27.157Z"
   },
   {
    "duration": 7,
    "start_time": "2022-08-20T17:18:27.176Z"
   },
   {
    "duration": 28,
    "start_time": "2022-08-20T17:18:27.184Z"
   },
   {
    "duration": 5,
    "start_time": "2022-08-20T17:18:27.213Z"
   },
   {
    "duration": 9,
    "start_time": "2022-08-20T17:18:27.219Z"
   },
   {
    "duration": 4,
    "start_time": "2022-08-20T17:18:27.229Z"
   },
   {
    "duration": 4,
    "start_time": "2022-08-20T17:18:27.235Z"
   },
   {
    "duration": 9,
    "start_time": "2022-08-20T17:18:27.240Z"
   },
   {
    "duration": 11,
    "start_time": "2022-08-20T17:18:27.250Z"
   },
   {
    "duration": 3,
    "start_time": "2022-08-20T17:18:27.262Z"
   },
   {
    "duration": 53,
    "start_time": "2022-08-20T17:18:27.266Z"
   },
   {
    "duration": 5,
    "start_time": "2022-08-20T17:18:27.320Z"
   },
   {
    "duration": 223,
    "start_time": "2022-08-20T17:18:27.326Z"
   },
   {
    "duration": 9,
    "start_time": "2022-08-20T17:18:27.551Z"
   },
   {
    "duration": 300,
    "start_time": "2022-08-20T17:18:27.561Z"
   },
   {
    "duration": 257,
    "start_time": "2022-08-20T17:18:27.862Z"
   },
   {
    "duration": 300,
    "start_time": "2022-08-20T17:18:28.120Z"
   },
   {
    "duration": 279,
    "start_time": "2022-08-20T17:18:28.423Z"
   },
   {
    "duration": 308,
    "start_time": "2022-08-20T17:18:28.704Z"
   },
   {
    "duration": 184,
    "start_time": "2022-08-20T17:18:29.014Z"
   },
   {
    "duration": 12,
    "start_time": "2022-08-20T17:18:29.199Z"
   },
   {
    "duration": 167,
    "start_time": "2022-08-20T17:18:29.213Z"
   },
   {
    "duration": 6,
    "start_time": "2022-08-20T17:18:29.381Z"
   },
   {
    "duration": 30,
    "start_time": "2022-08-20T17:18:29.388Z"
   },
   {
    "duration": 4,
    "start_time": "2022-08-20T17:18:29.419Z"
   },
   {
    "duration": 24,
    "start_time": "2022-08-20T17:18:29.425Z"
   },
   {
    "duration": 29,
    "start_time": "2022-08-20T17:18:29.451Z"
   },
   {
    "duration": 3,
    "start_time": "2022-08-20T17:18:29.481Z"
   },
   {
    "duration": 6,
    "start_time": "2022-08-20T17:18:29.510Z"
   },
   {
    "duration": 32,
    "start_time": "2022-08-20T17:18:29.518Z"
   },
   {
    "duration": 3,
    "start_time": "2022-08-20T17:19:12.372Z"
   },
   {
    "duration": 5,
    "start_time": "2022-08-20T17:19:13.854Z"
   },
   {
    "duration": 33,
    "start_time": "2022-08-20T17:19:15.679Z"
   },
   {
    "duration": 31,
    "start_time": "2022-08-20T17:19:57.906Z"
   },
   {
    "duration": 393,
    "start_time": "2022-08-20T17:20:47.119Z"
   },
   {
    "duration": 204,
    "start_time": "2022-08-20T17:20:47.514Z"
   },
   {
    "duration": 3,
    "start_time": "2022-08-20T17:20:47.719Z"
   },
   {
    "duration": 2,
    "start_time": "2022-08-20T17:20:47.725Z"
   },
   {
    "duration": 448,
    "start_time": "2022-08-20T17:20:47.729Z"
   },
   {
    "duration": 53,
    "start_time": "2022-08-20T17:20:48.179Z"
   },
   {
    "duration": 22,
    "start_time": "2022-08-20T17:20:48.233Z"
   },
   {
    "duration": 13,
    "start_time": "2022-08-20T17:20:48.256Z"
   },
   {
    "duration": 7,
    "start_time": "2022-08-20T17:20:48.271Z"
   },
   {
    "duration": 36,
    "start_time": "2022-08-20T17:20:48.281Z"
   },
   {
    "duration": 6,
    "start_time": "2022-08-20T17:20:48.318Z"
   },
   {
    "duration": 19,
    "start_time": "2022-08-20T17:20:48.325Z"
   },
   {
    "duration": 5,
    "start_time": "2022-08-20T17:20:48.346Z"
   },
   {
    "duration": 19,
    "start_time": "2022-08-20T17:20:48.352Z"
   },
   {
    "duration": 44,
    "start_time": "2022-08-20T17:20:48.372Z"
   },
   {
    "duration": 8,
    "start_time": "2022-08-20T17:20:48.417Z"
   },
   {
    "duration": 18,
    "start_time": "2022-08-20T17:20:48.426Z"
   },
   {
    "duration": 3,
    "start_time": "2022-08-20T17:20:48.445Z"
   },
   {
    "duration": 18,
    "start_time": "2022-08-20T17:20:48.449Z"
   },
   {
    "duration": 5,
    "start_time": "2022-08-20T17:20:48.469Z"
   },
   {
    "duration": 43,
    "start_time": "2022-08-20T17:20:48.475Z"
   },
   {
    "duration": 281,
    "start_time": "2022-08-20T17:20:48.519Z"
   },
   {
    "duration": 16,
    "start_time": "2022-08-20T17:20:48.801Z"
   },
   {
    "duration": 18,
    "start_time": "2022-08-20T17:20:48.818Z"
   },
   {
    "duration": 9,
    "start_time": "2022-08-20T17:20:48.837Z"
   },
   {
    "duration": 7,
    "start_time": "2022-08-20T17:20:48.847Z"
   },
   {
    "duration": 5,
    "start_time": "2022-08-20T17:20:48.856Z"
   },
   {
    "duration": 8,
    "start_time": "2022-08-20T17:20:48.864Z"
   },
   {
    "duration": 4,
    "start_time": "2022-08-20T17:20:48.873Z"
   },
   {
    "duration": 33,
    "start_time": "2022-08-20T17:20:48.878Z"
   },
   {
    "duration": 7,
    "start_time": "2022-08-20T17:20:48.912Z"
   },
   {
    "duration": 16,
    "start_time": "2022-08-20T17:20:48.920Z"
   },
   {
    "duration": 3,
    "start_time": "2022-08-20T17:20:48.937Z"
   },
   {
    "duration": 21,
    "start_time": "2022-08-20T17:20:48.941Z"
   },
   {
    "duration": 7,
    "start_time": "2022-08-20T17:20:48.963Z"
   },
   {
    "duration": 222,
    "start_time": "2022-08-20T17:20:48.971Z"
   },
   {
    "duration": 16,
    "start_time": "2022-08-20T17:20:49.195Z"
   },
   {
    "duration": 301,
    "start_time": "2022-08-20T17:20:49.213Z"
   },
   {
    "duration": 252,
    "start_time": "2022-08-20T17:20:49.515Z"
   },
   {
    "duration": 288,
    "start_time": "2022-08-20T17:20:49.769Z"
   },
   {
    "duration": 268,
    "start_time": "2022-08-20T17:20:50.058Z"
   },
   {
    "duration": 303,
    "start_time": "2022-08-20T17:20:50.327Z"
   },
   {
    "duration": 172,
    "start_time": "2022-08-20T17:20:50.632Z"
   },
   {
    "duration": 9,
    "start_time": "2022-08-20T17:20:50.805Z"
   },
   {
    "duration": 160,
    "start_time": "2022-08-20T17:20:50.815Z"
   },
   {
    "duration": 6,
    "start_time": "2022-08-20T17:20:50.976Z"
   },
   {
    "duration": 29,
    "start_time": "2022-08-20T17:20:50.983Z"
   },
   {
    "duration": 4,
    "start_time": "2022-08-20T17:20:51.013Z"
   },
   {
    "duration": 4,
    "start_time": "2022-08-20T17:20:51.018Z"
   },
   {
    "duration": 38,
    "start_time": "2022-08-20T17:20:51.024Z"
   },
   {
    "duration": 15,
    "start_time": "2022-08-20T17:21:22.846Z"
   },
   {
    "duration": 3,
    "start_time": "2022-08-20T17:21:32.928Z"
   },
   {
    "duration": 21,
    "start_time": "2022-08-20T17:47:09.434Z"
   },
   {
    "duration": 14,
    "start_time": "2022-08-20T17:47:26.127Z"
   },
   {
    "duration": 105,
    "start_time": "2022-08-20T17:47:45.444Z"
   },
   {
    "duration": 166,
    "start_time": "2022-08-20T17:47:57.895Z"
   },
   {
    "duration": 167,
    "start_time": "2022-08-20T17:50:03.493Z"
   },
   {
    "duration": 171,
    "start_time": "2022-08-20T17:50:16.603Z"
   },
   {
    "duration": 168,
    "start_time": "2022-08-20T17:54:00.558Z"
   },
   {
    "duration": 50,
    "start_time": "2022-08-20T17:58:35.044Z"
   },
   {
    "duration": 8,
    "start_time": "2022-08-20T18:10:54.801Z"
   },
   {
    "duration": 7,
    "start_time": "2022-08-20T18:11:52.442Z"
   },
   {
    "duration": 6,
    "start_time": "2022-08-20T18:12:21.797Z"
   },
   {
    "duration": 9,
    "start_time": "2022-08-20T18:17:20.725Z"
   },
   {
    "duration": 204,
    "start_time": "2022-08-20T18:18:06.163Z"
   },
   {
    "duration": 218,
    "start_time": "2022-08-20T18:18:36.592Z"
   },
   {
    "duration": 241,
    "start_time": "2022-08-20T18:18:42.542Z"
   },
   {
    "duration": 195,
    "start_time": "2022-08-20T18:20:19.830Z"
   },
   {
    "duration": 265,
    "start_time": "2022-08-20T18:20:29.533Z"
   },
   {
    "duration": 11,
    "start_time": "2022-08-20T18:24:16.418Z"
   },
   {
    "duration": 9,
    "start_time": "2022-08-20T18:24:41.131Z"
   },
   {
    "duration": 7,
    "start_time": "2022-08-20T18:30:31.276Z"
   },
   {
    "duration": 7,
    "start_time": "2022-08-20T18:31:00.599Z"
   },
   {
    "duration": 6,
    "start_time": "2022-08-20T18:31:16.522Z"
   },
   {
    "duration": 9,
    "start_time": "2022-08-20T18:33:28.595Z"
   },
   {
    "duration": 206,
    "start_time": "2022-08-20T18:33:31.678Z"
   },
   {
    "duration": 210,
    "start_time": "2022-08-20T18:33:45.502Z"
   },
   {
    "duration": 9,
    "start_time": "2022-08-20T18:39:10.480Z"
   },
   {
    "duration": 8,
    "start_time": "2022-08-20T18:39:49.928Z"
   },
   {
    "duration": 12,
    "start_time": "2022-08-20T18:40:35.960Z"
   },
   {
    "duration": 7,
    "start_time": "2022-08-20T18:41:38.062Z"
   },
   {
    "duration": 8,
    "start_time": "2022-08-20T18:42:19.794Z"
   },
   {
    "duration": 8,
    "start_time": "2022-08-20T18:42:33.573Z"
   },
   {
    "duration": 13,
    "start_time": "2022-08-20T18:43:11.633Z"
   },
   {
    "duration": 8,
    "start_time": "2022-08-20T18:43:26.157Z"
   },
   {
    "duration": 7,
    "start_time": "2022-08-20T18:43:55.352Z"
   },
   {
    "duration": 9,
    "start_time": "2022-08-20T18:44:57.632Z"
   },
   {
    "duration": 185,
    "start_time": "2022-08-20T18:45:05.045Z"
   },
   {
    "duration": 181,
    "start_time": "2022-08-20T18:45:11.611Z"
   },
   {
    "duration": 43,
    "start_time": "2022-08-20T18:46:08.471Z"
   },
   {
    "duration": 15,
    "start_time": "2022-08-20T20:16:55.152Z"
   },
   {
    "duration": 13,
    "start_time": "2022-08-20T20:18:04.307Z"
   },
   {
    "duration": 3,
    "start_time": "2022-08-20T20:19:13.361Z"
   },
   {
    "duration": 475,
    "start_time": "2022-08-20T20:19:19.777Z"
   },
   {
    "duration": 216,
    "start_time": "2022-08-20T20:19:20.255Z"
   },
   {
    "duration": 2,
    "start_time": "2022-08-20T20:19:20.472Z"
   },
   {
    "duration": 450,
    "start_time": "2022-08-20T20:19:20.476Z"
   },
   {
    "duration": 2,
    "start_time": "2022-08-20T20:19:20.928Z"
   },
   {
    "duration": 54,
    "start_time": "2022-08-20T20:19:20.931Z"
   },
   {
    "duration": 54,
    "start_time": "2022-08-20T20:19:20.986Z"
   },
   {
    "duration": 21,
    "start_time": "2022-08-20T20:19:21.041Z"
   },
   {
    "duration": 12,
    "start_time": "2022-08-20T20:19:21.063Z"
   },
   {
    "duration": 8,
    "start_time": "2022-08-20T20:19:21.077Z"
   },
   {
    "duration": 36,
    "start_time": "2022-08-20T20:19:21.086Z"
   },
   {
    "duration": 6,
    "start_time": "2022-08-20T20:19:21.124Z"
   },
   {
    "duration": 19,
    "start_time": "2022-08-20T20:19:21.131Z"
   },
   {
    "duration": 5,
    "start_time": "2022-08-20T20:19:21.151Z"
   },
   {
    "duration": 22,
    "start_time": "2022-08-20T20:19:21.157Z"
   },
   {
    "duration": 43,
    "start_time": "2022-08-20T20:19:21.180Z"
   },
   {
    "duration": 8,
    "start_time": "2022-08-20T20:19:21.225Z"
   },
   {
    "duration": 18,
    "start_time": "2022-08-20T20:19:21.234Z"
   },
   {
    "duration": 3,
    "start_time": "2022-08-20T20:19:21.253Z"
   },
   {
    "duration": 20,
    "start_time": "2022-08-20T20:19:21.257Z"
   },
   {
    "duration": 4,
    "start_time": "2022-08-20T20:19:21.278Z"
   },
   {
    "duration": 41,
    "start_time": "2022-08-20T20:19:21.283Z"
   },
   {
    "duration": 294,
    "start_time": "2022-08-20T20:19:21.326Z"
   },
   {
    "duration": 17,
    "start_time": "2022-08-20T20:19:21.621Z"
   },
   {
    "duration": 17,
    "start_time": "2022-08-20T20:19:21.639Z"
   },
   {
    "duration": 6,
    "start_time": "2022-08-20T20:19:21.658Z"
   },
   {
    "duration": 9,
    "start_time": "2022-08-20T20:19:21.665Z"
   },
   {
    "duration": 5,
    "start_time": "2022-08-20T20:19:21.677Z"
   },
   {
    "duration": 33,
    "start_time": "2022-08-20T20:19:21.683Z"
   },
   {
    "duration": 4,
    "start_time": "2022-08-20T20:19:21.717Z"
   },
   {
    "duration": 5,
    "start_time": "2022-08-20T20:19:21.723Z"
   },
   {
    "duration": 8,
    "start_time": "2022-08-20T20:19:21.729Z"
   },
   {
    "duration": 11,
    "start_time": "2022-08-20T20:19:21.739Z"
   },
   {
    "duration": 3,
    "start_time": "2022-08-20T20:19:21.751Z"
   },
   {
    "duration": 20,
    "start_time": "2022-08-20T20:19:21.756Z"
   },
   {
    "duration": 37,
    "start_time": "2022-08-20T20:19:21.778Z"
   },
   {
    "duration": 211,
    "start_time": "2022-08-20T20:19:21.816Z"
   },
   {
    "duration": 10,
    "start_time": "2022-08-20T20:19:22.028Z"
   },
   {
    "duration": 296,
    "start_time": "2022-08-20T20:19:22.040Z"
   },
   {
    "duration": 285,
    "start_time": "2022-08-20T20:19:22.338Z"
   },
   {
    "duration": 297,
    "start_time": "2022-08-20T20:19:22.626Z"
   },
   {
    "duration": 265,
    "start_time": "2022-08-20T20:19:22.924Z"
   },
   {
    "duration": 308,
    "start_time": "2022-08-20T20:19:23.191Z"
   },
   {
    "duration": 177,
    "start_time": "2022-08-20T20:19:23.501Z"
   },
   {
    "duration": 6,
    "start_time": "2022-08-20T20:19:23.680Z"
   },
   {
    "duration": 171,
    "start_time": "2022-08-20T20:19:23.687Z"
   },
   {
    "duration": 6,
    "start_time": "2022-08-20T20:19:23.859Z"
   },
   {
    "duration": 18,
    "start_time": "2022-08-20T20:19:23.866Z"
   },
   {
    "duration": 3,
    "start_time": "2022-08-20T20:19:23.885Z"
   },
   {
    "duration": 25,
    "start_time": "2022-08-20T20:19:23.889Z"
   },
   {
    "duration": 35,
    "start_time": "2022-08-20T20:19:23.915Z"
   },
   {
    "duration": 13,
    "start_time": "2022-08-20T20:19:23.951Z"
   },
   {
    "duration": 185,
    "start_time": "2022-08-20T20:19:23.966Z"
   },
   {
    "duration": 6,
    "start_time": "2022-08-20T20:19:24.153Z"
   },
   {
    "duration": 8,
    "start_time": "2022-08-20T20:19:24.160Z"
   },
   {
    "duration": 8,
    "start_time": "2022-08-20T20:19:24.170Z"
   },
   {
    "duration": 34,
    "start_time": "2022-08-20T20:19:24.179Z"
   },
   {
    "duration": 203,
    "start_time": "2022-08-20T20:19:24.215Z"
   },
   {
    "duration": 6,
    "start_time": "2022-08-20T20:19:24.419Z"
   },
   {
    "duration": 10,
    "start_time": "2022-08-20T20:19:24.427Z"
   },
   {
    "duration": 6,
    "start_time": "2022-08-20T20:19:24.439Z"
   },
   {
    "duration": 9,
    "start_time": "2022-08-20T20:19:24.447Z"
   },
   {
    "duration": 240,
    "start_time": "2022-08-20T20:19:24.457Z"
   },
   {
    "duration": 60,
    "start_time": "2022-08-20T20:19:24.698Z"
   },
   {
    "duration": 0,
    "start_time": "2022-08-20T20:19:24.760Z"
   },
   {
    "duration": 0,
    "start_time": "2022-08-20T20:19:24.761Z"
   },
   {
    "duration": 0,
    "start_time": "2022-08-20T20:19:24.762Z"
   },
   {
    "duration": 0,
    "start_time": "2022-08-20T20:19:24.763Z"
   },
   {
    "duration": 0,
    "start_time": "2022-08-20T20:19:24.764Z"
   },
   {
    "duration": 391,
    "start_time": "2022-08-20T20:19:46.574Z"
   },
   {
    "duration": 204,
    "start_time": "2022-08-20T20:19:46.967Z"
   },
   {
    "duration": 3,
    "start_time": "2022-08-20T20:19:47.172Z"
   },
   {
    "duration": 449,
    "start_time": "2022-08-20T20:19:47.177Z"
   },
   {
    "duration": 2,
    "start_time": "2022-08-20T20:19:47.628Z"
   },
   {
    "duration": 54,
    "start_time": "2022-08-20T20:19:47.632Z"
   },
   {
    "duration": 52,
    "start_time": "2022-08-20T20:19:47.688Z"
   },
   {
    "duration": 22,
    "start_time": "2022-08-20T20:19:47.741Z"
   },
   {
    "duration": 15,
    "start_time": "2022-08-20T20:19:47.765Z"
   },
   {
    "duration": 29,
    "start_time": "2022-08-20T20:19:47.783Z"
   },
   {
    "duration": 14,
    "start_time": "2022-08-20T20:19:47.814Z"
   },
   {
    "duration": 6,
    "start_time": "2022-08-20T20:19:47.830Z"
   },
   {
    "duration": 20,
    "start_time": "2022-08-20T20:19:47.837Z"
   },
   {
    "duration": 5,
    "start_time": "2022-08-20T20:19:47.859Z"
   },
   {
    "duration": 46,
    "start_time": "2022-08-20T20:19:47.865Z"
   },
   {
    "duration": 18,
    "start_time": "2022-08-20T20:19:47.912Z"
   },
   {
    "duration": 10,
    "start_time": "2022-08-20T20:19:47.932Z"
   },
   {
    "duration": 19,
    "start_time": "2022-08-20T20:19:47.943Z"
   },
   {
    "duration": 2,
    "start_time": "2022-08-20T20:19:47.963Z"
   },
   {
    "duration": 46,
    "start_time": "2022-08-20T20:19:47.966Z"
   },
   {
    "duration": 4,
    "start_time": "2022-08-20T20:19:48.013Z"
   },
   {
    "duration": 19,
    "start_time": "2022-08-20T20:19:48.018Z"
   },
   {
    "duration": 302,
    "start_time": "2022-08-20T20:19:48.039Z"
   },
   {
    "duration": 16,
    "start_time": "2022-08-20T20:19:48.342Z"
   },
   {
    "duration": 19,
    "start_time": "2022-08-20T20:19:48.359Z"
   },
   {
    "duration": 7,
    "start_time": "2022-08-20T20:19:48.379Z"
   },
   {
    "duration": 27,
    "start_time": "2022-08-20T20:19:48.387Z"
   },
   {
    "duration": 4,
    "start_time": "2022-08-20T20:19:48.417Z"
   },
   {
    "duration": 9,
    "start_time": "2022-08-20T20:19:48.423Z"
   },
   {
    "duration": 3,
    "start_time": "2022-08-20T20:19:48.434Z"
   },
   {
    "duration": 7,
    "start_time": "2022-08-20T20:19:48.439Z"
   },
   {
    "duration": 12,
    "start_time": "2022-08-20T20:19:48.447Z"
   },
   {
    "duration": 14,
    "start_time": "2022-08-20T20:19:48.461Z"
   },
   {
    "duration": 35,
    "start_time": "2022-08-20T20:19:48.476Z"
   },
   {
    "duration": 26,
    "start_time": "2022-08-20T20:19:48.513Z"
   },
   {
    "duration": 11,
    "start_time": "2022-08-20T20:19:48.540Z"
   },
   {
    "duration": 204,
    "start_time": "2022-08-20T20:19:48.553Z"
   },
   {
    "duration": 11,
    "start_time": "2022-08-20T20:19:48.759Z"
   },
   {
    "duration": 304,
    "start_time": "2022-08-20T20:19:48.772Z"
   },
   {
    "duration": 253,
    "start_time": "2022-08-20T20:19:49.078Z"
   },
   {
    "duration": 293,
    "start_time": "2022-08-20T20:19:49.333Z"
   },
   {
    "duration": 260,
    "start_time": "2022-08-20T20:19:49.627Z"
   },
   {
    "duration": 297,
    "start_time": "2022-08-20T20:19:49.889Z"
   },
   {
    "duration": 185,
    "start_time": "2022-08-20T20:19:50.187Z"
   },
   {
    "duration": 6,
    "start_time": "2022-08-20T20:19:50.373Z"
   },
   {
    "duration": 165,
    "start_time": "2022-08-20T20:19:50.380Z"
   },
   {
    "duration": 5,
    "start_time": "2022-08-20T20:19:50.546Z"
   },
   {
    "duration": 17,
    "start_time": "2022-08-20T20:19:50.552Z"
   },
   {
    "duration": 4,
    "start_time": "2022-08-20T20:19:50.571Z"
   },
   {
    "duration": 10,
    "start_time": "2022-08-20T20:19:50.576Z"
   },
   {
    "duration": 57,
    "start_time": "2022-08-20T20:19:50.587Z"
   },
   {
    "duration": 13,
    "start_time": "2022-08-20T20:19:50.646Z"
   },
   {
    "duration": 192,
    "start_time": "2022-08-20T20:19:50.661Z"
   },
   {
    "duration": 7,
    "start_time": "2022-08-20T20:19:50.854Z"
   },
   {
    "duration": 8,
    "start_time": "2022-08-20T20:19:50.862Z"
   },
   {
    "duration": 7,
    "start_time": "2022-08-20T20:19:50.872Z"
   },
   {
    "duration": 30,
    "start_time": "2022-08-20T20:19:50.881Z"
   },
   {
    "duration": 201,
    "start_time": "2022-08-20T20:19:50.912Z"
   },
   {
    "duration": 7,
    "start_time": "2022-08-20T20:19:51.114Z"
   },
   {
    "duration": 8,
    "start_time": "2022-08-20T20:19:51.122Z"
   },
   {
    "duration": 11,
    "start_time": "2022-08-20T20:19:51.131Z"
   },
   {
    "duration": 8,
    "start_time": "2022-08-20T20:19:51.144Z"
   },
   {
    "duration": 220,
    "start_time": "2022-08-20T20:19:51.154Z"
   },
   {
    "duration": 8,
    "start_time": "2022-08-20T20:19:51.376Z"
   },
   {
    "duration": 9,
    "start_time": "2022-08-20T20:19:51.385Z"
   },
   {
    "duration": 19,
    "start_time": "2022-08-20T20:19:51.395Z"
   },
   {
    "duration": 197,
    "start_time": "2022-08-20T20:19:51.416Z"
   },
   {
    "duration": 113,
    "start_time": "2022-08-20T20:19:51.615Z"
   },
   {
    "duration": 15,
    "start_time": "2022-08-20T20:20:45.428Z"
   },
   {
    "duration": 14,
    "start_time": "2022-08-20T20:21:25.781Z"
   },
   {
    "duration": 14,
    "start_time": "2022-08-20T20:21:35.412Z"
   },
   {
    "duration": 14,
    "start_time": "2022-08-20T20:22:40.955Z"
   },
   {
    "duration": 19,
    "start_time": "2022-08-20T20:23:54.294Z"
   },
   {
    "duration": 58,
    "start_time": "2022-08-20T20:29:17.316Z"
   },
   {
    "duration": 407,
    "start_time": "2022-08-20T20:36:50.436Z"
   },
   {
    "duration": 208,
    "start_time": "2022-08-20T20:36:50.844Z"
   },
   {
    "duration": 3,
    "start_time": "2022-08-20T20:36:51.054Z"
   },
   {
    "duration": 452,
    "start_time": "2022-08-20T20:36:51.059Z"
   },
   {
    "duration": 3,
    "start_time": "2022-08-20T20:36:51.512Z"
   },
   {
    "duration": 53,
    "start_time": "2022-08-20T20:36:51.517Z"
   },
   {
    "duration": 53,
    "start_time": "2022-08-20T20:36:51.572Z"
   },
   {
    "duration": 27,
    "start_time": "2022-08-20T20:36:51.626Z"
   },
   {
    "duration": 13,
    "start_time": "2022-08-20T20:36:51.655Z"
   },
   {
    "duration": 8,
    "start_time": "2022-08-20T20:36:51.670Z"
   },
   {
    "duration": 35,
    "start_time": "2022-08-20T20:36:51.680Z"
   },
   {
    "duration": 6,
    "start_time": "2022-08-20T20:36:51.716Z"
   },
   {
    "duration": 19,
    "start_time": "2022-08-20T20:36:51.724Z"
   },
   {
    "duration": 5,
    "start_time": "2022-08-20T20:36:51.745Z"
   },
   {
    "duration": 17,
    "start_time": "2022-08-20T20:36:51.752Z"
   },
   {
    "duration": 46,
    "start_time": "2022-08-20T20:36:51.771Z"
   },
   {
    "duration": 8,
    "start_time": "2022-08-20T20:36:51.819Z"
   },
   {
    "duration": 18,
    "start_time": "2022-08-20T20:36:51.829Z"
   },
   {
    "duration": 3,
    "start_time": "2022-08-20T20:36:51.848Z"
   },
   {
    "duration": 19,
    "start_time": "2022-08-20T20:36:51.852Z"
   },
   {
    "duration": 5,
    "start_time": "2022-08-20T20:36:51.872Z"
   },
   {
    "duration": 45,
    "start_time": "2022-08-20T20:36:51.878Z"
   },
   {
    "duration": 324,
    "start_time": "2022-08-20T20:36:51.924Z"
   },
   {
    "duration": 26,
    "start_time": "2022-08-20T20:36:52.250Z"
   },
   {
    "duration": 19,
    "start_time": "2022-08-20T20:36:52.278Z"
   },
   {
    "duration": 8,
    "start_time": "2022-08-20T20:36:52.311Z"
   },
   {
    "duration": 12,
    "start_time": "2022-08-20T20:36:52.320Z"
   },
   {
    "duration": 4,
    "start_time": "2022-08-20T20:36:52.337Z"
   },
   {
    "duration": 17,
    "start_time": "2022-08-20T20:36:52.343Z"
   },
   {
    "duration": 6,
    "start_time": "2022-08-20T20:36:52.361Z"
   },
   {
    "duration": 6,
    "start_time": "2022-08-20T20:36:52.369Z"
   },
   {
    "duration": 35,
    "start_time": "2022-08-20T20:36:52.377Z"
   },
   {
    "duration": 16,
    "start_time": "2022-08-20T20:36:52.414Z"
   },
   {
    "duration": 12,
    "start_time": "2022-08-20T20:36:52.432Z"
   },
   {
    "duration": 22,
    "start_time": "2022-08-20T20:36:52.445Z"
   },
   {
    "duration": 15,
    "start_time": "2022-08-20T20:36:52.469Z"
   },
   {
    "duration": 274,
    "start_time": "2022-08-20T20:36:52.485Z"
   },
   {
    "duration": 14,
    "start_time": "2022-08-20T20:36:52.761Z"
   },
   {
    "duration": 302,
    "start_time": "2022-08-20T20:36:52.777Z"
   },
   {
    "duration": 247,
    "start_time": "2022-08-20T20:36:53.080Z"
   },
   {
    "duration": 291,
    "start_time": "2022-08-20T20:36:53.329Z"
   },
   {
    "duration": 276,
    "start_time": "2022-08-20T20:36:53.621Z"
   },
   {
    "duration": 310,
    "start_time": "2022-08-20T20:36:53.899Z"
   },
   {
    "duration": 181,
    "start_time": "2022-08-20T20:36:54.212Z"
   },
   {
    "duration": 6,
    "start_time": "2022-08-20T20:36:54.395Z"
   },
   {
    "duration": 163,
    "start_time": "2022-08-20T20:36:54.410Z"
   },
   {
    "duration": 6,
    "start_time": "2022-08-20T20:36:54.574Z"
   },
   {
    "duration": 30,
    "start_time": "2022-08-20T20:36:54.581Z"
   },
   {
    "duration": 3,
    "start_time": "2022-08-20T20:36:54.612Z"
   },
   {
    "duration": 5,
    "start_time": "2022-08-20T20:36:54.617Z"
   },
   {
    "duration": 47,
    "start_time": "2022-08-20T20:36:54.624Z"
   },
   {
    "duration": 14,
    "start_time": "2022-08-20T20:36:54.673Z"
   },
   {
    "duration": 180,
    "start_time": "2022-08-20T20:36:54.711Z"
   },
   {
    "duration": 6,
    "start_time": "2022-08-20T20:36:54.893Z"
   },
   {
    "duration": 14,
    "start_time": "2022-08-20T20:36:54.901Z"
   },
   {
    "duration": 14,
    "start_time": "2022-08-20T20:36:54.916Z"
   },
   {
    "duration": 10,
    "start_time": "2022-08-20T20:36:54.932Z"
   },
   {
    "duration": 212,
    "start_time": "2022-08-20T20:36:54.944Z"
   },
   {
    "duration": 6,
    "start_time": "2022-08-20T20:36:55.158Z"
   },
   {
    "duration": 13,
    "start_time": "2022-08-20T20:36:55.166Z"
   },
   {
    "duration": 10,
    "start_time": "2022-08-20T20:36:55.181Z"
   },
   {
    "duration": 11,
    "start_time": "2022-08-20T20:36:55.192Z"
   },
   {
    "duration": 231,
    "start_time": "2022-08-20T20:36:55.210Z"
   },
   {
    "duration": 8,
    "start_time": "2022-08-20T20:36:55.442Z"
   },
   {
    "duration": 10,
    "start_time": "2022-08-20T20:36:55.451Z"
   },
   {
    "duration": 15,
    "start_time": "2022-08-20T20:36:55.462Z"
   },
   {
    "duration": 188,
    "start_time": "2022-08-20T20:36:55.479Z"
   },
   {
    "duration": 52,
    "start_time": "2022-08-20T20:36:55.669Z"
   },
   {
    "duration": 0,
    "start_time": "2022-08-20T20:36:55.723Z"
   },
   {
    "duration": 112,
    "start_time": "2022-08-20T20:37:12.230Z"
   },
   {
    "duration": 7,
    "start_time": "2022-08-20T20:38:11.434Z"
   },
   {
    "duration": 7,
    "start_time": "2022-08-20T20:44:19.995Z"
   },
   {
    "duration": 8,
    "start_time": "2022-08-20T20:46:26.953Z"
   },
   {
    "duration": 863,
    "start_time": "2022-08-20T20:49:24.169Z"
   },
   {
    "duration": 9,
    "start_time": "2022-08-20T20:49:59.845Z"
   },
   {
    "duration": 9,
    "start_time": "2022-08-20T20:51:27.608Z"
   },
   {
    "duration": 437,
    "start_time": "2022-08-20T20:51:34.600Z"
   },
   {
    "duration": 204,
    "start_time": "2022-08-20T20:51:35.038Z"
   },
   {
    "duration": 2,
    "start_time": "2022-08-20T20:51:35.243Z"
   },
   {
    "duration": 417,
    "start_time": "2022-08-20T20:51:35.247Z"
   },
   {
    "duration": 3,
    "start_time": "2022-08-20T20:51:35.665Z"
   },
   {
    "duration": 57,
    "start_time": "2022-08-20T20:51:35.669Z"
   },
   {
    "duration": 52,
    "start_time": "2022-08-20T20:51:35.728Z"
   },
   {
    "duration": 22,
    "start_time": "2022-08-20T20:51:35.781Z"
   },
   {
    "duration": 12,
    "start_time": "2022-08-20T20:51:35.805Z"
   },
   {
    "duration": 8,
    "start_time": "2022-08-20T20:51:35.819Z"
   },
   {
    "duration": 14,
    "start_time": "2022-08-20T20:51:35.828Z"
   },
   {
    "duration": 6,
    "start_time": "2022-08-20T20:51:35.844Z"
   },
   {
    "duration": 19,
    "start_time": "2022-08-20T20:51:35.852Z"
   },
   {
    "duration": 5,
    "start_time": "2022-08-20T20:51:35.872Z"
   },
   {
    "duration": 18,
    "start_time": "2022-08-20T20:51:35.911Z"
   },
   {
    "duration": 17,
    "start_time": "2022-08-20T20:51:35.930Z"
   },
   {
    "duration": 8,
    "start_time": "2022-08-20T20:51:35.949Z"
   },
   {
    "duration": 17,
    "start_time": "2022-08-20T20:51:35.958Z"
   },
   {
    "duration": 35,
    "start_time": "2022-08-20T20:51:35.977Z"
   },
   {
    "duration": 21,
    "start_time": "2022-08-20T20:51:36.013Z"
   },
   {
    "duration": 3,
    "start_time": "2022-08-20T20:51:36.036Z"
   },
   {
    "duration": 21,
    "start_time": "2022-08-20T20:51:36.041Z"
   },
   {
    "duration": 293,
    "start_time": "2022-08-20T20:51:36.063Z"
   },
   {
    "duration": 16,
    "start_time": "2022-08-20T20:51:36.357Z"
   },
   {
    "duration": 18,
    "start_time": "2022-08-20T20:51:36.375Z"
   },
   {
    "duration": 21,
    "start_time": "2022-08-20T20:51:36.394Z"
   },
   {
    "duration": 7,
    "start_time": "2022-08-20T20:51:36.417Z"
   },
   {
    "duration": 5,
    "start_time": "2022-08-20T20:51:36.428Z"
   },
   {
    "duration": 9,
    "start_time": "2022-08-20T20:51:36.434Z"
   },
   {
    "duration": 10,
    "start_time": "2022-08-20T20:51:36.445Z"
   },
   {
    "duration": 6,
    "start_time": "2022-08-20T20:51:36.456Z"
   },
   {
    "duration": 9,
    "start_time": "2022-08-20T20:51:36.463Z"
   },
   {
    "duration": 10,
    "start_time": "2022-08-20T20:51:36.473Z"
   },
   {
    "duration": 28,
    "start_time": "2022-08-20T20:51:36.485Z"
   },
   {
    "duration": 20,
    "start_time": "2022-08-20T20:51:36.514Z"
   },
   {
    "duration": 5,
    "start_time": "2022-08-20T20:51:36.536Z"
   },
   {
    "duration": 215,
    "start_time": "2022-08-20T20:51:36.542Z"
   },
   {
    "duration": 10,
    "start_time": "2022-08-20T20:51:36.759Z"
   },
   {
    "duration": 297,
    "start_time": "2022-08-20T20:51:36.770Z"
   },
   {
    "duration": 242,
    "start_time": "2022-08-20T20:51:37.069Z"
   },
   {
    "duration": 289,
    "start_time": "2022-08-20T20:51:37.312Z"
   },
   {
    "duration": 258,
    "start_time": "2022-08-20T20:51:37.603Z"
   },
   {
    "duration": 292,
    "start_time": "2022-08-20T20:51:37.862Z"
   },
   {
    "duration": 175,
    "start_time": "2022-08-20T20:51:38.155Z"
   },
   {
    "duration": 6,
    "start_time": "2022-08-20T20:51:38.331Z"
   },
   {
    "duration": 166,
    "start_time": "2022-08-20T20:51:38.338Z"
   },
   {
    "duration": 10,
    "start_time": "2022-08-20T20:51:38.505Z"
   },
   {
    "duration": 20,
    "start_time": "2022-08-20T20:51:38.516Z"
   },
   {
    "duration": 4,
    "start_time": "2022-08-20T20:51:38.537Z"
   },
   {
    "duration": 6,
    "start_time": "2022-08-20T20:51:38.542Z"
   },
   {
    "duration": 54,
    "start_time": "2022-08-20T20:51:38.550Z"
   },
   {
    "duration": 17,
    "start_time": "2022-08-20T20:51:38.605Z"
   },
   {
    "duration": 172,
    "start_time": "2022-08-20T20:51:38.624Z"
   },
   {
    "duration": 13,
    "start_time": "2022-08-20T20:51:38.798Z"
   },
   {
    "duration": 6,
    "start_time": "2022-08-20T20:51:38.812Z"
   },
   {
    "duration": 8,
    "start_time": "2022-08-20T20:51:38.819Z"
   },
   {
    "duration": 9,
    "start_time": "2022-08-20T20:51:38.828Z"
   },
   {
    "duration": 214,
    "start_time": "2022-08-20T20:51:38.839Z"
   },
   {
    "duration": 6,
    "start_time": "2022-08-20T20:51:39.055Z"
   },
   {
    "duration": 8,
    "start_time": "2022-08-20T20:51:39.062Z"
   },
   {
    "duration": 8,
    "start_time": "2022-08-20T20:51:39.071Z"
   },
   {
    "duration": 32,
    "start_time": "2022-08-20T20:51:39.080Z"
   },
   {
    "duration": 220,
    "start_time": "2022-08-20T20:51:39.114Z"
   },
   {
    "duration": 8,
    "start_time": "2022-08-20T20:51:39.336Z"
   },
   {
    "duration": 8,
    "start_time": "2022-08-20T20:51:39.345Z"
   },
   {
    "duration": 8,
    "start_time": "2022-08-20T20:51:39.354Z"
   },
   {
    "duration": 212,
    "start_time": "2022-08-20T20:51:39.363Z"
   },
   {
    "duration": 9,
    "start_time": "2022-08-20T20:51:39.576Z"
   },
   {
    "duration": 21,
    "start_time": "2022-08-20T20:51:39.587Z"
   },
   {
    "duration": 8,
    "start_time": "2022-08-20T20:52:30.457Z"
   },
   {
    "duration": 173,
    "start_time": "2022-08-20T21:51:27.369Z"
   },
   {
    "duration": 381,
    "start_time": "2022-08-20T21:54:27.151Z"
   },
   {
    "duration": 208,
    "start_time": "2022-08-20T21:54:27.534Z"
   },
   {
    "duration": 2,
    "start_time": "2022-08-20T21:54:27.743Z"
   },
   {
    "duration": 414,
    "start_time": "2022-08-20T21:54:27.748Z"
   },
   {
    "duration": 2,
    "start_time": "2022-08-20T21:54:28.164Z"
   },
   {
    "duration": 60,
    "start_time": "2022-08-20T21:54:28.168Z"
   },
   {
    "duration": 54,
    "start_time": "2022-08-20T21:54:28.230Z"
   },
   {
    "duration": 23,
    "start_time": "2022-08-20T21:54:28.286Z"
   },
   {
    "duration": 14,
    "start_time": "2022-08-20T21:54:28.310Z"
   },
   {
    "duration": 8,
    "start_time": "2022-08-20T21:54:28.326Z"
   },
   {
    "duration": 15,
    "start_time": "2022-08-20T21:54:28.335Z"
   },
   {
    "duration": 7,
    "start_time": "2022-08-20T21:54:28.351Z"
   },
   {
    "duration": 53,
    "start_time": "2022-08-20T21:54:28.359Z"
   },
   {
    "duration": 6,
    "start_time": "2022-08-20T21:54:28.413Z"
   },
   {
    "duration": 22,
    "start_time": "2022-08-20T21:54:28.421Z"
   },
   {
    "duration": 21,
    "start_time": "2022-08-20T21:54:28.444Z"
   },
   {
    "duration": 45,
    "start_time": "2022-08-20T21:54:28.467Z"
   },
   {
    "duration": 21,
    "start_time": "2022-08-20T21:54:28.513Z"
   },
   {
    "duration": 4,
    "start_time": "2022-08-20T21:54:28.536Z"
   },
   {
    "duration": 20,
    "start_time": "2022-08-20T21:54:28.541Z"
   },
   {
    "duration": 8,
    "start_time": "2022-08-20T21:54:28.563Z"
   },
   {
    "duration": 50,
    "start_time": "2022-08-20T21:54:28.572Z"
   },
   {
    "duration": 315,
    "start_time": "2022-08-20T21:54:28.623Z"
   },
   {
    "duration": 17,
    "start_time": "2022-08-20T21:54:28.940Z"
   },
   {
    "duration": 24,
    "start_time": "2022-08-20T21:54:28.958Z"
   },
   {
    "duration": 28,
    "start_time": "2022-08-20T21:54:28.983Z"
   },
   {
    "duration": 9,
    "start_time": "2022-08-20T21:54:29.012Z"
   },
   {
    "duration": 6,
    "start_time": "2022-08-20T21:54:29.026Z"
   },
   {
    "duration": 10,
    "start_time": "2022-08-20T21:54:29.033Z"
   },
   {
    "duration": 5,
    "start_time": "2022-08-20T21:54:29.044Z"
   },
   {
    "duration": 5,
    "start_time": "2022-08-20T21:54:29.051Z"
   },
   {
    "duration": 9,
    "start_time": "2022-08-20T21:54:29.057Z"
   },
   {
    "duration": 51,
    "start_time": "2022-08-20T21:54:29.068Z"
   },
   {
    "duration": 5,
    "start_time": "2022-08-20T21:54:29.122Z"
   },
   {
    "duration": 22,
    "start_time": "2022-08-20T21:54:29.129Z"
   },
   {
    "duration": 6,
    "start_time": "2022-08-20T21:54:29.153Z"
   },
   {
    "duration": 243,
    "start_time": "2022-08-20T21:54:29.160Z"
   },
   {
    "duration": 12,
    "start_time": "2022-08-20T21:54:29.404Z"
   },
   {
    "duration": 317,
    "start_time": "2022-08-20T21:54:29.417Z"
   },
   {
    "duration": 228,
    "start_time": "2022-08-20T21:54:29.736Z"
   },
   {
    "duration": 299,
    "start_time": "2022-08-20T21:54:29.966Z"
   },
   {
    "duration": 268,
    "start_time": "2022-08-20T21:54:30.266Z"
   },
   {
    "duration": 308,
    "start_time": "2022-08-20T21:54:30.535Z"
   },
   {
    "duration": 179,
    "start_time": "2022-08-20T21:54:30.845Z"
   },
   {
    "duration": 6,
    "start_time": "2022-08-20T21:54:31.026Z"
   },
   {
    "duration": 174,
    "start_time": "2022-08-20T21:54:31.033Z"
   },
   {
    "duration": 6,
    "start_time": "2022-08-20T21:54:31.208Z"
   },
   {
    "duration": 24,
    "start_time": "2022-08-20T21:54:31.216Z"
   },
   {
    "duration": 4,
    "start_time": "2022-08-20T21:54:31.242Z"
   },
   {
    "duration": 7,
    "start_time": "2022-08-20T21:54:31.248Z"
   },
   {
    "duration": 79,
    "start_time": "2022-08-20T21:54:31.257Z"
   },
   {
    "duration": 14,
    "start_time": "2022-08-20T21:54:31.338Z"
   },
   {
    "duration": 193,
    "start_time": "2022-08-20T21:54:31.354Z"
   },
   {
    "duration": 7,
    "start_time": "2022-08-20T21:54:31.548Z"
   },
   {
    "duration": 13,
    "start_time": "2022-08-20T21:54:31.557Z"
   },
   {
    "duration": 11,
    "start_time": "2022-08-20T21:54:31.571Z"
   },
   {
    "duration": 31,
    "start_time": "2022-08-20T21:54:31.584Z"
   },
   {
    "duration": 206,
    "start_time": "2022-08-20T21:54:31.617Z"
   },
   {
    "duration": 6,
    "start_time": "2022-08-20T21:54:31.825Z"
   },
   {
    "duration": 8,
    "start_time": "2022-08-20T21:54:31.833Z"
   },
   {
    "duration": 8,
    "start_time": "2022-08-20T21:54:31.842Z"
   },
   {
    "duration": 10,
    "start_time": "2022-08-20T21:54:31.851Z"
   },
   {
    "duration": 241,
    "start_time": "2022-08-20T21:54:31.862Z"
   },
   {
    "duration": 10,
    "start_time": "2022-08-20T21:54:32.105Z"
   },
   {
    "duration": 10,
    "start_time": "2022-08-20T21:54:32.117Z"
   },
   {
    "duration": 10,
    "start_time": "2022-08-20T21:54:32.128Z"
   },
   {
    "duration": 194,
    "start_time": "2022-08-20T21:54:32.139Z"
   },
   {
    "duration": 9,
    "start_time": "2022-08-20T21:54:32.335Z"
   },
   {
    "duration": 15,
    "start_time": "2022-08-20T21:54:32.345Z"
   },
   {
    "duration": 416,
    "start_time": "2022-08-20T21:57:26.711Z"
   },
   {
    "duration": 213,
    "start_time": "2022-08-20T21:57:27.129Z"
   },
   {
    "duration": 3,
    "start_time": "2022-08-20T21:57:27.343Z"
   },
   {
    "duration": 418,
    "start_time": "2022-08-20T21:57:27.348Z"
   },
   {
    "duration": 2,
    "start_time": "2022-08-20T21:57:27.768Z"
   },
   {
    "duration": 57,
    "start_time": "2022-08-20T21:57:27.771Z"
   },
   {
    "duration": 52,
    "start_time": "2022-08-20T21:57:27.830Z"
   },
   {
    "duration": 21,
    "start_time": "2022-08-20T21:57:27.884Z"
   },
   {
    "duration": 12,
    "start_time": "2022-08-20T21:57:27.907Z"
   },
   {
    "duration": 8,
    "start_time": "2022-08-20T21:57:27.921Z"
   },
   {
    "duration": 14,
    "start_time": "2022-08-20T21:57:27.930Z"
   },
   {
    "duration": 5,
    "start_time": "2022-08-20T21:57:27.945Z"
   },
   {
    "duration": 19,
    "start_time": "2022-08-20T21:57:27.952Z"
   },
   {
    "duration": 5,
    "start_time": "2022-08-20T21:57:27.973Z"
   },
   {
    "duration": 17,
    "start_time": "2022-08-20T21:57:28.011Z"
   },
   {
    "duration": 17,
    "start_time": "2022-08-20T21:57:28.029Z"
   },
   {
    "duration": 7,
    "start_time": "2022-08-20T21:57:28.048Z"
   },
   {
    "duration": 18,
    "start_time": "2022-08-20T21:57:28.056Z"
   },
   {
    "duration": 3,
    "start_time": "2022-08-20T21:57:28.111Z"
   },
   {
    "duration": 19,
    "start_time": "2022-08-20T21:57:28.116Z"
   },
   {
    "duration": 4,
    "start_time": "2022-08-20T21:57:28.136Z"
   },
   {
    "duration": 20,
    "start_time": "2022-08-20T21:57:28.141Z"
   },
   {
    "duration": 312,
    "start_time": "2022-08-20T21:57:28.162Z"
   },
   {
    "duration": 17,
    "start_time": "2022-08-20T21:57:28.475Z"
   },
   {
    "duration": 33,
    "start_time": "2022-08-20T21:57:28.494Z"
   },
   {
    "duration": 7,
    "start_time": "2022-08-20T21:57:28.529Z"
   },
   {
    "duration": 8,
    "start_time": "2022-08-20T21:57:28.538Z"
   },
   {
    "duration": 5,
    "start_time": "2022-08-20T21:57:28.549Z"
   },
   {
    "duration": 9,
    "start_time": "2022-08-20T21:57:28.555Z"
   },
   {
    "duration": 4,
    "start_time": "2022-08-20T21:57:28.566Z"
   },
   {
    "duration": 41,
    "start_time": "2022-08-20T21:57:28.571Z"
   },
   {
    "duration": 7,
    "start_time": "2022-08-20T21:57:28.614Z"
   },
   {
    "duration": 14,
    "start_time": "2022-08-20T21:57:28.623Z"
   },
   {
    "duration": 3,
    "start_time": "2022-08-20T21:57:28.639Z"
   },
   {
    "duration": 20,
    "start_time": "2022-08-20T21:57:28.644Z"
   },
   {
    "duration": 6,
    "start_time": "2022-08-20T21:57:28.666Z"
   },
   {
    "duration": 248,
    "start_time": "2022-08-20T21:57:28.673Z"
   },
   {
    "duration": 10,
    "start_time": "2022-08-20T21:57:28.923Z"
   },
   {
    "duration": 320,
    "start_time": "2022-08-20T21:57:28.935Z"
   },
   {
    "duration": 263,
    "start_time": "2022-08-20T21:57:29.256Z"
   },
   {
    "duration": 313,
    "start_time": "2022-08-20T21:57:29.520Z"
   },
   {
    "duration": 281,
    "start_time": "2022-08-20T21:57:29.834Z"
   },
   {
    "duration": 314,
    "start_time": "2022-08-20T21:57:30.117Z"
   },
   {
    "duration": 194,
    "start_time": "2022-08-20T21:57:30.433Z"
   },
   {
    "duration": 6,
    "start_time": "2022-08-20T21:57:30.629Z"
   },
   {
    "duration": 179,
    "start_time": "2022-08-20T21:57:30.636Z"
   },
   {
    "duration": 6,
    "start_time": "2022-08-20T21:57:30.816Z"
   },
   {
    "duration": 19,
    "start_time": "2022-08-20T21:57:30.824Z"
   },
   {
    "duration": 3,
    "start_time": "2022-08-20T21:57:30.844Z"
   },
   {
    "duration": 9,
    "start_time": "2022-08-20T21:57:30.849Z"
   },
   {
    "duration": 60,
    "start_time": "2022-08-20T21:57:30.859Z"
   },
   {
    "duration": 19,
    "start_time": "2022-08-20T21:57:30.920Z"
   },
   {
    "duration": 206,
    "start_time": "2022-08-20T21:57:30.941Z"
   },
   {
    "duration": 7,
    "start_time": "2022-08-20T21:57:31.148Z"
   },
   {
    "duration": 17,
    "start_time": "2022-08-20T21:57:31.156Z"
   },
   {
    "duration": 27,
    "start_time": "2022-08-20T21:57:31.174Z"
   },
   {
    "duration": 39,
    "start_time": "2022-08-20T21:57:31.202Z"
   },
   {
    "duration": 250,
    "start_time": "2022-08-20T21:57:31.243Z"
   },
   {
    "duration": 7,
    "start_time": "2022-08-20T21:57:31.494Z"
   },
   {
    "duration": 9,
    "start_time": "2022-08-20T21:57:31.511Z"
   },
   {
    "duration": 9,
    "start_time": "2022-08-20T21:57:31.521Z"
   },
   {
    "duration": 18,
    "start_time": "2022-08-20T21:57:31.531Z"
   },
   {
    "duration": 219,
    "start_time": "2022-08-20T21:57:31.551Z"
   },
   {
    "duration": 8,
    "start_time": "2022-08-20T21:57:31.771Z"
   },
   {
    "duration": 14,
    "start_time": "2022-08-20T21:57:31.781Z"
   },
   {
    "duration": 17,
    "start_time": "2022-08-20T21:57:31.797Z"
   },
   {
    "duration": 178,
    "start_time": "2022-08-20T21:57:31.816Z"
   },
   {
    "duration": 16,
    "start_time": "2022-08-20T21:57:31.996Z"
   },
   {
    "duration": 13,
    "start_time": "2022-08-20T21:57:32.014Z"
   },
   {
    "duration": 52,
    "start_time": "2022-08-21T12:23:14.687Z"
   },
   {
    "duration": 359,
    "start_time": "2022-08-21T12:23:28.241Z"
   },
   {
    "duration": 367,
    "start_time": "2022-08-21T12:23:28.602Z"
   },
   {
    "duration": 15,
    "start_time": "2022-08-21T12:23:28.970Z"
   },
   {
    "duration": 414,
    "start_time": "2022-08-21T12:23:28.987Z"
   },
   {
    "duration": 2,
    "start_time": "2022-08-21T12:23:29.403Z"
   },
   {
    "duration": 53,
    "start_time": "2022-08-21T12:23:29.407Z"
   },
   {
    "duration": 95,
    "start_time": "2022-08-21T12:23:29.461Z"
   },
   {
    "duration": 24,
    "start_time": "2022-08-21T12:23:29.558Z"
   },
   {
    "duration": 13,
    "start_time": "2022-08-21T12:23:29.584Z"
   },
   {
    "duration": 8,
    "start_time": "2022-08-21T12:23:29.600Z"
   },
   {
    "duration": 16,
    "start_time": "2022-08-21T12:23:29.609Z"
   },
   {
    "duration": 6,
    "start_time": "2022-08-21T12:23:29.626Z"
   },
   {
    "duration": 21,
    "start_time": "2022-08-21T12:23:29.633Z"
   },
   {
    "duration": 33,
    "start_time": "2022-08-21T12:23:29.656Z"
   },
   {
    "duration": 23,
    "start_time": "2022-08-21T12:23:29.691Z"
   },
   {
    "duration": 20,
    "start_time": "2022-08-21T12:23:29.716Z"
   },
   {
    "duration": 9,
    "start_time": "2022-08-21T12:23:29.738Z"
   },
   {
    "duration": 52,
    "start_time": "2022-08-21T12:23:29.749Z"
   },
   {
    "duration": 3,
    "start_time": "2022-08-21T12:23:29.803Z"
   },
   {
    "duration": 23,
    "start_time": "2022-08-21T12:23:29.807Z"
   },
   {
    "duration": 4,
    "start_time": "2022-08-21T12:23:29.832Z"
   },
   {
    "duration": 23,
    "start_time": "2022-08-21T12:23:29.837Z"
   },
   {
    "duration": 315,
    "start_time": "2022-08-21T12:23:29.884Z"
   },
   {
    "duration": 19,
    "start_time": "2022-08-21T12:23:30.200Z"
   },
   {
    "duration": 23,
    "start_time": "2022-08-21T12:23:30.220Z"
   },
   {
    "duration": 7,
    "start_time": "2022-08-21T12:23:30.245Z"
   },
   {
    "duration": 25,
    "start_time": "2022-08-21T12:23:30.254Z"
   },
   {
    "duration": 22,
    "start_time": "2022-08-21T12:23:30.284Z"
   },
   {
    "duration": 13,
    "start_time": "2022-08-21T12:23:30.307Z"
   },
   {
    "duration": 19,
    "start_time": "2022-08-21T12:23:30.322Z"
   },
   {
    "duration": 10,
    "start_time": "2022-08-21T12:23:30.343Z"
   },
   {
    "duration": 28,
    "start_time": "2022-08-21T12:23:30.355Z"
   },
   {
    "duration": 43,
    "start_time": "2022-08-21T12:23:30.384Z"
   },
   {
    "duration": 8,
    "start_time": "2022-08-21T12:23:30.429Z"
   },
   {
    "duration": 38,
    "start_time": "2022-08-21T12:23:30.438Z"
   },
   {
    "duration": 21,
    "start_time": "2022-08-21T12:23:30.478Z"
   },
   {
    "duration": 261,
    "start_time": "2022-08-21T12:23:30.501Z"
   },
   {
    "duration": 21,
    "start_time": "2022-08-21T12:23:30.764Z"
   },
   {
    "duration": 333,
    "start_time": "2022-08-21T12:23:30.786Z"
   },
   {
    "duration": 270,
    "start_time": "2022-08-21T12:23:31.121Z"
   },
   {
    "duration": 313,
    "start_time": "2022-08-21T12:23:31.393Z"
   },
   {
    "duration": 300,
    "start_time": "2022-08-21T12:23:31.708Z"
   },
   {
    "duration": 320,
    "start_time": "2022-08-21T12:23:32.010Z"
   },
   {
    "duration": 173,
    "start_time": "2022-08-21T12:23:32.331Z"
   },
   {
    "duration": 5,
    "start_time": "2022-08-21T12:23:32.506Z"
   },
   {
    "duration": 160,
    "start_time": "2022-08-21T12:23:32.512Z"
   },
   {
    "duration": 12,
    "start_time": "2022-08-21T12:23:32.673Z"
   },
   {
    "duration": 20,
    "start_time": "2022-08-21T12:23:32.687Z"
   },
   {
    "duration": 3,
    "start_time": "2022-08-21T12:23:32.709Z"
   },
   {
    "duration": 6,
    "start_time": "2022-08-21T12:23:32.714Z"
   },
   {
    "duration": 44,
    "start_time": "2022-08-21T12:23:32.721Z"
   },
   {
    "duration": 30,
    "start_time": "2022-08-21T12:23:32.767Z"
   },
   {
    "duration": 216,
    "start_time": "2022-08-21T12:23:32.799Z"
   },
   {
    "duration": 7,
    "start_time": "2022-08-21T12:23:33.017Z"
   },
   {
    "duration": 11,
    "start_time": "2022-08-21T12:23:33.025Z"
   },
   {
    "duration": 7,
    "start_time": "2022-08-21T12:23:33.038Z"
   },
   {
    "duration": 13,
    "start_time": "2022-08-21T12:23:33.046Z"
   },
   {
    "duration": 225,
    "start_time": "2022-08-21T12:23:33.085Z"
   },
   {
    "duration": 7,
    "start_time": "2022-08-21T12:23:33.312Z"
   },
   {
    "duration": 9,
    "start_time": "2022-08-21T12:23:33.320Z"
   },
   {
    "duration": 8,
    "start_time": "2022-08-21T12:23:33.330Z"
   },
   {
    "duration": 9,
    "start_time": "2022-08-21T12:23:33.339Z"
   },
   {
    "duration": 244,
    "start_time": "2022-08-21T12:23:33.350Z"
   },
   {
    "duration": 8,
    "start_time": "2022-08-21T12:23:33.596Z"
   },
   {
    "duration": 9,
    "start_time": "2022-08-21T12:23:33.605Z"
   },
   {
    "duration": 7,
    "start_time": "2022-08-21T12:23:33.615Z"
   },
   {
    "duration": 201,
    "start_time": "2022-08-21T12:23:33.623Z"
   },
   {
    "duration": 9,
    "start_time": "2022-08-21T12:23:33.825Z"
   },
   {
    "duration": 20,
    "start_time": "2022-08-21T12:23:33.835Z"
   },
   {
    "duration": 1135,
    "start_time": "2022-08-21T13:06:52.325Z"
   },
   {
    "duration": 50,
    "start_time": "2022-08-21T13:06:53.462Z"
   },
   {
    "duration": 18,
    "start_time": "2022-08-21T13:06:53.513Z"
   },
   {
    "duration": 18,
    "start_time": "2022-08-21T13:06:53.533Z"
   },
   {
    "duration": 11,
    "start_time": "2022-08-21T13:06:53.552Z"
   },
   {
    "duration": 24,
    "start_time": "2022-08-21T13:06:53.565Z"
   },
   {
    "duration": 6,
    "start_time": "2022-08-21T13:06:53.591Z"
   },
   {
    "duration": 25,
    "start_time": "2022-08-21T13:06:53.598Z"
   },
   {
    "duration": 7,
    "start_time": "2022-08-21T13:06:53.624Z"
   },
   {
    "duration": 24,
    "start_time": "2022-08-21T13:06:53.634Z"
   },
   {
    "duration": 38,
    "start_time": "2022-08-21T13:06:53.659Z"
   },
   {
    "duration": 8,
    "start_time": "2022-08-21T13:06:53.698Z"
   },
   {
    "duration": 36,
    "start_time": "2022-08-21T13:06:53.708Z"
   },
   {
    "duration": 6,
    "start_time": "2022-08-21T13:06:53.746Z"
   },
   {
    "duration": 29,
    "start_time": "2022-08-21T13:06:53.753Z"
   },
   {
    "duration": 24,
    "start_time": "2022-08-21T13:06:53.783Z"
   },
   {
    "duration": 22,
    "start_time": "2022-08-21T13:06:53.809Z"
   },
   {
    "duration": 341,
    "start_time": "2022-08-21T13:06:53.832Z"
   },
   {
    "duration": 22,
    "start_time": "2022-08-21T13:06:54.175Z"
   },
   {
    "duration": 23,
    "start_time": "2022-08-21T13:06:54.199Z"
   },
   {
    "duration": 7,
    "start_time": "2022-08-21T13:06:54.224Z"
   },
   {
    "duration": 17,
    "start_time": "2022-08-21T13:06:54.233Z"
   },
   {
    "duration": 10,
    "start_time": "2022-08-21T13:06:54.251Z"
   },
   {
    "duration": 25,
    "start_time": "2022-08-21T13:06:54.262Z"
   },
   {
    "duration": 11,
    "start_time": "2022-08-21T13:06:54.289Z"
   },
   {
    "duration": 11,
    "start_time": "2022-08-21T13:06:54.301Z"
   },
   {
    "duration": 19,
    "start_time": "2022-08-21T13:06:54.313Z"
   },
   {
    "duration": 19,
    "start_time": "2022-08-21T13:06:54.336Z"
   },
   {
    "duration": 14,
    "start_time": "2022-08-21T13:06:54.357Z"
   },
   {
    "duration": 44,
    "start_time": "2022-08-21T13:06:54.373Z"
   },
   {
    "duration": 12,
    "start_time": "2022-08-21T13:06:54.419Z"
   },
   {
    "duration": 251,
    "start_time": "2022-08-21T13:06:54.433Z"
   },
   {
    "duration": 10,
    "start_time": "2022-08-21T13:06:54.685Z"
   },
   {
    "duration": 293,
    "start_time": "2022-08-21T13:06:54.696Z"
   },
   {
    "duration": 245,
    "start_time": "2022-08-21T13:06:54.990Z"
   },
   {
    "duration": 296,
    "start_time": "2022-08-21T13:06:55.237Z"
   },
   {
    "duration": 287,
    "start_time": "2022-08-21T13:06:55.534Z"
   },
   {
    "duration": 314,
    "start_time": "2022-08-21T13:06:55.822Z"
   },
   {
    "duration": 167,
    "start_time": "2022-08-21T13:06:56.138Z"
   },
   {
    "duration": 5,
    "start_time": "2022-08-21T13:06:56.306Z"
   },
   {
    "duration": 158,
    "start_time": "2022-08-21T13:06:56.313Z"
   },
   {
    "duration": 12,
    "start_time": "2022-08-21T13:06:56.473Z"
   },
   {
    "duration": 18,
    "start_time": "2022-08-21T13:06:56.487Z"
   },
   {
    "duration": 3,
    "start_time": "2022-08-21T13:06:56.506Z"
   },
   {
    "duration": 11,
    "start_time": "2022-08-21T13:06:56.511Z"
   },
   {
    "duration": 38,
    "start_time": "2022-08-21T13:06:56.523Z"
   },
   {
    "duration": 34,
    "start_time": "2022-08-21T13:06:56.562Z"
   },
   {
    "duration": 177,
    "start_time": "2022-08-21T13:06:56.598Z"
   },
   {
    "duration": 12,
    "start_time": "2022-08-21T13:06:56.777Z"
   },
   {
    "duration": 7,
    "start_time": "2022-08-21T13:06:56.790Z"
   },
   {
    "duration": 8,
    "start_time": "2022-08-21T13:06:56.798Z"
   },
   {
    "duration": 9,
    "start_time": "2022-08-21T13:06:56.807Z"
   },
   {
    "duration": 221,
    "start_time": "2022-08-21T13:06:56.817Z"
   },
   {
    "duration": 7,
    "start_time": "2022-08-21T13:06:57.039Z"
   },
   {
    "duration": 10,
    "start_time": "2022-08-21T13:06:57.047Z"
   },
   {
    "duration": 7,
    "start_time": "2022-08-21T13:06:57.058Z"
   },
   {
    "duration": 26,
    "start_time": "2022-08-21T13:06:57.067Z"
   },
   {
    "duration": 219,
    "start_time": "2022-08-21T13:06:57.095Z"
   },
   {
    "duration": 9,
    "start_time": "2022-08-21T13:06:57.316Z"
   },
   {
    "duration": 14,
    "start_time": "2022-08-21T13:06:57.326Z"
   },
   {
    "duration": 7,
    "start_time": "2022-08-21T13:06:57.341Z"
   },
   {
    "duration": 188,
    "start_time": "2022-08-21T13:06:57.349Z"
   },
   {
    "duration": 9,
    "start_time": "2022-08-21T13:06:57.539Z"
   },
   {
    "duration": 13,
    "start_time": "2022-08-21T13:06:57.549Z"
   },
   {
    "duration": 58,
    "start_time": "2022-08-21T14:31:52.474Z"
   },
   {
    "duration": 90,
    "start_time": "2022-08-21T15:17:20.288Z"
   },
   {
    "duration": 8,
    "start_time": "2022-08-21T15:21:49.973Z"
   },
   {
    "duration": 24,
    "start_time": "2022-08-21T15:29:38.778Z"
   },
   {
    "duration": 26,
    "start_time": "2022-08-21T15:30:25.266Z"
   },
   {
    "duration": 1047,
    "start_time": "2022-08-21T15:30:43.031Z"
   },
   {
    "duration": 59,
    "start_time": "2022-08-21T15:30:44.080Z"
   },
   {
    "duration": 21,
    "start_time": "2022-08-21T15:30:44.140Z"
   },
   {
    "duration": 14,
    "start_time": "2022-08-21T15:30:44.163Z"
   },
   {
    "duration": 12,
    "start_time": "2022-08-21T15:30:44.178Z"
   },
   {
    "duration": 15,
    "start_time": "2022-08-21T15:30:44.191Z"
   },
   {
    "duration": 6,
    "start_time": "2022-08-21T15:30:44.207Z"
   },
   {
    "duration": 23,
    "start_time": "2022-08-21T15:30:44.214Z"
   },
   {
    "duration": 6,
    "start_time": "2022-08-21T15:30:44.239Z"
   },
   {
    "duration": 42,
    "start_time": "2022-08-21T15:30:44.247Z"
   },
   {
    "duration": 23,
    "start_time": "2022-08-21T15:30:44.291Z"
   },
   {
    "duration": 8,
    "start_time": "2022-08-21T15:30:44.316Z"
   },
   {
    "duration": 19,
    "start_time": "2022-08-21T15:30:44.326Z"
   },
   {
    "duration": 3,
    "start_time": "2022-08-21T15:30:44.346Z"
   },
   {
    "duration": 44,
    "start_time": "2022-08-21T15:30:44.350Z"
   },
   {
    "duration": 27,
    "start_time": "2022-08-21T15:30:44.396Z"
   },
   {
    "duration": 23,
    "start_time": "2022-08-21T15:30:44.426Z"
   },
   {
    "duration": 361,
    "start_time": "2022-08-21T15:30:44.451Z"
   },
   {
    "duration": 17,
    "start_time": "2022-08-21T15:30:44.814Z"
   },
   {
    "duration": 23,
    "start_time": "2022-08-21T15:30:44.832Z"
   },
   {
    "duration": 8,
    "start_time": "2022-08-21T15:30:44.856Z"
   },
   {
    "duration": 22,
    "start_time": "2022-08-21T15:30:44.866Z"
   },
   {
    "duration": 5,
    "start_time": "2022-08-21T15:30:44.889Z"
   },
   {
    "duration": 8,
    "start_time": "2022-08-21T15:30:44.895Z"
   },
   {
    "duration": 6,
    "start_time": "2022-08-21T15:30:44.905Z"
   },
   {
    "duration": 12,
    "start_time": "2022-08-21T15:30:44.912Z"
   },
   {
    "duration": 9,
    "start_time": "2022-08-21T15:30:44.925Z"
   },
   {
    "duration": 51,
    "start_time": "2022-08-21T15:30:44.939Z"
   },
   {
    "duration": 11,
    "start_time": "2022-08-21T15:30:44.991Z"
   },
   {
    "duration": 6,
    "start_time": "2022-08-21T15:30:45.004Z"
   },
   {
    "duration": 39,
    "start_time": "2022-08-21T15:30:45.011Z"
   },
   {
    "duration": 6,
    "start_time": "2022-08-21T15:30:45.051Z"
   },
   {
    "duration": 210,
    "start_time": "2022-08-21T15:30:45.058Z"
   },
   {
    "duration": 16,
    "start_time": "2022-08-21T15:30:45.270Z"
   },
   {
    "duration": 309,
    "start_time": "2022-08-21T15:30:45.287Z"
   },
   {
    "duration": 271,
    "start_time": "2022-08-21T15:30:45.598Z"
   },
   {
    "duration": 307,
    "start_time": "2022-08-21T15:30:45.871Z"
   },
   {
    "duration": 274,
    "start_time": "2022-08-21T15:30:46.180Z"
   },
   {
    "duration": 320,
    "start_time": "2022-08-21T15:30:46.455Z"
   },
   {
    "duration": 177,
    "start_time": "2022-08-21T15:30:46.777Z"
   },
   {
    "duration": 6,
    "start_time": "2022-08-21T15:30:46.956Z"
   },
   {
    "duration": 161,
    "start_time": "2022-08-21T15:30:46.963Z"
   },
   {
    "duration": 6,
    "start_time": "2022-08-21T15:30:47.125Z"
   },
   {
    "duration": 17,
    "start_time": "2022-08-21T15:30:47.133Z"
   },
   {
    "duration": 4,
    "start_time": "2022-08-21T15:30:47.152Z"
   },
   {
    "duration": 4,
    "start_time": "2022-08-21T15:30:47.157Z"
   },
   {
    "duration": 63,
    "start_time": "2022-08-21T15:30:47.163Z"
   },
   {
    "duration": 15,
    "start_time": "2022-08-21T15:30:47.228Z"
   },
   {
    "duration": 186,
    "start_time": "2022-08-21T15:30:47.245Z"
   },
   {
    "duration": 7,
    "start_time": "2022-08-21T15:30:47.432Z"
   },
   {
    "duration": 7,
    "start_time": "2022-08-21T15:30:47.441Z"
   },
   {
    "duration": 7,
    "start_time": "2022-08-21T15:30:47.449Z"
   },
   {
    "duration": 33,
    "start_time": "2022-08-21T15:30:47.457Z"
   },
   {
    "duration": 210,
    "start_time": "2022-08-21T15:30:47.492Z"
   },
   {
    "duration": 7,
    "start_time": "2022-08-21T15:30:47.704Z"
   },
   {
    "duration": 6,
    "start_time": "2022-08-21T15:30:47.713Z"
   },
   {
    "duration": 6,
    "start_time": "2022-08-21T15:30:47.721Z"
   },
   {
    "duration": 13,
    "start_time": "2022-08-21T15:30:47.729Z"
   },
   {
    "duration": 244,
    "start_time": "2022-08-21T15:30:47.744Z"
   },
   {
    "duration": 7,
    "start_time": "2022-08-21T15:30:47.990Z"
   },
   {
    "duration": 7,
    "start_time": "2022-08-21T15:30:47.998Z"
   },
   {
    "duration": 8,
    "start_time": "2022-08-21T15:30:48.006Z"
   },
   {
    "duration": 203,
    "start_time": "2022-08-21T15:30:48.015Z"
   },
   {
    "duration": 9,
    "start_time": "2022-08-21T15:30:48.220Z"
   },
   {
    "duration": 10,
    "start_time": "2022-08-21T15:30:48.231Z"
   },
   {
    "duration": 23,
    "start_time": "2022-08-21T15:32:23.906Z"
   },
   {
    "duration": 1017,
    "start_time": "2022-08-21T15:47:07.031Z"
   },
   {
    "duration": 8,
    "start_time": "2022-08-21T15:47:21.331Z"
   },
   {
    "duration": 3,
    "start_time": "2022-08-21T15:47:39.455Z"
   },
   {
    "duration": 20,
    "start_time": "2022-08-21T15:48:08.452Z"
   },
   {
    "duration": 11,
    "start_time": "2022-08-21T15:48:36.020Z"
   },
   {
    "duration": 1100,
    "start_time": "2022-08-21T17:50:48.288Z"
   },
   {
    "duration": 55,
    "start_time": "2022-08-21T17:50:49.390Z"
   },
   {
    "duration": 19,
    "start_time": "2022-08-21T17:50:49.447Z"
   },
   {
    "duration": 15,
    "start_time": "2022-08-21T17:50:49.468Z"
   },
   {
    "duration": 19,
    "start_time": "2022-08-21T17:50:49.484Z"
   },
   {
    "duration": 16,
    "start_time": "2022-08-21T17:50:49.505Z"
   },
   {
    "duration": 6,
    "start_time": "2022-08-21T17:50:49.522Z"
   },
   {
    "duration": 22,
    "start_time": "2022-08-21T17:50:49.529Z"
   },
   {
    "duration": 5,
    "start_time": "2022-08-21T17:50:49.552Z"
   },
   {
    "duration": 29,
    "start_time": "2022-08-21T17:50:49.559Z"
   },
   {
    "duration": 21,
    "start_time": "2022-08-21T17:50:49.589Z"
   },
   {
    "duration": 21,
    "start_time": "2022-08-21T17:50:49.611Z"
   },
   {
    "duration": 34,
    "start_time": "2022-08-21T17:50:49.634Z"
   },
   {
    "duration": 3,
    "start_time": "2022-08-21T17:50:49.669Z"
   },
   {
    "duration": 37,
    "start_time": "2022-08-21T17:50:49.673Z"
   },
   {
    "duration": 11,
    "start_time": "2022-08-21T17:50:49.711Z"
   },
   {
    "duration": 26,
    "start_time": "2022-08-21T17:50:49.723Z"
   },
   {
    "duration": 326,
    "start_time": "2022-08-21T17:50:49.750Z"
   },
   {
    "duration": 21,
    "start_time": "2022-08-21T17:50:50.079Z"
   },
   {
    "duration": 29,
    "start_time": "2022-08-21T17:50:50.101Z"
   },
   {
    "duration": 11,
    "start_time": "2022-08-21T17:50:50.131Z"
   },
   {
    "duration": 15,
    "start_time": "2022-08-21T17:50:50.143Z"
   },
   {
    "duration": 5,
    "start_time": "2022-08-21T17:50:50.160Z"
   },
   {
    "duration": 23,
    "start_time": "2022-08-21T17:50:50.167Z"
   },
   {
    "duration": 4,
    "start_time": "2022-08-21T17:50:50.192Z"
   },
   {
    "duration": 6,
    "start_time": "2022-08-21T17:50:50.198Z"
   },
   {
    "duration": 8,
    "start_time": "2022-08-21T17:50:50.206Z"
   },
   {
    "duration": 20,
    "start_time": "2022-08-21T17:50:50.218Z"
   },
   {
    "duration": 13,
    "start_time": "2022-08-21T17:50:50.239Z"
   },
   {
    "duration": 36,
    "start_time": "2022-08-21T17:50:50.253Z"
   },
   {
    "duration": 33,
    "start_time": "2022-08-21T17:50:50.291Z"
   },
   {
    "duration": 7,
    "start_time": "2022-08-21T17:50:50.326Z"
   },
   {
    "duration": 222,
    "start_time": "2022-08-21T17:50:50.334Z"
   },
   {
    "duration": 11,
    "start_time": "2022-08-21T17:50:50.557Z"
   },
   {
    "duration": 326,
    "start_time": "2022-08-21T17:50:50.569Z"
   },
   {
    "duration": 267,
    "start_time": "2022-08-21T17:50:50.897Z"
   },
   {
    "duration": 318,
    "start_time": "2022-08-21T17:50:51.166Z"
   },
   {
    "duration": 287,
    "start_time": "2022-08-21T17:50:51.486Z"
   },
   {
    "duration": 301,
    "start_time": "2022-08-21T17:50:51.774Z"
   },
   {
    "duration": 188,
    "start_time": "2022-08-21T17:50:52.077Z"
   },
   {
    "duration": 5,
    "start_time": "2022-08-21T17:50:52.267Z"
   },
   {
    "duration": 159,
    "start_time": "2022-08-21T17:50:52.274Z"
   },
   {
    "duration": 6,
    "start_time": "2022-08-21T17:50:52.435Z"
   },
   {
    "duration": 18,
    "start_time": "2022-08-21T17:50:52.442Z"
   },
   {
    "duration": 3,
    "start_time": "2022-08-21T17:50:52.462Z"
   },
   {
    "duration": 3,
    "start_time": "2022-08-21T17:50:52.485Z"
   },
   {
    "duration": 37,
    "start_time": "2022-08-21T17:50:52.490Z"
   },
   {
    "duration": 14,
    "start_time": "2022-08-21T17:50:52.529Z"
   },
   {
    "duration": 197,
    "start_time": "2022-08-21T17:50:52.544Z"
   },
   {
    "duration": 6,
    "start_time": "2022-08-21T17:50:52.743Z"
   },
   {
    "duration": 7,
    "start_time": "2022-08-21T17:50:52.750Z"
   },
   {
    "duration": 9,
    "start_time": "2022-08-21T17:50:52.759Z"
   },
   {
    "duration": 10,
    "start_time": "2022-08-21T17:50:52.785Z"
   },
   {
    "duration": 250,
    "start_time": "2022-08-21T17:50:52.797Z"
   },
   {
    "duration": 7,
    "start_time": "2022-08-21T17:50:53.049Z"
   },
   {
    "duration": 8,
    "start_time": "2022-08-21T17:50:53.057Z"
   },
   {
    "duration": 22,
    "start_time": "2022-08-21T17:50:53.066Z"
   },
   {
    "duration": 10,
    "start_time": "2022-08-21T17:50:53.089Z"
   },
   {
    "duration": 231,
    "start_time": "2022-08-21T17:50:53.100Z"
   },
   {
    "duration": 8,
    "start_time": "2022-08-21T17:50:53.332Z"
   },
   {
    "duration": 10,
    "start_time": "2022-08-21T17:50:53.341Z"
   },
   {
    "duration": 8,
    "start_time": "2022-08-21T17:50:53.352Z"
   },
   {
    "duration": 221,
    "start_time": "2022-08-21T17:50:53.361Z"
   },
   {
    "duration": 9,
    "start_time": "2022-08-21T17:50:53.584Z"
   },
   {
    "duration": 10,
    "start_time": "2022-08-21T17:50:53.595Z"
   },
   {
    "duration": 1142,
    "start_time": "2022-11-13T21:33:00.041Z"
   },
   {
    "duration": 206,
    "start_time": "2022-11-13T21:33:01.185Z"
   },
   {
    "duration": 19,
    "start_time": "2022-11-13T21:33:01.393Z"
   },
   {
    "duration": 36,
    "start_time": "2022-11-13T21:33:01.415Z"
   },
   {
    "duration": 24,
    "start_time": "2022-11-13T21:33:01.453Z"
   },
   {
    "duration": 42,
    "start_time": "2022-11-13T21:33:01.479Z"
   },
   {
    "duration": 22,
    "start_time": "2022-11-13T21:33:01.523Z"
   },
   {
    "duration": 45,
    "start_time": "2022-11-13T21:33:01.547Z"
   },
   {
    "duration": 7,
    "start_time": "2022-11-13T21:33:01.594Z"
   },
   {
    "duration": 42,
    "start_time": "2022-11-13T21:33:01.604Z"
   },
   {
    "duration": 31,
    "start_time": "2022-11-13T21:33:01.648Z"
   },
   {
    "duration": 9,
    "start_time": "2022-11-13T21:33:01.680Z"
   },
   {
    "duration": 26,
    "start_time": "2022-11-13T21:33:01.690Z"
   },
   {
    "duration": 3,
    "start_time": "2022-11-13T21:33:01.718Z"
   },
   {
    "duration": 52,
    "start_time": "2022-11-13T21:33:01.722Z"
   },
   {
    "duration": 15,
    "start_time": "2022-11-13T21:33:01.775Z"
   },
   {
    "duration": 27,
    "start_time": "2022-11-13T21:33:01.792Z"
   },
   {
    "duration": 344,
    "start_time": "2022-11-13T21:33:01.821Z"
   },
   {
    "duration": 18,
    "start_time": "2022-11-13T21:33:02.166Z"
   },
   {
    "duration": 26,
    "start_time": "2022-11-13T21:33:02.185Z"
   },
   {
    "duration": 40,
    "start_time": "2022-11-13T21:33:02.213Z"
   },
   {
    "duration": 26,
    "start_time": "2022-11-13T21:33:02.255Z"
   },
   {
    "duration": 5,
    "start_time": "2022-11-13T21:33:02.283Z"
   },
   {
    "duration": 18,
    "start_time": "2022-11-13T21:33:02.289Z"
   },
   {
    "duration": 8,
    "start_time": "2022-11-13T21:33:02.308Z"
   },
   {
    "duration": 22,
    "start_time": "2022-11-13T21:33:02.318Z"
   },
   {
    "duration": 19,
    "start_time": "2022-11-13T21:33:02.342Z"
   },
   {
    "duration": 21,
    "start_time": "2022-11-13T21:33:02.366Z"
   },
   {
    "duration": 12,
    "start_time": "2022-11-13T21:33:02.389Z"
   },
   {
    "duration": 4,
    "start_time": "2022-11-13T21:33:02.403Z"
   },
   {
    "duration": 31,
    "start_time": "2022-11-13T21:33:02.409Z"
   },
   {
    "duration": 13,
    "start_time": "2022-11-13T21:33:02.442Z"
   },
   {
    "duration": 243,
    "start_time": "2022-11-13T21:33:02.457Z"
   },
   {
    "duration": 12,
    "start_time": "2022-11-13T21:33:02.701Z"
   },
   {
    "duration": 344,
    "start_time": "2022-11-13T21:33:02.714Z"
   },
   {
    "duration": 247,
    "start_time": "2022-11-13T21:33:03.059Z"
   },
   {
    "duration": 375,
    "start_time": "2022-11-13T21:33:03.309Z"
   },
   {
    "duration": 330,
    "start_time": "2022-11-13T21:33:03.685Z"
   },
   {
    "duration": 371,
    "start_time": "2022-11-13T21:33:04.016Z"
   },
   {
    "duration": 189,
    "start_time": "2022-11-13T21:33:04.389Z"
   },
   {
    "duration": 6,
    "start_time": "2022-11-13T21:33:04.580Z"
   },
   {
    "duration": 179,
    "start_time": "2022-11-13T21:33:04.589Z"
   },
   {
    "duration": 7,
    "start_time": "2022-11-13T21:33:04.770Z"
   },
   {
    "duration": 45,
    "start_time": "2022-11-13T21:33:04.778Z"
   },
   {
    "duration": 6,
    "start_time": "2022-11-13T21:33:04.825Z"
   },
   {
    "duration": 18,
    "start_time": "2022-11-13T21:33:04.833Z"
   },
   {
    "duration": 53,
    "start_time": "2022-11-13T21:33:04.852Z"
   },
   {
    "duration": 20,
    "start_time": "2022-11-13T21:33:04.907Z"
   },
   {
    "duration": 281,
    "start_time": "2022-11-13T21:33:04.931Z"
   },
   {
    "duration": 17,
    "start_time": "2022-11-13T21:33:05.214Z"
   },
   {
    "duration": 39,
    "start_time": "2022-11-13T21:33:05.232Z"
   },
   {
    "duration": 11,
    "start_time": "2022-11-13T21:33:05.273Z"
   },
   {
    "duration": 59,
    "start_time": "2022-11-13T21:33:05.287Z"
   },
   {
    "duration": 265,
    "start_time": "2022-11-13T21:33:05.348Z"
   },
   {
    "duration": 16,
    "start_time": "2022-11-13T21:33:05.615Z"
   },
   {
    "duration": 30,
    "start_time": "2022-11-13T21:33:05.633Z"
   },
   {
    "duration": 23,
    "start_time": "2022-11-13T21:33:05.665Z"
   },
   {
    "duration": 23,
    "start_time": "2022-11-13T21:33:05.690Z"
   },
   {
    "duration": 262,
    "start_time": "2022-11-13T21:33:05.715Z"
   },
   {
    "duration": 8,
    "start_time": "2022-11-13T21:33:05.978Z"
   },
   {
    "duration": 8,
    "start_time": "2022-11-13T21:33:05.988Z"
   },
   {
    "duration": 9,
    "start_time": "2022-11-13T21:33:05.998Z"
   },
   {
    "duration": 210,
    "start_time": "2022-11-13T21:33:06.009Z"
   },
   {
    "duration": 14,
    "start_time": "2022-11-13T21:33:06.220Z"
   },
   {
    "duration": 10,
    "start_time": "2022-11-13T21:33:06.235Z"
   },
   {
    "duration": 1029,
    "start_time": "2023-11-05T15:39:02.678Z"
   },
   {
    "duration": 90,
    "start_time": "2023-11-05T15:39:03.709Z"
   },
   {
    "duration": 17,
    "start_time": "2023-11-05T15:39:03.800Z"
   },
   {
    "duration": 13,
    "start_time": "2023-11-05T15:39:03.818Z"
   },
   {
    "duration": 7,
    "start_time": "2023-11-05T15:39:03.833Z"
   },
   {
    "duration": 14,
    "start_time": "2023-11-05T15:39:03.841Z"
   },
   {
    "duration": 6,
    "start_time": "2023-11-05T15:39:03.856Z"
   },
   {
    "duration": 24,
    "start_time": "2023-11-05T15:39:03.862Z"
   },
   {
    "duration": 6,
    "start_time": "2023-11-05T15:39:03.888Z"
   },
   {
    "duration": 29,
    "start_time": "2023-11-05T15:39:03.895Z"
   },
   {
    "duration": 31,
    "start_time": "2023-11-05T15:39:03.925Z"
   },
   {
    "duration": 9,
    "start_time": "2023-11-05T15:39:03.958Z"
   },
   {
    "duration": 19,
    "start_time": "2023-11-05T15:39:03.968Z"
   },
   {
    "duration": 3,
    "start_time": "2023-11-05T15:39:03.990Z"
   },
   {
    "duration": 46,
    "start_time": "2023-11-05T15:39:03.994Z"
   },
   {
    "duration": 5,
    "start_time": "2023-11-05T15:39:04.042Z"
   },
   {
    "duration": 18,
    "start_time": "2023-11-05T15:39:04.048Z"
   },
   {
    "duration": 303,
    "start_time": "2023-11-05T15:39:04.067Z"
   },
   {
    "duration": 17,
    "start_time": "2023-11-05T15:39:04.371Z"
   },
   {
    "duration": 24,
    "start_time": "2023-11-05T15:39:04.389Z"
   },
   {
    "duration": 7,
    "start_time": "2023-11-05T15:39:04.415Z"
   },
   {
    "duration": 21,
    "start_time": "2023-11-05T15:39:04.423Z"
   },
   {
    "duration": 5,
    "start_time": "2023-11-05T15:39:04.445Z"
   },
   {
    "duration": 8,
    "start_time": "2023-11-05T15:39:04.451Z"
   },
   {
    "duration": 3,
    "start_time": "2023-11-05T15:39:04.461Z"
   },
   {
    "duration": 4,
    "start_time": "2023-11-05T15:39:04.466Z"
   },
   {
    "duration": 8,
    "start_time": "2023-11-05T15:39:04.471Z"
   },
   {
    "duration": 17,
    "start_time": "2023-11-05T15:39:04.480Z"
   },
   {
    "duration": 41,
    "start_time": "2023-11-05T15:39:04.498Z"
   },
   {
    "duration": 3,
    "start_time": "2023-11-05T15:39:04.541Z"
   },
   {
    "duration": 20,
    "start_time": "2023-11-05T15:39:04.546Z"
   },
   {
    "duration": 5,
    "start_time": "2023-11-05T15:39:04.567Z"
   },
   {
    "duration": 222,
    "start_time": "2023-11-05T15:39:04.573Z"
   },
   {
    "duration": 10,
    "start_time": "2023-11-05T15:39:04.796Z"
   },
   {
    "duration": 297,
    "start_time": "2023-11-05T15:39:04.807Z"
   },
   {
    "duration": 223,
    "start_time": "2023-11-05T15:39:05.105Z"
   },
   {
    "duration": 289,
    "start_time": "2023-11-05T15:39:05.329Z"
   },
   {
    "duration": 254,
    "start_time": "2023-11-05T15:39:05.619Z"
   },
   {
    "duration": 289,
    "start_time": "2023-11-05T15:39:05.874Z"
   },
   {
    "duration": 199,
    "start_time": "2023-11-05T15:39:06.164Z"
   },
   {
    "duration": 7,
    "start_time": "2023-11-05T15:39:06.368Z"
   },
   {
    "duration": 175,
    "start_time": "2023-11-05T15:39:06.376Z"
   },
   {
    "duration": 6,
    "start_time": "2023-11-05T15:39:06.552Z"
   },
   {
    "duration": 18,
    "start_time": "2023-11-05T15:39:06.559Z"
   },
   {
    "duration": 4,
    "start_time": "2023-11-05T15:39:06.578Z"
   },
   {
    "duration": 4,
    "start_time": "2023-11-05T15:39:06.584Z"
   },
   {
    "duration": 63,
    "start_time": "2023-11-05T15:39:06.590Z"
   },
   {
    "duration": 15,
    "start_time": "2023-11-05T15:39:06.655Z"
   },
   {
    "duration": 183,
    "start_time": "2023-11-05T15:39:06.671Z"
   },
   {
    "duration": 7,
    "start_time": "2023-11-05T15:39:06.855Z"
   },
   {
    "duration": 44,
    "start_time": "2023-11-05T15:39:06.864Z"
   },
   {
    "duration": 6,
    "start_time": "2023-11-05T15:39:06.910Z"
   },
   {
    "duration": 10,
    "start_time": "2023-11-05T15:39:06.918Z"
   },
   {
    "duration": 199,
    "start_time": "2023-11-05T15:39:06.929Z"
   },
   {
    "duration": 11,
    "start_time": "2023-11-05T15:39:07.129Z"
   },
   {
    "duration": 6,
    "start_time": "2023-11-05T15:39:07.141Z"
   },
   {
    "duration": 6,
    "start_time": "2023-11-05T15:39:07.148Z"
   },
   {
    "duration": 8,
    "start_time": "2023-11-05T15:39:07.155Z"
   },
   {
    "duration": 233,
    "start_time": "2023-11-05T15:39:07.165Z"
   },
   {
    "duration": 8,
    "start_time": "2023-11-05T15:39:07.400Z"
   },
   {
    "duration": 8,
    "start_time": "2023-11-05T15:39:07.409Z"
   },
   {
    "duration": 25,
    "start_time": "2023-11-05T15:39:07.419Z"
   },
   {
    "duration": 199,
    "start_time": "2023-11-05T15:39:07.446Z"
   },
   {
    "duration": 9,
    "start_time": "2023-11-05T15:39:07.647Z"
   },
   {
    "duration": 10,
    "start_time": "2023-11-05T15:39:07.657Z"
   }
  ],
  "kernelspec": {
   "display_name": "Python 3 (ipykernel)",
   "language": "python",
   "name": "python3"
  },
  "language_info": {
   "codemirror_mode": {
    "name": "ipython",
    "version": 3
   },
   "file_extension": ".py",
   "mimetype": "text/x-python",
   "name": "python",
   "nbconvert_exporter": "python",
   "pygments_lexer": "ipython3",
   "version": "3.9.5"
  },
  "toc": {
   "base_numbering": 1,
   "nav_menu": {},
   "number_sections": true,
   "sideBar": true,
   "skip_h1_title": true,
   "title_cell": "Table of Contents",
   "title_sidebar": "Contents",
   "toc_cell": false,
   "toc_position": {},
   "toc_section_display": true,
   "toc_window_display": false
  }
 },
 "nbformat": 4,
 "nbformat_minor": 2
}
