{
 "cells": [
  {
   "cell_type": "markdown",
   "metadata": {},
   "source": [
    "**SQL**"
   ]
  },
  {
   "cell_type": "markdown",
   "metadata": {},
   "source": [
    "**Цель и задачи исследования.**\n",
    "\n",
    "Коронавирус застал мир врасплох, изменив привычный порядок вещей. В свободное время жители городов больше не выходят на улицу, не посещают кафе и торговые центры. Зато стало больше времени для книг. Это заметили стартаперы — и бросились создавать приложения для тех, кто любит читать.\n",
    "\n",
    "Ваша компания решила быть на волне и купила крупный сервис для чтения книг по подписке. Ваша первая задача как аналитика — проанализировать базу данных.\n",
    "\n",
    "В ней — информация о книгах, издательствах, авторах, а также пользовательские обзоры книг. Эти данные помогут сформулировать ценностное предложение для нового продукта.\n",
    "\n",
    "**Задачи**\n",
    "- Посчитайте, сколько книг вышло после 1 января 2000 года;\n",
    "- Для каждой книги посчитайте количество обзоров и среднюю оценку;\n",
    "- Определите издательство, которое выпустило наибольшее число книг толще 50 страниц — так вы исключите из анализа брошюры;\n",
    "- Определите автора с самой высокой средней оценкой книг — учитывайте только книги с 50 и более оценками;\n",
    "- Посчитайте среднее количество обзоров от пользователей, которые поставили больше 50 оценок."
   ]
  },
  {
   "cell_type": "markdown",
   "metadata": {},
   "source": [
    "## Загрузим и исследуем таблицы"
   ]
  },
  {
   "cell_type": "code",
   "execution_count": 1,
   "metadata": {},
   "outputs": [],
   "source": [
    "# импортируем библиотеки\n",
    "import pandas as pd\n",
    "from sqlalchemy import create_engine\n",
    "# устанавливаем параметры\n",
    "db_config = {'user': 'praktikum_student', # имя пользователя\n",
    "'pwd': 'Sdf4$2;d-d30pp', # пароль\n",
    "'host': 'rc1b-wcoijxj3yxfsf3fs.mdb.yandexcloud.net',\n",
    "'port': 6432, # порт подключения\n",
    "'db': 'data-analyst-final-project-db'} # название базы данных\n",
    "connection_string = 'postgresql://{}:{}@{}:{}/{}'.format(db_config['user'],\n",
    " db_config['pwd'],\n",
    " db_config['host'],\n",
    " db_config['port'],\n",
    " db_config['db'])\n",
    "# сохраняем коннектор\n",
    "engine = create_engine(connection_string, connect_args={'sslmode':'require'}) "
   ]
  },
  {
   "cell_type": "markdown",
   "metadata": {},
   "source": [
    "### Исследуем таблицу books с данными о книгах"
   ]
  },
  {
   "cell_type": "code",
   "execution_count": 2,
   "metadata": {},
   "outputs": [
    {
     "data": {
      "text/html": [
       "<div>\n",
       "<style scoped>\n",
       "    .dataframe tbody tr th:only-of-type {\n",
       "        vertical-align: middle;\n",
       "    }\n",
       "\n",
       "    .dataframe tbody tr th {\n",
       "        vertical-align: top;\n",
       "    }\n",
       "\n",
       "    .dataframe thead th {\n",
       "        text-align: right;\n",
       "    }\n",
       "</style>\n",
       "<table border=\"1\" class=\"dataframe\">\n",
       "  <thead>\n",
       "    <tr style=\"text-align: right;\">\n",
       "      <th></th>\n",
       "      <th>book_id</th>\n",
       "      <th>author_id</th>\n",
       "      <th>title</th>\n",
       "      <th>num_pages</th>\n",
       "      <th>publication_date</th>\n",
       "      <th>publisher_id</th>\n",
       "    </tr>\n",
       "  </thead>\n",
       "  <tbody>\n",
       "    <tr>\n",
       "      <th>0</th>\n",
       "      <td>1</td>\n",
       "      <td>546</td>\n",
       "      <td>'Salem's Lot</td>\n",
       "      <td>594</td>\n",
       "      <td>2005-11-01</td>\n",
       "      <td>93</td>\n",
       "    </tr>\n",
       "    <tr>\n",
       "      <th>1</th>\n",
       "      <td>2</td>\n",
       "      <td>465</td>\n",
       "      <td>1 000 Places to See Before You Die</td>\n",
       "      <td>992</td>\n",
       "      <td>2003-05-22</td>\n",
       "      <td>336</td>\n",
       "    </tr>\n",
       "    <tr>\n",
       "      <th>2</th>\n",
       "      <td>3</td>\n",
       "      <td>407</td>\n",
       "      <td>13 Little Blue Envelopes (Little Blue Envelope...</td>\n",
       "      <td>322</td>\n",
       "      <td>2010-12-21</td>\n",
       "      <td>135</td>\n",
       "    </tr>\n",
       "    <tr>\n",
       "      <th>3</th>\n",
       "      <td>4</td>\n",
       "      <td>82</td>\n",
       "      <td>1491: New Revelations of the Americas Before C...</td>\n",
       "      <td>541</td>\n",
       "      <td>2006-10-10</td>\n",
       "      <td>309</td>\n",
       "    </tr>\n",
       "    <tr>\n",
       "      <th>4</th>\n",
       "      <td>5</td>\n",
       "      <td>125</td>\n",
       "      <td>1776</td>\n",
       "      <td>386</td>\n",
       "      <td>2006-07-04</td>\n",
       "      <td>268</td>\n",
       "    </tr>\n",
       "  </tbody>\n",
       "</table>\n",
       "</div>"
      ],
      "text/plain": [
       "   book_id  author_id                                              title  \\\n",
       "0        1        546                                       'Salem's Lot   \n",
       "1        2        465                 1 000 Places to See Before You Die   \n",
       "2        3        407  13 Little Blue Envelopes (Little Blue Envelope...   \n",
       "3        4         82  1491: New Revelations of the Americas Before C...   \n",
       "4        5        125                                               1776   \n",
       "\n",
       "   num_pages publication_date  publisher_id  \n",
       "0        594       2005-11-01            93  \n",
       "1        992       2003-05-22           336  \n",
       "2        322       2010-12-21           135  \n",
       "3        541       2006-10-10           309  \n",
       "4        386       2006-07-04           268  "
      ]
     },
     "execution_count": 2,
     "metadata": {},
     "output_type": "execute_result"
    }
   ],
   "source": [
    "query = '''\n",
    "            SELECT * FROM books\n",
    "        '''\n",
    "books = pd.io.sql.read_sql(query, con = engine)\n",
    "\n",
    "books.head()\n"
   ]
  },
  {
   "cell_type": "code",
   "execution_count": 3,
   "metadata": {},
   "outputs": [
    {
     "name": "stdout",
     "output_type": "stream",
     "text": [
      "<class 'pandas.core.frame.DataFrame'>\n",
      "RangeIndex: 1000 entries, 0 to 999\n",
      "Data columns (total 6 columns):\n",
      " #   Column            Non-Null Count  Dtype \n",
      "---  ------            --------------  ----- \n",
      " 0   book_id           1000 non-null   int64 \n",
      " 1   author_id         1000 non-null   int64 \n",
      " 2   title             1000 non-null   object\n",
      " 3   num_pages         1000 non-null   int64 \n",
      " 4   publication_date  1000 non-null   object\n",
      " 5   publisher_id      1000 non-null   int64 \n",
      "dtypes: int64(4), object(2)\n",
      "memory usage: 47.0+ KB\n"
     ]
    }
   ],
   "source": [
    "books.info()"
   ]
  },
  {
   "cell_type": "markdown",
   "metadata": {},
   "source": [
    "### Исследуем таблицу authors с данными об авторах"
   ]
  },
  {
   "cell_type": "code",
   "execution_count": 4,
   "metadata": {},
   "outputs": [
    {
     "data": {
      "text/html": [
       "<div>\n",
       "<style scoped>\n",
       "    .dataframe tbody tr th:only-of-type {\n",
       "        vertical-align: middle;\n",
       "    }\n",
       "\n",
       "    .dataframe tbody tr th {\n",
       "        vertical-align: top;\n",
       "    }\n",
       "\n",
       "    .dataframe thead th {\n",
       "        text-align: right;\n",
       "    }\n",
       "</style>\n",
       "<table border=\"1\" class=\"dataframe\">\n",
       "  <thead>\n",
       "    <tr style=\"text-align: right;\">\n",
       "      <th></th>\n",
       "      <th>author_id</th>\n",
       "      <th>author</th>\n",
       "    </tr>\n",
       "  </thead>\n",
       "  <tbody>\n",
       "    <tr>\n",
       "      <th>0</th>\n",
       "      <td>1</td>\n",
       "      <td>A.S. Byatt</td>\n",
       "    </tr>\n",
       "    <tr>\n",
       "      <th>1</th>\n",
       "      <td>2</td>\n",
       "      <td>Aesop/Laura Harris/Laura Gibbs</td>\n",
       "    </tr>\n",
       "    <tr>\n",
       "      <th>2</th>\n",
       "      <td>3</td>\n",
       "      <td>Agatha Christie</td>\n",
       "    </tr>\n",
       "    <tr>\n",
       "      <th>3</th>\n",
       "      <td>4</td>\n",
       "      <td>Alan Brennert</td>\n",
       "    </tr>\n",
       "    <tr>\n",
       "      <th>4</th>\n",
       "      <td>5</td>\n",
       "      <td>Alan Moore/David   Lloyd</td>\n",
       "    </tr>\n",
       "  </tbody>\n",
       "</table>\n",
       "</div>"
      ],
      "text/plain": [
       "   author_id                          author\n",
       "0          1                      A.S. Byatt\n",
       "1          2  Aesop/Laura Harris/Laura Gibbs\n",
       "2          3                 Agatha Christie\n",
       "3          4                   Alan Brennert\n",
       "4          5        Alan Moore/David   Lloyd"
      ]
     },
     "execution_count": 4,
     "metadata": {},
     "output_type": "execute_result"
    }
   ],
   "source": [
    "query = '''\n",
    "            SELECT * FROM authors\n",
    "        '''\n",
    "authors = pd.io.sql.read_sql(query, con = engine)\n",
    "\n",
    "authors.head()"
   ]
  },
  {
   "cell_type": "code",
   "execution_count": 5,
   "metadata": {},
   "outputs": [
    {
     "name": "stdout",
     "output_type": "stream",
     "text": [
      "<class 'pandas.core.frame.DataFrame'>\n",
      "RangeIndex: 636 entries, 0 to 635\n",
      "Data columns (total 2 columns):\n",
      " #   Column     Non-Null Count  Dtype \n",
      "---  ------     --------------  ----- \n",
      " 0   author_id  636 non-null    int64 \n",
      " 1   author     636 non-null    object\n",
      "dtypes: int64(1), object(1)\n",
      "memory usage: 10.1+ KB\n"
     ]
    }
   ],
   "source": [
    "authors.info()"
   ]
  },
  {
   "cell_type": "markdown",
   "metadata": {},
   "source": [
    "### Исследуем таблицу publishers с  данных об издательствах"
   ]
  },
  {
   "cell_type": "code",
   "execution_count": 6,
   "metadata": {},
   "outputs": [
    {
     "data": {
      "text/html": [
       "<div>\n",
       "<style scoped>\n",
       "    .dataframe tbody tr th:only-of-type {\n",
       "        vertical-align: middle;\n",
       "    }\n",
       "\n",
       "    .dataframe tbody tr th {\n",
       "        vertical-align: top;\n",
       "    }\n",
       "\n",
       "    .dataframe thead th {\n",
       "        text-align: right;\n",
       "    }\n",
       "</style>\n",
       "<table border=\"1\" class=\"dataframe\">\n",
       "  <thead>\n",
       "    <tr style=\"text-align: right;\">\n",
       "      <th></th>\n",
       "      <th>publisher_id</th>\n",
       "      <th>publisher</th>\n",
       "    </tr>\n",
       "  </thead>\n",
       "  <tbody>\n",
       "    <tr>\n",
       "      <th>0</th>\n",
       "      <td>1</td>\n",
       "      <td>Ace</td>\n",
       "    </tr>\n",
       "    <tr>\n",
       "      <th>1</th>\n",
       "      <td>2</td>\n",
       "      <td>Ace Book</td>\n",
       "    </tr>\n",
       "    <tr>\n",
       "      <th>2</th>\n",
       "      <td>3</td>\n",
       "      <td>Ace Books</td>\n",
       "    </tr>\n",
       "    <tr>\n",
       "      <th>3</th>\n",
       "      <td>4</td>\n",
       "      <td>Ace Hardcover</td>\n",
       "    </tr>\n",
       "    <tr>\n",
       "      <th>4</th>\n",
       "      <td>5</td>\n",
       "      <td>Addison Wesley Publishing Company</td>\n",
       "    </tr>\n",
       "  </tbody>\n",
       "</table>\n",
       "</div>"
      ],
      "text/plain": [
       "   publisher_id                          publisher\n",
       "0             1                                Ace\n",
       "1             2                           Ace Book\n",
       "2             3                          Ace Books\n",
       "3             4                      Ace Hardcover\n",
       "4             5  Addison Wesley Publishing Company"
      ]
     },
     "execution_count": 6,
     "metadata": {},
     "output_type": "execute_result"
    }
   ],
   "source": [
    "query = '''\n",
    "            SELECT * FROM publishers\n",
    "        '''\n",
    "publishers = pd.io.sql.read_sql(query, con = engine)\n",
    "\n",
    "publishers.head()"
   ]
  },
  {
   "cell_type": "code",
   "execution_count": 7,
   "metadata": {},
   "outputs": [
    {
     "name": "stdout",
     "output_type": "stream",
     "text": [
      "<class 'pandas.core.frame.DataFrame'>\n",
      "RangeIndex: 340 entries, 0 to 339\n",
      "Data columns (total 2 columns):\n",
      " #   Column        Non-Null Count  Dtype \n",
      "---  ------        --------------  ----- \n",
      " 0   publisher_id  340 non-null    int64 \n",
      " 1   publisher     340 non-null    object\n",
      "dtypes: int64(1), object(1)\n",
      "memory usage: 5.4+ KB\n"
     ]
    }
   ],
   "source": [
    "publishers.info()"
   ]
  },
  {
   "cell_type": "markdown",
   "metadata": {},
   "source": [
    "### Исследуем таблицу ratings с данными о пользовательских оценках"
   ]
  },
  {
   "cell_type": "code",
   "execution_count": 8,
   "metadata": {},
   "outputs": [
    {
     "data": {
      "text/html": [
       "<div>\n",
       "<style scoped>\n",
       "    .dataframe tbody tr th:only-of-type {\n",
       "        vertical-align: middle;\n",
       "    }\n",
       "\n",
       "    .dataframe tbody tr th {\n",
       "        vertical-align: top;\n",
       "    }\n",
       "\n",
       "    .dataframe thead th {\n",
       "        text-align: right;\n",
       "    }\n",
       "</style>\n",
       "<table border=\"1\" class=\"dataframe\">\n",
       "  <thead>\n",
       "    <tr style=\"text-align: right;\">\n",
       "      <th></th>\n",
       "      <th>rating_id</th>\n",
       "      <th>book_id</th>\n",
       "      <th>username</th>\n",
       "      <th>rating</th>\n",
       "    </tr>\n",
       "  </thead>\n",
       "  <tbody>\n",
       "    <tr>\n",
       "      <th>0</th>\n",
       "      <td>1</td>\n",
       "      <td>1</td>\n",
       "      <td>ryanfranco</td>\n",
       "      <td>4</td>\n",
       "    </tr>\n",
       "    <tr>\n",
       "      <th>1</th>\n",
       "      <td>2</td>\n",
       "      <td>1</td>\n",
       "      <td>grantpatricia</td>\n",
       "      <td>2</td>\n",
       "    </tr>\n",
       "    <tr>\n",
       "      <th>2</th>\n",
       "      <td>3</td>\n",
       "      <td>1</td>\n",
       "      <td>brandtandrea</td>\n",
       "      <td>5</td>\n",
       "    </tr>\n",
       "    <tr>\n",
       "      <th>3</th>\n",
       "      <td>4</td>\n",
       "      <td>2</td>\n",
       "      <td>lorichen</td>\n",
       "      <td>3</td>\n",
       "    </tr>\n",
       "    <tr>\n",
       "      <th>4</th>\n",
       "      <td>5</td>\n",
       "      <td>2</td>\n",
       "      <td>mariokeller</td>\n",
       "      <td>2</td>\n",
       "    </tr>\n",
       "  </tbody>\n",
       "</table>\n",
       "</div>"
      ],
      "text/plain": [
       "   rating_id  book_id       username  rating\n",
       "0          1        1     ryanfranco       4\n",
       "1          2        1  grantpatricia       2\n",
       "2          3        1   brandtandrea       5\n",
       "3          4        2       lorichen       3\n",
       "4          5        2    mariokeller       2"
      ]
     },
     "execution_count": 8,
     "metadata": {},
     "output_type": "execute_result"
    }
   ],
   "source": [
    "query = '''\n",
    "            SELECT * FROM ratings\n",
    "        '''\n",
    "ratings = pd.io.sql.read_sql(query, con = engine)\n",
    "\n",
    "ratings.head()"
   ]
  },
  {
   "cell_type": "code",
   "execution_count": 9,
   "metadata": {},
   "outputs": [
    {
     "name": "stdout",
     "output_type": "stream",
     "text": [
      "<class 'pandas.core.frame.DataFrame'>\n",
      "RangeIndex: 6456 entries, 0 to 6455\n",
      "Data columns (total 4 columns):\n",
      " #   Column     Non-Null Count  Dtype \n",
      "---  ------     --------------  ----- \n",
      " 0   rating_id  6456 non-null   int64 \n",
      " 1   book_id    6456 non-null   int64 \n",
      " 2   username   6456 non-null   object\n",
      " 3   rating     6456 non-null   int64 \n",
      "dtypes: int64(3), object(1)\n",
      "memory usage: 201.9+ KB\n"
     ]
    }
   ],
   "source": [
    "ratings.info()"
   ]
  },
  {
   "cell_type": "markdown",
   "metadata": {},
   "source": [
    "### Исследуем таблицу reviews с данными о пользовательских обзорах на книги"
   ]
  },
  {
   "cell_type": "code",
   "execution_count": 10,
   "metadata": {},
   "outputs": [
    {
     "data": {
      "text/html": [
       "<div>\n",
       "<style scoped>\n",
       "    .dataframe tbody tr th:only-of-type {\n",
       "        vertical-align: middle;\n",
       "    }\n",
       "\n",
       "    .dataframe tbody tr th {\n",
       "        vertical-align: top;\n",
       "    }\n",
       "\n",
       "    .dataframe thead th {\n",
       "        text-align: right;\n",
       "    }\n",
       "</style>\n",
       "<table border=\"1\" class=\"dataframe\">\n",
       "  <thead>\n",
       "    <tr style=\"text-align: right;\">\n",
       "      <th></th>\n",
       "      <th>review_id</th>\n",
       "      <th>book_id</th>\n",
       "      <th>username</th>\n",
       "      <th>text</th>\n",
       "    </tr>\n",
       "  </thead>\n",
       "  <tbody>\n",
       "    <tr>\n",
       "      <th>0</th>\n",
       "      <td>1</td>\n",
       "      <td>1</td>\n",
       "      <td>brandtandrea</td>\n",
       "      <td>Mention society tell send professor analysis. ...</td>\n",
       "    </tr>\n",
       "    <tr>\n",
       "      <th>1</th>\n",
       "      <td>2</td>\n",
       "      <td>1</td>\n",
       "      <td>ryanfranco</td>\n",
       "      <td>Foot glass pretty audience hit themselves. Amo...</td>\n",
       "    </tr>\n",
       "    <tr>\n",
       "      <th>2</th>\n",
       "      <td>3</td>\n",
       "      <td>2</td>\n",
       "      <td>lorichen</td>\n",
       "      <td>Listen treat keep worry. Miss husband tax but ...</td>\n",
       "    </tr>\n",
       "    <tr>\n",
       "      <th>3</th>\n",
       "      <td>4</td>\n",
       "      <td>3</td>\n",
       "      <td>johnsonamanda</td>\n",
       "      <td>Finally month interesting blue could nature cu...</td>\n",
       "    </tr>\n",
       "    <tr>\n",
       "      <th>4</th>\n",
       "      <td>5</td>\n",
       "      <td>3</td>\n",
       "      <td>scotttamara</td>\n",
       "      <td>Nation purpose heavy give wait song will. List...</td>\n",
       "    </tr>\n",
       "  </tbody>\n",
       "</table>\n",
       "</div>"
      ],
      "text/plain": [
       "   review_id  book_id       username  \\\n",
       "0          1        1   brandtandrea   \n",
       "1          2        1     ryanfranco   \n",
       "2          3        2       lorichen   \n",
       "3          4        3  johnsonamanda   \n",
       "4          5        3    scotttamara   \n",
       "\n",
       "                                                text  \n",
       "0  Mention society tell send professor analysis. ...  \n",
       "1  Foot glass pretty audience hit themselves. Amo...  \n",
       "2  Listen treat keep worry. Miss husband tax but ...  \n",
       "3  Finally month interesting blue could nature cu...  \n",
       "4  Nation purpose heavy give wait song will. List...  "
      ]
     },
     "execution_count": 10,
     "metadata": {},
     "output_type": "execute_result"
    }
   ],
   "source": [
    "query = '''\n",
    "            SELECT * FROM reviews\n",
    "        '''\n",
    "reviews = pd.io.sql.read_sql(query, con = engine)\n",
    "\n",
    "reviews.head()"
   ]
  },
  {
   "cell_type": "code",
   "execution_count": 11,
   "metadata": {},
   "outputs": [
    {
     "name": "stdout",
     "output_type": "stream",
     "text": [
      "<class 'pandas.core.frame.DataFrame'>\n",
      "RangeIndex: 2793 entries, 0 to 2792\n",
      "Data columns (total 4 columns):\n",
      " #   Column     Non-Null Count  Dtype \n",
      "---  ------     --------------  ----- \n",
      " 0   review_id  2793 non-null   int64 \n",
      " 1   book_id    2793 non-null   int64 \n",
      " 2   username   2793 non-null   object\n",
      " 3   text       2793 non-null   object\n",
      "dtypes: int64(2), object(2)\n",
      "memory usage: 87.4+ KB\n"
     ]
    }
   ],
   "source": [
    "reviews.info()"
   ]
  },
  {
   "cell_type": "markdown",
   "metadata": {},
   "source": [
    "С данными все впорядке."
   ]
  },
  {
   "cell_type": "markdown",
   "metadata": {},
   "source": [
    "## Посчитаем, сколько книг вышло после 1 января 2000 года"
   ]
  },
  {
   "cell_type": "code",
   "execution_count": 12,
   "metadata": {},
   "outputs": [
    {
     "data": {
      "text/html": [
       "<div>\n",
       "<style scoped>\n",
       "    .dataframe tbody tr th:only-of-type {\n",
       "        vertical-align: middle;\n",
       "    }\n",
       "\n",
       "    .dataframe tbody tr th {\n",
       "        vertical-align: top;\n",
       "    }\n",
       "\n",
       "    .dataframe thead th {\n",
       "        text-align: right;\n",
       "    }\n",
       "</style>\n",
       "<table border=\"1\" class=\"dataframe\">\n",
       "  <thead>\n",
       "    <tr style=\"text-align: right;\">\n",
       "      <th></th>\n",
       "      <th>cnt</th>\n",
       "    </tr>\n",
       "  </thead>\n",
       "  <tbody>\n",
       "    <tr>\n",
       "      <th>0</th>\n",
       "      <td>821</td>\n",
       "    </tr>\n",
       "  </tbody>\n",
       "</table>\n",
       "</div>"
      ],
      "text/plain": [
       "   cnt\n",
       "0  821"
      ]
     },
     "execution_count": 12,
     "metadata": {},
     "output_type": "execute_result"
    }
   ],
   "source": [
    "df_1  = '''\n",
    "            SELECT \n",
    "                COUNT(book_id) as cnt\n",
    "            FROM \n",
    "                books\n",
    "                WHERE publication_date >= '2000-01-01'\n",
    "       '''\n",
    "pd.read_sql(df_1, con = engine)"
   ]
  },
  {
   "cell_type": "markdown",
   "metadata": {},
   "source": [
    "После 01.01.2000 года вышло 821 книга."
   ]
  },
  {
   "cell_type": "markdown",
   "metadata": {},
   "source": [
    "## Посчитаем для каждой книги количество обзоров и среднюю оценку"
   ]
  },
  {
   "cell_type": "code",
   "execution_count": 13,
   "metadata": {},
   "outputs": [
    {
     "data": {
      "text/html": [
       "<div>\n",
       "<style scoped>\n",
       "    .dataframe tbody tr th:only-of-type {\n",
       "        vertical-align: middle;\n",
       "    }\n",
       "\n",
       "    .dataframe tbody tr th {\n",
       "        vertical-align: top;\n",
       "    }\n",
       "\n",
       "    .dataframe thead th {\n",
       "        text-align: right;\n",
       "    }\n",
       "</style>\n",
       "<table border=\"1\" class=\"dataframe\">\n",
       "  <thead>\n",
       "    <tr style=\"text-align: right;\">\n",
       "      <th></th>\n",
       "      <th>id</th>\n",
       "      <th>book_name</th>\n",
       "      <th>reviews</th>\n",
       "      <th>avg_rating</th>\n",
       "    </tr>\n",
       "  </thead>\n",
       "  <tbody>\n",
       "    <tr>\n",
       "      <th>0</th>\n",
       "      <td>948</td>\n",
       "      <td>Twilight (Twilight  #1)</td>\n",
       "      <td>7</td>\n",
       "      <td>3.662500</td>\n",
       "    </tr>\n",
       "    <tr>\n",
       "      <th>1</th>\n",
       "      <td>696</td>\n",
       "      <td>The Da Vinci Code (Robert Langdon  #2)</td>\n",
       "      <td>6</td>\n",
       "      <td>3.830508</td>\n",
       "    </tr>\n",
       "    <tr>\n",
       "      <th>2</th>\n",
       "      <td>207</td>\n",
       "      <td>Eat  Pray  Love</td>\n",
       "      <td>6</td>\n",
       "      <td>3.395833</td>\n",
       "    </tr>\n",
       "    <tr>\n",
       "      <th>3</th>\n",
       "      <td>627</td>\n",
       "      <td>The Alchemist</td>\n",
       "      <td>6</td>\n",
       "      <td>3.789474</td>\n",
       "    </tr>\n",
       "    <tr>\n",
       "      <th>4</th>\n",
       "      <td>673</td>\n",
       "      <td>The Catcher in the Rye</td>\n",
       "      <td>6</td>\n",
       "      <td>3.825581</td>\n",
       "    </tr>\n",
       "    <tr>\n",
       "      <th>5</th>\n",
       "      <td>695</td>\n",
       "      <td>The Curious Incident of the Dog in the Night-Time</td>\n",
       "      <td>6</td>\n",
       "      <td>4.081081</td>\n",
       "    </tr>\n",
       "    <tr>\n",
       "      <th>6</th>\n",
       "      <td>302</td>\n",
       "      <td>Harry Potter and the Prisoner of Azkaban (Harr...</td>\n",
       "      <td>6</td>\n",
       "      <td>4.414634</td>\n",
       "    </tr>\n",
       "    <tr>\n",
       "      <th>7</th>\n",
       "      <td>299</td>\n",
       "      <td>Harry Potter and the Chamber of Secrets (Harry...</td>\n",
       "      <td>6</td>\n",
       "      <td>4.287500</td>\n",
       "    </tr>\n",
       "    <tr>\n",
       "      <th>8</th>\n",
       "      <td>497</td>\n",
       "      <td>Outlander (Outlander  #1)</td>\n",
       "      <td>6</td>\n",
       "      <td>4.125000</td>\n",
       "    </tr>\n",
       "    <tr>\n",
       "      <th>9</th>\n",
       "      <td>656</td>\n",
       "      <td>The Book Thief</td>\n",
       "      <td>6</td>\n",
       "      <td>4.264151</td>\n",
       "    </tr>\n",
       "  </tbody>\n",
       "</table>\n",
       "</div>"
      ],
      "text/plain": [
       "    id                                          book_name  reviews  avg_rating\n",
       "0  948                            Twilight (Twilight  #1)        7    3.662500\n",
       "1  696             The Da Vinci Code (Robert Langdon  #2)        6    3.830508\n",
       "2  207                                    Eat  Pray  Love        6    3.395833\n",
       "3  627                                      The Alchemist        6    3.789474\n",
       "4  673                             The Catcher in the Rye        6    3.825581\n",
       "5  695  The Curious Incident of the Dog in the Night-Time        6    4.081081\n",
       "6  302  Harry Potter and the Prisoner of Azkaban (Harr...        6    4.414634\n",
       "7  299  Harry Potter and the Chamber of Secrets (Harry...        6    4.287500\n",
       "8  497                          Outlander (Outlander  #1)        6    4.125000\n",
       "9  656                                     The Book Thief        6    4.264151"
      ]
     },
     "execution_count": 13,
     "metadata": {},
     "output_type": "execute_result"
    }
   ],
   "source": [
    "df_2  = '''\n",
    "            SELECT \n",
    "                books.book_id AS id, \n",
    "                books.title AS book_name, \n",
    "                COUNT(DISTINCT reviews.review_id) as reviews,  \n",
    "                AVG(ratings.rating) as avg_rating     \n",
    "            FROM \n",
    "                books\n",
    "            LEFT JOIN ratings ON ratings.book_id = books.book_id \n",
    "            LEFT JOIN reviews ON reviews.book_id = books.book_id \n",
    "            GROUP BY\n",
    "                books.book_id\n",
    "            ORDER BY\n",
    "                reviews DESC \n",
    "            LIMIT\n",
    "               10\n",
    "             \n",
    "'''\n",
    "pd.read_sql(df_2, con = engine)"
   ]
  },
  {
   "cell_type": "markdown",
   "metadata": {},
   "source": [
    "Больше всего обзоров у книги Twilight (Twilight #1)"
   ]
  },
  {
   "cell_type": "markdown",
   "metadata": {},
   "source": [
    "## Определим издательство, которое выпустило наибольшее число книг толще 50 страниц"
   ]
  },
  {
   "cell_type": "code",
   "execution_count": 14,
   "metadata": {},
   "outputs": [
    {
     "data": {
      "text/html": [
       "<div>\n",
       "<style scoped>\n",
       "    .dataframe tbody tr th:only-of-type {\n",
       "        vertical-align: middle;\n",
       "    }\n",
       "\n",
       "    .dataframe tbody tr th {\n",
       "        vertical-align: top;\n",
       "    }\n",
       "\n",
       "    .dataframe thead th {\n",
       "        text-align: right;\n",
       "    }\n",
       "</style>\n",
       "<table border=\"1\" class=\"dataframe\">\n",
       "  <thead>\n",
       "    <tr style=\"text-align: right;\">\n",
       "      <th></th>\n",
       "      <th>publisher</th>\n",
       "      <th>cnt</th>\n",
       "    </tr>\n",
       "  </thead>\n",
       "  <tbody>\n",
       "    <tr>\n",
       "      <th>0</th>\n",
       "      <td>Penguin Books</td>\n",
       "      <td>42</td>\n",
       "    </tr>\n",
       "    <tr>\n",
       "      <th>1</th>\n",
       "      <td>Vintage</td>\n",
       "      <td>31</td>\n",
       "    </tr>\n",
       "    <tr>\n",
       "      <th>2</th>\n",
       "      <td>Grand Central Publishing</td>\n",
       "      <td>25</td>\n",
       "    </tr>\n",
       "    <tr>\n",
       "      <th>3</th>\n",
       "      <td>Penguin Classics</td>\n",
       "      <td>24</td>\n",
       "    </tr>\n",
       "    <tr>\n",
       "      <th>4</th>\n",
       "      <td>Ballantine Books</td>\n",
       "      <td>19</td>\n",
       "    </tr>\n",
       "    <tr>\n",
       "      <th>5</th>\n",
       "      <td>Bantam</td>\n",
       "      <td>19</td>\n",
       "    </tr>\n",
       "    <tr>\n",
       "      <th>6</th>\n",
       "      <td>Berkley</td>\n",
       "      <td>17</td>\n",
       "    </tr>\n",
       "    <tr>\n",
       "      <th>7</th>\n",
       "      <td>St. Martin's Press</td>\n",
       "      <td>14</td>\n",
       "    </tr>\n",
       "    <tr>\n",
       "      <th>8</th>\n",
       "      <td>Berkley Books</td>\n",
       "      <td>14</td>\n",
       "    </tr>\n",
       "    <tr>\n",
       "      <th>9</th>\n",
       "      <td>William Morrow Paperbacks</td>\n",
       "      <td>13</td>\n",
       "    </tr>\n",
       "  </tbody>\n",
       "</table>\n",
       "</div>"
      ],
      "text/plain": [
       "                   publisher  cnt\n",
       "0              Penguin Books   42\n",
       "1                    Vintage   31\n",
       "2   Grand Central Publishing   25\n",
       "3           Penguin Classics   24\n",
       "4           Ballantine Books   19\n",
       "5                     Bantam   19\n",
       "6                    Berkley   17\n",
       "7         St. Martin's Press   14\n",
       "8              Berkley Books   14\n",
       "9  William Morrow Paperbacks   13"
      ]
     },
     "execution_count": 14,
     "metadata": {},
     "output_type": "execute_result"
    }
   ],
   "source": [
    "df_3  = '''\n",
    "            SELECT\n",
    "                publishers.publisher,\n",
    "                COUNT(books.book_id) AS cnt\n",
    "            FROM    \n",
    "                books\n",
    "            LEFT JOIN publishers ON books.publisher_id = publishers.publisher_id\n",
    "            WHERE \n",
    "                num_pages > 50\n",
    "            GROUP BY\n",
    "                publishers.publisher\n",
    "            ORDER BY\n",
    "                cnt DESC\n",
    "            LIMIT\n",
    "                10\n",
    "       '''\n",
    "pd.read_sql(df_3, con = engine)"
   ]
  },
  {
   "cell_type": "markdown",
   "metadata": {},
   "source": [
    "Больше всего книг толше 50 страниц выпустило издательство Penguin Books в кольчестве 42 книги."
   ]
  },
  {
   "cell_type": "markdown",
   "metadata": {},
   "source": [
    "## Определим автора с самой высокой средней оценкой книг — учитем только книги с 50 и более оценками"
   ]
  },
  {
   "cell_type": "code",
   "execution_count": 15,
   "metadata": {},
   "outputs": [
    {
     "data": {
      "text/html": [
       "<div>\n",
       "<style scoped>\n",
       "    .dataframe tbody tr th:only-of-type {\n",
       "        vertical-align: middle;\n",
       "    }\n",
       "\n",
       "    .dataframe tbody tr th {\n",
       "        vertical-align: top;\n",
       "    }\n",
       "\n",
       "    .dataframe thead th {\n",
       "        text-align: right;\n",
       "    }\n",
       "</style>\n",
       "<table border=\"1\" class=\"dataframe\">\n",
       "  <thead>\n",
       "    <tr style=\"text-align: right;\">\n",
       "      <th></th>\n",
       "      <th>author</th>\n",
       "      <th>avg_rating</th>\n",
       "    </tr>\n",
       "  </thead>\n",
       "  <tbody>\n",
       "    <tr>\n",
       "      <th>0</th>\n",
       "      <td>J.K. Rowling/Mary GrandPré</td>\n",
       "      <td>4.283844</td>\n",
       "    </tr>\n",
       "    <tr>\n",
       "      <th>1</th>\n",
       "      <td>Markus Zusak/Cao Xuân Việt Khương</td>\n",
       "      <td>4.264151</td>\n",
       "    </tr>\n",
       "    <tr>\n",
       "      <th>2</th>\n",
       "      <td>J.R.R. Tolkien</td>\n",
       "      <td>4.258446</td>\n",
       "    </tr>\n",
       "    <tr>\n",
       "      <th>3</th>\n",
       "      <td>Louisa May Alcott</td>\n",
       "      <td>4.192308</td>\n",
       "    </tr>\n",
       "    <tr>\n",
       "      <th>4</th>\n",
       "      <td>Rick Riordan</td>\n",
       "      <td>4.080645</td>\n",
       "    </tr>\n",
       "    <tr>\n",
       "      <th>5</th>\n",
       "      <td>William Golding</td>\n",
       "      <td>3.901408</td>\n",
       "    </tr>\n",
       "    <tr>\n",
       "      <th>6</th>\n",
       "      <td>J.D. Salinger</td>\n",
       "      <td>3.825581</td>\n",
       "    </tr>\n",
       "    <tr>\n",
       "      <th>7</th>\n",
       "      <td>Paulo Coelho/Alan R. Clarke/Özdemir İnce</td>\n",
       "      <td>3.789474</td>\n",
       "    </tr>\n",
       "    <tr>\n",
       "      <th>8</th>\n",
       "      <td>William Shakespeare/Paul Werstine/Barbara A. M...</td>\n",
       "      <td>3.787879</td>\n",
       "    </tr>\n",
       "    <tr>\n",
       "      <th>9</th>\n",
       "      <td>Dan Brown</td>\n",
       "      <td>3.754540</td>\n",
       "    </tr>\n",
       "    <tr>\n",
       "      <th>10</th>\n",
       "      <td>Lois Lowry</td>\n",
       "      <td>3.750000</td>\n",
       "    </tr>\n",
       "    <tr>\n",
       "      <th>11</th>\n",
       "      <td>George Orwell/Boris Grabnar/Peter Škerl</td>\n",
       "      <td>3.729730</td>\n",
       "    </tr>\n",
       "    <tr>\n",
       "      <th>12</th>\n",
       "      <td>Stephenie Meyer</td>\n",
       "      <td>3.662500</td>\n",
       "    </tr>\n",
       "    <tr>\n",
       "      <th>13</th>\n",
       "      <td>John Steinbeck</td>\n",
       "      <td>3.622951</td>\n",
       "    </tr>\n",
       "  </tbody>\n",
       "</table>\n",
       "</div>"
      ],
      "text/plain": [
       "                                               author  avg_rating\n",
       "0                          J.K. Rowling/Mary GrandPré    4.283844\n",
       "1                   Markus Zusak/Cao Xuân Việt Khương    4.264151\n",
       "2                                      J.R.R. Tolkien    4.258446\n",
       "3                                   Louisa May Alcott    4.192308\n",
       "4                                        Rick Riordan    4.080645\n",
       "5                                     William Golding    3.901408\n",
       "6                                       J.D. Salinger    3.825581\n",
       "7            Paulo Coelho/Alan R. Clarke/Özdemir İnce    3.789474\n",
       "8   William Shakespeare/Paul Werstine/Barbara A. M...    3.787879\n",
       "9                                           Dan Brown    3.754540\n",
       "10                                         Lois Lowry    3.750000\n",
       "11            George Orwell/Boris Grabnar/Peter Škerl    3.729730\n",
       "12                                    Stephenie Meyer    3.662500\n",
       "13                                     John Steinbeck    3.622951"
      ]
     },
     "execution_count": 15,
     "metadata": {},
     "output_type": "execute_result"
    }
   ],
   "source": [
    "df_4 = '''\n",
    "SELECT\n",
    "      SUBQ.author AS author,\n",
    "      AVG(SUBQ.avg_rating) AS avg_rating\n",
    "FROM\n",
    "(SELECT\n",
    "     authors.author AS author,\n",
    "     books.book_id AS id,\n",
    "     AVG(ratings.rating) AS avg_rating,\n",
    "     COUNT(ratings.rating) AS cnt_rating\n",
    "FROM\n",
    "    authors\n",
    "INNER JOIN books ON books.author_id = authors.author_id\n",
    "INNER JOIN ratings ON ratings.book_id = books.book_id\n",
    "GROUP BY\n",
    "    author,\n",
    "    id\n",
    "    HAVING\n",
    "    COUNT(ratings.rating) >= 50) AS SUBQ\n",
    "GROUP BY\n",
    "    author\n",
    "ORDER BY\n",
    "    avg_rating DESC\n",
    "'''\n",
    "pd.read_sql(df_4, con = engine)"
   ]
  },
  {
   "cell_type": "markdown",
   "metadata": {},
   "source": [
    "Самый высокий рейтинг у автора J.K. Rowling/Mary GrandPré с 50 и более оценками"
   ]
  },
  {
   "cell_type": "markdown",
   "metadata": {},
   "source": [
    "## Посчитаем среднее количество обзоров от пользователей, которые поставили больше 50 оценок."
   ]
  },
  {
   "cell_type": "code",
   "execution_count": 16,
   "metadata": {},
   "outputs": [
    {
     "data": {
      "text/html": [
       "<div>\n",
       "<style scoped>\n",
       "    .dataframe tbody tr th:only-of-type {\n",
       "        vertical-align: middle;\n",
       "    }\n",
       "\n",
       "    .dataframe tbody tr th {\n",
       "        vertical-align: top;\n",
       "    }\n",
       "\n",
       "    .dataframe thead th {\n",
       "        text-align: right;\n",
       "    }\n",
       "</style>\n",
       "<table border=\"1\" class=\"dataframe\">\n",
       "  <thead>\n",
       "    <tr style=\"text-align: right;\">\n",
       "      <th></th>\n",
       "      <th>avg</th>\n",
       "    </tr>\n",
       "  </thead>\n",
       "  <tbody>\n",
       "    <tr>\n",
       "      <th>0</th>\n",
       "      <td>24.0</td>\n",
       "    </tr>\n",
       "  </tbody>\n",
       "</table>\n",
       "</div>"
      ],
      "text/plain": [
       "    avg\n",
       "0  24.0"
      ]
     },
     "execution_count": 16,
     "metadata": {},
     "output_type": "execute_result"
    }
   ],
   "source": [
    "df_5 = ''' \n",
    "    SELECT\n",
    "        AVG(Sub.n_reviews)\n",
    "    FROM\n",
    "        (SELECT\n",
    "            username,\n",
    "            COUNT(review_id) AS n_reviews\n",
    "    FROM\n",
    "        reviews\n",
    "    WHERE \n",
    "        username IN (\n",
    "                SELECT \n",
    "                    username\n",
    "                FROM \n",
    "                    ratings\n",
    "                GROUP BY \n",
    "                    username\n",
    "                HAVING \n",
    "                    COUNT(rating_id) > 50\n",
    "                    )\n",
    "    GROUP BY \n",
    "        username\n",
    "    ) AS Sub\n",
    "; ''' \n",
    "pd.read_sql(df_5, con = engine).round()"
   ]
  },
  {
   "cell_type": "markdown",
   "metadata": {},
   "source": [
    "Среднее количество обзоров от пользователей, которые поставили боьше 50 оценок = 24"
   ]
  },
  {
   "cell_type": "markdown",
   "metadata": {},
   "source": [
    "## Вывод"
   ]
  },
  {
   "cell_type": "markdown",
   "metadata": {},
   "source": [
    "Выполнив требуемые задания мы выяснили что:\n",
    "- После 01.01.2000 года вышло 821 книга;\n",
    "- Больше всего обзоров у книги Twilight (Twilight #1);\n",
    "- Больше всего книг толше 50 страниц выпустило издательство Penguin Books в кольчестве 42 книги;\n",
    "- Самый высокий рейтинг у автора J.K. Rowling/Mary GrandPré с 50 и более оценками;\n",
    "- Среднее количество обзоров от пользователей, которые поставили боьше 50 оценок = 24."
   ]
  }
 ],
 "metadata": {
  "ExecuteTimeLog": [
   {
    "duration": 8403,
    "start_time": "2023-02-02T10:22:30.006Z"
   },
   {
    "duration": 73,
    "start_time": "2023-02-02T10:22:54.180Z"
   },
   {
    "duration": 66,
    "start_time": "2023-02-02T10:33:55.290Z"
   },
   {
    "duration": 11,
    "start_time": "2023-02-02T10:34:08.708Z"
   },
   {
    "duration": 18,
    "start_time": "2023-02-02T10:34:15.836Z"
   },
   {
    "duration": 30,
    "start_time": "2023-02-02T10:34:20.556Z"
   },
   {
    "duration": 17,
    "start_time": "2023-02-02T10:37:43.848Z"
   },
   {
    "duration": 17,
    "start_time": "2023-02-02T10:38:00.143Z"
   },
   {
    "duration": 13,
    "start_time": "2023-02-02T10:38:27.073Z"
   },
   {
    "duration": 12,
    "start_time": "2023-02-02T10:38:43.259Z"
   },
   {
    "duration": 8,
    "start_time": "2023-02-02T10:40:43.119Z"
   },
   {
    "duration": 12,
    "start_time": "2023-02-02T10:40:50.934Z"
   },
   {
    "duration": 10,
    "start_time": "2023-02-02T10:40:51.868Z"
   },
   {
    "duration": 27,
    "start_time": "2023-02-02T10:41:28.188Z"
   },
   {
    "duration": 10,
    "start_time": "2023-02-02T10:41:29.023Z"
   },
   {
    "duration": 19,
    "start_time": "2023-02-02T10:44:14.447Z"
   },
   {
    "duration": 10,
    "start_time": "2023-02-02T10:44:29.641Z"
   },
   {
    "duration": 14,
    "start_time": "2023-02-02T10:54:29.379Z"
   },
   {
    "duration": 30,
    "start_time": "2023-02-02T10:57:30.159Z"
   },
   {
    "duration": 10,
    "start_time": "2023-02-02T10:57:42.476Z"
   },
   {
    "duration": 31,
    "start_time": "2023-02-02T10:58:01.403Z"
   },
   {
    "duration": 22,
    "start_time": "2023-02-02T10:58:15.781Z"
   },
   {
    "duration": 21,
    "start_time": "2023-02-02T10:59:11.385Z"
   },
   {
    "duration": 14,
    "start_time": "2023-02-02T10:59:25.027Z"
   },
   {
    "duration": 15,
    "start_time": "2023-02-02T10:59:32.694Z"
   },
   {
    "duration": 15,
    "start_time": "2023-02-02T10:59:44.727Z"
   },
   {
    "duration": 216,
    "start_time": "2023-02-02T11:00:26.577Z"
   },
   {
    "duration": 115,
    "start_time": "2023-02-02T11:00:41.123Z"
   },
   {
    "duration": 17,
    "start_time": "2023-02-02T11:02:02.213Z"
   },
   {
    "duration": 93,
    "start_time": "2023-02-02T11:03:16.201Z"
   },
   {
    "duration": 92,
    "start_time": "2023-02-02T11:04:06.777Z"
   },
   {
    "duration": 132,
    "start_time": "2023-02-02T11:05:06.121Z"
   },
   {
    "duration": 2,
    "start_time": "2023-02-02T11:05:44.009Z"
   },
   {
    "duration": 95,
    "start_time": "2023-02-02T11:06:00.387Z"
   },
   {
    "duration": 135,
    "start_time": "2023-02-02T11:06:08.962Z"
   },
   {
    "duration": 113,
    "start_time": "2023-02-02T11:06:12.238Z"
   },
   {
    "duration": 16,
    "start_time": "2023-02-02T11:08:07.901Z"
   },
   {
    "duration": 22,
    "start_time": "2023-02-02T11:08:19.897Z"
   },
   {
    "duration": 15,
    "start_time": "2023-02-02T11:08:27.439Z"
   },
   {
    "duration": 96,
    "start_time": "2023-02-02T11:14:57.320Z"
   },
   {
    "duration": 103,
    "start_time": "2023-02-02T11:15:57.551Z"
   },
   {
    "duration": 102,
    "start_time": "2023-02-02T11:17:04.149Z"
   },
   {
    "duration": 23,
    "start_time": "2023-02-02T11:17:28.391Z"
   },
   {
    "duration": 22,
    "start_time": "2023-02-02T11:17:40.986Z"
   },
   {
    "duration": 96,
    "start_time": "2023-02-02T11:18:01.025Z"
   },
   {
    "duration": 21,
    "start_time": "2023-02-02T11:18:29.494Z"
   },
   {
    "duration": 21,
    "start_time": "2023-02-02T11:18:58.765Z"
   },
   {
    "duration": 24,
    "start_time": "2023-02-02T11:20:30.682Z"
   },
   {
    "duration": 23,
    "start_time": "2023-02-02T11:20:53.837Z"
   },
   {
    "duration": 23,
    "start_time": "2023-02-02T11:21:03.006Z"
   },
   {
    "duration": 21,
    "start_time": "2023-02-02T11:21:11.725Z"
   },
   {
    "duration": 23,
    "start_time": "2023-02-02T11:22:57.031Z"
   },
   {
    "duration": 21,
    "start_time": "2023-02-02T11:33:16.019Z"
   },
   {
    "duration": 29,
    "start_time": "2023-02-02T11:33:33.020Z"
   },
   {
    "duration": 22,
    "start_time": "2023-02-02T11:35:44.242Z"
   },
   {
    "duration": 12,
    "start_time": "2023-02-02T11:38:15.458Z"
   },
   {
    "duration": 15,
    "start_time": "2023-02-02T11:38:19.533Z"
   },
   {
    "duration": 15,
    "start_time": "2023-02-02T11:43:54.195Z"
   },
   {
    "duration": 16,
    "start_time": "2023-02-02T11:45:15.416Z"
   },
   {
    "duration": 15,
    "start_time": "2023-02-02T11:45:33.453Z"
   },
   {
    "duration": 10,
    "start_time": "2023-02-02T11:54:33.474Z"
   },
   {
    "duration": 19,
    "start_time": "2023-02-02T11:58:50.044Z"
   },
   {
    "duration": 24,
    "start_time": "2023-02-02T11:59:11.101Z"
   },
   {
    "duration": 7,
    "start_time": "2023-02-02T12:05:01.829Z"
   },
   {
    "duration": 13,
    "start_time": "2023-02-02T12:05:09.835Z"
   },
   {
    "duration": 21,
    "start_time": "2023-02-02T12:05:48.648Z"
   },
   {
    "duration": 17,
    "start_time": "2023-02-02T12:06:15.547Z"
   },
   {
    "duration": 15,
    "start_time": "2023-02-02T12:06:21.922Z"
   },
   {
    "duration": 14,
    "start_time": "2023-02-02T12:06:31.125Z"
   },
   {
    "duration": 8340,
    "start_time": "2023-02-02T12:15:54.701Z"
   },
   {
    "duration": 70,
    "start_time": "2023-02-02T12:16:03.043Z"
   },
   {
    "duration": 11,
    "start_time": "2023-02-02T12:16:03.115Z"
   },
   {
    "duration": 59,
    "start_time": "2023-02-02T12:16:03.129Z"
   },
   {
    "duration": 61,
    "start_time": "2023-02-02T12:16:03.190Z"
   },
   {
    "duration": 61,
    "start_time": "2023-02-02T12:16:03.253Z"
   },
   {
    "duration": 9,
    "start_time": "2023-02-02T12:16:03.316Z"
   },
   {
    "duration": 71,
    "start_time": "2023-02-02T12:16:03.327Z"
   },
   {
    "duration": 30,
    "start_time": "2023-02-02T12:16:03.400Z"
   },
   {
    "duration": 54,
    "start_time": "2023-02-02T12:16:03.432Z"
   },
   {
    "duration": 43,
    "start_time": "2023-02-02T12:16:03.487Z"
   },
   {
    "duration": 11,
    "start_time": "2023-02-02T12:16:03.532Z"
   },
   {
    "duration": 23,
    "start_time": "2023-02-02T12:16:03.545Z"
   },
   {
    "duration": 12,
    "start_time": "2023-02-02T12:16:03.569Z"
   },
   {
    "duration": 18,
    "start_time": "2023-02-02T12:16:03.582Z"
   },
   {
    "duration": 53,
    "start_time": "2023-02-02T12:16:03.601Z"
   },
   {
    "duration": 14,
    "start_time": "2023-02-02T12:16:31.792Z"
   },
   {
    "duration": 6309,
    "start_time": "2023-02-02T15:45:51.952Z"
   },
   {
    "duration": 292,
    "start_time": "2023-02-02T15:45:58.264Z"
   },
   {
    "duration": 16,
    "start_time": "2023-02-02T15:45:58.558Z"
   },
   {
    "duration": 93,
    "start_time": "2023-02-02T15:45:58.576Z"
   },
   {
    "duration": 13,
    "start_time": "2023-02-02T15:45:58.670Z"
   },
   {
    "duration": 101,
    "start_time": "2023-02-02T15:45:58.685Z"
   },
   {
    "duration": 14,
    "start_time": "2023-02-02T15:45:58.788Z"
   },
   {
    "duration": 142,
    "start_time": "2023-02-02T15:45:58.803Z"
   },
   {
    "duration": 11,
    "start_time": "2023-02-02T15:45:58.947Z"
   },
   {
    "duration": 102,
    "start_time": "2023-02-02T15:45:58.960Z"
   },
   {
    "duration": 16,
    "start_time": "2023-02-02T15:45:59.065Z"
   },
   {
    "duration": 89,
    "start_time": "2023-02-02T15:45:59.083Z"
   },
   {
    "duration": 96,
    "start_time": "2023-02-02T15:45:59.175Z"
   },
   {
    "duration": 83,
    "start_time": "2023-02-02T15:45:59.273Z"
   },
   {
    "duration": 91,
    "start_time": "2023-02-02T15:45:59.358Z"
   },
   {
    "duration": 80,
    "start_time": "2023-02-02T15:45:59.451Z"
   },
   {
    "duration": 5639,
    "start_time": "2023-02-02T15:56:30.145Z"
   },
   {
    "duration": 308,
    "start_time": "2023-02-02T15:56:35.785Z"
   },
   {
    "duration": 10,
    "start_time": "2023-02-02T15:56:36.095Z"
   },
   {
    "duration": 108,
    "start_time": "2023-02-02T15:56:36.107Z"
   },
   {
    "duration": 9,
    "start_time": "2023-02-02T15:56:36.216Z"
   },
   {
    "duration": 110,
    "start_time": "2023-02-02T15:56:36.226Z"
   },
   {
    "duration": 10,
    "start_time": "2023-02-02T15:56:36.337Z"
   },
   {
    "duration": 129,
    "start_time": "2023-02-02T15:56:36.348Z"
   },
   {
    "duration": 12,
    "start_time": "2023-02-02T15:56:36.478Z"
   },
   {
    "duration": 124,
    "start_time": "2023-02-02T15:56:36.493Z"
   },
   {
    "duration": 13,
    "start_time": "2023-02-02T15:56:36.620Z"
   },
   {
    "duration": 146,
    "start_time": "2023-02-02T15:56:36.635Z"
   },
   {
    "duration": 173,
    "start_time": "2023-02-02T15:56:36.784Z"
   },
   {
    "duration": 176,
    "start_time": "2023-02-02T15:56:36.959Z"
   },
   {
    "duration": 116,
    "start_time": "2023-02-02T15:56:37.137Z"
   },
   {
    "duration": 115,
    "start_time": "2023-02-02T15:56:37.254Z"
   },
   {
    "duration": 114,
    "start_time": "2023-02-02T15:57:58.595Z"
   },
   {
    "duration": 102,
    "start_time": "2023-02-02T16:06:15.421Z"
   },
   {
    "duration": 5587,
    "start_time": "2023-02-02T16:31:45.265Z"
   },
   {
    "duration": 295,
    "start_time": "2023-02-02T16:31:50.853Z"
   },
   {
    "duration": 13,
    "start_time": "2023-02-02T16:31:51.149Z"
   },
   {
    "duration": 80,
    "start_time": "2023-02-02T16:31:51.164Z"
   },
   {
    "duration": 9,
    "start_time": "2023-02-02T16:31:51.246Z"
   },
   {
    "duration": 80,
    "start_time": "2023-02-02T16:31:51.256Z"
   },
   {
    "duration": 10,
    "start_time": "2023-02-02T16:31:51.338Z"
   },
   {
    "duration": 121,
    "start_time": "2023-02-02T16:31:51.349Z"
   },
   {
    "duration": 12,
    "start_time": "2023-02-02T16:31:51.472Z"
   },
   {
    "duration": 94,
    "start_time": "2023-02-02T16:31:51.486Z"
   },
   {
    "duration": 11,
    "start_time": "2023-02-02T16:31:51.582Z"
   },
   {
    "duration": 77,
    "start_time": "2023-02-02T16:31:51.595Z"
   },
   {
    "duration": 87,
    "start_time": "2023-02-02T16:31:51.674Z"
   },
   {
    "duration": 75,
    "start_time": "2023-02-02T16:31:51.764Z"
   },
   {
    "duration": 80,
    "start_time": "2023-02-02T16:31:51.840Z"
   },
   {
    "duration": 78,
    "start_time": "2023-02-02T16:31:51.921Z"
   },
   {
    "duration": 77,
    "start_time": "2023-02-02T16:31:52.001Z"
   },
   {
    "duration": 11025,
    "start_time": "2023-11-06T20:58:54.401Z"
   },
   {
    "duration": 287,
    "start_time": "2023-11-06T20:59:05.428Z"
   },
   {
    "duration": 9,
    "start_time": "2023-11-06T20:59:05.717Z"
   },
   {
    "duration": 88,
    "start_time": "2023-11-06T20:59:05.729Z"
   },
   {
    "duration": 10,
    "start_time": "2023-11-06T20:59:05.818Z"
   },
   {
    "duration": 74,
    "start_time": "2023-11-06T20:59:05.829Z"
   },
   {
    "duration": 9,
    "start_time": "2023-11-06T20:59:05.905Z"
   },
   {
    "duration": 133,
    "start_time": "2023-11-06T20:59:05.915Z"
   },
   {
    "duration": 9,
    "start_time": "2023-11-06T20:59:06.050Z"
   },
   {
    "duration": 96,
    "start_time": "2023-11-06T20:59:06.062Z"
   },
   {
    "duration": 12,
    "start_time": "2023-11-06T20:59:06.159Z"
   },
   {
    "duration": 76,
    "start_time": "2023-11-06T20:59:06.172Z"
   },
   {
    "duration": 85,
    "start_time": "2023-11-06T20:59:06.249Z"
   },
   {
    "duration": 75,
    "start_time": "2023-11-06T20:59:06.336Z"
   },
   {
    "duration": 80,
    "start_time": "2023-11-06T20:59:06.412Z"
   },
   {
    "duration": 76,
    "start_time": "2023-11-06T20:59:06.494Z"
   }
  ],
  "kernelspec": {
   "display_name": "Python 3 (ipykernel)",
   "language": "python",
   "name": "python3"
  },
  "language_info": {
   "codemirror_mode": {
    "name": "ipython",
    "version": 3
   },
   "file_extension": ".py",
   "mimetype": "text/x-python",
   "name": "python",
   "nbconvert_exporter": "python",
   "pygments_lexer": "ipython3",
   "version": "3.9.5"
  },
  "toc": {
   "base_numbering": 1,
   "nav_menu": {},
   "number_sections": true,
   "sideBar": true,
   "skip_h1_title": true,
   "title_cell": "Table of Contents",
   "title_sidebar": "Contents",
   "toc_cell": false,
   "toc_position": {
    "height": "calc(100% - 180px)",
    "left": "10px",
    "top": "150px",
    "width": "366.391px"
   },
   "toc_section_display": true,
   "toc_window_display": true
  }
 },
 "nbformat": 4,
 "nbformat_minor": 2
}
