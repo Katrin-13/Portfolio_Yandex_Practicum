{
 "cells": [
  {
   "cell_type": "markdown",
   "metadata": {},
   "source": [
    "# Банк \"Метанпром\". Анализ оттока клиентов."
   ]
  },
  {
   "cell_type": "markdown",
   "metadata": {},
   "source": [
    "**Описание проекта**\n",
    "\n",
    "Нам предоставлен датасет с с содержанием данных о клиентах банка \"Метанпом\". Банк распологается в Ярославле и областных городах: Ростов Вликий и Рыбинск. Нам нужно проанализировать клиентов регионального банка и выделить сегменты клиентов, которые склонны уходить из банка."
   ]
  },
  {
   "cell_type": "markdown",
   "metadata": {},
   "source": [
    "**Датаст содержит данные:**\n",
    "- userid — идентификатор пользователя;\n",
    "- score — баллы кредитного скоринга;\n",
    "- City — город;\n",
    "- Gender — пол;\n",
    "- Age — возраст;\n",
    "- Objects — количество объектов в собственности;\n",
    "- Balance — баланс на счёте;\n",
    "- Products — количество продуктов, которыми пользуется клиент;\n",
    "- CreditCard — есть ли кредитная карта;\n",
    "- Loyalty — активный клиент;\n",
    "- estimated_salary — заработная плата клиента;\n",
    "- Churn — ушёл или нет."
   ]
  },
  {
   "cell_type": "markdown",
   "metadata": {},
   "source": [
    "**Инструкция выполнения проекта:**\n",
    "1. Загрузка данных и изучение общей информации\n",
    "\n",
    "     1.1. Вывод\n",
    "     \n",
    "2. Предобработка данных\n",
    "\n",
    "     2.1. Измеить регистр \n",
    "     \n",
    "     2.2. Проверить дубликаты\n",
    "     \n",
    "     2.3. Заменить на числовое обозначение в столбце city и gender \n",
    "     \n",
    "     2.4. Проверить пропуски, узнать их причину и обрабтать.\n",
    "     \n",
    "     2.5. Вывод\n",
    "     \n",
    "3. Исследователльский анализ данных\n",
    "\n",
    "     3.1. Распределение признаков\n",
    "     \n",
    "     3.2. Построим матрицу корреляции\n",
    "     \n",
    "4. Анализ оттока клиенов\n",
    "\n",
    "     4.1. Выявить уровень оттока клиентов по признакам\n",
    "     \n",
    "     4.2. Вывод\n",
    "     \n",
    "5. Сформулируем и проверим статистические гипотезы\n",
    "\n",
    "     5.1. Вывод\n",
    "6. Выводы и предложения\n",
    "     \n",
    "6. Презентация"
   ]
  },
  {
   "cell_type": "markdown",
   "metadata": {},
   "source": [
    "## Загрузка данных и изучение общей информации"
   ]
  },
  {
   "cell_type": "code",
   "execution_count": 41,
   "metadata": {},
   "outputs": [],
   "source": [
    "#Импортируем библиотеки\n",
    "import pandas as pd\n",
    "import seaborn as sns\n",
    "import matplotlib.pyplot as plt\n",
    "from sklearn.model_selection import train_test_split\n",
    "from sklearn.ensemble import RandomForestClassifier\n",
    "from sklearn.linear_model import LogisticRegression\n",
    "from sklearn.metrics import accuracy_score,recall_score,precision_score\n",
    "from warnings import filterwarnings\n",
    "from sklearn.preprocessing import StandardScaler\n",
    "filterwarnings(\"ignore\")\n",
    "from scipy.cluster.hierarchy import dendrogram, linkage \n",
    "from sklearn.cluster import KMeans\n",
    "from scipy import stats as st\n",
    "import plotly.express as px\n",
    "import math\n",
    "import numpy as np\n",
    "from plotly import graph_objects as go\n",
    "import scipy.stats as stats\n",
    "import datetime as dt\n",
    "from plotly.offline import download_plotlyjs, init_notebook_mode, plot, iplot\n",
    "from IPython.display import display\n",
    "import re \n",
    "#!pip install folium\n",
    "import folium"
   ]
  },
  {
   "cell_type": "code",
   "execution_count": 42,
   "metadata": {},
   "outputs": [
    {
     "data": {
      "text/html": [
       "<div>\n",
       "<style scoped>\n",
       "    .dataframe tbody tr th:only-of-type {\n",
       "        vertical-align: middle;\n",
       "    }\n",
       "\n",
       "    .dataframe tbody tr th {\n",
       "        vertical-align: top;\n",
       "    }\n",
       "\n",
       "    .dataframe thead th {\n",
       "        text-align: right;\n",
       "    }\n",
       "</style>\n",
       "<table border=\"1\" class=\"dataframe\">\n",
       "  <thead>\n",
       "    <tr style=\"text-align: right;\">\n",
       "      <th></th>\n",
       "      <th>userid</th>\n",
       "      <th>score</th>\n",
       "      <th>City</th>\n",
       "      <th>Gender</th>\n",
       "      <th>Age</th>\n",
       "      <th>Objects</th>\n",
       "      <th>Balance</th>\n",
       "      <th>Products</th>\n",
       "      <th>CreditCard</th>\n",
       "      <th>Loyalty</th>\n",
       "      <th>estimated_salary</th>\n",
       "      <th>Churn</th>\n",
       "    </tr>\n",
       "  </thead>\n",
       "  <tbody>\n",
       "    <tr>\n",
       "      <th>0</th>\n",
       "      <td>15677338</td>\n",
       "      <td>619</td>\n",
       "      <td>Ярославль</td>\n",
       "      <td>Ж</td>\n",
       "      <td>42</td>\n",
       "      <td>2</td>\n",
       "      <td>NaN</td>\n",
       "      <td>1</td>\n",
       "      <td>1</td>\n",
       "      <td>1</td>\n",
       "      <td>101348.88</td>\n",
       "      <td>1</td>\n",
       "    </tr>\n",
       "    <tr>\n",
       "      <th>1</th>\n",
       "      <td>15690047</td>\n",
       "      <td>608</td>\n",
       "      <td>Рыбинск</td>\n",
       "      <td>Ж</td>\n",
       "      <td>41</td>\n",
       "      <td>1</td>\n",
       "      <td>83807.86</td>\n",
       "      <td>1</td>\n",
       "      <td>0</td>\n",
       "      <td>1</td>\n",
       "      <td>112542.58</td>\n",
       "      <td>0</td>\n",
       "    </tr>\n",
       "    <tr>\n",
       "      <th>2</th>\n",
       "      <td>15662040</td>\n",
       "      <td>502</td>\n",
       "      <td>Ярославль</td>\n",
       "      <td>Ж</td>\n",
       "      <td>42</td>\n",
       "      <td>8</td>\n",
       "      <td>159660.80</td>\n",
       "      <td>3</td>\n",
       "      <td>1</td>\n",
       "      <td>0</td>\n",
       "      <td>113931.57</td>\n",
       "      <td>1</td>\n",
       "    </tr>\n",
       "    <tr>\n",
       "      <th>3</th>\n",
       "      <td>15744090</td>\n",
       "      <td>699</td>\n",
       "      <td>Ярославль</td>\n",
       "      <td>Ж</td>\n",
       "      <td>39</td>\n",
       "      <td>1</td>\n",
       "      <td>NaN</td>\n",
       "      <td>2</td>\n",
       "      <td>0</td>\n",
       "      <td>0</td>\n",
       "      <td>93826.63</td>\n",
       "      <td>0</td>\n",
       "    </tr>\n",
       "    <tr>\n",
       "      <th>4</th>\n",
       "      <td>15780624</td>\n",
       "      <td>850</td>\n",
       "      <td>Рыбинск</td>\n",
       "      <td>Ж</td>\n",
       "      <td>43</td>\n",
       "      <td>2</td>\n",
       "      <td>125510.82</td>\n",
       "      <td>1</td>\n",
       "      <td>1</td>\n",
       "      <td>1</td>\n",
       "      <td>79084.10</td>\n",
       "      <td>0</td>\n",
       "    </tr>\n",
       "    <tr>\n",
       "      <th>5</th>\n",
       "      <td>15616748</td>\n",
       "      <td>645</td>\n",
       "      <td>Рыбинск</td>\n",
       "      <td>М</td>\n",
       "      <td>44</td>\n",
       "      <td>8</td>\n",
       "      <td>113755.78</td>\n",
       "      <td>2</td>\n",
       "      <td>1</td>\n",
       "      <td>0</td>\n",
       "      <td>149756.71</td>\n",
       "      <td>1</td>\n",
       "    </tr>\n",
       "    <tr>\n",
       "      <th>6</th>\n",
       "      <td>15635267</td>\n",
       "      <td>822</td>\n",
       "      <td>Ярославль</td>\n",
       "      <td>М</td>\n",
       "      <td>50</td>\n",
       "      <td>7</td>\n",
       "      <td>NaN</td>\n",
       "      <td>2</td>\n",
       "      <td>1</td>\n",
       "      <td>1</td>\n",
       "      <td>10062.80</td>\n",
       "      <td>0</td>\n",
       "    </tr>\n",
       "    <tr>\n",
       "      <th>7</th>\n",
       "      <td>15698884</td>\n",
       "      <td>376</td>\n",
       "      <td>Ростов Великий</td>\n",
       "      <td>Ж</td>\n",
       "      <td>29</td>\n",
       "      <td>4</td>\n",
       "      <td>115046.74</td>\n",
       "      <td>4</td>\n",
       "      <td>1</td>\n",
       "      <td>0</td>\n",
       "      <td>119346.88</td>\n",
       "      <td>1</td>\n",
       "    </tr>\n",
       "    <tr>\n",
       "      <th>8</th>\n",
       "      <td>15835101</td>\n",
       "      <td>501</td>\n",
       "      <td>Ярославль</td>\n",
       "      <td>М</td>\n",
       "      <td>44</td>\n",
       "      <td>4</td>\n",
       "      <td>142051.07</td>\n",
       "      <td>2</td>\n",
       "      <td>0</td>\n",
       "      <td>1</td>\n",
       "      <td>74940.50</td>\n",
       "      <td>0</td>\n",
       "    </tr>\n",
       "    <tr>\n",
       "      <th>9</th>\n",
       "      <td>15635125</td>\n",
       "      <td>684</td>\n",
       "      <td>Ярославль</td>\n",
       "      <td>М</td>\n",
       "      <td>27</td>\n",
       "      <td>2</td>\n",
       "      <td>134603.88</td>\n",
       "      <td>1</td>\n",
       "      <td>1</td>\n",
       "      <td>1</td>\n",
       "      <td>71725.73</td>\n",
       "      <td>0</td>\n",
       "    </tr>\n",
       "  </tbody>\n",
       "</table>\n",
       "</div>"
      ],
      "text/plain": [
       "     userid  score            City Gender  Age  Objects    Balance  Products  \\\n",
       "0  15677338    619       Ярославль      Ж   42        2        NaN         1   \n",
       "1  15690047    608         Рыбинск      Ж   41        1   83807.86         1   \n",
       "2  15662040    502       Ярославль      Ж   42        8  159660.80         3   \n",
       "3  15744090    699       Ярославль      Ж   39        1        NaN         2   \n",
       "4  15780624    850         Рыбинск      Ж   43        2  125510.82         1   \n",
       "5  15616748    645         Рыбинск      М   44        8  113755.78         2   \n",
       "6  15635267    822       Ярославль      М   50        7        NaN         2   \n",
       "7  15698884    376  Ростов Великий      Ж   29        4  115046.74         4   \n",
       "8  15835101    501       Ярославль      М   44        4  142051.07         2   \n",
       "9  15635125    684       Ярославль      М   27        2  134603.88         1   \n",
       "\n",
       "   CreditCard  Loyalty  estimated_salary  Churn  \n",
       "0           1        1         101348.88      1  \n",
       "1           0        1         112542.58      0  \n",
       "2           1        0         113931.57      1  \n",
       "3           0        0          93826.63      0  \n",
       "4           1        1          79084.10      0  \n",
       "5           1        0         149756.71      1  \n",
       "6           1        1          10062.80      0  \n",
       "7           1        0         119346.88      1  \n",
       "8           0        1          74940.50      0  \n",
       "9           1        1          71725.73      0  "
      ]
     },
     "execution_count": 42,
     "metadata": {},
     "output_type": "execute_result"
    }
   ],
   "source": [
    "# Откроем файл с данными\n",
    "df=pd.read_csv('/datasets/bank_dataset.csv')\n",
    "df.head(10)"
   ]
  },
  {
   "cell_type": "code",
   "execution_count": 43,
   "metadata": {},
   "outputs": [
    {
     "name": "stdout",
     "output_type": "stream",
     "text": [
      "<class 'pandas.core.frame.DataFrame'>\n",
      "RangeIndex: 10000 entries, 0 to 9999\n",
      "Data columns (total 12 columns):\n",
      " #   Column            Non-Null Count  Dtype  \n",
      "---  ------            --------------  -----  \n",
      " 0   userid            10000 non-null  int64  \n",
      " 1   score             10000 non-null  int64  \n",
      " 2   City              10000 non-null  object \n",
      " 3   Gender            10000 non-null  object \n",
      " 4   Age               10000 non-null  int64  \n",
      " 5   Objects           10000 non-null  int64  \n",
      " 6   Balance           6383 non-null   float64\n",
      " 7   Products          10000 non-null  int64  \n",
      " 8   CreditCard        10000 non-null  int64  \n",
      " 9   Loyalty           10000 non-null  int64  \n",
      " 10  estimated_salary  10000 non-null  float64\n",
      " 11  Churn             10000 non-null  int64  \n",
      "dtypes: float64(2), int64(8), object(2)\n",
      "memory usage: 937.6+ KB\n"
     ]
    }
   ],
   "source": [
    "#Посмотрим информацию о таблице\n",
    "df.info()"
   ]
  },
  {
   "cell_type": "markdown",
   "metadata": {},
   "source": [
    "### Вывод"
   ]
  },
  {
   "cell_type": "markdown",
   "metadata": {},
   "source": [
    "Нам предстоит:\n",
    "- Привести к нижнему регистру названий слобцов и заменить userid на user_id и сreditсard на сredit_сard  \n",
    "- Заменить на числовое обозначение в столбце city и gender, в таком виде их анализировать будет проще.\n",
    "- выяснить от куда появились пропуски и как обработать пропущенные данные в столбце balance  "
   ]
  },
  {
   "cell_type": "markdown",
   "metadata": {},
   "source": [
    "## Предобработка данных"
   ]
  },
  {
   "cell_type": "markdown",
   "metadata": {},
   "source": [
    "### Изменим регистр "
   ]
  },
  {
   "cell_type": "code",
   "execution_count": 44,
   "metadata": {},
   "outputs": [
    {
     "data": {
      "text/html": [
       "<div>\n",
       "<style scoped>\n",
       "    .dataframe tbody tr th:only-of-type {\n",
       "        vertical-align: middle;\n",
       "    }\n",
       "\n",
       "    .dataframe tbody tr th {\n",
       "        vertical-align: top;\n",
       "    }\n",
       "\n",
       "    .dataframe thead th {\n",
       "        text-align: right;\n",
       "    }\n",
       "</style>\n",
       "<table border=\"1\" class=\"dataframe\">\n",
       "  <thead>\n",
       "    <tr style=\"text-align: right;\">\n",
       "      <th></th>\n",
       "      <th>user_id</th>\n",
       "      <th>score</th>\n",
       "      <th>city</th>\n",
       "      <th>gender</th>\n",
       "      <th>age</th>\n",
       "      <th>objects</th>\n",
       "      <th>balance</th>\n",
       "      <th>products</th>\n",
       "      <th>credit_card</th>\n",
       "      <th>loyalty</th>\n",
       "      <th>estimated_salary</th>\n",
       "      <th>churn</th>\n",
       "    </tr>\n",
       "  </thead>\n",
       "  <tbody>\n",
       "    <tr>\n",
       "      <th>0</th>\n",
       "      <td>15677338</td>\n",
       "      <td>619</td>\n",
       "      <td>Ярославль</td>\n",
       "      <td>Ж</td>\n",
       "      <td>42</td>\n",
       "      <td>2</td>\n",
       "      <td>NaN</td>\n",
       "      <td>1</td>\n",
       "      <td>1</td>\n",
       "      <td>1</td>\n",
       "      <td>101348.88</td>\n",
       "      <td>1</td>\n",
       "    </tr>\n",
       "    <tr>\n",
       "      <th>1</th>\n",
       "      <td>15690047</td>\n",
       "      <td>608</td>\n",
       "      <td>Рыбинск</td>\n",
       "      <td>Ж</td>\n",
       "      <td>41</td>\n",
       "      <td>1</td>\n",
       "      <td>83807.86</td>\n",
       "      <td>1</td>\n",
       "      <td>0</td>\n",
       "      <td>1</td>\n",
       "      <td>112542.58</td>\n",
       "      <td>0</td>\n",
       "    </tr>\n",
       "    <tr>\n",
       "      <th>2</th>\n",
       "      <td>15662040</td>\n",
       "      <td>502</td>\n",
       "      <td>Ярославль</td>\n",
       "      <td>Ж</td>\n",
       "      <td>42</td>\n",
       "      <td>8</td>\n",
       "      <td>159660.80</td>\n",
       "      <td>3</td>\n",
       "      <td>1</td>\n",
       "      <td>0</td>\n",
       "      <td>113931.57</td>\n",
       "      <td>1</td>\n",
       "    </tr>\n",
       "    <tr>\n",
       "      <th>3</th>\n",
       "      <td>15744090</td>\n",
       "      <td>699</td>\n",
       "      <td>Ярославль</td>\n",
       "      <td>Ж</td>\n",
       "      <td>39</td>\n",
       "      <td>1</td>\n",
       "      <td>NaN</td>\n",
       "      <td>2</td>\n",
       "      <td>0</td>\n",
       "      <td>0</td>\n",
       "      <td>93826.63</td>\n",
       "      <td>0</td>\n",
       "    </tr>\n",
       "    <tr>\n",
       "      <th>4</th>\n",
       "      <td>15780624</td>\n",
       "      <td>850</td>\n",
       "      <td>Рыбинск</td>\n",
       "      <td>Ж</td>\n",
       "      <td>43</td>\n",
       "      <td>2</td>\n",
       "      <td>125510.82</td>\n",
       "      <td>1</td>\n",
       "      <td>1</td>\n",
       "      <td>1</td>\n",
       "      <td>79084.10</td>\n",
       "      <td>0</td>\n",
       "    </tr>\n",
       "  </tbody>\n",
       "</table>\n",
       "</div>"
      ],
      "text/plain": [
       "    user_id  score       city gender  age  objects    balance  products  \\\n",
       "0  15677338    619  Ярославль      Ж   42        2        NaN         1   \n",
       "1  15690047    608    Рыбинск      Ж   41        1   83807.86         1   \n",
       "2  15662040    502  Ярославль      Ж   42        8  159660.80         3   \n",
       "3  15744090    699  Ярославль      Ж   39        1        NaN         2   \n",
       "4  15780624    850    Рыбинск      Ж   43        2  125510.82         1   \n",
       "\n",
       "   credit_card  loyalty  estimated_salary  churn  \n",
       "0            1        1         101348.88      1  \n",
       "1            0        1         112542.58      0  \n",
       "2            1        0         113931.57      1  \n",
       "3            0        0          93826.63      0  \n",
       "4            1        1          79084.10      0  "
      ]
     },
     "execution_count": 44,
     "metadata": {},
     "output_type": "execute_result"
    }
   ],
   "source": [
    "df.columns = df.columns.str.lower()\n",
    "df = df.rename(columns={'userid' : 'user_id', 'creditcard' : 'credit_card'})\n",
    "df.head(5)"
   ]
  },
  {
   "cell_type": "markdown",
   "metadata": {},
   "source": [
    "### Проверить дубликаты"
   ]
  },
  {
   "cell_type": "code",
   "execution_count": 45,
   "metadata": {},
   "outputs": [
    {
     "data": {
      "text/plain": [
       "0"
      ]
     },
     "execution_count": 45,
     "metadata": {},
     "output_type": "execute_result"
    }
   ],
   "source": [
    "df.duplicated().sum()"
   ]
  },
  {
   "cell_type": "markdown",
   "metadata": {},
   "source": [
    "Дубликаты не выявлены"
   ]
  },
  {
   "cell_type": "markdown",
   "metadata": {},
   "source": [
    "### Заменить на числовое обозначение в столбце city и gender "
   ]
  },
  {
   "cell_type": "code",
   "execution_count": 46,
   "metadata": {},
   "outputs": [
    {
     "data": {
      "text/html": [
       "<div>\n",
       "<style scoped>\n",
       "    .dataframe tbody tr th:only-of-type {\n",
       "        vertical-align: middle;\n",
       "    }\n",
       "\n",
       "    .dataframe tbody tr th {\n",
       "        vertical-align: top;\n",
       "    }\n",
       "\n",
       "    .dataframe thead th {\n",
       "        text-align: right;\n",
       "    }\n",
       "</style>\n",
       "<table border=\"1\" class=\"dataframe\">\n",
       "  <thead>\n",
       "    <tr style=\"text-align: right;\">\n",
       "      <th></th>\n",
       "      <th>user_id</th>\n",
       "      <th>score</th>\n",
       "      <th>city</th>\n",
       "      <th>gender</th>\n",
       "      <th>age</th>\n",
       "      <th>objects</th>\n",
       "      <th>balance</th>\n",
       "      <th>products</th>\n",
       "      <th>credit_card</th>\n",
       "      <th>loyalty</th>\n",
       "      <th>estimated_salary</th>\n",
       "      <th>churn</th>\n",
       "    </tr>\n",
       "  </thead>\n",
       "  <tbody>\n",
       "    <tr>\n",
       "      <th>0</th>\n",
       "      <td>15677338</td>\n",
       "      <td>619</td>\n",
       "      <td>0</td>\n",
       "      <td>1</td>\n",
       "      <td>42</td>\n",
       "      <td>2</td>\n",
       "      <td>NaN</td>\n",
       "      <td>1</td>\n",
       "      <td>1</td>\n",
       "      <td>1</td>\n",
       "      <td>101348.88</td>\n",
       "      <td>1</td>\n",
       "    </tr>\n",
       "    <tr>\n",
       "      <th>1</th>\n",
       "      <td>15690047</td>\n",
       "      <td>608</td>\n",
       "      <td>2</td>\n",
       "      <td>1</td>\n",
       "      <td>41</td>\n",
       "      <td>1</td>\n",
       "      <td>83807.86</td>\n",
       "      <td>1</td>\n",
       "      <td>0</td>\n",
       "      <td>1</td>\n",
       "      <td>112542.58</td>\n",
       "      <td>0</td>\n",
       "    </tr>\n",
       "    <tr>\n",
       "      <th>2</th>\n",
       "      <td>15662040</td>\n",
       "      <td>502</td>\n",
       "      <td>0</td>\n",
       "      <td>1</td>\n",
       "      <td>42</td>\n",
       "      <td>8</td>\n",
       "      <td>159660.80</td>\n",
       "      <td>3</td>\n",
       "      <td>1</td>\n",
       "      <td>0</td>\n",
       "      <td>113931.57</td>\n",
       "      <td>1</td>\n",
       "    </tr>\n",
       "    <tr>\n",
       "      <th>3</th>\n",
       "      <td>15744090</td>\n",
       "      <td>699</td>\n",
       "      <td>0</td>\n",
       "      <td>1</td>\n",
       "      <td>39</td>\n",
       "      <td>1</td>\n",
       "      <td>NaN</td>\n",
       "      <td>2</td>\n",
       "      <td>0</td>\n",
       "      <td>0</td>\n",
       "      <td>93826.63</td>\n",
       "      <td>0</td>\n",
       "    </tr>\n",
       "    <tr>\n",
       "      <th>4</th>\n",
       "      <td>15780624</td>\n",
       "      <td>850</td>\n",
       "      <td>2</td>\n",
       "      <td>1</td>\n",
       "      <td>43</td>\n",
       "      <td>2</td>\n",
       "      <td>125510.82</td>\n",
       "      <td>1</td>\n",
       "      <td>1</td>\n",
       "      <td>1</td>\n",
       "      <td>79084.10</td>\n",
       "      <td>0</td>\n",
       "    </tr>\n",
       "    <tr>\n",
       "      <th>5</th>\n",
       "      <td>15616748</td>\n",
       "      <td>645</td>\n",
       "      <td>2</td>\n",
       "      <td>0</td>\n",
       "      <td>44</td>\n",
       "      <td>8</td>\n",
       "      <td>113755.78</td>\n",
       "      <td>2</td>\n",
       "      <td>1</td>\n",
       "      <td>0</td>\n",
       "      <td>149756.71</td>\n",
       "      <td>1</td>\n",
       "    </tr>\n",
       "    <tr>\n",
       "      <th>6</th>\n",
       "      <td>15635267</td>\n",
       "      <td>822</td>\n",
       "      <td>0</td>\n",
       "      <td>0</td>\n",
       "      <td>50</td>\n",
       "      <td>7</td>\n",
       "      <td>NaN</td>\n",
       "      <td>2</td>\n",
       "      <td>1</td>\n",
       "      <td>1</td>\n",
       "      <td>10062.80</td>\n",
       "      <td>0</td>\n",
       "    </tr>\n",
       "    <tr>\n",
       "      <th>7</th>\n",
       "      <td>15698884</td>\n",
       "      <td>376</td>\n",
       "      <td>1</td>\n",
       "      <td>1</td>\n",
       "      <td>29</td>\n",
       "      <td>4</td>\n",
       "      <td>115046.74</td>\n",
       "      <td>4</td>\n",
       "      <td>1</td>\n",
       "      <td>0</td>\n",
       "      <td>119346.88</td>\n",
       "      <td>1</td>\n",
       "    </tr>\n",
       "    <tr>\n",
       "      <th>8</th>\n",
       "      <td>15835101</td>\n",
       "      <td>501</td>\n",
       "      <td>0</td>\n",
       "      <td>0</td>\n",
       "      <td>44</td>\n",
       "      <td>4</td>\n",
       "      <td>142051.07</td>\n",
       "      <td>2</td>\n",
       "      <td>0</td>\n",
       "      <td>1</td>\n",
       "      <td>74940.50</td>\n",
       "      <td>0</td>\n",
       "    </tr>\n",
       "    <tr>\n",
       "      <th>9</th>\n",
       "      <td>15635125</td>\n",
       "      <td>684</td>\n",
       "      <td>0</td>\n",
       "      <td>0</td>\n",
       "      <td>27</td>\n",
       "      <td>2</td>\n",
       "      <td>134603.88</td>\n",
       "      <td>1</td>\n",
       "      <td>1</td>\n",
       "      <td>1</td>\n",
       "      <td>71725.73</td>\n",
       "      <td>0</td>\n",
       "    </tr>\n",
       "    <tr>\n",
       "      <th>10</th>\n",
       "      <td>15810557</td>\n",
       "      <td>528</td>\n",
       "      <td>0</td>\n",
       "      <td>0</td>\n",
       "      <td>31</td>\n",
       "      <td>6</td>\n",
       "      <td>102016.72</td>\n",
       "      <td>2</td>\n",
       "      <td>0</td>\n",
       "      <td>0</td>\n",
       "      <td>80181.12</td>\n",
       "      <td>0</td>\n",
       "    </tr>\n",
       "    <tr>\n",
       "      <th>11</th>\n",
       "      <td>15779909</td>\n",
       "      <td>497</td>\n",
       "      <td>2</td>\n",
       "      <td>0</td>\n",
       "      <td>24</td>\n",
       "      <td>3</td>\n",
       "      <td>NaN</td>\n",
       "      <td>2</td>\n",
       "      <td>1</td>\n",
       "      <td>0</td>\n",
       "      <td>76390.01</td>\n",
       "      <td>0</td>\n",
       "    </tr>\n",
       "    <tr>\n",
       "      <th>12</th>\n",
       "      <td>15675000</td>\n",
       "      <td>476</td>\n",
       "      <td>0</td>\n",
       "      <td>1</td>\n",
       "      <td>34</td>\n",
       "      <td>10</td>\n",
       "      <td>NaN</td>\n",
       "      <td>2</td>\n",
       "      <td>1</td>\n",
       "      <td>0</td>\n",
       "      <td>26260.98</td>\n",
       "      <td>0</td>\n",
       "    </tr>\n",
       "    <tr>\n",
       "      <th>13</th>\n",
       "      <td>15734219</td>\n",
       "      <td>549</td>\n",
       "      <td>0</td>\n",
       "      <td>1</td>\n",
       "      <td>25</td>\n",
       "      <td>5</td>\n",
       "      <td>NaN</td>\n",
       "      <td>2</td>\n",
       "      <td>0</td>\n",
       "      <td>0</td>\n",
       "      <td>190857.79</td>\n",
       "      <td>0</td>\n",
       "    </tr>\n",
       "    <tr>\n",
       "      <th>14</th>\n",
       "      <td>15643618</td>\n",
       "      <td>635</td>\n",
       "      <td>2</td>\n",
       "      <td>1</td>\n",
       "      <td>35</td>\n",
       "      <td>7</td>\n",
       "      <td>NaN</td>\n",
       "      <td>2</td>\n",
       "      <td>1</td>\n",
       "      <td>1</td>\n",
       "      <td>65951.65</td>\n",
       "      <td>0</td>\n",
       "    </tr>\n",
       "    <tr>\n",
       "      <th>15</th>\n",
       "      <td>15686702</td>\n",
       "      <td>616</td>\n",
       "      <td>1</td>\n",
       "      <td>0</td>\n",
       "      <td>45</td>\n",
       "      <td>3</td>\n",
       "      <td>143129.41</td>\n",
       "      <td>2</td>\n",
       "      <td>0</td>\n",
       "      <td>1</td>\n",
       "      <td>64327.26</td>\n",
       "      <td>0</td>\n",
       "    </tr>\n",
       "    <tr>\n",
       "      <th>16</th>\n",
       "      <td>15780188</td>\n",
       "      <td>653</td>\n",
       "      <td>1</td>\n",
       "      <td>0</td>\n",
       "      <td>58</td>\n",
       "      <td>1</td>\n",
       "      <td>132602.88</td>\n",
       "      <td>1</td>\n",
       "      <td>1</td>\n",
       "      <td>0</td>\n",
       "      <td>5097.67</td>\n",
       "      <td>1</td>\n",
       "    </tr>\n",
       "    <tr>\n",
       "      <th>17</th>\n",
       "      <td>15830954</td>\n",
       "      <td>549</td>\n",
       "      <td>2</td>\n",
       "      <td>1</td>\n",
       "      <td>24</td>\n",
       "      <td>9</td>\n",
       "      <td>NaN</td>\n",
       "      <td>2</td>\n",
       "      <td>1</td>\n",
       "      <td>1</td>\n",
       "      <td>14406.41</td>\n",
       "      <td>0</td>\n",
       "    </tr>\n",
       "    <tr>\n",
       "      <th>18</th>\n",
       "      <td>15704243</td>\n",
       "      <td>587</td>\n",
       "      <td>2</td>\n",
       "      <td>0</td>\n",
       "      <td>45</td>\n",
       "      <td>6</td>\n",
       "      <td>NaN</td>\n",
       "      <td>1</td>\n",
       "      <td>0</td>\n",
       "      <td>0</td>\n",
       "      <td>158684.81</td>\n",
       "      <td>0</td>\n",
       "    </tr>\n",
       "    <tr>\n",
       "      <th>19</th>\n",
       "      <td>15611718</td>\n",
       "      <td>726</td>\n",
       "      <td>0</td>\n",
       "      <td>1</td>\n",
       "      <td>24</td>\n",
       "      <td>6</td>\n",
       "      <td>NaN</td>\n",
       "      <td>2</td>\n",
       "      <td>1</td>\n",
       "      <td>1</td>\n",
       "      <td>54724.03</td>\n",
       "      <td>0</td>\n",
       "    </tr>\n",
       "  </tbody>\n",
       "</table>\n",
       "</div>"
      ],
      "text/plain": [
       "     user_id  score  city  gender  age  objects    balance  products  \\\n",
       "0   15677338    619     0       1   42        2        NaN         1   \n",
       "1   15690047    608     2       1   41        1   83807.86         1   \n",
       "2   15662040    502     0       1   42        8  159660.80         3   \n",
       "3   15744090    699     0       1   39        1        NaN         2   \n",
       "4   15780624    850     2       1   43        2  125510.82         1   \n",
       "5   15616748    645     2       0   44        8  113755.78         2   \n",
       "6   15635267    822     0       0   50        7        NaN         2   \n",
       "7   15698884    376     1       1   29        4  115046.74         4   \n",
       "8   15835101    501     0       0   44        4  142051.07         2   \n",
       "9   15635125    684     0       0   27        2  134603.88         1   \n",
       "10  15810557    528     0       0   31        6  102016.72         2   \n",
       "11  15779909    497     2       0   24        3        NaN         2   \n",
       "12  15675000    476     0       1   34       10        NaN         2   \n",
       "13  15734219    549     0       1   25        5        NaN         2   \n",
       "14  15643618    635     2       1   35        7        NaN         2   \n",
       "15  15686702    616     1       0   45        3  143129.41         2   \n",
       "16  15780188    653     1       0   58        1  132602.88         1   \n",
       "17  15830954    549     2       1   24        9        NaN         2   \n",
       "18  15704243    587     2       0   45        6        NaN         1   \n",
       "19  15611718    726     0       1   24        6        NaN         2   \n",
       "\n",
       "    credit_card  loyalty  estimated_salary  churn  \n",
       "0             1        1         101348.88      1  \n",
       "1             0        1         112542.58      0  \n",
       "2             1        0         113931.57      1  \n",
       "3             0        0          93826.63      0  \n",
       "4             1        1          79084.10      0  \n",
       "5             1        0         149756.71      1  \n",
       "6             1        1          10062.80      0  \n",
       "7             1        0         119346.88      1  \n",
       "8             0        1          74940.50      0  \n",
       "9             1        1          71725.73      0  \n",
       "10            0        0          80181.12      0  \n",
       "11            1        0          76390.01      0  \n",
       "12            1        0          26260.98      0  \n",
       "13            0        0         190857.79      0  \n",
       "14            1        1          65951.65      0  \n",
       "15            0        1          64327.26      0  \n",
       "16            1        0           5097.67      1  \n",
       "17            1        1          14406.41      0  \n",
       "18            0        0         158684.81      0  \n",
       "19            1        1          54724.03      0  "
      ]
     },
     "execution_count": 46,
     "metadata": {},
     "output_type": "execute_result"
    }
   ],
   "source": [
    "# закодируем столбец city с помощью числовых значений Ярославль - 0, Ростов Великий - 1 и Рыбинск - 2.\n",
    "map_dict = {'Ярославль' : 0, 'Ростов Великий' : 1, 'Рыбинск' : 2}\n",
    "df['city'] = df['city'].map(map_dict)\n",
    "\n",
    "# закодируем столбец gender с помощью числовых значений M - 0, Ж - 1.\n",
    "map_dict = {'М' : 0, 'Ж' : 1}\n",
    "df['gender'] = df['gender'].map(map_dict)\n",
    "\n",
    "# посмотрим на результат\n",
    "df.head(20)"
   ]
  },
  {
   "cell_type": "markdown",
   "metadata": {},
   "source": [
    "### Проверить пропуски, узнать их причину и обрабтать."
   ]
  },
  {
   "cell_type": "code",
   "execution_count": 47,
   "metadata": {},
   "outputs": [
    {
     "data": {
      "text/plain": [
       "user_id                0\n",
       "score                  0\n",
       "city                   0\n",
       "gender                 0\n",
       "age                    0\n",
       "objects                0\n",
       "balance             3617\n",
       "products               0\n",
       "credit_card            0\n",
       "loyalty                0\n",
       "estimated_salary       0\n",
       "churn                  0\n",
       "dtype: int64"
      ]
     },
     "execution_count": 47,
     "metadata": {},
     "output_type": "execute_result"
    }
   ],
   "source": [
    "df.isna().sum()\n"
   ]
  },
  {
   "cell_type": "code",
   "execution_count": 48,
   "metadata": {},
   "outputs": [
    {
     "data": {
      "text/plain": [
       "user_id              0.00\n",
       "score                0.00\n",
       "city                 0.00\n",
       "gender               0.00\n",
       "age                  0.00\n",
       "objects              0.00\n",
       "balance             36.17\n",
       "products             0.00\n",
       "credit_card          0.00\n",
       "loyalty              0.00\n",
       "estimated_salary     0.00\n",
       "churn                0.00\n",
       "dtype: float64"
      ]
     },
     "execution_count": 48,
     "metadata": {},
     "output_type": "execute_result"
    }
   ],
   "source": [
    "# Проверим количество пропусков в поцентном виде\n",
    "(df.isna().sum() / len(df)).round(4) * 100"
   ]
  },
  {
   "cell_type": "code",
   "execution_count": 49,
   "metadata": {},
   "outputs": [
    {
     "data": {
      "text/plain": [
       "city\n",
       "0    2418\n",
       "2    1199\n",
       "Name: user_id, dtype: int64"
      ]
     },
     "execution_count": 49,
     "metadata": {},
     "output_type": "execute_result"
    }
   ],
   "source": [
    "df['balance'] = df['balance'].fillna('0').astype('float')\n",
    "a = df.query('balance == 0')\n",
    "a.groupby('city')['user_id'].count()"
   ]
  },
  {
   "cell_type": "markdown",
   "metadata": {},
   "source": [
    "Получилось что пропущенные значени у нас в 2-х городах это Ярославль(0) - 2418, а в Рыбенске(2) - 1199 "
   ]
  },
  {
   "cell_type": "code",
   "execution_count": 50,
   "metadata": {},
   "outputs": [],
   "source": [
    "#sns.barplot(x='city', y='balance', data=df);"
   ]
  },
  {
   "cell_type": "code",
   "execution_count": 51,
   "metadata": {},
   "outputs": [],
   "source": [
    "#df.groupby('city')['balance'].agg('median')"
   ]
  },
  {
   "cell_type": "markdown",
   "metadata": {},
   "source": [
    "Взаимосвязь balance по городам не сильно отличается"
   ]
  },
  {
   "cell_type": "markdown",
   "metadata": {},
   "source": [
    "Произведем заполнение пропусков медианами. Для этого выделим медианный баланс пользователя по городу, полу, возрасту, количество продуктов, которыми пользуется клиент и ушёл или нет. Заполнение таким способом не повлияет сильно по распределению баланса и средних. "
   ]
  },
  {
   "cell_type": "code",
   "execution_count": 52,
   "metadata": {},
   "outputs": [],
   "source": [
    "medians=(df.groupby(['city','gender','age','products', 'churn'],as_index=False).agg({'balance':'median'})).rename(columns={'balance':'m_balance'})\n",
    "df=df.merge(medians, on=['city','gender','age','products', 'churn'])\n",
    "df.loc[df['balance'].isna(), 'balance']=df.loc[df['balance'].isna(), 'm_balance']\n",
    "df=df.drop('m_balance', axis=1)"
   ]
  },
  {
   "cell_type": "code",
   "execution_count": 53,
   "metadata": {},
   "outputs": [
    {
     "name": "stdout",
     "output_type": "stream",
     "text": [
      "Количество пропущенных значений после заполнения: 0\n"
     ]
    }
   ],
   "source": [
    "print('Количество пропущенных значений после заполнения:',df['balance'].isna().sum())"
   ]
  },
  {
   "cell_type": "markdown",
   "metadata": {},
   "source": [
    "Количество пропущенных значений осталось не так много, поэтому их можно удалить."
   ]
  },
  {
   "cell_type": "code",
   "execution_count": 54,
   "metadata": {},
   "outputs": [],
   "source": [
    "#df=df.dropna()\n",
    "#print('Количество пропущенных значений после удаления:',df['balance'].isna().sum())"
   ]
  },
  {
   "cell_type": "markdown",
   "metadata": {},
   "source": [
    "### Вывод"
   ]
  },
  {
   "cell_type": "markdown",
   "metadata": {},
   "source": [
    "1. Мы заменили на нужный нам регистр\n",
    "2. Проверили дубликаты, дубликаты отсутствуют\n",
    "3. Заменить на числовое обозначение в столбце city и gender, так как нам в таком виде их анализировать будет проще.\n",
    "3. Выявили пропуски и произвели заполнение их медианами. Выделили медианный баланс пользователя по городу, полу, возрасту, количество продуктов, которыми пользуется клиент и ушёл или нет клиент. Заполнение таким способом не повлияет сильно по распределению баланса и средних."
   ]
  },
  {
   "cell_type": "markdown",
   "metadata": {},
   "source": [
    "## Исследователльский анализ данных"
   ]
  },
  {
   "cell_type": "markdown",
   "metadata": {},
   "source": [
    "### Распределение признаков"
   ]
  },
  {
   "cell_type": "markdown",
   "metadata": {},
   "source": [
    "Построим гистограммы распределения каждой величины в разбивке по churn"
   ]
  },
  {
   "cell_type": "code",
   "execution_count": 55,
   "metadata": {},
   "outputs": [],
   "source": [
    "sns.set_theme(style=\"whitegrid\")\n",
    "sns.set_palette(['#6495ed','#ed64b6'])"
   ]
  },
  {
   "cell_type": "code",
   "execution_count": 56,
   "metadata": {},
   "outputs": [],
   "source": [
    "def function_hist(data,column):\n",
    "    sns.displot(data,x=column,hue='churn')\n",
    "    plt.title('Распределение '+name, fontsize=15)\n",
    "    plt.xlabel(name)\n",
    "    plt.ylabel('Распределение')\n",
    "    plt.show()"
   ]
  },
  {
   "cell_type": "code",
   "execution_count": 57,
   "metadata": {
    "scrolled": false
   },
   "outputs": [
    {
     "data": {
      "image/png": "[encoded data removed]",
      "text/plain": [
       "<Figure size 406.6x360 with 1 Axes>"
      ]
     },
     "metadata": {},
     "output_type": "display_data"
    },
    {
     "data": {
      "image/png": "[encoded data removed]",
      "text/plain": [
       "<Figure size 406.6x360 with 1 Axes>"
      ]
     },
     "metadata": {},
     "output_type": "display_data"
    },
    {
     "data": {
      "image/png": "[encoded data removed]",
      "text/plain": [
       "<Figure size 406.6x360 with 1 Axes>"
      ]
     },
     "metadata": {},
     "output_type": "display_data"
    },
    {
     "data": {
      "image/png": "[encoded data removed]",
      "text/plain": [
       "<Figure size 406.6x360 with 1 Axes>"
      ]
     },
     "metadata": {},
     "output_type": "display_data"
    },
    {
     "data": {
      "image/png": "[encoded data removed]",
      "text/plain": [
       "<Figure size 406.6x360 with 1 Axes>"
      ]
     },
     "metadata": {},
     "output_type": "display_data"
    },
    {
     "data": {
      "image/png": "[encoded data removed]",
      "text/plain": [
       "<Figure size 406.6x360 with 1 Axes>"
      ]
     },
     "metadata": {},
     "output_type": "display_data"
    },
    {
     "data": {
      "image/png": "[encoded data removed]",
      "text/plain": [
       "<Figure size 406.6x360 with 1 Axes>"
      ]
     },
     "metadata": {},
     "output_type": "display_data"
    },
    {
     "data": {
      "image/png": "[encoded data removed]",
      "text/plain": [
       "<Figure size 406.6x360 with 1 Axes>"
      ]
     },
     "metadata": {},
     "output_type": "display_data"
    },
    {
     "data": {
      "image/png": "[encoded data removed]",
      "text/plain": [
       "<Figure size 406.6x360 with 1 Axes>"
      ]
     },
     "metadata": {},
     "output_type": "display_data"
    },
    {
     "data": {
      "image/png": "[encoded data removed]",
      "text/plain": [
       "<Figure size 406.6x360 with 1 Axes>"
      ]
     },
     "metadata": {},
     "output_type": "display_data"
    },
    {
     "data": {
      "image/png": "[encoded data removed]",
      "text/plain": [
       "<Figure size 406.6x360 with 1 Axes>"
      ]
     },
     "metadata": {},
     "output_type": "display_data"
    }
   ],
   "source": [
    "for name in df.columns[1::]:\n",
    "    function_hist(df,name)"
   ]
  },
  {
   "cell_type": "markdown",
   "metadata": {
    "scrolled": true
   },
   "source": [
    "В столбцах score, objects, balane и  estimated_salary распределены равномерно.\n",
    "\n",
    "В столбце city выделяется город Ростов Великий, там уходит 50% пользователей\n",
    "\n",
    "В столбце gender мужской пол менее слонны уходить чем женский пол\n",
    "\n",
    "В столбце age начиная с 40 лет начинается резкий спад по остшимся клиентам, а с 50 до 60 лет начинает превышать уход клиентов.\n",
    "\n",
    "В столбце products клиенты с количество 2-х продуктов менее склонны к уходу, в отличее от клиентов с продуктами 3 и 4 только уходили."
   ]
  },
  {
   "cell_type": "markdown",
   "metadata": {},
   "source": [
    "### Построим матрицу корреляции"
   ]
  },
  {
   "cell_type": "code",
   "execution_count": 58,
   "metadata": {},
   "outputs": [],
   "source": [
    "df_0 = df[df['churn'] == 0] # сделаем фильтр тех кто ещё остался\n",
    "df_1 = df[df['churn'] == 1] # и тех кто уже ушёл"
   ]
  },
  {
   "cell_type": "markdown",
   "metadata": {},
   "source": [
    "corr_m = df_0.corr()\n",
    "plt.figure(figsize=(12, 10))\n",
    "sns.heatmap(corr_m, cmap=\"YlGnBu\", annot = True, fmt='.2f', linewidths=1) \n",
    "plt.title('Матрица корреляций тех кто не ушел');\n",
    "\n",
    "corr_m = df_1.corr()\n",
    "plt.figure(figsize=(12, 10))\n",
    "sns.heatmap(corr_m, cmap=\"YlGnBu\", annot = True, fmt='.2f', linewidths=1) \n",
    "plt.title('Матрица корреляций тех кто уже ушел');"
   ]
  },
  {
   "cell_type": "code",
   "execution_count": 59,
   "metadata": {},
   "outputs": [
    {
     "data": {
      "image/png": "[encoded data removed]",
      "text/plain": [
       "<Figure size 864x720 with 2 Axes>"
      ]
     },
     "metadata": {},
     "output_type": "display_data"
    }
   ],
   "source": [
    "# построим матрицу корреляций всех признаков\n",
    "cm=df.corr()\n",
    "sns.set(font_scale=1)\n",
    "plt.figure(figsize=(12,10))\n",
    "sns.heatmap(cm,annot=True,fmt='.2f',vmin=-0.5,annot_kws={\"size\": 13})\n",
    "plt.title('Матрица корреляций всех признаков');"
   ]
  },
  {
   "cell_type": "markdown",
   "metadata": {},
   "source": [
    "Прослеживаются корреляции между возрастом и оттоком 0,31 и лояльность клиента с оттоком - 0.15.\n"
   ]
  },
  {
   "cell_type": "code",
   "execution_count": 60,
   "metadata": {},
   "outputs": [
    {
     "data": {
      "text/html": [
       "<div>\n",
       "<style scoped>\n",
       "    .dataframe tbody tr th:only-of-type {\n",
       "        vertical-align: middle;\n",
       "    }\n",
       "\n",
       "    .dataframe tbody tr th {\n",
       "        vertical-align: top;\n",
       "    }\n",
       "\n",
       "    .dataframe thead th {\n",
       "        text-align: right;\n",
       "    }\n",
       "</style>\n",
       "<table border=\"1\" class=\"dataframe\">\n",
       "  <thead>\n",
       "    <tr style=\"text-align: right;\">\n",
       "      <th></th>\n",
       "      <th>loyalty</th>\n",
       "      <th>total_count</th>\n",
       "    </tr>\n",
       "  </thead>\n",
       "  <tbody>\n",
       "    <tr>\n",
       "      <th>1</th>\n",
       "      <td>1</td>\n",
       "      <td>735</td>\n",
       "    </tr>\n",
       "    <tr>\n",
       "      <th>0</th>\n",
       "      <td>0</td>\n",
       "      <td>1302</td>\n",
       "    </tr>\n",
       "  </tbody>\n",
       "</table>\n",
       "</div>"
      ],
      "text/plain": [
       "   loyalty  total_count\n",
       "1        1          735\n",
       "0        0         1302"
      ]
     },
     "metadata": {},
     "output_type": "display_data"
    }
   ],
   "source": [
    "df_loc_counts = df.loc[df['churn'] == 1].groupby('loyalty')[['loyalty']].count()\n",
    "# переименуем столбец\n",
    "df_loc_counts.columns = ['total_count']\n",
    "df_loc_counts = df_loc_counts.reset_index().sort_values(by='loyalty', ascending=False)\n",
    "display(df_loc_counts)"
   ]
  },
  {
   "cell_type": "code",
   "execution_count": 61,
   "metadata": {},
   "outputs": [
    {
     "data": {
      "application/vnd.plotly.v1+json": {
       "config": {
        "plotlyServerURL": "https://plot.ly"
       },
       "data": [
        {
         "alignmentgroup": "True",
         "hovertemplate": "loyalty=%{x}<br>total_count=%{text}<extra></extra>",
         "legendgroup": "",
         "marker": {
          "color": "#636efa",
          "pattern": {
           "shape": ""
          }
         },
         "name": "",
         "offsetgroup": "",
         "orientation": "v",
         "showlegend": false,
         "text": [
          735,
          1302
         ],
         "textposition": "auto",
         "type": "bar",
         "x": [
          1,
          0
         ],
         "xaxis": "x",
         "y": [
          735,
          1302
         ],
         "yaxis": "y"
        }
       ],
       "layout": {
        "barmode": "relative",
        "legend": {
         "tracegroupgap": 0
        },
        "margin": {
         "t": 60
        },
        "template": {
         "data": {
          "bar": [
           {
            "error_x": {
             "color": "#2a3f5f"
            },
            "error_y": {
             "color": "#2a3f5f"
            },
            "marker": {
             "line": {
              "color": "#E5ECF6",
              "width": 0.5
             },
             "pattern": {
              "fillmode": "overlay",
              "size": 10,
              "solidity": 0.2
             }
            },
            "type": "bar"
           }
          ],
          "barpolar": [
           {
            "marker": {
             "line": {
              "color": "#E5ECF6",
              "width": 0.5
             },
             "pattern": {
              "fillmode": "overlay",
              "size": 10,
              "solidity": 0.2
             }
            },
            "type": "barpolar"
           }
          ],
          "carpet": [
           {
            "aaxis": {
             "endlinecolor": "#2a3f5f",
             "gridcolor": "white",
             "linecolor": "white",
             "minorgridcolor": "white",
             "startlinecolor": "#2a3f5f"
            },
            "baxis": {
             "endlinecolor": "#2a3f5f",
             "gridcolor": "white",
             "linecolor": "white",
             "minorgridcolor": "white",
             "startlinecolor": "#2a3f5f"
            },
            "type": "carpet"
           }
          ],
          "choropleth": [
           {
            "colorbar": {
             "outlinewidth": 0,
             "ticks": ""
            },
            "type": "choropleth"
           }
          ],
          "contour": [
           {
            "colorbar": {
             "outlinewidth": 0,
             "ticks": ""
            },
            "colorscale": [
             [
              0,
              "#0d0887"
             ],
             [
              0.1111111111111111,
              "#46039f"
             ],
             [
              0.2222222222222222,
              "#7201a8"
             ],
             [
              0.3333333333333333,
              "#9c179e"
             ],
             [
              0.4444444444444444,
              "#bd3786"
             ],
             [
              0.5555555555555556,
              "#d8576b"
             ],
             [
              0.6666666666666666,
              "#ed7953"
             ],
             [
              0.7777777777777778,
              "#fb9f3a"
             ],
             [
              0.8888888888888888,
              "#fdca26"
             ],
             [
              1,
              "#f0f921"
             ]
            ],
            "type": "contour"
           }
          ],
          "contourcarpet": [
           {
            "colorbar": {
             "outlinewidth": 0,
             "ticks": ""
            },
            "type": "contourcarpet"
           }
          ],
          "heatmap": [
           {
            "colorbar": {
             "outlinewidth": 0,
             "ticks": ""
            },
            "colorscale": [
             [
              0,
              "#0d0887"
             ],
             [
              0.1111111111111111,
              "#46039f"
             ],
             [
              0.2222222222222222,
              "#7201a8"
             ],
             [
              0.3333333333333333,
              "#9c179e"
             ],
             [
              0.4444444444444444,
              "#bd3786"
             ],
             [
              0.5555555555555556,
              "#d8576b"
             ],
             [
              0.6666666666666666,
              "#ed7953"
             ],
             [
              0.7777777777777778,
              "#fb9f3a"
             ],
             [
              0.8888888888888888,
              "#fdca26"
             ],
             [
              1,
              "#f0f921"
             ]
            ],
            "type": "heatmap"
           }
          ],
          "heatmapgl": [
           {
            "colorbar": {
             "outlinewidth": 0,
             "ticks": ""
            },
            "colorscale": [
             [
              0,
              "#0d0887"
             ],
             [
              0.1111111111111111,
              "#46039f"
             ],
             [
              0.2222222222222222,
              "#7201a8"
             ],
             [
              0.3333333333333333,
              "#9c179e"
             ],
             [
              0.4444444444444444,
              "#bd3786"
             ],
             [
              0.5555555555555556,
              "#d8576b"
             ],
             [
              0.6666666666666666,
              "#ed7953"
             ],
             [
              0.7777777777777778,
              "#fb9f3a"
             ],
             [
              0.8888888888888888,
              "#fdca26"
             ],
             [
              1,
              "#f0f921"
             ]
            ],
            "type": "heatmapgl"
           }
          ],
          "histogram": [
           {
            "marker": {
             "pattern": {
              "fillmode": "overlay",
              "size": 10,
              "solidity": 0.2
             }
            },
            "type": "histogram"
           }
          ],
          "histogram2d": [
           {
            "colorbar": {
             "outlinewidth": 0,
             "ticks": ""
            },
            "colorscale": [
             [
              0,
              "#0d0887"
             ],
             [
              0.1111111111111111,
              "#46039f"
             ],
             [
              0.2222222222222222,
              "#7201a8"
             ],
             [
              0.3333333333333333,
              "#9c179e"
             ],
             [
              0.4444444444444444,
              "#bd3786"
             ],
             [
              0.5555555555555556,
              "#d8576b"
             ],
             [
              0.6666666666666666,
              "#ed7953"
             ],
             [
              0.7777777777777778,
              "#fb9f3a"
             ],
             [
              0.8888888888888888,
              "#fdca26"
             ],
             [
              1,
              "#f0f921"
             ]
            ],
            "type": "histogram2d"
           }
          ],
          "histogram2dcontour": [
           {
            "colorbar": {
             "outlinewidth": 0,
             "ticks": ""
            },
            "colorscale": [
             [
              0,
              "#0d0887"
             ],
             [
              0.1111111111111111,
              "#46039f"
             ],
             [
              0.2222222222222222,
              "#7201a8"
             ],
             [
              0.3333333333333333,
              "#9c179e"
             ],
             [
              0.4444444444444444,
              "#bd3786"
             ],
             [
              0.5555555555555556,
              "#d8576b"
             ],
             [
              0.6666666666666666,
              "#ed7953"
             ],
             [
              0.7777777777777778,
              "#fb9f3a"
             ],
             [
              0.8888888888888888,
              "#fdca26"
             ],
             [
              1,
              "#f0f921"
             ]
            ],
            "type": "histogram2dcontour"
           }
          ],
          "mesh3d": [
           {
            "colorbar": {
             "outlinewidth": 0,
             "ticks": ""
            },
            "type": "mesh3d"
           }
          ],
          "parcoords": [
           {
            "line": {
             "colorbar": {
              "outlinewidth": 0,
              "ticks": ""
             }
            },
            "type": "parcoords"
           }
          ],
          "pie": [
           {
            "automargin": true,
            "type": "pie"
           }
          ],
          "scatter": [
           {
            "marker": {
             "colorbar": {
              "outlinewidth": 0,
              "ticks": ""
             }
            },
            "type": "scatter"
           }
          ],
          "scatter3d": [
           {
            "line": {
             "colorbar": {
              "outlinewidth": 0,
              "ticks": ""
             }
            },
            "marker": {
             "colorbar": {
              "outlinewidth": 0,
              "ticks": ""
             }
            },
            "type": "scatter3d"
           }
          ],
          "scattercarpet": [
           {
            "marker": {
             "colorbar": {
              "outlinewidth": 0,
              "ticks": ""
             }
            },
            "type": "scattercarpet"
           }
          ],
          "scattergeo": [
           {
            "marker": {
             "colorbar": {
              "outlinewidth": 0,
              "ticks": ""
             }
            },
            "type": "scattergeo"
           }
          ],
          "scattergl": [
           {
            "marker": {
             "colorbar": {
              "outlinewidth": 0,
              "ticks": ""
             }
            },
            "type": "scattergl"
           }
          ],
          "scattermapbox": [
           {
            "marker": {
             "colorbar": {
              "outlinewidth": 0,
              "ticks": ""
             }
            },
            "type": "scattermapbox"
           }
          ],
          "scatterpolar": [
           {
            "marker": {
             "colorbar": {
              "outlinewidth": 0,
              "ticks": ""
             }
            },
            "type": "scatterpolar"
           }
          ],
          "scatterpolargl": [
           {
            "marker": {
             "colorbar": {
              "outlinewidth": 0,
              "ticks": ""
             }
            },
            "type": "scatterpolargl"
           }
          ],
          "scatterternary": [
           {
            "marker": {
             "colorbar": {
              "outlinewidth": 0,
              "ticks": ""
             }
            },
            "type": "scatterternary"
           }
          ],
          "surface": [
           {
            "colorbar": {
             "outlinewidth": 0,
             "ticks": ""
            },
            "colorscale": [
             [
              0,
              "#0d0887"
             ],
             [
              0.1111111111111111,
              "#46039f"
             ],
             [
              0.2222222222222222,
              "#7201a8"
             ],
             [
              0.3333333333333333,
              "#9c179e"
             ],
             [
              0.4444444444444444,
              "#bd3786"
             ],
             [
              0.5555555555555556,
              "#d8576b"
             ],
             [
              0.6666666666666666,
              "#ed7953"
             ],
             [
              0.7777777777777778,
              "#fb9f3a"
             ],
             [
              0.8888888888888888,
              "#fdca26"
             ],
             [
              1,
              "#f0f921"
             ]
            ],
            "type": "surface"
           }
          ],
          "table": [
           {
            "cells": {
             "fill": {
              "color": "#EBF0F8"
             },
             "line": {
              "color": "white"
             }
            },
            "header": {
             "fill": {
              "color": "#C8D4E3"
             },
             "line": {
              "color": "white"
             }
            },
            "type": "table"
           }
          ]
         },
         "layout": {
          "annotationdefaults": {
           "arrowcolor": "#2a3f5f",
           "arrowhead": 0,
           "arrowwidth": 1
          },
          "autotypenumbers": "strict",
          "coloraxis": {
           "colorbar": {
            "outlinewidth": 0,
            "ticks": ""
           }
          },
          "colorscale": {
           "diverging": [
            [
             0,
             "#8e0152"
            ],
            [
             0.1,
             "#c51b7d"
            ],
            [
             0.2,
             "#de77ae"
            ],
            [
             0.3,
             "#f1b6da"
            ],
            [
             0.4,
             "#fde0ef"
            ],
            [
             0.5,
             "#f7f7f7"
            ],
            [
             0.6,
             "#e6f5d0"
            ],
            [
             0.7,
             "#b8e186"
            ],
            [
             0.8,
             "#7fbc41"
            ],
            [
             0.9,
             "#4d9221"
            ],
            [
             1,
             "#276419"
            ]
           ],
           "sequential": [
            [
             0,
             "#0d0887"
            ],
            [
             0.1111111111111111,
             "#46039f"
            ],
            [
             0.2222222222222222,
             "#7201a8"
            ],
            [
             0.3333333333333333,
             "#9c179e"
            ],
            [
             0.4444444444444444,
             "#bd3786"
            ],
            [
             0.5555555555555556,
             "#d8576b"
            ],
            [
             0.6666666666666666,
             "#ed7953"
            ],
            [
             0.7777777777777778,
             "#fb9f3a"
            ],
            [
             0.8888888888888888,
             "#fdca26"
            ],
            [
             1,
             "#f0f921"
            ]
           ],
           "sequentialminus": [
            [
             0,
             "#0d0887"
            ],
            [
             0.1111111111111111,
             "#46039f"
            ],
            [
             0.2222222222222222,
             "#7201a8"
            ],
            [
             0.3333333333333333,
             "#9c179e"
            ],
            [
             0.4444444444444444,
             "#bd3786"
            ],
            [
             0.5555555555555556,
             "#d8576b"
            ],
            [
             0.6666666666666666,
             "#ed7953"
            ],
            [
             0.7777777777777778,
             "#fb9f3a"
            ],
            [
             0.8888888888888888,
             "#fdca26"
            ],
            [
             1,
             "#f0f921"
            ]
           ]
          },
          "colorway": [
           "#636efa",
           "#EF553B",
           "#00cc96",
           "#ab63fa",
           "#FFA15A",
           "#19d3f3",
           "#FF6692",
           "#B6E880",
           "#FF97FF",
           "#FECB52"
          ],
          "font": {
           "color": "#2a3f5f"
          },
          "geo": {
           "bgcolor": "white",
           "lakecolor": "white",
           "landcolor": "#E5ECF6",
           "showlakes": true,
           "showland": true,
           "subunitcolor": "white"
          },
          "hoverlabel": {
           "align": "left"
          },
          "hovermode": "closest",
          "mapbox": {
           "style": "light"
          },
          "paper_bgcolor": "white",
          "plot_bgcolor": "#E5ECF6",
          "polar": {
           "angularaxis": {
            "gridcolor": "white",
            "linecolor": "white",
            "ticks": ""
           },
           "bgcolor": "#E5ECF6",
           "radialaxis": {
            "gridcolor": "white",
            "linecolor": "white",
            "ticks": ""
           }
          },
          "scene": {
           "xaxis": {
            "backgroundcolor": "#E5ECF6",
            "gridcolor": "white",
            "gridwidth": 2,
            "linecolor": "white",
            "showbackground": true,
            "ticks": "",
            "zerolinecolor": "white"
           },
           "yaxis": {
            "backgroundcolor": "#E5ECF6",
            "gridcolor": "white",
            "gridwidth": 2,
            "linecolor": "white",
            "showbackground": true,
            "ticks": "",
            "zerolinecolor": "white"
           },
           "zaxis": {
            "backgroundcolor": "#E5ECF6",
            "gridcolor": "white",
            "gridwidth": 2,
            "linecolor": "white",
            "showbackground": true,
            "ticks": "",
            "zerolinecolor": "white"
           }
          },
          "shapedefaults": {
           "line": {
            "color": "#2a3f5f"
           }
          },
          "ternary": {
           "aaxis": {
            "gridcolor": "white",
            "linecolor": "white",
            "ticks": ""
           },
           "baxis": {
            "gridcolor": "white",
            "linecolor": "white",
            "ticks": ""
           },
           "bgcolor": "#E5ECF6",
           "caxis": {
            "gridcolor": "white",
            "linecolor": "white",
            "ticks": ""
           }
          },
          "title": {
           "x": 0.05
          },
          "xaxis": {
           "automargin": true,
           "gridcolor": "white",
           "linecolor": "white",
           "ticks": "",
           "title": {
            "standoff": 15
           },
           "zerolinecolor": "white",
           "zerolinewidth": 2
          },
          "yaxis": {
           "automargin": true,
           "gridcolor": "white",
           "linecolor": "white",
           "ticks": "",
           "title": {
            "standoff": 15
           },
           "zerolinecolor": "white",
           "zerolinewidth": 2
          }
         }
        },
        "title": {
         "text": "Соотношение ушедших по лояльности"
        },
        "xaxis": {
         "anchor": "y",
         "domain": [
          0,
          1
         ],
         "title": {
          "text": "Количество ушедших"
         }
        },
        "yaxis": {
         "anchor": "x",
         "domain": [
          0,
          1
         ],
         "title": {
          "text": "Лояльность"
         }
        }
       }
      },
      "text/html": [
       "<div>                            <div id=\"18030fa6-55a2-4513-adbd-a0f14a6b1496\" class=\"plotly-graph-div\" style=\"height:525px; width:100%;\"></div>            <script type=\"text/javascript\">                require([\"plotly\"], function(Plotly) {                    window.PLOTLYENV=window.PLOTLYENV || {};                                    if (document.getElementById(\"18030fa6-55a2-4513-adbd-a0f14a6b1496\")) {                    Plotly.newPlot(                        \"18030fa6-55a2-4513-adbd-a0f14a6b1496\",                        [{\"alignmentgroup\":\"True\",\"hovertemplate\":\"loyalty=%{x}<br>total_count=%{text}<extra></extra>\",\"legendgroup\":\"\",\"marker\":{\"color\":\"#636efa\",\"pattern\":{\"shape\":\"\"}},\"name\":\"\",\"offsetgroup\":\"\",\"orientation\":\"v\",\"showlegend\":false,\"text\":[735.0,1302.0],\"textposition\":\"auto\",\"x\":[1,0],\"xaxis\":\"x\",\"y\":[735,1302],\"yaxis\":\"y\",\"type\":\"bar\"}],                        {\"template\":{\"data\":{\"bar\":[{\"error_x\":{\"color\":\"#2a3f5f\"},\"error_y\":{\"color\":\"#2a3f5f\"},\"marker\":{\"line\":{\"color\":\"#E5ECF6\",\"width\":0.5},\"pattern\":{\"fillmode\":\"overlay\",\"size\":10,\"solidity\":0.2}},\"type\":\"bar\"}],\"barpolar\":[{\"marker\":{\"line\":{\"color\":\"#E5ECF6\",\"width\":0.5},\"pattern\":{\"fillmode\":\"overlay\",\"size\":10,\"solidity\":0.2}},\"type\":\"barpolar\"}],\"carpet\":[{\"aaxis\":{\"endlinecolor\":\"#2a3f5f\",\"gridcolor\":\"white\",\"linecolor\":\"white\",\"minorgridcolor\":\"white\",\"startlinecolor\":\"#2a3f5f\"},\"baxis\":{\"endlinecolor\":\"#2a3f5f\",\"gridcolor\":\"white\",\"linecolor\":\"white\",\"minorgridcolor\":\"white\",\"startlinecolor\":\"#2a3f5f\"},\"type\":\"carpet\"}],\"choropleth\":[{\"colorbar\":{\"outlinewidth\":0,\"ticks\":\"\"},\"type\":\"choropleth\"}],\"contour\":[{\"colorbar\":{\"outlinewidth\":0,\"ticks\":\"\"},\"colorscale\":[[0.0,\"#0d0887\"],[0.1111111111111111,\"#46039f\"],[0.2222222222222222,\"#7201a8\"],[0.3333333333333333,\"#9c179e\"],[0.4444444444444444,\"#bd3786\"],[0.5555555555555556,\"#d8576b\"],[0.6666666666666666,\"#ed7953\"],[0.7777777777777778,\"#fb9f3a\"],[0.8888888888888888,\"#fdca26\"],[1.0,\"#f0f921\"]],\"type\":\"contour\"}],\"contourcarpet\":[{\"colorbar\":{\"outlinewidth\":0,\"ticks\":\"\"},\"type\":\"contourcarpet\"}],\"heatmap\":[{\"colorbar\":{\"outlinewidth\":0,\"ticks\":\"\"},\"colorscale\":[[0.0,\"#0d0887\"],[0.1111111111111111,\"#46039f\"],[0.2222222222222222,\"#7201a8\"],[0.3333333333333333,\"#9c179e\"],[0.4444444444444444,\"#bd3786\"],[0.5555555555555556,\"#d8576b\"],[0.6666666666666666,\"#ed7953\"],[0.7777777777777778,\"#fb9f3a\"],[0.8888888888888888,\"#fdca26\"],[1.0,\"#f0f921\"]],\"type\":\"heatmap\"}],\"heatmapgl\":[{\"colorbar\":{\"outlinewidth\":0,\"ticks\":\"\"},\"colorscale\":[[0.0,\"#0d0887\"],[0.1111111111111111,\"#46039f\"],[0.2222222222222222,\"#7201a8\"],[0.3333333333333333,\"#9c179e\"],[0.4444444444444444,\"#bd3786\"],[0.5555555555555556,\"#d8576b\"],[0.6666666666666666,\"#ed7953\"],[0.7777777777777778,\"#fb9f3a\"],[0.8888888888888888,\"#fdca26\"],[1.0,\"#f0f921\"]],\"type\":\"heatmapgl\"}],\"histogram\":[{\"marker\":{\"pattern\":{\"fillmode\":\"overlay\",\"size\":10,\"solidity\":0.2}},\"type\":\"histogram\"}],\"histogram2d\":[{\"colorbar\":{\"outlinewidth\":0,\"ticks\":\"\"},\"colorscale\":[[0.0,\"#0d0887\"],[0.1111111111111111,\"#46039f\"],[0.2222222222222222,\"#7201a8\"],[0.3333333333333333,\"#9c179e\"],[0.4444444444444444,\"#bd3786\"],[0.5555555555555556,\"#d8576b\"],[0.6666666666666666,\"#ed7953\"],[0.7777777777777778,\"#fb9f3a\"],[0.8888888888888888,\"#fdca26\"],[1.0,\"#f0f921\"]],\"type\":\"histogram2d\"}],\"histogram2dcontour\":[{\"colorbar\":{\"outlinewidth\":0,\"ticks\":\"\"},\"colorscale\":[[0.0,\"#0d0887\"],[0.1111111111111111,\"#46039f\"],[0.2222222222222222,\"#7201a8\"],[0.3333333333333333,\"#9c179e\"],[0.4444444444444444,\"#bd3786\"],[0.5555555555555556,\"#d8576b\"],[0.6666666666666666,\"#ed7953\"],[0.7777777777777778,\"#fb9f3a\"],[0.8888888888888888,\"#fdca26\"],[1.0,\"#f0f921\"]],\"type\":\"histogram2dcontour\"}],\"mesh3d\":[{\"colorbar\":{\"outlinewidth\":0,\"ticks\":\"\"},\"type\":\"mesh3d\"}],\"parcoords\":[{\"line\":{\"colorbar\":{\"outlinewidth\":0,\"ticks\":\"\"}},\"type\":\"parcoords\"}],\"pie\":[{\"automargin\":true,\"type\":\"pie\"}],\"scatter\":[{\"marker\":{\"colorbar\":{\"outlinewidth\":0,\"ticks\":\"\"}},\"type\":\"scatter\"}],\"scatter3d\":[{\"line\":{\"colorbar\":{\"outlinewidth\":0,\"ticks\":\"\"}},\"marker\":{\"colorbar\":{\"outlinewidth\":0,\"ticks\":\"\"}},\"type\":\"scatter3d\"}],\"scattercarpet\":[{\"marker\":{\"colorbar\":{\"outlinewidth\":0,\"ticks\":\"\"}},\"type\":\"scattercarpet\"}],\"scattergeo\":[{\"marker\":{\"colorbar\":{\"outlinewidth\":0,\"ticks\":\"\"}},\"type\":\"scattergeo\"}],\"scattergl\":[{\"marker\":{\"colorbar\":{\"outlinewidth\":0,\"ticks\":\"\"}},\"type\":\"scattergl\"}],\"scattermapbox\":[{\"marker\":{\"colorbar\":{\"outlinewidth\":0,\"ticks\":\"\"}},\"type\":\"scattermapbox\"}],\"scatterpolar\":[{\"marker\":{\"colorbar\":{\"outlinewidth\":0,\"ticks\":\"\"}},\"type\":\"scatterpolar\"}],\"scatterpolargl\":[{\"marker\":{\"colorbar\":{\"outlinewidth\":0,\"ticks\":\"\"}},\"type\":\"scatterpolargl\"}],\"scatterternary\":[{\"marker\":{\"colorbar\":{\"outlinewidth\":0,\"ticks\":\"\"}},\"type\":\"scatterternary\"}],\"surface\":[{\"colorbar\":{\"outlinewidth\":0,\"ticks\":\"\"},\"colorscale\":[[0.0,\"#0d0887\"],[0.1111111111111111,\"#46039f\"],[0.2222222222222222,\"#7201a8\"],[0.3333333333333333,\"#9c179e\"],[0.4444444444444444,\"#bd3786\"],[0.5555555555555556,\"#d8576b\"],[0.6666666666666666,\"#ed7953\"],[0.7777777777777778,\"#fb9f3a\"],[0.8888888888888888,\"#fdca26\"],[1.0,\"#f0f921\"]],\"type\":\"surface\"}],\"table\":[{\"cells\":{\"fill\":{\"color\":\"#EBF0F8\"},\"line\":{\"color\":\"white\"}},\"header\":{\"fill\":{\"color\":\"#C8D4E3\"},\"line\":{\"color\":\"white\"}},\"type\":\"table\"}]},\"layout\":{\"annotationdefaults\":{\"arrowcolor\":\"#2a3f5f\",\"arrowhead\":0,\"arrowwidth\":1},\"autotypenumbers\":\"strict\",\"coloraxis\":{\"colorbar\":{\"outlinewidth\":0,\"ticks\":\"\"}},\"colorscale\":{\"diverging\":[[0,\"#8e0152\"],[0.1,\"#c51b7d\"],[0.2,\"#de77ae\"],[0.3,\"#f1b6da\"],[0.4,\"#fde0ef\"],[0.5,\"#f7f7f7\"],[0.6,\"#e6f5d0\"],[0.7,\"#b8e186\"],[0.8,\"#7fbc41\"],[0.9,\"#4d9221\"],[1,\"#276419\"]],\"sequential\":[[0.0,\"#0d0887\"],[0.1111111111111111,\"#46039f\"],[0.2222222222222222,\"#7201a8\"],[0.3333333333333333,\"#9c179e\"],[0.4444444444444444,\"#bd3786\"],[0.5555555555555556,\"#d8576b\"],[0.6666666666666666,\"#ed7953\"],[0.7777777777777778,\"#fb9f3a\"],[0.8888888888888888,\"#fdca26\"],[1.0,\"#f0f921\"]],\"sequentialminus\":[[0.0,\"#0d0887\"],[0.1111111111111111,\"#46039f\"],[0.2222222222222222,\"#7201a8\"],[0.3333333333333333,\"#9c179e\"],[0.4444444444444444,\"#bd3786\"],[0.5555555555555556,\"#d8576b\"],[0.6666666666666666,\"#ed7953\"],[0.7777777777777778,\"#fb9f3a\"],[0.8888888888888888,\"#fdca26\"],[1.0,\"#f0f921\"]]},\"colorway\":[\"#636efa\",\"#EF553B\",\"#00cc96\",\"#ab63fa\",\"#FFA15A\",\"#19d3f3\",\"#FF6692\",\"#B6E880\",\"#FF97FF\",\"#FECB52\"],\"font\":{\"color\":\"#2a3f5f\"},\"geo\":{\"bgcolor\":\"white\",\"lakecolor\":\"white\",\"landcolor\":\"#E5ECF6\",\"showlakes\":true,\"showland\":true,\"subunitcolor\":\"white\"},\"hoverlabel\":{\"align\":\"left\"},\"hovermode\":\"closest\",\"mapbox\":{\"style\":\"light\"},\"paper_bgcolor\":\"white\",\"plot_bgcolor\":\"#E5ECF6\",\"polar\":{\"angularaxis\":{\"gridcolor\":\"white\",\"linecolor\":\"white\",\"ticks\":\"\"},\"bgcolor\":\"#E5ECF6\",\"radialaxis\":{\"gridcolor\":\"white\",\"linecolor\":\"white\",\"ticks\":\"\"}},\"scene\":{\"xaxis\":{\"backgroundcolor\":\"#E5ECF6\",\"gridcolor\":\"white\",\"gridwidth\":2,\"linecolor\":\"white\",\"showbackground\":true,\"ticks\":\"\",\"zerolinecolor\":\"white\"},\"yaxis\":{\"backgroundcolor\":\"#E5ECF6\",\"gridcolor\":\"white\",\"gridwidth\":2,\"linecolor\":\"white\",\"showbackground\":true,\"ticks\":\"\",\"zerolinecolor\":\"white\"},\"zaxis\":{\"backgroundcolor\":\"#E5ECF6\",\"gridcolor\":\"white\",\"gridwidth\":2,\"linecolor\":\"white\",\"showbackground\":true,\"ticks\":\"\",\"zerolinecolor\":\"white\"}},\"shapedefaults\":{\"line\":{\"color\":\"#2a3f5f\"}},\"ternary\":{\"aaxis\":{\"gridcolor\":\"white\",\"linecolor\":\"white\",\"ticks\":\"\"},\"baxis\":{\"gridcolor\":\"white\",\"linecolor\":\"white\",\"ticks\":\"\"},\"bgcolor\":\"#E5ECF6\",\"caxis\":{\"gridcolor\":\"white\",\"linecolor\":\"white\",\"ticks\":\"\"}},\"title\":{\"x\":0.05},\"xaxis\":{\"automargin\":true,\"gridcolor\":\"white\",\"linecolor\":\"white\",\"ticks\":\"\",\"title\":{\"standoff\":15},\"zerolinecolor\":\"white\",\"zerolinewidth\":2},\"yaxis\":{\"automargin\":true,\"gridcolor\":\"white\",\"linecolor\":\"white\",\"ticks\":\"\",\"title\":{\"standoff\":15},\"zerolinecolor\":\"white\",\"zerolinewidth\":2}}},\"xaxis\":{\"anchor\":\"y\",\"domain\":[0.0,1.0],\"title\":{\"text\":\"\\u041a\\u043e\\u043b\\u0438\\u0447\\u0435\\u0441\\u0442\\u0432\\u043e \\u0443\\u0448\\u0435\\u0434\\u0448\\u0438\\u0445\"}},\"yaxis\":{\"anchor\":\"x\",\"domain\":[0.0,1.0],\"title\":{\"text\":\"\\u041b\\u043e\\u044f\\u043b\\u044c\\u043d\\u043e\\u0441\\u0442\\u044c\"}},\"legend\":{\"tracegroupgap\":0},\"margin\":{\"t\":60},\"barmode\":\"relative\",\"title\":{\"text\":\"\\u0421\\u043e\\u043e\\u0442\\u043d\\u043e\\u0448\\u0435\\u043d\\u0438\\u0435 \\u0443\\u0448\\u0435\\u0434\\u0448\\u0438\\u0445 \\u043f\\u043e \\u043b\\u043e\\u044f\\u043b\\u044c\\u043d\\u043e\\u0441\\u0442\\u0438\"}},                        {\"responsive\": true}                    ).then(function(){\n",
       "                            \n",
       "var gd = document.getElementById('18030fa6-55a2-4513-adbd-a0f14a6b1496');\n",
       "var x = new MutationObserver(function (mutations, observer) {{\n",
       "        var display = window.getComputedStyle(gd).display;\n",
       "        if (!display || display === 'none') {{\n",
       "            console.log([gd, 'removed!']);\n",
       "            Plotly.purge(gd);\n",
       "            observer.disconnect();\n",
       "        }}\n",
       "}});\n",
       "\n",
       "// Listen for the removal of the full notebook cells\n",
       "var notebookContainer = gd.closest('#notebook-container');\n",
       "if (notebookContainer) {{\n",
       "    x.observe(notebookContainer, {childList: true});\n",
       "}}\n",
       "\n",
       "// Listen for the clearing of the current output cell\n",
       "var outputEl = gd.closest('.output');\n",
       "if (outputEl) {{\n",
       "    x.observe(outputEl, {childList: true});\n",
       "}}\n",
       "\n",
       "                        })                };                });            </script>        </div>"
      ]
     },
     "metadata": {},
     "output_type": "display_data"
    }
   ],
   "source": [
    "# строим столбчатую диаграмму \n",
    "fig = px.bar(df_loc_counts.sort_values(by='total_count', ascending=True), # загружаем данные и заново их сортируем\n",
    "             x='loyalty', # указываем столбец с данными для оси X\n",
    "             y='total_count', # указываем столбец с данными для оси Y\n",
    "             text='total_count' # добавляем аргумент, который отобразит текст с информацией\n",
    "                                # о количестве объявлений внутри столбца графика\n",
    "            )\n",
    "# оформляем график\n",
    "fig.update_layout(title='Соотношение ушедших по лояльности',\n",
    "                   xaxis_title='Количество ушедших',\n",
    "                   yaxis_title='Лояльность')\n",
    "fig.show() # выводим график"
   ]
  },
  {
   "cell_type": "code",
   "execution_count": 62,
   "metadata": {},
   "outputs": [
    {
     "data": {
      "text/html": [
       "<div>\n",
       "<style scoped>\n",
       "    .dataframe tbody tr th:only-of-type {\n",
       "        vertical-align: middle;\n",
       "    }\n",
       "\n",
       "    .dataframe tbody tr th {\n",
       "        vertical-align: top;\n",
       "    }\n",
       "\n",
       "    .dataframe thead th {\n",
       "        text-align: right;\n",
       "    }\n",
       "</style>\n",
       "<table border=\"1\" class=\"dataframe\">\n",
       "  <thead>\n",
       "    <tr style=\"text-align: right;\">\n",
       "      <th></th>\n",
       "      <th>age</th>\n",
       "      <th>total_count</th>\n",
       "    </tr>\n",
       "  </thead>\n",
       "  <tbody>\n",
       "    <tr>\n",
       "      <th>57</th>\n",
       "      <td>84</td>\n",
       "      <td>1</td>\n",
       "    </tr>\n",
       "    <tr>\n",
       "      <th>56</th>\n",
       "      <td>74</td>\n",
       "      <td>1</td>\n",
       "    </tr>\n",
       "    <tr>\n",
       "      <th>55</th>\n",
       "      <td>73</td>\n",
       "      <td>1</td>\n",
       "    </tr>\n",
       "    <tr>\n",
       "      <th>54</th>\n",
       "      <td>72</td>\n",
       "      <td>1</td>\n",
       "    </tr>\n",
       "    <tr>\n",
       "      <th>53</th>\n",
       "      <td>71</td>\n",
       "      <td>7</td>\n",
       "    </tr>\n",
       "    <tr>\n",
       "      <th>52</th>\n",
       "      <td>70</td>\n",
       "      <td>4</td>\n",
       "    </tr>\n",
       "    <tr>\n",
       "      <th>51</th>\n",
       "      <td>69</td>\n",
       "      <td>2</td>\n",
       "    </tr>\n",
       "    <tr>\n",
       "      <th>50</th>\n",
       "      <td>68</td>\n",
       "      <td>6</td>\n",
       "    </tr>\n",
       "    <tr>\n",
       "      <th>49</th>\n",
       "      <td>67</td>\n",
       "      <td>5</td>\n",
       "    </tr>\n",
       "    <tr>\n",
       "      <th>48</th>\n",
       "      <td>66</td>\n",
       "      <td>7</td>\n",
       "    </tr>\n",
       "    <tr>\n",
       "      <th>47</th>\n",
       "      <td>65</td>\n",
       "      <td>8</td>\n",
       "    </tr>\n",
       "    <tr>\n",
       "      <th>46</th>\n",
       "      <td>64</td>\n",
       "      <td>12</td>\n",
       "    </tr>\n",
       "    <tr>\n",
       "      <th>45</th>\n",
       "      <td>63</td>\n",
       "      <td>18</td>\n",
       "    </tr>\n",
       "    <tr>\n",
       "      <th>44</th>\n",
       "      <td>62</td>\n",
       "      <td>21</td>\n",
       "    </tr>\n",
       "    <tr>\n",
       "      <th>43</th>\n",
       "      <td>61</td>\n",
       "      <td>21</td>\n",
       "    </tr>\n",
       "    <tr>\n",
       "      <th>42</th>\n",
       "      <td>60</td>\n",
       "      <td>32</td>\n",
       "    </tr>\n",
       "    <tr>\n",
       "      <th>41</th>\n",
       "      <td>59</td>\n",
       "      <td>30</td>\n",
       "    </tr>\n",
       "    <tr>\n",
       "      <th>40</th>\n",
       "      <td>58</td>\n",
       "      <td>29</td>\n",
       "    </tr>\n",
       "    <tr>\n",
       "      <th>39</th>\n",
       "      <td>57</td>\n",
       "      <td>38</td>\n",
       "    </tr>\n",
       "    <tr>\n",
       "      <th>38</th>\n",
       "      <td>56</td>\n",
       "      <td>50</td>\n",
       "    </tr>\n",
       "    <tr>\n",
       "      <th>37</th>\n",
       "      <td>55</td>\n",
       "      <td>48</td>\n",
       "    </tr>\n",
       "    <tr>\n",
       "      <th>36</th>\n",
       "      <td>54</td>\n",
       "      <td>51</td>\n",
       "    </tr>\n",
       "    <tr>\n",
       "      <th>35</th>\n",
       "      <td>53</td>\n",
       "      <td>40</td>\n",
       "    </tr>\n",
       "    <tr>\n",
       "      <th>34</th>\n",
       "      <td>52</td>\n",
       "      <td>64</td>\n",
       "    </tr>\n",
       "    <tr>\n",
       "      <th>33</th>\n",
       "      <td>51</td>\n",
       "      <td>66</td>\n",
       "    </tr>\n",
       "    <tr>\n",
       "      <th>32</th>\n",
       "      <td>50</td>\n",
       "      <td>71</td>\n",
       "    </tr>\n",
       "    <tr>\n",
       "      <th>31</th>\n",
       "      <td>49</td>\n",
       "      <td>75</td>\n",
       "    </tr>\n",
       "    <tr>\n",
       "      <th>30</th>\n",
       "      <td>48</td>\n",
       "      <td>80</td>\n",
       "    </tr>\n",
       "    <tr>\n",
       "      <th>29</th>\n",
       "      <td>47</td>\n",
       "      <td>77</td>\n",
       "    </tr>\n",
       "    <tr>\n",
       "      <th>28</th>\n",
       "      <td>46</td>\n",
       "      <td>91</td>\n",
       "    </tr>\n",
       "    <tr>\n",
       "      <th>27</th>\n",
       "      <td>45</td>\n",
       "      <td>87</td>\n",
       "    </tr>\n",
       "    <tr>\n",
       "      <th>26</th>\n",
       "      <td>44</td>\n",
       "      <td>73</td>\n",
       "    </tr>\n",
       "    <tr>\n",
       "      <th>25</th>\n",
       "      <td>43</td>\n",
       "      <td>88</td>\n",
       "    </tr>\n",
       "    <tr>\n",
       "      <th>24</th>\n",
       "      <td>42</td>\n",
       "      <td>77</td>\n",
       "    </tr>\n",
       "    <tr>\n",
       "      <th>23</th>\n",
       "      <td>41</td>\n",
       "      <td>69</td>\n",
       "    </tr>\n",
       "    <tr>\n",
       "      <th>22</th>\n",
       "      <td>40</td>\n",
       "      <td>89</td>\n",
       "    </tr>\n",
       "    <tr>\n",
       "      <th>21</th>\n",
       "      <td>39</td>\n",
       "      <td>72</td>\n",
       "    </tr>\n",
       "    <tr>\n",
       "      <th>20</th>\n",
       "      <td>38</td>\n",
       "      <td>63</td>\n",
       "    </tr>\n",
       "    <tr>\n",
       "      <th>19</th>\n",
       "      <td>37</td>\n",
       "      <td>62</td>\n",
       "    </tr>\n",
       "    <tr>\n",
       "      <th>18</th>\n",
       "      <td>36</td>\n",
       "      <td>53</td>\n",
       "    </tr>\n",
       "    <tr>\n",
       "      <th>17</th>\n",
       "      <td>35</td>\n",
       "      <td>57</td>\n",
       "    </tr>\n",
       "    <tr>\n",
       "      <th>16</th>\n",
       "      <td>34</td>\n",
       "      <td>33</td>\n",
       "    </tr>\n",
       "    <tr>\n",
       "      <th>15</th>\n",
       "      <td>33</td>\n",
       "      <td>44</td>\n",
       "    </tr>\n",
       "    <tr>\n",
       "      <th>14</th>\n",
       "      <td>32</td>\n",
       "      <td>32</td>\n",
       "    </tr>\n",
       "    <tr>\n",
       "      <th>13</th>\n",
       "      <td>31</td>\n",
       "      <td>33</td>\n",
       "    </tr>\n",
       "    <tr>\n",
       "      <th>12</th>\n",
       "      <td>30</td>\n",
       "      <td>24</td>\n",
       "    </tr>\n",
       "    <tr>\n",
       "      <th>11</th>\n",
       "      <td>29</td>\n",
       "      <td>28</td>\n",
       "    </tr>\n",
       "    <tr>\n",
       "      <th>10</th>\n",
       "      <td>28</td>\n",
       "      <td>23</td>\n",
       "    </tr>\n",
       "    <tr>\n",
       "      <th>9</th>\n",
       "      <td>27</td>\n",
       "      <td>13</td>\n",
       "    </tr>\n",
       "    <tr>\n",
       "      <th>8</th>\n",
       "      <td>26</td>\n",
       "      <td>14</td>\n",
       "    </tr>\n",
       "    <tr>\n",
       "      <th>7</th>\n",
       "      <td>25</td>\n",
       "      <td>6</td>\n",
       "    </tr>\n",
       "    <tr>\n",
       "      <th>6</th>\n",
       "      <td>24</td>\n",
       "      <td>14</td>\n",
       "    </tr>\n",
       "    <tr>\n",
       "      <th>5</th>\n",
       "      <td>23</td>\n",
       "      <td>6</td>\n",
       "    </tr>\n",
       "    <tr>\n",
       "      <th>4</th>\n",
       "      <td>22</td>\n",
       "      <td>12</td>\n",
       "    </tr>\n",
       "    <tr>\n",
       "      <th>3</th>\n",
       "      <td>21</td>\n",
       "      <td>3</td>\n",
       "    </tr>\n",
       "    <tr>\n",
       "      <th>2</th>\n",
       "      <td>20</td>\n",
       "      <td>2</td>\n",
       "    </tr>\n",
       "    <tr>\n",
       "      <th>1</th>\n",
       "      <td>19</td>\n",
       "      <td>1</td>\n",
       "    </tr>\n",
       "    <tr>\n",
       "      <th>0</th>\n",
       "      <td>18</td>\n",
       "      <td>2</td>\n",
       "    </tr>\n",
       "  </tbody>\n",
       "</table>\n",
       "</div>"
      ],
      "text/plain": [
       "    age  total_count\n",
       "57   84            1\n",
       "56   74            1\n",
       "55   73            1\n",
       "54   72            1\n",
       "53   71            7\n",
       "52   70            4\n",
       "51   69            2\n",
       "50   68            6\n",
       "49   67            5\n",
       "48   66            7\n",
       "47   65            8\n",
       "46   64           12\n",
       "45   63           18\n",
       "44   62           21\n",
       "43   61           21\n",
       "42   60           32\n",
       "41   59           30\n",
       "40   58           29\n",
       "39   57           38\n",
       "38   56           50\n",
       "37   55           48\n",
       "36   54           51\n",
       "35   53           40\n",
       "34   52           64\n",
       "33   51           66\n",
       "32   50           71\n",
       "31   49           75\n",
       "30   48           80\n",
       "29   47           77\n",
       "28   46           91\n",
       "27   45           87\n",
       "26   44           73\n",
       "25   43           88\n",
       "24   42           77\n",
       "23   41           69\n",
       "22   40           89\n",
       "21   39           72\n",
       "20   38           63\n",
       "19   37           62\n",
       "18   36           53\n",
       "17   35           57\n",
       "16   34           33\n",
       "15   33           44\n",
       "14   32           32\n",
       "13   31           33\n",
       "12   30           24\n",
       "11   29           28\n",
       "10   28           23\n",
       "9    27           13\n",
       "8    26           14\n",
       "7    25            6\n",
       "6    24           14\n",
       "5    23            6\n",
       "4    22           12\n",
       "3    21            3\n",
       "2    20            2\n",
       "1    19            1\n",
       "0    18            2"
      ]
     },
     "metadata": {},
     "output_type": "display_data"
    }
   ],
   "source": [
    "df_loc_count = df.loc[df['churn'] == 1].groupby('age')[['age']].count()\n",
    "# переименуем столбец\n",
    "df_loc_count.columns = ['total_count']\n",
    "df_loc_count = df_loc_count.reset_index().sort_values(by='age', ascending=False)\n",
    "display(df_loc_count)"
   ]
  },
  {
   "cell_type": "code",
   "execution_count": 63,
   "metadata": {},
   "outputs": [
    {
     "data": {
      "application/vnd.plotly.v1+json": {
       "config": {
        "plotlyServerURL": "https://plot.ly"
       },
       "data": [
        {
         "alignmentgroup": "True",
         "hovertemplate": "age=%{x}<br>total_count=%{text}<extra></extra>",
         "legendgroup": "",
         "marker": {
          "color": "#636efa",
          "pattern": {
           "shape": ""
          }
         },
         "name": "",
         "offsetgroup": "",
         "orientation": "v",
         "showlegend": false,
         "text": [
          1,
          1,
          1,
          1,
          1,
          2,
          2,
          2,
          3,
          4,
          5,
          6,
          6,
          6,
          7,
          7,
          8,
          12,
          12,
          13,
          14,
          14,
          18,
          21,
          21,
          23,
          24,
          28,
          29,
          30,
          32,
          32,
          33,
          33,
          38,
          40,
          44,
          48,
          50,
          51,
          53,
          57,
          62,
          63,
          64,
          66,
          69,
          71,
          72,
          73,
          75,
          77,
          77,
          80,
          87,
          88,
          89,
          91
         ],
         "textposition": "auto",
         "type": "bar",
         "x": [
          84,
          74,
          73,
          72,
          19,
          20,
          18,
          69,
          21,
          70,
          67,
          23,
          68,
          25,
          66,
          71,
          65,
          22,
          64,
          27,
          24,
          26,
          63,
          62,
          61,
          28,
          30,
          29,
          58,
          59,
          60,
          32,
          34,
          31,
          57,
          53,
          33,
          55,
          56,
          54,
          36,
          35,
          37,
          38,
          52,
          51,
          41,
          50,
          39,
          44,
          49,
          47,
          42,
          48,
          45,
          43,
          40,
          46
         ],
         "xaxis": "x",
         "y": [
          1,
          1,
          1,
          1,
          1,
          2,
          2,
          2,
          3,
          4,
          5,
          6,
          6,
          6,
          7,
          7,
          8,
          12,
          12,
          13,
          14,
          14,
          18,
          21,
          21,
          23,
          24,
          28,
          29,
          30,
          32,
          32,
          33,
          33,
          38,
          40,
          44,
          48,
          50,
          51,
          53,
          57,
          62,
          63,
          64,
          66,
          69,
          71,
          72,
          73,
          75,
          77,
          77,
          80,
          87,
          88,
          89,
          91
         ],
         "yaxis": "y"
        }
       ],
       "layout": {
        "barmode": "relative",
        "legend": {
         "tracegroupgap": 0
        },
        "margin": {
         "t": 60
        },
        "template": {
         "data": {
          "bar": [
           {
            "error_x": {
             "color": "#2a3f5f"
            },
            "error_y": {
             "color": "#2a3f5f"
            },
            "marker": {
             "line": {
              "color": "#E5ECF6",
              "width": 0.5
             },
             "pattern": {
              "fillmode": "overlay",
              "size": 10,
              "solidity": 0.2
             }
            },
            "type": "bar"
           }
          ],
          "barpolar": [
           {
            "marker": {
             "line": {
              "color": "#E5ECF6",
              "width": 0.5
             },
             "pattern": {
              "fillmode": "overlay",
              "size": 10,
              "solidity": 0.2
             }
            },
            "type": "barpolar"
           }
          ],
          "carpet": [
           {
            "aaxis": {
             "endlinecolor": "#2a3f5f",
             "gridcolor": "white",
             "linecolor": "white",
             "minorgridcolor": "white",
             "startlinecolor": "#2a3f5f"
            },
            "baxis": {
             "endlinecolor": "#2a3f5f",
             "gridcolor": "white",
             "linecolor": "white",
             "minorgridcolor": "white",
             "startlinecolor": "#2a3f5f"
            },
            "type": "carpet"
           }
          ],
          "choropleth": [
           {
            "colorbar": {
             "outlinewidth": 0,
             "ticks": ""
            },
            "type": "choropleth"
           }
          ],
          "contour": [
           {
            "colorbar": {
             "outlinewidth": 0,
             "ticks": ""
            },
            "colorscale": [
             [
              0,
              "#0d0887"
             ],
             [
              0.1111111111111111,
              "#46039f"
             ],
             [
              0.2222222222222222,
              "#7201a8"
             ],
             [
              0.3333333333333333,
              "#9c179e"
             ],
             [
              0.4444444444444444,
              "#bd3786"
             ],
             [
              0.5555555555555556,
              "#d8576b"
             ],
             [
              0.6666666666666666,
              "#ed7953"
             ],
             [
              0.7777777777777778,
              "#fb9f3a"
             ],
             [
              0.8888888888888888,
              "#fdca26"
             ],
             [
              1,
              "#f0f921"
             ]
            ],
            "type": "contour"
           }
          ],
          "contourcarpet": [
           {
            "colorbar": {
             "outlinewidth": 0,
             "ticks": ""
            },
            "type": "contourcarpet"
           }
          ],
          "heatmap": [
           {
            "colorbar": {
             "outlinewidth": 0,
             "ticks": ""
            },
            "colorscale": [
             [
              0,
              "#0d0887"
             ],
             [
              0.1111111111111111,
              "#46039f"
             ],
             [
              0.2222222222222222,
              "#7201a8"
             ],
             [
              0.3333333333333333,
              "#9c179e"
             ],
             [
              0.4444444444444444,
              "#bd3786"
             ],
             [
              0.5555555555555556,
              "#d8576b"
             ],
             [
              0.6666666666666666,
              "#ed7953"
             ],
             [
              0.7777777777777778,
              "#fb9f3a"
             ],
             [
              0.8888888888888888,
              "#fdca26"
             ],
             [
              1,
              "#f0f921"
             ]
            ],
            "type": "heatmap"
           }
          ],
          "heatmapgl": [
           {
            "colorbar": {
             "outlinewidth": 0,
             "ticks": ""
            },
            "colorscale": [
             [
              0,
              "#0d0887"
             ],
             [
              0.1111111111111111,
              "#46039f"
             ],
             [
              0.2222222222222222,
              "#7201a8"
             ],
             [
              0.3333333333333333,
              "#9c179e"
             ],
             [
              0.4444444444444444,
              "#bd3786"
             ],
             [
              0.5555555555555556,
              "#d8576b"
             ],
             [
              0.6666666666666666,
              "#ed7953"
             ],
             [
              0.7777777777777778,
              "#fb9f3a"
             ],
             [
              0.8888888888888888,
              "#fdca26"
             ],
             [
              1,
              "#f0f921"
             ]
            ],
            "type": "heatmapgl"
           }
          ],
          "histogram": [
           {
            "marker": {
             "pattern": {
              "fillmode": "overlay",
              "size": 10,
              "solidity": 0.2
             }
            },
            "type": "histogram"
           }
          ],
          "histogram2d": [
           {
            "colorbar": {
             "outlinewidth": 0,
             "ticks": ""
            },
            "colorscale": [
             [
              0,
              "#0d0887"
             ],
             [
              0.1111111111111111,
              "#46039f"
             ],
             [
              0.2222222222222222,
              "#7201a8"
             ],
             [
              0.3333333333333333,
              "#9c179e"
             ],
             [
              0.4444444444444444,
              "#bd3786"
             ],
             [
              0.5555555555555556,
              "#d8576b"
             ],
             [
              0.6666666666666666,
              "#ed7953"
             ],
             [
              0.7777777777777778,
              "#fb9f3a"
             ],
             [
              0.8888888888888888,
              "#fdca26"
             ],
             [
              1,
              "#f0f921"
             ]
            ],
            "type": "histogram2d"
           }
          ],
          "histogram2dcontour": [
           {
            "colorbar": {
             "outlinewidth": 0,
             "ticks": ""
            },
            "colorscale": [
             [
              0,
              "#0d0887"
             ],
             [
              0.1111111111111111,
              "#46039f"
             ],
             [
              0.2222222222222222,
              "#7201a8"
             ],
             [
              0.3333333333333333,
              "#9c179e"
             ],
             [
              0.4444444444444444,
              "#bd3786"
             ],
             [
              0.5555555555555556,
              "#d8576b"
             ],
             [
              0.6666666666666666,
              "#ed7953"
             ],
             [
              0.7777777777777778,
              "#fb9f3a"
             ],
             [
              0.8888888888888888,
              "#fdca26"
             ],
             [
              1,
              "#f0f921"
             ]
            ],
            "type": "histogram2dcontour"
           }
          ],
          "mesh3d": [
           {
            "colorbar": {
             "outlinewidth": 0,
             "ticks": ""
            },
            "type": "mesh3d"
           }
          ],
          "parcoords": [
           {
            "line": {
             "colorbar": {
              "outlinewidth": 0,
              "ticks": ""
             }
            },
            "type": "parcoords"
           }
          ],
          "pie": [
           {
            "automargin": true,
            "type": "pie"
           }
          ],
          "scatter": [
           {
            "marker": {
             "colorbar": {
              "outlinewidth": 0,
              "ticks": ""
             }
            },
            "type": "scatter"
           }
          ],
          "scatter3d": [
           {
            "line": {
             "colorbar": {
              "outlinewidth": 0,
              "ticks": ""
             }
            },
            "marker": {
             "colorbar": {
              "outlinewidth": 0,
              "ticks": ""
             }
            },
            "type": "scatter3d"
           }
          ],
          "scattercarpet": [
           {
            "marker": {
             "colorbar": {
              "outlinewidth": 0,
              "ticks": ""
             }
            },
            "type": "scattercarpet"
           }
          ],
          "scattergeo": [
           {
            "marker": {
             "colorbar": {
              "outlinewidth": 0,
              "ticks": ""
             }
            },
            "type": "scattergeo"
           }
          ],
          "scattergl": [
           {
            "marker": {
             "colorbar": {
              "outlinewidth": 0,
              "ticks": ""
             }
            },
            "type": "scattergl"
           }
          ],
          "scattermapbox": [
           {
            "marker": {
             "colorbar": {
              "outlinewidth": 0,
              "ticks": ""
             }
            },
            "type": "scattermapbox"
           }
          ],
          "scatterpolar": [
           {
            "marker": {
             "colorbar": {
              "outlinewidth": 0,
              "ticks": ""
             }
            },
            "type": "scatterpolar"
           }
          ],
          "scatterpolargl": [
           {
            "marker": {
             "colorbar": {
              "outlinewidth": 0,
              "ticks": ""
             }
            },
            "type": "scatterpolargl"
           }
          ],
          "scatterternary": [
           {
            "marker": {
             "colorbar": {
              "outlinewidth": 0,
              "ticks": ""
             }
            },
            "type": "scatterternary"
           }
          ],
          "surface": [
           {
            "colorbar": {
             "outlinewidth": 0,
             "ticks": ""
            },
            "colorscale": [
             [
              0,
              "#0d0887"
             ],
             [
              0.1111111111111111,
              "#46039f"
             ],
             [
              0.2222222222222222,
              "#7201a8"
             ],
             [
              0.3333333333333333,
              "#9c179e"
             ],
             [
              0.4444444444444444,
              "#bd3786"
             ],
             [
              0.5555555555555556,
              "#d8576b"
             ],
             [
              0.6666666666666666,
              "#ed7953"
             ],
             [
              0.7777777777777778,
              "#fb9f3a"
             ],
             [
              0.8888888888888888,
              "#fdca26"
             ],
             [
              1,
              "#f0f921"
             ]
            ],
            "type": "surface"
           }
          ],
          "table": [
           {
            "cells": {
             "fill": {
              "color": "#EBF0F8"
             },
             "line": {
              "color": "white"
             }
            },
            "header": {
             "fill": {
              "color": "#C8D4E3"
             },
             "line": {
              "color": "white"
             }
            },
            "type": "table"
           }
          ]
         },
         "layout": {
          "annotationdefaults": {
           "arrowcolor": "#2a3f5f",
           "arrowhead": 0,
           "arrowwidth": 1
          },
          "autotypenumbers": "strict",
          "coloraxis": {
           "colorbar": {
            "outlinewidth": 0,
            "ticks": ""
           }
          },
          "colorscale": {
           "diverging": [
            [
             0,
             "#8e0152"
            ],
            [
             0.1,
             "#c51b7d"
            ],
            [
             0.2,
             "#de77ae"
            ],
            [
             0.3,
             "#f1b6da"
            ],
            [
             0.4,
             "#fde0ef"
            ],
            [
             0.5,
             "#f7f7f7"
            ],
            [
             0.6,
             "#e6f5d0"
            ],
            [
             0.7,
             "#b8e186"
            ],
            [
             0.8,
             "#7fbc41"
            ],
            [
             0.9,
             "#4d9221"
            ],
            [
             1,
             "#276419"
            ]
           ],
           "sequential": [
            [
             0,
             "#0d0887"
            ],
            [
             0.1111111111111111,
             "#46039f"
            ],
            [
             0.2222222222222222,
             "#7201a8"
            ],
            [
             0.3333333333333333,
             "#9c179e"
            ],
            [
             0.4444444444444444,
             "#bd3786"
            ],
            [
             0.5555555555555556,
             "#d8576b"
            ],
            [
             0.6666666666666666,
             "#ed7953"
            ],
            [
             0.7777777777777778,
             "#fb9f3a"
            ],
            [
             0.8888888888888888,
             "#fdca26"
            ],
            [
             1,
             "#f0f921"
            ]
           ],
           "sequentialminus": [
            [
             0,
             "#0d0887"
            ],
            [
             0.1111111111111111,
             "#46039f"
            ],
            [
             0.2222222222222222,
             "#7201a8"
            ],
            [
             0.3333333333333333,
             "#9c179e"
            ],
            [
             0.4444444444444444,
             "#bd3786"
            ],
            [
             0.5555555555555556,
             "#d8576b"
            ],
            [
             0.6666666666666666,
             "#ed7953"
            ],
            [
             0.7777777777777778,
             "#fb9f3a"
            ],
            [
             0.8888888888888888,
             "#fdca26"
            ],
            [
             1,
             "#f0f921"
            ]
           ]
          },
          "colorway": [
           "#636efa",
           "#EF553B",
           "#00cc96",
           "#ab63fa",
           "#FFA15A",
           "#19d3f3",
           "#FF6692",
           "#B6E880",
           "#FF97FF",
           "#FECB52"
          ],
          "font": {
           "color": "#2a3f5f"
          },
          "geo": {
           "bgcolor": "white",
           "lakecolor": "white",
           "landcolor": "#E5ECF6",
           "showlakes": true,
           "showland": true,
           "subunitcolor": "white"
          },
          "hoverlabel": {
           "align": "left"
          },
          "hovermode": "closest",
          "mapbox": {
           "style": "light"
          },
          "paper_bgcolor": "white",
          "plot_bgcolor": "#E5ECF6",
          "polar": {
           "angularaxis": {
            "gridcolor": "white",
            "linecolor": "white",
            "ticks": ""
           },
           "bgcolor": "#E5ECF6",
           "radialaxis": {
            "gridcolor": "white",
            "linecolor": "white",
            "ticks": ""
           }
          },
          "scene": {
           "xaxis": {
            "backgroundcolor": "#E5ECF6",
            "gridcolor": "white",
            "gridwidth": 2,
            "linecolor": "white",
            "showbackground": true,
            "ticks": "",
            "zerolinecolor": "white"
           },
           "yaxis": {
            "backgroundcolor": "#E5ECF6",
            "gridcolor": "white",
            "gridwidth": 2,
            "linecolor": "white",
            "showbackground": true,
            "ticks": "",
            "zerolinecolor": "white"
           },
           "zaxis": {
            "backgroundcolor": "#E5ECF6",
            "gridcolor": "white",
            "gridwidth": 2,
            "linecolor": "white",
            "showbackground": true,
            "ticks": "",
            "zerolinecolor": "white"
           }
          },
          "shapedefaults": {
           "line": {
            "color": "#2a3f5f"
           }
          },
          "ternary": {
           "aaxis": {
            "gridcolor": "white",
            "linecolor": "white",
            "ticks": ""
           },
           "baxis": {
            "gridcolor": "white",
            "linecolor": "white",
            "ticks": ""
           },
           "bgcolor": "#E5ECF6",
           "caxis": {
            "gridcolor": "white",
            "linecolor": "white",
            "ticks": ""
           }
          },
          "title": {
           "x": 0.05
          },
          "xaxis": {
           "automargin": true,
           "gridcolor": "white",
           "linecolor": "white",
           "ticks": "",
           "title": {
            "standoff": 15
           },
           "zerolinecolor": "white",
           "zerolinewidth": 2
          },
          "yaxis": {
           "automargin": true,
           "gridcolor": "white",
           "linecolor": "white",
           "ticks": "",
           "title": {
            "standoff": 15
           },
           "zerolinecolor": "white",
           "zerolinewidth": 2
          }
         }
        },
        "title": {
         "text": "Соотношение ушедших по возрасту"
        },
        "xaxis": {
         "anchor": "y",
         "domain": [
          0,
          1
         ],
         "title": {
          "text": "количество ушедших"
         }
        },
        "yaxis": {
         "anchor": "x",
         "domain": [
          0,
          1
         ],
         "title": {
          "text": "Возраст"
         }
        }
       }
      },
      "text/html": [
       "<div>                            <div id=\"bb38fd84-21c2-4957-85c2-54767316c384\" class=\"plotly-graph-div\" style=\"height:525px; width:100%;\"></div>            <script type=\"text/javascript\">                require([\"plotly\"], function(Plotly) {                    window.PLOTLYENV=window.PLOTLYENV || {};                                    if (document.getElementById(\"bb38fd84-21c2-4957-85c2-54767316c384\")) {                    Plotly.newPlot(                        \"bb38fd84-21c2-4957-85c2-54767316c384\",                        [{\"alignmentgroup\":\"True\",\"hovertemplate\":\"age=%{x}<br>total_count=%{text}<extra></extra>\",\"legendgroup\":\"\",\"marker\":{\"color\":\"#636efa\",\"pattern\":{\"shape\":\"\"}},\"name\":\"\",\"offsetgroup\":\"\",\"orientation\":\"v\",\"showlegend\":false,\"text\":[1.0,1.0,1.0,1.0,1.0,2.0,2.0,2.0,3.0,4.0,5.0,6.0,6.0,6.0,7.0,7.0,8.0,12.0,12.0,13.0,14.0,14.0,18.0,21.0,21.0,23.0,24.0,28.0,29.0,30.0,32.0,32.0,33.0,33.0,38.0,40.0,44.0,48.0,50.0,51.0,53.0,57.0,62.0,63.0,64.0,66.0,69.0,71.0,72.0,73.0,75.0,77.0,77.0,80.0,87.0,88.0,89.0,91.0],\"textposition\":\"auto\",\"x\":[84,74,73,72,19,20,18,69,21,70,67,23,68,25,66,71,65,22,64,27,24,26,63,62,61,28,30,29,58,59,60,32,34,31,57,53,33,55,56,54,36,35,37,38,52,51,41,50,39,44,49,47,42,48,45,43,40,46],\"xaxis\":\"x\",\"y\":[1,1,1,1,1,2,2,2,3,4,5,6,6,6,7,7,8,12,12,13,14,14,18,21,21,23,24,28,29,30,32,32,33,33,38,40,44,48,50,51,53,57,62,63,64,66,69,71,72,73,75,77,77,80,87,88,89,91],\"yaxis\":\"y\",\"type\":\"bar\"}],                        {\"template\":{\"data\":{\"bar\":[{\"error_x\":{\"color\":\"#2a3f5f\"},\"error_y\":{\"color\":\"#2a3f5f\"},\"marker\":{\"line\":{\"color\":\"#E5ECF6\",\"width\":0.5},\"pattern\":{\"fillmode\":\"overlay\",\"size\":10,\"solidity\":0.2}},\"type\":\"bar\"}],\"barpolar\":[{\"marker\":{\"line\":{\"color\":\"#E5ECF6\",\"width\":0.5},\"pattern\":{\"fillmode\":\"overlay\",\"size\":10,\"solidity\":0.2}},\"type\":\"barpolar\"}],\"carpet\":[{\"aaxis\":{\"endlinecolor\":\"#2a3f5f\",\"gridcolor\":\"white\",\"linecolor\":\"white\",\"minorgridcolor\":\"white\",\"startlinecolor\":\"#2a3f5f\"},\"baxis\":{\"endlinecolor\":\"#2a3f5f\",\"gridcolor\":\"white\",\"linecolor\":\"white\",\"minorgridcolor\":\"white\",\"startlinecolor\":\"#2a3f5f\"},\"type\":\"carpet\"}],\"choropleth\":[{\"colorbar\":{\"outlinewidth\":0,\"ticks\":\"\"},\"type\":\"choropleth\"}],\"contour\":[{\"colorbar\":{\"outlinewidth\":0,\"ticks\":\"\"},\"colorscale\":[[0.0,\"#0d0887\"],[0.1111111111111111,\"#46039f\"],[0.2222222222222222,\"#7201a8\"],[0.3333333333333333,\"#9c179e\"],[0.4444444444444444,\"#bd3786\"],[0.5555555555555556,\"#d8576b\"],[0.6666666666666666,\"#ed7953\"],[0.7777777777777778,\"#fb9f3a\"],[0.8888888888888888,\"#fdca26\"],[1.0,\"#f0f921\"]],\"type\":\"contour\"}],\"contourcarpet\":[{\"colorbar\":{\"outlinewidth\":0,\"ticks\":\"\"},\"type\":\"contourcarpet\"}],\"heatmap\":[{\"colorbar\":{\"outlinewidth\":0,\"ticks\":\"\"},\"colorscale\":[[0.0,\"#0d0887\"],[0.1111111111111111,\"#46039f\"],[0.2222222222222222,\"#7201a8\"],[0.3333333333333333,\"#9c179e\"],[0.4444444444444444,\"#bd3786\"],[0.5555555555555556,\"#d8576b\"],[0.6666666666666666,\"#ed7953\"],[0.7777777777777778,\"#fb9f3a\"],[0.8888888888888888,\"#fdca26\"],[1.0,\"#f0f921\"]],\"type\":\"heatmap\"}],\"heatmapgl\":[{\"colorbar\":{\"outlinewidth\":0,\"ticks\":\"\"},\"colorscale\":[[0.0,\"#0d0887\"],[0.1111111111111111,\"#46039f\"],[0.2222222222222222,\"#7201a8\"],[0.3333333333333333,\"#9c179e\"],[0.4444444444444444,\"#bd3786\"],[0.5555555555555556,\"#d8576b\"],[0.6666666666666666,\"#ed7953\"],[0.7777777777777778,\"#fb9f3a\"],[0.8888888888888888,\"#fdca26\"],[1.0,\"#f0f921\"]],\"type\":\"heatmapgl\"}],\"histogram\":[{\"marker\":{\"pattern\":{\"fillmode\":\"overlay\",\"size\":10,\"solidity\":0.2}},\"type\":\"histogram\"}],\"histogram2d\":[{\"colorbar\":{\"outlinewidth\":0,\"ticks\":\"\"},\"colorscale\":[[0.0,\"#0d0887\"],[0.1111111111111111,\"#46039f\"],[0.2222222222222222,\"#7201a8\"],[0.3333333333333333,\"#9c179e\"],[0.4444444444444444,\"#bd3786\"],[0.5555555555555556,\"#d8576b\"],[0.6666666666666666,\"#ed7953\"],[0.7777777777777778,\"#fb9f3a\"],[0.8888888888888888,\"#fdca26\"],[1.0,\"#f0f921\"]],\"type\":\"histogram2d\"}],\"histogram2dcontour\":[{\"colorbar\":{\"outlinewidth\":0,\"ticks\":\"\"},\"colorscale\":[[0.0,\"#0d0887\"],[0.1111111111111111,\"#46039f\"],[0.2222222222222222,\"#7201a8\"],[0.3333333333333333,\"#9c179e\"],[0.4444444444444444,\"#bd3786\"],[0.5555555555555556,\"#d8576b\"],[0.6666666666666666,\"#ed7953\"],[0.7777777777777778,\"#fb9f3a\"],[0.8888888888888888,\"#fdca26\"],[1.0,\"#f0f921\"]],\"type\":\"histogram2dcontour\"}],\"mesh3d\":[{\"colorbar\":{\"outlinewidth\":0,\"ticks\":\"\"},\"type\":\"mesh3d\"}],\"parcoords\":[{\"line\":{\"colorbar\":{\"outlinewidth\":0,\"ticks\":\"\"}},\"type\":\"parcoords\"}],\"pie\":[{\"automargin\":true,\"type\":\"pie\"}],\"scatter\":[{\"marker\":{\"colorbar\":{\"outlinewidth\":0,\"ticks\":\"\"}},\"type\":\"scatter\"}],\"scatter3d\":[{\"line\":{\"colorbar\":{\"outlinewidth\":0,\"ticks\":\"\"}},\"marker\":{\"colorbar\":{\"outlinewidth\":0,\"ticks\":\"\"}},\"type\":\"scatter3d\"}],\"scattercarpet\":[{\"marker\":{\"colorbar\":{\"outlinewidth\":0,\"ticks\":\"\"}},\"type\":\"scattercarpet\"}],\"scattergeo\":[{\"marker\":{\"colorbar\":{\"outlinewidth\":0,\"ticks\":\"\"}},\"type\":\"scattergeo\"}],\"scattergl\":[{\"marker\":{\"colorbar\":{\"outlinewidth\":0,\"ticks\":\"\"}},\"type\":\"scattergl\"}],\"scattermapbox\":[{\"marker\":{\"colorbar\":{\"outlinewidth\":0,\"ticks\":\"\"}},\"type\":\"scattermapbox\"}],\"scatterpolar\":[{\"marker\":{\"colorbar\":{\"outlinewidth\":0,\"ticks\":\"\"}},\"type\":\"scatterpolar\"}],\"scatterpolargl\":[{\"marker\":{\"colorbar\":{\"outlinewidth\":0,\"ticks\":\"\"}},\"type\":\"scatterpolargl\"}],\"scatterternary\":[{\"marker\":{\"colorbar\":{\"outlinewidth\":0,\"ticks\":\"\"}},\"type\":\"scatterternary\"}],\"surface\":[{\"colorbar\":{\"outlinewidth\":0,\"ticks\":\"\"},\"colorscale\":[[0.0,\"#0d0887\"],[0.1111111111111111,\"#46039f\"],[0.2222222222222222,\"#7201a8\"],[0.3333333333333333,\"#9c179e\"],[0.4444444444444444,\"#bd3786\"],[0.5555555555555556,\"#d8576b\"],[0.6666666666666666,\"#ed7953\"],[0.7777777777777778,\"#fb9f3a\"],[0.8888888888888888,\"#fdca26\"],[1.0,\"#f0f921\"]],\"type\":\"surface\"}],\"table\":[{\"cells\":{\"fill\":{\"color\":\"#EBF0F8\"},\"line\":{\"color\":\"white\"}},\"header\":{\"fill\":{\"color\":\"#C8D4E3\"},\"line\":{\"color\":\"white\"}},\"type\":\"table\"}]},\"layout\":{\"annotationdefaults\":{\"arrowcolor\":\"#2a3f5f\",\"arrowhead\":0,\"arrowwidth\":1},\"autotypenumbers\":\"strict\",\"coloraxis\":{\"colorbar\":{\"outlinewidth\":0,\"ticks\":\"\"}},\"colorscale\":{\"diverging\":[[0,\"#8e0152\"],[0.1,\"#c51b7d\"],[0.2,\"#de77ae\"],[0.3,\"#f1b6da\"],[0.4,\"#fde0ef\"],[0.5,\"#f7f7f7\"],[0.6,\"#e6f5d0\"],[0.7,\"#b8e186\"],[0.8,\"#7fbc41\"],[0.9,\"#4d9221\"],[1,\"#276419\"]],\"sequential\":[[0.0,\"#0d0887\"],[0.1111111111111111,\"#46039f\"],[0.2222222222222222,\"#7201a8\"],[0.3333333333333333,\"#9c179e\"],[0.4444444444444444,\"#bd3786\"],[0.5555555555555556,\"#d8576b\"],[0.6666666666666666,\"#ed7953\"],[0.7777777777777778,\"#fb9f3a\"],[0.8888888888888888,\"#fdca26\"],[1.0,\"#f0f921\"]],\"sequentialminus\":[[0.0,\"#0d0887\"],[0.1111111111111111,\"#46039f\"],[0.2222222222222222,\"#7201a8\"],[0.3333333333333333,\"#9c179e\"],[0.4444444444444444,\"#bd3786\"],[0.5555555555555556,\"#d8576b\"],[0.6666666666666666,\"#ed7953\"],[0.7777777777777778,\"#fb9f3a\"],[0.8888888888888888,\"#fdca26\"],[1.0,\"#f0f921\"]]},\"colorway\":[\"#636efa\",\"#EF553B\",\"#00cc96\",\"#ab63fa\",\"#FFA15A\",\"#19d3f3\",\"#FF6692\",\"#B6E880\",\"#FF97FF\",\"#FECB52\"],\"font\":{\"color\":\"#2a3f5f\"},\"geo\":{\"bgcolor\":\"white\",\"lakecolor\":\"white\",\"landcolor\":\"#E5ECF6\",\"showlakes\":true,\"showland\":true,\"subunitcolor\":\"white\"},\"hoverlabel\":{\"align\":\"left\"},\"hovermode\":\"closest\",\"mapbox\":{\"style\":\"light\"},\"paper_bgcolor\":\"white\",\"plot_bgcolor\":\"#E5ECF6\",\"polar\":{\"angularaxis\":{\"gridcolor\":\"white\",\"linecolor\":\"white\",\"ticks\":\"\"},\"bgcolor\":\"#E5ECF6\",\"radialaxis\":{\"gridcolor\":\"white\",\"linecolor\":\"white\",\"ticks\":\"\"}},\"scene\":{\"xaxis\":{\"backgroundcolor\":\"#E5ECF6\",\"gridcolor\":\"white\",\"gridwidth\":2,\"linecolor\":\"white\",\"showbackground\":true,\"ticks\":\"\",\"zerolinecolor\":\"white\"},\"yaxis\":{\"backgroundcolor\":\"#E5ECF6\",\"gridcolor\":\"white\",\"gridwidth\":2,\"linecolor\":\"white\",\"showbackground\":true,\"ticks\":\"\",\"zerolinecolor\":\"white\"},\"zaxis\":{\"backgroundcolor\":\"#E5ECF6\",\"gridcolor\":\"white\",\"gridwidth\":2,\"linecolor\":\"white\",\"showbackground\":true,\"ticks\":\"\",\"zerolinecolor\":\"white\"}},\"shapedefaults\":{\"line\":{\"color\":\"#2a3f5f\"}},\"ternary\":{\"aaxis\":{\"gridcolor\":\"white\",\"linecolor\":\"white\",\"ticks\":\"\"},\"baxis\":{\"gridcolor\":\"white\",\"linecolor\":\"white\",\"ticks\":\"\"},\"bgcolor\":\"#E5ECF6\",\"caxis\":{\"gridcolor\":\"white\",\"linecolor\":\"white\",\"ticks\":\"\"}},\"title\":{\"x\":0.05},\"xaxis\":{\"automargin\":true,\"gridcolor\":\"white\",\"linecolor\":\"white\",\"ticks\":\"\",\"title\":{\"standoff\":15},\"zerolinecolor\":\"white\",\"zerolinewidth\":2},\"yaxis\":{\"automargin\":true,\"gridcolor\":\"white\",\"linecolor\":\"white\",\"ticks\":\"\",\"title\":{\"standoff\":15},\"zerolinecolor\":\"white\",\"zerolinewidth\":2}}},\"xaxis\":{\"anchor\":\"y\",\"domain\":[0.0,1.0],\"title\":{\"text\":\"\\u043a\\u043e\\u043b\\u0438\\u0447\\u0435\\u0441\\u0442\\u0432\\u043e \\u0443\\u0448\\u0435\\u0434\\u0448\\u0438\\u0445\"}},\"yaxis\":{\"anchor\":\"x\",\"domain\":[0.0,1.0],\"title\":{\"text\":\"\\u0412\\u043e\\u0437\\u0440\\u0430\\u0441\\u0442\"}},\"legend\":{\"tracegroupgap\":0},\"margin\":{\"t\":60},\"barmode\":\"relative\",\"title\":{\"text\":\"\\u0421\\u043e\\u043e\\u0442\\u043d\\u043e\\u0448\\u0435\\u043d\\u0438\\u0435 \\u0443\\u0448\\u0435\\u0434\\u0448\\u0438\\u0445 \\u043f\\u043e \\u0432\\u043e\\u0437\\u0440\\u0430\\u0441\\u0442\\u0443\"}},                        {\"responsive\": true}                    ).then(function(){\n",
       "                            \n",
       "var gd = document.getElementById('bb38fd84-21c2-4957-85c2-54767316c384');\n",
       "var x = new MutationObserver(function (mutations, observer) {{\n",
       "        var display = window.getComputedStyle(gd).display;\n",
       "        if (!display || display === 'none') {{\n",
       "            console.log([gd, 'removed!']);\n",
       "            Plotly.purge(gd);\n",
       "            observer.disconnect();\n",
       "        }}\n",
       "}});\n",
       "\n",
       "// Listen for the removal of the full notebook cells\n",
       "var notebookContainer = gd.closest('#notebook-container');\n",
       "if (notebookContainer) {{\n",
       "    x.observe(notebookContainer, {childList: true});\n",
       "}}\n",
       "\n",
       "// Listen for the clearing of the current output cell\n",
       "var outputEl = gd.closest('.output');\n",
       "if (outputEl) {{\n",
       "    x.observe(outputEl, {childList: true});\n",
       "}}\n",
       "\n",
       "                        })                };                });            </script>        </div>"
      ]
     },
     "metadata": {},
     "output_type": "display_data"
    }
   ],
   "source": [
    "# строим столбчатую диаграмму \n",
    "fig = px.bar(df_loc_count.sort_values(by='total_count', ascending=True), # загружаем данные и заново их сортируем\n",
    "             x='age', # указываем столбец с данными для оси X\n",
    "             y='total_count', # указываем столбец с данными для оси Y\n",
    "             text='total_count' # добавляем аргумент, который отобразит текст с информацией\n",
    "                                # о количестве объявлений внутри столбца графика\n",
    "            )\n",
    "# оформляем график\n",
    "fig.update_layout(title='Соотношение ушедших по возрасту',\n",
    "                   xaxis_title='количество ушедших',\n",
    "                   yaxis_title='Возраст')\n",
    "fig.show() # выводим график"
   ]
  },
  {
   "cell_type": "markdown",
   "metadata": {},
   "source": [
    "Больше всего ушло людей с лояльностью 0 в возрасте от 40 до 52 лет."
   ]
  },
  {
   "cell_type": "markdown",
   "metadata": {},
   "source": [
    "## Анализ оттока клиенов"
   ]
  },
  {
   "cell_type": "markdown",
   "metadata": {},
   "source": [
    "### Выявить уровень оттока клиентов по признакам"
   ]
  },
  {
   "cell_type": "markdown",
   "metadata": {},
   "source": [
    "Обучим две модели предсказания и выделим из них лучшую. \n",
    "\n",
    "Проведем кодирование данных для обучения логистической регрессии и случайного леса\n"
   ]
  },
  {
   "cell_type": "code",
   "execution_count": 64,
   "metadata": {},
   "outputs": [],
   "source": [
    "X = df.drop(columns = ['churn']) \n",
    "y = df['churn']"
   ]
  },
  {
   "cell_type": "code",
   "execution_count": 65,
   "metadata": {},
   "outputs": [],
   "source": [
    "X_train, X_test, y_train, y_test = train_test_split(X, y, test_size = 0.2, random_state = 0)\n",
    "scaler = StandardScaler()\n",
    "scaler.fit(X_train)\n",
    "X_train_st = scaler.transform(X_train)\n",
    "X_test_st = scaler.transform(X_test)\n"
   ]
  },
  {
   "cell_type": "code",
   "execution_count": 66,
   "metadata": {},
   "outputs": [],
   "source": [
    "def train_model(m):\n",
    "    print(m)\n",
    "    model=m\n",
    "    model.fit(X_train_st,y_train)\n",
    "    y_pred=model.predict(X_test_st)\n",
    "    print('\\tAccuracy: {:.2f}'.format(accuracy_score(y_test,y_pred)))\n",
    "    print('\\tPrecision: {:.2f}'.format(precision_score(y_test,y_pred)))\n",
    "    print('\\tRecall: {:.2f}'.format(recall_score(y_test,y_pred)))"
   ]
  },
  {
   "cell_type": "code",
   "execution_count": 67,
   "metadata": {},
   "outputs": [
    {
     "name": "stdout",
     "output_type": "stream",
     "text": [
      "LogisticRegression()\n",
      "\tAccuracy: 0.82\n",
      "\tPrecision: 0.62\n",
      "\tRecall: 0.19\n",
      "RandomForestClassifier()\n",
      "\tAccuracy: 0.86\n",
      "\tPrecision: 0.76\n",
      "\tRecall: 0.43\n"
     ]
    }
   ],
   "source": [
    "for mod in [LogisticRegression(), RandomForestClassifier()]:\n",
    "    train_model(mod)"
   ]
  },
  {
   "cell_type": "markdown",
   "metadata": {},
   "source": [
    "У случайного леса не только логика, но и метрики лучше! Логистическая регрессия ведёт себя хуже."
   ]
  },
  {
   "cell_type": "raw",
   "metadata": {},
   "source": [
    "Сделаем кластеризацию пользователей"
   ]
  },
  {
   "cell_type": "code",
   "execution_count": 68,
   "metadata": {},
   "outputs": [],
   "source": [
    "scaler=StandardScaler()\n",
    "X_sc=scaler.fit_transform(df.drop(columns='churn'))"
   ]
  },
  {
   "cell_type": "code",
   "execution_count": 69,
   "metadata": {},
   "outputs": [
    {
     "data": {
      "image/png": "[encoded data removed]",
      "text/plain": [
       "<Figure size 1080x720 with 1 Axes>"
      ]
     },
     "metadata": {},
     "output_type": "display_data"
    }
   ],
   "source": [
    "linked=linkage(X_sc,method='ward')\n",
    "plt.figure(figsize=(15,10))\n",
    "dendrogram(linked,orientation='top',no_labels=True)\n",
    "plt.title('Иерархия кластеров для клиентов банка')\n",
    "plt.show()"
   ]
  },
  {
   "cell_type": "markdown",
   "metadata": {},
   "source": [
    "У нас получилось 3 кластера"
   ]
  },
  {
   "cell_type": "markdown",
   "metadata": {},
   "source": [
    "Стандартизируем данные и построим матрицу расстояний функцией linkage() на стандартизованной матрице признаков и нарисуем дендрограмму. На основании полученного графика предположим, какое количество кластеров можно выделить."
   ]
  },
  {
   "cell_type": "code",
   "execution_count": 70,
   "metadata": {},
   "outputs": [],
   "source": [
    "n=3\n",
    "km = KMeans(n_clusters = n, init='k-means++') \n",
    "labels = km.fit_predict(X_sc) "
   ]
  },
  {
   "cell_type": "code",
   "execution_count": 71,
   "metadata": {},
   "outputs": [
    {
     "data": {
      "text/html": [
       "<div>\n",
       "<style scoped>\n",
       "    .dataframe tbody tr th:only-of-type {\n",
       "        vertical-align: middle;\n",
       "    }\n",
       "\n",
       "    .dataframe tbody tr th {\n",
       "        vertical-align: top;\n",
       "    }\n",
       "\n",
       "    .dataframe thead th {\n",
       "        text-align: right;\n",
       "    }\n",
       "</style>\n",
       "<table border=\"1\" class=\"dataframe\">\n",
       "  <thead>\n",
       "    <tr style=\"text-align: right;\">\n",
       "      <th></th>\n",
       "      <th>user_id</th>\n",
       "      <th>score</th>\n",
       "      <th>city</th>\n",
       "      <th>gender</th>\n",
       "      <th>age</th>\n",
       "      <th>objects</th>\n",
       "      <th>balance</th>\n",
       "      <th>products</th>\n",
       "      <th>credit_card</th>\n",
       "      <th>loyalty</th>\n",
       "      <th>estimated_salary</th>\n",
       "      <th>churn</th>\n",
       "    </tr>\n",
       "    <tr>\n",
       "      <th>clusters</th>\n",
       "      <th></th>\n",
       "      <th></th>\n",
       "      <th></th>\n",
       "      <th></th>\n",
       "      <th></th>\n",
       "      <th></th>\n",
       "      <th></th>\n",
       "      <th></th>\n",
       "      <th></th>\n",
       "      <th></th>\n",
       "      <th></th>\n",
       "      <th></th>\n",
       "    </tr>\n",
       "  </thead>\n",
       "  <tbody>\n",
       "    <tr>\n",
       "      <th>2</th>\n",
       "      <td>1.573646e+07</td>\n",
       "      <td>650.708446</td>\n",
       "      <td>0.665878</td>\n",
       "      <td>0.458446</td>\n",
       "      <td>38.688514</td>\n",
       "      <td>5.094932</td>\n",
       "      <td>10865.750905</td>\n",
       "      <td>1.863514</td>\n",
       "      <td>0.998311</td>\n",
       "      <td>0.515541</td>\n",
       "      <td>98555.888385</td>\n",
       "      <td>0.171284</td>\n",
       "    </tr>\n",
       "    <tr>\n",
       "      <th>0</th>\n",
       "      <td>1.573518e+07</td>\n",
       "      <td>651.385034</td>\n",
       "      <td>0.758503</td>\n",
       "      <td>0.458844</td>\n",
       "      <td>39.110204</td>\n",
       "      <td>4.914966</td>\n",
       "      <td>78053.305898</td>\n",
       "      <td>1.523129</td>\n",
       "      <td>0.000000</td>\n",
       "      <td>0.524490</td>\n",
       "      <td>100964.805626</td>\n",
       "      <td>0.206803</td>\n",
       "    </tr>\n",
       "    <tr>\n",
       "      <th>1</th>\n",
       "      <td>1.573059e+07</td>\n",
       "      <td>649.785122</td>\n",
       "      <td>0.795610</td>\n",
       "      <td>0.448049</td>\n",
       "      <td>38.955122</td>\n",
       "      <td>5.023659</td>\n",
       "      <td>122736.475820</td>\n",
       "      <td>1.294634</td>\n",
       "      <td>1.000000</td>\n",
       "      <td>0.508049</td>\n",
       "      <td>100570.839183</td>\n",
       "      <td>0.224878</td>\n",
       "    </tr>\n",
       "  </tbody>\n",
       "</table>\n",
       "</div>"
      ],
      "text/plain": [
       "               user_id       score      city    gender        age   objects  \\\n",
       "clusters                                                                      \n",
       "2         1.573646e+07  650.708446  0.665878  0.458446  38.688514  5.094932   \n",
       "0         1.573518e+07  651.385034  0.758503  0.458844  39.110204  4.914966   \n",
       "1         1.573059e+07  649.785122  0.795610  0.448049  38.955122  5.023659   \n",
       "\n",
       "                balance  products  credit_card   loyalty  estimated_salary  \\\n",
       "clusters                                                                     \n",
       "2          10865.750905  1.863514     0.998311  0.515541      98555.888385   \n",
       "0          78053.305898  1.523129     0.000000  0.524490     100964.805626   \n",
       "1         122736.475820  1.294634     1.000000  0.508049     100570.839183   \n",
       "\n",
       "             churn  \n",
       "clusters            \n",
       "2         0.171284  \n",
       "0         0.206803  \n",
       "1         0.224878  "
      ]
     },
     "execution_count": 71,
     "metadata": {},
     "output_type": "execute_result"
    }
   ],
   "source": [
    "df['clusters']=labels\n",
    "df.groupby(['clusters']).mean().sort_values('churn')"
   ]
  },
  {
   "cell_type": "markdown",
   "metadata": {},
   "source": [
    "Построим распределения признаков для кластеров."
   ]
  },
  {
   "cell_type": "code",
   "execution_count": 72,
   "metadata": {},
   "outputs": [
    {
     "data": {
      "image/png": "[encoded data removed]",
      "text/plain": [
       "<Figure size 1800x936 with 5 Axes>"
      ]
     },
     "metadata": {},
     "output_type": "display_data"
    }
   ],
   "source": [
    "cols_binom = ['score', 'objects', 'balance', 'estimated_salary', 'age']\n",
    "\n",
    "for i, col in enumerate(cols_binom):\n",
    "    plt.subplot(2, 3, i+1)\n",
    "    fig = plt.gcf()\n",
    "    fig.set_size_inches(25,13)\n",
    "    sns.barplot(data = df, x = 'clusters', y = col, hue = 'churn')\n",
    "    plt.title('Распределение признака \\n'+ str(col))"
   ]
  },
  {
   "cell_type": "code",
   "execution_count": 73,
   "metadata": {},
   "outputs": [
    {
     "data": {
      "image/png": "[encoded data removed]",
      "text/plain": [
       "<Figure size 1800x936 with 5 Axes>"
      ]
     },
     "metadata": {},
     "output_type": "display_data"
    }
   ],
   "source": [
    "cols_binom = ['city', 'gender', 'products', 'credit_card', 'loyalty']\n",
    "\n",
    "for i, col in enumerate(cols_binom):\n",
    "    plt.subplot(2, 3, i+1)\n",
    "    fig = plt.gcf()\n",
    "    fig.set_size_inches(25,13)\n",
    "    sns.barplot(data = df, x = 'clusters', y = col, hue = 'churn')\n",
    "    plt.title('Распределение признака \\n'+ str(col))"
   ]
  },
  {
   "cell_type": "markdown",
   "metadata": {},
   "source": [
    "Посчитаем долю оттока для каждого кластера"
   ]
  },
  {
   "cell_type": "code",
   "execution_count": 74,
   "metadata": {},
   "outputs": [
    {
     "data": {
      "image/png": "[encoded data removed]",
      "text/plain": [
       "<Figure size 432x288 with 1 Axes>"
      ]
     },
     "metadata": {},
     "output_type": "display_data"
    }
   ],
   "source": [
    "df.groupby(['clusters']).agg({'churn' : 'mean'}).sort_values('churn').plot(kind = 'barh')\n",
    "plt.title('Отток по кластерам')\n",
    "plt.xlabel('Средний отток')\n",
    "plt.ylabel('Кластер');"
   ]
  },
  {
   "cell_type": "markdown",
   "metadata": {},
   "source": [
    "### Вывод"
   ]
  },
  {
   "cell_type": "markdown",
   "metadata": {},
   "source": [
    "Класетр 2 - ушедшие. Отсутствует какая-либо лояльность.\n",
    "\n",
    "Кластер 0 cредний, отсутствуют кредитки. У 1 - высокая лояльность.\n"
   ]
  },
  {
   "cell_type": "markdown",
   "metadata": {},
   "source": [
    "## Сформулируем и проверим статистические гипотезы."
   ]
  },
  {
   "cell_type": "markdown",
   "metadata": {},
   "source": [
    "Проверим данные на нормальность"
   ]
  },
  {
   "cell_type": "code",
   "execution_count": 75,
   "metadata": {},
   "outputs": [
    {
     "data": {
      "image/png": "[encoded data removed]",
      "text/plain": [
       "<Figure size 432x288 with 1 Axes>"
      ]
     },
     "metadata": {},
     "output_type": "display_data"
    }
   ],
   "source": [
    "sns.distplot(df_1['estimated_salary'],label='1')\n",
    "sns.distplot(df_0['estimated_salary'],label='0')\n",
    "plt.title('Распределение estimated_salary',fontsize=16)\n",
    "plt.legend()\n",
    "plt.show()"
   ]
  },
  {
   "cell_type": "markdown",
   "metadata": {},
   "source": [
    "Данные распределены нормально, проведем t-test."
   ]
  },
  {
   "cell_type": "markdown",
   "metadata": {},
   "source": [
    "Проверим гипотезу различия дохода между теми клиентами, которые ушли и теми, которые остались.\n",
    "\n",
    "Нулевая гипотеза- средняя выручка между оставшимися и ушедними пользователями равна\n",
    "\n",
    "Альтернативная гипотеза - средняя выручка между оставшимися и ушедними пользователями отличается"
   ]
  },
  {
   "cell_type": "code",
   "execution_count": 76,
   "metadata": {},
   "outputs": [
    {
     "name": "stdout",
     "output_type": "stream",
     "text": [
      "Дисперсия ушедних: 3353848166.807012\n",
      "Дисперсия оставшихся: 3295401414.9183965\n"
     ]
    }
   ],
   "source": [
    "alpha=0.05\n",
    "\n",
    "print('Дисперсия ушедних:',df_1['estimated_salary'].var())\n",
    "print('Дисперсия оставшихся:',df_0['estimated_salary'].var())"
   ]
  },
  {
   "cell_type": "markdown",
   "metadata": {},
   "source": [
    "Дисперсии равны"
   ]
  },
  {
   "cell_type": "code",
   "execution_count": 77,
   "metadata": {},
   "outputs": [
    {
     "name": "stdout",
     "output_type": "stream",
     "text": [
      "p-значение: 0.22644042802223352\n",
      "Не получилось отвергнуть нулевую гипотезу\n"
     ]
    }
   ],
   "source": [
    "results = st.ttest_ind(\n",
    "    df_0['estimated_salary'], \n",
    "    df_1['estimated_salary'])\n",
    "\n",
    "print('p-значение:', results.pvalue)\n",
    "\n",
    "if (results.pvalue < alpha):\n",
    "    print(\"Отвергаем нулевую гипотезу\")\n",
    "else:\n",
    "    print(\"Не получилось отвергнуть нулевую гипотезу\")"
   ]
  },
  {
   "cell_type": "markdown",
   "metadata": {},
   "source": [
    "Дисперсии ушедших и оставшихся равны и средняя выручка между оставшимися и ушедними пользователями равна."
   ]
  },
  {
   "cell_type": "markdown",
   "metadata": {},
   "source": [
    "Проведем аналогичный анализ для score. Сначала проведем проверку на нормальность"
   ]
  },
  {
   "cell_type": "code",
   "execution_count": 78,
   "metadata": {},
   "outputs": [
    {
     "data": {
      "image/png": "[encoded data removed]",
      "text/plain": [
       "<Figure size 432x288 with 1 Axes>"
      ]
     },
     "metadata": {},
     "output_type": "display_data"
    }
   ],
   "source": [
    "sns.distplot(df_1['score'],label='1')\n",
    "sns.distplot(df_0['score'],label='0')\n",
    "plt.title('Распределение score')\n",
    "plt.legend()\n",
    "plt.show()"
   ]
  },
  {
   "cell_type": "markdown",
   "metadata": {},
   "source": [
    "Данные распределенными нормально."
   ]
  },
  {
   "cell_type": "code",
   "execution_count": 79,
   "metadata": {},
   "outputs": [
    {
     "name": "stdout",
     "output_type": "stream",
     "text": [
      "Дисперсия ушедних: 10064.403893876835\n",
      "Дисперсия оставшихся: 9149.656541843884\n"
     ]
    }
   ],
   "source": [
    "alpha=0.05\n",
    "\n",
    "print('Дисперсия ушедних:',df_1['score'].var())\n",
    "print('Дисперсия оставшихся:',df_0['score'].var())"
   ]
  },
  {
   "cell_type": "markdown",
   "metadata": {},
   "source": [
    "Дисперсия отличается"
   ]
  },
  {
   "cell_type": "markdown",
   "metadata": {},
   "source": [
    "Проверим гипотезу различия score между теми клиентами, которые ушли и теми, которые остались.\n",
    "Нулевая гипотеза- средний счет между оставшимися и ушедними пользователями равен. Альтернативная гипотеза - средний счет между оставшимися и ушедними пользователями отличается."
   ]
  },
  {
   "cell_type": "code",
   "execution_count": 80,
   "metadata": {},
   "outputs": [
    {
     "name": "stdout",
     "output_type": "stream",
     "text": [
      "p-значение: 0.008464728991832862\n",
      "Отвергаем нулевую гипотезу\n"
     ]
    }
   ],
   "source": [
    "results = st.ttest_ind(\n",
    "    df_0['score'], \n",
    "    df_1['score'], equal_var=False)\n",
    "\n",
    "print('p-значение:', results.pvalue)\n",
    "\n",
    "if (results.pvalue < alpha):\n",
    "    print(\"Отвергаем нулевую гипотезу\")\n",
    "else:\n",
    "    print(\"Не получилось отвергнуть нулевую гипотезу\")"
   ]
  },
  {
   "cell_type": "markdown",
   "metadata": {},
   "source": [
    "Мы отвергли гипотезу о равестве средних score ушедших и оставшихся. Получается, уходящие пользователи становятся менее заинтересованными и их активнсть немного падает."
   ]
  },
  {
   "cell_type": "markdown",
   "metadata": {},
   "source": [
    "### Вывод"
   ]
  },
  {
   "cell_type": "markdown",
   "metadata": {},
   "source": [
    "В данном блоке мы выяснили, что больше всего склонны уходить пользователи с 0 лояльностью, женского пола, из Ростова Великого, старшего возраста. Также мы заметили, что почти все пользователи с количеством покупок 3 и 4 ушли. Проверили нулевую гипотезу- средняя выручка между оставшимися и ушедними пользователями равна и не смогли ее отвергнуть\n"
   ]
  },
  {
   "cell_type": "markdown",
   "metadata": {},
   "source": [
    "## Вывод и педложения"
   ]
  },
  {
   "cell_type": "markdown",
   "metadata": {},
   "source": [
    "Произведено заполнение пропущенных данных balance по принадлежности пользователя к городу, полу и возрасту. Уменьшен регистр у названий слобцов.\n",
    "\n",
    "Построенны гистограммы распределения величин в разбивке по churn и получены следующие результаты:\n",
    "- Почти все пользователи с количеством продуктов 3 и 4 ушли. Пользователи с количеством продуктов 2 уходят реже всего\n",
    "- balance и score распределен примерно одинаково\n",
    "- пользователи с 0 loyalty уходят чаще\n",
    "- в среднем уходят пользователи старше\n",
    "- женщины уходят заметно чаще мужчин\n",
    "- в Ростове Великом ушла половина пользователейг\n",
    "\n",
    "Выявлен портрет пользователя, который уйдет с очень большой вероятностью: пользователи с 0 лояльностью, женского пола, из Ростова Великого, возраста от 40 до 52 лет.\n",
    "\n",
    "Мы проверили проверку гипотез:\n",
    "- Нулевая гипотеза- средняя выручка между оставшимися и ушедними пользователями равна\n",
    "- Альтернативная гипотеза - средняя выручка между оставшимися и ушедними пользователями отличается.\n",
    "- Мы не смогли отвергнуть нулевую гипотезу\n",
    "- Мы отвергли гипотезу о равестве средних score ушедших и оставшихся. Получается, уходящие пользователи становятся менее заинтересованными и их активнсть немного падает\n",
    "\n",
    "Рекомендации:\n",
    "\n",
    "- Следует выявить по какой причине у городе Ростов Великий уходит половина клиентов, вполне возможно качество обслуживания низкое  \n",
    "- Предоставить дополнительные услуги/льготы для пользователей с 3 и более продуктами\n",
    "- Провести акции по удержанию пользователей старших лет и женщин.\n",
    "\n"
   ]
  },
  {
   "cell_type": "markdown",
   "metadata": {},
   "source": [
    "## Презентация"
   ]
  },
  {
   "cell_type": "markdown",
   "metadata": {},
   "source": [
    "https://drive.google.com/file/d/1nxRhYxT8unbSIttWK-mU2YK-QVy5_yZ4/view?usp=share_link"
   ]
  },
  {
   "cell_type": "markdown",
   "metadata": {},
   "source": [
    "## Дашборд"
   ]
  },
  {
   "cell_type": "markdown",
   "metadata": {},
   "source": [
    "https://public.tableau.com/views/_16722714653840/sheet1?:language=en-US&:display_count=n&:origin=viz_share_link"
   ]
  }
 ],
 "metadata": {
  "ExecuteTimeLog": [
   {
    "duration": 1565,
    "start_time": "2022-12-21T21:17:35.778Z"
   },
   {
    "duration": 5,
    "start_time": "2022-12-21T21:18:45.732Z"
   },
   {
    "duration": 54,
    "start_time": "2022-12-21T21:20:27.288Z"
   },
   {
    "duration": 67,
    "start_time": "2022-12-21T21:21:03.034Z"
   },
   {
    "duration": 18,
    "start_time": "2022-12-21T21:22:13.318Z"
   },
   {
    "duration": 51,
    "start_time": "2022-12-21T21:23:11.793Z"
   },
   {
    "duration": 78,
    "start_time": "2022-12-21T21:24:13.567Z"
   },
   {
    "duration": 191,
    "start_time": "2022-12-21T21:24:49.829Z"
   },
   {
    "duration": 60,
    "start_time": "2022-12-21T21:24:58.333Z"
   },
   {
    "duration": 19,
    "start_time": "2022-12-21T21:27:05.150Z"
   },
   {
    "duration": 16,
    "start_time": "2022-12-21T21:28:23.898Z"
   },
   {
    "duration": 72,
    "start_time": "2022-12-21T21:28:52.786Z"
   },
   {
    "duration": 13,
    "start_time": "2022-12-21T21:36:18.446Z"
   },
   {
    "duration": 13,
    "start_time": "2022-12-21T21:38:01.131Z"
   },
   {
    "duration": 27,
    "start_time": "2022-12-21T21:39:50.590Z"
   },
   {
    "duration": 20,
    "start_time": "2022-12-21T21:42:21.877Z"
   },
   {
    "duration": 1303,
    "start_time": "2022-12-21T21:42:48.631Z"
   },
   {
    "duration": 56,
    "start_time": "2022-12-21T21:42:49.935Z"
   },
   {
    "duration": 17,
    "start_time": "2022-12-21T21:42:49.993Z"
   },
   {
    "duration": 21,
    "start_time": "2022-12-21T21:42:50.013Z"
   },
   {
    "duration": 29,
    "start_time": "2022-12-21T21:42:50.038Z"
   },
   {
    "duration": 20,
    "start_time": "2022-12-21T21:42:50.070Z"
   },
   {
    "duration": 9,
    "start_time": "2022-12-21T21:45:01.980Z"
   },
   {
    "duration": 14,
    "start_time": "2022-12-21T21:46:04.456Z"
   },
   {
    "duration": 8,
    "start_time": "2022-12-21T21:46:14.196Z"
   },
   {
    "duration": 8,
    "start_time": "2022-12-21T21:46:17.488Z"
   },
   {
    "duration": 9,
    "start_time": "2022-12-21T21:46:44.096Z"
   },
   {
    "duration": 9,
    "start_time": "2022-12-21T21:46:46.965Z"
   },
   {
    "duration": 25,
    "start_time": "2022-12-21T22:00:58.468Z"
   },
   {
    "duration": 5,
    "start_time": "2022-12-21T22:01:16.683Z"
   },
   {
    "duration": 8,
    "start_time": "2022-12-21T22:02:30.724Z"
   },
   {
    "duration": 1454,
    "start_time": "2022-12-25T19:54:25.425Z"
   },
   {
    "duration": 367,
    "start_time": "2022-12-25T19:54:26.881Z"
   },
   {
    "duration": 16,
    "start_time": "2022-12-25T19:54:27.249Z"
   },
   {
    "duration": 14,
    "start_time": "2022-12-25T19:54:27.268Z"
   },
   {
    "duration": 13,
    "start_time": "2022-12-25T19:54:27.284Z"
   },
   {
    "duration": 52,
    "start_time": "2022-12-25T19:54:27.299Z"
   },
   {
    "duration": 8,
    "start_time": "2022-12-25T19:54:27.354Z"
   },
   {
    "duration": 10,
    "start_time": "2022-12-25T19:54:27.364Z"
   },
   {
    "duration": 24,
    "start_time": "2022-12-25T19:54:27.376Z"
   },
   {
    "duration": 4,
    "start_time": "2022-12-25T19:54:27.402Z"
   },
   {
    "duration": 47,
    "start_time": "2022-12-25T19:54:27.408Z"
   },
   {
    "duration": 3,
    "start_time": "2022-12-25T20:05:21.156Z"
   },
   {
    "duration": 5,
    "start_time": "2022-12-25T20:05:22.172Z"
   },
   {
    "duration": 8291,
    "start_time": "2022-12-25T20:05:50.834Z"
   },
   {
    "duration": 110,
    "start_time": "2022-12-25T20:08:57.221Z"
   },
   {
    "duration": 4,
    "start_time": "2022-12-25T20:09:12.982Z"
   },
   {
    "duration": 4,
    "start_time": "2022-12-25T20:09:14.231Z"
   },
   {
    "duration": 8490,
    "start_time": "2022-12-25T20:09:14.806Z"
   },
   {
    "duration": 18,
    "start_time": "2022-12-25T20:12:44.025Z"
   },
   {
    "duration": 4,
    "start_time": "2022-12-25T20:13:52.568Z"
   },
   {
    "duration": 3,
    "start_time": "2022-12-25T20:13:53.482Z"
   },
   {
    "duration": 8011,
    "start_time": "2022-12-25T20:13:54.067Z"
   },
   {
    "duration": 4,
    "start_time": "2022-12-25T20:14:30.322Z"
   },
   {
    "duration": 4,
    "start_time": "2022-12-25T20:14:31.164Z"
   },
   {
    "duration": 7943,
    "start_time": "2022-12-25T20:14:31.766Z"
   },
   {
    "duration": 3,
    "start_time": "2022-12-25T20:15:02.714Z"
   },
   {
    "duration": 3,
    "start_time": "2022-12-25T20:15:03.341Z"
   },
   {
    "duration": 7956,
    "start_time": "2022-12-25T20:15:04.535Z"
   },
   {
    "duration": 3,
    "start_time": "2022-12-25T20:15:30.145Z"
   },
   {
    "duration": 3,
    "start_time": "2022-12-25T20:15:31.271Z"
   },
   {
    "duration": 7915,
    "start_time": "2022-12-25T20:15:31.992Z"
   },
   {
    "duration": 1194,
    "start_time": "2022-12-25T20:18:03.458Z"
   },
   {
    "duration": 52,
    "start_time": "2022-12-25T20:18:04.654Z"
   },
   {
    "duration": 12,
    "start_time": "2022-12-25T20:18:04.707Z"
   },
   {
    "duration": 13,
    "start_time": "2022-12-25T20:18:04.721Z"
   },
   {
    "duration": 18,
    "start_time": "2022-12-25T20:18:04.735Z"
   },
   {
    "duration": 18,
    "start_time": "2022-12-25T20:18:04.755Z"
   },
   {
    "duration": 14,
    "start_time": "2022-12-25T20:18:04.774Z"
   },
   {
    "duration": 12,
    "start_time": "2022-12-25T20:18:04.790Z"
   },
   {
    "duration": 25,
    "start_time": "2022-12-25T20:18:04.804Z"
   },
   {
    "duration": 5,
    "start_time": "2022-12-25T20:18:04.852Z"
   },
   {
    "duration": 9,
    "start_time": "2022-12-25T20:18:04.859Z"
   },
   {
    "duration": 4,
    "start_time": "2022-12-25T20:18:04.870Z"
   },
   {
    "duration": 5,
    "start_time": "2022-12-25T20:18:04.876Z"
   },
   {
    "duration": 7702,
    "start_time": "2022-12-25T20:18:04.883Z"
   },
   {
    "duration": 4,
    "start_time": "2022-12-25T20:55:22.170Z"
   },
   {
    "duration": 8027,
    "start_time": "2022-12-25T20:55:22.765Z"
   },
   {
    "duration": 43,
    "start_time": "2022-12-25T21:00:02.935Z"
   },
   {
    "duration": 40,
    "start_time": "2022-12-25T21:00:51.415Z"
   },
   {
    "duration": 25,
    "start_time": "2022-12-25T21:09:33.908Z"
   },
   {
    "duration": 14,
    "start_time": "2022-12-25T21:10:11.533Z"
   },
   {
    "duration": 1259,
    "start_time": "2022-12-25T21:10:34.041Z"
   },
   {
    "duration": 58,
    "start_time": "2022-12-25T21:10:35.302Z"
   },
   {
    "duration": 18,
    "start_time": "2022-12-25T21:10:35.361Z"
   },
   {
    "duration": 17,
    "start_time": "2022-12-25T21:10:35.382Z"
   },
   {
    "duration": 12,
    "start_time": "2022-12-25T21:10:35.400Z"
   },
   {
    "duration": 47,
    "start_time": "2022-12-25T21:10:35.414Z"
   },
   {
    "duration": 20,
    "start_time": "2022-12-25T21:10:35.463Z"
   },
   {
    "duration": 11,
    "start_time": "2022-12-25T21:10:35.485Z"
   },
   {
    "duration": 36,
    "start_time": "2022-12-25T21:10:35.498Z"
   },
   {
    "duration": 5,
    "start_time": "2022-12-25T21:10:35.537Z"
   },
   {
    "duration": 29,
    "start_time": "2022-12-25T21:10:35.543Z"
   },
   {
    "duration": 22,
    "start_time": "2022-12-25T21:10:35.574Z"
   },
   {
    "duration": 4,
    "start_time": "2022-12-25T21:10:35.597Z"
   },
   {
    "duration": 8,
    "start_time": "2022-12-25T21:10:35.603Z"
   },
   {
    "duration": 10122,
    "start_time": "2022-12-25T21:10:35.613Z"
   },
   {
    "duration": 1297,
    "start_time": "2022-12-26T16:07:45.422Z"
   },
   {
    "duration": 162,
    "start_time": "2022-12-26T16:07:46.722Z"
   },
   {
    "duration": 13,
    "start_time": "2022-12-26T16:07:46.886Z"
   },
   {
    "duration": 17,
    "start_time": "2022-12-26T16:07:46.901Z"
   },
   {
    "duration": 16,
    "start_time": "2022-12-26T16:07:46.920Z"
   },
   {
    "duration": 17,
    "start_time": "2022-12-26T16:07:46.937Z"
   },
   {
    "duration": 9,
    "start_time": "2022-12-26T16:07:46.955Z"
   },
   {
    "duration": 10,
    "start_time": "2022-12-26T16:07:46.966Z"
   },
   {
    "duration": 49,
    "start_time": "2022-12-26T16:07:46.978Z"
   },
   {
    "duration": 5,
    "start_time": "2022-12-26T16:07:47.030Z"
   },
   {
    "duration": 9,
    "start_time": "2022-12-26T16:07:47.036Z"
   },
   {
    "duration": 7,
    "start_time": "2022-12-26T16:07:47.047Z"
   },
   {
    "duration": 19,
    "start_time": "2022-12-26T16:07:47.057Z"
   },
   {
    "duration": 7850,
    "start_time": "2022-12-26T16:07:47.078Z"
   },
   {
    "duration": 5,
    "start_time": "2022-12-26T16:11:43.936Z"
   },
   {
    "duration": 2200,
    "start_time": "2022-12-26T16:11:45.432Z"
   },
   {
    "duration": 242,
    "start_time": "2022-12-26T16:17:59.266Z"
   },
   {
    "duration": 809,
    "start_time": "2022-12-26T16:22:02.512Z"
   },
   {
    "duration": 6,
    "start_time": "2022-12-26T16:46:15.141Z"
   },
   {
    "duration": 2310,
    "start_time": "2022-12-26T16:46:16.083Z"
   },
   {
    "duration": 2095,
    "start_time": "2022-12-26T16:47:30.537Z"
   },
   {
    "duration": 2139,
    "start_time": "2022-12-26T16:48:22.093Z"
   },
   {
    "duration": 2382,
    "start_time": "2022-12-26T16:54:26.406Z"
   },
   {
    "duration": 2061,
    "start_time": "2022-12-26T16:54:41.784Z"
   },
   {
    "duration": 8,
    "start_time": "2022-12-26T20:44:14.788Z"
   },
   {
    "duration": 41,
    "start_time": "2022-12-26T20:44:16.062Z"
   },
   {
    "duration": 1366,
    "start_time": "2022-12-26T20:44:28.786Z"
   },
   {
    "duration": 94,
    "start_time": "2022-12-26T20:44:30.155Z"
   },
   {
    "duration": 12,
    "start_time": "2022-12-26T20:44:30.250Z"
   },
   {
    "duration": 17,
    "start_time": "2022-12-26T20:44:30.264Z"
   },
   {
    "duration": 11,
    "start_time": "2022-12-26T20:44:30.282Z"
   },
   {
    "duration": 22,
    "start_time": "2022-12-26T20:44:30.295Z"
   },
   {
    "duration": 7,
    "start_time": "2022-12-26T20:44:30.319Z"
   },
   {
    "duration": 17,
    "start_time": "2022-12-26T20:44:30.327Z"
   },
   {
    "duration": 25,
    "start_time": "2022-12-26T20:44:30.345Z"
   },
   {
    "duration": 4,
    "start_time": "2022-12-26T20:44:30.372Z"
   },
   {
    "duration": 15,
    "start_time": "2022-12-26T20:44:30.377Z"
   },
   {
    "duration": 22,
    "start_time": "2022-12-26T20:44:30.393Z"
   },
   {
    "duration": 16,
    "start_time": "2022-12-26T20:44:30.417Z"
   },
   {
    "duration": 7480,
    "start_time": "2022-12-26T20:44:30.434Z"
   },
   {
    "duration": 6,
    "start_time": "2022-12-26T20:44:37.916Z"
   },
   {
    "duration": 2075,
    "start_time": "2022-12-26T20:44:37.923Z"
   },
   {
    "duration": 1243,
    "start_time": "2022-12-26T20:52:36.530Z"
   },
   {
    "duration": 1212,
    "start_time": "2022-12-26T20:55:24.903Z"
   },
   {
    "duration": 1082,
    "start_time": "2022-12-26T20:56:09.954Z"
   },
   {
    "duration": 1211,
    "start_time": "2022-12-26T20:56:22.517Z"
   },
   {
    "duration": 1079,
    "start_time": "2022-12-26T20:57:30.419Z"
   },
   {
    "duration": 1276,
    "start_time": "2022-12-27T08:44:21.754Z"
   },
   {
    "duration": 94,
    "start_time": "2022-12-27T08:44:23.033Z"
   },
   {
    "duration": 14,
    "start_time": "2022-12-27T08:44:23.130Z"
   },
   {
    "duration": 16,
    "start_time": "2022-12-27T08:44:23.147Z"
   },
   {
    "duration": 21,
    "start_time": "2022-12-27T08:44:23.165Z"
   },
   {
    "duration": 48,
    "start_time": "2022-12-27T08:44:23.188Z"
   },
   {
    "duration": 8,
    "start_time": "2022-12-27T08:44:23.238Z"
   },
   {
    "duration": 20,
    "start_time": "2022-12-27T08:44:23.248Z"
   },
   {
    "duration": 55,
    "start_time": "2022-12-27T08:44:23.270Z"
   },
   {
    "duration": 4,
    "start_time": "2022-12-27T08:44:23.328Z"
   },
   {
    "duration": 11,
    "start_time": "2022-12-27T08:44:23.334Z"
   },
   {
    "duration": 9,
    "start_time": "2022-12-27T08:44:23.346Z"
   },
   {
    "duration": 13,
    "start_time": "2022-12-27T08:44:23.356Z"
   },
   {
    "duration": 7866,
    "start_time": "2022-12-27T08:44:23.371Z"
   },
   {
    "duration": 8,
    "start_time": "2022-12-27T08:44:31.239Z"
   },
   {
    "duration": 2265,
    "start_time": "2022-12-27T08:44:31.249Z"
   },
   {
    "duration": 1283,
    "start_time": "2022-12-27T08:44:33.516Z"
   },
   {
    "duration": 1148,
    "start_time": "2022-12-27T09:35:40.332Z"
   },
   {
    "duration": 55,
    "start_time": "2022-12-27T09:35:41.482Z"
   },
   {
    "duration": 12,
    "start_time": "2022-12-27T09:35:41.538Z"
   },
   {
    "duration": 18,
    "start_time": "2022-12-27T09:35:41.552Z"
   },
   {
    "duration": 17,
    "start_time": "2022-12-27T09:35:41.572Z"
   },
   {
    "duration": 31,
    "start_time": "2022-12-27T09:35:41.591Z"
   },
   {
    "duration": 31,
    "start_time": "2022-12-27T09:35:41.624Z"
   },
   {
    "duration": 22,
    "start_time": "2022-12-27T09:35:41.657Z"
   },
   {
    "duration": 30,
    "start_time": "2022-12-27T09:35:41.681Z"
   },
   {
    "duration": 4,
    "start_time": "2022-12-27T09:35:41.714Z"
   },
   {
    "duration": 14,
    "start_time": "2022-12-27T09:35:41.719Z"
   },
   {
    "duration": 13,
    "start_time": "2022-12-27T09:35:41.735Z"
   },
   {
    "duration": 24,
    "start_time": "2022-12-27T09:35:41.750Z"
   },
   {
    "duration": 7668,
    "start_time": "2022-12-27T09:35:41.776Z"
   },
   {
    "duration": 6,
    "start_time": "2022-12-27T09:35:49.446Z"
   },
   {
    "duration": 2368,
    "start_time": "2022-12-27T09:35:49.453Z"
   },
   {
    "duration": 1213,
    "start_time": "2022-12-27T09:35:51.823Z"
   },
   {
    "duration": 106,
    "start_time": "2022-12-27T09:35:53.038Z"
   },
   {
    "duration": 1425,
    "start_time": "2022-12-27T09:36:28.103Z"
   },
   {
    "duration": 55,
    "start_time": "2022-12-27T09:36:29.530Z"
   },
   {
    "duration": 13,
    "start_time": "2022-12-27T09:36:29.587Z"
   },
   {
    "duration": 17,
    "start_time": "2022-12-27T09:36:29.602Z"
   },
   {
    "duration": 15,
    "start_time": "2022-12-27T09:36:29.621Z"
   },
   {
    "duration": 18,
    "start_time": "2022-12-27T09:36:29.637Z"
   },
   {
    "duration": 9,
    "start_time": "2022-12-27T09:36:29.657Z"
   },
   {
    "duration": 13,
    "start_time": "2022-12-27T09:36:29.668Z"
   },
   {
    "duration": 46,
    "start_time": "2022-12-27T09:36:29.683Z"
   },
   {
    "duration": 5,
    "start_time": "2022-12-27T09:36:29.731Z"
   },
   {
    "duration": 13,
    "start_time": "2022-12-27T09:36:29.737Z"
   },
   {
    "duration": 4,
    "start_time": "2022-12-27T09:36:29.752Z"
   },
   {
    "duration": 9,
    "start_time": "2022-12-27T09:36:29.757Z"
   },
   {
    "duration": 7672,
    "start_time": "2022-12-27T09:36:29.768Z"
   },
   {
    "duration": 6,
    "start_time": "2022-12-27T09:36:37.441Z"
   },
   {
    "duration": 1903,
    "start_time": "2022-12-27T09:36:37.449Z"
   },
   {
    "duration": 1041,
    "start_time": "2022-12-27T09:36:39.355Z"
   },
   {
    "duration": 118,
    "start_time": "2022-12-27T09:36:40.398Z"
   },
   {
    "duration": 11,
    "start_time": "2022-12-27T09:37:47.095Z"
   },
   {
    "duration": 10,
    "start_time": "2022-12-27T09:38:09.663Z"
   },
   {
    "duration": 16,
    "start_time": "2022-12-27T09:38:17.290Z"
   },
   {
    "duration": 5,
    "start_time": "2022-12-27T09:39:43.257Z"
   },
   {
    "duration": 24,
    "start_time": "2022-12-27T09:39:55.058Z"
   },
   {
    "duration": 21,
    "start_time": "2022-12-27T09:41:03.307Z"
   },
   {
    "duration": 1358,
    "start_time": "2022-12-27T09:41:32.047Z"
   },
   {
    "duration": 55,
    "start_time": "2022-12-27T09:41:33.407Z"
   },
   {
    "duration": 11,
    "start_time": "2022-12-27T09:41:33.464Z"
   },
   {
    "duration": 15,
    "start_time": "2022-12-27T09:41:33.476Z"
   },
   {
    "duration": 10,
    "start_time": "2022-12-27T09:41:33.492Z"
   },
   {
    "duration": 19,
    "start_time": "2022-12-27T09:41:33.504Z"
   },
   {
    "duration": 9,
    "start_time": "2022-12-27T09:41:33.524Z"
   },
   {
    "duration": 13,
    "start_time": "2022-12-27T09:41:33.535Z"
   },
   {
    "duration": 22,
    "start_time": "2022-12-27T09:41:33.549Z"
   },
   {
    "duration": 4,
    "start_time": "2022-12-27T09:41:33.573Z"
   },
   {
    "duration": 15,
    "start_time": "2022-12-27T09:41:33.579Z"
   },
   {
    "duration": 4,
    "start_time": "2022-12-27T09:41:33.612Z"
   },
   {
    "duration": 7,
    "start_time": "2022-12-27T09:41:33.617Z"
   },
   {
    "duration": 7535,
    "start_time": "2022-12-27T09:41:33.625Z"
   },
   {
    "duration": 6,
    "start_time": "2022-12-27T09:41:41.162Z"
   },
   {
    "duration": 2009,
    "start_time": "2022-12-27T09:41:41.169Z"
   },
   {
    "duration": 1104,
    "start_time": "2022-12-27T09:41:43.180Z"
   },
   {
    "duration": 4,
    "start_time": "2022-12-27T09:41:44.285Z"
   },
   {
    "duration": 23,
    "start_time": "2022-12-27T09:41:44.291Z"
   },
   {
    "duration": 4,
    "start_time": "2022-12-27T09:42:40.328Z"
   },
   {
    "duration": 116,
    "start_time": "2022-12-27T09:43:07.790Z"
   },
   {
    "duration": 14,
    "start_time": "2022-12-27T09:44:18.122Z"
   },
   {
    "duration": 1460,
    "start_time": "2022-12-27T09:44:24.795Z"
   },
   {
    "duration": 53,
    "start_time": "2022-12-27T09:44:26.257Z"
   },
   {
    "duration": 13,
    "start_time": "2022-12-27T09:44:26.311Z"
   },
   {
    "duration": 13,
    "start_time": "2022-12-27T09:44:26.326Z"
   },
   {
    "duration": 14,
    "start_time": "2022-12-27T09:44:26.341Z"
   },
   {
    "duration": 31,
    "start_time": "2022-12-27T09:44:26.358Z"
   },
   {
    "duration": 9,
    "start_time": "2022-12-27T09:44:26.412Z"
   },
   {
    "duration": 19,
    "start_time": "2022-12-27T09:44:26.423Z"
   },
   {
    "duration": 26,
    "start_time": "2022-12-27T09:44:26.444Z"
   },
   {
    "duration": 7,
    "start_time": "2022-12-27T09:44:26.472Z"
   },
   {
    "duration": 23,
    "start_time": "2022-12-27T09:44:26.481Z"
   },
   {
    "duration": 4,
    "start_time": "2022-12-27T09:44:26.512Z"
   },
   {
    "duration": 11,
    "start_time": "2022-12-27T09:44:26.518Z"
   },
   {
    "duration": 7932,
    "start_time": "2022-12-27T09:44:26.532Z"
   },
   {
    "duration": 5,
    "start_time": "2022-12-27T09:44:34.466Z"
   },
   {
    "duration": 2285,
    "start_time": "2022-12-27T09:44:34.473Z"
   },
   {
    "duration": 1206,
    "start_time": "2022-12-27T09:44:36.760Z"
   },
   {
    "duration": 5,
    "start_time": "2022-12-27T09:44:37.967Z"
   },
   {
    "duration": 21,
    "start_time": "2022-12-27T09:44:37.974Z"
   },
   {
    "duration": 6,
    "start_time": "2022-12-27T09:44:37.997Z"
   },
   {
    "duration": 123,
    "start_time": "2022-12-27T09:44:38.011Z"
   },
   {
    "duration": 10,
    "start_time": "2022-12-27T09:45:09.840Z"
   },
   {
    "duration": 13,
    "start_time": "2022-12-27T09:45:14.771Z"
   },
   {
    "duration": 14,
    "start_time": "2022-12-27T09:47:01.752Z"
   },
   {
    "duration": 11,
    "start_time": "2022-12-27T09:47:56.396Z"
   },
   {
    "duration": 4,
    "start_time": "2022-12-27T09:49:36.941Z"
   },
   {
    "duration": 13,
    "start_time": "2022-12-27T09:49:49.973Z"
   },
   {
    "duration": 3,
    "start_time": "2022-12-27T09:50:04.568Z"
   },
   {
    "duration": 14,
    "start_time": "2022-12-27T09:50:05.598Z"
   },
   {
    "duration": 4,
    "start_time": "2022-12-27T09:59:16.125Z"
   },
   {
    "duration": 14,
    "start_time": "2022-12-27T09:59:18.107Z"
   },
   {
    "duration": 14,
    "start_time": "2022-12-27T09:59:37.902Z"
   },
   {
    "duration": 7,
    "start_time": "2022-12-27T10:01:35.681Z"
   },
   {
    "duration": 16,
    "start_time": "2022-12-27T10:01:36.436Z"
   },
   {
    "duration": 3,
    "start_time": "2022-12-27T10:02:01.315Z"
   },
   {
    "duration": 1305,
    "start_time": "2022-12-27T10:02:02.233Z"
   },
   {
    "duration": 1641,
    "start_time": "2022-12-27T21:27:59.969Z"
   },
   {
    "duration": 165,
    "start_time": "2022-12-27T21:28:01.613Z"
   },
   {
    "duration": 18,
    "start_time": "2022-12-27T21:28:01.780Z"
   },
   {
    "duration": 142,
    "start_time": "2022-12-27T21:28:01.800Z"
   },
   {
    "duration": 44,
    "start_time": "2022-12-27T21:28:01.945Z"
   },
   {
    "duration": 52,
    "start_time": "2022-12-27T21:28:01.990Z"
   },
   {
    "duration": 16,
    "start_time": "2022-12-27T21:28:02.044Z"
   },
   {
    "duration": 34,
    "start_time": "2022-12-27T21:28:02.061Z"
   },
   {
    "duration": 54,
    "start_time": "2022-12-27T21:28:02.096Z"
   },
   {
    "duration": 9,
    "start_time": "2022-12-27T21:28:02.152Z"
   },
   {
    "duration": 24,
    "start_time": "2022-12-27T21:28:02.163Z"
   },
   {
    "duration": 11,
    "start_time": "2022-12-27T21:28:02.189Z"
   },
   {
    "duration": 7,
    "start_time": "2022-12-27T21:28:02.203Z"
   },
   {
    "duration": 8191,
    "start_time": "2022-12-27T21:28:02.213Z"
   },
   {
    "duration": 5,
    "start_time": "2022-12-27T21:28:10.406Z"
   },
   {
    "duration": 2224,
    "start_time": "2022-12-27T21:28:10.413Z"
   },
   {
    "duration": 1218,
    "start_time": "2022-12-27T21:28:12.638Z"
   },
   {
    "duration": 5,
    "start_time": "2022-12-27T21:28:13.858Z"
   },
   {
    "duration": 34,
    "start_time": "2022-12-27T21:28:13.865Z"
   },
   {
    "duration": 53,
    "start_time": "2022-12-27T21:28:13.901Z"
   },
   {
    "duration": 1377,
    "start_time": "2022-12-27T21:28:13.956Z"
   },
   {
    "duration": 111,
    "start_time": "2022-12-27T21:31:26.926Z"
   },
   {
    "duration": 4,
    "start_time": "2022-12-27T21:41:44.886Z"
   },
   {
    "duration": 1332,
    "start_time": "2022-12-27T21:41:45.731Z"
   },
   {
    "duration": 4,
    "start_time": "2022-12-27T21:43:32.609Z"
   },
   {
    "duration": 28,
    "start_time": "2022-12-27T21:43:34.606Z"
   },
   {
    "duration": 3,
    "start_time": "2022-12-27T21:44:27.421Z"
   },
   {
    "duration": 1187,
    "start_time": "2022-12-27T21:44:28.370Z"
   },
   {
    "duration": 1230,
    "start_time": "2022-12-27T21:48:03.510Z"
   },
   {
    "duration": 4,
    "start_time": "2022-12-27T21:50:56.548Z"
   },
   {
    "duration": 1252,
    "start_time": "2022-12-27T21:50:57.386Z"
   },
   {
    "duration": 13,
    "start_time": "2022-12-27T21:54:45.790Z"
   },
   {
    "duration": 14,
    "start_time": "2022-12-27T21:54:57.043Z"
   },
   {
    "duration": 5384,
    "start_time": "2022-12-27T21:55:13.067Z"
   },
   {
    "duration": 5479,
    "start_time": "2022-12-27T21:56:44.026Z"
   },
   {
    "duration": 5483,
    "start_time": "2022-12-27T21:58:31.539Z"
   },
   {
    "duration": 5447,
    "start_time": "2022-12-27T21:58:44.591Z"
   },
   {
    "duration": 2017,
    "start_time": "2022-12-27T22:02:14.614Z"
   },
   {
    "duration": 97,
    "start_time": "2022-12-27T22:02:16.633Z"
   },
   {
    "duration": 18,
    "start_time": "2022-12-27T22:02:32.571Z"
   },
   {
    "duration": 1711,
    "start_time": "2022-12-28T09:02:18.952Z"
   },
   {
    "duration": 104,
    "start_time": "2022-12-28T09:02:20.665Z"
   },
   {
    "duration": 13,
    "start_time": "2022-12-28T09:02:20.771Z"
   },
   {
    "duration": 22,
    "start_time": "2022-12-28T09:02:20.786Z"
   },
   {
    "duration": 17,
    "start_time": "2022-12-28T09:02:20.809Z"
   },
   {
    "duration": 23,
    "start_time": "2022-12-28T09:02:20.827Z"
   },
   {
    "duration": 15,
    "start_time": "2022-12-28T09:02:20.851Z"
   },
   {
    "duration": 14,
    "start_time": "2022-12-28T09:02:20.868Z"
   },
   {
    "duration": 41,
    "start_time": "2022-12-28T09:02:20.884Z"
   },
   {
    "duration": 12,
    "start_time": "2022-12-28T09:02:20.927Z"
   },
   {
    "duration": 33,
    "start_time": "2022-12-28T09:02:20.940Z"
   },
   {
    "duration": 10,
    "start_time": "2022-12-28T09:02:20.974Z"
   },
   {
    "duration": 32,
    "start_time": "2022-12-28T09:02:20.986Z"
   },
   {
    "duration": 7930,
    "start_time": "2022-12-28T09:02:21.020Z"
   },
   {
    "duration": 5,
    "start_time": "2022-12-28T09:02:28.952Z"
   },
   {
    "duration": 2003,
    "start_time": "2022-12-28T09:02:28.958Z"
   },
   {
    "duration": 1104,
    "start_time": "2022-12-28T09:02:30.963Z"
   },
   {
    "duration": 4,
    "start_time": "2022-12-28T09:02:32.069Z"
   },
   {
    "duration": 19,
    "start_time": "2022-12-28T09:02:32.075Z"
   },
   {
    "duration": 5,
    "start_time": "2022-12-28T09:02:32.096Z"
   },
   {
    "duration": 1434,
    "start_time": "2022-12-28T09:02:32.102Z"
   },
   {
    "duration": 11,
    "start_time": "2022-12-28T09:02:33.538Z"
   },
   {
    "duration": 4901,
    "start_time": "2022-12-28T09:02:33.550Z"
   },
   {
    "duration": 1884,
    "start_time": "2022-12-28T09:02:38.452Z"
   },
   {
    "duration": 18,
    "start_time": "2022-12-28T09:02:40.337Z"
   },
   {
    "duration": 256,
    "start_time": "2022-12-28T09:04:22.898Z"
   },
   {
    "duration": 1263,
    "start_time": "2022-12-28T09:10:32.922Z"
   },
   {
    "duration": 1587,
    "start_time": "2022-12-28T09:10:47.914Z"
   },
   {
    "duration": 2142,
    "start_time": "2022-12-28T09:15:37.777Z"
   },
   {
    "duration": 162,
    "start_time": "2022-12-28T09:19:53.451Z"
   },
   {
    "duration": 13,
    "start_time": "2022-12-28T09:26:06.776Z"
   },
   {
    "duration": 12,
    "start_time": "2022-12-28T09:26:45.184Z"
   },
   {
    "duration": 1622,
    "start_time": "2022-12-28T14:55:38.658Z"
   },
   {
    "duration": 94,
    "start_time": "2022-12-28T14:55:40.282Z"
   },
   {
    "duration": 13,
    "start_time": "2022-12-28T14:55:40.378Z"
   },
   {
    "duration": 12,
    "start_time": "2022-12-28T14:55:40.393Z"
   },
   {
    "duration": 20,
    "start_time": "2022-12-28T14:55:40.407Z"
   },
   {
    "duration": 17,
    "start_time": "2022-12-28T14:55:40.429Z"
   },
   {
    "duration": 5,
    "start_time": "2022-12-28T14:55:40.447Z"
   },
   {
    "duration": 11,
    "start_time": "2022-12-28T14:55:40.454Z"
   },
   {
    "duration": 21,
    "start_time": "2022-12-28T14:55:40.467Z"
   },
   {
    "duration": 4,
    "start_time": "2022-12-28T14:55:40.490Z"
   },
   {
    "duration": 6,
    "start_time": "2022-12-28T14:55:40.516Z"
   },
   {
    "duration": 5,
    "start_time": "2022-12-28T14:55:40.524Z"
   },
   {
    "duration": 8,
    "start_time": "2022-12-28T14:55:40.530Z"
   },
   {
    "duration": 7794,
    "start_time": "2022-12-28T14:55:40.540Z"
   },
   {
    "duration": 6,
    "start_time": "2022-12-28T14:55:48.335Z"
   },
   {
    "duration": 2118,
    "start_time": "2022-12-28T14:55:48.342Z"
   },
   {
    "duration": 1165,
    "start_time": "2022-12-28T14:55:50.461Z"
   },
   {
    "duration": 4,
    "start_time": "2022-12-28T14:55:51.627Z"
   },
   {
    "duration": 21,
    "start_time": "2022-12-28T14:55:51.633Z"
   },
   {
    "duration": 3,
    "start_time": "2022-12-28T14:55:51.656Z"
   },
   {
    "duration": 1468,
    "start_time": "2022-12-28T14:55:51.660Z"
   },
   {
    "duration": 9,
    "start_time": "2022-12-28T14:55:53.129Z"
   },
   {
    "duration": 5191,
    "start_time": "2022-12-28T14:55:53.140Z"
   },
   {
    "duration": 1693,
    "start_time": "2022-12-28T14:55:58.332Z"
   },
   {
    "duration": 19,
    "start_time": "2022-12-28T14:56:00.027Z"
   },
   {
    "duration": 1991,
    "start_time": "2022-12-28T14:56:00.048Z"
   },
   {
    "duration": 193,
    "start_time": "2022-12-28T14:56:02.041Z"
   },
   {
    "duration": 117,
    "start_time": "2022-12-28T14:56:02.237Z"
   },
   {
    "duration": 268,
    "start_time": "2022-12-28T14:59:51.426Z"
   },
   {
    "duration": 5,
    "start_time": "2022-12-28T15:00:47.192Z"
   },
   {
    "duration": 11,
    "start_time": "2022-12-28T15:01:36.535Z"
   },
   {
    "duration": 1420,
    "start_time": "2022-12-28T15:03:00.132Z"
   },
   {
    "duration": 55,
    "start_time": "2022-12-28T15:03:01.554Z"
   },
   {
    "duration": 13,
    "start_time": "2022-12-28T15:03:01.610Z"
   },
   {
    "duration": 23,
    "start_time": "2022-12-28T15:03:01.625Z"
   },
   {
    "duration": 11,
    "start_time": "2022-12-28T15:03:01.650Z"
   },
   {
    "duration": 17,
    "start_time": "2022-12-28T15:03:01.662Z"
   },
   {
    "duration": 5,
    "start_time": "2022-12-28T15:03:01.680Z"
   },
   {
    "duration": 29,
    "start_time": "2022-12-28T15:03:01.687Z"
   },
   {
    "duration": 21,
    "start_time": "2022-12-28T15:03:01.718Z"
   },
   {
    "duration": 4,
    "start_time": "2022-12-28T15:03:01.741Z"
   },
   {
    "duration": 25,
    "start_time": "2022-12-28T15:03:01.747Z"
   },
   {
    "duration": 3,
    "start_time": "2022-12-28T15:03:01.774Z"
   },
   {
    "duration": 6,
    "start_time": "2022-12-28T15:03:01.779Z"
   },
   {
    "duration": 7678,
    "start_time": "2022-12-28T15:03:01.787Z"
   },
   {
    "duration": 6,
    "start_time": "2022-12-28T15:03:09.467Z"
   },
   {
    "duration": 2172,
    "start_time": "2022-12-28T15:03:09.475Z"
   },
   {
    "duration": 1183,
    "start_time": "2022-12-28T15:03:11.649Z"
   },
   {
    "duration": 4,
    "start_time": "2022-12-28T15:03:12.833Z"
   },
   {
    "duration": 16,
    "start_time": "2022-12-28T15:03:12.839Z"
   },
   {
    "duration": 9,
    "start_time": "2022-12-28T15:03:12.857Z"
   },
   {
    "duration": 1413,
    "start_time": "2022-12-28T15:03:12.867Z"
   },
   {
    "duration": 9,
    "start_time": "2022-12-28T15:03:14.282Z"
   },
   {
    "duration": 5082,
    "start_time": "2022-12-28T15:03:14.292Z"
   },
   {
    "duration": 1658,
    "start_time": "2022-12-28T15:03:19.377Z"
   },
   {
    "duration": 17,
    "start_time": "2022-12-28T15:03:21.036Z"
   },
   {
    "duration": 1938,
    "start_time": "2022-12-28T15:03:21.054Z"
   },
   {
    "duration": 166,
    "start_time": "2022-12-28T15:03:22.994Z"
   },
   {
    "duration": 272,
    "start_time": "2022-12-28T15:03:23.163Z"
   },
   {
    "duration": 5,
    "start_time": "2022-12-28T15:03:23.437Z"
   },
   {
    "duration": 7,
    "start_time": "2022-12-28T15:03:23.444Z"
   },
   {
    "duration": 117,
    "start_time": "2022-12-28T15:04:38.701Z"
   },
   {
    "duration": 316,
    "start_time": "2022-12-28T15:04:50.713Z"
   },
   {
    "duration": 5,
    "start_time": "2022-12-28T15:05:42.169Z"
   },
   {
    "duration": 10,
    "start_time": "2022-12-28T15:06:58.812Z"
   },
   {
    "duration": 7,
    "start_time": "2022-12-28T15:07:10.070Z"
   },
   {
    "duration": 2280,
    "start_time": "2022-12-28T15:50:09.779Z"
   },
   {
    "duration": 2318,
    "start_time": "2022-12-28T15:50:43.705Z"
   },
   {
    "duration": 2023,
    "start_time": "2022-12-28T15:51:29.432Z"
   },
   {
    "duration": 1168,
    "start_time": "2022-12-28T15:51:57.256Z"
   },
   {
    "duration": 1362,
    "start_time": "2022-12-28T15:52:35.256Z"
   },
   {
    "duration": 1998,
    "start_time": "2022-12-28T17:24:15.196Z"
   },
   {
    "duration": 1867,
    "start_time": "2022-12-28T17:25:44.900Z"
   },
   {
    "duration": 1907,
    "start_time": "2022-12-28T17:25:54.898Z"
   },
   {
    "duration": 1919,
    "start_time": "2022-12-28T17:27:06.873Z"
   },
   {
    "duration": 1896,
    "start_time": "2022-12-28T17:27:19.141Z"
   },
   {
    "duration": 1811,
    "start_time": "2022-12-28T17:28:11.944Z"
   },
   {
    "duration": 1801,
    "start_time": "2022-12-28T17:28:38.792Z"
   },
   {
    "duration": 1713,
    "start_time": "2022-12-28T17:30:18.636Z"
   },
   {
    "duration": 1510,
    "start_time": "2022-12-28T17:30:24.837Z"
   },
   {
    "duration": 1720,
    "start_time": "2022-12-29T19:47:13.298Z"
   },
   {
    "duration": 164,
    "start_time": "2022-12-29T19:47:15.022Z"
   },
   {
    "duration": 12,
    "start_time": "2022-12-29T19:47:15.187Z"
   },
   {
    "duration": 22,
    "start_time": "2022-12-29T19:47:15.201Z"
   },
   {
    "duration": 21,
    "start_time": "2022-12-29T19:47:15.225Z"
   },
   {
    "duration": 19,
    "start_time": "2022-12-29T19:47:15.248Z"
   },
   {
    "duration": 5,
    "start_time": "2022-12-29T19:47:15.268Z"
   },
   {
    "duration": 10,
    "start_time": "2022-12-29T19:47:15.275Z"
   },
   {
    "duration": 35,
    "start_time": "2022-12-29T19:47:15.287Z"
   },
   {
    "duration": 4,
    "start_time": "2022-12-29T19:47:15.324Z"
   },
   {
    "duration": 12,
    "start_time": "2022-12-29T19:47:15.330Z"
   },
   {
    "duration": 4,
    "start_time": "2022-12-29T19:47:15.343Z"
   },
   {
    "duration": 6,
    "start_time": "2022-12-29T19:47:15.348Z"
   },
   {
    "duration": 7897,
    "start_time": "2022-12-29T19:47:15.355Z"
   },
   {
    "duration": 5,
    "start_time": "2022-12-29T19:47:23.254Z"
   },
   {
    "duration": 2139,
    "start_time": "2022-12-29T19:47:23.260Z"
   },
   {
    "duration": 1183,
    "start_time": "2022-12-29T19:47:25.400Z"
   },
   {
    "duration": 4,
    "start_time": "2022-12-29T19:47:26.585Z"
   },
   {
    "duration": 31,
    "start_time": "2022-12-29T19:47:26.591Z"
   },
   {
    "duration": 5,
    "start_time": "2022-12-29T19:47:26.624Z"
   },
   {
    "duration": 1645,
    "start_time": "2022-12-29T19:47:26.630Z"
   },
   {
    "duration": 10,
    "start_time": "2022-12-29T19:47:28.277Z"
   },
   {
    "duration": 5032,
    "start_time": "2022-12-29T19:47:28.289Z"
   },
   {
    "duration": 1404,
    "start_time": "2022-12-29T19:47:33.323Z"
   },
   {
    "duration": 104,
    "start_time": "2022-12-29T19:47:34.729Z"
   },
   {
    "duration": 1735,
    "start_time": "2022-12-29T19:47:34.835Z"
   },
   {
    "duration": 1585,
    "start_time": "2022-12-29T19:47:36.571Z"
   },
   {
    "duration": 156,
    "start_time": "2022-12-29T19:47:38.160Z"
   },
   {
    "duration": 281,
    "start_time": "2022-12-29T19:47:38.321Z"
   },
   {
    "duration": 4,
    "start_time": "2022-12-29T19:47:38.604Z"
   },
   {
    "duration": 25,
    "start_time": "2022-12-29T19:47:38.621Z"
   },
   {
    "duration": 334,
    "start_time": "2022-12-29T19:47:38.648Z"
   },
   {
    "duration": 5,
    "start_time": "2022-12-29T19:47:38.983Z"
   },
   {
    "duration": 39,
    "start_time": "2022-12-29T19:47:38.989Z"
   },
   {
    "duration": 1639,
    "start_time": "2023-01-04T20:16:28.834Z"
   },
   {
    "duration": 370,
    "start_time": "2023-01-04T20:16:30.476Z"
   },
   {
    "duration": 12,
    "start_time": "2023-01-04T20:16:30.848Z"
   },
   {
    "duration": 12,
    "start_time": "2023-01-04T20:16:30.862Z"
   },
   {
    "duration": 10,
    "start_time": "2023-01-04T20:16:30.876Z"
   },
   {
    "duration": 38,
    "start_time": "2023-01-04T20:16:30.887Z"
   },
   {
    "duration": 11,
    "start_time": "2023-01-04T20:16:30.926Z"
   },
   {
    "duration": 17,
    "start_time": "2023-01-04T20:16:30.939Z"
   },
   {
    "duration": 29,
    "start_time": "2023-01-04T20:16:30.958Z"
   },
   {
    "duration": 4,
    "start_time": "2023-01-04T20:16:30.990Z"
   },
   {
    "duration": 31,
    "start_time": "2023-01-04T20:16:30.995Z"
   },
   {
    "duration": 13,
    "start_time": "2023-01-04T20:16:31.028Z"
   },
   {
    "duration": 23,
    "start_time": "2023-01-04T20:16:31.043Z"
   },
   {
    "duration": 8475,
    "start_time": "2023-01-04T20:16:31.068Z"
   },
   {
    "duration": 5,
    "start_time": "2023-01-04T20:16:39.545Z"
   },
   {
    "duration": 1157,
    "start_time": "2023-01-04T20:16:39.551Z"
   },
   {
    "duration": 4,
    "start_time": "2023-01-04T20:16:40.709Z"
   },
   {
    "duration": 18,
    "start_time": "2023-01-04T20:16:40.715Z"
   },
   {
    "duration": 3,
    "start_time": "2023-01-04T20:16:40.734Z"
   },
   {
    "duration": 1238,
    "start_time": "2023-01-04T20:16:40.739Z"
   },
   {
    "duration": 11,
    "start_time": "2023-01-04T20:16:41.978Z"
   },
   {
    "duration": 5153,
    "start_time": "2023-01-04T20:16:41.991Z"
   },
   {
    "duration": 1588,
    "start_time": "2023-01-04T20:16:47.146Z"
   },
   {
    "duration": 19,
    "start_time": "2023-01-04T20:16:48.736Z"
   },
   {
    "duration": 1695,
    "start_time": "2023-01-04T20:16:48.757Z"
   },
   {
    "duration": 1753,
    "start_time": "2023-01-04T20:16:50.454Z"
   },
   {
    "duration": 172,
    "start_time": "2023-01-04T20:16:52.208Z"
   },
   {
    "duration": 296,
    "start_time": "2023-01-04T20:16:52.383Z"
   },
   {
    "duration": 5,
    "start_time": "2023-01-04T20:16:52.680Z"
   },
   {
    "duration": 8,
    "start_time": "2023-01-04T20:16:52.686Z"
   },
   {
    "duration": 332,
    "start_time": "2023-01-04T20:16:52.695Z"
   },
   {
    "duration": 5,
    "start_time": "2023-01-04T20:16:53.029Z"
   },
   {
    "duration": 8,
    "start_time": "2023-01-04T20:16:53.035Z"
   },
   {
    "duration": 7,
    "start_time": "2023-01-04T20:18:54.597Z"
   },
   {
    "duration": 115,
    "start_time": "2023-01-04T20:19:35.003Z"
   },
   {
    "duration": 8,
    "start_time": "2023-01-04T20:19:46.363Z"
   },
   {
    "duration": 6,
    "start_time": "2023-01-04T20:20:03.370Z"
   },
   {
    "duration": 12,
    "start_time": "2023-01-04T20:20:04.181Z"
   },
   {
    "duration": 6,
    "start_time": "2023-01-04T20:39:48.850Z"
   },
   {
    "duration": 6,
    "start_time": "2023-01-04T20:40:09.992Z"
   },
   {
    "duration": 7,
    "start_time": "2023-01-04T20:40:19.203Z"
   },
   {
    "duration": 375,
    "start_time": "2023-01-04T20:56:52.376Z"
   },
   {
    "duration": 339,
    "start_time": "2023-01-04T20:57:07.417Z"
   },
   {
    "duration": 3,
    "start_time": "2023-01-04T20:57:46.518Z"
   },
   {
    "duration": 13,
    "start_time": "2023-01-04T20:58:51.733Z"
   },
   {
    "duration": 6,
    "start_time": "2023-01-04T20:59:02.246Z"
   },
   {
    "duration": 15,
    "start_time": "2023-01-04T20:59:05.143Z"
   },
   {
    "duration": 197,
    "start_time": "2023-01-04T21:01:33.703Z"
   },
   {
    "duration": 1397,
    "start_time": "2023-01-04T21:01:58.728Z"
   },
   {
    "duration": 52,
    "start_time": "2023-01-04T21:02:00.127Z"
   },
   {
    "duration": 12,
    "start_time": "2023-01-04T21:02:00.180Z"
   },
   {
    "duration": 26,
    "start_time": "2023-01-04T21:02:00.194Z"
   },
   {
    "duration": 38,
    "start_time": "2023-01-04T21:02:00.221Z"
   },
   {
    "duration": 39,
    "start_time": "2023-01-04T21:02:00.261Z"
   },
   {
    "duration": 19,
    "start_time": "2023-01-04T21:02:00.302Z"
   },
   {
    "duration": 32,
    "start_time": "2023-01-04T21:02:00.323Z"
   },
   {
    "duration": 41,
    "start_time": "2023-01-04T21:02:00.357Z"
   },
   {
    "duration": 234,
    "start_time": "2023-01-04T21:02:00.401Z"
   },
   {
    "duration": 23,
    "start_time": "2023-01-04T21:02:00.636Z"
   },
   {
    "duration": 38,
    "start_time": "2023-01-04T21:02:00.660Z"
   },
   {
    "duration": 25,
    "start_time": "2023-01-04T21:02:00.700Z"
   },
   {
    "duration": 25,
    "start_time": "2023-01-04T21:02:00.727Z"
   },
   {
    "duration": 25,
    "start_time": "2023-01-04T21:02:00.754Z"
   },
   {
    "duration": 8231,
    "start_time": "2023-01-04T21:02:00.781Z"
   },
   {
    "duration": 11,
    "start_time": "2023-01-04T21:02:09.014Z"
   },
   {
    "duration": 1065,
    "start_time": "2023-01-04T21:02:09.027Z"
   },
   {
    "duration": 5,
    "start_time": "2023-01-04T21:02:10.093Z"
   },
   {
    "duration": 21,
    "start_time": "2023-01-04T21:02:10.099Z"
   },
   {
    "duration": 4,
    "start_time": "2023-01-04T21:02:10.121Z"
   },
   {
    "duration": 1249,
    "start_time": "2023-01-04T21:02:10.126Z"
   },
   {
    "duration": 9,
    "start_time": "2023-01-04T21:02:11.377Z"
   },
   {
    "duration": 5056,
    "start_time": "2023-01-04T21:02:11.388Z"
   },
   {
    "duration": 1576,
    "start_time": "2023-01-04T21:02:16.446Z"
   },
   {
    "duration": 18,
    "start_time": "2023-01-04T21:02:18.023Z"
   },
   {
    "duration": 1501,
    "start_time": "2023-01-04T21:02:18.042Z"
   },
   {
    "duration": 1576,
    "start_time": "2023-01-04T21:02:19.546Z"
   },
   {
    "duration": 150,
    "start_time": "2023-01-04T21:02:21.124Z"
   },
   {
    "duration": 266,
    "start_time": "2023-01-04T21:02:21.276Z"
   },
   {
    "duration": 5,
    "start_time": "2023-01-04T21:02:21.543Z"
   },
   {
    "duration": 8,
    "start_time": "2023-01-04T21:02:21.549Z"
   },
   {
    "duration": 304,
    "start_time": "2023-01-04T21:02:21.559Z"
   },
   {
    "duration": 15,
    "start_time": "2023-01-04T21:02:21.865Z"
   },
   {
    "duration": 10,
    "start_time": "2023-01-04T21:02:21.882Z"
   },
   {
    "duration": 7,
    "start_time": "2023-01-04T21:03:08.850Z"
   },
   {
    "duration": 1388,
    "start_time": "2023-01-04T21:03:23.904Z"
   },
   {
    "duration": 51,
    "start_time": "2023-01-04T21:03:25.294Z"
   },
   {
    "duration": 11,
    "start_time": "2023-01-04T21:03:25.347Z"
   },
   {
    "duration": 12,
    "start_time": "2023-01-04T21:03:25.360Z"
   },
   {
    "duration": 15,
    "start_time": "2023-01-04T21:03:25.373Z"
   },
   {
    "duration": 41,
    "start_time": "2023-01-04T21:03:25.390Z"
   },
   {
    "duration": 6,
    "start_time": "2023-01-04T21:03:25.433Z"
   },
   {
    "duration": 8,
    "start_time": "2023-01-04T21:03:25.441Z"
   },
   {
    "duration": 209,
    "start_time": "2023-01-04T21:03:25.450Z"
   },
   {
    "duration": 7,
    "start_time": "2023-01-04T21:03:25.661Z"
   },
   {
    "duration": 24,
    "start_time": "2023-01-04T21:03:25.669Z"
   },
   {
    "duration": 4,
    "start_time": "2023-01-04T21:03:25.694Z"
   },
   {
    "duration": 28,
    "start_time": "2023-01-04T21:03:25.699Z"
   },
   {
    "duration": 3,
    "start_time": "2023-01-04T21:03:25.729Z"
   },
   {
    "duration": 6,
    "start_time": "2023-01-04T21:03:25.733Z"
   },
   {
    "duration": 7993,
    "start_time": "2023-01-04T21:03:25.740Z"
   },
   {
    "duration": 6,
    "start_time": "2023-01-04T21:03:33.735Z"
   },
   {
    "duration": 1110,
    "start_time": "2023-01-04T21:03:33.742Z"
   },
   {
    "duration": 4,
    "start_time": "2023-01-04T21:03:34.853Z"
   },
   {
    "duration": 15,
    "start_time": "2023-01-04T21:03:34.859Z"
   },
   {
    "duration": 3,
    "start_time": "2023-01-04T21:03:34.875Z"
   },
   {
    "duration": 1203,
    "start_time": "2023-01-04T21:03:34.880Z"
   },
   {
    "duration": 9,
    "start_time": "2023-01-04T21:03:36.085Z"
   },
   {
    "duration": 4913,
    "start_time": "2023-01-04T21:03:36.095Z"
   },
   {
    "duration": 1512,
    "start_time": "2023-01-04T21:03:41.010Z"
   },
   {
    "duration": 105,
    "start_time": "2023-01-04T21:03:42.528Z"
   },
   {
    "duration": 1523,
    "start_time": "2023-01-04T21:03:42.635Z"
   },
   {
    "duration": 1549,
    "start_time": "2023-01-04T21:03:44.161Z"
   },
   {
    "duration": 154,
    "start_time": "2023-01-04T21:03:45.711Z"
   },
   {
    "duration": 270,
    "start_time": "2023-01-04T21:03:45.866Z"
   },
   {
    "duration": 5,
    "start_time": "2023-01-04T21:03:46.138Z"
   },
   {
    "duration": 8,
    "start_time": "2023-01-04T21:03:46.144Z"
   },
   {
    "duration": 292,
    "start_time": "2023-01-04T21:03:46.153Z"
   },
   {
    "duration": 4,
    "start_time": "2023-01-04T21:03:46.447Z"
   },
   {
    "duration": 7,
    "start_time": "2023-01-04T21:03:46.453Z"
   },
   {
    "duration": 7,
    "start_time": "2023-01-04T21:03:49.469Z"
   },
   {
    "duration": 4,
    "start_time": "2023-01-04T21:03:59.204Z"
   },
   {
    "duration": 45,
    "start_time": "2023-01-04T21:04:00.125Z"
   },
   {
    "duration": 13,
    "start_time": "2023-01-04T21:04:02.554Z"
   },
   {
    "duration": 13,
    "start_time": "2023-01-04T21:04:06.496Z"
   },
   {
    "duration": 11,
    "start_time": "2023-01-04T21:04:08.583Z"
   },
   {
    "duration": 18,
    "start_time": "2023-01-04T21:04:12.023Z"
   },
   {
    "duration": 7,
    "start_time": "2023-01-04T21:04:16.319Z"
   },
   {
    "duration": 8,
    "start_time": "2023-01-04T21:04:17.396Z"
   },
   {
    "duration": 179,
    "start_time": "2023-01-04T21:04:18.398Z"
   },
   {
    "duration": 108,
    "start_time": "2023-01-04T21:04:29.962Z"
   },
   {
    "duration": 8,
    "start_time": "2023-01-04T21:09:28.251Z"
   },
   {
    "duration": 12,
    "start_time": "2023-01-04T21:09:30.154Z"
   },
   {
    "duration": 178,
    "start_time": "2023-01-04T21:11:08.101Z"
   },
   {
    "duration": 191,
    "start_time": "2023-01-04T21:15:29.073Z"
   },
   {
    "duration": 6,
    "start_time": "2023-01-04T21:15:35.373Z"
   },
   {
    "duration": 10,
    "start_time": "2023-01-04T21:21:22.698Z"
   },
   {
    "duration": 182,
    "start_time": "2023-01-04T21:51:09.582Z"
   },
   {
    "duration": 7,
    "start_time": "2023-01-04T21:51:30.627Z"
   },
   {
    "duration": 1349,
    "start_time": "2023-01-04T21:52:50.046Z"
   },
   {
    "duration": 53,
    "start_time": "2023-01-04T21:52:51.398Z"
   },
   {
    "duration": 12,
    "start_time": "2023-01-04T21:52:51.453Z"
   },
   {
    "duration": 11,
    "start_time": "2023-01-04T21:52:51.468Z"
   },
   {
    "duration": 13,
    "start_time": "2023-01-04T21:52:51.481Z"
   },
   {
    "duration": 39,
    "start_time": "2023-01-04T21:52:51.496Z"
   },
   {
    "duration": 11,
    "start_time": "2023-01-04T21:52:51.537Z"
   },
   {
    "duration": 8,
    "start_time": "2023-01-04T21:52:51.549Z"
   },
   {
    "duration": 215,
    "start_time": "2023-01-04T21:52:51.558Z"
   },
   {
    "duration": 6,
    "start_time": "2023-01-04T21:52:51.776Z"
   },
   {
    "duration": 24,
    "start_time": "2023-01-04T21:52:51.783Z"
   },
   {
    "duration": 4,
    "start_time": "2023-01-04T21:52:51.823Z"
   },
   {
    "duration": 9,
    "start_time": "2023-01-04T21:52:51.829Z"
   },
   {
    "duration": 4,
    "start_time": "2023-01-04T21:52:51.840Z"
   },
   {
    "duration": 7,
    "start_time": "2023-01-04T21:52:51.846Z"
   },
   {
    "duration": 8081,
    "start_time": "2023-01-04T21:52:51.855Z"
   },
   {
    "duration": 6,
    "start_time": "2023-01-04T21:52:59.937Z"
   },
   {
    "duration": 1186,
    "start_time": "2023-01-04T21:52:59.945Z"
   },
   {
    "duration": 4,
    "start_time": "2023-01-04T21:53:01.133Z"
   },
   {
    "duration": 19,
    "start_time": "2023-01-04T21:53:01.139Z"
   },
   {
    "duration": 4,
    "start_time": "2023-01-04T21:53:01.159Z"
   },
   {
    "duration": 1291,
    "start_time": "2023-01-04T21:53:01.164Z"
   },
   {
    "duration": 10,
    "start_time": "2023-01-04T21:53:02.456Z"
   },
   {
    "duration": 5040,
    "start_time": "2023-01-04T21:53:02.467Z"
   },
   {
    "duration": 2119,
    "start_time": "2023-01-04T21:53:07.508Z"
   },
   {
    "duration": 15,
    "start_time": "2023-01-04T21:53:09.629Z"
   },
   {
    "duration": 1478,
    "start_time": "2023-01-04T21:53:09.646Z"
   },
   {
    "duration": 1598,
    "start_time": "2023-01-04T21:53:11.127Z"
   },
   {
    "duration": 162,
    "start_time": "2023-01-04T21:53:12.726Z"
   },
   {
    "duration": 263,
    "start_time": "2023-01-04T21:53:12.890Z"
   },
   {
    "duration": 5,
    "start_time": "2023-01-04T21:53:13.155Z"
   },
   {
    "duration": 11,
    "start_time": "2023-01-04T21:53:13.162Z"
   },
   {
    "duration": 307,
    "start_time": "2023-01-04T21:53:13.174Z"
   },
   {
    "duration": 5,
    "start_time": "2023-01-04T21:53:13.483Z"
   },
   {
    "duration": 12,
    "start_time": "2023-01-04T21:53:13.490Z"
   },
   {
    "duration": 101,
    "start_time": "2023-01-04T21:55:58.027Z"
   },
   {
    "duration": 9,
    "start_time": "2023-01-04T21:56:18.702Z"
   },
   {
    "duration": 8,
    "start_time": "2023-01-04T21:56:41.409Z"
   },
   {
    "duration": 186,
    "start_time": "2023-01-04T21:56:42.066Z"
   },
   {
    "duration": 7,
    "start_time": "2023-01-04T21:56:44.005Z"
   },
   {
    "duration": 18,
    "start_time": "2023-01-04T21:56:46.899Z"
   },
   {
    "duration": 4,
    "start_time": "2023-01-04T21:56:48.116Z"
   },
   {
    "duration": 8,
    "start_time": "2023-01-04T21:56:56.416Z"
   },
   {
    "duration": 1915,
    "start_time": "2023-01-07T20:18:40.874Z"
   },
   {
    "duration": 97,
    "start_time": "2023-01-07T20:18:42.792Z"
   },
   {
    "duration": 19,
    "start_time": "2023-01-07T20:18:42.891Z"
   },
   {
    "duration": 14,
    "start_time": "2023-01-07T20:18:42.912Z"
   },
   {
    "duration": 26,
    "start_time": "2023-01-07T20:18:42.928Z"
   },
   {
    "duration": 34,
    "start_time": "2023-01-07T20:18:42.955Z"
   },
   {
    "duration": 23,
    "start_time": "2023-01-07T20:18:42.991Z"
   },
   {
    "duration": 12,
    "start_time": "2023-01-07T20:18:43.016Z"
   },
   {
    "duration": 210,
    "start_time": "2023-01-07T20:18:43.029Z"
   },
   {
    "duration": 7,
    "start_time": "2023-01-07T20:18:43.242Z"
   },
   {
    "duration": 42,
    "start_time": "2023-01-07T20:18:43.250Z"
   },
   {
    "duration": 33,
    "start_time": "2023-01-07T20:18:43.294Z"
   },
   {
    "duration": 23,
    "start_time": "2023-01-07T20:18:43.330Z"
   },
   {
    "duration": 20,
    "start_time": "2023-01-07T20:18:43.355Z"
   },
   {
    "duration": 25,
    "start_time": "2023-01-07T20:18:43.377Z"
   },
   {
    "duration": 8275,
    "start_time": "2023-01-07T20:18:43.404Z"
   },
   {
    "duration": 6,
    "start_time": "2023-01-07T20:18:51.680Z"
   },
   {
    "duration": 1289,
    "start_time": "2023-01-07T20:18:51.688Z"
   },
   {
    "duration": 3,
    "start_time": "2023-01-07T20:18:52.979Z"
   },
   {
    "duration": 17,
    "start_time": "2023-01-07T20:18:52.985Z"
   },
   {
    "duration": 3,
    "start_time": "2023-01-07T20:18:53.004Z"
   },
   {
    "duration": 1236,
    "start_time": "2023-01-07T20:18:53.009Z"
   },
   {
    "duration": 10,
    "start_time": "2023-01-07T20:18:54.247Z"
   },
   {
    "duration": 5416,
    "start_time": "2023-01-07T20:18:54.260Z"
   },
   {
    "duration": 2166,
    "start_time": "2023-01-07T20:18:59.678Z"
   },
   {
    "duration": 19,
    "start_time": "2023-01-07T20:19:01.846Z"
   },
   {
    "duration": 1669,
    "start_time": "2023-01-07T20:19:01.868Z"
   },
   {
    "duration": 1732,
    "start_time": "2023-01-07T20:19:03.541Z"
   },
   {
    "duration": 168,
    "start_time": "2023-01-07T20:19:05.276Z"
   },
   {
    "duration": 298,
    "start_time": "2023-01-07T20:19:05.445Z"
   },
   {
    "duration": 5,
    "start_time": "2023-01-07T20:19:05.745Z"
   },
   {
    "duration": 23,
    "start_time": "2023-01-07T20:19:05.752Z"
   },
   {
    "duration": 333,
    "start_time": "2023-01-07T20:19:05.777Z"
   },
   {
    "duration": 5,
    "start_time": "2023-01-07T20:19:06.112Z"
   },
   {
    "duration": 17,
    "start_time": "2023-01-07T20:19:06.119Z"
   },
   {
    "duration": 59,
    "start_time": "2023-01-07T20:46:42.624Z"
   },
   {
    "duration": 48,
    "start_time": "2023-01-07T20:47:05.127Z"
   },
   {
    "duration": 49,
    "start_time": "2023-01-07T20:49:15.882Z"
   },
   {
    "duration": 15,
    "start_time": "2023-01-07T20:49:40.638Z"
   },
   {
    "duration": 13,
    "start_time": "2023-01-07T20:49:51.684Z"
   },
   {
    "duration": 9,
    "start_time": "2023-01-07T20:50:13.912Z"
   },
   {
    "duration": 1449,
    "start_time": "2023-01-07T20:50:23.606Z"
   },
   {
    "duration": 55,
    "start_time": "2023-01-07T20:50:25.058Z"
   },
   {
    "duration": 13,
    "start_time": "2023-01-07T20:50:25.114Z"
   },
   {
    "duration": 12,
    "start_time": "2023-01-07T20:50:25.129Z"
   },
   {
    "duration": 11,
    "start_time": "2023-01-07T20:50:25.143Z"
   },
   {
    "duration": 18,
    "start_time": "2023-01-07T20:50:25.155Z"
   },
   {
    "duration": 8,
    "start_time": "2023-01-07T20:50:25.175Z"
   },
   {
    "duration": 11,
    "start_time": "2023-01-07T20:50:25.185Z"
   },
   {
    "duration": 39,
    "start_time": "2023-01-07T20:50:25.197Z"
   },
   {
    "duration": 209,
    "start_time": "2023-01-07T20:50:25.239Z"
   },
   {
    "duration": 6,
    "start_time": "2023-01-07T20:50:25.450Z"
   },
   {
    "duration": 23,
    "start_time": "2023-01-07T20:50:25.458Z"
   },
   {
    "duration": 4,
    "start_time": "2023-01-07T20:50:25.483Z"
   },
   {
    "duration": 9,
    "start_time": "2023-01-07T20:50:25.488Z"
   },
   {
    "duration": 6,
    "start_time": "2023-01-07T20:50:25.498Z"
   },
   {
    "duration": 11,
    "start_time": "2023-01-07T20:50:25.534Z"
   },
   {
    "duration": 9026,
    "start_time": "2023-01-07T20:50:25.547Z"
   },
   {
    "duration": 5,
    "start_time": "2023-01-07T20:50:34.575Z"
   },
   {
    "duration": 1202,
    "start_time": "2023-01-07T20:50:34.582Z"
   },
   {
    "duration": 5,
    "start_time": "2023-01-07T20:50:35.785Z"
   },
   {
    "duration": 28,
    "start_time": "2023-01-07T20:50:35.792Z"
   },
   {
    "duration": 4,
    "start_time": "2023-01-07T20:50:35.821Z"
   },
   {
    "duration": 1487,
    "start_time": "2023-01-07T20:50:35.827Z"
   },
   {
    "duration": 10,
    "start_time": "2023-01-07T20:50:37.316Z"
   },
   {
    "duration": 5243,
    "start_time": "2023-01-07T20:50:37.328Z"
   },
   {
    "duration": 1763,
    "start_time": "2023-01-07T20:50:42.574Z"
   },
   {
    "duration": 18,
    "start_time": "2023-01-07T20:50:44.339Z"
   },
   {
    "duration": 1684,
    "start_time": "2023-01-07T20:50:44.360Z"
   },
   {
    "duration": 1765,
    "start_time": "2023-01-07T20:50:46.046Z"
   },
   {
    "duration": 177,
    "start_time": "2023-01-07T20:50:47.813Z"
   },
   {
    "duration": 309,
    "start_time": "2023-01-07T20:50:47.993Z"
   },
   {
    "duration": 4,
    "start_time": "2023-01-07T20:50:48.304Z"
   },
   {
    "duration": 13,
    "start_time": "2023-01-07T20:50:48.310Z"
   },
   {
    "duration": 324,
    "start_time": "2023-01-07T20:50:48.324Z"
   },
   {
    "duration": 5,
    "start_time": "2023-01-07T20:50:48.651Z"
   },
   {
    "duration": 27,
    "start_time": "2023-01-07T20:50:48.657Z"
   },
   {
    "duration": 8,
    "start_time": "2023-01-07T20:50:56.229Z"
   },
   {
    "duration": 8,
    "start_time": "2023-01-07T20:56:24.066Z"
   },
   {
    "duration": 124,
    "start_time": "2023-01-07T20:56:46.064Z"
   },
   {
    "duration": 10,
    "start_time": "2023-01-07T20:56:57.973Z"
   },
   {
    "duration": 1524,
    "start_time": "2023-01-07T20:57:18.300Z"
   },
   {
    "duration": 56,
    "start_time": "2023-01-07T20:57:19.826Z"
   },
   {
    "duration": 12,
    "start_time": "2023-01-07T20:57:19.883Z"
   },
   {
    "duration": 13,
    "start_time": "2023-01-07T20:57:19.898Z"
   },
   {
    "duration": 26,
    "start_time": "2023-01-07T20:57:19.912Z"
   },
   {
    "duration": 19,
    "start_time": "2023-01-07T20:57:19.939Z"
   },
   {
    "duration": 6,
    "start_time": "2023-01-07T20:57:19.960Z"
   },
   {
    "duration": 10,
    "start_time": "2023-01-07T20:57:19.968Z"
   },
   {
    "duration": 10,
    "start_time": "2023-01-07T20:57:19.979Z"
   },
   {
    "duration": 56,
    "start_time": "2023-01-07T20:57:19.991Z"
   },
   {
    "duration": 230,
    "start_time": "2023-01-07T20:57:20.049Z"
   },
   {
    "duration": 6,
    "start_time": "2023-01-07T20:57:20.281Z"
   },
   {
    "duration": 34,
    "start_time": "2023-01-07T20:57:20.289Z"
   },
   {
    "duration": 12,
    "start_time": "2023-01-07T20:57:20.325Z"
   },
   {
    "duration": 11,
    "start_time": "2023-01-07T20:57:20.338Z"
   },
   {
    "duration": 14,
    "start_time": "2023-01-07T20:57:20.351Z"
   },
   {
    "duration": 7,
    "start_time": "2023-01-07T20:57:20.366Z"
   },
   {
    "duration": 8795,
    "start_time": "2023-01-07T20:57:20.374Z"
   },
   {
    "duration": 6,
    "start_time": "2023-01-07T20:57:29.171Z"
   },
   {
    "duration": 1224,
    "start_time": "2023-01-07T20:57:29.178Z"
   },
   {
    "duration": 5,
    "start_time": "2023-01-07T20:57:30.403Z"
   },
   {
    "duration": 47,
    "start_time": "2023-01-07T20:57:30.410Z"
   },
   {
    "duration": 12,
    "start_time": "2023-01-07T20:57:30.459Z"
   },
   {
    "duration": 1366,
    "start_time": "2023-01-07T20:57:30.473Z"
   },
   {
    "duration": 11,
    "start_time": "2023-01-07T20:57:31.841Z"
   },
   {
    "duration": 5256,
    "start_time": "2023-01-07T20:57:31.854Z"
   },
   {
    "duration": 1824,
    "start_time": "2023-01-07T20:57:37.112Z"
   },
   {
    "duration": 19,
    "start_time": "2023-01-07T20:57:38.939Z"
   },
   {
    "duration": 1663,
    "start_time": "2023-01-07T20:57:38.960Z"
   },
   {
    "duration": 1779,
    "start_time": "2023-01-07T20:57:40.625Z"
   },
   {
    "duration": 232,
    "start_time": "2023-01-07T20:57:42.406Z"
   },
   {
    "duration": 349,
    "start_time": "2023-01-07T20:57:42.640Z"
   },
   {
    "duration": 6,
    "start_time": "2023-01-07T20:57:42.992Z"
   },
   {
    "duration": 12,
    "start_time": "2023-01-07T20:57:43.000Z"
   },
   {
    "duration": 399,
    "start_time": "2023-01-07T20:57:43.014Z"
   },
   {
    "duration": 5,
    "start_time": "2023-01-07T20:57:43.416Z"
   },
   {
    "duration": 21,
    "start_time": "2023-01-07T20:57:43.423Z"
   },
   {
    "duration": 125,
    "start_time": "2023-01-07T20:58:33.772Z"
   },
   {
    "duration": 6,
    "start_time": "2023-01-07T20:58:47.498Z"
   },
   {
    "duration": 13,
    "start_time": "2023-01-07T20:58:49.466Z"
   },
   {
    "duration": 7,
    "start_time": "2023-01-07T20:59:28.799Z"
   },
   {
    "duration": 10,
    "start_time": "2023-01-07T20:59:29.467Z"
   },
   {
    "duration": 13,
    "start_time": "2023-01-07T20:59:49.097Z"
   },
   {
    "duration": 214,
    "start_time": "2023-01-07T21:00:01.416Z"
   },
   {
    "duration": 8,
    "start_time": "2023-01-07T21:00:18.258Z"
   },
   {
    "duration": 1522,
    "start_time": "2023-01-07T21:00:26.512Z"
   },
   {
    "duration": 56,
    "start_time": "2023-01-07T21:00:28.036Z"
   },
   {
    "duration": 12,
    "start_time": "2023-01-07T21:00:28.093Z"
   },
   {
    "duration": 16,
    "start_time": "2023-01-07T21:00:28.107Z"
   },
   {
    "duration": 24,
    "start_time": "2023-01-07T21:00:28.125Z"
   },
   {
    "duration": 26,
    "start_time": "2023-01-07T21:00:28.150Z"
   },
   {
    "duration": 7,
    "start_time": "2023-01-07T21:00:28.178Z"
   },
   {
    "duration": 12,
    "start_time": "2023-01-07T21:00:28.187Z"
   },
   {
    "duration": 12,
    "start_time": "2023-01-07T21:00:28.201Z"
   },
   {
    "duration": 218,
    "start_time": "2023-01-07T21:00:28.236Z"
   },
   {
    "duration": 7,
    "start_time": "2023-01-07T21:00:28.457Z"
   },
   {
    "duration": 26,
    "start_time": "2023-01-07T21:00:28.466Z"
   },
   {
    "duration": 5,
    "start_time": "2023-01-07T21:00:28.494Z"
   },
   {
    "duration": 11,
    "start_time": "2023-01-07T21:00:28.501Z"
   },
   {
    "duration": 6,
    "start_time": "2023-01-07T21:00:28.535Z"
   },
   {
    "duration": 23,
    "start_time": "2023-01-07T21:00:28.542Z"
   },
   {
    "duration": 9038,
    "start_time": "2023-01-07T21:00:28.568Z"
   },
   {
    "duration": 6,
    "start_time": "2023-01-07T21:00:37.608Z"
   },
   {
    "duration": 1291,
    "start_time": "2023-01-07T21:00:37.616Z"
   },
   {
    "duration": 6,
    "start_time": "2023-01-07T21:00:38.909Z"
   },
   {
    "duration": 57,
    "start_time": "2023-01-07T21:00:38.918Z"
   },
   {
    "duration": 13,
    "start_time": "2023-01-07T21:00:38.977Z"
   },
   {
    "duration": 1359,
    "start_time": "2023-01-07T21:00:38.993Z"
   },
   {
    "duration": 10,
    "start_time": "2023-01-07T21:00:40.354Z"
   },
   {
    "duration": 5085,
    "start_time": "2023-01-07T21:00:40.366Z"
   },
   {
    "duration": 2089,
    "start_time": "2023-01-07T21:00:45.453Z"
   },
   {
    "duration": 17,
    "start_time": "2023-01-07T21:00:47.544Z"
   },
   {
    "duration": 1705,
    "start_time": "2023-01-07T21:00:47.564Z"
   },
   {
    "duration": 1860,
    "start_time": "2023-01-07T21:00:49.271Z"
   },
   {
    "duration": 169,
    "start_time": "2023-01-07T21:00:51.135Z"
   },
   {
    "duration": 322,
    "start_time": "2023-01-07T21:00:51.306Z"
   },
   {
    "duration": 10,
    "start_time": "2023-01-07T21:00:51.629Z"
   },
   {
    "duration": 8,
    "start_time": "2023-01-07T21:00:51.640Z"
   },
   {
    "duration": 356,
    "start_time": "2023-01-07T21:00:51.650Z"
   },
   {
    "duration": 7,
    "start_time": "2023-01-07T21:00:52.008Z"
   },
   {
    "duration": 21,
    "start_time": "2023-01-07T21:00:52.016Z"
   },
   {
    "duration": 164,
    "start_time": "2023-01-07T21:02:56.163Z"
   },
   {
    "duration": 237,
    "start_time": "2023-01-07T21:03:03.357Z"
   },
   {
    "duration": 51,
    "start_time": "2023-01-07T21:06:37.001Z"
   },
   {
    "duration": 1450,
    "start_time": "2023-01-07T22:07:43.716Z"
   },
   {
    "duration": 53,
    "start_time": "2023-01-07T22:07:45.168Z"
   },
   {
    "duration": 12,
    "start_time": "2023-01-07T22:07:45.222Z"
   },
   {
    "duration": 25,
    "start_time": "2023-01-07T22:07:45.236Z"
   },
   {
    "duration": 13,
    "start_time": "2023-01-07T22:07:45.263Z"
   },
   {
    "duration": 18,
    "start_time": "2023-01-07T22:07:45.278Z"
   },
   {
    "duration": 5,
    "start_time": "2023-01-07T22:07:45.297Z"
   },
   {
    "duration": 7,
    "start_time": "2023-01-07T22:07:45.304Z"
   },
   {
    "duration": 36,
    "start_time": "2023-01-07T22:07:45.313Z"
   },
   {
    "duration": 213,
    "start_time": "2023-01-07T22:07:45.351Z"
   },
   {
    "duration": 6,
    "start_time": "2023-01-07T22:07:45.566Z"
   },
   {
    "duration": 28,
    "start_time": "2023-01-07T22:07:45.573Z"
   },
   {
    "duration": 4,
    "start_time": "2023-01-07T22:07:45.602Z"
   },
   {
    "duration": 9,
    "start_time": "2023-01-07T22:07:45.608Z"
   },
   {
    "duration": 30,
    "start_time": "2023-01-07T22:07:45.618Z"
   },
   {
    "duration": 8,
    "start_time": "2023-01-07T22:07:45.651Z"
   },
   {
    "duration": 7814,
    "start_time": "2023-01-07T22:07:45.660Z"
   },
   {
    "duration": 6,
    "start_time": "2023-01-07T22:07:53.477Z"
   },
   {
    "duration": 1344,
    "start_time": "2023-01-07T22:07:53.485Z"
   },
   {
    "duration": 12,
    "start_time": "2023-01-07T22:07:54.831Z"
   },
   {
    "duration": 173,
    "start_time": "2023-01-07T22:07:54.850Z"
   },
   {
    "duration": 4,
    "start_time": "2023-01-07T22:07:55.025Z"
   },
   {
    "duration": 2729,
    "start_time": "2023-01-07T22:07:55.030Z"
   },
   {
    "duration": 14,
    "start_time": "2023-01-07T22:07:57.761Z"
   },
   {
    "duration": 6074,
    "start_time": "2023-01-07T22:07:57.778Z"
   },
   {
    "duration": 1792,
    "start_time": "2023-01-07T22:08:03.854Z"
   },
   {
    "duration": 20,
    "start_time": "2023-01-07T22:08:05.647Z"
   },
   {
    "duration": 1895,
    "start_time": "2023-01-07T22:08:05.670Z"
   },
   {
    "duration": 1901,
    "start_time": "2023-01-07T22:08:07.567Z"
   },
   {
    "duration": 186,
    "start_time": "2023-01-07T22:08:09.470Z"
   },
   {
    "duration": 335,
    "start_time": "2023-01-07T22:08:09.659Z"
   },
   {
    "duration": 6,
    "start_time": "2023-01-07T22:08:09.996Z"
   },
   {
    "duration": 46,
    "start_time": "2023-01-07T22:08:10.003Z"
   },
   {
    "duration": 366,
    "start_time": "2023-01-07T22:08:10.053Z"
   },
   {
    "duration": 5,
    "start_time": "2023-01-07T22:08:10.421Z"
   },
   {
    "duration": 18,
    "start_time": "2023-01-07T22:08:10.436Z"
   },
   {
    "duration": 4,
    "start_time": "2023-01-07T22:34:19.409Z"
   },
   {
    "duration": 3,
    "start_time": "2023-01-07T22:34:26.354Z"
   },
   {
    "duration": 23,
    "start_time": "2023-01-07T22:34:45.898Z"
   },
   {
    "duration": 5,
    "start_time": "2023-01-07T22:34:46.720Z"
   },
   {
    "duration": 8,
    "start_time": "2023-01-07T22:34:48.723Z"
   },
   {
    "duration": 4,
    "start_time": "2023-01-07T22:34:55.536Z"
   },
   {
    "duration": 5,
    "start_time": "2023-01-07T22:34:58.081Z"
   },
   {
    "duration": 8232,
    "start_time": "2023-01-07T22:35:00.181Z"
   },
   {
    "duration": 6,
    "start_time": "2023-01-07T22:35:19.361Z"
   },
   {
    "duration": 1482,
    "start_time": "2023-01-07T22:35:22.157Z"
   },
   {
    "duration": 1662,
    "start_time": "2023-01-07T22:36:51.513Z"
   },
   {
    "duration": 57,
    "start_time": "2023-01-07T22:36:53.178Z"
   },
   {
    "duration": 13,
    "start_time": "2023-01-07T22:36:53.237Z"
   },
   {
    "duration": 16,
    "start_time": "2023-01-07T22:36:53.252Z"
   },
   {
    "duration": 18,
    "start_time": "2023-01-07T22:36:53.270Z"
   },
   {
    "duration": 46,
    "start_time": "2023-01-07T22:36:53.291Z"
   },
   {
    "duration": 49,
    "start_time": "2023-01-07T22:36:53.339Z"
   },
   {
    "duration": 29,
    "start_time": "2023-01-07T22:36:53.390Z"
   },
   {
    "duration": 16,
    "start_time": "2023-01-07T22:36:53.421Z"
   },
   {
    "duration": 3,
    "start_time": "2023-01-07T22:36:53.440Z"
   },
   {
    "duration": 13,
    "start_time": "2023-01-07T22:36:53.444Z"
   },
   {
    "duration": 48,
    "start_time": "2023-01-07T22:36:53.459Z"
   },
   {
    "duration": 4,
    "start_time": "2023-01-07T22:36:53.509Z"
   },
   {
    "duration": 19,
    "start_time": "2023-01-07T22:36:53.515Z"
   },
   {
    "duration": 9,
    "start_time": "2023-01-07T22:36:53.536Z"
   },
   {
    "duration": 12,
    "start_time": "2023-01-07T22:36:53.547Z"
   },
   {
    "duration": 8705,
    "start_time": "2023-01-07T22:36:53.562Z"
   },
   {
    "duration": 6,
    "start_time": "2023-01-07T22:37:02.269Z"
   },
   {
    "duration": 1321,
    "start_time": "2023-01-07T22:37:02.277Z"
   },
   {
    "duration": 4,
    "start_time": "2023-01-07T22:37:03.599Z"
   },
   {
    "duration": 30,
    "start_time": "2023-01-07T22:37:03.605Z"
   },
   {
    "duration": 3,
    "start_time": "2023-01-07T22:37:03.637Z"
   },
   {
    "duration": 1416,
    "start_time": "2023-01-07T22:37:03.642Z"
   },
   {
    "duration": 11,
    "start_time": "2023-01-07T22:37:05.059Z"
   },
   {
    "duration": 5682,
    "start_time": "2023-01-07T22:37:05.072Z"
   },
   {
    "duration": 1883,
    "start_time": "2023-01-07T22:37:10.756Z"
   },
   {
    "duration": 34,
    "start_time": "2023-01-07T22:37:12.642Z"
   },
   {
    "duration": 1749,
    "start_time": "2023-01-07T22:37:12.681Z"
   },
   {
    "duration": 1741,
    "start_time": "2023-01-07T22:37:14.435Z"
   },
   {
    "duration": 171,
    "start_time": "2023-01-07T22:37:16.177Z"
   },
   {
    "duration": 313,
    "start_time": "2023-01-07T22:37:16.350Z"
   },
   {
    "duration": 7,
    "start_time": "2023-01-07T22:37:16.665Z"
   },
   {
    "duration": 18,
    "start_time": "2023-01-07T22:37:16.673Z"
   },
   {
    "duration": 381,
    "start_time": "2023-01-07T22:37:16.693Z"
   },
   {
    "duration": 5,
    "start_time": "2023-01-07T22:37:17.076Z"
   },
   {
    "duration": 16,
    "start_time": "2023-01-07T22:37:17.083Z"
   },
   {
    "duration": 20,
    "start_time": "2023-01-07T22:38:07.918Z"
   },
   {
    "duration": 5,
    "start_time": "2023-01-07T22:38:08.799Z"
   },
   {
    "duration": 3,
    "start_time": "2023-01-07T22:38:29.754Z"
   },
   {
    "duration": 3,
    "start_time": "2023-01-07T22:38:31.115Z"
   },
   {
    "duration": 3,
    "start_time": "2023-01-07T22:38:31.640Z"
   },
   {
    "duration": 29,
    "start_time": "2023-01-07T22:38:33.593Z"
   },
   {
    "duration": 4,
    "start_time": "2023-01-07T22:38:34.638Z"
   },
   {
    "duration": 1443,
    "start_time": "2023-01-07T22:38:43.610Z"
   },
   {
    "duration": 53,
    "start_time": "2023-01-07T22:38:45.055Z"
   },
   {
    "duration": 13,
    "start_time": "2023-01-07T22:38:45.110Z"
   },
   {
    "duration": 17,
    "start_time": "2023-01-07T22:38:45.125Z"
   },
   {
    "duration": 12,
    "start_time": "2023-01-07T22:38:45.144Z"
   },
   {
    "duration": 19,
    "start_time": "2023-01-07T22:38:45.157Z"
   },
   {
    "duration": 23,
    "start_time": "2023-01-07T22:38:45.177Z"
   },
   {
    "duration": 8,
    "start_time": "2023-01-07T22:38:45.202Z"
   },
   {
    "duration": 7,
    "start_time": "2023-01-07T22:38:45.212Z"
   },
   {
    "duration": 5,
    "start_time": "2023-01-07T22:38:45.236Z"
   },
   {
    "duration": 25,
    "start_time": "2023-01-07T22:38:45.242Z"
   },
   {
    "duration": 44,
    "start_time": "2023-01-07T22:38:45.269Z"
   },
   {
    "duration": 4,
    "start_time": "2023-01-07T22:38:45.315Z"
   },
   {
    "duration": 18,
    "start_time": "2023-01-07T22:38:45.320Z"
   },
   {
    "duration": 6,
    "start_time": "2023-01-07T22:38:45.340Z"
   },
   {
    "duration": 5,
    "start_time": "2023-01-07T22:38:45.348Z"
   },
   {
    "duration": 8919,
    "start_time": "2023-01-07T22:38:45.355Z"
   },
   {
    "duration": 6,
    "start_time": "2023-01-07T22:38:54.276Z"
   },
   {
    "duration": 1225,
    "start_time": "2023-01-07T22:38:54.283Z"
   },
   {
    "duration": 5,
    "start_time": "2023-01-07T22:38:55.510Z"
   },
   {
    "duration": 28,
    "start_time": "2023-01-07T22:38:55.517Z"
   },
   {
    "duration": 4,
    "start_time": "2023-01-07T22:38:55.547Z"
   },
   {
    "duration": 1422,
    "start_time": "2023-01-07T22:38:55.553Z"
   },
   {
    "duration": 11,
    "start_time": "2023-01-07T22:38:56.976Z"
   },
   {
    "duration": 5513,
    "start_time": "2023-01-07T22:38:56.988Z"
   },
   {
    "duration": 1539,
    "start_time": "2023-01-07T22:39:02.503Z"
   },
   {
    "duration": 106,
    "start_time": "2023-01-07T22:39:04.045Z"
   },
   {
    "duration": 1689,
    "start_time": "2023-01-07T22:39:04.154Z"
   },
   {
    "duration": 1815,
    "start_time": "2023-01-07T22:39:05.845Z"
   },
   {
    "duration": 176,
    "start_time": "2023-01-07T22:39:07.662Z"
   },
   {
    "duration": 318,
    "start_time": "2023-01-07T22:39:07.840Z"
   },
   {
    "duration": 5,
    "start_time": "2023-01-07T22:39:08.160Z"
   },
   {
    "duration": 19,
    "start_time": "2023-01-07T22:39:08.167Z"
   },
   {
    "duration": 325,
    "start_time": "2023-01-07T22:39:08.187Z"
   },
   {
    "duration": 5,
    "start_time": "2023-01-07T22:39:08.513Z"
   },
   {
    "duration": 24,
    "start_time": "2023-01-07T22:39:08.520Z"
   },
   {
    "duration": 10,
    "start_time": "2023-01-07T22:39:36.110Z"
   },
   {
    "duration": 1419,
    "start_time": "2023-01-07T22:39:44.450Z"
   },
   {
    "duration": 55,
    "start_time": "2023-01-07T22:39:45.871Z"
   },
   {
    "duration": 13,
    "start_time": "2023-01-07T22:39:45.927Z"
   },
   {
    "duration": 25,
    "start_time": "2023-01-07T22:39:45.942Z"
   },
   {
    "duration": 42,
    "start_time": "2023-01-07T22:39:45.969Z"
   },
   {
    "duration": 29,
    "start_time": "2023-01-07T22:39:46.014Z"
   },
   {
    "duration": 8,
    "start_time": "2023-01-07T22:39:46.045Z"
   },
   {
    "duration": 20,
    "start_time": "2023-01-07T22:39:46.054Z"
   },
   {
    "duration": 18,
    "start_time": "2023-01-07T22:39:46.076Z"
   },
   {
    "duration": 13,
    "start_time": "2023-01-07T22:39:46.097Z"
   },
   {
    "duration": 22,
    "start_time": "2023-01-07T22:39:46.112Z"
   },
   {
    "duration": 53,
    "start_time": "2023-01-07T22:39:46.136Z"
   },
   {
    "duration": 9,
    "start_time": "2023-01-07T22:39:46.191Z"
   },
   {
    "duration": 31,
    "start_time": "2023-01-07T22:39:46.202Z"
   },
   {
    "duration": 31,
    "start_time": "2023-01-07T22:39:46.235Z"
   },
   {
    "duration": 23,
    "start_time": "2023-01-07T22:39:46.268Z"
   },
   {
    "duration": 8867,
    "start_time": "2023-01-07T22:39:46.293Z"
   },
   {
    "duration": 5,
    "start_time": "2023-01-07T22:39:55.162Z"
   },
   {
    "duration": 1220,
    "start_time": "2023-01-07T22:39:55.169Z"
   },
   {
    "duration": 4,
    "start_time": "2023-01-07T22:39:56.391Z"
   },
   {
    "duration": 25,
    "start_time": "2023-01-07T22:39:56.396Z"
   },
   {
    "duration": 4,
    "start_time": "2023-01-07T22:39:56.423Z"
   },
   {
    "duration": 1338,
    "start_time": "2023-01-07T22:39:56.428Z"
   },
   {
    "duration": 10,
    "start_time": "2023-01-07T22:39:57.768Z"
   },
   {
    "duration": 5662,
    "start_time": "2023-01-07T22:39:57.780Z"
   },
   {
    "duration": 1902,
    "start_time": "2023-01-07T22:40:03.443Z"
   },
   {
    "duration": 22,
    "start_time": "2023-01-07T22:40:05.347Z"
   },
   {
    "duration": 1745,
    "start_time": "2023-01-07T22:40:05.374Z"
   },
   {
    "duration": 1735,
    "start_time": "2023-01-07T22:40:07.121Z"
   },
   {
    "duration": 192,
    "start_time": "2023-01-07T22:40:08.858Z"
   },
   {
    "duration": 303,
    "start_time": "2023-01-07T22:40:09.052Z"
   },
   {
    "duration": 5,
    "start_time": "2023-01-07T22:40:09.356Z"
   },
   {
    "duration": 10,
    "start_time": "2023-01-07T22:40:09.364Z"
   },
   {
    "duration": 348,
    "start_time": "2023-01-07T22:40:09.376Z"
   },
   {
    "duration": 13,
    "start_time": "2023-01-07T22:40:09.725Z"
   },
   {
    "duration": 16,
    "start_time": "2023-01-07T22:40:09.740Z"
   },
   {
    "duration": 14,
    "start_time": "2023-01-07T22:44:56.736Z"
   },
   {
    "duration": 818,
    "start_time": "2023-01-07T22:46:28.985Z"
   },
   {
    "duration": 712,
    "start_time": "2023-01-07T22:55:24.576Z"
   },
   {
    "duration": 13,
    "start_time": "2023-01-07T22:55:47.263Z"
   },
   {
    "duration": 11,
    "start_time": "2023-01-07T22:56:43.613Z"
   },
   {
    "duration": 1448,
    "start_time": "2023-01-07T22:58:08.290Z"
   },
   {
    "duration": 57,
    "start_time": "2023-01-07T22:58:09.741Z"
   },
   {
    "duration": 13,
    "start_time": "2023-01-07T22:58:09.799Z"
   },
   {
    "duration": 17,
    "start_time": "2023-01-07T22:58:09.814Z"
   },
   {
    "duration": 13,
    "start_time": "2023-01-07T22:58:09.834Z"
   },
   {
    "duration": 23,
    "start_time": "2023-01-07T22:58:09.848Z"
   },
   {
    "duration": 14,
    "start_time": "2023-01-07T22:58:09.873Z"
   },
   {
    "duration": 9,
    "start_time": "2023-01-07T22:58:09.889Z"
   },
   {
    "duration": 13,
    "start_time": "2023-01-07T22:58:09.899Z"
   },
   {
    "duration": 2,
    "start_time": "2023-01-07T22:58:09.935Z"
   },
   {
    "duration": 9,
    "start_time": "2023-01-07T22:58:09.939Z"
   },
   {
    "duration": 51,
    "start_time": "2023-01-07T22:58:09.950Z"
   },
   {
    "duration": 4,
    "start_time": "2023-01-07T22:58:10.003Z"
   },
   {
    "duration": 23,
    "start_time": "2023-01-07T22:58:10.009Z"
   },
   {
    "duration": 9,
    "start_time": "2023-01-07T22:58:10.034Z"
   },
   {
    "duration": 9,
    "start_time": "2023-01-07T22:58:10.045Z"
   },
   {
    "duration": 9605,
    "start_time": "2023-01-07T22:58:10.056Z"
   },
   {
    "duration": 6,
    "start_time": "2023-01-07T22:58:19.663Z"
   },
   {
    "duration": 1212,
    "start_time": "2023-01-07T22:58:19.670Z"
   },
   {
    "duration": 13,
    "start_time": "2023-01-07T22:58:20.885Z"
   },
   {
    "duration": 405,
    "start_time": "2023-01-07T22:58:20.901Z"
   },
   {
    "duration": 4,
    "start_time": "2023-01-07T22:58:21.309Z"
   },
   {
    "duration": 35,
    "start_time": "2023-01-07T22:58:21.315Z"
   },
   {
    "duration": 14,
    "start_time": "2023-01-07T22:58:21.352Z"
   },
   {
    "duration": 1524,
    "start_time": "2023-01-07T22:58:21.368Z"
   },
   {
    "duration": 10,
    "start_time": "2023-01-07T22:58:22.894Z"
   },
   {
    "duration": 5646,
    "start_time": "2023-01-07T22:58:22.906Z"
   },
   {
    "duration": 1780,
    "start_time": "2023-01-07T22:58:28.555Z"
   },
   {
    "duration": 18,
    "start_time": "2023-01-07T22:58:30.337Z"
   },
   {
    "duration": 1618,
    "start_time": "2023-01-07T22:58:30.357Z"
   },
   {
    "duration": 1611,
    "start_time": "2023-01-07T22:58:31.977Z"
   },
   {
    "duration": 148,
    "start_time": "2023-01-07T22:58:33.589Z"
   },
   {
    "duration": 286,
    "start_time": "2023-01-07T22:58:33.739Z"
   },
   {
    "duration": 11,
    "start_time": "2023-01-07T22:58:34.027Z"
   },
   {
    "duration": 11,
    "start_time": "2023-01-07T22:58:34.040Z"
   },
   {
    "duration": 333,
    "start_time": "2023-01-07T22:58:34.053Z"
   },
   {
    "duration": 4,
    "start_time": "2023-01-07T22:58:34.388Z"
   },
   {
    "duration": 10,
    "start_time": "2023-01-07T22:58:34.394Z"
   },
   {
    "duration": 173,
    "start_time": "2023-01-07T23:06:08.199Z"
   },
   {
    "duration": 20,
    "start_time": "2023-01-07T23:06:32.515Z"
   },
   {
    "duration": 19,
    "start_time": "2023-01-07T23:08:20.291Z"
   },
   {
    "duration": 55,
    "start_time": "2023-01-07T23:08:47.432Z"
   },
   {
    "duration": 1766,
    "start_time": "2023-01-07T23:14:13.293Z"
   },
   {
    "duration": 55,
    "start_time": "2023-01-07T23:14:15.061Z"
   },
   {
    "duration": 13,
    "start_time": "2023-01-07T23:14:15.117Z"
   },
   {
    "duration": 20,
    "start_time": "2023-01-07T23:14:15.132Z"
   },
   {
    "duration": 11,
    "start_time": "2023-01-07T23:14:15.154Z"
   },
   {
    "duration": 19,
    "start_time": "2023-01-07T23:14:15.166Z"
   },
   {
    "duration": 13,
    "start_time": "2023-01-07T23:14:15.186Z"
   },
   {
    "duration": 15,
    "start_time": "2023-01-07T23:14:15.201Z"
   },
   {
    "duration": 99,
    "start_time": "2023-01-07T23:14:15.217Z"
   },
   {
    "duration": 3,
    "start_time": "2023-01-07T23:14:15.319Z"
   },
   {
    "duration": 12,
    "start_time": "2023-01-07T23:14:15.323Z"
   },
   {
    "duration": 33,
    "start_time": "2023-01-07T23:14:15.337Z"
   },
   {
    "duration": 5,
    "start_time": "2023-01-07T23:14:15.372Z"
   },
   {
    "duration": 10,
    "start_time": "2023-01-07T23:14:15.379Z"
   },
   {
    "duration": 4,
    "start_time": "2023-01-07T23:14:15.391Z"
   },
   {
    "duration": 6,
    "start_time": "2023-01-07T23:14:15.396Z"
   },
   {
    "duration": 7553,
    "start_time": "2023-01-07T23:14:15.404Z"
   },
   {
    "duration": 5,
    "start_time": "2023-01-07T23:14:22.959Z"
   },
   {
    "duration": 1149,
    "start_time": "2023-01-07T23:14:22.965Z"
   },
   {
    "duration": 22,
    "start_time": "2023-01-07T23:14:24.116Z"
   },
   {
    "duration": 604,
    "start_time": "2023-01-07T23:14:24.140Z"
   },
   {
    "duration": 329,
    "start_time": "2023-01-07T23:14:24.745Z"
   },
   {
    "duration": 0,
    "start_time": "2023-01-07T23:14:25.076Z"
   },
   {
    "duration": 0,
    "start_time": "2023-01-07T23:14:25.077Z"
   },
   {
    "duration": 0,
    "start_time": "2023-01-07T23:14:25.079Z"
   },
   {
    "duration": 0,
    "start_time": "2023-01-07T23:14:25.080Z"
   },
   {
    "duration": 0,
    "start_time": "2023-01-07T23:14:25.081Z"
   },
   {
    "duration": 0,
    "start_time": "2023-01-07T23:14:25.135Z"
   },
   {
    "duration": 0,
    "start_time": "2023-01-07T23:14:25.137Z"
   },
   {
    "duration": 0,
    "start_time": "2023-01-07T23:14:25.138Z"
   },
   {
    "duration": 0,
    "start_time": "2023-01-07T23:14:25.139Z"
   },
   {
    "duration": 0,
    "start_time": "2023-01-07T23:14:25.140Z"
   },
   {
    "duration": 0,
    "start_time": "2023-01-07T23:14:25.141Z"
   },
   {
    "duration": 0,
    "start_time": "2023-01-07T23:14:25.142Z"
   },
   {
    "duration": 0,
    "start_time": "2023-01-07T23:14:25.144Z"
   },
   {
    "duration": 0,
    "start_time": "2023-01-07T23:14:25.144Z"
   },
   {
    "duration": 0,
    "start_time": "2023-01-07T23:14:25.145Z"
   },
   {
    "duration": 0,
    "start_time": "2023-01-07T23:14:25.146Z"
   },
   {
    "duration": 0,
    "start_time": "2023-01-07T23:14:25.147Z"
   },
   {
    "duration": 19,
    "start_time": "2023-01-07T23:15:09.301Z"
   },
   {
    "duration": 149,
    "start_time": "2023-01-07T23:15:47.143Z"
   },
   {
    "duration": 14,
    "start_time": "2023-01-07T23:18:21.827Z"
   },
   {
    "duration": 22,
    "start_time": "2023-01-07T23:19:17.952Z"
   },
   {
    "duration": 17,
    "start_time": "2023-01-07T23:19:25.858Z"
   },
   {
    "duration": 15,
    "start_time": "2023-01-07T23:19:26.521Z"
   },
   {
    "duration": 55,
    "start_time": "2023-01-07T23:19:54.930Z"
   },
   {
    "duration": 45,
    "start_time": "2023-01-07T23:20:32.017Z"
   },
   {
    "duration": 14,
    "start_time": "2023-01-07T23:24:21.663Z"
   },
   {
    "duration": 1716,
    "start_time": "2023-01-07T23:25:03.128Z"
   },
   {
    "duration": 56,
    "start_time": "2023-01-07T23:25:04.846Z"
   },
   {
    "duration": 14,
    "start_time": "2023-01-07T23:25:04.903Z"
   },
   {
    "duration": 18,
    "start_time": "2023-01-07T23:25:04.919Z"
   },
   {
    "duration": 23,
    "start_time": "2023-01-07T23:25:04.940Z"
   },
   {
    "duration": 28,
    "start_time": "2023-01-07T23:25:04.965Z"
   },
   {
    "duration": 34,
    "start_time": "2023-01-07T23:25:04.995Z"
   },
   {
    "duration": 15,
    "start_time": "2023-01-07T23:25:05.031Z"
   },
   {
    "duration": 118,
    "start_time": "2023-01-07T23:25:05.048Z"
   },
   {
    "duration": 2,
    "start_time": "2023-01-07T23:25:05.170Z"
   },
   {
    "duration": 32,
    "start_time": "2023-01-07T23:25:05.174Z"
   },
   {
    "duration": 51,
    "start_time": "2023-01-07T23:25:05.208Z"
   },
   {
    "duration": 5,
    "start_time": "2023-01-07T23:25:05.261Z"
   },
   {
    "duration": 19,
    "start_time": "2023-01-07T23:25:05.267Z"
   },
   {
    "duration": 30,
    "start_time": "2023-01-07T23:25:05.288Z"
   },
   {
    "duration": 19,
    "start_time": "2023-01-07T23:25:05.320Z"
   },
   {
    "duration": 8949,
    "start_time": "2023-01-07T23:25:05.341Z"
   },
   {
    "duration": 6,
    "start_time": "2023-01-07T23:25:14.292Z"
   },
   {
    "duration": 1237,
    "start_time": "2023-01-07T23:25:14.299Z"
   },
   {
    "duration": 16,
    "start_time": "2023-01-07T23:25:15.538Z"
   },
   {
    "duration": 530,
    "start_time": "2023-01-07T23:25:15.556Z"
   },
   {
    "duration": 82,
    "start_time": "2023-01-07T23:25:16.088Z"
   },
   {
    "duration": 5,
    "start_time": "2023-01-07T23:25:16.172Z"
   },
   {
    "duration": 276,
    "start_time": "2023-01-07T23:25:16.178Z"
   },
   {
    "duration": 0,
    "start_time": "2023-01-07T23:25:16.457Z"
   },
   {
    "duration": 0,
    "start_time": "2023-01-07T23:25:16.458Z"
   },
   {
    "duration": 0,
    "start_time": "2023-01-07T23:25:16.459Z"
   },
   {
    "duration": 0,
    "start_time": "2023-01-07T23:25:16.460Z"
   },
   {
    "duration": 0,
    "start_time": "2023-01-07T23:25:16.461Z"
   },
   {
    "duration": 0,
    "start_time": "2023-01-07T23:25:16.462Z"
   },
   {
    "duration": 0,
    "start_time": "2023-01-07T23:25:16.463Z"
   },
   {
    "duration": 0,
    "start_time": "2023-01-07T23:25:16.464Z"
   },
   {
    "duration": 1,
    "start_time": "2023-01-07T23:25:16.465Z"
   },
   {
    "duration": 0,
    "start_time": "2023-01-07T23:25:16.466Z"
   },
   {
    "duration": 0,
    "start_time": "2023-01-07T23:25:16.467Z"
   },
   {
    "duration": 0,
    "start_time": "2023-01-07T23:25:16.468Z"
   },
   {
    "duration": 0,
    "start_time": "2023-01-07T23:25:16.469Z"
   },
   {
    "duration": 0,
    "start_time": "2023-01-07T23:25:16.470Z"
   },
   {
    "duration": 0,
    "start_time": "2023-01-07T23:25:16.472Z"
   },
   {
    "duration": 22,
    "start_time": "2023-01-07T23:31:34.133Z"
   },
   {
    "duration": 29,
    "start_time": "2023-01-07T23:32:31.790Z"
   },
   {
    "duration": 49,
    "start_time": "2023-01-07T23:33:08.573Z"
   },
   {
    "duration": 15,
    "start_time": "2023-01-07T23:33:30.259Z"
   },
   {
    "duration": 13,
    "start_time": "2023-01-07T23:42:44.685Z"
   },
   {
    "duration": 1769,
    "start_time": "2023-01-08T20:50:13.567Z"
   },
   {
    "duration": 97,
    "start_time": "2023-01-08T20:50:15.338Z"
   },
   {
    "duration": 14,
    "start_time": "2023-01-08T20:50:15.436Z"
   },
   {
    "duration": 12,
    "start_time": "2023-01-08T20:50:15.452Z"
   },
   {
    "duration": 10,
    "start_time": "2023-01-08T20:50:15.465Z"
   },
   {
    "duration": 17,
    "start_time": "2023-01-08T20:50:15.477Z"
   },
   {
    "duration": 6,
    "start_time": "2023-01-08T20:50:15.516Z"
   },
   {
    "duration": 8,
    "start_time": "2023-01-08T20:50:15.523Z"
   },
   {
    "duration": 92,
    "start_time": "2023-01-08T20:50:15.532Z"
   },
   {
    "duration": 2,
    "start_time": "2023-01-08T20:50:15.627Z"
   },
   {
    "duration": 4,
    "start_time": "2023-01-08T20:50:15.630Z"
   },
   {
    "duration": 22,
    "start_time": "2023-01-08T20:50:15.635Z"
   },
   {
    "duration": 4,
    "start_time": "2023-01-08T20:50:15.658Z"
   },
   {
    "duration": 7,
    "start_time": "2023-01-08T20:50:15.664Z"
   },
   {
    "duration": 4,
    "start_time": "2023-01-08T20:50:15.672Z"
   },
   {
    "duration": 5,
    "start_time": "2023-01-08T20:50:15.677Z"
   },
   {
    "duration": 7004,
    "start_time": "2023-01-08T20:50:15.716Z"
   },
   {
    "duration": 5,
    "start_time": "2023-01-08T20:50:22.722Z"
   },
   {
    "duration": 1068,
    "start_time": "2023-01-08T20:50:22.728Z"
   },
   {
    "duration": 15,
    "start_time": "2023-01-08T20:50:23.797Z"
   },
   {
    "duration": 131,
    "start_time": "2023-01-08T20:50:23.813Z"
   },
   {
    "duration": 216,
    "start_time": "2023-01-08T20:50:23.946Z"
   },
   {
    "duration": 0,
    "start_time": "2023-01-08T20:50:24.164Z"
   },
   {
    "duration": 0,
    "start_time": "2023-01-08T20:50:24.165Z"
   },
   {
    "duration": 0,
    "start_time": "2023-01-08T20:50:24.166Z"
   },
   {
    "duration": 0,
    "start_time": "2023-01-08T20:50:24.167Z"
   },
   {
    "duration": 0,
    "start_time": "2023-01-08T20:50:24.168Z"
   },
   {
    "duration": 0,
    "start_time": "2023-01-08T20:50:24.169Z"
   },
   {
    "duration": 0,
    "start_time": "2023-01-08T20:50:24.170Z"
   },
   {
    "duration": 0,
    "start_time": "2023-01-08T20:50:24.171Z"
   },
   {
    "duration": 0,
    "start_time": "2023-01-08T20:50:24.173Z"
   },
   {
    "duration": 0,
    "start_time": "2023-01-08T20:50:24.174Z"
   },
   {
    "duration": 0,
    "start_time": "2023-01-08T20:50:24.175Z"
   },
   {
    "duration": 0,
    "start_time": "2023-01-08T20:50:24.176Z"
   },
   {
    "duration": 0,
    "start_time": "2023-01-08T20:50:24.177Z"
   },
   {
    "duration": 0,
    "start_time": "2023-01-08T20:50:24.178Z"
   },
   {
    "duration": 0,
    "start_time": "2023-01-08T20:50:24.179Z"
   },
   {
    "duration": 0,
    "start_time": "2023-01-08T20:50:24.180Z"
   },
   {
    "duration": 0,
    "start_time": "2023-01-08T20:50:24.181Z"
   },
   {
    "duration": 11,
    "start_time": "2023-01-08T20:51:18.260Z"
   },
   {
    "duration": 13,
    "start_time": "2023-01-08T20:59:38.918Z"
   },
   {
    "duration": 11,
    "start_time": "2023-01-08T20:59:53.904Z"
   },
   {
    "duration": 360,
    "start_time": "2023-01-08T21:00:15.224Z"
   },
   {
    "duration": 1920,
    "start_time": "2023-01-08T21:17:04.613Z"
   },
   {
    "duration": 167,
    "start_time": "2023-01-08T21:17:06.536Z"
   },
   {
    "duration": 13,
    "start_time": "2023-01-08T21:17:06.705Z"
   },
   {
    "duration": 12,
    "start_time": "2023-01-08T21:17:06.720Z"
   },
   {
    "duration": 17,
    "start_time": "2023-01-08T21:17:06.734Z"
   },
   {
    "duration": 26,
    "start_time": "2023-01-08T21:17:06.753Z"
   },
   {
    "duration": 6,
    "start_time": "2023-01-08T21:17:06.781Z"
   },
   {
    "duration": 10,
    "start_time": "2023-01-08T21:17:06.788Z"
   },
   {
    "duration": 113,
    "start_time": "2023-01-08T21:17:06.799Z"
   },
   {
    "duration": 3,
    "start_time": "2023-01-08T21:17:06.916Z"
   },
   {
    "duration": 11,
    "start_time": "2023-01-08T21:17:06.921Z"
   },
   {
    "duration": 30,
    "start_time": "2023-01-08T21:17:06.934Z"
   },
   {
    "duration": 14,
    "start_time": "2023-01-08T21:17:06.966Z"
   },
   {
    "duration": 8,
    "start_time": "2023-01-08T21:17:06.983Z"
   },
   {
    "duration": 7,
    "start_time": "2023-01-08T21:17:06.993Z"
   },
   {
    "duration": 9,
    "start_time": "2023-01-08T21:17:07.001Z"
   },
   {
    "duration": 8580,
    "start_time": "2023-01-08T21:17:07.012Z"
   },
   {
    "duration": 5,
    "start_time": "2023-01-08T21:17:15.594Z"
   },
   {
    "duration": 1161,
    "start_time": "2023-01-08T21:17:15.600Z"
   },
   {
    "duration": 14,
    "start_time": "2023-01-08T21:17:16.763Z"
   },
   {
    "duration": 507,
    "start_time": "2023-01-08T21:17:16.779Z"
   },
   {
    "duration": 4,
    "start_time": "2023-01-08T21:17:17.288Z"
   },
   {
    "duration": 24,
    "start_time": "2023-01-08T21:17:17.294Z"
   },
   {
    "duration": 58,
    "start_time": "2023-01-08T21:17:17.320Z"
   },
   {
    "duration": 1681,
    "start_time": "2023-01-08T21:17:17.382Z"
   },
   {
    "duration": 19,
    "start_time": "2023-01-08T21:17:19.065Z"
   },
   {
    "duration": 5834,
    "start_time": "2023-01-08T21:17:19.087Z"
   },
   {
    "duration": 1664,
    "start_time": "2023-01-08T21:17:24.926Z"
   },
   {
    "duration": 18,
    "start_time": "2023-01-08T21:17:26.592Z"
   },
   {
    "duration": 1727,
    "start_time": "2023-01-08T21:17:26.612Z"
   },
   {
    "duration": 1664,
    "start_time": "2023-01-08T21:17:28.342Z"
   },
   {
    "duration": 197,
    "start_time": "2023-01-08T21:17:30.008Z"
   },
   {
    "duration": 356,
    "start_time": "2023-01-08T21:17:30.207Z"
   },
   {
    "duration": 6,
    "start_time": "2023-01-08T21:17:30.565Z"
   },
   {
    "duration": 32,
    "start_time": "2023-01-08T21:17:30.578Z"
   },
   {
    "duration": 409,
    "start_time": "2023-01-08T21:17:30.612Z"
   },
   {
    "duration": 5,
    "start_time": "2023-01-08T21:17:31.022Z"
   },
   {
    "duration": 22,
    "start_time": "2023-01-08T21:17:31.029Z"
   },
   {
    "duration": 5,
    "start_time": "2023-01-08T21:20:09.100Z"
   },
   {
    "duration": 1896,
    "start_time": "2023-01-08T21:20:17.915Z"
   },
   {
    "duration": 56,
    "start_time": "2023-01-08T21:20:19.813Z"
   },
   {
    "duration": 15,
    "start_time": "2023-01-08T21:20:19.871Z"
   },
   {
    "duration": 14,
    "start_time": "2023-01-08T21:20:19.889Z"
   },
   {
    "duration": 17,
    "start_time": "2023-01-08T21:20:19.905Z"
   },
   {
    "duration": 56,
    "start_time": "2023-01-08T21:20:19.924Z"
   },
   {
    "duration": 7,
    "start_time": "2023-01-08T21:20:19.982Z"
   },
   {
    "duration": 13,
    "start_time": "2023-01-08T21:20:19.991Z"
   },
   {
    "duration": 119,
    "start_time": "2023-01-08T21:20:20.006Z"
   },
   {
    "duration": 3,
    "start_time": "2023-01-08T21:20:20.128Z"
   },
   {
    "duration": 17,
    "start_time": "2023-01-08T21:20:20.133Z"
   },
   {
    "duration": 38,
    "start_time": "2023-01-08T21:20:20.152Z"
   },
   {
    "duration": 5,
    "start_time": "2023-01-08T21:20:20.192Z"
   },
   {
    "duration": 8,
    "start_time": "2023-01-08T21:20:20.199Z"
   },
   {
    "duration": 8,
    "start_time": "2023-01-08T21:20:20.209Z"
   },
   {
    "duration": 8,
    "start_time": "2023-01-08T21:20:20.219Z"
   },
   {
    "duration": 8167,
    "start_time": "2023-01-08T21:20:20.228Z"
   },
   {
    "duration": 6,
    "start_time": "2023-01-08T21:20:28.397Z"
   },
   {
    "duration": 1127,
    "start_time": "2023-01-08T21:20:28.405Z"
   },
   {
    "duration": 14,
    "start_time": "2023-01-08T21:20:29.534Z"
   },
   {
    "duration": 456,
    "start_time": "2023-01-08T21:20:29.549Z"
   },
   {
    "duration": 14,
    "start_time": "2023-01-08T21:20:30.007Z"
   },
   {
    "duration": 5,
    "start_time": "2023-01-08T21:20:30.023Z"
   },
   {
    "duration": 55,
    "start_time": "2023-01-08T21:20:30.030Z"
   },
   {
    "duration": 15,
    "start_time": "2023-01-08T21:20:30.088Z"
   },
   {
    "duration": 1312,
    "start_time": "2023-01-08T21:20:30.105Z"
   },
   {
    "duration": 11,
    "start_time": "2023-01-08T21:20:31.418Z"
   },
   {
    "duration": 5059,
    "start_time": "2023-01-08T21:20:31.433Z"
   },
   {
    "duration": 1195,
    "start_time": "2023-01-08T21:20:36.494Z"
   },
   {
    "duration": 102,
    "start_time": "2023-01-08T21:20:37.691Z"
   },
   {
    "duration": 1670,
    "start_time": "2023-01-08T21:20:37.795Z"
   },
   {
    "duration": 1562,
    "start_time": "2023-01-08T21:20:39.468Z"
   },
   {
    "duration": 171,
    "start_time": "2023-01-08T21:20:41.033Z"
   },
   {
    "duration": 273,
    "start_time": "2023-01-08T21:20:41.207Z"
   },
   {
    "duration": 5,
    "start_time": "2023-01-08T21:20:41.482Z"
   },
   {
    "duration": 20,
    "start_time": "2023-01-08T21:20:41.489Z"
   },
   {
    "duration": 315,
    "start_time": "2023-01-08T21:20:41.510Z"
   },
   {
    "duration": 5,
    "start_time": "2023-01-08T21:20:41.827Z"
   },
   {
    "duration": 23,
    "start_time": "2023-01-08T21:20:41.834Z"
   },
   {
    "duration": 19,
    "start_time": "2023-01-08T21:29:05.649Z"
   },
   {
    "duration": 89,
    "start_time": "2023-01-08T21:29:56.860Z"
   },
   {
    "duration": 188,
    "start_time": "2023-01-08T21:34:14.459Z"
   },
   {
    "duration": 15,
    "start_time": "2023-01-08T21:34:26.553Z"
   },
   {
    "duration": 1605,
    "start_time": "2023-01-08T21:34:37.621Z"
   },
   {
    "duration": 51,
    "start_time": "2023-01-08T21:34:39.228Z"
   },
   {
    "duration": 13,
    "start_time": "2023-01-08T21:34:39.282Z"
   },
   {
    "duration": 45,
    "start_time": "2023-01-08T21:34:39.297Z"
   },
   {
    "duration": 20,
    "start_time": "2023-01-08T21:34:39.343Z"
   },
   {
    "duration": 48,
    "start_time": "2023-01-08T21:34:39.365Z"
   },
   {
    "duration": 12,
    "start_time": "2023-01-08T21:34:39.415Z"
   },
   {
    "duration": 38,
    "start_time": "2023-01-08T21:34:39.429Z"
   },
   {
    "duration": 117,
    "start_time": "2023-01-08T21:34:39.469Z"
   },
   {
    "duration": 2,
    "start_time": "2023-01-08T21:34:39.589Z"
   },
   {
    "duration": 23,
    "start_time": "2023-01-08T21:34:39.593Z"
   },
   {
    "duration": 23,
    "start_time": "2023-01-08T21:34:39.619Z"
   },
   {
    "duration": 4,
    "start_time": "2023-01-08T21:34:39.643Z"
   },
   {
    "duration": 17,
    "start_time": "2023-01-08T21:34:39.649Z"
   },
   {
    "duration": 19,
    "start_time": "2023-01-08T21:34:39.668Z"
   },
   {
    "duration": 17,
    "start_time": "2023-01-08T21:34:39.689Z"
   },
   {
    "duration": 8548,
    "start_time": "2023-01-08T21:34:39.708Z"
   },
   {
    "duration": 5,
    "start_time": "2023-01-08T21:34:48.257Z"
   },
   {
    "duration": 1189,
    "start_time": "2023-01-08T21:34:48.264Z"
   },
   {
    "duration": 12,
    "start_time": "2023-01-08T21:34:49.455Z"
   },
   {
    "duration": 428,
    "start_time": "2023-01-08T21:34:49.469Z"
   },
   {
    "duration": 18,
    "start_time": "2023-01-08T21:34:49.898Z"
   },
   {
    "duration": 247,
    "start_time": "2023-01-08T21:34:49.918Z"
   },
   {
    "duration": 0,
    "start_time": "2023-01-08T21:34:50.180Z"
   },
   {
    "duration": 0,
    "start_time": "2023-01-08T21:34:50.182Z"
   },
   {
    "duration": 0,
    "start_time": "2023-01-08T21:34:50.183Z"
   },
   {
    "duration": 0,
    "start_time": "2023-01-08T21:34:50.186Z"
   },
   {
    "duration": 0,
    "start_time": "2023-01-08T21:34:50.187Z"
   },
   {
    "duration": 0,
    "start_time": "2023-01-08T21:34:50.188Z"
   },
   {
    "duration": 0,
    "start_time": "2023-01-08T21:34:50.189Z"
   },
   {
    "duration": 0,
    "start_time": "2023-01-08T21:34:50.191Z"
   },
   {
    "duration": 0,
    "start_time": "2023-01-08T21:34:50.193Z"
   },
   {
    "duration": 0,
    "start_time": "2023-01-08T21:34:50.195Z"
   },
   {
    "duration": 0,
    "start_time": "2023-01-08T21:34:50.196Z"
   },
   {
    "duration": 0,
    "start_time": "2023-01-08T21:34:50.198Z"
   },
   {
    "duration": 0,
    "start_time": "2023-01-08T21:34:50.200Z"
   },
   {
    "duration": 0,
    "start_time": "2023-01-08T21:34:50.201Z"
   },
   {
    "duration": 0,
    "start_time": "2023-01-08T21:34:50.203Z"
   },
   {
    "duration": 0,
    "start_time": "2023-01-08T21:34:50.204Z"
   },
   {
    "duration": 0,
    "start_time": "2023-01-08T21:34:50.205Z"
   },
   {
    "duration": 139,
    "start_time": "2023-01-08T21:36:51.870Z"
   },
   {
    "duration": 12,
    "start_time": "2023-01-08T21:42:17.279Z"
   },
   {
    "duration": 1725,
    "start_time": "2023-01-08T21:42:27.931Z"
   },
   {
    "duration": 61,
    "start_time": "2023-01-08T21:42:29.659Z"
   },
   {
    "duration": 14,
    "start_time": "2023-01-08T21:42:29.721Z"
   },
   {
    "duration": 13,
    "start_time": "2023-01-08T21:42:29.738Z"
   },
   {
    "duration": 10,
    "start_time": "2023-01-08T21:42:29.753Z"
   },
   {
    "duration": 33,
    "start_time": "2023-01-08T21:42:29.778Z"
   },
   {
    "duration": 12,
    "start_time": "2023-01-08T21:42:29.812Z"
   },
   {
    "duration": 13,
    "start_time": "2023-01-08T21:42:29.825Z"
   },
   {
    "duration": 100,
    "start_time": "2023-01-08T21:42:29.840Z"
   },
   {
    "duration": 3,
    "start_time": "2023-01-08T21:42:29.943Z"
   },
   {
    "duration": 9,
    "start_time": "2023-01-08T21:42:29.948Z"
   },
   {
    "duration": 40,
    "start_time": "2023-01-08T21:42:29.959Z"
   },
   {
    "duration": 4,
    "start_time": "2023-01-08T21:42:30.002Z"
   },
   {
    "duration": 13,
    "start_time": "2023-01-08T21:42:30.007Z"
   },
   {
    "duration": 10,
    "start_time": "2023-01-08T21:42:30.021Z"
   },
   {
    "duration": 11,
    "start_time": "2023-01-08T21:42:30.033Z"
   },
   {
    "duration": 8349,
    "start_time": "2023-01-08T21:42:30.046Z"
   },
   {
    "duration": 5,
    "start_time": "2023-01-08T21:42:38.396Z"
   },
   {
    "duration": 1133,
    "start_time": "2023-01-08T21:42:38.403Z"
   },
   {
    "duration": 12,
    "start_time": "2023-01-08T21:42:39.539Z"
   },
   {
    "duration": 455,
    "start_time": "2023-01-08T21:42:39.552Z"
   },
   {
    "duration": 71,
    "start_time": "2023-01-08T21:42:40.009Z"
   },
   {
    "duration": 145,
    "start_time": "2023-01-08T21:42:40.082Z"
   },
   {
    "duration": 11,
    "start_time": "2023-01-08T21:42:40.229Z"
   },
   {
    "duration": 36,
    "start_time": "2023-01-08T21:42:40.242Z"
   },
   {
    "duration": 17,
    "start_time": "2023-01-08T21:42:40.280Z"
   },
   {
    "duration": 5,
    "start_time": "2023-01-08T21:42:40.299Z"
   },
   {
    "duration": 524,
    "start_time": "2023-01-08T21:42:40.309Z"
   },
   {
    "duration": 0,
    "start_time": "2023-01-08T21:42:40.835Z"
   },
   {
    "duration": 0,
    "start_time": "2023-01-08T21:42:40.836Z"
   },
   {
    "duration": 0,
    "start_time": "2023-01-08T21:42:40.837Z"
   },
   {
    "duration": 0,
    "start_time": "2023-01-08T21:42:40.838Z"
   },
   {
    "duration": 0,
    "start_time": "2023-01-08T21:42:40.839Z"
   },
   {
    "duration": 1,
    "start_time": "2023-01-08T21:42:40.840Z"
   },
   {
    "duration": 0,
    "start_time": "2023-01-08T21:42:40.843Z"
   },
   {
    "duration": 0,
    "start_time": "2023-01-08T21:42:40.844Z"
   },
   {
    "duration": 0,
    "start_time": "2023-01-08T21:42:40.845Z"
   },
   {
    "duration": 0,
    "start_time": "2023-01-08T21:42:40.846Z"
   },
   {
    "duration": 0,
    "start_time": "2023-01-08T21:42:40.848Z"
   },
   {
    "duration": 0,
    "start_time": "2023-01-08T21:42:40.849Z"
   },
   {
    "duration": 0,
    "start_time": "2023-01-08T21:42:40.850Z"
   },
   {
    "duration": 15,
    "start_time": "2023-01-08T21:43:02.844Z"
   },
   {
    "duration": 18,
    "start_time": "2023-01-08T21:43:21.838Z"
   },
   {
    "duration": 13,
    "start_time": "2023-01-08T21:44:00.690Z"
   },
   {
    "duration": 16,
    "start_time": "2023-01-08T21:44:26.750Z"
   },
   {
    "duration": 15,
    "start_time": "2023-01-08T21:44:47.196Z"
   },
   {
    "duration": 46,
    "start_time": "2023-01-08T21:46:08.379Z"
   },
   {
    "duration": 60,
    "start_time": "2023-01-08T21:46:52.490Z"
   },
   {
    "duration": 67,
    "start_time": "2023-01-08T21:47:44.922Z"
   },
   {
    "duration": 54,
    "start_time": "2023-01-08T21:48:13.311Z"
   },
   {
    "duration": 49,
    "start_time": "2023-01-08T21:50:33.124Z"
   },
   {
    "duration": 24,
    "start_time": "2023-01-08T21:52:41.161Z"
   },
   {
    "duration": 16,
    "start_time": "2023-01-08T21:52:58.509Z"
   },
   {
    "duration": 14,
    "start_time": "2023-01-08T21:53:10.769Z"
   },
   {
    "duration": 67,
    "start_time": "2023-01-08T21:59:05.182Z"
   },
   {
    "duration": 61,
    "start_time": "2023-01-08T21:59:37.039Z"
   },
   {
    "duration": 62,
    "start_time": "2023-01-08T22:01:47.573Z"
   },
   {
    "duration": 83,
    "start_time": "2023-01-08T22:02:13.937Z"
   },
   {
    "duration": 63,
    "start_time": "2023-01-08T22:02:40.286Z"
   },
   {
    "duration": 77,
    "start_time": "2023-01-08T22:03:24.914Z"
   },
   {
    "duration": 1153,
    "start_time": "2023-01-08T22:05:16.116Z"
   },
   {
    "duration": 33,
    "start_time": "2023-01-08T22:05:29.968Z"
   },
   {
    "duration": 29,
    "start_time": "2023-01-08T22:05:52.419Z"
   },
   {
    "duration": 54,
    "start_time": "2023-01-08T22:06:28.793Z"
   },
   {
    "duration": 28,
    "start_time": "2023-01-08T22:06:46.761Z"
   },
   {
    "duration": 39,
    "start_time": "2023-01-08T22:07:03.972Z"
   },
   {
    "duration": 32,
    "start_time": "2023-01-08T22:07:24.871Z"
   },
   {
    "duration": 53,
    "start_time": "2023-01-08T22:08:11.921Z"
   },
   {
    "duration": 32,
    "start_time": "2023-01-08T22:08:25.014Z"
   },
   {
    "duration": 2132,
    "start_time": "2023-01-09T19:01:53.318Z"
   },
   {
    "duration": 121,
    "start_time": "2023-01-09T19:01:55.452Z"
   },
   {
    "duration": 16,
    "start_time": "2023-01-09T19:01:55.575Z"
   },
   {
    "duration": 18,
    "start_time": "2023-01-09T19:01:55.594Z"
   },
   {
    "duration": 15,
    "start_time": "2023-01-09T19:01:55.614Z"
   },
   {
    "duration": 52,
    "start_time": "2023-01-09T19:01:55.631Z"
   },
   {
    "duration": 9,
    "start_time": "2023-01-09T19:01:55.684Z"
   },
   {
    "duration": 10,
    "start_time": "2023-01-09T19:01:55.695Z"
   },
   {
    "duration": 120,
    "start_time": "2023-01-09T19:01:55.707Z"
   },
   {
    "duration": 2,
    "start_time": "2023-01-09T19:01:55.831Z"
   },
   {
    "duration": 5,
    "start_time": "2023-01-09T19:01:55.835Z"
   },
   {
    "duration": 23,
    "start_time": "2023-01-09T19:01:55.855Z"
   },
   {
    "duration": 4,
    "start_time": "2023-01-09T19:01:55.880Z"
   },
   {
    "duration": 5,
    "start_time": "2023-01-09T19:01:55.885Z"
   },
   {
    "duration": 6,
    "start_time": "2023-01-09T19:01:55.891Z"
   },
   {
    "duration": 9,
    "start_time": "2023-01-09T19:01:55.899Z"
   },
   {
    "duration": 7697,
    "start_time": "2023-01-09T19:01:55.910Z"
   },
   {
    "duration": 5,
    "start_time": "2023-01-09T19:02:03.609Z"
   },
   {
    "duration": 1307,
    "start_time": "2023-01-09T19:02:03.616Z"
   },
   {
    "duration": 13,
    "start_time": "2023-01-09T19:02:04.925Z"
   },
   {
    "duration": 503,
    "start_time": "2023-01-09T19:02:04.940Z"
   },
   {
    "duration": 340,
    "start_time": "2023-01-09T19:02:05.445Z"
   },
   {
    "duration": 0,
    "start_time": "2023-01-09T19:02:05.787Z"
   },
   {
    "duration": 0,
    "start_time": "2023-01-09T19:02:05.788Z"
   },
   {
    "duration": 0,
    "start_time": "2023-01-09T19:02:05.789Z"
   },
   {
    "duration": 0,
    "start_time": "2023-01-09T19:02:05.790Z"
   },
   {
    "duration": 0,
    "start_time": "2023-01-09T19:02:05.791Z"
   },
   {
    "duration": 0,
    "start_time": "2023-01-09T19:02:05.792Z"
   },
   {
    "duration": 0,
    "start_time": "2023-01-09T19:02:05.793Z"
   },
   {
    "duration": 0,
    "start_time": "2023-01-09T19:02:05.794Z"
   },
   {
    "duration": 0,
    "start_time": "2023-01-09T19:02:05.795Z"
   },
   {
    "duration": 0,
    "start_time": "2023-01-09T19:02:05.796Z"
   },
   {
    "duration": 0,
    "start_time": "2023-01-09T19:02:05.798Z"
   },
   {
    "duration": 0,
    "start_time": "2023-01-09T19:02:05.799Z"
   },
   {
    "duration": 0,
    "start_time": "2023-01-09T19:02:05.800Z"
   },
   {
    "duration": 0,
    "start_time": "2023-01-09T19:02:05.801Z"
   },
   {
    "duration": 0,
    "start_time": "2023-01-09T19:02:05.802Z"
   },
   {
    "duration": 0,
    "start_time": "2023-01-09T19:02:05.803Z"
   },
   {
    "duration": 0,
    "start_time": "2023-01-09T19:02:05.804Z"
   },
   {
    "duration": 0,
    "start_time": "2023-01-09T19:02:05.805Z"
   },
   {
    "duration": 0,
    "start_time": "2023-01-09T19:02:05.806Z"
   },
   {
    "duration": 0,
    "start_time": "2023-01-09T19:02:05.807Z"
   },
   {
    "duration": 15,
    "start_time": "2023-01-09T19:02:42.022Z"
   },
   {
    "duration": 10,
    "start_time": "2023-01-09T19:02:43.227Z"
   },
   {
    "duration": 1712,
    "start_time": "2023-01-09T19:03:06.837Z"
   },
   {
    "duration": 54,
    "start_time": "2023-01-09T19:03:08.551Z"
   },
   {
    "duration": 13,
    "start_time": "2023-01-09T19:03:08.607Z"
   },
   {
    "duration": 13,
    "start_time": "2023-01-09T19:03:08.622Z"
   },
   {
    "duration": 13,
    "start_time": "2023-01-09T19:03:08.636Z"
   },
   {
    "duration": 19,
    "start_time": "2023-01-09T19:03:08.650Z"
   },
   {
    "duration": 6,
    "start_time": "2023-01-09T19:03:08.671Z"
   },
   {
    "duration": 15,
    "start_time": "2023-01-09T19:03:08.678Z"
   },
   {
    "duration": 101,
    "start_time": "2023-01-09T19:03:08.695Z"
   },
   {
    "duration": 4,
    "start_time": "2023-01-09T19:03:08.799Z"
   },
   {
    "duration": 6,
    "start_time": "2023-01-09T19:03:08.804Z"
   },
   {
    "duration": 24,
    "start_time": "2023-01-09T19:03:08.812Z"
   },
   {
    "duration": 5,
    "start_time": "2023-01-09T19:03:08.854Z"
   },
   {
    "duration": 7,
    "start_time": "2023-01-09T19:03:08.860Z"
   },
   {
    "duration": 7,
    "start_time": "2023-01-09T19:03:08.868Z"
   },
   {
    "duration": 7,
    "start_time": "2023-01-09T19:03:08.877Z"
   },
   {
    "duration": 8275,
    "start_time": "2023-01-09T19:03:08.886Z"
   },
   {
    "duration": 5,
    "start_time": "2023-01-09T19:03:17.163Z"
   },
   {
    "duration": 1208,
    "start_time": "2023-01-09T19:03:17.170Z"
   },
   {
    "duration": 12,
    "start_time": "2023-01-09T19:03:18.380Z"
   },
   {
    "duration": 445,
    "start_time": "2023-01-09T19:03:18.393Z"
   },
   {
    "duration": 17,
    "start_time": "2023-01-09T19:03:18.839Z"
   },
   {
    "duration": 11,
    "start_time": "2023-01-09T19:03:18.857Z"
   },
   {
    "duration": 127,
    "start_time": "2023-01-09T19:03:18.869Z"
   },
   {
    "duration": 4,
    "start_time": "2023-01-09T19:03:18.998Z"
   },
   {
    "duration": 57,
    "start_time": "2023-01-09T19:03:19.004Z"
   },
   {
    "duration": 4,
    "start_time": "2023-01-09T19:03:19.063Z"
   },
   {
    "duration": 1378,
    "start_time": "2023-01-09T19:03:19.070Z"
   },
   {
    "duration": 12,
    "start_time": "2023-01-09T19:03:20.450Z"
   },
   {
    "duration": 5510,
    "start_time": "2023-01-09T19:03:20.464Z"
   },
   {
    "duration": 1280,
    "start_time": "2023-01-09T19:03:25.975Z"
   },
   {
    "duration": 109,
    "start_time": "2023-01-09T19:03:27.257Z"
   },
   {
    "duration": 1639,
    "start_time": "2023-01-09T19:03:27.368Z"
   },
   {
    "duration": 1612,
    "start_time": "2023-01-09T19:03:29.009Z"
   },
   {
    "duration": 172,
    "start_time": "2023-01-09T19:03:30.623Z"
   },
   {
    "duration": 293,
    "start_time": "2023-01-09T19:03:30.796Z"
   },
   {
    "duration": 6,
    "start_time": "2023-01-09T19:03:31.091Z"
   },
   {
    "duration": 33,
    "start_time": "2023-01-09T19:03:31.098Z"
   },
   {
    "duration": 333,
    "start_time": "2023-01-09T19:03:31.132Z"
   },
   {
    "duration": 5,
    "start_time": "2023-01-09T19:03:31.467Z"
   },
   {
    "duration": 22,
    "start_time": "2023-01-09T19:03:31.474Z"
   },
   {
    "duration": 10,
    "start_time": "2023-01-09T19:03:38.705Z"
   },
   {
    "duration": 178,
    "start_time": "2023-01-09T19:03:54.769Z"
   },
   {
    "duration": 1778,
    "start_time": "2023-01-09T19:04:28.545Z"
   },
   {
    "duration": 57,
    "start_time": "2023-01-09T19:04:30.325Z"
   },
   {
    "duration": 14,
    "start_time": "2023-01-09T19:04:30.384Z"
   },
   {
    "duration": 25,
    "start_time": "2023-01-09T19:04:30.400Z"
   },
   {
    "duration": 29,
    "start_time": "2023-01-09T19:04:30.426Z"
   },
   {
    "duration": 22,
    "start_time": "2023-01-09T19:04:30.457Z"
   },
   {
    "duration": 7,
    "start_time": "2023-01-09T19:04:30.481Z"
   },
   {
    "duration": 28,
    "start_time": "2023-01-09T19:04:30.490Z"
   },
   {
    "duration": 110,
    "start_time": "2023-01-09T19:04:30.520Z"
   },
   {
    "duration": 2,
    "start_time": "2023-01-09T19:04:30.633Z"
   },
   {
    "duration": 33,
    "start_time": "2023-01-09T19:04:30.637Z"
   },
   {
    "duration": 39,
    "start_time": "2023-01-09T19:04:30.672Z"
   },
   {
    "duration": 4,
    "start_time": "2023-01-09T19:04:30.713Z"
   },
   {
    "duration": 13,
    "start_time": "2023-01-09T19:04:30.718Z"
   },
   {
    "duration": 32,
    "start_time": "2023-01-09T19:04:30.733Z"
   },
   {
    "duration": 8,
    "start_time": "2023-01-09T19:04:30.767Z"
   },
   {
    "duration": 9658,
    "start_time": "2023-01-09T19:04:30.777Z"
   },
   {
    "duration": 19,
    "start_time": "2023-01-09T19:04:40.437Z"
   },
   {
    "duration": 1420,
    "start_time": "2023-01-09T19:04:40.458Z"
   },
   {
    "duration": 14,
    "start_time": "2023-01-09T19:04:41.880Z"
   },
   {
    "duration": 573,
    "start_time": "2023-01-09T19:04:41.896Z"
   },
   {
    "duration": 16,
    "start_time": "2023-01-09T19:04:42.472Z"
   },
   {
    "duration": 218,
    "start_time": "2023-01-09T19:04:42.490Z"
   },
   {
    "duration": 8,
    "start_time": "2023-01-09T19:04:42.710Z"
   },
   {
    "duration": 25,
    "start_time": "2023-01-09T19:04:42.757Z"
   },
   {
    "duration": 5,
    "start_time": "2023-01-09T19:04:42.784Z"
   },
   {
    "duration": 1849,
    "start_time": "2023-01-09T19:04:42.791Z"
   },
   {
    "duration": 12,
    "start_time": "2023-01-09T19:04:44.644Z"
   },
   {
    "duration": 5814,
    "start_time": "2023-01-09T19:04:44.658Z"
   },
   {
    "duration": 2081,
    "start_time": "2023-01-09T19:04:50.474Z"
   },
   {
    "duration": 22,
    "start_time": "2023-01-09T19:04:52.557Z"
   },
   {
    "duration": 1758,
    "start_time": "2023-01-09T19:04:52.581Z"
   },
   {
    "duration": 1738,
    "start_time": "2023-01-09T19:04:54.341Z"
   },
   {
    "duration": 180,
    "start_time": "2023-01-09T19:04:56.081Z"
   },
   {
    "duration": 303,
    "start_time": "2023-01-09T19:04:56.263Z"
   },
   {
    "duration": 6,
    "start_time": "2023-01-09T19:04:56.568Z"
   },
   {
    "duration": 12,
    "start_time": "2023-01-09T19:04:56.576Z"
   },
   {
    "duration": 390,
    "start_time": "2023-01-09T19:04:56.590Z"
   },
   {
    "duration": 7,
    "start_time": "2023-01-09T19:04:56.982Z"
   },
   {
    "duration": 8,
    "start_time": "2023-01-09T19:04:56.991Z"
   },
   {
    "duration": 20,
    "start_time": "2023-01-09T19:06:25.070Z"
   },
   {
    "duration": 238,
    "start_time": "2023-01-09T19:06:32.996Z"
   },
   {
    "duration": 11,
    "start_time": "2023-01-09T19:09:40.605Z"
   },
   {
    "duration": 48,
    "start_time": "2023-01-09T19:09:43.343Z"
   },
   {
    "duration": 361,
    "start_time": "2023-01-09T19:18:12.023Z"
   },
   {
    "duration": 22,
    "start_time": "2023-01-09T19:18:24.655Z"
   },
   {
    "duration": 15,
    "start_time": "2023-01-09T19:19:50.734Z"
   },
   {
    "duration": 11,
    "start_time": "2023-01-09T19:20:00.024Z"
   },
   {
    "duration": 50,
    "start_time": "2023-01-09T19:21:36.886Z"
   },
   {
    "duration": 1749,
    "start_time": "2023-01-09T19:23:10.845Z"
   },
   {
    "duration": 56,
    "start_time": "2023-01-09T19:23:12.599Z"
   },
   {
    "duration": 15,
    "start_time": "2023-01-09T19:23:12.658Z"
   },
   {
    "duration": 13,
    "start_time": "2023-01-09T19:23:12.675Z"
   },
   {
    "duration": 21,
    "start_time": "2023-01-09T19:23:12.689Z"
   },
   {
    "duration": 20,
    "start_time": "2023-01-09T19:23:12.712Z"
   },
   {
    "duration": 8,
    "start_time": "2023-01-09T19:23:12.754Z"
   },
   {
    "duration": 11,
    "start_time": "2023-01-09T19:23:12.763Z"
   },
   {
    "duration": 17,
    "start_time": "2023-01-09T19:23:12.875Z"
   },
   {
    "duration": 11,
    "start_time": "2023-01-09T19:23:12.894Z"
   },
   {
    "duration": 14,
    "start_time": "2023-01-09T19:23:12.907Z"
   },
   {
    "duration": 25,
    "start_time": "2023-01-09T19:23:12.923Z"
   },
   {
    "duration": 5,
    "start_time": "2023-01-09T19:23:12.954Z"
   },
   {
    "duration": 6,
    "start_time": "2023-01-09T19:23:12.961Z"
   },
   {
    "duration": 9,
    "start_time": "2023-01-09T19:23:12.970Z"
   },
   {
    "duration": 6,
    "start_time": "2023-01-09T19:23:12.980Z"
   },
   {
    "duration": 7787,
    "start_time": "2023-01-09T19:23:12.987Z"
   },
   {
    "duration": 5,
    "start_time": "2023-01-09T19:23:20.776Z"
   },
   {
    "duration": 1227,
    "start_time": "2023-01-09T19:23:20.783Z"
   },
   {
    "duration": 12,
    "start_time": "2023-01-09T19:23:22.012Z"
   },
   {
    "duration": 449,
    "start_time": "2023-01-09T19:23:22.026Z"
   },
   {
    "duration": 13,
    "start_time": "2023-01-09T19:23:22.477Z"
   },
   {
    "duration": 175,
    "start_time": "2023-01-09T19:23:22.491Z"
   },
   {
    "duration": 14,
    "start_time": "2023-01-09T19:23:22.668Z"
   },
   {
    "duration": 50,
    "start_time": "2023-01-09T19:23:22.684Z"
   },
   {
    "duration": 21,
    "start_time": "2023-01-09T19:23:22.735Z"
   },
   {
    "duration": 14,
    "start_time": "2023-01-09T19:23:22.760Z"
   },
   {
    "duration": 4,
    "start_time": "2023-01-09T19:23:22.775Z"
   },
   {
    "duration": 1397,
    "start_time": "2023-01-09T19:23:22.780Z"
   },
   {
    "duration": 11,
    "start_time": "2023-01-09T19:23:24.179Z"
   },
   {
    "duration": 5474,
    "start_time": "2023-01-09T19:23:24.192Z"
   },
   {
    "duration": 1792,
    "start_time": "2023-01-09T19:23:29.669Z"
   },
   {
    "duration": 105,
    "start_time": "2023-01-09T19:23:31.464Z"
   },
   {
    "duration": 1700,
    "start_time": "2023-01-09T19:23:31.571Z"
   },
   {
    "duration": 1704,
    "start_time": "2023-01-09T19:23:33.272Z"
   },
   {
    "duration": 185,
    "start_time": "2023-01-09T19:23:34.978Z"
   },
   {
    "duration": 307,
    "start_time": "2023-01-09T19:23:35.164Z"
   },
   {
    "duration": 5,
    "start_time": "2023-01-09T19:23:35.472Z"
   },
   {
    "duration": 8,
    "start_time": "2023-01-09T19:23:35.479Z"
   },
   {
    "duration": 358,
    "start_time": "2023-01-09T19:23:35.488Z"
   },
   {
    "duration": 9,
    "start_time": "2023-01-09T19:23:35.848Z"
   },
   {
    "duration": 9,
    "start_time": "2023-01-09T19:23:35.858Z"
   },
   {
    "duration": 1938,
    "start_time": "2023-01-09T19:31:26.495Z"
   },
   {
    "duration": 72,
    "start_time": "2023-01-09T19:31:28.435Z"
   },
   {
    "duration": 21,
    "start_time": "2023-01-09T19:31:28.509Z"
   },
   {
    "duration": 29,
    "start_time": "2023-01-09T19:31:28.532Z"
   },
   {
    "duration": 17,
    "start_time": "2023-01-09T19:31:28.564Z"
   },
   {
    "duration": 29,
    "start_time": "2023-01-09T19:31:28.584Z"
   },
   {
    "duration": 30,
    "start_time": "2023-01-09T19:31:28.615Z"
   },
   {
    "duration": 10,
    "start_time": "2023-01-09T19:31:28.659Z"
   },
   {
    "duration": 108,
    "start_time": "2023-01-09T19:31:28.671Z"
   },
   {
    "duration": 4,
    "start_time": "2023-01-09T19:31:28.781Z"
   },
   {
    "duration": 5,
    "start_time": "2023-01-09T19:31:28.787Z"
   },
   {
    "duration": 29,
    "start_time": "2023-01-09T19:31:28.794Z"
   },
   {
    "duration": 4,
    "start_time": "2023-01-09T19:31:28.825Z"
   },
   {
    "duration": 5,
    "start_time": "2023-01-09T19:31:28.854Z"
   },
   {
    "duration": 6,
    "start_time": "2023-01-09T19:31:28.860Z"
   },
   {
    "duration": 6,
    "start_time": "2023-01-09T19:31:28.868Z"
   },
   {
    "duration": 9376,
    "start_time": "2023-01-09T19:31:28.875Z"
   },
   {
    "duration": 7,
    "start_time": "2023-01-09T19:31:38.253Z"
   },
   {
    "duration": 1336,
    "start_time": "2023-01-09T19:31:38.262Z"
   },
   {
    "duration": 13,
    "start_time": "2023-01-09T19:31:39.601Z"
   },
   {
    "duration": 551,
    "start_time": "2023-01-09T19:31:39.616Z"
   },
   {
    "duration": 14,
    "start_time": "2023-01-09T19:31:40.169Z"
   },
   {
    "duration": 105,
    "start_time": "2023-01-09T19:31:40.184Z"
   },
   {
    "duration": 6,
    "start_time": "2023-01-09T19:31:40.291Z"
   },
   {
    "duration": 67,
    "start_time": "2023-01-09T19:31:40.299Z"
   },
   {
    "duration": 5,
    "start_time": "2023-01-09T19:31:40.367Z"
   },
   {
    "duration": 1490,
    "start_time": "2023-01-09T19:31:40.374Z"
   },
   {
    "duration": 12,
    "start_time": "2023-01-09T19:31:41.866Z"
   },
   {
    "duration": 5594,
    "start_time": "2023-01-09T19:31:41.880Z"
   },
   {
    "duration": 2086,
    "start_time": "2023-01-09T19:31:47.476Z"
   },
   {
    "duration": 19,
    "start_time": "2023-01-09T19:31:49.564Z"
   },
   {
    "duration": 1673,
    "start_time": "2023-01-09T19:31:49.584Z"
   },
   {
    "duration": 1649,
    "start_time": "2023-01-09T19:31:51.258Z"
   },
   {
    "duration": 172,
    "start_time": "2023-01-09T19:31:52.910Z"
   },
   {
    "duration": 305,
    "start_time": "2023-01-09T19:31:53.084Z"
   },
   {
    "duration": 5,
    "start_time": "2023-01-09T19:31:53.391Z"
   },
   {
    "duration": 7,
    "start_time": "2023-01-09T19:31:53.398Z"
   },
   {
    "duration": 470,
    "start_time": "2023-01-09T19:31:53.407Z"
   },
   {
    "duration": 5,
    "start_time": "2023-01-09T19:31:53.879Z"
   },
   {
    "duration": 9,
    "start_time": "2023-01-09T19:31:53.886Z"
   },
   {
    "duration": 1975,
    "start_time": "2023-11-04T19:47:31.199Z"
   },
   {
    "duration": 96,
    "start_time": "2023-11-04T19:47:33.176Z"
   },
   {
    "duration": 12,
    "start_time": "2023-11-04T19:47:33.274Z"
   },
   {
    "duration": 20,
    "start_time": "2023-11-04T19:47:33.288Z"
   },
   {
    "duration": 22,
    "start_time": "2023-11-04T19:47:33.311Z"
   },
   {
    "duration": 20,
    "start_time": "2023-11-04T19:47:33.335Z"
   },
   {
    "duration": 12,
    "start_time": "2023-11-04T19:47:33.358Z"
   },
   {
    "duration": 17,
    "start_time": "2023-11-04T19:47:33.372Z"
   },
   {
    "duration": 106,
    "start_time": "2023-11-04T19:47:33.391Z"
   },
   {
    "duration": 6,
    "start_time": "2023-11-04T19:47:33.508Z"
   },
   {
    "duration": 4,
    "start_time": "2023-11-04T19:47:33.516Z"
   },
   {
    "duration": 31,
    "start_time": "2023-11-04T19:47:33.522Z"
   },
   {
    "duration": 4,
    "start_time": "2023-11-04T19:47:33.555Z"
   },
   {
    "duration": 27,
    "start_time": "2023-11-04T19:47:33.563Z"
   },
   {
    "duration": 22,
    "start_time": "2023-11-04T19:47:33.591Z"
   },
   {
    "duration": 7,
    "start_time": "2023-11-04T19:47:33.615Z"
   },
   {
    "duration": 7579,
    "start_time": "2023-11-04T19:47:33.623Z"
   },
   {
    "duration": 8,
    "start_time": "2023-11-04T19:47:41.203Z"
   },
   {
    "duration": 1146,
    "start_time": "2023-11-04T19:47:41.212Z"
   },
   {
    "duration": 12,
    "start_time": "2023-11-04T19:47:42.359Z"
   },
   {
    "duration": 468,
    "start_time": "2023-11-04T19:47:42.373Z"
   },
   {
    "duration": 13,
    "start_time": "2023-11-04T19:47:42.843Z"
   },
   {
    "duration": 91,
    "start_time": "2023-11-04T19:47:42.858Z"
   },
   {
    "duration": 4,
    "start_time": "2023-11-04T19:47:42.950Z"
   },
   {
    "duration": 60,
    "start_time": "2023-11-04T19:47:42.956Z"
   },
   {
    "duration": 3,
    "start_time": "2023-11-04T19:47:43.017Z"
   },
   {
    "duration": 1797,
    "start_time": "2023-11-04T19:47:43.022Z"
   },
   {
    "duration": 10,
    "start_time": "2023-11-04T19:47:44.821Z"
   },
   {
    "duration": 4969,
    "start_time": "2023-11-04T19:47:44.833Z"
   },
   {
    "duration": 1711,
    "start_time": "2023-11-04T19:47:49.803Z"
   },
   {
    "duration": 99,
    "start_time": "2023-11-04T19:47:51.516Z"
   },
   {
    "duration": 1579,
    "start_time": "2023-11-04T19:47:51.616Z"
   },
   {
    "duration": 1542,
    "start_time": "2023-11-04T19:47:53.197Z"
   },
   {
    "duration": 156,
    "start_time": "2023-11-04T19:47:54.741Z"
   },
   {
    "duration": 269,
    "start_time": "2023-11-04T19:47:54.899Z"
   },
   {
    "duration": 5,
    "start_time": "2023-11-04T19:47:55.169Z"
   },
   {
    "duration": 5,
    "start_time": "2023-11-04T19:47:55.176Z"
   },
   {
    "duration": 348,
    "start_time": "2023-11-04T19:47:55.182Z"
   },
   {
    "duration": 4,
    "start_time": "2023-11-04T19:47:55.532Z"
   },
   {
    "duration": 20,
    "start_time": "2023-11-04T19:47:55.538Z"
   },
   {
    "duration": 1669,
    "start_time": "2023-11-06T20:52:53.470Z"
   },
   {
    "duration": 91,
    "start_time": "2023-11-06T20:52:55.141Z"
   },
   {
    "duration": 12,
    "start_time": "2023-11-06T20:52:55.234Z"
   },
   {
    "duration": 11,
    "start_time": "2023-11-06T20:52:55.249Z"
   },
   {
    "duration": 12,
    "start_time": "2023-11-06T20:52:55.261Z"
   },
   {
    "duration": 16,
    "start_time": "2023-11-06T20:52:55.274Z"
   },
   {
    "duration": 25,
    "start_time": "2023-11-06T20:52:55.292Z"
   },
   {
    "duration": 7,
    "start_time": "2023-11-06T20:52:55.319Z"
   },
   {
    "duration": 90,
    "start_time": "2023-11-06T20:52:55.327Z"
   },
   {
    "duration": 2,
    "start_time": "2023-11-06T20:52:55.420Z"
   },
   {
    "duration": 5,
    "start_time": "2023-11-06T20:52:55.423Z"
   },
   {
    "duration": 21,
    "start_time": "2023-11-06T20:52:55.429Z"
   },
   {
    "duration": 4,
    "start_time": "2023-11-06T20:52:55.452Z"
   },
   {
    "duration": 3,
    "start_time": "2023-11-06T20:52:55.457Z"
   },
   {
    "duration": 5,
    "start_time": "2023-11-06T20:52:55.461Z"
   },
   {
    "duration": 4,
    "start_time": "2023-11-06T20:52:55.467Z"
   },
   {
    "duration": 7155,
    "start_time": "2023-11-06T20:52:55.472Z"
   },
   {
    "duration": 6,
    "start_time": "2023-11-06T20:53:02.629Z"
   },
   {
    "duration": 1088,
    "start_time": "2023-11-06T20:53:02.637Z"
   },
   {
    "duration": 11,
    "start_time": "2023-11-06T20:53:03.727Z"
   },
   {
    "duration": 459,
    "start_time": "2023-11-06T20:53:03.740Z"
   },
   {
    "duration": 20,
    "start_time": "2023-11-06T20:53:04.201Z"
   },
   {
    "duration": 104,
    "start_time": "2023-11-06T20:53:04.222Z"
   },
   {
    "duration": 5,
    "start_time": "2023-11-06T20:53:04.327Z"
   },
   {
    "duration": 12,
    "start_time": "2023-11-06T20:53:04.334Z"
   },
   {
    "duration": 3,
    "start_time": "2023-11-06T20:53:04.348Z"
   },
   {
    "duration": 1434,
    "start_time": "2023-11-06T20:53:04.353Z"
   },
   {
    "duration": 9,
    "start_time": "2023-11-06T20:53:05.790Z"
   },
   {
    "duration": 4630,
    "start_time": "2023-11-06T20:53:05.801Z"
   },
   {
    "duration": 1679,
    "start_time": "2023-11-06T20:53:10.435Z"
   },
   {
    "duration": 17,
    "start_time": "2023-11-06T20:53:12.116Z"
   },
   {
    "duration": 1535,
    "start_time": "2023-11-06T20:53:12.134Z"
   },
   {
    "duration": 1508,
    "start_time": "2023-11-06T20:53:13.671Z"
   },
   {
    "duration": 152,
    "start_time": "2023-11-06T20:53:15.180Z"
   },
   {
    "duration": 296,
    "start_time": "2023-11-06T20:53:15.334Z"
   },
   {
    "duration": 5,
    "start_time": "2023-11-06T20:53:15.631Z"
   },
   {
    "duration": 8,
    "start_time": "2023-11-06T20:53:15.638Z"
   },
   {
    "duration": 317,
    "start_time": "2023-11-06T20:53:15.647Z"
   },
   {
    "duration": 5,
    "start_time": "2023-11-06T20:53:15.965Z"
   },
   {
    "duration": 6,
    "start_time": "2023-11-06T20:53:15.971Z"
   },
   {
    "duration": 5,
    "start_time": "2023-11-06T20:54:03.058Z"
   },
   {
    "duration": 88,
    "start_time": "2023-11-06T20:54:03.064Z"
   },
   {
    "duration": 12,
    "start_time": "2023-11-06T20:54:03.153Z"
   },
   {
    "duration": 65,
    "start_time": "2023-11-06T20:54:03.166Z"
   },
   {
    "duration": 30,
    "start_time": "2023-11-06T20:54:03.233Z"
   },
   {
    "duration": 149,
    "start_time": "2023-11-06T20:54:03.265Z"
   },
   {
    "duration": 13,
    "start_time": "2023-11-06T20:54:03.416Z"
   },
   {
    "duration": 9,
    "start_time": "2023-11-06T20:54:03.430Z"
   },
   {
    "duration": 14,
    "start_time": "2023-11-06T20:54:03.442Z"
   },
   {
    "duration": 5,
    "start_time": "2023-11-06T20:54:03.458Z"
   },
   {
    "duration": 10,
    "start_time": "2023-11-06T20:54:03.464Z"
   },
   {
    "duration": 28,
    "start_time": "2023-11-06T20:54:03.475Z"
   },
   {
    "duration": 4,
    "start_time": "2023-11-06T20:54:03.505Z"
   },
   {
    "duration": 14,
    "start_time": "2023-11-06T20:54:03.520Z"
   },
   {
    "duration": 21,
    "start_time": "2023-11-06T20:54:03.535Z"
   },
   {
    "duration": 14,
    "start_time": "2023-11-06T20:54:03.557Z"
   },
   {
    "duration": 7201,
    "start_time": "2023-11-06T20:54:03.573Z"
   },
   {
    "duration": 5,
    "start_time": "2023-11-06T20:54:10.776Z"
   },
   {
    "duration": 1127,
    "start_time": "2023-11-06T20:54:10.782Z"
   },
   {
    "duration": 11,
    "start_time": "2023-11-06T20:54:11.911Z"
   },
   {
    "duration": 57,
    "start_time": "2023-11-06T20:54:11.923Z"
   },
   {
    "duration": 17,
    "start_time": "2023-11-06T20:54:11.981Z"
   },
   {
    "duration": 54,
    "start_time": "2023-11-06T20:54:12.000Z"
   },
   {
    "duration": 17,
    "start_time": "2023-11-06T20:54:12.057Z"
   },
   {
    "duration": 22,
    "start_time": "2023-11-06T20:54:12.076Z"
   },
   {
    "duration": 3,
    "start_time": "2023-11-06T20:54:12.100Z"
   },
   {
    "duration": 1287,
    "start_time": "2023-11-06T20:54:12.104Z"
   },
   {
    "duration": 10,
    "start_time": "2023-11-06T20:54:13.393Z"
   },
   {
    "duration": 4594,
    "start_time": "2023-11-06T20:54:13.413Z"
   },
   {
    "duration": 1599,
    "start_time": "2023-11-06T20:54:18.015Z"
   },
   {
    "duration": 15,
    "start_time": "2023-11-06T20:54:19.616Z"
   },
   {
    "duration": 1502,
    "start_time": "2023-11-06T20:54:19.633Z"
   },
   {
    "duration": 1480,
    "start_time": "2023-11-06T20:54:21.136Z"
   },
   {
    "duration": 145,
    "start_time": "2023-11-06T20:54:22.618Z"
   },
   {
    "duration": 260,
    "start_time": "2023-11-06T20:54:22.765Z"
   },
   {
    "duration": 5,
    "start_time": "2023-11-06T20:54:23.026Z"
   },
   {
    "duration": 19,
    "start_time": "2023-11-06T20:54:23.032Z"
   },
   {
    "duration": 476,
    "start_time": "2023-11-06T20:54:23.053Z"
   },
   {
    "duration": 6,
    "start_time": "2023-11-06T20:54:23.531Z"
   },
   {
    "duration": 21,
    "start_time": "2023-11-06T20:54:23.538Z"
   }
  ],
  "kernelspec": {
   "display_name": "Python 3 (ipykernel)",
   "language": "python",
   "name": "python3"
  },
  "language_info": {
   "codemirror_mode": {
    "name": "ipython",
    "version": 3
   },
   "file_extension": ".py",
   "mimetype": "text/x-python",
   "name": "python",
   "nbconvert_exporter": "python",
   "pygments_lexer": "ipython3",
   "version": "3.9.5"
  },
  "toc": {
   "base_numbering": 1,
   "nav_menu": {},
   "number_sections": true,
   "sideBar": true,
   "skip_h1_title": true,
   "title_cell": "Table of Contents",
   "title_sidebar": "Contents",
   "toc_cell": false,
   "toc_position": {
    "height": "calc(100% - 180px)",
    "left": "10px",
    "top": "150px",
    "width": "366.391px"
   },
   "toc_section_display": true,
   "toc_window_display": true
  }
 },
 "nbformat": 4,
 "nbformat_minor": 2
}
