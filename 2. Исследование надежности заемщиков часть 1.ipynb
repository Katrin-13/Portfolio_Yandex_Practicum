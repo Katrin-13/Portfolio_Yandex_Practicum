{
 "cells": [
  {
   "cell_type": "markdown",
   "id": "e0bda5b9",
   "metadata": {
    "deletable": false,
    "editable": false,
    "id": "c81daeeb"
   },
   "source": [
    "# Исследование надежности заемщиков"
   ]
  },
  {
   "cell_type": "markdown",
   "id": "7b638cc9",
   "metadata": {
    "deletable": false,
    "editable": false,
    "id": "-G3EJWzf62s6"
   },
   "source": [
    "Это первая часть проекта, она будет проверена автоматически. Вторую часть проверит ревьюер. "
   ]
  },
  {
   "cell_type": "markdown",
   "id": "2574cdd0",
   "metadata": {
    "deletable": false,
    "editable": false,
    "id": "744d7639"
   },
   "source": [
    "## Откройте таблицу и изучите общую информацию о данных"
   ]
  },
  {
   "cell_type": "markdown",
   "id": "0ea51cfd",
   "metadata": {
    "deletable": false,
    "editable": false,
    "id": "e7a14c31",
    "tags": [
     "start_task"
    ]
   },
   "source": [
    "**Задание 1. Импортируйте библиотеку pandas. Считайте данные из csv-файла в датафрейм и сохраните в переменную `data`. Путь к файлу:**\n",
    "\n",
    "`/datasets/data.csv`"
   ]
  },
  {
   "cell_type": "code",
   "execution_count": 43,
   "id": "9eac6b96",
   "metadata": {
    "id": "7bcf75c9"
   },
   "outputs": [],
   "source": [
    "import pandas as pd# импортируйте библиотеку pandas"
   ]
  },
  {
   "cell_type": "code",
   "execution_count": 44,
   "id": "3ed68be6",
   "metadata": {
    "id": "4d240ee2"
   },
   "outputs": [],
   "source": [
    "data = pd.read_csv('/datasets/data.csv')# прочитайте csv-файл"
   ]
  },
  {
   "cell_type": "markdown",
   "id": "f5a9dd1c",
   "metadata": {
    "deletable": false,
    "editable": false,
    "id": "b8038fe3",
    "tags": [
     "start_task"
    ]
   },
   "source": [
    "**Задание 2. Выведите первые 20 строчек датафрейма `data` на экран.**"
   ]
  },
  {
   "cell_type": "code",
   "execution_count": 45,
   "id": "fd32ecc1",
   "metadata": {
    "id": "2a7cab99"
   },
   "outputs": [
    {
     "name": "stdout",
     "output_type": "stream",
     "text": [
      "    children  days_employed  dob_years            education  education_id  \\\n",
      "0          1   -8437.673028         42               высшее             0   \n",
      "1          1   -4024.803754         36              среднее             1   \n",
      "2          0   -5623.422610         33              Среднее             1   \n",
      "3          3   -4124.747207         32              среднее             1   \n",
      "4          0  340266.072047         53              среднее             1   \n",
      "5          0    -926.185831         27               высшее             0   \n",
      "6          0   -2879.202052         43               высшее             0   \n",
      "7          0    -152.779569         50              СРЕДНЕЕ             1   \n",
      "8          2   -6929.865299         35               ВЫСШЕЕ             0   \n",
      "9          0   -2188.756445         41              среднее             1   \n",
      "10         2   -4171.483647         36               высшее             0   \n",
      "11         0    -792.701887         40              среднее             1   \n",
      "12         0            NaN         65              среднее             1   \n",
      "13         0   -1846.641941         54  неоконченное высшее             2   \n",
      "14         0   -1844.956182         56               высшее             0   \n",
      "15         1    -972.364419         26              среднее             1   \n",
      "16         0   -1719.934226         35              среднее             1   \n",
      "17         0   -2369.999720         33               высшее             0   \n",
      "18         0  400281.136913         53              среднее             1   \n",
      "19         0  -10038.818549         48              СРЕДНЕЕ             1   \n",
      "\n",
      "       family_status  family_status_id gender income_type  debt  \\\n",
      "0    женат / замужем                 0      F   сотрудник     0   \n",
      "1    женат / замужем                 0      F   сотрудник     0   \n",
      "2    женат / замужем                 0      M   сотрудник     0   \n",
      "3    женат / замужем                 0      M   сотрудник     0   \n",
      "4   гражданский брак                 1      F   пенсионер     0   \n",
      "5   гражданский брак                 1      M   компаньон     0   \n",
      "6    женат / замужем                 0      F   компаньон     0   \n",
      "7    женат / замужем                 0      M   сотрудник     0   \n",
      "8   гражданский брак                 1      F   сотрудник     0   \n",
      "9    женат / замужем                 0      M   сотрудник     0   \n",
      "10   женат / замужем                 0      M   компаньон     0   \n",
      "11   женат / замужем                 0      F   сотрудник     0   \n",
      "12  гражданский брак                 1      M   пенсионер     0   \n",
      "13   женат / замужем                 0      F   сотрудник     0   \n",
      "14  гражданский брак                 1      F   компаньон     1   \n",
      "15   женат / замужем                 0      F   сотрудник     0   \n",
      "16   женат / замужем                 0      F   сотрудник     0   \n",
      "17  гражданский брак                 1      M   сотрудник     0   \n",
      "18    вдовец / вдова                 2      F   пенсионер     0   \n",
      "19         в разводе                 3      F   сотрудник     0   \n",
      "\n",
      "     total_income                                 purpose  \n",
      "0   253875.639453                           покупка жилья  \n",
      "1   112080.014102                 приобретение автомобиля  \n",
      "2   145885.952297                           покупка жилья  \n",
      "3   267628.550329              дополнительное образование  \n",
      "4   158616.077870                         сыграть свадьбу  \n",
      "5   255763.565419                           покупка жилья  \n",
      "6   240525.971920                       операции с жильем  \n",
      "7   135823.934197                             образование  \n",
      "8    95856.832424                   на проведение свадьбы  \n",
      "9   144425.938277                 покупка жилья для семьи  \n",
      "10  113943.491460                    покупка недвижимости  \n",
      "11   77069.234271       покупка коммерческой недвижимости  \n",
      "12            NaN                         сыграть свадьбу  \n",
      "13  130458.228857                 приобретение автомобиля  \n",
      "14  165127.911772              покупка жилой недвижимости  \n",
      "15  116820.904450  строительство собственной недвижимости  \n",
      "16  289202.704229                            недвижимость  \n",
      "17   90410.586745              строительство недвижимости  \n",
      "18   56823.777243      на покупку подержанного автомобиля  \n",
      "19  242831.107982            на покупку своего автомобиля  \n"
     ]
    }
   ],
   "source": [
    "print(data.head(20))# ваш код здесь"
   ]
  },
  {
   "cell_type": "markdown",
   "id": "cf345fca",
   "metadata": {
    "deletable": false,
    "editable": false,
    "id": "1c12e233",
    "tags": [
     "start_task"
    ]
   },
   "source": [
    "**Задание 3. Выведите основную информацию о датафрейме с помощью метода `info()`.**"
   ]
  },
  {
   "cell_type": "code",
   "execution_count": 46,
   "id": "d732a9a5",
   "metadata": {
    "id": "2b757bca"
   },
   "outputs": [
    {
     "name": "stdout",
     "output_type": "stream",
     "text": [
      "<class 'pandas.core.frame.DataFrame'>\n",
      "RangeIndex: 21525 entries, 0 to 21524\n",
      "Data columns (total 12 columns):\n",
      " #   Column            Non-Null Count  Dtype  \n",
      "---  ------            --------------  -----  \n",
      " 0   children          21525 non-null  int64  \n",
      " 1   days_employed     19351 non-null  float64\n",
      " 2   dob_years         21525 non-null  int64  \n",
      " 3   education         21525 non-null  object \n",
      " 4   education_id      21525 non-null  int64  \n",
      " 5   family_status     21525 non-null  object \n",
      " 6   family_status_id  21525 non-null  int64  \n",
      " 7   gender            21525 non-null  object \n",
      " 8   income_type       21525 non-null  object \n",
      " 9   debt              21525 non-null  int64  \n",
      " 10  total_income      19351 non-null  float64\n",
      " 11  purpose           21525 non-null  object \n",
      "dtypes: float64(2), int64(5), object(5)\n",
      "memory usage: 2.0+ MB\n"
     ]
    }
   ],
   "source": [
    "data.info() # ваш код здесь"
   ]
  },
  {
   "cell_type": "markdown",
   "id": "badffff5",
   "metadata": {
    "deletable": false,
    "editable": false,
    "id": "333ec665"
   },
   "source": [
    "## Предобработка данных"
   ]
  },
  {
   "cell_type": "markdown",
   "id": "bc690042",
   "metadata": {
    "deletable": false,
    "editable": false,
    "id": "02d92d53"
   },
   "source": [
    "### Удаление пропусков"
   ]
  },
  {
   "cell_type": "markdown",
   "id": "ad5c2078",
   "metadata": {
    "deletable": false,
    "editable": false,
    "id": "cd84967c",
    "tags": [
     "start_task"
    ]
   },
   "source": [
    "**Задание 4. Выведите количество пропущенных значений для каждого столбца. Используйте комбинацию двух методов.**"
   ]
  },
  {
   "cell_type": "code",
   "execution_count": 47,
   "id": "ce4bf360",
   "metadata": {
    "id": "7f9b2309"
   },
   "outputs": [
    {
     "name": "stdout",
     "output_type": "stream",
     "text": [
      "children               0\n",
      "days_employed       2174\n",
      "dob_years              0\n",
      "education              0\n",
      "education_id           0\n",
      "family_status          0\n",
      "family_status_id       0\n",
      "gender                 0\n",
      "income_type            0\n",
      "debt                   0\n",
      "total_income        2174\n",
      "purpose                0\n",
      "dtype: int64\n"
     ]
    }
   ],
   "source": [
    "print(data.isnull().sum())# ваш код здесь"
   ]
  },
  {
   "cell_type": "markdown",
   "id": "db6f256b",
   "metadata": {
    "deletable": false,
    "editable": false,
    "id": "db86e27b",
    "tags": [
     "start_task"
    ]
   },
   "source": [
    "**Задание 5. В двух столбцах есть пропущенные значения. Один из них — `days_employed`. Пропуски в этом столбце вы обработаете на следующем этапе. Другой столбец с пропущенными значениями — `total_income` — хранит данные о доходах. На сумму дохода сильнее всего влияет тип занятости, поэтому заполнить пропуски в этом столбце нужно медианным значением по каждому типу из столбца `income_type`. Например, у человека с типом занятости `сотрудник` пропуск в столбце `total_income` должен быть заполнен медианным доходом среди всех записей с тем же типом.**"
   ]
  },
  {
   "cell_type": "code",
   "execution_count": 48,
   "id": "bb126f21",
   "metadata": {
    "id": "42006a93"
   },
   "outputs": [],
   "source": [
    "df = data.groupby('income_type')['total_income'].median()\n",
    "for i in df.index:\n",
    "    data.loc[(data['income_type'] == i) & (data['total_income'].isna()), 'total_income'] = df[i]"
   ]
  },
  {
   "cell_type": "markdown",
   "id": "0496f591",
   "metadata": {
    "deletable": false,
    "editable": false,
    "id": "89da5ece"
   },
   "source": [
    "### Обработка аномальных значений"
   ]
  },
  {
   "cell_type": "markdown",
   "id": "713b510b",
   "metadata": {
    "deletable": false,
    "editable": false,
    "id": "57964554",
    "tags": [
     "start_task"
    ]
   },
   "source": [
    "**Задание 6. В данных могут встречаться артефакты (аномалии) — значения, которые не отражают действительность и появились по какой-то ошибке. Таким артефактом будет отрицательное количество дней трудового стажа в столбце `days_employed`. Для реальных данных это нормально. Обработайте значения в этом столбце: замените все отрицательные значения положительными с помощью метода `abs()`.**"
   ]
  },
  {
   "cell_type": "code",
   "execution_count": 49,
   "id": "1f916714",
   "metadata": {
    "id": "f6f055bf"
   },
   "outputs": [],
   "source": [
    "data['days_employed'] = abs(data['days_employed']) # ваш код здесь\n",
    "#print(data)"
   ]
  },
  {
   "cell_type": "markdown",
   "id": "4e54470c",
   "metadata": {
    "deletable": false,
    "editable": false,
    "id": "6107dd2f",
    "tags": [
     "start_task"
    ]
   },
   "source": [
    "**Задание 7. Для каждого типа занятости выведите медианное значение трудового стажа `days_employed` в днях.**"
   ]
  },
  {
   "cell_type": "code",
   "execution_count": 50,
   "id": "abb17463",
   "metadata": {
    "id": "85a5faf6"
   },
   "outputs": [
    {
     "data": {
      "text/plain": [
       "income_type\n",
       "безработный        366413.652744\n",
       "в декрете            3296.759962\n",
       "госслужащий          2689.368353\n",
       "компаньон            1547.382223\n",
       "пенсионер          365213.306266\n",
       "предприниматель       520.848083\n",
       "сотрудник            1574.202821\n",
       "студент               578.751554\n",
       "Name: days_employed, dtype: float64"
      ]
     },
     "execution_count": 50,
     "metadata": {},
     "output_type": "execute_result"
    }
   ],
   "source": [
    "data.groupby('income_type')['days_employed'].agg('median') # ваш код здесь\n",
    "#print(data)"
   ]
  },
  {
   "cell_type": "markdown",
   "id": "4c690b46",
   "metadata": {
    "deletable": false,
    "editable": false,
    "id": "38d1a030"
   },
   "source": [
    "У двух типов (безработные и пенсионеры) получатся аномально большие значения. Исправить такие значения сложно, поэтому оставьте их как есть. Тем более этот столбец не понадобится вам для исследования."
   ]
  },
  {
   "cell_type": "markdown",
   "id": "76b8471c",
   "metadata": {
    "deletable": false,
    "editable": false,
    "id": "d8a9f147",
    "tags": [
     "start_task"
    ]
   },
   "source": [
    "**Задание 8. Выведите перечень уникальных значений столбца `children`.**"
   ]
  },
  {
   "cell_type": "code",
   "execution_count": 51,
   "id": "cb3e6431",
   "metadata": {
    "id": "ef5056eb"
   },
   "outputs": [
    {
     "name": "stdout",
     "output_type": "stream",
     "text": [
      "[ 1  0  3  2 -1  4 20  5]\n"
     ]
    }
   ],
   "source": [
    "print(data['children'].unique()) # ваш код здесь"
   ]
  },
  {
   "cell_type": "markdown",
   "id": "0826e146",
   "metadata": {
    "deletable": false,
    "editable": false,
    "id": "40b9ebf2",
    "tags": [
     "start_task"
    ]
   },
   "source": [
    "**Задание 9. В столбце `children` есть два аномальных значения. Удалите строки, в которых встречаются такие аномальные значения из датафрейма `data`.**"
   ]
  },
  {
   "cell_type": "code",
   "execution_count": 52,
   "id": "414225cb",
   "metadata": {
    "id": "3ff9801d"
   },
   "outputs": [],
   "source": [
    "data = data[~data['children'].isin([-1,20])]\n",
    "\n",
    "#print(data)"
   ]
  },
  {
   "cell_type": "markdown",
   "id": "9364b56a",
   "metadata": {
    "deletable": false,
    "editable": false,
    "id": "bbc4d0ce",
    "tags": [
     "start_task"
    ]
   },
   "source": [
    "**Задание 10. Ещё раз выведите перечень уникальных значений столбца `children`, чтобы убедиться, что артефакты удалены.**"
   ]
  },
  {
   "cell_type": "code",
   "execution_count": 53,
   "id": "0367d113",
   "metadata": {
    "id": "ad4fa8b7"
   },
   "outputs": [
    {
     "name": "stdout",
     "output_type": "stream",
     "text": [
      "[1 0 3 2 4 5]\n"
     ]
    }
   ],
   "source": [
    "print(data['children'].unique()) # ваш код здесь"
   ]
  },
  {
   "cell_type": "markdown",
   "id": "26d139a0",
   "metadata": {
    "deletable": false,
    "editable": false,
    "id": "75440b63"
   },
   "source": [
    "### Удаление пропусков (продолжение)"
   ]
  },
  {
   "cell_type": "markdown",
   "id": "b7a08342",
   "metadata": {
    "deletable": false,
    "editable": false,
    "id": "f4ea573f",
    "tags": [
     "start_task"
    ]
   },
   "source": [
    "**Задание 11. Заполните пропуски в столбце `days_employed` медианными значениями по каждому типу занятости `income_type`.**"
   ]
  },
  {
   "cell_type": "code",
   "execution_count": 54,
   "id": "b8f6f0c3",
   "metadata": {
    "id": "af6b1a7e"
   },
   "outputs": [],
   "source": [
    "df = data.groupby('income_type')['days_employed'].median()\n",
    "for i in df.index:\n",
    "    data.loc[(data['income_type'] == i) & (data['days_employed'].isna()), 'days_employed'] = df[i]\n",
    "\n",
    "#print(data)"
   ]
  },
  {
   "cell_type": "markdown",
   "id": "6ce19764",
   "metadata": {
    "deletable": false,
    "editable": false,
    "id": "2753f40d",
    "tags": [
     "start_task"
    ]
   },
   "source": [
    "**Задание 12. Убедитесь, что все пропуски заполнены. Проверьте себя и ещё раз выведите количество пропущенных значений для каждого столбца с помощью двух методов.**"
   ]
  },
  {
   "cell_type": "code",
   "execution_count": 55,
   "id": "37611982",
   "metadata": {
    "id": "55f78bc2"
   },
   "outputs": [
    {
     "name": "stdout",
     "output_type": "stream",
     "text": [
      "children            0\n",
      "days_employed       0\n",
      "dob_years           0\n",
      "education           0\n",
      "education_id        0\n",
      "family_status       0\n",
      "family_status_id    0\n",
      "gender              0\n",
      "income_type         0\n",
      "debt                0\n",
      "total_income        0\n",
      "purpose             0\n",
      "dtype: int64\n"
     ]
    }
   ],
   "source": [
    "print(data.isna().sum()) # ваш код здесь"
   ]
  },
  {
   "cell_type": "markdown",
   "id": "69d14fa4",
   "metadata": {
    "deletable": false,
    "editable": false,
    "id": "ddc81e43"
   },
   "source": [
    "### Изменение типов данных"
   ]
  },
  {
   "cell_type": "markdown",
   "id": "46b30410",
   "metadata": {
    "deletable": false,
    "editable": false,
    "id": "42d19d24",
    "tags": [
     "start_task"
    ]
   },
   "source": [
    "**Задание 13. Замените вещественный тип данных в столбце `total_income` на целочисленный с помощью метода `astype()`.**"
   ]
  },
  {
   "cell_type": "code",
   "execution_count": 56,
   "id": "79b41a0e",
   "metadata": {
    "id": "920b65ad"
   },
   "outputs": [],
   "source": [
    "data['total_income'] = data['total_income'].astype('int') # ваш код здесь"
   ]
  },
  {
   "cell_type": "markdown",
   "id": "06ff0fd4",
   "metadata": {
    "deletable": false,
    "editable": false,
    "id": "80c420ba"
   },
   "source": [
    "### Обработка дубликатов"
   ]
  },
  {
   "cell_type": "markdown",
   "id": "6551e4ad",
   "metadata": {
    "deletable": false,
    "editable": false,
    "id": "dc587695",
    "tags": [
     "start_task"
    ]
   },
   "source": [
    "**Задание 14. Выведите на экран количество строк-дубликатов в данных. Если такие строки присутствуют, удалите их.**"
   ]
  },
  {
   "cell_type": "code",
   "execution_count": 57,
   "id": "3e31339e",
   "metadata": {
    "id": "3ee445e4"
   },
   "outputs": [
    {
     "data": {
      "text/plain": [
       "54"
      ]
     },
     "execution_count": 57,
     "metadata": {},
     "output_type": "execute_result"
    }
   ],
   "source": [
    "data.duplicated().sum() # посчитайте дубликаты"
   ]
  },
  {
   "cell_type": "code",
   "execution_count": 58,
   "id": "9fd3709e",
   "metadata": {
    "id": "8575fe05"
   },
   "outputs": [],
   "source": [
    "data = data.drop_duplicates()\n",
    "\n",
    "# удалите дубликаты"
   ]
  },
  {
   "cell_type": "markdown",
   "id": "837221cb",
   "metadata": {
    "deletable": false,
    "editable": false,
    "id": "9771a76c",
    "tags": [
     "start_task"
    ]
   },
   "source": [
    "**Задание 15. Обработайте неявные дубликаты в столбце `education`. В этом столбце есть одни и те же значения, но записанные по-разному: с использованием заглавных и строчных букв. Приведите их к нижнему регистру. Проверьте остальные столбцы.**"
   ]
  },
  {
   "cell_type": "code",
   "execution_count": 59,
   "id": "538afb40",
   "metadata": {
    "id": "a9f8e2bf"
   },
   "outputs": [],
   "source": [
    "data['education']=data['education'].str.lower()\n",
    "# ваш код здесь"
   ]
  },
  {
   "cell_type": "markdown",
   "id": "6512b208",
   "metadata": {
    "deletable": false,
    "editable": false,
    "id": "9904cf55"
   },
   "source": [
    "### Категоризация данных"
   ]
  },
  {
   "cell_type": "markdown",
   "id": "fcaef1a3",
   "metadata": {
    "deletable": false,
    "editable": false,
    "id": "72fcc8a2",
    "tags": [
     "start_task"
    ]
   },
   "source": [
    "**Задание 16. На основании диапазонов, указанных ниже, создайте в датафрейме `data` столбец `total_income_category` с категориями:**\n",
    "\n",
    "- 0–30000 — `'E'`;\n",
    "- 30001–50000 — `'D'`;\n",
    "- 50001–200000 — `'C'`;\n",
    "- 200001–1000000 — `'B'`;\n",
    "- 1000001 и выше — `'A'`.\n",
    "\n",
    "\n",
    "**Например, кредитополучателю с доходом 25000 нужно назначить категорию `'E'`, а клиенту, получающему 235000, — `'B'`. Используйте собственную функцию с именем `categorize_income()` и метод `apply()`.**"
   ]
  },
  {
   "cell_type": "code",
   "execution_count": 60,
   "id": "be99c3a7",
   "metadata": {
    "id": "e1771346"
   },
   "outputs": [],
   "source": [
    "# создайте функцию categorize_income()\n",
    "def categorize_income(total_income):\n",
    "    if 0 < total_income <= 30000:\n",
    "        return 'E'\n",
    "    elif 30000 < total_income <= 50000:\n",
    "        return 'D'\n",
    "    elif 50000 < total_income <= 200000:\n",
    "        return 'C'\n",
    "    elif 200000 < total_income <= 1000000:\n",
    "        return 'B'\n",
    "    else: return 'A'"
   ]
  },
  {
   "cell_type": "code",
   "execution_count": 61,
   "id": "b2a8b9b1",
   "metadata": {
    "id": "d5f3586d"
   },
   "outputs": [],
   "source": [
    "# примените функцию методом apply()\n",
    "data['total_income_category'] = data['total_income'].apply(categorize_income)"
   ]
  },
  {
   "cell_type": "markdown",
   "id": "a6ab9ad5",
   "metadata": {
    "deletable": false,
    "editable": false,
    "id": "dde49b5c",
    "tags": [
     "start_task"
    ]
   },
   "source": [
    "**Задание 17. Выведите на экран перечень уникальных целей взятия кредита из столбца `purpose`.**"
   ]
  },
  {
   "cell_type": "code",
   "execution_count": 62,
   "id": "88952a2f",
   "metadata": {
    "id": "f67ce9b3"
   },
   "outputs": [
    {
     "data": {
      "text/plain": [
       "array(['покупка жилья', 'приобретение автомобиля',\n",
       "       'дополнительное образование', 'сыграть свадьбу',\n",
       "       'операции с жильем', 'образование', 'на проведение свадьбы',\n",
       "       'покупка жилья для семьи', 'покупка недвижимости',\n",
       "       'покупка коммерческой недвижимости', 'покупка жилой недвижимости',\n",
       "       'строительство собственной недвижимости', 'недвижимость',\n",
       "       'строительство недвижимости', 'на покупку подержанного автомобиля',\n",
       "       'на покупку своего автомобиля',\n",
       "       'операции с коммерческой недвижимостью',\n",
       "       'строительство жилой недвижимости', 'жилье',\n",
       "       'операции со своей недвижимостью', 'автомобили',\n",
       "       'заняться образованием', 'сделка с подержанным автомобилем',\n",
       "       'получение образования', 'автомобиль', 'свадьба',\n",
       "       'получение дополнительного образования', 'покупка своего жилья',\n",
       "       'операции с недвижимостью', 'получение высшего образования',\n",
       "       'свой автомобиль', 'сделка с автомобилем',\n",
       "       'профильное образование', 'высшее образование',\n",
       "       'покупка жилья для сдачи', 'на покупку автомобиля', 'ремонт жилью',\n",
       "       'заняться высшим образованием'], dtype=object)"
      ]
     },
     "execution_count": 62,
     "metadata": {},
     "output_type": "execute_result"
    }
   ],
   "source": [
    "# ваш код здесь\n",
    "data['purpose'].unique()"
   ]
  },
  {
   "cell_type": "markdown",
   "id": "e704b92c",
   "metadata": {
    "deletable": false,
    "editable": false,
    "id": "85d0aef0",
    "tags": [
     "start_task"
    ]
   },
   "source": [
    "**Задание 18. Создайте функцию, которая на основании данных из столбца `purpose` сформирует новый столбец `purpose_category`, в который войдут следующие категории:**\n",
    "\n",
    "- `'операции с автомобилем'`,\n",
    "- `'операции с недвижимостью'`,\n",
    "- `'проведение свадьбы'`,\n",
    "- `'получение образования'`.\n",
    "\n",
    "**Например, если в столбце `purpose` находится подстрока `'на покупку автомобиля'`, то в столбце `purpose_category` должна появиться строка `'операции с автомобилем'`.**\n",
    "\n",
    "**Используйте собственную функцию с именем `categorize_purpose()` и метод `apply()`. Изучите данные в столбце `purpose` и определите, какие подстроки помогут вам правильно определить категорию.**"
   ]
  },
  {
   "cell_type": "code",
   "execution_count": 63,
   "id": "cb13ec2b",
   "metadata": {
    "id": "e149fab4"
   },
   "outputs": [],
   "source": [
    "# создайте функцию categorize_purpose()\n",
    "def categorize_purpose(row):\n",
    "    purpose = row\n",
    "    if 'автомоб' in row:\n",
    "        return 'операции с автомобилем'\n",
    "    elif ('жил' in row) or ('недвижим' in row):\n",
    "        return 'операции с недвижимостью'\n",
    "    elif 'свадьб' in row:\n",
    "        return 'проведение свадьбы'\n",
    "    elif 'образов' in row:\n",
    "        return 'получение образования'\n",
    "data['purpose_category'] = data['purpose'].apply(categorize_purpose)"
   ]
  },
  {
   "cell_type": "markdown",
   "id": "776c03b0",
   "metadata": {
    "id": "bf36e69b"
   },
   "source": [
    "# примените функцию методом apply()"
   ]
  }
 ],
 "metadata": {
  "ExecuteTimeLog": [
   {
    "duration": 402,
    "start_time": "2022-07-12T21:50:52.701Z"
   },
   {
    "duration": 117,
    "start_time": "2022-07-12T21:51:55.099Z"
   },
   {
    "duration": 11,
    "start_time": "2022-07-12T21:52:25.891Z"
   },
   {
    "duration": 19,
    "start_time": "2022-07-12T21:53:06.572Z"
   },
   {
    "duration": 16,
    "start_time": "2022-07-12T21:53:28.120Z"
   },
   {
    "duration": 42,
    "start_time": "2022-07-12T22:00:02.504Z"
   },
   {
    "duration": 10,
    "start_time": "2022-07-12T22:10:11.838Z"
   },
   {
    "duration": 72,
    "start_time": "2022-07-12T22:30:49.335Z"
   },
   {
    "duration": 10,
    "start_time": "2022-07-12T22:32:02.140Z"
   },
   {
    "duration": 11,
    "start_time": "2022-07-12T22:33:06.236Z"
   },
   {
    "duration": 10,
    "start_time": "2022-07-12T22:34:42.986Z"
   },
   {
    "duration": 12,
    "start_time": "2022-07-12T22:35:18.600Z"
   },
   {
    "duration": 12,
    "start_time": "2022-07-12T22:35:41.772Z"
   },
   {
    "duration": 27,
    "start_time": "2022-07-12T22:35:52.564Z"
   },
   {
    "duration": 25,
    "start_time": "2022-07-12T22:35:55.837Z"
   },
   {
    "duration": 34,
    "start_time": "2022-07-12T22:36:18.300Z"
   },
   {
    "duration": 28,
    "start_time": "2022-07-12T22:38:58.214Z"
   },
   {
    "duration": 22,
    "start_time": "2022-07-12T22:39:14.945Z"
   },
   {
    "duration": 4,
    "start_time": "2022-07-12T22:41:31.065Z"
   },
   {
    "duration": 12,
    "start_time": "2022-07-12T22:41:43.735Z"
   },
   {
    "duration": 4,
    "start_time": "2022-07-12T22:42:05.959Z"
   },
   {
    "duration": 17,
    "start_time": "2022-07-12T22:45:42.574Z"
   },
   {
    "duration": 3,
    "start_time": "2022-07-12T22:48:23.760Z"
   },
   {
    "duration": 60,
    "start_time": "2022-07-12T22:48:24.473Z"
   },
   {
    "duration": 9,
    "start_time": "2022-07-12T22:48:28.599Z"
   },
   {
    "duration": 22,
    "start_time": "2022-07-12T22:48:31.475Z"
   },
   {
    "duration": 11,
    "start_time": "2022-07-12T22:48:36.382Z"
   },
   {
    "duration": 22,
    "start_time": "2022-07-12T22:48:38.385Z"
   },
   {
    "duration": 3,
    "start_time": "2022-07-12T22:48:41.525Z"
   },
   {
    "duration": 20,
    "start_time": "2022-07-12T22:48:43.445Z"
   },
   {
    "duration": 447,
    "start_time": "2022-07-12T22:51:57.956Z"
   },
   {
    "duration": 67,
    "start_time": "2022-07-12T22:51:58.405Z"
   },
   {
    "duration": 12,
    "start_time": "2022-07-12T22:51:58.474Z"
   },
   {
    "duration": 19,
    "start_time": "2022-07-12T22:51:58.488Z"
   },
   {
    "duration": 10,
    "start_time": "2022-07-12T22:51:58.509Z"
   },
   {
    "duration": 46,
    "start_time": "2022-07-12T22:51:58.521Z"
   },
   {
    "duration": 3,
    "start_time": "2022-07-12T22:51:58.569Z"
   },
   {
    "duration": 18,
    "start_time": "2022-07-12T22:51:58.574Z"
   },
   {
    "duration": 3,
    "start_time": "2022-07-12T22:51:58.593Z"
   },
   {
    "duration": 6,
    "start_time": "2022-07-12T22:51:58.599Z"
   },
   {
    "duration": 6,
    "start_time": "2022-07-12T22:51:58.606Z"
   },
   {
    "duration": 5,
    "start_time": "2022-07-12T22:51:58.614Z"
   },
   {
    "duration": 25,
    "start_time": "2022-07-12T22:51:58.621Z"
   },
   {
    "duration": 3,
    "start_time": "2022-07-12T22:51:58.649Z"
   },
   {
    "duration": 7,
    "start_time": "2022-07-12T22:51:58.654Z"
   },
   {
    "duration": 5,
    "start_time": "2022-07-12T22:51:58.663Z"
   },
   {
    "duration": 7,
    "start_time": "2022-07-12T22:51:58.669Z"
   },
   {
    "duration": 5,
    "start_time": "2022-07-12T22:51:58.678Z"
   },
   {
    "duration": 7,
    "start_time": "2022-07-12T22:51:58.685Z"
   },
   {
    "duration": 6,
    "start_time": "2022-07-12T22:51:58.693Z"
   },
   {
    "duration": 5,
    "start_time": "2022-07-12T22:51:58.701Z"
   },
   {
    "duration": 13,
    "start_time": "2022-07-12T22:51:58.708Z"
   },
   {
    "duration": 13,
    "start_time": "2022-07-12T22:52:15.562Z"
   },
   {
    "duration": 13,
    "start_time": "2022-07-12T22:53:52.809Z"
   },
   {
    "duration": 3,
    "start_time": "2022-07-12T22:54:11.759Z"
   },
   {
    "duration": 5,
    "start_time": "2022-07-12T22:54:34.265Z"
   },
   {
    "duration": 64,
    "start_time": "2022-07-12T22:55:07.623Z"
   },
   {
    "duration": 9,
    "start_time": "2022-07-12T22:55:15.500Z"
   },
   {
    "duration": 7,
    "start_time": "2022-07-12T22:55:54.592Z"
   },
   {
    "duration": 374,
    "start_time": "2022-07-12T22:56:04.392Z"
   },
   {
    "duration": 65,
    "start_time": "2022-07-12T22:56:04.768Z"
   },
   {
    "duration": 11,
    "start_time": "2022-07-12T22:56:04.834Z"
   },
   {
    "duration": 16,
    "start_time": "2022-07-12T22:56:04.848Z"
   },
   {
    "duration": 9,
    "start_time": "2022-07-12T22:56:04.867Z"
   },
   {
    "duration": 23,
    "start_time": "2022-07-12T22:56:04.878Z"
   },
   {
    "duration": 4,
    "start_time": "2022-07-12T22:56:04.902Z"
   },
   {
    "duration": 46,
    "start_time": "2022-07-12T22:56:04.907Z"
   },
   {
    "duration": 4,
    "start_time": "2022-07-12T22:56:04.956Z"
   },
   {
    "duration": 5,
    "start_time": "2022-07-12T22:56:04.962Z"
   },
   {
    "duration": 6,
    "start_time": "2022-07-12T22:56:04.968Z"
   },
   {
    "duration": 4,
    "start_time": "2022-07-12T22:56:04.976Z"
   },
   {
    "duration": 4,
    "start_time": "2022-07-12T22:56:04.982Z"
   },
   {
    "duration": 8,
    "start_time": "2022-07-12T22:56:04.988Z"
   },
   {
    "duration": 5,
    "start_time": "2022-07-12T22:56:04.998Z"
   },
   {
    "duration": 6,
    "start_time": "2022-07-12T22:56:05.005Z"
   },
   {
    "duration": 6,
    "start_time": "2022-07-12T22:56:05.013Z"
   },
   {
    "duration": 6,
    "start_time": "2022-07-12T22:56:05.021Z"
   },
   {
    "duration": 2,
    "start_time": "2022-07-12T22:56:05.046Z"
   },
   {
    "duration": 6,
    "start_time": "2022-07-12T22:56:05.050Z"
   },
   {
    "duration": 6,
    "start_time": "2022-07-12T22:56:05.057Z"
   },
   {
    "duration": 5,
    "start_time": "2022-07-12T22:56:05.064Z"
   },
   {
    "duration": 64,
    "start_time": "2022-07-12T23:02:38.472Z"
   },
   {
    "duration": 8,
    "start_time": "2022-07-12T23:03:24.880Z"
   },
   {
    "duration": 445,
    "start_time": "2022-07-12T23:03:38.062Z"
   },
   {
    "duration": 67,
    "start_time": "2022-07-12T23:03:38.509Z"
   },
   {
    "duration": 11,
    "start_time": "2022-07-12T23:03:38.578Z"
   },
   {
    "duration": 19,
    "start_time": "2022-07-12T23:03:38.591Z"
   },
   {
    "duration": 10,
    "start_time": "2022-07-12T23:03:38.612Z"
   },
   {
    "duration": 42,
    "start_time": "2022-07-12T23:03:38.624Z"
   },
   {
    "duration": 3,
    "start_time": "2022-07-12T23:03:38.668Z"
   },
   {
    "duration": 16,
    "start_time": "2022-07-12T23:03:38.673Z"
   },
   {
    "duration": 5,
    "start_time": "2022-07-12T23:03:38.690Z"
   },
   {
    "duration": 85,
    "start_time": "2022-07-12T23:03:38.697Z"
   },
   {
    "duration": 0,
    "start_time": "2022-07-12T23:03:38.785Z"
   },
   {
    "duration": 0,
    "start_time": "2022-07-12T23:03:38.786Z"
   },
   {
    "duration": 0,
    "start_time": "2022-07-12T23:03:38.790Z"
   },
   {
    "duration": 0,
    "start_time": "2022-07-12T23:03:38.792Z"
   },
   {
    "duration": 0,
    "start_time": "2022-07-12T23:03:38.794Z"
   },
   {
    "duration": 0,
    "start_time": "2022-07-12T23:03:38.796Z"
   },
   {
    "duration": 0,
    "start_time": "2022-07-12T23:03:38.797Z"
   },
   {
    "duration": 0,
    "start_time": "2022-07-12T23:03:38.799Z"
   },
   {
    "duration": 0,
    "start_time": "2022-07-12T23:03:38.800Z"
   },
   {
    "duration": 1,
    "start_time": "2022-07-12T23:03:38.801Z"
   },
   {
    "duration": 0,
    "start_time": "2022-07-12T23:03:38.803Z"
   },
   {
    "duration": 0,
    "start_time": "2022-07-12T23:03:38.806Z"
   },
   {
    "duration": 7,
    "start_time": "2022-07-12T23:03:45.842Z"
   },
   {
    "duration": 92,
    "start_time": "2022-07-12T23:05:43.910Z"
   },
   {
    "duration": 17,
    "start_time": "2022-07-12T23:05:52.564Z"
   },
   {
    "duration": 6,
    "start_time": "2022-07-12T23:06:25.462Z"
   },
   {
    "duration": 4,
    "start_time": "2022-07-12T23:06:56.917Z"
   },
   {
    "duration": 9,
    "start_time": "2022-07-12T23:17:38.020Z"
   },
   {
    "duration": 391,
    "start_time": "2022-07-12T23:19:47.663Z"
   },
   {
    "duration": 61,
    "start_time": "2022-07-12T23:19:48.056Z"
   },
   {
    "duration": 10,
    "start_time": "2022-07-12T23:19:48.118Z"
   },
   {
    "duration": 18,
    "start_time": "2022-07-12T23:19:48.130Z"
   },
   {
    "duration": 7,
    "start_time": "2022-07-12T23:19:48.151Z"
   },
   {
    "duration": 26,
    "start_time": "2022-07-12T23:19:48.160Z"
   },
   {
    "duration": 3,
    "start_time": "2022-07-12T23:19:48.188Z"
   },
   {
    "duration": 24,
    "start_time": "2022-07-12T23:19:48.193Z"
   },
   {
    "duration": 3,
    "start_time": "2022-07-12T23:19:48.219Z"
   },
   {
    "duration": 23,
    "start_time": "2022-07-12T23:19:48.224Z"
   },
   {
    "duration": 5,
    "start_time": "2022-07-12T23:19:48.248Z"
   },
   {
    "duration": 64,
    "start_time": "2022-07-12T23:19:48.255Z"
   },
   {
    "duration": 0,
    "start_time": "2022-07-12T23:19:48.321Z"
   },
   {
    "duration": 0,
    "start_time": "2022-07-12T23:19:48.323Z"
   },
   {
    "duration": 0,
    "start_time": "2022-07-12T23:19:48.325Z"
   },
   {
    "duration": 0,
    "start_time": "2022-07-12T23:19:48.326Z"
   },
   {
    "duration": 0,
    "start_time": "2022-07-12T23:19:48.346Z"
   },
   {
    "duration": 0,
    "start_time": "2022-07-12T23:19:48.347Z"
   },
   {
    "duration": 0,
    "start_time": "2022-07-12T23:19:48.348Z"
   },
   {
    "duration": 0,
    "start_time": "2022-07-12T23:19:48.350Z"
   },
   {
    "duration": 0,
    "start_time": "2022-07-12T23:19:48.350Z"
   },
   {
    "duration": 1,
    "start_time": "2022-07-12T23:19:48.351Z"
   },
   {
    "duration": 8,
    "start_time": "2022-07-12T23:21:37.937Z"
   },
   {
    "duration": 21,
    "start_time": "2022-07-12T23:30:04.098Z"
   },
   {
    "duration": 31,
    "start_time": "2022-07-12T23:30:38.261Z"
   },
   {
    "duration": 68,
    "start_time": "2022-07-14T20:21:26.843Z"
   },
   {
    "duration": 9,
    "start_time": "2022-07-14T20:22:26.257Z"
   },
   {
    "duration": 6,
    "start_time": "2022-07-14T20:22:40.300Z"
   },
   {
    "duration": 422,
    "start_time": "2022-07-14T20:23:12.359Z"
   },
   {
    "duration": 670,
    "start_time": "2022-07-14T20:23:12.783Z"
   },
   {
    "duration": 10,
    "start_time": "2022-07-14T20:23:13.454Z"
   },
   {
    "duration": 15,
    "start_time": "2022-07-14T20:23:13.466Z"
   },
   {
    "duration": 8,
    "start_time": "2022-07-14T20:23:13.483Z"
   },
   {
    "duration": 21,
    "start_time": "2022-07-14T20:23:13.493Z"
   },
   {
    "duration": 4,
    "start_time": "2022-07-14T20:23:13.516Z"
   },
   {
    "duration": 15,
    "start_time": "2022-07-14T20:23:13.521Z"
   },
   {
    "duration": 26,
    "start_time": "2022-07-14T20:23:13.537Z"
   },
   {
    "duration": 11,
    "start_time": "2022-07-14T20:23:13.566Z"
   },
   {
    "duration": 4,
    "start_time": "2022-07-14T20:23:13.579Z"
   },
   {
    "duration": 23,
    "start_time": "2022-07-14T20:23:13.584Z"
   },
   {
    "duration": 3,
    "start_time": "2022-07-14T20:23:13.608Z"
   },
   {
    "duration": 8,
    "start_time": "2022-07-14T20:23:13.612Z"
   },
   {
    "duration": 5,
    "start_time": "2022-07-14T20:23:13.622Z"
   },
   {
    "duration": 7,
    "start_time": "2022-07-14T20:23:13.629Z"
   },
   {
    "duration": 24,
    "start_time": "2022-07-14T20:23:13.637Z"
   },
   {
    "duration": 3,
    "start_time": "2022-07-14T20:23:13.662Z"
   },
   {
    "duration": 8,
    "start_time": "2022-07-14T20:23:13.666Z"
   },
   {
    "duration": 9,
    "start_time": "2022-07-14T20:23:13.675Z"
   },
   {
    "duration": 5,
    "start_time": "2022-07-14T20:23:13.686Z"
   },
   {
    "duration": 24,
    "start_time": "2022-07-14T20:29:50.803Z"
   },
   {
    "duration": 9,
    "start_time": "2022-07-14T20:31:02.772Z"
   },
   {
    "duration": 4,
    "start_time": "2022-07-14T20:36:53.637Z"
   },
   {
    "duration": 28,
    "start_time": "2022-07-16T07:52:35.029Z"
   },
   {
    "duration": 30,
    "start_time": "2022-07-16T07:58:51.922Z"
   },
   {
    "duration": 849,
    "start_time": "2022-07-16T07:59:28.280Z"
   },
   {
    "duration": 61,
    "start_time": "2022-07-16T08:03:13.620Z"
   },
   {
    "duration": 50,
    "start_time": "2022-07-16T08:03:24.575Z"
   },
   {
    "duration": 9,
    "start_time": "2022-07-16T08:03:36.585Z"
   },
   {
    "duration": 9,
    "start_time": "2022-07-16T08:14:27.335Z"
   },
   {
    "duration": 9,
    "start_time": "2022-07-16T08:14:37.876Z"
   },
   {
    "duration": 8,
    "start_time": "2022-07-16T08:15:22.306Z"
   },
   {
    "duration": 9,
    "start_time": "2022-07-16T08:16:32.934Z"
   },
   {
    "duration": 11,
    "start_time": "2022-07-16T08:21:20.073Z"
   },
   {
    "duration": 15,
    "start_time": "2022-07-16T08:25:26.346Z"
   },
   {
    "duration": 368,
    "start_time": "2022-07-16T08:25:33.336Z"
   },
   {
    "duration": 78,
    "start_time": "2022-07-16T08:25:33.706Z"
   },
   {
    "duration": 10,
    "start_time": "2022-07-16T08:25:33.786Z"
   },
   {
    "duration": 26,
    "start_time": "2022-07-16T08:25:33.797Z"
   },
   {
    "duration": 13,
    "start_time": "2022-07-16T08:25:33.825Z"
   },
   {
    "duration": 75,
    "start_time": "2022-07-16T08:25:33.839Z"
   },
   {
    "duration": 0,
    "start_time": "2022-07-16T08:25:33.916Z"
   },
   {
    "duration": 0,
    "start_time": "2022-07-16T08:25:33.917Z"
   },
   {
    "duration": 0,
    "start_time": "2022-07-16T08:25:33.919Z"
   },
   {
    "duration": 0,
    "start_time": "2022-07-16T08:25:33.920Z"
   },
   {
    "duration": 0,
    "start_time": "2022-07-16T08:25:33.921Z"
   },
   {
    "duration": 0,
    "start_time": "2022-07-16T08:25:33.921Z"
   },
   {
    "duration": 0,
    "start_time": "2022-07-16T08:25:33.923Z"
   },
   {
    "duration": 0,
    "start_time": "2022-07-16T08:25:33.924Z"
   },
   {
    "duration": 0,
    "start_time": "2022-07-16T08:25:33.925Z"
   },
   {
    "duration": 0,
    "start_time": "2022-07-16T08:25:33.926Z"
   },
   {
    "duration": 0,
    "start_time": "2022-07-16T08:25:33.928Z"
   },
   {
    "duration": 0,
    "start_time": "2022-07-16T08:25:33.929Z"
   },
   {
    "duration": 0,
    "start_time": "2022-07-16T08:25:33.930Z"
   },
   {
    "duration": 0,
    "start_time": "2022-07-16T08:25:33.931Z"
   },
   {
    "duration": 0,
    "start_time": "2022-07-16T08:25:33.933Z"
   },
   {
    "duration": 10,
    "start_time": "2022-07-16T08:26:07.628Z"
   },
   {
    "duration": 11,
    "start_time": "2022-07-16T08:30:04.195Z"
   },
   {
    "duration": 414,
    "start_time": "2022-07-16T08:30:09.250Z"
   },
   {
    "duration": 71,
    "start_time": "2022-07-16T08:30:09.666Z"
   },
   {
    "duration": 11,
    "start_time": "2022-07-16T08:30:09.738Z"
   },
   {
    "duration": 19,
    "start_time": "2022-07-16T08:30:09.750Z"
   },
   {
    "duration": 9,
    "start_time": "2022-07-16T08:30:09.771Z"
   },
   {
    "duration": 67,
    "start_time": "2022-07-16T08:30:09.782Z"
   },
   {
    "duration": 0,
    "start_time": "2022-07-16T08:30:09.851Z"
   },
   {
    "duration": 0,
    "start_time": "2022-07-16T08:30:09.863Z"
   },
   {
    "duration": 0,
    "start_time": "2022-07-16T08:30:09.865Z"
   },
   {
    "duration": 0,
    "start_time": "2022-07-16T08:30:09.866Z"
   },
   {
    "duration": 0,
    "start_time": "2022-07-16T08:30:09.867Z"
   },
   {
    "duration": 0,
    "start_time": "2022-07-16T08:30:09.868Z"
   },
   {
    "duration": 0,
    "start_time": "2022-07-16T08:30:09.869Z"
   },
   {
    "duration": 0,
    "start_time": "2022-07-16T08:30:09.870Z"
   },
   {
    "duration": 0,
    "start_time": "2022-07-16T08:30:09.871Z"
   },
   {
    "duration": 0,
    "start_time": "2022-07-16T08:30:09.872Z"
   },
   {
    "duration": 0,
    "start_time": "2022-07-16T08:30:09.873Z"
   },
   {
    "duration": 0,
    "start_time": "2022-07-16T08:30:09.874Z"
   },
   {
    "duration": 0,
    "start_time": "2022-07-16T08:30:09.875Z"
   },
   {
    "duration": 0,
    "start_time": "2022-07-16T08:30:09.876Z"
   },
   {
    "duration": 0,
    "start_time": "2022-07-16T08:30:09.877Z"
   },
   {
    "duration": 4,
    "start_time": "2022-07-16T08:31:32.562Z"
   },
   {
    "duration": 11,
    "start_time": "2022-07-16T08:31:36.085Z"
   },
   {
    "duration": 4,
    "start_time": "2022-07-16T08:31:58.444Z"
   },
   {
    "duration": 9,
    "start_time": "2022-07-16T08:31:59.999Z"
   },
   {
    "duration": 15,
    "start_time": "2022-07-16T08:34:24.954Z"
   },
   {
    "duration": 6,
    "start_time": "2022-07-16T08:39:07.448Z"
   },
   {
    "duration": 4,
    "start_time": "2022-07-16T08:39:12.715Z"
   },
   {
    "duration": 11,
    "start_time": "2022-07-16T08:41:00.445Z"
   },
   {
    "duration": 11,
    "start_time": "2022-07-16T08:43:36.049Z"
   },
   {
    "duration": 10,
    "start_time": "2022-07-16T08:43:49.720Z"
   },
   {
    "duration": 11,
    "start_time": "2022-07-16T08:48:02.461Z"
   },
   {
    "duration": 9,
    "start_time": "2022-07-16T08:48:09.266Z"
   },
   {
    "duration": 431,
    "start_time": "2022-07-16T08:57:43.936Z"
   },
   {
    "duration": 75,
    "start_time": "2022-07-16T08:57:44.369Z"
   },
   {
    "duration": 10,
    "start_time": "2022-07-16T08:57:44.446Z"
   },
   {
    "duration": 21,
    "start_time": "2022-07-16T08:57:44.459Z"
   },
   {
    "duration": 12,
    "start_time": "2022-07-16T08:57:44.482Z"
   },
   {
    "duration": 76,
    "start_time": "2022-07-16T08:57:44.496Z"
   },
   {
    "duration": 0,
    "start_time": "2022-07-16T08:57:44.575Z"
   },
   {
    "duration": 0,
    "start_time": "2022-07-16T08:57:44.576Z"
   },
   {
    "duration": 0,
    "start_time": "2022-07-16T08:57:44.577Z"
   },
   {
    "duration": 0,
    "start_time": "2022-07-16T08:57:44.579Z"
   },
   {
    "duration": 0,
    "start_time": "2022-07-16T08:57:44.580Z"
   },
   {
    "duration": 0,
    "start_time": "2022-07-16T08:57:44.581Z"
   },
   {
    "duration": 0,
    "start_time": "2022-07-16T08:57:44.582Z"
   },
   {
    "duration": 0,
    "start_time": "2022-07-16T08:57:44.583Z"
   },
   {
    "duration": 0,
    "start_time": "2022-07-16T08:57:44.584Z"
   },
   {
    "duration": 0,
    "start_time": "2022-07-16T08:57:44.586Z"
   },
   {
    "duration": 0,
    "start_time": "2022-07-16T08:57:44.587Z"
   },
   {
    "duration": 0,
    "start_time": "2022-07-16T08:57:44.588Z"
   },
   {
    "duration": 0,
    "start_time": "2022-07-16T08:57:44.589Z"
   },
   {
    "duration": 0,
    "start_time": "2022-07-16T08:57:44.590Z"
   },
   {
    "duration": 0,
    "start_time": "2022-07-16T08:57:44.592Z"
   },
   {
    "duration": 13,
    "start_time": "2022-07-16T09:00:24.686Z"
   },
   {
    "duration": 4,
    "start_time": "2022-07-16T09:00:26.794Z"
   },
   {
    "duration": 13,
    "start_time": "2022-07-16T09:00:27.604Z"
   },
   {
    "duration": 4,
    "start_time": "2022-07-16T09:00:28.934Z"
   },
   {
    "duration": 6,
    "start_time": "2022-07-16T09:00:30.827Z"
   },
   {
    "duration": 5,
    "start_time": "2022-07-16T09:00:32.276Z"
   },
   {
    "duration": 14,
    "start_time": "2022-07-16T09:00:34.238Z"
   },
   {
    "duration": 90,
    "start_time": "2022-07-16T09:02:55.770Z"
   },
   {
    "duration": 26,
    "start_time": "2022-07-16T09:03:09.533Z"
   },
   {
    "duration": 6,
    "start_time": "2022-07-16T09:04:36.071Z"
   },
   {
    "duration": 17,
    "start_time": "2022-07-16T09:05:58.992Z"
   },
   {
    "duration": 7,
    "start_time": "2022-07-16T09:06:50.331Z"
   },
   {
    "duration": 7,
    "start_time": "2022-07-16T09:07:28.141Z"
   },
   {
    "duration": 19,
    "start_time": "2022-07-16T09:07:42.076Z"
   },
   {
    "duration": 381,
    "start_time": "2022-07-16T09:07:51.091Z"
   },
   {
    "duration": 76,
    "start_time": "2022-07-16T09:07:51.473Z"
   },
   {
    "duration": 10,
    "start_time": "2022-07-16T09:07:51.551Z"
   },
   {
    "duration": 18,
    "start_time": "2022-07-16T09:07:51.563Z"
   },
   {
    "duration": 15,
    "start_time": "2022-07-16T09:07:51.583Z"
   },
   {
    "duration": 74,
    "start_time": "2022-07-16T09:07:51.599Z"
   },
   {
    "duration": 0,
    "start_time": "2022-07-16T09:07:51.675Z"
   },
   {
    "duration": 0,
    "start_time": "2022-07-16T09:07:51.676Z"
   },
   {
    "duration": 0,
    "start_time": "2022-07-16T09:07:51.677Z"
   },
   {
    "duration": 0,
    "start_time": "2022-07-16T09:07:51.678Z"
   },
   {
    "duration": 0,
    "start_time": "2022-07-16T09:07:51.679Z"
   },
   {
    "duration": 0,
    "start_time": "2022-07-16T09:07:51.680Z"
   },
   {
    "duration": 0,
    "start_time": "2022-07-16T09:07:51.681Z"
   },
   {
    "duration": 0,
    "start_time": "2022-07-16T09:07:51.682Z"
   },
   {
    "duration": 0,
    "start_time": "2022-07-16T09:07:51.683Z"
   },
   {
    "duration": 0,
    "start_time": "2022-07-16T09:07:51.683Z"
   },
   {
    "duration": 0,
    "start_time": "2022-07-16T09:07:51.684Z"
   },
   {
    "duration": 0,
    "start_time": "2022-07-16T09:07:51.686Z"
   },
   {
    "duration": 0,
    "start_time": "2022-07-16T09:07:51.688Z"
   },
   {
    "duration": 0,
    "start_time": "2022-07-16T09:07:51.689Z"
   },
   {
    "duration": 0,
    "start_time": "2022-07-16T09:07:51.690Z"
   },
   {
    "duration": 15,
    "start_time": "2022-07-16T09:08:04.179Z"
   },
   {
    "duration": 3,
    "start_time": "2022-07-16T09:08:05.824Z"
   },
   {
    "duration": 12,
    "start_time": "2022-07-16T09:08:06.601Z"
   },
   {
    "duration": 4,
    "start_time": "2022-07-16T09:08:07.876Z"
   },
   {
    "duration": 6,
    "start_time": "2022-07-16T09:08:08.550Z"
   },
   {
    "duration": 4,
    "start_time": "2022-07-16T09:08:09.499Z"
   },
   {
    "duration": 23,
    "start_time": "2022-07-16T09:08:10.848Z"
   },
   {
    "duration": 9,
    "start_time": "2022-07-16T09:08:23.425Z"
   },
   {
    "duration": 15,
    "start_time": "2022-07-16T09:08:37.080Z"
   },
   {
    "duration": 24,
    "start_time": "2022-07-16T09:08:39.054Z"
   },
   {
    "duration": 18,
    "start_time": "2022-07-16T09:08:39.512Z"
   },
   {
    "duration": 832,
    "start_time": "2022-07-16T10:23:27.524Z"
   },
   {
    "duration": 375,
    "start_time": "2022-07-16T10:23:35.423Z"
   },
   {
    "duration": 76,
    "start_time": "2022-07-16T10:23:35.800Z"
   },
   {
    "duration": 9,
    "start_time": "2022-07-16T10:23:35.877Z"
   },
   {
    "duration": 17,
    "start_time": "2022-07-16T10:23:35.888Z"
   },
   {
    "duration": 8,
    "start_time": "2022-07-16T10:23:35.906Z"
   },
   {
    "duration": 803,
    "start_time": "2022-07-16T10:23:35.916Z"
   },
   {
    "duration": 0,
    "start_time": "2022-07-16T10:23:36.723Z"
   },
   {
    "duration": 0,
    "start_time": "2022-07-16T10:23:36.725Z"
   },
   {
    "duration": 0,
    "start_time": "2022-07-16T10:23:36.726Z"
   },
   {
    "duration": 0,
    "start_time": "2022-07-16T10:23:36.727Z"
   },
   {
    "duration": 0,
    "start_time": "2022-07-16T10:23:36.729Z"
   },
   {
    "duration": 0,
    "start_time": "2022-07-16T10:23:36.730Z"
   },
   {
    "duration": 0,
    "start_time": "2022-07-16T10:23:36.732Z"
   },
   {
    "duration": 0,
    "start_time": "2022-07-16T10:23:36.733Z"
   },
   {
    "duration": 0,
    "start_time": "2022-07-16T10:23:36.734Z"
   },
   {
    "duration": 0,
    "start_time": "2022-07-16T10:23:36.736Z"
   },
   {
    "duration": 0,
    "start_time": "2022-07-16T10:23:36.737Z"
   },
   {
    "duration": 0,
    "start_time": "2022-07-16T10:23:36.738Z"
   },
   {
    "duration": 0,
    "start_time": "2022-07-16T10:23:36.739Z"
   },
   {
    "duration": 0,
    "start_time": "2022-07-16T10:23:36.740Z"
   },
   {
    "duration": 0,
    "start_time": "2022-07-16T10:23:36.741Z"
   },
   {
    "duration": 22,
    "start_time": "2022-07-16T10:23:54.558Z"
   },
   {
    "duration": 415,
    "start_time": "2022-07-16T10:24:00.471Z"
   },
   {
    "duration": 89,
    "start_time": "2022-07-16T10:24:00.888Z"
   },
   {
    "duration": 11,
    "start_time": "2022-07-16T10:24:00.978Z"
   },
   {
    "duration": 14,
    "start_time": "2022-07-16T10:24:00.991Z"
   },
   {
    "duration": 9,
    "start_time": "2022-07-16T10:24:01.007Z"
   },
   {
    "duration": 39,
    "start_time": "2022-07-16T10:24:01.018Z"
   },
   {
    "duration": 3,
    "start_time": "2022-07-16T10:24:01.063Z"
   },
   {
    "duration": 37,
    "start_time": "2022-07-16T10:24:01.067Z"
   },
   {
    "duration": 18,
    "start_time": "2022-07-16T10:24:01.106Z"
   },
   {
    "duration": 46,
    "start_time": "2022-07-16T10:24:01.127Z"
   },
   {
    "duration": 22,
    "start_time": "2022-07-16T10:24:01.174Z"
   },
   {
    "duration": 42,
    "start_time": "2022-07-16T10:24:01.197Z"
   },
   {
    "duration": 24,
    "start_time": "2022-07-16T10:24:01.241Z"
   },
   {
    "duration": 33,
    "start_time": "2022-07-16T10:24:01.266Z"
   },
   {
    "duration": 66,
    "start_time": "2022-07-16T10:24:01.301Z"
   },
   {
    "duration": 39,
    "start_time": "2022-07-16T10:24:01.369Z"
   },
   {
    "duration": 21,
    "start_time": "2022-07-16T10:24:01.410Z"
   },
   {
    "duration": 32,
    "start_time": "2022-07-16T10:24:01.433Z"
   },
   {
    "duration": 26,
    "start_time": "2022-07-16T10:24:01.467Z"
   },
   {
    "duration": 13,
    "start_time": "2022-07-16T10:24:01.495Z"
   },
   {
    "duration": 42,
    "start_time": "2022-07-16T10:24:01.509Z"
   },
   {
    "duration": 4,
    "start_time": "2022-07-16T10:28:57.508Z"
   },
   {
    "duration": 12,
    "start_time": "2022-07-16T10:29:14.312Z"
   },
   {
    "duration": 46,
    "start_time": "2022-07-16T10:41:22.719Z"
   },
   {
    "duration": 3,
    "start_time": "2022-07-16T10:41:33.085Z"
   },
   {
    "duration": 10,
    "start_time": "2022-07-16T10:42:33.530Z"
   },
   {
    "duration": 7,
    "start_time": "2022-07-16T10:43:50.367Z"
   },
   {
    "duration": 9,
    "start_time": "2022-07-16T10:47:20.821Z"
   },
   {
    "duration": 397,
    "start_time": "2023-11-05T14:38:13.717Z"
   },
   {
    "duration": 278,
    "start_time": "2023-11-05T14:38:14.116Z"
   },
   {
    "duration": 9,
    "start_time": "2023-11-05T14:38:14.395Z"
   },
   {
    "duration": 15,
    "start_time": "2023-11-05T14:38:14.405Z"
   },
   {
    "duration": 8,
    "start_time": "2023-11-05T14:38:14.421Z"
   },
   {
    "duration": 19,
    "start_time": "2023-11-05T14:38:14.430Z"
   },
   {
    "duration": 2,
    "start_time": "2023-11-05T14:38:14.451Z"
   },
   {
    "duration": 11,
    "start_time": "2023-11-05T14:38:14.455Z"
   },
   {
    "duration": 3,
    "start_time": "2023-11-05T14:38:14.468Z"
   },
   {
    "duration": 7,
    "start_time": "2023-11-05T14:38:14.472Z"
   },
   {
    "duration": 3,
    "start_time": "2023-11-05T14:38:14.480Z"
   },
   {
    "duration": 18,
    "start_time": "2023-11-05T14:38:14.484Z"
   },
   {
    "duration": 7,
    "start_time": "2023-11-05T14:38:14.504Z"
   },
   {
    "duration": 3,
    "start_time": "2023-11-05T14:38:14.539Z"
   },
   {
    "duration": 18,
    "start_time": "2023-11-05T14:38:14.543Z"
   },
   {
    "duration": 15,
    "start_time": "2023-11-05T14:38:14.562Z"
   },
   {
    "duration": 9,
    "start_time": "2023-11-05T14:38:14.578Z"
   },
   {
    "duration": 6,
    "start_time": "2023-11-05T14:38:14.589Z"
   },
   {
    "duration": 14,
    "start_time": "2023-11-05T14:38:14.596Z"
   },
   {
    "duration": 7,
    "start_time": "2023-11-05T14:38:14.611Z"
   },
   {
    "duration": 27,
    "start_time": "2023-11-05T14:38:14.619Z"
   },
   {
    "duration": 2,
    "start_time": "2023-11-05T14:38:23.982Z"
   },
   {
    "duration": 70,
    "start_time": "2023-11-05T14:38:23.985Z"
   },
   {
    "duration": 7,
    "start_time": "2023-11-05T14:38:24.056Z"
   },
   {
    "duration": 18,
    "start_time": "2023-11-05T14:38:24.064Z"
   },
   {
    "duration": 7,
    "start_time": "2023-11-05T14:38:24.084Z"
   },
   {
    "duration": 21,
    "start_time": "2023-11-05T14:38:24.092Z"
   },
   {
    "duration": 2,
    "start_time": "2023-11-05T14:38:24.114Z"
   },
   {
    "duration": 12,
    "start_time": "2023-11-05T14:38:24.118Z"
   },
   {
    "duration": 3,
    "start_time": "2023-11-05T14:38:24.140Z"
   },
   {
    "duration": 5,
    "start_time": "2023-11-05T14:38:24.144Z"
   },
   {
    "duration": 3,
    "start_time": "2023-11-05T14:38:24.150Z"
   },
   {
    "duration": 21,
    "start_time": "2023-11-05T14:38:24.154Z"
   },
   {
    "duration": 8,
    "start_time": "2023-11-05T14:38:24.176Z"
   },
   {
    "duration": 2,
    "start_time": "2023-11-05T14:38:24.186Z"
   },
   {
    "duration": 17,
    "start_time": "2023-11-05T14:38:24.189Z"
   },
   {
    "duration": 44,
    "start_time": "2023-11-05T14:38:24.207Z"
   },
   {
    "duration": 10,
    "start_time": "2023-11-05T14:38:24.252Z"
   },
   {
    "duration": 5,
    "start_time": "2023-11-05T14:38:24.263Z"
   },
   {
    "duration": 10,
    "start_time": "2023-11-05T14:38:24.269Z"
   },
   {
    "duration": 10,
    "start_time": "2023-11-05T14:38:24.280Z"
   },
   {
    "duration": 9,
    "start_time": "2023-11-05T14:38:24.292Z"
   },
   {
    "duration": 2,
    "start_time": "2023-11-05T15:25:04.556Z"
   },
   {
    "duration": 68,
    "start_time": "2023-11-05T15:25:04.560Z"
   },
   {
    "duration": 7,
    "start_time": "2023-11-05T15:25:04.630Z"
   },
   {
    "duration": 13,
    "start_time": "2023-11-05T15:25:04.638Z"
   },
   {
    "duration": 7,
    "start_time": "2023-11-05T15:25:04.653Z"
   },
   {
    "duration": 18,
    "start_time": "2023-11-05T15:25:04.662Z"
   },
   {
    "duration": 2,
    "start_time": "2023-11-05T15:25:04.682Z"
   },
   {
    "duration": 9,
    "start_time": "2023-11-05T15:25:04.685Z"
   },
   {
    "duration": 3,
    "start_time": "2023-11-05T15:25:04.695Z"
   },
   {
    "duration": 5,
    "start_time": "2023-11-05T15:25:04.699Z"
   },
   {
    "duration": 33,
    "start_time": "2023-11-05T15:25:04.706Z"
   },
   {
    "duration": 18,
    "start_time": "2023-11-05T15:25:04.741Z"
   },
   {
    "duration": 7,
    "start_time": "2023-11-05T15:25:04.761Z"
   },
   {
    "duration": 3,
    "start_time": "2023-11-05T15:25:04.769Z"
   },
   {
    "duration": 27,
    "start_time": "2023-11-05T15:25:04.773Z"
   },
   {
    "duration": 15,
    "start_time": "2023-11-05T15:25:04.801Z"
   },
   {
    "duration": 22,
    "start_time": "2023-11-05T15:25:04.817Z"
   },
   {
    "duration": 3,
    "start_time": "2023-11-05T15:25:04.841Z"
   },
   {
    "duration": 9,
    "start_time": "2023-11-05T15:25:04.845Z"
   },
   {
    "duration": 6,
    "start_time": "2023-11-05T15:25:04.855Z"
   },
   {
    "duration": 8,
    "start_time": "2023-11-05T15:25:04.863Z"
   }
  ],
  "colab": {
   "name": "dpp_template_part1.ipynb",
   "provenance": []
  },
  "kernelspec": {
   "display_name": "Python 3 (ipykernel)",
   "language": "python",
   "name": "python3"
  },
  "language_info": {
   "codemirror_mode": {
    "name": "ipython",
    "version": 3
   },
   "file_extension": ".py",
   "mimetype": "text/x-python",
   "name": "python",
   "nbconvert_exporter": "python",
   "pygments_lexer": "ipython3",
   "version": "3.9.5"
  },
  "toc": {
   "base_numbering": 1,
   "nav_menu": {},
   "number_sections": true,
   "sideBar": true,
   "skip_h1_title": true,
   "title_cell": "Table of Contents",
   "title_sidebar": "Contents",
   "toc_cell": false,
   "toc_position": {},
   "toc_section_display": true,
   "toc_window_display": false
  }
 },
 "nbformat": 4,
 "nbformat_minor": 5
}
